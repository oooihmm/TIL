{
 "cells": [
  {
   "attachments": {},
   "cell_type": "markdown",
   "metadata": {},
   "source": [
    "# TDD & TEST CASE"
   ]
  },
  {
   "attachments": {},
   "cell_type": "markdown",
   "metadata": {},
   "source": [
    "## 개요"
   ]
  },
  {
   "attachments": {},
   "cell_type": "markdown",
   "metadata": {},
   "source": [
    "TDD(Test Driven Development) : 테스트 주도적인 개발\n",
    "- 소스코드 작성 전에 테스트 코드를 먼저 작성\n",
    "- 파이썬은 동적 언어이기 땨문에 런타임 에러가 발생할 수 있음. \n",
    "</br> => 테스트를 통해 코드가 제대로 동작하는지를 체크할 수 있음!"
   ]
  },
  {
   "cell_type": "markdown",
   "metadata": {},
   "source": [
    "TDD의 장점\n",
    "- 높은 소스코드 품질\n",
    "    - 개발 시간은 15~35% 증가하지만 결함은 40~90% 감소하는 효과를 보임\n",
    "- 재설계 및 디버깅 시간의 절감\n",
    "- 퍼포먼스 체크 및 추가 대응에 용이\n",
    "- 문서화 대체"
   ]
  },
  {
   "attachments": {},
   "cell_type": "markdown",
   "metadata": {},
   "source": [
    "TDD의 단점\n",
    "- 단기적 코드 생산성 하락\n",
    "- 실제 코드보다 테스트 케이스의 유지보수 비용이 커질 수 있음"
   ]
  },
  {
   "attachments": {},
   "cell_type": "markdown",
   "metadata": {},
   "source": [
    "효율적인 TDD를 하기 위한 방법\n",
    "- 가볍고 쉬운 문제들을 TDD로 시도한다\n",
    "- 테스트의 단위를 작게 한다. 너무 큰 것을 테스트 하고 있다면 쪼갠다\n",
    "- 테스트를 하기 힘든 것은 레이어를 나누어 가능한 계층에 대해서 한다"
   ]
  },
  {
   "attachments": {},
   "cell_type": "markdown",
   "metadata": {},
   "source": [
    "TDD 싸이클\n",
    "1. 실패하는 작은 테스트를 작성한다. (빨강)\n",
    "2. 빨리 테스트가 통과하게끔 만든다. -> 과정보다는 결과를 중시 (초록)\n",
    "3. 테스트가 통과하는 과정에서 생겨난 문제를 해결하고 중복을 제거한다 (리펙토링)"
   ]
  },
  {
   "attachments": {},
   "cell_type": "markdown",
   "metadata": {},
   "source": [
    "Python에 사용할 수 있는 TDD 툴\n",
    "- unittest -> python에 기본적으로 내장되어 있는 모듈\n",
    "- nose\n",
    "- pytest\n",
    "- coverage"
   ]
  },
  {
   "attachments": {},
   "cell_type": "markdown",
   "metadata": {},
   "source": [
    "## Unittest"
   ]
  },
  {
   "attachments": {},
   "cell_type": "markdown",
   "metadata": {},
   "source": [
    "단위 테스트 : 모듈 또는 응용 프로그램 내의 개별 코드 단위가 예상대로 작동하는지 확인하는 반복 가능한 활동"
   ]
  },
  {
   "attachments": {},
   "cell_type": "markdown",
   "metadata": {},
   "source": [
    "**unittest** : Python에 포함된 다양한 테스트를 자동화 할 수 있는 기능이 포함되어 있는 표준 라이브러리"
   ]
  },
  {
   "attachments": {},
   "cell_type": "markdown",
   "metadata": {},
   "source": [
    "모듈 사용 방법\n",
    "1. 예제 코드를 작성한다\n",
    "2. test.py 파일을 만든다\n",
    "    - 파일 이름은 test_...py 또는 .._test.py로 짓는다\n",
    "    - 위와 같은 형식의 파일을 파이썬은 테스트용 파일이라고 해석한다.\n",
    "3. testcase 작성을 위해 unittest.TestCase를 상속한 테스트 클래스를 작성한다\n",
    "    - class class_name(unittest.TestCase)\n",
    "    - test_ 라는 이름으로 시작하는 메소드는 모두 테스트 메소드가 된다\n",
    "    - test_run() 메소드는 단순 실행 여부만 판별한다\n",
    "4. unittest.main() 코드를 통해 테스트가 수행된다."
   ]
  },
  {
   "attachments": {},
   "cell_type": "markdown",
   "metadata": {},
   "source": [
    "실행 명령어\n",
    "python -m unnitest discover\n",
    "- 끝에 실행 옵션을 달아줄 수 있음\n",
    "    - -v : 상세 결과\n",
    "    - -f : 첫 번쨰 실패 또는 오류시 실행 중단\n",
    "    - -s : 실행할 디렉토리를 현재 경로 디렉토리로 지정\n",
    "    - -p : 테스트 파일 패턴(제목)을 가진 파일을 모두 실행\n",
    "    - -t : 프로젝트의 최상위 디렉토리"
   ]
  },
  {
   "attachments": {},
   "cell_type": "markdown",
   "metadata": {},
   "source": [
    "assert 메소드\n",
    "| 메소드 | 내용 |\n",
    "| --- | -- |\n",
    "| assertEqual(a, b) | a == b |\n",
    "| assertNotEqual(a, b) | a != b |\n",
    "| assertTrue(x) | bool(x) is True |\n",
    "| assertFalse(x) | bool(x) is False |\n",
    "| assertIs(a, b) | a is b |\n",
    "| assertIsNot(a, b) | a is not b |\n",
    "| assertIsNone(x) | x is None |\n",
    "| assertIsNotNone(x) | x is not None |\n",
    "| assertIn(a, b) | a in b |\n",
    "| assertNotIn(a, b) | a not in b |\n",
    "| assertIsInstance(a, b) | isinstance(a, b) |\n",
    "| assertNotIsInstance(a, b) | not isinstance(a, b) |"
   ]
  }
 ],
 "metadata": {
  "kernelspec": {
   "display_name": "test",
   "language": "python",
   "name": "python3"
  },
  "language_info": {
   "codemirror_mode": {
    "name": "ipython",
    "version": 3
   },
   "file_extension": ".py",
   "mimetype": "text/x-python",
   "name": "python",
   "nbconvert_exporter": "python",
   "pygments_lexer": "ipython3",
   "version": "3.8.16"
  },
  "orig_nbformat": 4,
  "vscode": {
   "interpreter": {
    "hash": "b0e1f1a130348ef68830acf9dfb4636442ae82e567e5c4b8ba4e15c1763484cf"
   }
  }
 },
 "nbformat": 4,
 "nbformat_minor": 2
}
