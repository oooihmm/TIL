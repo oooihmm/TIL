{
  "nbformat": 4,
  "nbformat_minor": 0,
  "metadata": {
    "colab": {
      "provenance": []
    },
    "kernelspec": {
      "name": "python3",
      "display_name": "Python 3"
    },
    "language_info": {
      "name": "python"
    }
  },
  "cells": [
    {
      "cell_type": "markdown",
      "source": [
        "**데이터처리1_numpy1**\n",
        "\n",
        "Python의 Numpy library를 이용한 수치 데이터의 표현 및 처리\n"
      ],
      "metadata": {
        "id": "cLs8pIYazZI3"
      }
    },
    {
      "cell_type": "markdown",
      "source": [
        "##1. numpy 소개##"
      ],
      "metadata": {
        "id": "Pd4uRadgzptd"
      }
    },
    {
      "cell_type": "markdown",
      "source": [
        "**1-1 데이터 형태**"
      ],
      "metadata": {
        "id": "5iad5mK8zvC_"
      }
    },
    {
      "cell_type": "markdown",
      "source": [
        "* tabular data : 엑셀로 나타내지는 데이터\n",
        "\n",
        "    열과 행의 이차원의 형태로 표현 가능"
      ],
      "metadata": {
        "id": "PHTBKGYe0hnd"
      }
    },
    {
      "cell_type": "markdown",
      "source": [
        "* text data : 단어의 순서들로 구성되어 있는 문장"
      ],
      "metadata": {
        "id": "4u9sfNah1JCj"
      }
    },
    {
      "cell_type": "markdown",
      "source": [
        "* image data\n",
        " \n",
        "* 동영상 : image data 여러개를 순서대로 모아 실행"
      ],
      "metadata": {
        "id": "NirrCbJB1fqM"
      }
    },
    {
      "cell_type": "markdown",
      "source": [
        "\n",
        "* numerical Arrays 수치형 배열 \n",
        "\n",
        "  : Scalars, Vectors(1차원), Matrices(2차원) & Tensors(3차원)\n",
        "  \n",
        "  → 숫자 여러개가 모여 하나의 의미를 구성\n",
        "\n",
        "    멀티 미디어 데이터들을 수치형 배열로 전환하여 분석 및 처리\n",
        "    \n",
        "    다양한 종류의 데이터 표현의 처리의 근간이 됨\n",
        "        (ex) 이미지 데이터 → 픽셀값으로 구성된 2차원 행렬로 표현 가능\n",
        "             텍스트 데이터 → 문장을 구성하는 단어의 출현여부를 기록한 벡터로 표현 가능"
      ],
      "metadata": {
        "id": "mj82Gw352Ii-"
      }
    },
    {
      "cell_type": "markdown",
      "source": [
        "**1-2 선형대수**"
      ],
      "metadata": {
        "id": "kSj2j0p14Z7j"
      }
    },
    {
      "cell_type": "markdown",
      "source": [
        "* 공학적인 문제를 행렬의 형태로 정의하고 그 해답을 구하는 과정과 방법\n",
        "* 산업공학 전반에 사용되는 기법의 근간이 됨\n",
        "    \n",
        "        최적화, 통계, 머신러닝 등"
      ],
      "metadata": {
        "id": "D29AuLcv4gyB"
      }
    },
    {
      "cell_type": "markdown",
      "source": [
        "##2. numpy의 특성과 이해##"
      ],
      "metadata": {
        "id": "Uyo68I7DGxLG"
      }
    },
    {
      "cell_type": "markdown",
      "source": [
        "**2-1 Python 문법의 특징**"
      ],
      "metadata": {
        "id": "VYbqz-zaH6jX"
      }
    },
    {
      "cell_type": "markdown",
      "source": [
        "Numpy 모듈 불러오기\n",
        "\n",
        "* import numpy as np "
      ],
      "metadata": {
        "id": "-2izswZv3ino"
      }
    },
    {
      "cell_type": "code",
      "source": [
        "import numpy as np"
      ],
      "metadata": {
        "id": "SL9to0UW3qvu"
      },
      "execution_count": null,
      "outputs": []
    },
    {
      "cell_type": "markdown",
      "source": [
        "Scalar : 숫자값\n",
        "\n",
        "    a = 3\n",
        "\n",
        "1차원 vector : 리스트를 이용\n",
        "    \n",
        "    a = [1,2,3,4,5]\n",
        "\n",
        "2차원 matrix\n",
        "\n",
        "    a = [[1,2,3], [4,5,6]]"
      ],
      "metadata": {
        "id": "nux1LofH_mUm"
      }
    },
    {
      "cell_type": "markdown",
      "source": [
        "* Statically-typed language (정적) : 변수 생성시 저장할 데이터의 종류를 명시적으로 선언하는 언어\n",
        "* Dynamically-typed language (동적) : 변수 생성시 알아서 입력되는 값의 종류를 추론\n",
        "\n",
        "  **→ Python은 Dynamically-typed language**\n",
        "  \n",
        "  서로 다른 종류의 값으로 구성된 리스트를 동적으로 생성 가능\n",
        "  \n",
        "  **but** 값을 추론하는 데 시간 소요 > 효율성 떨어짐\n",
        "  "
      ],
      "metadata": {
        "id": "LpabesNbIJ9E"
      }
    },
    {
      "cell_type": "code",
      "source": [
        "L = [1, 'a', 3, 2.5, \"c\"]\n",
        "for i in L:\n",
        "  print(type(i))"
      ],
      "metadata": {
        "colab": {
          "base_uri": "https://localhost:8080/"
        },
        "id": "oMSaascRBa0M",
        "outputId": "53de34ba-44b9-42ab-939e-7da93509b6d1"
      },
      "execution_count": null,
      "outputs": [
        {
          "output_type": "stream",
          "name": "stdout",
          "text": [
            "<class 'int'>\n",
            "<class 'str'>\n",
            "<class 'int'>\n",
            "<class 'float'>\n",
            "<class 'str'>\n"
          ]
        }
      ]
    },
    {
      "cell_type": "markdown",
      "source": [
        "**2-2 Fixed-type Array를 만드는 방법**"
      ],
      "metadata": {
        "id": "Is32yfbv4jsD"
      }
    },
    {
      "cell_type": "markdown",
      "source": [
        "in Python\n",
        "\n",
        "파이썬 3.3 이후 > 같은 타입을 가진 array 생성 가능"
      ],
      "metadata": {
        "id": "ijrnlFDK4y5k"
      }
    },
    {
      "cell_type": "code",
      "source": [
        "import array\n",
        "L = list(range(10))\n",
        "A = array.array('i', L)\n",
        "A"
      ],
      "metadata": {
        "colab": {
          "base_uri": "https://localhost:8080/"
        },
        "id": "vs9B3I5D3Z3D",
        "outputId": "d61ed205-3f9e-41b9-e2e1-354cd75f4eb5"
      },
      "execution_count": null,
      "outputs": [
        {
          "output_type": "execute_result",
          "data": {
            "text/plain": [
              "array('i', [0, 1, 2, 3, 4, 5, 6, 7, 8, 9])"
            ]
          },
          "metadata": {},
          "execution_count": 26
        }
      ]
    },
    {
      "cell_type": "markdown",
      "source": [
        "using Numpy\n",
        "\n",
        "* Numpy array 라이브러리를 사용하면 fixed type array를 더욱 효과적으로 만들 수 있음!\n",
        "\n",
        "        casting : 데이터의 타입을 변경\n",
        "        upcasting (int -> float)"
      ],
      "metadata": {
        "id": "hLBoXKl342BI"
      }
    },
    {
      "cell_type": "code",
      "source": [
        "#파이썬 리스트로부터 integer array 생성\n",
        "np.array([1, 4, 2, 5, 3])"
      ],
      "metadata": {
        "colab": {
          "base_uri": "https://localhost:8080/"
        },
        "id": "p-eTFAkr5EJ_",
        "outputId": "245c6a4c-bc5d-46e2-f982-f10a1fd5015d"
      },
      "execution_count": null,
      "outputs": [
        {
          "output_type": "execute_result",
          "data": {
            "text/plain": [
              "array([1, 4, 2, 5, 3])"
            ]
          },
          "metadata": {},
          "execution_count": 27
        }
      ]
    },
    {
      "cell_type": "code",
      "source": [
        "type([1, 4, 2, 5, 3])"
      ],
      "metadata": {
        "colab": {
          "base_uri": "https://localhost:8080/"
        },
        "id": "z1cPdYAQCkIk",
        "outputId": "9bf1b8c3-7e48-463a-9eae-4727239a4823"
      },
      "execution_count": null,
      "outputs": [
        {
          "output_type": "execute_result",
          "data": {
            "text/plain": [
              "list"
            ]
          },
          "metadata": {},
          "execution_count": 28
        }
      ]
    },
    {
      "cell_type": "code",
      "source": [
        "type(np.array([1, 4, 2, 5, 3]))"
      ],
      "metadata": {
        "colab": {
          "base_uri": "https://localhost:8080/"
        },
        "id": "xquCvbm6Ctac",
        "outputId": "d9f9693b-95d1-4ae3-f5ac-594363ab74de"
      },
      "execution_count": null,
      "outputs": [
        {
          "output_type": "execute_result",
          "data": {
            "text/plain": [
              "numpy.ndarray"
            ]
          },
          "metadata": {},
          "execution_count": 29
        }
      ]
    },
    {
      "cell_type": "code",
      "source": [
        "#Numpy안에는 같은 종류의 같이 들어오도록 강제 > float로 type 일치시킴\n",
        "np.array([3.14, 4, 2, 3])"
      ],
      "metadata": {
        "colab": {
          "base_uri": "https://localhost:8080/"
        },
        "id": "h-JixBn-5Wd8",
        "outputId": "9b1a1a5b-23bd-4ee5-95f7-0c93506d553e"
      },
      "execution_count": null,
      "outputs": [
        {
          "output_type": "execute_result",
          "data": {
            "text/plain": [
              "array([3.14, 4.  , 2.  , 3.  ])"
            ]
          },
          "metadata": {},
          "execution_count": 31
        }
      ]
    },
    {
      "cell_type": "code",
      "source": [
        "#타입을 강제하여 array 생성\n",
        "np.array([1, 2, 3, 4], dtype='float32')"
      ],
      "metadata": {
        "colab": {
          "base_uri": "https://localhost:8080/"
        },
        "id": "WlwGpFsF5aVr",
        "outputId": "7a4e1bd1-a0cc-4c0d-dfa5-cf99f2a089d1"
      },
      "execution_count": null,
      "outputs": [
        {
          "output_type": "execute_result",
          "data": {
            "text/plain": [
              "array([1., 2., 3., 4.], dtype=float32)"
            ]
          },
          "metadata": {},
          "execution_count": 32
        }
      ]
    },
    {
      "cell_type": "markdown",
      "source": [
        "2차원 list로부터 numpy array 생성 가능"
      ],
      "metadata": {
        "id": "v5lGkpWI5zXE"
      }
    },
    {
      "cell_type": "code",
      "source": [
        "#다차원 리스트 -> 다차원 배열 생성 가능\n",
        "np.array([[2,3,4],[4,5,6],[6,7,8]])"
      ],
      "metadata": {
        "colab": {
          "base_uri": "https://localhost:8080/"
        },
        "id": "y6DAESu7DtJz",
        "outputId": "9e8e3f39-ca92-43f8-8cf9-9268fa9a5b1d"
      },
      "execution_count": null,
      "outputs": [
        {
          "output_type": "execute_result",
          "data": {
            "text/plain": [
              "array([[2, 3, 4],\n",
              "       [4, 5, 6],\n",
              "       [6, 7, 8]])"
            ]
          },
          "metadata": {},
          "execution_count": 33
        }
      ]
    },
    {
      "cell_type": "code",
      "source": [
        "np.array([range(i, i+3) for i in [2,4,6]])"
      ],
      "metadata": {
        "colab": {
          "base_uri": "https://localhost:8080/"
        },
        "id": "bsPycuvf54QP",
        "outputId": "dacc2f1a-87b2-48e4-fd0b-791049949f2b"
      },
      "execution_count": null,
      "outputs": [
        {
          "output_type": "execute_result",
          "data": {
            "text/plain": [
              "array([[2, 3, 4],\n",
              "       [4, 5, 6],\n",
              "       [6, 7, 8]])"
            ]
          },
          "metadata": {},
          "execution_count": 10
        }
      ]
    },
    {
      "cell_type": "markdown",
      "source": [
        "**2-3 Scratch를 이용한 배열 생성**"
      ],
      "metadata": {
        "id": "G5fWJCLu6lff"
      }
    },
    {
      "cell_type": "markdown",
      "source": [
        "단일 값으로 구성된 array 생성"
      ],
      "metadata": {
        "id": "92RzsCzS6r8y"
      }
    },
    {
      "cell_type": "code",
      "source": [
        "np.zeros(10, dtype=int) #(shape, dtype)"
      ],
      "metadata": {
        "colab": {
          "base_uri": "https://localhost:8080/"
        },
        "id": "veJw743A6qfr",
        "outputId": "59752604-c7a1-4a8c-f697-02d0adf00d08"
      },
      "execution_count": null,
      "outputs": [
        {
          "output_type": "execute_result",
          "data": {
            "text/plain": [
              "array([0, 0, 0, 0, 0, 0, 0, 0, 0, 0])"
            ]
          },
          "metadata": {},
          "execution_count": 34
        }
      ]
    },
    {
      "cell_type": "code",
      "source": [
        "np.ones((3,5), dtype=float) #(shape, dtype)"
      ],
      "metadata": {
        "colab": {
          "base_uri": "https://localhost:8080/"
        },
        "id": "kNpK4qJv624W",
        "outputId": "e122d820-f278-40d2-a74f-b5752983b759"
      },
      "execution_count": null,
      "outputs": [
        {
          "output_type": "execute_result",
          "data": {
            "text/plain": [
              "array([[1., 1., 1., 1., 1.],\n",
              "       [1., 1., 1., 1., 1.],\n",
              "       [1., 1., 1., 1., 1.]])"
            ]
          },
          "metadata": {},
          "execution_count": 35
        }
      ]
    },
    {
      "cell_type": "code",
      "source": [
        "np.full((3,5), 3.14) "
      ],
      "metadata": {
        "colab": {
          "base_uri": "https://localhost:8080/"
        },
        "id": "375P6IZW6-Yd",
        "outputId": "99c2418a-6faa-45b4-d9e7-3e4f313c3e3f"
      },
      "execution_count": null,
      "outputs": [
        {
          "output_type": "execute_result",
          "data": {
            "text/plain": [
              "array([[3.14, 3.14, 3.14, 3.14, 3.14],\n",
              "       [3.14, 3.14, 3.14, 3.14, 3.14],\n",
              "       [3.14, 3.14, 3.14, 3.14, 3.14]])"
            ]
          },
          "metadata": {},
          "execution_count": 13
        }
      ]
    },
    {
      "cell_type": "markdown",
      "source": [
        "interval value로 이루어진 array 생성"
      ],
      "metadata": {
        "id": "GM0Uy2wR7EMK"
      }
    },
    {
      "cell_type": "code",
      "source": [
        "np.arange(0,20,2) #0부터 20 미만까지 2 간격으로 배열 생성"
      ],
      "metadata": {
        "colab": {
          "base_uri": "https://localhost:8080/"
        },
        "id": "s4APgKcf7RVN",
        "outputId": "c1054baf-7a35-4f3e-89dc-9a3a8ab1a095"
      },
      "execution_count": null,
      "outputs": [
        {
          "output_type": "execute_result",
          "data": {
            "text/plain": [
              "array([ 0,  2,  4,  6,  8, 10, 12, 14, 16, 18])"
            ]
          },
          "metadata": {},
          "execution_count": 15
        }
      ]
    },
    {
      "cell_type": "code",
      "source": [
        "np.linspace(0,1,5) #0부터 1까지 일정한 간격으로 5개의 원소를 갖는 배열 생성"
      ],
      "metadata": {
        "colab": {
          "base_uri": "https://localhost:8080/"
        },
        "id": "WmxOEeoK7cOq",
        "outputId": "8d7d4ac3-6587-4a3f-bd69-98bf65514ec7"
      },
      "execution_count": null,
      "outputs": [
        {
          "output_type": "execute_result",
          "data": {
            "text/plain": [
              "array([0.  , 0.25, 0.5 , 0.75, 1.  ])"
            ]
          },
          "metadata": {},
          "execution_count": 16
        }
      ]
    },
    {
      "cell_type": "code",
      "source": [
        "np.linspace(0,8,5)"
      ],
      "metadata": {
        "colab": {
          "base_uri": "https://localhost:8080/"
        },
        "id": "KJcNOvZW7wZv",
        "outputId": "2830daf7-b289-4d24-9ffe-2e20ca7341f6"
      },
      "execution_count": null,
      "outputs": [
        {
          "output_type": "execute_result",
          "data": {
            "text/plain": [
              "array([0., 2., 4., 6., 8.])"
            ]
          },
          "metadata": {},
          "execution_count": 17
        }
      ]
    },
    {
      "cell_type": "markdown",
      "source": [
        "난수로 구성된 배열 생성"
      ],
      "metadata": {
        "id": "KJ8MXGV475Dv"
      }
    },
    {
      "cell_type": "code",
      "source": [
        "np.random.normal(0,1,(3,3)) #평균이 0이고 표준편차가 1인 (3,3) 배열 생성"
      ],
      "metadata": {
        "colab": {
          "base_uri": "https://localhost:8080/"
        },
        "id": "njHT5V5s765A",
        "outputId": "eb898050-e11f-4468-8806-115fd1200a80"
      },
      "execution_count": null,
      "outputs": [
        {
          "output_type": "execute_result",
          "data": {
            "text/plain": [
              "array([[-1.16369896,  0.70238861,  0.55899457],\n",
              "       [-0.46513477,  0.90652905,  1.01717117],\n",
              "       [-0.04948314, -0.49231834,  0.67572499]])"
            ]
          },
          "metadata": {},
          "execution_count": 18
        }
      ]
    },
    {
      "cell_type": "code",
      "source": [
        "np.random.randint(0,10,(3,3)) #0부터 10미만까지 (3,3) 정수 배열 생성"
      ],
      "metadata": {
        "colab": {
          "base_uri": "https://localhost:8080/"
        },
        "id": "9he92uUr87qh",
        "outputId": "26dd23b8-4078-451a-b348-762aba7aa517"
      },
      "execution_count": null,
      "outputs": [
        {
          "output_type": "execute_result",
          "data": {
            "text/plain": [
              "array([[6, 1, 5],\n",
              "       [0, 2, 7],\n",
              "       [3, 1, 6]])"
            ]
          },
          "metadata": {},
          "execution_count": 21
        }
      ]
    },
    {
      "cell_type": "markdown",
      "source": [
        "그 외의 배열 생성 방법"
      ],
      "metadata": {
        "id": "q8tkoA5U86-X"
      }
    },
    {
      "cell_type": "code",
      "source": [
        "np.eye(3) #(n, n) 단위 행렬 생성"
      ],
      "metadata": {
        "colab": {
          "base_uri": "https://localhost:8080/"
        },
        "id": "0-nXxukK9JbZ",
        "outputId": "96e61a8d-d844-440c-bed1-44acc05c4eff"
      },
      "execution_count": null,
      "outputs": [
        {
          "output_type": "execute_result",
          "data": {
            "text/plain": [
              "array([[1., 0., 0.],\n",
              "       [0., 1., 0.],\n",
              "       [0., 0., 1.]])"
            ]
          },
          "metadata": {},
          "execution_count": 22
        }
      ]
    },
    {
      "cell_type": "code",
      "source": [
        "np.empty(3) #의미 없는 아무 값"
      ],
      "metadata": {
        "colab": {
          "base_uri": "https://localhost:8080/"
        },
        "id": "lSBus1Zv9hMD",
        "outputId": "f5ad495d-0a5e-4dd5-f16f-8252b9705268"
      },
      "execution_count": null,
      "outputs": [
        {
          "output_type": "execute_result",
          "data": {
            "text/plain": [
              "array([1., 1., 1.])"
            ]
          },
          "metadata": {},
          "execution_count": 23
        }
      ]
    }
  ]
}