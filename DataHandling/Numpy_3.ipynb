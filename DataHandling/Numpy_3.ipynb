{
  "nbformat": 4,
  "nbformat_minor": 0,
  "metadata": {
    "colab": {
      "provenance": [],
      "collapsed_sections": [
        "W9x-dRBteVUr",
        "c9QX1ul-od5O",
        "x_-Uonn1sdjA"
      ]
    },
    "kernelspec": {
      "name": "python3",
      "display_name": "Python 3"
    },
    "language_info": {
      "name": "python"
    }
  },
  "cells": [
    {
      "cell_type": "markdown",
      "source": [
        "**데이터처리1_numpy3**\n",
        "\n",
        "Numpy Array의 연산 (1)\n",
        "\n",
        "* Ufuncs\n",
        "* 취합 연산\n",
        "* 브로드캐스팅 연산"
      ],
      "metadata": {
        "id": "ezIO9S_Td-1v"
      }
    },
    {
      "cell_type": "code",
      "source": [
        "import numpy as np"
      ],
      "metadata": {
        "id": "I_lFJJCPeYKI"
      },
      "execution_count": null,
      "outputs": []
    },
    {
      "cell_type": "markdown",
      "source": [
        "##1. Ufuncs## "
      ],
      "metadata": {
        "id": "W9x-dRBteVUr"
      }
    },
    {
      "cell_type": "markdown",
      "source": [
        "**1-1 Numpy와 Ufuncs**"
      ],
      "metadata": {
        "id": "91WyamMxe02a"
      }
    },
    {
      "cell_type": "markdown",
      "source": [
        "Numpy에는 단일 종류의 값이 들어가 있음\n",
        "\n",
        "-> 매번 타입을 체크할 필요 X, 연산에만 집중하면 됨"
      ],
      "metadata": {
        "id": "vqsIhmSSe4fR"
      }
    },
    {
      "cell_type": "markdown",
      "source": [
        "Ufuncs : Numpy에서 제공하는 연산 메커니즘\n",
        "\n",
        "* 배열 내의 숫자에 대하여 효율적인 연산 수행을 목표로 함\n",
        "* 마치 컴파일 한 것처럼, 타입 체크를 건너뛰고 수치 연산을 수행\n",
        "\n",
        "    Ufunc의 적용 유형\n",
        "\n",
        "        - Array와 Scalar\n",
        "        - Array와 Array\n",
        "        - 다차원 배열에도 적용 가능"
      ],
      "metadata": {
        "id": "uRX-kvJzfHtd"
      }
    },
    {
      "cell_type": "markdown",
      "source": [
        "**1-2 Ufuncs 연산자 종류**"
      ],
      "metadata": {
        "id": "5LHbqE-Wfq3e"
      }
    },
    {
      "cell_type": "markdown",
      "source": [
        "파이썬 기본문법에서 제공되는 연산자와 호환됨"
      ],
      "metadata": {
        "id": "hzv2rv1-f21Z"
      }
    },
    {
      "cell_type": "code",
      "source": [
        "x = np.arange(4)\n",
        "print(x)\n",
        "print(np.negative(x))\n",
        "print(np.add(x, 5))\n",
        "print(np.subtract(x, 5))\n",
        "print(np.multiply(x, 2))\n",
        "print(np.power(x, 2))\n",
        "print(np.divide(x, 2))\n",
        "print(np.floor_divide(x, 2))\n",
        "print(np.mod(x, 2))"
      ],
      "metadata": {
        "colab": {
          "base_uri": "https://localhost:8080/"
        },
        "id": "x5HByukbiE8x",
        "outputId": "760a99ba-66c0-4cfc-92bf-6884c1ca5b02"
      },
      "execution_count": null,
      "outputs": [
        {
          "output_type": "stream",
          "name": "stdout",
          "text": [
            "[0 1 2 3]\n",
            "[ 0 -1 -2 -3]\n",
            "[5 6 7 8]\n",
            "[-5 -4 -3 -2]\n",
            "[0 2 4 6]\n",
            "[0 1 4 9]\n",
            "[0.  0.5 1.  1.5]\n",
            "[0 0 1 1]\n",
            "[0 1 0 1]\n"
          ]
        }
      ]
    },
    {
      "cell_type": "code",
      "source": [
        "print(\"x = \", x)\n",
        "print(\"-x = \", -x)\n",
        "print(\"x + 5 = \", x+5)\n",
        "print(\"x - 5 = \", x-5)\n",
        "print(\"x * 2 = \", x*2) #곱하기\n",
        "print(\"x ** 2 = \", x**2) #제곱\n",
        "print(\"x / 2 = \", x/2) #나누기\n",
        "print(\"x // x = \", x//2) #몫\n",
        "print(\"x % 2 = \", x%2) #나머지"
      ],
      "metadata": {
        "colab": {
          "base_uri": "https://localhost:8080/"
        },
        "id": "_0SCPxGbf7mP",
        "outputId": "3132d7c2-b0d5-432f-f442-1caf669fafad"
      },
      "execution_count": null,
      "outputs": [
        {
          "output_type": "stream",
          "name": "stdout",
          "text": [
            "x =  [0 1 2 3]\n",
            "-x =  [ 0 -1 -2 -3]\n",
            "x + 5 =  [5 6 7 8]\n",
            "x - 5 =  [-5 -4 -3 -2]\n",
            "x * 2 =  [0 2 4 6]\n",
            "x ** 2 =  [0 1 4 9]\n",
            "x / 2 =  [0.  0.5 1.  1.5]\n",
            "x // x =  [0 0 1 1]\n",
            "x % 2 =  [0 1 0 1]\n"
          ]
        }
      ]
    },
    {
      "cell_type": "markdown",
      "source": [
        "그 외 연산자 - 절대값"
      ],
      "metadata": {
        "id": "Zvaf6q2FjM7E"
      }
    },
    {
      "cell_type": "code",
      "source": [
        "x = np.array([-2, -1, 0, 1, 2])"
      ],
      "metadata": {
        "id": "YNgSTQaVjYtW"
      },
      "execution_count": null,
      "outputs": []
    },
    {
      "cell_type": "code",
      "source": [
        "abs(x)"
      ],
      "metadata": {
        "colab": {
          "base_uri": "https://localhost:8080/"
        },
        "id": "pmGgw9-Njkme",
        "outputId": "58ece073-8caf-4b4f-9bae-ea23362f126d"
      },
      "execution_count": null,
      "outputs": [
        {
          "output_type": "execute_result",
          "data": {
            "text/plain": [
              "array([2, 1, 0, 1, 2])"
            ]
          },
          "metadata": {},
          "execution_count": 17
        }
      ]
    },
    {
      "cell_type": "code",
      "source": [
        "np.absolute(x)"
      ],
      "metadata": {
        "colab": {
          "base_uri": "https://localhost:8080/"
        },
        "id": "KtFa8ua2jmku",
        "outputId": "eafe7669-b47b-4a9a-d963-ba5aeb8501e1"
      },
      "execution_count": null,
      "outputs": [
        {
          "output_type": "execute_result",
          "data": {
            "text/plain": [
              "array([2, 1, 0, 1, 2])"
            ]
          },
          "metadata": {},
          "execution_count": 18
        }
      ]
    },
    {
      "cell_type": "code",
      "source": [
        "y = np.array([3-4j, 4-3j, 2+0j, 0+1j])"
      ],
      "metadata": {
        "id": "nFeNJMr8jqua"
      },
      "execution_count": null,
      "outputs": []
    },
    {
      "cell_type": "code",
      "source": [
        "np.abs(y)"
      ],
      "metadata": {
        "colab": {
          "base_uri": "https://localhost:8080/"
        },
        "id": "d4QGVcrJj2si",
        "outputId": "44652a7b-4a9c-4532-daaf-a495e525b70d"
      },
      "execution_count": null,
      "outputs": [
        {
          "output_type": "execute_result",
          "data": {
            "text/plain": [
              "array([5., 5., 2., 1.])"
            ]
          },
          "metadata": {},
          "execution_count": 21
        }
      ]
    },
    {
      "cell_type": "markdown",
      "source": [
        "그 외 연산자 - 삼각함수"
      ],
      "metadata": {
        "id": "FDYiVD40kF9v"
      }
    },
    {
      "cell_type": "code",
      "source": [
        "theta = np.linspace(0, np.pi, 3)"
      ],
      "metadata": {
        "id": "abVwSH6bkKtB"
      },
      "execution_count": null,
      "outputs": []
    },
    {
      "cell_type": "code",
      "source": [
        "print(\"theta = \", theta)\n",
        "print(\"sin(theta) = \", np.sin(theta))\n",
        "print(\"cons(theta) = \", np.cos(theta))\n",
        "print(\"tan(theta) = \", np.tan(theta))"
      ],
      "metadata": {
        "colab": {
          "base_uri": "https://localhost:8080/"
        },
        "id": "REbz9LgvkSeE",
        "outputId": "f8ebdd08-eac7-470a-e614-ed0fc05846ce"
      },
      "execution_count": null,
      "outputs": [
        {
          "output_type": "stream",
          "name": "stdout",
          "text": [
            "theta =  [0.         1.57079633 3.14159265]\n",
            "sin(theta) =  [0.0000000e+00 1.0000000e+00 1.2246468e-16]\n",
            "cons(theta) =  [ 1.000000e+00  6.123234e-17 -1.000000e+00]\n",
            "tan(theta) =  [ 0.00000000e+00  1.63312394e+16 -1.22464680e-16]\n"
          ]
        }
      ]
    },
    {
      "cell_type": "markdown",
      "source": [
        "그 외 연산자 - 지수함수"
      ],
      "metadata": {
        "id": "5P4BP2X3klp3"
      }
    },
    {
      "cell_type": "code",
      "source": [
        "x = [1, 2, 3]"
      ],
      "metadata": {
        "id": "qY2BCgnsko9O"
      },
      "execution_count": null,
      "outputs": []
    },
    {
      "cell_type": "code",
      "source": [
        "print(\"x = \", x)\n",
        "print(\"e^x = \", np.exp(x))\n",
        "print(\"2^x = \", np.exp2(x))\n",
        "print(\"3^x = \", np.power(3, x))"
      ],
      "metadata": {
        "colab": {
          "base_uri": "https://localhost:8080/"
        },
        "id": "kxwUtY-xkrwi",
        "outputId": "dc07008b-dd5d-4567-ddd6-5118da37ac40"
      },
      "execution_count": null,
      "outputs": [
        {
          "output_type": "stream",
          "name": "stdout",
          "text": [
            "x =  [1, 2, 3]\n",
            "e^x =  [ 2.71828183  7.3890561  20.08553692]\n",
            "2^x =  [2. 4. 8.]\n",
            "3^x =  [ 3  9 27]\n"
          ]
        }
      ]
    },
    {
      "cell_type": "code",
      "source": [
        "x = [1, 2,  4, 10]"
      ],
      "metadata": {
        "id": "F1cQryrZlNea"
      },
      "execution_count": null,
      "outputs": []
    },
    {
      "cell_type": "code",
      "source": [
        "print(\"x = \", x)\n",
        "print(\"ln(x) = \", np.log(x))\n",
        "print(\"ln(x) = \", np.log2(x))\n",
        "print(\"ln(x) = \", np.log10(x))"
      ],
      "metadata": {
        "colab": {
          "base_uri": "https://localhost:8080/"
        },
        "id": "gOuoiXFwlQik",
        "outputId": "ddb82587-f825-4f74-a372-b2dfd1a9503a"
      },
      "execution_count": null,
      "outputs": [
        {
          "output_type": "stream",
          "name": "stdout",
          "text": [
            "x =  [1, 2, 4, 10]\n",
            "ln(x) =  [0.         0.69314718 1.38629436 2.30258509]\n",
            "ln(x) =  [0.         1.         2.         3.32192809]\n",
            "ln(x) =  [0.         0.30103    0.60205999 1.        ]\n"
          ]
        }
      ]
    },
    {
      "cell_type": "markdown",
      "source": [
        "**1-3 연산의 결과를 다른 배열에 저장**"
      ],
      "metadata": {
        "id": "-X1zS2Z5mCfA"
      }
    },
    {
      "cell_type": "markdown",
      "source": [
        "Ufunc의 연산 결과 -> 새로운 배열을 하나 만들어냄\n",
        "\n",
        "만약 연산결과를 바로 다른 변수에 저장할 수 있다면 메모리 절약 가능!\n",
        "\n",
        "        out = 변수명"
      ],
      "metadata": {
        "id": "t6KVHJQRmN1Y"
      }
    },
    {
      "cell_type": "code",
      "source": [
        "x = np.arange(5)\n",
        "y = np.empty(5)\n",
        "np.multiply(x, 10, out=y)\n",
        "print(y)"
      ],
      "metadata": {
        "colab": {
          "base_uri": "https://localhost:8080/"
        },
        "id": "KHdDOWbJmgDz",
        "outputId": "57f7865e-1b6a-4f4d-b5b0-944269da1d7a"
      },
      "execution_count": null,
      "outputs": [
        {
          "output_type": "stream",
          "name": "stdout",
          "text": [
            "[ 0. 10. 20. 30. 40.]\n"
          ]
        }
      ]
    },
    {
      "cell_type": "code",
      "source": [
        "y = np.zeros(10)\n",
        "y"
      ],
      "metadata": {
        "colab": {
          "base_uri": "https://localhost:8080/"
        },
        "id": "ljOTo4tam0JT",
        "outputId": "702f5d2d-a468-4ad5-be5b-db8c342452ce"
      },
      "execution_count": null,
      "outputs": [
        {
          "output_type": "execute_result",
          "data": {
            "text/plain": [
              "array([0., 0., 0., 0., 0., 0., 0., 0., 0., 0.])"
            ]
          },
          "metadata": {},
          "execution_count": 34
        }
      ]
    },
    {
      "cell_type": "code",
      "source": [
        "np.power(2, x, out=y[::2])\n",
        "print(y)"
      ],
      "metadata": {
        "colab": {
          "base_uri": "https://localhost:8080/"
        },
        "id": "GC50XUPOn2D8",
        "outputId": "390c6401-dd24-4efb-c6a7-96b82fe322ef"
      },
      "execution_count": null,
      "outputs": [
        {
          "output_type": "stream",
          "name": "stdout",
          "text": [
            "[ 2.  0.  4.  0.  8.  0. 16.  0. 32.  0.]\n"
          ]
        }
      ]
    },
    {
      "cell_type": "markdown",
      "source": [
        "**1-4 Agrregate 연산**"
      ],
      "metadata": {
        "id": "PAWDxHoonhw0"
      }
    },
    {
      "cell_type": "markdown",
      "source": [
        "reduce : 배열을 구성하는 모든 값에 대하여 동일한 연산을 연속으로 수행"
      ],
      "metadata": {
        "id": "FzBv0swMnqCk"
      }
    },
    {
      "cell_type": "code",
      "source": [
        "x = np.arange(1,6)\n",
        "x"
      ],
      "metadata": {
        "colab": {
          "base_uri": "https://localhost:8080/"
        },
        "id": "0wLdEy8Mnm-N",
        "outputId": "d32702e0-5b39-4348-c43a-fd64a10e2766"
      },
      "execution_count": null,
      "outputs": [
        {
          "output_type": "execute_result",
          "data": {
            "text/plain": [
              "array([1, 2, 3, 4, 5])"
            ]
          },
          "metadata": {},
          "execution_count": 33
        }
      ]
    },
    {
      "cell_type": "code",
      "source": [
        "np.add.reduce(x)"
      ],
      "metadata": {
        "colab": {
          "base_uri": "https://localhost:8080/"
        },
        "id": "82yjTV5zn5ji",
        "outputId": "646aa097-6bca-4fe7-8d67-56f5a2820420"
      },
      "execution_count": null,
      "outputs": [
        {
          "output_type": "execute_result",
          "data": {
            "text/plain": [
              "15"
            ]
          },
          "metadata": {},
          "execution_count": 37
        }
      ]
    },
    {
      "cell_type": "code",
      "source": [
        "np.multiply.reduce(x)"
      ],
      "metadata": {
        "colab": {
          "base_uri": "https://localhost:8080/"
        },
        "id": "vgzGRAyZoAxt",
        "outputId": "37a988c1-bc62-46da-e204-f49c4e20286c"
      },
      "execution_count": null,
      "outputs": [
        {
          "output_type": "execute_result",
          "data": {
            "text/plain": [
              "120"
            ]
          },
          "metadata": {},
          "execution_count": 38
        }
      ]
    },
    {
      "cell_type": "code",
      "source": [
        "np.add.accumulate(x)"
      ],
      "metadata": {
        "colab": {
          "base_uri": "https://localhost:8080/"
        },
        "id": "b7WJoCe5oHsH",
        "outputId": "5aa25690-20b3-4882-afc1-54464296a215"
      },
      "execution_count": null,
      "outputs": [
        {
          "output_type": "execute_result",
          "data": {
            "text/plain": [
              "array([ 1,  3,  6, 10, 15])"
            ]
          },
          "metadata": {},
          "execution_count": 39
        }
      ]
    },
    {
      "cell_type": "code",
      "source": [
        "np.multiply.accumulate(x)"
      ],
      "metadata": {
        "colab": {
          "base_uri": "https://localhost:8080/"
        },
        "id": "xjg7ZdTAoRIn",
        "outputId": "479cdb6d-05df-4bbc-f4e3-e8cb1c91101c"
      },
      "execution_count": null,
      "outputs": [
        {
          "output_type": "execute_result",
          "data": {
            "text/plain": [
              "array([  1,   2,   6,  24, 120])"
            ]
          },
          "metadata": {},
          "execution_count": 40
        }
      ]
    },
    {
      "cell_type": "markdown",
      "source": [
        "##2. 취합 연산##\n",
        "\n",
        "데이터로부터 취합된 통계량을 계산하는 방법\n",
        "\n",
        "        합계, 평균, 분산, 최댓값, 최솟값, 사분위수, 중앙값, ..."
      ],
      "metadata": {
        "id": "c9QX1ul-od5O"
      }
    },
    {
      "cell_type": "markdown",
      "source": [
        "**2-1 최댓값, 최솟값**"
      ],
      "metadata": {
        "id": "maYI3HJ8o_JR"
      }
    },
    {
      "cell_type": "code",
      "source": [
        "big_array = np.random.random((5))\n",
        "big_array"
      ],
      "metadata": {
        "colab": {
          "base_uri": "https://localhost:8080/"
        },
        "id": "SiyoPKYapOKW",
        "outputId": "2984f31b-77dc-49f9-a6f4-3dfd1045aaae"
      },
      "execution_count": null,
      "outputs": [
        {
          "output_type": "execute_result",
          "data": {
            "text/plain": [
              "array([0.82647021, 0.57262965, 0.65851786, 0.6484565 , 0.73915072])"
            ]
          },
          "metadata": {},
          "execution_count": 49
        }
      ]
    },
    {
      "cell_type": "code",
      "source": [
        "np.max(big_array), np.min(big_array)"
      ],
      "metadata": {
        "colab": {
          "base_uri": "https://localhost:8080/"
        },
        "id": "-0L2t5MpohbL",
        "outputId": "6d7ad167-6343-4ba2-c3d2-354e9341d7fa"
      },
      "execution_count": null,
      "outputs": [
        {
          "output_type": "execute_result",
          "data": {
            "text/plain": [
              "(0.8264702127423496, 0.5726296511025347)"
            ]
          },
          "metadata": {},
          "execution_count": 50
        }
      ]
    },
    {
      "cell_type": "markdown",
      "source": [
        "**2-2 다차원 행렬에서의 취합연산**"
      ],
      "metadata": {
        "id": "7OCPDic9pnZJ"
      }
    },
    {
      "cell_type": "code",
      "source": [
        "M = np.random.random((3,4))\n",
        "M"
      ],
      "metadata": {
        "colab": {
          "base_uri": "https://localhost:8080/"
        },
        "id": "BrL4PzlRpqUK",
        "outputId": "7e44ef9c-d314-4134-fc03-c08bfa97fce1"
      },
      "execution_count": null,
      "outputs": [
        {
          "output_type": "execute_result",
          "data": {
            "text/plain": [
              "array([[0.10797321, 0.58991423, 0.20174949, 0.78252169],\n",
              "       [0.31238216, 0.54234152, 0.59003537, 0.1135907 ],\n",
              "       [0.34789971, 0.49389434, 0.32017908, 0.40023423]])"
            ]
          },
          "metadata": {},
          "execution_count": 51
        }
      ]
    },
    {
      "cell_type": "code",
      "source": [
        "M.min(axis=0) #행 방향 연산(위에서 아래로)"
      ],
      "metadata": {
        "colab": {
          "base_uri": "https://localhost:8080/"
        },
        "id": "nLSe60NZpvxD",
        "outputId": "b11e43b6-64af-447d-8867-9393898dae00"
      },
      "execution_count": null,
      "outputs": [
        {
          "output_type": "execute_result",
          "data": {
            "text/plain": [
              "array([0.10797321, 0.49389434, 0.20174949, 0.1135907 ])"
            ]
          },
          "metadata": {},
          "execution_count": 52
        }
      ]
    },
    {
      "cell_type": "code",
      "source": [
        "M.max(axis=1) #행 방향 연산 (왼쪽에서 오른쪽으로)"
      ],
      "metadata": {
        "colab": {
          "base_uri": "https://localhost:8080/"
        },
        "id": "MCyY6JeUp7cH",
        "outputId": "404f96c3-8215-4e59-c616-b8ec4b4c3bb6"
      },
      "execution_count": null,
      "outputs": [
        {
          "output_type": "execute_result",
          "data": {
            "text/plain": [
              "array([0.78252169, 0.59003537, 0.49389434])"
            ]
          },
          "metadata": {},
          "execution_count": 53
        }
      ]
    },
    {
      "cell_type": "markdown",
      "source": [
        "**2-3 취합 연산 종류**"
      ],
      "metadata": {
        "id": "IVeF54gvqDQ6"
      }
    },
    {
      "cell_type": "code",
      "source": [
        "x = np.arange(10)"
      ],
      "metadata": {
        "id": "HVJKp-YHqBh-"
      },
      "execution_count": null,
      "outputs": []
    },
    {
      "cell_type": "code",
      "source": [
        "print(\"x = \",x)\n",
        "print(\"sum = \", np.sum(x))\n",
        "print(\"product = \", np.prod(x))\n",
        "print(\"mean = \", np.mean(x))\n",
        "print(\"standard = \", np.std(x))\n",
        "print(\"variance = \", np.var(x))\n",
        "print(\"minimum = \", np.min(x))\n",
        "print(\"maximum = \", np.max(x))\n",
        "print(\"index of minimum value = \", np.argmin(x))\n",
        "print(\"index of maximum value = \", np.argmax(x))\n",
        "print(\"median = \", np.median(x))\n",
        "print(\"rank-based statistics = \", np.percentile(x, 0.5))\n",
        "print(\"any elements are \",np.any(x))\n",
        "print(\"all elements are \",np.all(x))"
      ],
      "metadata": {
        "colab": {
          "base_uri": "https://localhost:8080/"
        },
        "id": "2NtsDUAyqV__",
        "outputId": "57e50df2-9752-49d2-9574-d6a8b540f9e0"
      },
      "execution_count": null,
      "outputs": [
        {
          "output_type": "stream",
          "name": "stdout",
          "text": [
            "x =  [0 1 2 3 4 5 6 7 8 9]\n",
            "sum =  45\n",
            "product =  0\n",
            "mean =  4.5\n",
            "standard =  2.8722813232690143\n",
            "variance =  8.25\n",
            "minimum =  0\n",
            "maximum =  9\n",
            "index of minimum value =  0\n",
            "index of maximum value =  9\n",
            "median =  4.5\n",
            "rank-based statistics =  0.045\n",
            "any elements are  True\n",
            "all elements are  False\n"
          ]
        }
      ]
    },
    {
      "cell_type": "markdown",
      "source": [
        "##3.브로드캐스팅 연산##\n",
        "\n",
        "서로 다른 차원을 가진 행렬 데이터 사이의 연산이 가능하도록 정해놓은 일종의 규칙"
      ],
      "metadata": {
        "id": "x_-Uonn1sdjA"
      }
    },
    {
      "cell_type": "markdown",
      "source": [
        "**3-1 브로드캐스팅 예시**"
      ],
      "metadata": {
        "id": "jln2CH3bsrWJ"
      }
    },
    {
      "cell_type": "code",
      "source": [
        "#단순 행렬로 계산\n",
        "a = np.array([0,1,2])\n",
        "b = np.array([5,5,5])\n",
        "a + b"
      ],
      "metadata": {
        "colab": {
          "base_uri": "https://localhost:8080/"
        },
        "id": "lmqu1D4usoc-",
        "outputId": "a631a737-c836-4d16-bc64-9b3b46b546c3"
      },
      "execution_count": null,
      "outputs": [
        {
          "output_type": "execute_result",
          "data": {
            "text/plain": [
              "array([5, 6, 7])"
            ]
          },
          "metadata": {},
          "execution_count": 63
        }
      ]
    },
    {
      "cell_type": "code",
      "source": [
        "#브로드캐스팅\n",
        "a + 5"
      ],
      "metadata": {
        "colab": {
          "base_uri": "https://localhost:8080/"
        },
        "id": "XA59YJzDs756",
        "outputId": "45b235af-d45d-45e9-eec8-403ca5c91591"
      },
      "execution_count": null,
      "outputs": [
        {
          "output_type": "execute_result",
          "data": {
            "text/plain": [
              "array([5, 6, 7])"
            ]
          },
          "metadata": {},
          "execution_count": 64
        }
      ]
    },
    {
      "cell_type": "markdown",
      "source": [
        "-"
      ],
      "metadata": {
        "id": "i357i-87tIK1"
      }
    },
    {
      "cell_type": "code",
      "source": [
        "M = np.ones((3,3))\n",
        "M"
      ],
      "metadata": {
        "colab": {
          "base_uri": "https://localhost:8080/"
        },
        "id": "rjbHNfMGs_SE",
        "outputId": "27469b52-6bc8-4ad8-d0d6-456bbd35aac4"
      },
      "execution_count": null,
      "outputs": [
        {
          "output_type": "execute_result",
          "data": {
            "text/plain": [
              "array([[1., 1., 1.],\n",
              "       [1., 1., 1.],\n",
              "       [1., 1., 1.]])"
            ]
          },
          "metadata": {},
          "execution_count": 65
        }
      ]
    },
    {
      "cell_type": "code",
      "source": [
        "M + a"
      ],
      "metadata": {
        "colab": {
          "base_uri": "https://localhost:8080/"
        },
        "id": "YbP_v7Y8tDGZ",
        "outputId": "925c2b8a-1d28-437d-deac-7ee66be5aea5"
      },
      "execution_count": null,
      "outputs": [
        {
          "output_type": "execute_result",
          "data": {
            "text/plain": [
              "array([[1., 2., 3.],\n",
              "       [1., 2., 3.],\n",
              "       [1., 2., 3.]])"
            ]
          },
          "metadata": {},
          "execution_count": 66
        }
      ]
    },
    {
      "cell_type": "markdown",
      "source": [
        "-"
      ],
      "metadata": {
        "id": "f9nfTt2EtKAI"
      }
    },
    {
      "cell_type": "code",
      "source": [
        "a = np.arange(3)\n",
        "b = np.arange(3)[:, np.newaxis]\n",
        "\n",
        "print(a)\n",
        "print(b)"
      ],
      "metadata": {
        "colab": {
          "base_uri": "https://localhost:8080/"
        },
        "id": "I1QhnIBXtKqF",
        "outputId": "f3a704db-f073-4f2e-fdcb-b679dcc47d4e"
      },
      "execution_count": null,
      "outputs": [
        {
          "output_type": "stream",
          "name": "stdout",
          "text": [
            "[0 1 2]\n",
            "[[0]\n",
            " [1]\n",
            " [2]]\n"
          ]
        }
      ]
    },
    {
      "cell_type": "code",
      "source": [
        "a + b"
      ],
      "metadata": {
        "colab": {
          "base_uri": "https://localhost:8080/"
        },
        "id": "0TyobwDjtV89",
        "outputId": "42c55758-55ea-4926-c9fe-ab13c791ed09"
      },
      "execution_count": null,
      "outputs": [
        {
          "output_type": "execute_result",
          "data": {
            "text/plain": [
              "array([[0, 1, 2],\n",
              "       [1, 2, 3],\n",
              "       [2, 3, 4]])"
            ]
          },
          "metadata": {},
          "execution_count": 68
        }
      ]
    },
    {
      "cell_type": "markdown",
      "source": [
        "**3-2 브로드캐스팅 규칙**"
      ],
      "metadata": {
        "id": "Pi_55EJJtchp"
      }
    },
    {
      "cell_type": "markdown",
      "source": [
        "* 규칙 1\n",
        "\n",
        "        한 배열이 다른 배열에 비해 적은 차원의 수를 가지고 있다면, 적은 차원을 가진 배열이 같은 차원을 가질 수 있도록 바꾼다.\n",
        "        새로운 차원을 추가할 때는 왼쪽에 1이 들어가도록 한다.\n",
        "\n",
        "* 규칙 2\n",
        "\n",
        "        두 배열의 차원이 같아졌는데, 서로 모양이 다르다면 모양이 같도록 바꾸어준다.\n",
        "\n",
        "* 규칙 3\n",
        "\n",
        "        차원이나 모양이 모두 다르다면 브로드캐스팅을 수행할 수 없다.\n"
      ],
      "metadata": {
        "id": "jYCJMm0jtgp5"
      }
    },
    {
      "cell_type": "code",
      "source": [
        "x = np.linspace(0,5,50)\n",
        "y = np.linspace(0,5,50)[:, np.newaxis]\n",
        "\n",
        "z = np.sin(x) ** 10 + np.cos(10 + y * x) * np.cos(x)"
      ],
      "metadata": {
        "id": "IoC8sAThu00J"
      },
      "execution_count": null,
      "outputs": []
    },
    {
      "cell_type": "code",
      "source": [
        "z"
      ],
      "metadata": {
        "colab": {
          "base_uri": "https://localhost:8080/"
        },
        "id": "rEORPcWDvRVF",
        "outputId": "f46926c5-e0f4-425b-93ec-842435057bd4"
      },
      "execution_count": null,
      "outputs": [
        {
          "output_type": "execute_result",
          "data": {
            "text/plain": [
              "array([[-0.83907153, -0.83470697, -0.8216586 , ...,  0.8956708 ,\n",
              "         0.68617261,  0.41940746],\n",
              "       [-0.83907153, -0.82902677, -0.8103873 , ...,  0.92522407,\n",
              "         0.75321348,  0.52508175],\n",
              "       [-0.83907153, -0.82325668, -0.79876457, ...,  0.96427357,\n",
              "         0.84172689,  0.66446403],\n",
              "       ...,\n",
              "       [-0.83907153, -0.48233077, -0.01646558, ...,  0.96449925,\n",
              "         0.75196531,  0.41982581],\n",
              "       [-0.83907153, -0.47324558,  0.00392612, ...,  0.92542163,\n",
              "         0.68540362,  0.37440839],\n",
              "       [-0.83907153, -0.46410908,  0.02431613, ...,  0.89579384,\n",
              "         0.65690314,  0.40107702]])"
            ]
          },
          "metadata": {},
          "execution_count": 77
        }
      ]
    }
  ]
}