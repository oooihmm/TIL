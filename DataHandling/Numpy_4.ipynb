{
  "nbformat": 4,
  "nbformat_minor": 0,
  "metadata": {
    "colab": {
      "provenance": []
    },
    "kernelspec": {
      "name": "python3",
      "display_name": "Python 3"
    },
    "language_info": {
      "name": "python"
    }
  },
  "cells": [
    {
      "cell_type": "markdown",
      "source": [
        "**데이터처리1_numpy4**\n",
        "\n",
        "Numpy Array의 연산 (2)\n",
        "\n",
        "* Boolean 배열\n",
        "* Fancy Indexing\n",
        "* 정렬"
      ],
      "metadata": {
        "id": "6q4Do053wjw1"
      }
    },
    {
      "cell_type": "code",
      "source": [
        "import numpy as np"
      ],
      "metadata": {
        "id": "HrPpdZnpoMd2"
      },
      "execution_count": null,
      "outputs": []
    },
    {
      "cell_type": "markdown",
      "source": [
        "##1. Boolean 배열##"
      ],
      "metadata": {
        "id": "16Us1f6ww8HO"
      }
    },
    {
      "cell_type": "markdown",
      "source": [
        "**1-1비교연산자 recap**\n",
        "\n",
        "* 수치의 대소를 비교\n",
        "\n",
        "        == : np.equal\n",
        "        < : np.less\n",
        "        > : np.greater\n",
        "        != : np.not_equal\n",
        "        <= : np.less_equal\n",
        "        >= : np.greater_equal\n",
        "\n",
        "* 연산의 결과값\n",
        "        True, False\n",
        "\n",
        "    -> Numpy 비교연산자도 Ufuncs로 구현하였음"
      ],
      "metadata": {
        "id": "CFdPaXRXnEes"
      }
    },
    {
      "cell_type": "code",
      "source": [
        "x = np.arange(6)\n",
        "print(x)"
      ],
      "metadata": {
        "id": "ly-fx2ZyxG9j",
        "colab": {
          "base_uri": "https://localhost:8080/"
        },
        "outputId": "221dfb39-45b4-4a41-ef52-570b99118fea"
      },
      "execution_count": null,
      "outputs": [
        {
          "output_type": "stream",
          "name": "stdout",
          "text": [
            "[0 1 2 3 4 5]\n"
          ]
        }
      ]
    },
    {
      "cell_type": "code",
      "source": [
        "print(x<3)\n",
        "print(x>3)\n",
        "print(x<=3)\n",
        "print(x>=3)\n",
        "print(x!=3)\n",
        "print(x==3)"
      ],
      "metadata": {
        "colab": {
          "base_uri": "https://localhost:8080/"
        },
        "id": "hdpNql1noSaZ",
        "outputId": "68e1038d-16c7-4b34-af71-88e9c9b79821"
      },
      "execution_count": null,
      "outputs": [
        {
          "output_type": "stream",
          "name": "stdout",
          "text": [
            "[ True  True  True False False False]\n",
            "[False False False False  True  True]\n",
            "[ True  True  True  True False False]\n",
            "[False False False  True  True  True]\n",
            "[ True  True  True False  True  True]\n",
            "[False False False  True False False]\n"
          ]
        }
      ]
    },
    {
      "cell_type": "code",
      "source": [
        "print(2*x)\n",
        "print(x**2)\n",
        "print((2*x)==(x**2))"
      ],
      "metadata": {
        "colab": {
          "base_uri": "https://localhost:8080/"
        },
        "id": "-t4WUYrjoe_t",
        "outputId": "1263e691-b80d-4741-a0fe-6ea32280f923"
      },
      "execution_count": null,
      "outputs": [
        {
          "output_type": "stream",
          "name": "stdout",
          "text": [
            "[ 0  2  4  6  8 10]\n",
            "[ 0  1  4  9 16 25]\n",
            "[ True False  True False False False]\n"
          ]
        }
      ]
    },
    {
      "cell_type": "markdown",
      "source": [
        "다차원 배열에서의 비교 연산"
      ],
      "metadata": {
        "id": "6U7JhzWxowAo"
      }
    },
    {
      "cell_type": "code",
      "source": [
        "rng = np.random.RandomState(0) #난수의 순서를 지정\n",
        "x = rng.randint(10, size=(3,4))\n",
        "x"
      ],
      "metadata": {
        "colab": {
          "base_uri": "https://localhost:8080/"
        },
        "id": "FrTxRjBNo5tA",
        "outputId": "86cddf7b-d2ef-4add-cd1c-0b41644b6338"
      },
      "execution_count": null,
      "outputs": [
        {
          "output_type": "execute_result",
          "data": {
            "text/plain": [
              "array([[5, 0, 3, 3],\n",
              "       [7, 9, 3, 5],\n",
              "       [2, 4, 7, 6]])"
            ]
          },
          "metadata": {},
          "execution_count": 10
        }
      ]
    },
    {
      "cell_type": "code",
      "source": [
        "x<6"
      ],
      "metadata": {
        "colab": {
          "base_uri": "https://localhost:8080/"
        },
        "id": "oOz_PdTLpKk_",
        "outputId": "a43ca5dd-c3ad-4e39-daba-05ebdf590c06"
      },
      "execution_count": null,
      "outputs": [
        {
          "output_type": "execute_result",
          "data": {
            "text/plain": [
              "array([[ True,  True,  True,  True],\n",
              "       [False, False,  True,  True],\n",
              "       [ True,  True, False, False]])"
            ]
          },
          "metadata": {},
          "execution_count": 11
        }
      ]
    },
    {
      "cell_type": "markdown",
      "source": [
        "**1-2 Boolean 배열의 활용**\n",
        "\n",
        "-> 비교연산의 결과 Boolean 배열을 얻을 수 있음"
      ],
      "metadata": {
        "id": "PUT1SssXpTs5"
      }
    },
    {
      "cell_type": "code",
      "source": [
        "x"
      ],
      "metadata": {
        "colab": {
          "base_uri": "https://localhost:8080/"
        },
        "id": "i-1wVOk1pazR",
        "outputId": "08ad899d-ad68-4385-b6b2-848e4b1667bb"
      },
      "execution_count": null,
      "outputs": [
        {
          "output_type": "execute_result",
          "data": {
            "text/plain": [
              "array([[5, 0, 3, 3],\n",
              "       [7, 9, 3, 5],\n",
              "       [2, 4, 7, 6]])"
            ]
          },
          "metadata": {},
          "execution_count": 12
        }
      ]
    },
    {
      "cell_type": "code",
      "source": [
        "print(np.count_nonzero(x<6)) #조건식을 만족시키는 값의 개수\n",
        "print(np.sum(x<6)) \n",
        "print(np.sum(x<6, axis=1)) #행방향\n",
        "print(np.sum(x<6, axis=0)) #열방향\n",
        "print(np.any(x>8)) #조건식을 만족하는 값이 있는지 여부\n",
        "print(np.any(x<0))\n",
        "print(np.any(x>8, axis=1)) #행방향\n",
        "print(np.any(x>8, axis=0)) #열방향\n",
        "print(np.all(x<10)) #모든 값이 조건식을 만족하는지 여부\n",
        "print(np.all(x==6))\n",
        "print(np.all(x<8, axis=1)) #행방향\n",
        "print(np.all(x<8, axis=0)) #열방향"
      ],
      "metadata": {
        "colab": {
          "base_uri": "https://localhost:8080/"
        },
        "id": "Dz3byndTp01Q",
        "outputId": "5fe9411b-e8b9-4ef9-97a7-b26b99dac2c2"
      },
      "execution_count": null,
      "outputs": [
        {
          "output_type": "stream",
          "name": "stdout",
          "text": [
            "8\n",
            "8\n",
            "[4 2 2]\n",
            "[2 2 2 2]\n",
            "True\n",
            "False\n",
            "[False  True False]\n",
            "[False  True False False]\n",
            "True\n",
            "False\n",
            "[ True False  True]\n",
            "[ True False  True  True]\n"
          ]
        }
      ]
    },
    {
      "cell_type": "markdown",
      "source": [
        "**1-3 boolean operation**\n",
        "\n",
        "        & : np.bitwise_and\n",
        "        | : np.bitwise_or\n",
        "        ^ : np.bitwise_xor\n",
        "        ~ : np.bitwise_not\n",
        "    "
      ],
      "metadata": {
        "id": "C7wF6tgHrowM"
      }
    },
    {
      "cell_type": "code",
      "source": [
        "x = np.random.randint(10, size=(3,4))"
      ],
      "metadata": {
        "id": "rUxZyfj8s1zB"
      },
      "execution_count": null,
      "outputs": []
    },
    {
      "cell_type": "code",
      "source": [
        "print(x)"
      ],
      "metadata": {
        "colab": {
          "base_uri": "https://localhost:8080/"
        },
        "id": "6yIQ9Ek-s_4U",
        "outputId": "5b51be5f-7d37-488d-b4f5-a50197a85686"
      },
      "execution_count": null,
      "outputs": [
        {
          "output_type": "stream",
          "name": "stdout",
          "text": [
            "[[1 3 7 5]\n",
            " [9 6 5 9]\n",
            " [2 0 6 1]]\n"
          ]
        }
      ]
    },
    {
      "cell_type": "code",
      "source": [
        "print(np.sum((x > 2) & (x < 6)))\n",
        "print(np.sum(~( (x <= 1) | (x >= 7) )))"
      ],
      "metadata": {
        "colab": {
          "base_uri": "https://localhost:8080/"
        },
        "id": "m0WMV_ITtEXU",
        "outputId": "3bad3798-f68c-45e5-953f-d948a8e4d44b"
      },
      "execution_count": null,
      "outputs": [
        {
          "output_type": "stream",
          "name": "stdout",
          "text": [
            "3\n",
            "6\n"
          ]
        }
      ]
    },
    {
      "cell_type": "markdown",
      "source": [
        "**1-4 Boolean 배열을 이용한 데이터 추출**\n",
        "\n",
        "* Mask\n",
        "    \n",
        "    -> Boolean 배열을 이용하여 조건을 만족하는 데이터만 추리는 작업"
      ],
      "metadata": {
        "id": "JwXSDFW2xX39"
      }
    },
    {
      "cell_type": "code",
      "source": [
        "x"
      ],
      "metadata": {
        "colab": {
          "base_uri": "https://localhost:8080/"
        },
        "id": "H5GtHf8zy26V",
        "outputId": "2ba13f37-1d08-41db-f7f5-6b80e675fc34"
      },
      "execution_count": null,
      "outputs": [
        {
          "output_type": "execute_result",
          "data": {
            "text/plain": [
              "array([[1, 3, 7, 5],\n",
              "       [9, 6, 5, 9],\n",
              "       [2, 0, 6, 1]])"
            ]
          },
          "metadata": {},
          "execution_count": 38
        }
      ]
    },
    {
      "cell_type": "code",
      "source": [
        "x<5"
      ],
      "metadata": {
        "colab": {
          "base_uri": "https://localhost:8080/"
        },
        "id": "nOqN1hxTy5Hx",
        "outputId": "34582997-75e8-4ec5-9e59-fa02ff533830"
      },
      "execution_count": null,
      "outputs": [
        {
          "output_type": "execute_result",
          "data": {
            "text/plain": [
              "array([[ True,  True, False, False],\n",
              "       [False, False, False, False],\n",
              "       [ True,  True, False,  True]])"
            ]
          },
          "metadata": {},
          "execution_count": 39
        }
      ]
    },
    {
      "cell_type": "code",
      "source": [
        "x[x<5]"
      ],
      "metadata": {
        "colab": {
          "base_uri": "https://localhost:8080/"
        },
        "id": "Xtj0Bfloy6al",
        "outputId": "b59df576-2d6e-42fb-e3da-c92e9efbfd2b"
      },
      "execution_count": null,
      "outputs": [
        {
          "output_type": "execute_result",
          "data": {
            "text/plain": [
              "array([1, 3, 2, 0, 1])"
            ]
          },
          "metadata": {},
          "execution_count": 40
        }
      ]
    },
    {
      "cell_type": "markdown",
      "source": [
        "##2. Fancy Indexing##"
      ],
      "metadata": {
        "id": "jFRI3P6Hw_Gk"
      }
    },
    {
      "cell_type": "markdown",
      "source": [
        "**2-1 기존 Indexing과 Fancy Indexing**"
      ],
      "metadata": {
        "id": "H4ZXvWMvzpCt"
      }
    },
    {
      "cell_type": "markdown",
      "source": [
        "난수 생성"
      ],
      "metadata": {
        "id": "11RY13Lqzw_L"
      }
    },
    {
      "cell_type": "code",
      "source": [
        "rand = np.random.RandomState(42)\n",
        "\n",
        "x = rand.randint(100, size=10)\n",
        "print(x)"
      ],
      "metadata": {
        "colab": {
          "base_uri": "https://localhost:8080/"
        },
        "id": "tkski63gzodF",
        "outputId": "cb3d379d-1b12-4a1c-886b-bf7d844d96b1"
      },
      "execution_count": null,
      "outputs": [
        {
          "output_type": "stream",
          "name": "stdout",
          "text": [
            "[51 92 14 71 60 20 82 86 74 74]\n"
          ]
        }
      ]
    },
    {
      "cell_type": "markdown",
      "source": [
        "기존 인덱싱"
      ],
      "metadata": {
        "id": "ooP7yaA6z_3j"
      }
    },
    {
      "cell_type": "code",
      "source": [
        "[x[3], x[7], x[2]]"
      ],
      "metadata": {
        "colab": {
          "base_uri": "https://localhost:8080/"
        },
        "id": "hTAoVkZzz9Pv",
        "outputId": "dc04d7eb-3967-47d7-bfb3-5437c127f94f"
      },
      "execution_count": null,
      "outputs": [
        {
          "output_type": "execute_result",
          "data": {
            "text/plain": [
              "[71, 86, 14]"
            ]
          },
          "metadata": {},
          "execution_count": 44
        }
      ]
    },
    {
      "cell_type": "markdown",
      "source": [
        "Fancy Indexing"
      ],
      "metadata": {
        "id": "asEm6vC80JFF"
      }
    },
    {
      "cell_type": "code",
      "source": [
        "ind = [3,7,4]\n",
        "x[ind]"
      ],
      "metadata": {
        "colab": {
          "base_uri": "https://localhost:8080/"
        },
        "id": "8zwBst2v0LSr",
        "outputId": "4d5764d2-dfff-4899-bbff-6e0fe22c13e1"
      },
      "execution_count": null,
      "outputs": [
        {
          "output_type": "execute_result",
          "data": {
            "text/plain": [
              "array([71, 86, 60])"
            ]
          },
          "metadata": {},
          "execution_count": 45
        }
      ]
    },
    {
      "cell_type": "markdown",
      "source": [
        "**2-2 Fancy Indexing의 Shape**\n",
        "\n",
        "인덱스 배열에 입력되는 shape에 따라 output의 shape도 결정됨"
      ],
      "metadata": {
        "id": "6a5lcu0e0RhG"
      }
    },
    {
      "cell_type": "code",
      "source": [
        "ind = np.array([[3,7],[4,5]])\n",
        "x[ind]"
      ],
      "metadata": {
        "colab": {
          "base_uri": "https://localhost:8080/"
        },
        "id": "KqQgWdCX0eKE",
        "outputId": "90137e4d-5020-4a2e-ef6e-ab7e3ff64dbd"
      },
      "execution_count": null,
      "outputs": [
        {
          "output_type": "execute_result",
          "data": {
            "text/plain": [
              "array([[71, 86],\n",
              "       [60, 20]])"
            ]
          },
          "metadata": {},
          "execution_count": 50
        }
      ]
    },
    {
      "cell_type": "markdown",
      "source": [
        "다차원 배열에서의 Fancy Indexing"
      ],
      "metadata": {
        "id": "Ccr7digT041K"
      }
    },
    {
      "cell_type": "code",
      "source": [
        "x = np.arange(12).reshape((3,4))\n",
        "x"
      ],
      "metadata": {
        "colab": {
          "base_uri": "https://localhost:8080/"
        },
        "id": "NTBxycU107z8",
        "outputId": "c4a56515-06cc-4dd3-8651-2f88ac790f27"
      },
      "execution_count": null,
      "outputs": [
        {
          "output_type": "execute_result",
          "data": {
            "text/plain": [
              "array([[ 0,  1,  2,  3],\n",
              "       [ 4,  5,  6,  7],\n",
              "       [ 8,  9, 10, 11]])"
            ]
          },
          "metadata": {},
          "execution_count": 51
        }
      ]
    },
    {
      "cell_type": "code",
      "source": [
        "row = np.array([0,1,2])\n",
        "col = np.array([2,1,3])\n",
        "x[row, col]"
      ],
      "metadata": {
        "colab": {
          "base_uri": "https://localhost:8080/"
        },
        "id": "-v6x8snl1Ach",
        "outputId": "01fce6ac-e1b2-45ae-e77e-870cd5e772ff"
      },
      "execution_count": null,
      "outputs": [
        {
          "output_type": "execute_result",
          "data": {
            "text/plain": [
              "array([ 2,  5, 11])"
            ]
          },
          "metadata": {},
          "execution_count": 54
        }
      ]
    },
    {
      "cell_type": "markdown",
      "source": [
        "**2-3 Fancy Indexing의 활용**"
      ],
      "metadata": {
        "id": "ZNw65sSl1mPn"
      }
    },
    {
      "cell_type": "code",
      "source": [
        "x"
      ],
      "metadata": {
        "colab": {
          "base_uri": "https://localhost:8080/"
        },
        "id": "USYpEVPa1pp_",
        "outputId": "dbdf21fe-350b-416e-94d7-2701c6a336ab"
      },
      "execution_count": null,
      "outputs": [
        {
          "output_type": "execute_result",
          "data": {
            "text/plain": [
              "array([[ 0,  1,  2,  3],\n",
              "       [ 4,  5,  6,  7],\n",
              "       [ 8,  9, 10, 11]])"
            ]
          },
          "metadata": {},
          "execution_count": 55
        }
      ]
    },
    {
      "cell_type": "code",
      "source": [
        "x[2, [2,0,1]]"
      ],
      "metadata": {
        "colab": {
          "base_uri": "https://localhost:8080/"
        },
        "id": "XyApq2tn1s7X",
        "outputId": "5d9342b2-5e0b-40a5-df3c-529ff367d1c8"
      },
      "execution_count": null,
      "outputs": [
        {
          "output_type": "execute_result",
          "data": {
            "text/plain": [
              "array([10,  8,  9])"
            ]
          },
          "metadata": {},
          "execution_count": 56
        }
      ]
    },
    {
      "cell_type": "code",
      "source": [
        "x[1:, [2,0,1]]"
      ],
      "metadata": {
        "colab": {
          "base_uri": "https://localhost:8080/"
        },
        "id": "iX0kqrfO10M0",
        "outputId": "73a1954e-dfce-4853-c519-6082ee2e56ee"
      },
      "execution_count": null,
      "outputs": [
        {
          "output_type": "execute_result",
          "data": {
            "text/plain": [
              "array([[ 6,  4,  5],\n",
              "       [10,  8,  9]])"
            ]
          },
          "metadata": {},
          "execution_count": 57
        }
      ]
    },
    {
      "cell_type": "markdown",
      "source": [
        "예시 : 데이터 무작위로 고르기"
      ],
      "metadata": {
        "id": "xvzgXAO0191j"
      }
    },
    {
      "cell_type": "code",
      "source": [
        "mean = [0,0]\n",
        "cov = [[1,2],[2,5]]\n",
        "X = rand.multivariate_normal(mean, cov, 100)\n",
        "X.shape"
      ],
      "metadata": {
        "colab": {
          "base_uri": "https://localhost:8080/"
        },
        "id": "k0vCBosQ2Amh",
        "outputId": "0475e07f-7c2d-48e7-b48b-a65deb27fc99"
      },
      "execution_count": null,
      "outputs": [
        {
          "output_type": "execute_result",
          "data": {
            "text/plain": [
              "(100, 2)"
            ]
          },
          "metadata": {},
          "execution_count": 59
        }
      ]
    },
    {
      "cell_type": "code",
      "source": [
        "%matplotlib inline\n",
        "import matplotlib.pyplot as plt\n",
        "import seaborn; seaborn.set()\n",
        "\n",
        "plt.scatter(X[:,0],X[:,1]);"
      ],
      "metadata": {
        "colab": {
          "base_uri": "https://localhost:8080/",
          "height": 268
        },
        "id": "pWlaD-hq2P_l",
        "outputId": "91e50952-dd92-41f5-a208-4eef7571cee8"
      },
      "execution_count": null,
      "outputs": [
        {
          "output_type": "display_data",
          "data": {
            "text/plain": [
              "<Figure size 432x288 with 1 Axes>"
            ],
            "image/png": "[encoded data removed]"
          },
          "metadata": {}
        }
      ]
    },
    {
      "cell_type": "code",
      "source": [
        "indices = np.random.choice(X.shape[0], 20, replace=False)\n",
        "indices"
      ],
      "metadata": {
        "colab": {
          "base_uri": "https://localhost:8080/"
        },
        "id": "pAApDfL02oIf",
        "outputId": "86b969bb-bc5f-4725-ce5c-eb3e2c398002"
      },
      "execution_count": null,
      "outputs": [
        {
          "output_type": "execute_result",
          "data": {
            "text/plain": [
              "array([61, 89, 64, 77, 30, 43, 86, 39, 56, 85, 29, 21, 91, 70, 79, 94, 75,\n",
              "       71, 69,  6])"
            ]
          },
          "metadata": {},
          "execution_count": 62
        }
      ]
    },
    {
      "cell_type": "code",
      "source": [
        "selection = X[indices]\n",
        "selection.shape"
      ],
      "metadata": {
        "colab": {
          "base_uri": "https://localhost:8080/"
        },
        "id": "SfhX9Z1-2vRz",
        "outputId": "7fe1ace3-2f01-4d52-b384-eb0158c6374c"
      },
      "execution_count": null,
      "outputs": [
        {
          "output_type": "execute_result",
          "data": {
            "text/plain": [
              "(20, 2)"
            ]
          },
          "metadata": {},
          "execution_count": 63
        }
      ]
    },
    {
      "cell_type": "code",
      "source": [
        "plt.scatter(X[:, 0], X[:, 1], alpha=0.3)\n",
        "plt.scatter(selection[:,0], selection[:,1], facecolor='none', s=200);"
      ],
      "metadata": {
        "colab": {
          "base_uri": "https://localhost:8080/",
          "height": 268
        },
        "id": "lRZyayuh20tC",
        "outputId": "3ac31f10-3b89-4612-fa3a-0702f8c487c4"
      },
      "execution_count": null,
      "outputs": [
        {
          "output_type": "display_data",
          "data": {
            "text/plain": [
              "<Figure size 432x288 with 1 Axes>"
            ],
            "image/png": "[encoded data removed]"
          },
          "metadata": {}
        }
      ]
    },
    {
      "cell_type": "markdown",
      "source": [
        "##3. 정렬##\n",
        "\n",
        "        np.sort : 배열 내의 값을 정렬\n",
        "        np.argsort : 정렬된 인덱스를 반환\n",
        "        "
      ],
      "metadata": {
        "id": "9tSXDFeBxDFy"
      }
    },
    {
      "cell_type": "markdown",
      "source": [
        "**3-1 정렬 함수**"
      ],
      "metadata": {
        "id": "fmftffFS4IbL"
      }
    },
    {
      "cell_type": "code",
      "source": [
        "x = np.random.randint(10, size=(8))\n",
        "x"
      ],
      "metadata": {
        "colab": {
          "base_uri": "https://localhost:8080/"
        },
        "id": "mZpd5qFI1sgF",
        "outputId": "7592c341-7b9e-435e-8c5f-8b955e3b8621"
      },
      "execution_count": null,
      "outputs": [
        {
          "output_type": "execute_result",
          "data": {
            "text/plain": [
              "array([3, 8, 0, 9, 6, 7, 8, 5])"
            ]
          },
          "metadata": {},
          "execution_count": 67
        }
      ]
    },
    {
      "cell_type": "code",
      "source": [
        "np.sort(x)"
      ],
      "metadata": {
        "colab": {
          "base_uri": "https://localhost:8080/"
        },
        "id": "5AoQI6tD4VuG",
        "outputId": "293bf92e-460b-4cc4-a421-aebd2ed10a5a"
      },
      "execution_count": null,
      "outputs": [
        {
          "output_type": "execute_result",
          "data": {
            "text/plain": [
              "array([0, 3, 5, 6, 7, 8, 8, 9])"
            ]
          },
          "metadata": {},
          "execution_count": 68
        }
      ]
    },
    {
      "cell_type": "code",
      "source": [
        "np.argsort(x)"
      ],
      "metadata": {
        "colab": {
          "base_uri": "https://localhost:8080/"
        },
        "id": "oafIR8wc4YRu",
        "outputId": "901632a1-a0d5-48a8-bbec-7427e4f8706d"
      },
      "execution_count": null,
      "outputs": [
        {
          "output_type": "execute_result",
          "data": {
            "text/plain": [
              "array([2, 0, 7, 4, 5, 1, 6, 3])"
            ]
          },
          "metadata": {},
          "execution_count": 70
        }
      ]
    },
    {
      "cell_type": "markdown",
      "source": [
        "**3-2 다차원 배열의 정렬**"
      ],
      "metadata": {
        "id": "Bz_pehKi4pOx"
      }
    },
    {
      "cell_type": "code",
      "source": [
        "rand = np.random.RandomState(42)\n",
        "X = rand.randint(0,10,(4,6))\n",
        "X"
      ],
      "metadata": {
        "id": "1nfibItU4sHe",
        "colab": {
          "base_uri": "https://localhost:8080/"
        },
        "outputId": "b7406fbd-a006-4aa9-d21f-037caddaff0a"
      },
      "execution_count": null,
      "outputs": [
        {
          "output_type": "execute_result",
          "data": {
            "text/plain": [
              "array([[6, 3, 7, 4, 6, 9],\n",
              "       [2, 6, 7, 4, 3, 7],\n",
              "       [7, 2, 5, 4, 1, 7],\n",
              "       [5, 1, 4, 0, 9, 5]])"
            ]
          },
          "metadata": {},
          "execution_count": 3
        }
      ]
    },
    {
      "cell_type": "code",
      "source": [
        "np.sort(X, axis=0) #열방향 정렬"
      ],
      "metadata": {
        "colab": {
          "base_uri": "https://localhost:8080/"
        },
        "id": "qNUo7EplAfvt",
        "outputId": "bacaad31-4fb5-4c6e-af71-b7e44a76baf1"
      },
      "execution_count": null,
      "outputs": [
        {
          "output_type": "execute_result",
          "data": {
            "text/plain": [
              "array([[2, 1, 4, 0, 1, 5],\n",
              "       [5, 2, 5, 4, 3, 7],\n",
              "       [6, 3, 7, 4, 6, 7],\n",
              "       [7, 6, 7, 4, 9, 9]])"
            ]
          },
          "metadata": {},
          "execution_count": 4
        }
      ]
    },
    {
      "cell_type": "code",
      "source": [
        "np.sort(X, axis=1) #행방향 정렬"
      ],
      "metadata": {
        "colab": {
          "base_uri": "https://localhost:8080/"
        },
        "id": "96o7vVlKAlFB",
        "outputId": "d3617521-6145-4e05-8659-62cd45bf28fd"
      },
      "execution_count": null,
      "outputs": [
        {
          "output_type": "execute_result",
          "data": {
            "text/plain": [
              "array([[3, 4, 6, 6, 7, 9],\n",
              "       [2, 3, 4, 6, 7, 7],\n",
              "       [1, 2, 4, 5, 7, 7],\n",
              "       [0, 1, 4, 5, 5, 9]])"
            ]
          },
          "metadata": {},
          "execution_count": 5
        }
      ]
    }
  ]
}