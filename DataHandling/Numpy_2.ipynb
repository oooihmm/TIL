{
  "nbformat": 4,
  "nbformat_minor": 0,
  "metadata": {
    "colab": {
      "provenance": [],
      "collapsed_sections": [
        "GUT17f63IHZN",
        "QlHH7XFlKv9-",
        "dNQEiqWiPHGJ"
      ]
    },
    "kernelspec": {
      "name": "python3",
      "display_name": "Python 3"
    },
    "language_info": {
      "name": "python"
    }
  },
  "cells": [
    {
      "cell_type": "markdown",
      "source": [
        "**데이터처리1_numpy2**\n",
        "\n",
        "Numpy 배열의 생성 및 변형"
      ],
      "metadata": {
        "id": "EwrLahzNIGJn"
      }
    },
    {
      "cell_type": "code",
      "source": [
        "import numpy as np"
      ],
      "metadata": {
        "id": "zzwgKJyYIqFD"
      },
      "execution_count": null,
      "outputs": []
    },
    {
      "cell_type": "markdown",
      "source": [
        "##1. 배열의 접근과 수정##"
      ],
      "metadata": {
        "id": "GUT17f63IHZN"
      }
    },
    {
      "cell_type": "markdown",
      "source": [
        "**1-1 Scratch를 통한 배열 생성**\n",
        "\n",
        "* Numpy Array는 일종의 객체\n",
        "* 생성된 데이터에 대한 다양한 정보를 attribute로 가짐"
      ],
      "metadata": {
        "id": "2rP4Cac0IcoL"
      }
    },
    {
      "cell_type": "code",
      "source": [
        "np.random.seed(0)\n",
        "\n",
        "x1 = np.random.randint(10, size=6)\n",
        "x2 = np.random.randint(10, size=(3,4))\n",
        "x3 = np.random.randint(10, size=(3,4,5))"
      ],
      "metadata": {
        "id": "3k8lYaDiIErS"
      },
      "execution_count": null,
      "outputs": []
    },
    {
      "cell_type": "code",
      "source": [
        "x1"
      ],
      "metadata": {
        "colab": {
          "base_uri": "https://localhost:8080/"
        },
        "id": "oD_Y5T7DJBeV",
        "outputId": "f21ad3cf-6182-43c2-8951-0750f240f264"
      },
      "execution_count": null,
      "outputs": [
        {
          "output_type": "execute_result",
          "data": {
            "text/plain": [
              "array([5, 0, 3, 3, 7, 9])"
            ]
          },
          "metadata": {},
          "execution_count": 148
        }
      ]
    },
    {
      "cell_type": "code",
      "source": [
        "x2"
      ],
      "metadata": {
        "colab": {
          "base_uri": "https://localhost:8080/"
        },
        "id": "-MRlzSwdJCzq",
        "outputId": "aa90c181-5a76-4ab4-87da-1f725265428d"
      },
      "execution_count": null,
      "outputs": [
        {
          "output_type": "execute_result",
          "data": {
            "text/plain": [
              "array([[3, 5, 2, 4],\n",
              "       [7, 6, 8, 8],\n",
              "       [1, 6, 7, 7]])"
            ]
          },
          "metadata": {},
          "execution_count": 149
        }
      ]
    },
    {
      "cell_type": "code",
      "source": [
        "x3"
      ],
      "metadata": {
        "colab": {
          "base_uri": "https://localhost:8080/"
        },
        "id": "ioPNhBVEJEDI",
        "outputId": "c5ac5c94-8df6-4dab-d33e-9691f5f13cb4"
      },
      "execution_count": null,
      "outputs": [
        {
          "output_type": "execute_result",
          "data": {
            "text/plain": [
              "array([[[8, 1, 5, 9, 8],\n",
              "        [9, 4, 3, 0, 3],\n",
              "        [5, 0, 2, 3, 8],\n",
              "        [1, 3, 3, 3, 7]],\n",
              "\n",
              "       [[0, 1, 9, 9, 0],\n",
              "        [4, 7, 3, 2, 7],\n",
              "        [2, 0, 0, 4, 5],\n",
              "        [5, 6, 8, 4, 1]],\n",
              "\n",
              "       [[4, 9, 8, 1, 1],\n",
              "        [7, 9, 9, 3, 6],\n",
              "        [7, 2, 0, 3, 5],\n",
              "        [9, 4, 4, 6, 4]]])"
            ]
          },
          "metadata": {},
          "execution_count": 150
        }
      ]
    },
    {
      "cell_type": "markdown",
      "source": [
        "* 배열의 차원, 모양, 크기, 데이터 타입 등을 attribute에 지님"
      ],
      "metadata": {
        "id": "gu3Wd8u7JL16"
      }
    },
    {
      "cell_type": "code",
      "source": [
        "print(\"x3 ndim\", x3.ndim) #차원\n",
        "print(\"x3 shape\", x3.shape) #모양\n",
        "print(\"x3 size\", x3.size) #데이터 개수"
      ],
      "metadata": {
        "colab": {
          "base_uri": "https://localhost:8080/"
        },
        "id": "jD7AkzBYJKE9",
        "outputId": "6d6c30de-7b2f-4ec3-9839-24b29f48d883"
      },
      "execution_count": null,
      "outputs": [
        {
          "output_type": "stream",
          "name": "stdout",
          "text": [
            "x3 ndim 3\n",
            "x3 shape (3, 4, 5)\n",
            "x3 size 60\n"
          ]
        }
      ]
    },
    {
      "cell_type": "markdown",
      "source": [
        "**1-2 배열 값에 접근**"
      ],
      "metadata": {
        "id": "2WTisTdRJn91"
      }
    },
    {
      "cell_type": "markdown",
      "source": [
        "index를 사용하여 접근 가능"
      ],
      "metadata": {
        "id": "v7C-5rprJqwR"
      }
    },
    {
      "cell_type": "code",
      "source": [
        "x1"
      ],
      "metadata": {
        "colab": {
          "base_uri": "https://localhost:8080/"
        },
        "id": "RPsK4nLLJtBy",
        "outputId": "f00f56d6-c123-470c-8dd6-5ec062eb44a2"
      },
      "execution_count": null,
      "outputs": [
        {
          "output_type": "execute_result",
          "data": {
            "text/plain": [
              "array([5, 0, 3, 3, 7, 9])"
            ]
          },
          "metadata": {},
          "execution_count": 152
        }
      ]
    },
    {
      "cell_type": "code",
      "source": [
        "x1[2]"
      ],
      "metadata": {
        "colab": {
          "base_uri": "https://localhost:8080/"
        },
        "id": "CYzywBUdJvyo",
        "outputId": "a1a415e2-3967-4576-f63b-9d272f1ac1a8"
      },
      "execution_count": null,
      "outputs": [
        {
          "output_type": "execute_result",
          "data": {
            "text/plain": [
              "3"
            ]
          },
          "metadata": {},
          "execution_count": 153
        }
      ]
    },
    {
      "cell_type": "code",
      "source": [
        "x1[-1]"
      ],
      "metadata": {
        "colab": {
          "base_uri": "https://localhost:8080/"
        },
        "id": "QMAleoB6JyWo",
        "outputId": "9f9ddf75-045a-43d0-ed29-51a4da75e612"
      },
      "execution_count": null,
      "outputs": [
        {
          "output_type": "execute_result",
          "data": {
            "text/plain": [
              "9"
            ]
          },
          "metadata": {},
          "execution_count": 154
        }
      ]
    },
    {
      "cell_type": "code",
      "source": [
        "x1[-2]"
      ],
      "metadata": {
        "colab": {
          "base_uri": "https://localhost:8080/"
        },
        "id": "5A0dEUOeJ0V_",
        "outputId": "0010e5b6-327e-43eb-f6e8-315081eae406"
      },
      "execution_count": null,
      "outputs": [
        {
          "output_type": "execute_result",
          "data": {
            "text/plain": [
              "7"
            ]
          },
          "metadata": {},
          "execution_count": 155
        }
      ]
    },
    {
      "cell_type": "markdown",
      "source": [
        "다차원 배열 -> comma seperated tuple로 접근"
      ],
      "metadata": {
        "id": "qag8EGc3J2_w"
      }
    },
    {
      "cell_type": "code",
      "source": [
        "x2"
      ],
      "metadata": {
        "colab": {
          "base_uri": "https://localhost:8080/"
        },
        "id": "dM85cDPEJ71Q",
        "outputId": "4a0cb681-2d40-4c0b-842e-9e5e50203c4e"
      },
      "execution_count": null,
      "outputs": [
        {
          "output_type": "execute_result",
          "data": {
            "text/plain": [
              "array([[3, 5, 2, 4],\n",
              "       [7, 6, 8, 8],\n",
              "       [1, 6, 7, 7]])"
            ]
          },
          "metadata": {},
          "execution_count": 156
        }
      ]
    },
    {
      "cell_type": "code",
      "source": [
        "#파이썬에서 다차원 배열에 접근하는 법\n",
        "x2[0][0]"
      ],
      "metadata": {
        "colab": {
          "base_uri": "https://localhost:8080/"
        },
        "id": "ZQc35Y2HVZCh",
        "outputId": "19490fd6-8b2b-41e6-ed07-10a9f70c2e92"
      },
      "execution_count": null,
      "outputs": [
        {
          "output_type": "execute_result",
          "data": {
            "text/plain": [
              "3"
            ]
          },
          "metadata": {},
          "execution_count": 157
        }
      ]
    },
    {
      "cell_type": "code",
      "source": [
        "x2[1,2]"
      ],
      "metadata": {
        "colab": {
          "base_uri": "https://localhost:8080/"
        },
        "id": "rbZL9krdJ-ce",
        "outputId": "23871013-88d2-4471-f978-2513e5c9e5fd"
      },
      "execution_count": null,
      "outputs": [
        {
          "output_type": "execute_result",
          "data": {
            "text/plain": [
              "8"
            ]
          },
          "metadata": {},
          "execution_count": 158
        }
      ]
    },
    {
      "cell_type": "code",
      "source": [
        "x2[2, -1]"
      ],
      "metadata": {
        "colab": {
          "base_uri": "https://localhost:8080/"
        },
        "id": "slpm0373KA3k",
        "outputId": "648c8772-14ad-4d59-fe92-d3f74538bb25"
      },
      "execution_count": null,
      "outputs": [
        {
          "output_type": "execute_result",
          "data": {
            "text/plain": [
              "7"
            ]
          },
          "metadata": {},
          "execution_count": 159
        }
      ]
    },
    {
      "cell_type": "code",
      "source": [
        "x2[-1, 0]"
      ],
      "metadata": {
        "colab": {
          "base_uri": "https://localhost:8080/"
        },
        "id": "1LiQdmboKDwk",
        "outputId": "5df459d5-94d1-470c-bf51-3dc368a69a1e"
      },
      "execution_count": null,
      "outputs": [
        {
          "output_type": "execute_result",
          "data": {
            "text/plain": [
              "1"
            ]
          },
          "metadata": {},
          "execution_count": 160
        }
      ]
    },
    {
      "cell_type": "code",
      "source": [
        "x2[-1,-3]"
      ],
      "metadata": {
        "colab": {
          "base_uri": "https://localhost:8080/"
        },
        "id": "XlaqM_-MKG5o",
        "outputId": "9625d8b1-c98b-47a6-bc49-44c5a3bd3146"
      },
      "execution_count": null,
      "outputs": [
        {
          "output_type": "execute_result",
          "data": {
            "text/plain": [
              "6"
            ]
          },
          "metadata": {},
          "execution_count": 161
        }
      ]
    },
    {
      "cell_type": "code",
      "source": [
        "#다차원 배열의 수정\n",
        "x2[0,0] = 12\n",
        "x2"
      ],
      "metadata": {
        "colab": {
          "base_uri": "https://localhost:8080/"
        },
        "id": "bRHnNEF5KUzY",
        "outputId": "a6c86464-fa02-4853-8100-8571837d8f59"
      },
      "execution_count": null,
      "outputs": [
        {
          "output_type": "execute_result",
          "data": {
            "text/plain": [
              "array([[12,  5,  2,  4],\n",
              "       [ 7,  6,  8,  8],\n",
              "       [ 1,  6,  7,  7]])"
            ]
          },
          "metadata": {},
          "execution_count": 162
        }
      ]
    },
    {
      "cell_type": "code",
      "source": [
        "x2[0,1] = 3.141592\n",
        "x2 #Numpy 배열은 정적 타입! -> 타입 에러시 casting 발생"
      ],
      "metadata": {
        "colab": {
          "base_uri": "https://localhost:8080/"
        },
        "id": "ZpCia2k7KchL",
        "outputId": "295b99c0-32bd-41d2-a914-88ef71934b58"
      },
      "execution_count": null,
      "outputs": [
        {
          "output_type": "execute_result",
          "data": {
            "text/plain": [
              "array([[12,  3,  2,  4],\n",
              "       [ 7,  6,  8,  8],\n",
              "       [ 1,  6,  7,  7]])"
            ]
          },
          "metadata": {},
          "execution_count": 163
        }
      ]
    },
    {
      "cell_type": "markdown",
      "source": [
        "##2. 배열 슬라이싱과 copy##"
      ],
      "metadata": {
        "id": "QlHH7XFlKv9-"
      }
    },
    {
      "cell_type": "markdown",
      "source": [
        "**2-1 배열 슬라이싱**\n",
        "\n",
        "배열의 부분을 슬라이싱하여 사용 가능"
      ],
      "metadata": {
        "id": "Jgp59QzHK2W3"
      }
    },
    {
      "cell_type": "code",
      "source": [
        "x = np.arange(10)\n",
        "x"
      ],
      "metadata": {
        "colab": {
          "base_uri": "https://localhost:8080/"
        },
        "id": "lNR6ZPpSK5Vn",
        "outputId": "d545bffd-8957-4b30-c29e-7227353bf0a4"
      },
      "execution_count": null,
      "outputs": [
        {
          "output_type": "execute_result",
          "data": {
            "text/plain": [
              "array([0, 1, 2, 3, 4, 5, 6, 7, 8, 9])"
            ]
          },
          "metadata": {},
          "execution_count": 164
        }
      ]
    },
    {
      "cell_type": "code",
      "source": [
        "x[:5] # x[:n] index 0부터 n-1까지 n개 슬라이싱"
      ],
      "metadata": {
        "colab": {
          "base_uri": "https://localhost:8080/"
        },
        "id": "NKGCmGTDLDHF",
        "outputId": "27eb3993-91f4-485a-cc3b-8a93354280ae"
      },
      "execution_count": null,
      "outputs": [
        {
          "output_type": "execute_result",
          "data": {
            "text/plain": [
              "array([0, 1, 2, 3, 4])"
            ]
          },
          "metadata": {},
          "execution_count": 165
        }
      ]
    },
    {
      "cell_type": "code",
      "source": [
        "x[5:] # x[:n] index n부터 끝까지 슬라이싱"
      ],
      "metadata": {
        "colab": {
          "base_uri": "https://localhost:8080/"
        },
        "id": "F7R8KW3GLMCT",
        "outputId": "fbe30ef9-65fe-41ac-88fd-4cf07a986659"
      },
      "execution_count": null,
      "outputs": [
        {
          "output_type": "execute_result",
          "data": {
            "text/plain": [
              "array([5, 6, 7, 8, 9])"
            ]
          },
          "metadata": {},
          "execution_count": 166
        }
      ]
    },
    {
      "cell_type": "code",
      "source": [
        "x[4:7] # x[p:q] index p부터 q-1까지 슬라이싱"
      ],
      "metadata": {
        "colab": {
          "base_uri": "https://localhost:8080/"
        },
        "id": "czziwfypLWhF",
        "outputId": "13bb9bdd-9fd1-4e53-b646-168b40256dc7"
      },
      "execution_count": null,
      "outputs": [
        {
          "output_type": "execute_result",
          "data": {
            "text/plain": [
              "array([4, 5, 6])"
            ]
          },
          "metadata": {},
          "execution_count": 167
        }
      ]
    },
    {
      "cell_type": "markdown",
      "source": [
        "배열을 건너뛰면서 슬라이싱 가능"
      ],
      "metadata": {
        "id": "KEIq0FkPLdZi"
      }
    },
    {
      "cell_type": "code",
      "source": [
        "x[::2] # x[::n] n개씩 건너뛰면서 슬라이싱"
      ],
      "metadata": {
        "colab": {
          "base_uri": "https://localhost:8080/"
        },
        "id": "XeVRr_1ZLg7Q",
        "outputId": "725f8701-dc72-462f-cbb8-97e26dc6199b"
      },
      "execution_count": null,
      "outputs": [
        {
          "output_type": "execute_result",
          "data": {
            "text/plain": [
              "array([0, 2, 4, 6, 8])"
            ]
          },
          "metadata": {},
          "execution_count": 168
        }
      ]
    },
    {
      "cell_type": "code",
      "source": [
        "x[1::2] # x[p::q] index p부터 오른쪽으로 q개씩 건너뛰면서 슬라이싱"
      ],
      "metadata": {
        "colab": {
          "base_uri": "https://localhost:8080/"
        },
        "id": "HDqtiV3oLobg",
        "outputId": "691b5cc4-fc10-469d-bc56-f5d145d18ddd"
      },
      "execution_count": null,
      "outputs": [
        {
          "output_type": "execute_result",
          "data": {
            "text/plain": [
              "array([1, 3, 5, 7, 9])"
            ]
          },
          "metadata": {},
          "execution_count": 169
        }
      ]
    },
    {
      "cell_type": "code",
      "source": [
        "x[1:9:2]"
      ],
      "metadata": {
        "colab": {
          "base_uri": "https://localhost:8080/"
        },
        "id": "cwb-VdQfWWrM",
        "outputId": "3995a7df-93fa-4e58-a153-49d76e9fa38c"
      },
      "execution_count": null,
      "outputs": [
        {
          "output_type": "execute_result",
          "data": {
            "text/plain": [
              "array([1, 3, 5, 7])"
            ]
          },
          "metadata": {},
          "execution_count": 170
        }
      ]
    },
    {
      "cell_type": "markdown",
      "source": [
        "왼쪽으로 건너뛰면서 슬라이싱 가능"
      ],
      "metadata": {
        "id": "JGDy_cs2MBqm"
      }
    },
    {
      "cell_type": "code",
      "source": [
        "x[::-1] #좌우반전"
      ],
      "metadata": {
        "colab": {
          "base_uri": "https://localhost:8080/"
        },
        "id": "Cb0G19h2MED9",
        "outputId": "b41fbff3-d15d-4c55-e6c1-b55f7251a6dd"
      },
      "execution_count": null,
      "outputs": [
        {
          "output_type": "execute_result",
          "data": {
            "text/plain": [
              "array([9, 8, 7, 6, 5, 4, 3, 2, 1, 0])"
            ]
          },
          "metadata": {},
          "execution_count": 171
        }
      ]
    },
    {
      "cell_type": "code",
      "source": [
        "x[5::-2] #x[p::-q] index p부터 왼쪽으로 q개씩 건너뛰면서 슬라이싱"
      ],
      "metadata": {
        "colab": {
          "base_uri": "https://localhost:8080/"
        },
        "id": "fR4zM0FsMJ9U",
        "outputId": "8471bf72-1c4f-44ab-e007-01e0f65544f4"
      },
      "execution_count": null,
      "outputs": [
        {
          "output_type": "execute_result",
          "data": {
            "text/plain": [
              "array([5, 3, 1])"
            ]
          },
          "metadata": {},
          "execution_count": 172
        }
      ]
    },
    {
      "cell_type": "markdown",
      "source": [
        "**2-2 다차원 배열의 슬라이싱**"
      ],
      "metadata": {
        "id": "2pFLw-i4Mf6O"
      }
    },
    {
      "cell_type": "markdown",
      "source": [
        "* 2차원 배열 x에 대하여 \n",
        "        x[a:b:c, d:e:f]\n",
        "        : a행부터 b-1행까지 c개씩 건너뛰면서 슬라이싱\n",
        "         d열부터 e-1열까지 f개씩 건너뛰면서 슬라이싱\n"
      ],
      "metadata": {
        "id": "G4BfFr29DvSP"
      }
    },
    {
      "cell_type": "code",
      "source": [
        "x2"
      ],
      "metadata": {
        "colab": {
          "base_uri": "https://localhost:8080/"
        },
        "id": "l7ofjDCDMiQo",
        "outputId": "58b51f18-6254-4311-f8a4-68b008efd30d"
      },
      "execution_count": null,
      "outputs": [
        {
          "output_type": "execute_result",
          "data": {
            "text/plain": [
              "array([[12,  3,  2,  4],\n",
              "       [ 7,  6,  8,  8],\n",
              "       [ 1,  6,  7,  7]])"
            ]
          },
          "metadata": {},
          "execution_count": 173
        }
      ]
    },
    {
      "cell_type": "code",
      "source": [
        "x2[:2, :3] # x[:p, :q] p개행 q개열씩 슬라이싱"
      ],
      "metadata": {
        "colab": {
          "base_uri": "https://localhost:8080/"
        },
        "id": "e9O-5tC5MlaN",
        "outputId": "70887bec-53c1-4474-ab1b-f156c2c8e77b"
      },
      "execution_count": null,
      "outputs": [
        {
          "output_type": "execute_result",
          "data": {
            "text/plain": [
              "array([[12,  3,  2],\n",
              "       [ 7,  6,  8]])"
            ]
          },
          "metadata": {},
          "execution_count": 174
        }
      ]
    },
    {
      "cell_type": "code",
      "source": [
        "x2[:3, ::2] # x[:p, ::q] p개행, 열은 q개씩 건너뛰면서 슬라이싱"
      ],
      "metadata": {
        "colab": {
          "base_uri": "https://localhost:8080/"
        },
        "id": "3dsQQfnpMw_m",
        "outputId": "ae122523-1d03-4b30-d8f7-f1887223424a"
      },
      "execution_count": null,
      "outputs": [
        {
          "output_type": "execute_result",
          "data": {
            "text/plain": [
              "array([[12,  2],\n",
              "       [ 7,  8],\n",
              "       [ 1,  7]])"
            ]
          },
          "metadata": {},
          "execution_count": 175
        }
      ]
    },
    {
      "cell_type": "code",
      "source": [
        "x2[::-1, ::-1] #좌우반전"
      ],
      "metadata": {
        "colab": {
          "base_uri": "https://localhost:8080/"
        },
        "id": "ROj42jBNNEaq",
        "outputId": "208fc141-8dee-4915-d257-d62724fb0e13"
      },
      "execution_count": null,
      "outputs": [
        {
          "output_type": "execute_result",
          "data": {
            "text/plain": [
              "array([[ 7,  7,  6,  1],\n",
              "       [ 8,  8,  6,  7],\n",
              "       [ 4,  2,  3, 12]])"
            ]
          },
          "metadata": {},
          "execution_count": 176
        }
      ]
    },
    {
      "cell_type": "markdown",
      "source": [
        "* 행, 열 추려내기"
      ],
      "metadata": {
        "id": "-cHerFs1NONf"
      }
    },
    {
      "cell_type": "code",
      "source": [
        "print(x2[:,0]) #first column"
      ],
      "metadata": {
        "colab": {
          "base_uri": "https://localhost:8080/"
        },
        "id": "IZ-UGDhcNPyA",
        "outputId": "a4600b18-83aa-447b-9ea4-39e9b99e3114"
      },
      "execution_count": null,
      "outputs": [
        {
          "output_type": "stream",
          "name": "stdout",
          "text": [
            "[12  7  1]\n"
          ]
        }
      ]
    },
    {
      "cell_type": "code",
      "source": [
        "print(x2[:,1]) #second column"
      ],
      "metadata": {
        "colab": {
          "base_uri": "https://localhost:8080/"
        },
        "id": "prJ8nt3fNfl3",
        "outputId": "6f5f6ea6-085c-491a-fb5a-acd89e1d42b6"
      },
      "execution_count": null,
      "outputs": [
        {
          "output_type": "stream",
          "name": "stdout",
          "text": [
            "[3 6 6]\n"
          ]
        }
      ]
    },
    {
      "cell_type": "code",
      "source": [
        "print(x2[0, :]) #first row"
      ],
      "metadata": {
        "colab": {
          "base_uri": "https://localhost:8080/"
        },
        "id": "jFl1owaFNn_f",
        "outputId": "ace090dc-99f0-4c96-977e-d668465b0a7c"
      },
      "execution_count": null,
      "outputs": [
        {
          "output_type": "stream",
          "name": "stdout",
          "text": [
            "[12  3  2  4]\n"
          ]
        }
      ]
    },
    {
      "cell_type": "code",
      "source": [
        "print(x2[2, :]) #third row"
      ],
      "metadata": {
        "colab": {
          "base_uri": "https://localhost:8080/"
        },
        "id": "IfGhyRKjNvLx",
        "outputId": "134803c8-fdb0-4542-b3ed-9357b80fd690"
      },
      "execution_count": null,
      "outputs": [
        {
          "output_type": "stream",
          "name": "stdout",
          "text": [
            "[1 6 7 7]\n"
          ]
        }
      ]
    },
    {
      "cell_type": "code",
      "source": [
        "print(x2[0])"
      ],
      "metadata": {
        "colab": {
          "base_uri": "https://localhost:8080/"
        },
        "id": "EUxYk8SON0Xk",
        "outputId": "edccd619-381f-4fb3-f19b-bcf98c460bb7"
      },
      "execution_count": null,
      "outputs": [
        {
          "output_type": "stream",
          "name": "stdout",
          "text": [
            "[12  3  2  4]\n"
          ]
        }
      ]
    },
    {
      "cell_type": "markdown",
      "source": [
        "**2-3 Copy**\n",
        "\n",
        "No-copy 특성\n",
        "\n",
        "* 슬라이싱 된 결과값\n",
        "\n",
        "        기존 방식 : 복사된 새로운 데이터\n",
        "        Numpy : 원본 데이터에 대한 접근을 유지"
      ],
      "metadata": {
        "id": "mYesqvyaOAXo"
      }
    },
    {
      "cell_type": "code",
      "source": [
        "x2"
      ],
      "metadata": {
        "colab": {
          "base_uri": "https://localhost:8080/"
        },
        "id": "FWtVMn1SN6-u",
        "outputId": "72de6cea-4f08-46d6-a6fa-ac5c033411bc"
      },
      "execution_count": null,
      "outputs": [
        {
          "output_type": "execute_result",
          "data": {
            "text/plain": [
              "array([[12,  3,  2,  4],\n",
              "       [ 7,  6,  8,  8],\n",
              "       [ 1,  6,  7,  7]])"
            ]
          },
          "metadata": {},
          "execution_count": 182
        }
      ]
    },
    {
      "cell_type": "code",
      "source": [
        "x2_sub = x2[:2, :2] #2개행, 2개열 슬라이싱\n",
        "x2_sub"
      ],
      "metadata": {
        "colab": {
          "base_uri": "https://localhost:8080/"
        },
        "id": "ICEcj8XwOOud",
        "outputId": "cd911cf2-4555-48c8-fd3d-2b2f05a59f1f"
      },
      "execution_count": null,
      "outputs": [
        {
          "output_type": "execute_result",
          "data": {
            "text/plain": [
              "array([[12,  3],\n",
              "       [ 7,  6]])"
            ]
          },
          "metadata": {},
          "execution_count": 184
        }
      ]
    },
    {
      "cell_type": "code",
      "source": [
        "x2_sub[0,0] = 45\n",
        "x2_sub"
      ],
      "metadata": {
        "colab": {
          "base_uri": "https://localhost:8080/"
        },
        "id": "Iw3S1DwHOgRe",
        "outputId": "e44a0a32-f937-4367-b41d-0bff753fc52e"
      },
      "execution_count": null,
      "outputs": [
        {
          "output_type": "execute_result",
          "data": {
            "text/plain": [
              "array([[45,  3],\n",
              "       [ 7,  6]])"
            ]
          },
          "metadata": {},
          "execution_count": 185
        }
      ]
    },
    {
      "cell_type": "code",
      "source": [
        "x2"
      ],
      "metadata": {
        "colab": {
          "base_uri": "https://localhost:8080/"
        },
        "id": "fT6wMtoEOnPX",
        "outputId": "99cdf5d0-e492-4793-98c8-da4a6264766f"
      },
      "execution_count": null,
      "outputs": [
        {
          "output_type": "execute_result",
          "data": {
            "text/plain": [
              "array([[45,  3,  2,  4],\n",
              "       [ 7,  6,  8,  8],\n",
              "       [ 1,  6,  7,  7]])"
            ]
          },
          "metadata": {},
          "execution_count": 186
        }
      ]
    },
    {
      "cell_type": "markdown",
      "source": [
        "copy를 이용한 복사본 데이터 생성"
      ],
      "metadata": {
        "id": "ziag6t5zOv-3"
      }
    },
    {
      "cell_type": "code",
      "source": [
        "x2_sub_copy = x2[:2, :2].copy()\n",
        "x2_sub_copy"
      ],
      "metadata": {
        "colab": {
          "base_uri": "https://localhost:8080/"
        },
        "id": "HMBsFceuO1TY",
        "outputId": "08c6e088-ed97-4236-cc23-a47ddaf88014"
      },
      "execution_count": null,
      "outputs": [
        {
          "output_type": "execute_result",
          "data": {
            "text/plain": [
              "array([[45,  3],\n",
              "       [ 7,  6]])"
            ]
          },
          "metadata": {},
          "execution_count": 187
        }
      ]
    },
    {
      "cell_type": "code",
      "source": [
        "x2_sub_copy[0,0] = 97\n",
        "x2_sub_copy"
      ],
      "metadata": {
        "colab": {
          "base_uri": "https://localhost:8080/"
        },
        "id": "RrwRraa0O97v",
        "outputId": "46e20535-3aee-498a-9cfe-118cf92efa3c"
      },
      "execution_count": null,
      "outputs": [
        {
          "output_type": "execute_result",
          "data": {
            "text/plain": [
              "array([[97,  3],\n",
              "       [ 7,  6]])"
            ]
          },
          "metadata": {},
          "execution_count": 188
        }
      ]
    },
    {
      "cell_type": "code",
      "source": [
        "x2"
      ],
      "metadata": {
        "colab": {
          "base_uri": "https://localhost:8080/"
        },
        "id": "OLfD5zkTPDaO",
        "outputId": "00664e0e-6d05-4c5f-f077-09e037b65b89"
      },
      "execution_count": null,
      "outputs": [
        {
          "output_type": "execute_result",
          "data": {
            "text/plain": [
              "array([[45,  3,  2,  4],\n",
              "       [ 7,  6,  8,  8],\n",
              "       [ 1,  6,  7,  7]])"
            ]
          },
          "metadata": {},
          "execution_count": 189
        }
      ]
    },
    {
      "cell_type": "markdown",
      "source": [
        "## 3. 배열의 형태 변화##"
      ],
      "metadata": {
        "id": "dNQEiqWiPHGJ"
      }
    },
    {
      "cell_type": "markdown",
      "source": [
        "**3-1 데이터의 reshaping**\n",
        "\n",
        "reshaping : 데이터를 구성하는 차원의 모양을 변경\n",
        "\n",
        "(예시 : 1차원 데이터(9,)를 2차원 (3,3) 행렬로 변환)"
      ],
      "metadata": {
        "id": "JCS6vJ8HPNxp"
      }
    },
    {
      "cell_type": "code",
      "source": [
        "grid = np.arange(1,10).reshape((3,3))\n",
        "grid"
      ],
      "metadata": {
        "colab": {
          "base_uri": "https://localhost:8080/"
        },
        "id": "kSI5BGnhPX1y",
        "outputId": "d8916ad9-07bc-4a93-c30a-03d5ad088d9b"
      },
      "execution_count": null,
      "outputs": [
        {
          "output_type": "execute_result",
          "data": {
            "text/plain": [
              "array([[1, 2, 3],\n",
              "       [4, 5, 6],\n",
              "       [7, 8, 9]])"
            ]
          },
          "metadata": {},
          "execution_count": 122
        }
      ]
    },
    {
      "cell_type": "markdown",
      "source": [
        "**3-2 1차원 벡터의 2차원 표현**"
      ],
      "metadata": {
        "id": "zHJCAnDZPrI_"
      }
    },
    {
      "cell_type": "markdown",
      "source": [
        "* 1차원 벡터(n,)를 2차원의 행 matrix(1,n)로 표현"
      ],
      "metadata": {
        "id": "ERbHTl-cPvSm"
      }
    },
    {
      "cell_type": "code",
      "source": [
        "x = np.array([1,2,3])\n",
        "x.reshape((1,3))"
      ],
      "metadata": {
        "colab": {
          "base_uri": "https://localhost:8080/"
        },
        "id": "StZsFMvkP29U",
        "outputId": "63591361-c72c-4a4a-d575-ef1e9d7be728"
      },
      "execution_count": null,
      "outputs": [
        {
          "output_type": "execute_result",
          "data": {
            "text/plain": [
              "array([[1, 2, 3]])"
            ]
          },
          "metadata": {},
          "execution_count": 192
        }
      ]
    },
    {
      "cell_type": "code",
      "source": [
        "x.reshape(1,3).ndim #2차원"
      ],
      "metadata": {
        "colab": {
          "base_uri": "https://localhost:8080/"
        },
        "id": "qhUV9LVrf0k1",
        "outputId": "bf5a46af-2bca-4ebb-ffcb-9ac6b97318ee"
      },
      "execution_count": null,
      "outputs": [
        {
          "output_type": "execute_result",
          "data": {
            "text/plain": [
              "2"
            ]
          },
          "metadata": {},
          "execution_count": 194
        }
      ]
    },
    {
      "cell_type": "markdown",
      "source": [
        "* 1차원 벡터(n,)를 2차원의 열 matrix(n,1)로 표현"
      ],
      "metadata": {
        "id": "Zl4Tw17hQCXi"
      }
    },
    {
      "cell_type": "code",
      "source": [
        "x.reshape((3,1))"
      ],
      "metadata": {
        "colab": {
          "base_uri": "https://localhost:8080/"
        },
        "id": "C0T4izAFQJ14",
        "outputId": "1a1bdf0b-8ed6-4eb8-dafa-4ae24c9551d7"
      },
      "execution_count": null,
      "outputs": [
        {
          "output_type": "execute_result",
          "data": {
            "text/plain": [
              "array([[1],\n",
              "       [2],\n",
              "       [3]])"
            ]
          },
          "metadata": {},
          "execution_count": 195
        }
      ]
    },
    {
      "cell_type": "markdown",
      "source": [
        "reshape 할 때 사용되는 패러미터\n"
      ],
      "metadata": {
        "id": "D3PmpABugzUu"
      }
    },
    {
      "cell_type": "code",
      "source": [
        "x.reshape(1,-1) #-1은 reshape할 때 알아서 채우라는 뜻"
      ],
      "metadata": {
        "colab": {
          "base_uri": "https://localhost:8080/"
        },
        "id": "PxbUMOkIg5Ff",
        "outputId": "d7b85039-ea1f-4839-e8ba-4a6ab6ce4ff9"
      },
      "execution_count": null,
      "outputs": [
        {
          "output_type": "execute_result",
          "data": {
            "text/plain": [
              "array([[1, 2, 3]])"
            ]
          },
          "metadata": {},
          "execution_count": 197
        }
      ]
    },
    {
      "cell_type": "code",
      "source": [
        "x.reshape(-1,1) #1열은 확실하고 -1은 알아서 채워라"
      ],
      "metadata": {
        "colab": {
          "base_uri": "https://localhost:8080/"
        },
        "id": "HHhFlJrnhVru",
        "outputId": "69bb9bc4-6281-43e0-9872-9a9eec38f9f5"
      },
      "execution_count": null,
      "outputs": [
        {
          "output_type": "execute_result",
          "data": {
            "text/plain": [
              "array([[1],\n",
              "       [2],\n",
              "       [3]])"
            ]
          },
          "metadata": {},
          "execution_count": 198
        }
      ]
    },
    {
      "cell_type": "code",
      "source": [
        "x[:, np.newaxis]"
      ],
      "metadata": {
        "colab": {
          "base_uri": "https://localhost:8080/"
        },
        "id": "V_CI8b0MhdEn",
        "outputId": "90228703-34c6-41d0-fcee-9b99c49587bf"
      },
      "execution_count": null,
      "outputs": [
        {
          "output_type": "execute_result",
          "data": {
            "text/plain": [
              "array([[1],\n",
              "       [2],\n",
              "       [3]])"
            ]
          },
          "metadata": {},
          "execution_count": 199
        }
      ]
    },
    {
      "cell_type": "code",
      "source": [
        "x[np.newaxis, :]"
      ],
      "metadata": {
        "colab": {
          "base_uri": "https://localhost:8080/"
        },
        "id": "zK1lF5dEhh9b",
        "outputId": "539a3273-13a8-4a11-d2b6-e2bbf17e9f93"
      },
      "execution_count": null,
      "outputs": [
        {
          "output_type": "execute_result",
          "data": {
            "text/plain": [
              "array([[1, 2, 3]])"
            ]
          },
          "metadata": {},
          "execution_count": 202
        }
      ]
    },
    {
      "cell_type": "markdown",
      "source": [
        "**3-3 배열 붙이기**\n",
        "\n",
        "배열 붙이기 : np.concatenate 사용"
      ],
      "metadata": {
        "id": "OvpZqVJaQPcq"
      }
    },
    {
      "cell_type": "markdown",
      "source": [
        "1차원 배열의 붙이기"
      ],
      "metadata": {
        "id": "HN8MPmPzQsPJ"
      }
    },
    {
      "cell_type": "code",
      "source": [
        "x = np.array([1,2,3])\n",
        "y = np.array([4,5,6])\n",
        "np.concatenate([x,y])"
      ],
      "metadata": {
        "colab": {
          "base_uri": "https://localhost:8080/"
        },
        "id": "l1irhIqoQRbJ",
        "outputId": "4069a0fe-038e-4a10-bf7b-6f86601d2efa"
      },
      "execution_count": null,
      "outputs": [
        {
          "output_type": "execute_result",
          "data": {
            "text/plain": [
              "array([1, 2, 3, 4, 5, 6])"
            ]
          },
          "metadata": {},
          "execution_count": 203
        }
      ]
    },
    {
      "cell_type": "code",
      "source": [
        "z = [99,99,99]\n",
        "np.concatenate([x,y,z])"
      ],
      "metadata": {
        "colab": {
          "base_uri": "https://localhost:8080/"
        },
        "id": "kvdm3pOsQfJk",
        "outputId": "f231bd31-7068-463f-b3d0-b215169da97b"
      },
      "execution_count": null,
      "outputs": [
        {
          "output_type": "execute_result",
          "data": {
            "text/plain": [
              "array([ 1,  2,  3,  4,  5,  6, 99, 99, 99])"
            ]
          },
          "metadata": {},
          "execution_count": 204
        }
      ]
    },
    {
      "cell_type": "markdown",
      "source": [
        "다차원 배열의 붙이기"
      ],
      "metadata": {
        "id": "qwITgPOPQtBZ"
      }
    },
    {
      "cell_type": "markdown",
      "source": [
        "* 2차원일 경우\n",
        "\n",
        "        axis = 0 -> 행 방향으로 붙이기 (위에서 아래로)\n",
        "        axis = 1 -> 열 방향으로 붙이기 (왼쪽에서 오른쪽으로)"
      ],
      "metadata": {
        "id": "kMekGA06Qvs6"
      }
    },
    {
      "cell_type": "code",
      "source": [
        "grid = np.array([[1,2,3],[4,5,6]])\n",
        "grid"
      ],
      "metadata": {
        "colab": {
          "base_uri": "https://localhost:8080/"
        },
        "id": "9sJkTrAZQp-f",
        "outputId": "efbc097a-a054-4319-ebbb-c73e3007e78b"
      },
      "execution_count": null,
      "outputs": [
        {
          "output_type": "execute_result",
          "data": {
            "text/plain": [
              "array([[1, 2, 3],\n",
              "       [4, 5, 6]])"
            ]
          },
          "metadata": {},
          "execution_count": 127
        }
      ]
    },
    {
      "cell_type": "code",
      "source": [
        "np.concatenate([grid,grid]) #행방향"
      ],
      "metadata": {
        "colab": {
          "base_uri": "https://localhost:8080/"
        },
        "id": "6vT4uOAwRE7O",
        "outputId": "7c7ee017-7dce-4d53-efae-ac191af92589"
      },
      "execution_count": null,
      "outputs": [
        {
          "output_type": "execute_result",
          "data": {
            "text/plain": [
              "array([[1, 2, 3],\n",
              "       [4, 5, 6],\n",
              "       [1, 2, 3],\n",
              "       [4, 5, 6]])"
            ]
          },
          "metadata": {},
          "execution_count": 128
        }
      ]
    },
    {
      "cell_type": "code",
      "source": [
        "np.concatenate([grid,grid], axis=1) #열방향"
      ],
      "metadata": {
        "colab": {
          "base_uri": "https://localhost:8080/"
        },
        "id": "tF9ZdbdHRJXv",
        "outputId": "dee2d3d1-690f-4508-91f3-f25a6707e353"
      },
      "execution_count": null,
      "outputs": [
        {
          "output_type": "execute_result",
          "data": {
            "text/plain": [
              "array([[1, 2, 3, 1, 2, 3],\n",
              "       [4, 5, 6, 4, 5, 6]])"
            ]
          },
          "metadata": {},
          "execution_count": 129
        }
      ]
    },
    {
      "cell_type": "markdown",
      "source": [
        "* 두 배열의 차원이 다를 경우\n",
        "\n",
        "        vstack(vertical stack) : 위에서 아래로\n",
        "        hstack(horizontal stack) : 왼쪽에서 오른쪽으로"
      ],
      "metadata": {
        "id": "YJcpkWhkRe-_"
      }
    },
    {
      "cell_type": "code",
      "source": [
        "x = np.array([1,2,3])\n",
        "grid = np.array([[9,8,7],[6,5,4]])\n",
        "\n",
        "np.vstack([x, grid])"
      ],
      "metadata": {
        "colab": {
          "base_uri": "https://localhost:8080/"
        },
        "id": "9F6ah005RnhQ",
        "outputId": "b89f98c7-7158-4287-ee01-aaf436357e31"
      },
      "execution_count": null,
      "outputs": [
        {
          "output_type": "execute_result",
          "data": {
            "text/plain": [
              "array([[1, 2, 3],\n",
              "       [9, 8, 7],\n",
              "       [6, 5, 4]])"
            ]
          },
          "metadata": {},
          "execution_count": 130
        }
      ]
    },
    {
      "cell_type": "code",
      "source": [
        "y = np.array([[99],[9]])\n",
        "\n",
        "np.hstack([grid, y])"
      ],
      "metadata": {
        "colab": {
          "base_uri": "https://localhost:8080/"
        },
        "id": "jvnGljI8R5qe",
        "outputId": "d9b13a53-bbba-48f2-ae1e-c034180b4944"
      },
      "execution_count": null,
      "outputs": [
        {
          "output_type": "execute_result",
          "data": {
            "text/plain": [
              "array([[ 9,  8,  7, 99],\n",
              "       [ 6,  5,  4,  9]])"
            ]
          },
          "metadata": {},
          "execution_count": 131
        }
      ]
    },
    {
      "cell_type": "markdown",
      "source": [
        "**3-4 배열 나누기**\n",
        "\n",
        "np.split 사용"
      ],
      "metadata": {
        "id": "CzeFSwAtSK_o"
      }
    },
    {
      "cell_type": "code",
      "source": [
        "x = [1, 2, 3, 99, 99, 3, 2, 1]\n",
        "x1, x2, x3 = np.split(x, [3,5]) #index 3 앞에서 한 번, 5 앞에서 한 번 나누기\n",
        "print(x1, x2, x3)"
      ],
      "metadata": {
        "colab": {
          "base_uri": "https://localhost:8080/"
        },
        "id": "LoBNZ_hoSO-G",
        "outputId": "f5d9133e-86ed-4aec-9483-943e0cd7a78b"
      },
      "execution_count": null,
      "outputs": [
        {
          "output_type": "stream",
          "name": "stdout",
          "text": [
            "[1 2 3] [99 99] [3 2 1]\n"
          ]
        }
      ]
    },
    {
      "cell_type": "code",
      "source": [
        "grid = np.arange(16).reshape((4,4))\n",
        "grid"
      ],
      "metadata": {
        "colab": {
          "base_uri": "https://localhost:8080/"
        },
        "id": "Ee80_RTiSxaI",
        "outputId": "32e7fdd0-2007-43ab-e278-cf7196b4a383"
      },
      "execution_count": null,
      "outputs": [
        {
          "output_type": "execute_result",
          "data": {
            "text/plain": [
              "array([[ 0,  1,  2,  3],\n",
              "       [ 4,  5,  6,  7],\n",
              "       [ 8,  9, 10, 11],\n",
              "       [12, 13, 14, 15]])"
            ]
          },
          "metadata": {},
          "execution_count": 206
        }
      ]
    },
    {
      "cell_type": "markdown",
      "source": [
        "np.vsplit : 행을 기준으로 끊기 (가로)\n",
        "\n",
        "np.hsplit : 열을 기준으로 끊기 (세로)"
      ],
      "metadata": {
        "id": "aKThIFjWi-fM"
      }
    },
    {
      "cell_type": "code",
      "source": [
        "upper, lower = np.vsplit(grid, [2])\n",
        "print(upper)\n",
        "print(lower)"
      ],
      "metadata": {
        "colab": {
          "base_uri": "https://localhost:8080/"
        },
        "id": "9oSkWio0S53E",
        "outputId": "b1a7482a-664e-477a-d056-b174a6608fb9"
      },
      "execution_count": null,
      "outputs": [
        {
          "output_type": "stream",
          "name": "stdout",
          "text": [
            "[[0 1 2 3]\n",
            " [4 5 6 7]]\n",
            "[[ 8  9 10 11]\n",
            " [12 13 14 15]]\n"
          ]
        }
      ]
    },
    {
      "cell_type": "code",
      "source": [
        "left, right = np. hsplit(grid, [2])\n",
        "print(left)\n",
        "print(right)"
      ],
      "metadata": {
        "colab": {
          "base_uri": "https://localhost:8080/"
        },
        "id": "53eS_jIaTJTv",
        "outputId": "b47d1fac-9d6e-4e6b-bbac-3f5c3c687847"
      },
      "execution_count": null,
      "outputs": [
        {
          "output_type": "stream",
          "name": "stdout",
          "text": [
            "[[ 0  1]\n",
            " [ 4  5]\n",
            " [ 8  9]\n",
            " [12 13]]\n",
            "[[ 2  3]\n",
            " [ 6  7]\n",
            " [10 11]\n",
            " [14 15]]\n"
          ]
        }
      ]
    }
  ]
}