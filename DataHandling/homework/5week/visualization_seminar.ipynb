{
 "cells": [
  {
   "attachments": {},
   "cell_type": "markdown",
   "metadata": {},
   "source": [
    "# 지역별 여가 산업 활성화를 위한 여가 활동 특성 분석"
   ]
  },
  {
   "attachments": {},
   "cell_type": "markdown",
   "metadata": {},
   "source": [
    "## 데이터 전처리"
   ]
  },
  {
   "attachments": {},
   "cell_type": "markdown",
   "metadata": {},
   "source": [
    "### import modules"
   ]
  },
  {
   "cell_type": "code",
   "execution_count": 868,
   "metadata": {},
   "outputs": [],
   "source": [
    "import numpy as np\n",
    "import pandas as pd\n",
    "import geopandas as gpd\n",
    "import scipy.stats as stats\n",
    "from pandas import Series, DataFrame"
   ]
  },
  {
   "cell_type": "code",
   "execution_count": 632,
   "metadata": {},
   "outputs": [],
   "source": [
    "import plotly.express as px\n",
    "import plotly.graph_objs as go\n",
    "from plotly.subplots import make_subplots as ms"
   ]
  },
  {
   "cell_type": "code",
   "execution_count": 633,
   "metadata": {},
   "outputs": [],
   "source": [
    "import seaborn as sns\n",
    "import matplotlib.pyplot as plt"
   ]
  },
  {
   "attachments": {},
   "cell_type": "markdown",
   "metadata": {},
   "source": [
    "### 여가 문화 관련 정성적 데이터 전처리"
   ]
  },
  {
   "attachments": {},
   "cell_type": "markdown",
   "metadata": {},
   "source": [
    "사용 데이터\n",
    "- lsr_time : 하루 평균 여가문화 시간 및 사용 비중\n",
    "- lsr_stf : 여가 생활 여건 및 만족도 평가"
   ]
  },
  {
   "cell_type": "code",
   "execution_count": 620,
   "metadata": {},
   "outputs": [],
   "source": [
    "lsr_time = pd.read_csv('./data/leisure_time_info.csv')\n",
    "lsr_stf = pd.read_csv('./data/leisure_satisfied_info.csv')\n",
    "\n",
    "# 사용하지 않는 열 제거\n",
    "lsr_time.drop(\"RESPOND_ID\", axis=1, inplace=True)\n",
    "lsr_stf.drop(\"RESPOND_ID\", axis=1, inplace=True)\n",
    "\n",
    "# 조사 기간 표기 방법 통일\n",
    "def transform_month(x):\n",
    "    dic_month = {\"01\":\"Jen\", \"02\":\"Feb\", \"03\":\"Mar\", \"04\":\"Apr\", \"05\":\"May\", \"06\":\"Jun\", \"07\":\"Jul\", \"08\":\"Aug\", \"09\":\"Sep\", \"10\":\"Oct\", \"11\":\"Nov\", \"12\":\"Dec\"}\n",
    "    return dic_month[str(x)[4:6]]\n",
    "\n",
    "lsr_time[\"EXAMIN_BEGIN_DE\"] = lsr_time[\"EXAMIN_BEGIN_DE\"].apply(lambda x:transform_month(x))\n",
    "lsr_stf[\"EXAMIN_YM\"] = lsr_stf[\"EXAMIN_YM\"].apply(lambda x:transform_month(x))\n",
    "\n",
    "# 정성적 답변 정량화\n",
    "def answer_numerate(x):\n",
    "    quantity = {\"매우 그렇다\":5, \"그런 편이다\":4, \"보통이다\":3, \"그렇지 않은 편이다\":2, \"전혀 그렇지 않다\":1,\n",
    "                \"매우 만족한다\":5, \"만족하는 편이다\":4, \"불만족하는 편이다\":2, \"매우 불만족한다\":1}\n",
    "    return quantity[x]\n",
    "\n",
    "lsr_stf[\"TIME_SUFNCY_SATSFC_DGREE_NUM\"] = lsr_stf[\"TIME_SUFNCY_SATSFC_DGREE_VALUE\"].apply(lambda x:answer_numerate(x))\n",
    "lsr_stf[\"INFRA_ND_FCLTY_SATSFC_DGREE_NUM\"] = lsr_stf[\"INFRA_ND_FCLTY_SATSFC_DGREE_VALUE\"].apply(lambda x:answer_numerate(x))\n",
    "lsr_stf[\"ECNM_MRGN_SATSFC_DGREE_NUM\"] = lsr_stf[\"ECNM_MRGN_SATSFC_DGREE_VALUE\"].apply(lambda x:answer_numerate(x))\n",
    "lsr_stf[\"INFO_SUFNCY_SATSFC_DGREE_NUM\"] = lsr_stf[\"INFO_SUFNCY_SATSFC_DGREE_VALUE\"].apply(lambda x:answer_numerate(x))\n",
    "lsr_stf[\"LSR_LVLH_WHOLE_SATSFC_DGREE_NUM\"] = lsr_stf[\"LSR_LVLH_WHOLE_SATSFC_DGREE_VALUE\"].apply(lambda x:answer_numerate(x))"
   ]
  },
  {
   "cell_type": "markdown",
   "metadata": {},
   "source": [
    "### 레저 사업장 좌표 데이터 전처리"
   ]
  },
  {
   "attachments": {},
   "cell_type": "markdown",
   "metadata": {},
   "source": [
    "사용 데이터 \n",
    "- lsr_loc = 레저 사업장 위치 정보\n",
    "- kor_loc = 대한민국 시,도 행정구역에 대한 공간 데이터"
   ]
  },
  {
   "cell_type": "code",
   "execution_count": 418,
   "metadata": {},
   "outputs": [],
   "source": [
    "from shapely.geometry import Point, Polygon, MultiPolygon\n",
    "\n",
    "lsr_loc = pd.read_csv('./data/leisure_location_info.csv')\n",
    "\n",
    "# 대한민국 행정지역 경계 및 면적 데이터\n",
    "kor_loc = gpd.read_file('./data/ctp_rvn.shp', encoding=\"cp949\")\n",
    "kor_area = pd.read_csv('./data/ctp_area.csv', encoding=\"cp949\")[16:].reset_index(drop=True)[[\"남북한별 \", \"2021\"]]\n",
    "kor_area.columns = [\"CTP_KOR_NM\", \"CTP_KOR_AREA\"]\n",
    "\n",
    "# folium에서 사용할 수 있는 좌표계로 변환\n",
    "kor_loc = kor_loc.set_crs(epsg=5179, inplace=True, allow_override=True)\n",
    "kor_loc[\"geometry\"] = kor_loc[\"geometry\"].to_crs(epsg=4326)\n",
    "\n",
    "# 각 데이터 프레임에서 좌표만 추출해서 리스트로 반환\n",
    "lsr_points = [tuple(x) for x in lsr_loc[['FCLTY_CRDNT_LO', 'FCLTY_CRDNT_LA']].to_numpy()]\n",
    "kor_boundaries = [x for x in kor_loc[\"geometry\"]]\n",
    "kor_boundaries_name = [[x, 0] for x in kor_loc[\"CTP_KOR_NM\"]]\n",
    "\n",
    "# 각 행정구역 내에서 레저 사업장의 개수를 count하는 함수\n",
    "def inner_or_outer(point_list, i):\n",
    "    for point in point_list.copy():\n",
    "        if kor_boundaries[i].contains(Point(point)):\n",
    "            kor_boundaries_name[i][1] += 1\n",
    "            point_list.remove(point)\n",
    "\n",
    "for i in range(len(kor_boundaries)):\n",
    "    inner_or_outer(lsr_points, i)\n",
    "\n",
    "# count한 결과 데이터프레임으로 반환\n",
    "lsr_count = pd.DataFrame(kor_boundaries_name)\n",
    "lsr_count.columns = [\"CTP_KOR_NM\", \"NUM_OF_LSR_LOC\"]\n",
    "\n",
    "# 면적당 레저 사업장 개수 반환\n",
    "lsr_locations = pd.merge(lsr_count, kor_area, on=\"CTP_KOR_NM\")\n",
    "lsr_locations[\"NUM_OF_LSR_LOC\"] = lsr_locations[\"NUM_OF_LSR_LOC\"].astype('int')\n",
    "lsr_locations[\"CTP_KOR_AREA\"] = lsr_locations[\"CTP_KOR_AREA\"].astype('int')\n",
    "lsr_locations[\"LSR_LOC_PER_AREA\"] = lsr_locations[\"NUM_OF_LSR_LOC\"].div(lsr_locations[\"CTP_KOR_AREA\"])*100"
   ]
  },
  {
   "attachments": {},
   "cell_type": "markdown",
   "metadata": {},
   "source": [
    "- 함수 실행시에 좌표 104개가 빠지는데, 시각화 결과 38개는 좌표값이 아프리카 바다에.. 덩그러니 있고 나머지 66개는.. 어디에 갔는지 모르겠서욤 ㅜ"
   ]
  },
  {
   "cell_type": "code",
   "execution_count": 634,
   "metadata": {},
   "outputs": [
    {
     "data": {
      "text/html": [
       "<div>\n",
       "<style scoped>\n",
       "    .dataframe tbody tr th:only-of-type {\n",
       "        vertical-align: middle;\n",
       "    }\n",
       "\n",
       "    .dataframe tbody tr th {\n",
       "        vertical-align: top;\n",
       "    }\n",
       "\n",
       "    .dataframe thead th {\n",
       "        text-align: right;\n",
       "    }\n",
       "</style>\n",
       "<table border=\"1\" class=\"dataframe\">\n",
       "  <thead>\n",
       "    <tr style=\"text-align: right;\">\n",
       "      <th></th>\n",
       "      <th>EXAMIN_BEGIN_DE</th>\n",
       "      <th>SEXDSTN_FLAG_CD</th>\n",
       "      <th>AGRDE_FLAG_NM</th>\n",
       "      <th>ANSWRR_OC_AREA_NM</th>\n",
       "      <th>HSHLD_INCOME_DGREE_NM</th>\n",
       "      <th>WORKDAY_DAY_AVRG_LSR_TIME_VALUE</th>\n",
       "      <th>WKEND_DAY_AVRG_LSR_TIME_VALUE</th>\n",
       "      <th>ONE_WEEK_TOT_LSR_TIME_VALUE</th>\n",
       "      <th>LSR_TIME_REST_RCRT_USE_RATE</th>\n",
       "      <th>LSR_TIME_HOBBY_USE_RATE</th>\n",
       "      <th>LSR_TIME_SELF_IMPT_USE_RATE</th>\n",
       "      <th>LSR_TIME_TWDPSN_RLTN_FLWSP_USE_RATE</th>\n",
       "      <th>LSR_TIME_ETC_USE_RATE</th>\n",
       "    </tr>\n",
       "  </thead>\n",
       "  <tbody>\n",
       "    <tr>\n",
       "      <th>0</th>\n",
       "      <td>Jen</td>\n",
       "      <td>F</td>\n",
       "      <td>50대</td>\n",
       "      <td>광주광역시</td>\n",
       "      <td>300이상500만원 미만</td>\n",
       "      <td>2</td>\n",
       "      <td>3</td>\n",
       "      <td>16</td>\n",
       "      <td>40</td>\n",
       "      <td>0</td>\n",
       "      <td>0</td>\n",
       "      <td>60</td>\n",
       "      <td>0</td>\n",
       "    </tr>\n",
       "    <tr>\n",
       "      <th>1</th>\n",
       "      <td>Jen</td>\n",
       "      <td>M</td>\n",
       "      <td>60대</td>\n",
       "      <td>전라남도</td>\n",
       "      <td>300만원 미만</td>\n",
       "      <td>3</td>\n",
       "      <td>5</td>\n",
       "      <td>25</td>\n",
       "      <td>0</td>\n",
       "      <td>0</td>\n",
       "      <td>0</td>\n",
       "      <td>30</td>\n",
       "      <td>70</td>\n",
       "    </tr>\n",
       "    <tr>\n",
       "      <th>2</th>\n",
       "      <td>Jen</td>\n",
       "      <td>F</td>\n",
       "      <td>30대</td>\n",
       "      <td>경기도</td>\n",
       "      <td>300이상500만원 미만</td>\n",
       "      <td>3</td>\n",
       "      <td>12</td>\n",
       "      <td>39</td>\n",
       "      <td>60</td>\n",
       "      <td>40</td>\n",
       "      <td>0</td>\n",
       "      <td>0</td>\n",
       "      <td>0</td>\n",
       "    </tr>\n",
       "    <tr>\n",
       "      <th>3</th>\n",
       "      <td>Jen</td>\n",
       "      <td>M</td>\n",
       "      <td>50대</td>\n",
       "      <td>대전광역시</td>\n",
       "      <td>300만원 미만</td>\n",
       "      <td>3</td>\n",
       "      <td>3</td>\n",
       "      <td>21</td>\n",
       "      <td>0</td>\n",
       "      <td>0</td>\n",
       "      <td>25</td>\n",
       "      <td>65</td>\n",
       "      <td>10</td>\n",
       "    </tr>\n",
       "    <tr>\n",
       "      <th>4</th>\n",
       "      <td>Jen</td>\n",
       "      <td>F</td>\n",
       "      <td>30대</td>\n",
       "      <td>경기도</td>\n",
       "      <td>500이상700만원 미만</td>\n",
       "      <td>3</td>\n",
       "      <td>12</td>\n",
       "      <td>39</td>\n",
       "      <td>50</td>\n",
       "      <td>0</td>\n",
       "      <td>20</td>\n",
       "      <td>30</td>\n",
       "      <td>0</td>\n",
       "    </tr>\n",
       "    <tr>\n",
       "      <th>...</th>\n",
       "      <td>...</td>\n",
       "      <td>...</td>\n",
       "      <td>...</td>\n",
       "      <td>...</td>\n",
       "      <td>...</td>\n",
       "      <td>...</td>\n",
       "      <td>...</td>\n",
       "      <td>...</td>\n",
       "      <td>...</td>\n",
       "      <td>...</td>\n",
       "      <td>...</td>\n",
       "      <td>...</td>\n",
       "      <td>...</td>\n",
       "    </tr>\n",
       "    <tr>\n",
       "      <th>26973</th>\n",
       "      <td>Dec</td>\n",
       "      <td>F</td>\n",
       "      <td>40대</td>\n",
       "      <td>경상북도</td>\n",
       "      <td>500이상700만원 미만</td>\n",
       "      <td>2</td>\n",
       "      <td>1</td>\n",
       "      <td>12</td>\n",
       "      <td>0</td>\n",
       "      <td>100</td>\n",
       "      <td>0</td>\n",
       "      <td>0</td>\n",
       "      <td>0</td>\n",
       "    </tr>\n",
       "    <tr>\n",
       "      <th>26974</th>\n",
       "      <td>Dec</td>\n",
       "      <td>M</td>\n",
       "      <td>20대</td>\n",
       "      <td>광주광역시</td>\n",
       "      <td>700만원 이상</td>\n",
       "      <td>7</td>\n",
       "      <td>7</td>\n",
       "      <td>49</td>\n",
       "      <td>60</td>\n",
       "      <td>10</td>\n",
       "      <td>20</td>\n",
       "      <td>10</td>\n",
       "      <td>0</td>\n",
       "    </tr>\n",
       "    <tr>\n",
       "      <th>26975</th>\n",
       "      <td>Dec</td>\n",
       "      <td>M</td>\n",
       "      <td>50대</td>\n",
       "      <td>광주광역시</td>\n",
       "      <td>300만원 미만</td>\n",
       "      <td>10</td>\n",
       "      <td>10</td>\n",
       "      <td>70</td>\n",
       "      <td>90</td>\n",
       "      <td>0</td>\n",
       "      <td>0</td>\n",
       "      <td>0</td>\n",
       "      <td>10</td>\n",
       "    </tr>\n",
       "    <tr>\n",
       "      <th>26976</th>\n",
       "      <td>Dec</td>\n",
       "      <td>F</td>\n",
       "      <td>20대</td>\n",
       "      <td>경기도</td>\n",
       "      <td>300이상500만원 미만</td>\n",
       "      <td>5</td>\n",
       "      <td>7</td>\n",
       "      <td>39</td>\n",
       "      <td>40</td>\n",
       "      <td>5</td>\n",
       "      <td>10</td>\n",
       "      <td>0</td>\n",
       "      <td>45</td>\n",
       "    </tr>\n",
       "    <tr>\n",
       "      <th>26977</th>\n",
       "      <td>Dec</td>\n",
       "      <td>M</td>\n",
       "      <td>30대</td>\n",
       "      <td>경기도</td>\n",
       "      <td>500이상700만원 미만</td>\n",
       "      <td>1</td>\n",
       "      <td>6</td>\n",
       "      <td>17</td>\n",
       "      <td>50</td>\n",
       "      <td>5</td>\n",
       "      <td>15</td>\n",
       "      <td>30</td>\n",
       "      <td>0</td>\n",
       "    </tr>\n",
       "  </tbody>\n",
       "</table>\n",
       "<p>26978 rows × 13 columns</p>\n",
       "</div>"
      ],
      "text/plain": [
       "      EXAMIN_BEGIN_DE SEXDSTN_FLAG_CD AGRDE_FLAG_NM ANSWRR_OC_AREA_NM  \\\n",
       "0                 Jen               F           50대             광주광역시   \n",
       "1                 Jen               M           60대              전라남도   \n",
       "2                 Jen               F           30대               경기도   \n",
       "3                 Jen               M           50대             대전광역시   \n",
       "4                 Jen               F           30대               경기도   \n",
       "...               ...             ...           ...               ...   \n",
       "26973             Dec               F           40대              경상북도   \n",
       "26974             Dec               M           20대             광주광역시   \n",
       "26975             Dec               M           50대             광주광역시   \n",
       "26976             Dec               F           20대               경기도   \n",
       "26977             Dec               M           30대               경기도   \n",
       "\n",
       "      HSHLD_INCOME_DGREE_NM  WORKDAY_DAY_AVRG_LSR_TIME_VALUE  \\\n",
       "0             300이상500만원 미만                                2   \n",
       "1                  300만원 미만                                3   \n",
       "2             300이상500만원 미만                                3   \n",
       "3                  300만원 미만                                3   \n",
       "4             500이상700만원 미만                                3   \n",
       "...                     ...                              ...   \n",
       "26973         500이상700만원 미만                                2   \n",
       "26974              700만원 이상                                7   \n",
       "26975              300만원 미만                               10   \n",
       "26976         300이상500만원 미만                                5   \n",
       "26977         500이상700만원 미만                                1   \n",
       "\n",
       "       WKEND_DAY_AVRG_LSR_TIME_VALUE  ONE_WEEK_TOT_LSR_TIME_VALUE  \\\n",
       "0                                  3                           16   \n",
       "1                                  5                           25   \n",
       "2                                 12                           39   \n",
       "3                                  3                           21   \n",
       "4                                 12                           39   \n",
       "...                              ...                          ...   \n",
       "26973                              1                           12   \n",
       "26974                              7                           49   \n",
       "26975                             10                           70   \n",
       "26976                              7                           39   \n",
       "26977                              6                           17   \n",
       "\n",
       "       LSR_TIME_REST_RCRT_USE_RATE  LSR_TIME_HOBBY_USE_RATE  \\\n",
       "0                               40                        0   \n",
       "1                                0                        0   \n",
       "2                               60                       40   \n",
       "3                                0                        0   \n",
       "4                               50                        0   \n",
       "...                            ...                      ...   \n",
       "26973                            0                      100   \n",
       "26974                           60                       10   \n",
       "26975                           90                        0   \n",
       "26976                           40                        5   \n",
       "26977                           50                        5   \n",
       "\n",
       "       LSR_TIME_SELF_IMPT_USE_RATE  LSR_TIME_TWDPSN_RLTN_FLWSP_USE_RATE  \\\n",
       "0                                0                                   60   \n",
       "1                                0                                   30   \n",
       "2                                0                                    0   \n",
       "3                               25                                   65   \n",
       "4                               20                                   30   \n",
       "...                            ...                                  ...   \n",
       "26973                            0                                    0   \n",
       "26974                           20                                   10   \n",
       "26975                            0                                    0   \n",
       "26976                           10                                    0   \n",
       "26977                           15                                   30   \n",
       "\n",
       "       LSR_TIME_ETC_USE_RATE  \n",
       "0                          0  \n",
       "1                         70  \n",
       "2                          0  \n",
       "3                         10  \n",
       "4                          0  \n",
       "...                      ...  \n",
       "26973                      0  \n",
       "26974                      0  \n",
       "26975                     10  \n",
       "26976                     45  \n",
       "26977                      0  \n",
       "\n",
       "[26978 rows x 13 columns]"
      ]
     },
     "execution_count": 634,
     "metadata": {},
     "output_type": "execute_result"
    }
   ],
   "source": [
    "lsr_time"
   ]
  },
  {
   "cell_type": "code",
   "execution_count": 420,
   "metadata": {},
   "outputs": [
    {
     "data": {
      "text/html": [
       "<div>\n",
       "<style scoped>\n",
       "    .dataframe tbody tr th:only-of-type {\n",
       "        vertical-align: middle;\n",
       "    }\n",
       "\n",
       "    .dataframe tbody tr th {\n",
       "        vertical-align: top;\n",
       "    }\n",
       "\n",
       "    .dataframe thead th {\n",
       "        text-align: right;\n",
       "    }\n",
       "</style>\n",
       "<table border=\"1\" class=\"dataframe\">\n",
       "  <thead>\n",
       "    <tr style=\"text-align: right;\">\n",
       "      <th></th>\n",
       "      <th>EXAMIN_YM</th>\n",
       "      <th>SEXDSTN_FLAG_CD</th>\n",
       "      <th>AGRDE_FLAG_NM</th>\n",
       "      <th>ANSWRR_OC_AREA_NM</th>\n",
       "      <th>HSHLD_INCOME_DGREE_NM</th>\n",
       "      <th>TIME_SUFNCY_SATSFC_DGREE_VALUE</th>\n",
       "      <th>INFRA_ND_FCLTY_SATSFC_DGREE_VALUE</th>\n",
       "      <th>ECNM_MRGN_SATSFC_DGREE_VALUE</th>\n",
       "      <th>INFO_SUFNCY_SATSFC_DGREE_VALUE</th>\n",
       "      <th>LSR_LVLH_WHOLE_SATSFC_DGREE_VALUE</th>\n",
       "      <th>TIME_SUFNCY_SATSFC_DGREE_NUM</th>\n",
       "      <th>INFRA_ND_FCLTY_SATSFC_DGREE_NUM</th>\n",
       "      <th>ECNM_MRGN_SATSFC_DGREE_NUM</th>\n",
       "      <th>INFO_SUFNCY_SATSFC_DGREE_NUM</th>\n",
       "      <th>LSR_LVLH_WHOLE_SATSFC_DGREE_NUM</th>\n",
       "    </tr>\n",
       "  </thead>\n",
       "  <tbody>\n",
       "    <tr>\n",
       "      <th>0</th>\n",
       "      <td>Jen</td>\n",
       "      <td>M</td>\n",
       "      <td>20대</td>\n",
       "      <td>강원도</td>\n",
       "      <td>300만원 미만</td>\n",
       "      <td>보통이다</td>\n",
       "      <td>그런 편이다</td>\n",
       "      <td>보통이다</td>\n",
       "      <td>그런 편이다</td>\n",
       "      <td>만족하는 편이다</td>\n",
       "      <td>3</td>\n",
       "      <td>4</td>\n",
       "      <td>3</td>\n",
       "      <td>4</td>\n",
       "      <td>4</td>\n",
       "    </tr>\n",
       "    <tr>\n",
       "      <th>1</th>\n",
       "      <td>Jen</td>\n",
       "      <td>F</td>\n",
       "      <td>30대</td>\n",
       "      <td>강원도</td>\n",
       "      <td>300만원 미만</td>\n",
       "      <td>그렇지 않은 편이다</td>\n",
       "      <td>그렇지 않은 편이다</td>\n",
       "      <td>보통이다</td>\n",
       "      <td>그런 편이다</td>\n",
       "      <td>보통이다</td>\n",
       "      <td>2</td>\n",
       "      <td>2</td>\n",
       "      <td>3</td>\n",
       "      <td>4</td>\n",
       "      <td>3</td>\n",
       "    </tr>\n",
       "    <tr>\n",
       "      <th>2</th>\n",
       "      <td>Jen</td>\n",
       "      <td>F</td>\n",
       "      <td>30대</td>\n",
       "      <td>강원도</td>\n",
       "      <td>300만원 미만</td>\n",
       "      <td>그런 편이다</td>\n",
       "      <td>매우 그렇다</td>\n",
       "      <td>그렇지 않은 편이다</td>\n",
       "      <td>그렇지 않은 편이다</td>\n",
       "      <td>보통이다</td>\n",
       "      <td>4</td>\n",
       "      <td>5</td>\n",
       "      <td>2</td>\n",
       "      <td>2</td>\n",
       "      <td>3</td>\n",
       "    </tr>\n",
       "    <tr>\n",
       "      <th>3</th>\n",
       "      <td>Jen</td>\n",
       "      <td>M</td>\n",
       "      <td>40대</td>\n",
       "      <td>강원도</td>\n",
       "      <td>300만원 미만</td>\n",
       "      <td>보통이다</td>\n",
       "      <td>그런 편이다</td>\n",
       "      <td>보통이다</td>\n",
       "      <td>보통이다</td>\n",
       "      <td>보통이다</td>\n",
       "      <td>3</td>\n",
       "      <td>4</td>\n",
       "      <td>3</td>\n",
       "      <td>3</td>\n",
       "      <td>3</td>\n",
       "    </tr>\n",
       "    <tr>\n",
       "      <th>4</th>\n",
       "      <td>Jen</td>\n",
       "      <td>M</td>\n",
       "      <td>30대</td>\n",
       "      <td>강원도</td>\n",
       "      <td>300만원 미만</td>\n",
       "      <td>그런 편이다</td>\n",
       "      <td>그렇지 않은 편이다</td>\n",
       "      <td>보통이다</td>\n",
       "      <td>그런 편이다</td>\n",
       "      <td>매우 만족한다</td>\n",
       "      <td>4</td>\n",
       "      <td>2</td>\n",
       "      <td>3</td>\n",
       "      <td>4</td>\n",
       "      <td>5</td>\n",
       "    </tr>\n",
       "    <tr>\n",
       "      <th>...</th>\n",
       "      <td>...</td>\n",
       "      <td>...</td>\n",
       "      <td>...</td>\n",
       "      <td>...</td>\n",
       "      <td>...</td>\n",
       "      <td>...</td>\n",
       "      <td>...</td>\n",
       "      <td>...</td>\n",
       "      <td>...</td>\n",
       "      <td>...</td>\n",
       "      <td>...</td>\n",
       "      <td>...</td>\n",
       "      <td>...</td>\n",
       "      <td>...</td>\n",
       "      <td>...</td>\n",
       "    </tr>\n",
       "    <tr>\n",
       "      <th>26973</th>\n",
       "      <td>Dec</td>\n",
       "      <td>F</td>\n",
       "      <td>40대</td>\n",
       "      <td>경상북도</td>\n",
       "      <td>500이상700만원 미만</td>\n",
       "      <td>그런 편이다</td>\n",
       "      <td>보통이다</td>\n",
       "      <td>보통이다</td>\n",
       "      <td>보통이다</td>\n",
       "      <td>보통이다</td>\n",
       "      <td>4</td>\n",
       "      <td>3</td>\n",
       "      <td>3</td>\n",
       "      <td>3</td>\n",
       "      <td>3</td>\n",
       "    </tr>\n",
       "    <tr>\n",
       "      <th>26974</th>\n",
       "      <td>Dec</td>\n",
       "      <td>M</td>\n",
       "      <td>20대</td>\n",
       "      <td>광주광역시</td>\n",
       "      <td>700만원 이상</td>\n",
       "      <td>보통이다</td>\n",
       "      <td>그런 편이다</td>\n",
       "      <td>보통이다</td>\n",
       "      <td>그런 편이다</td>\n",
       "      <td>만족하는 편이다</td>\n",
       "      <td>3</td>\n",
       "      <td>4</td>\n",
       "      <td>3</td>\n",
       "      <td>4</td>\n",
       "      <td>4</td>\n",
       "    </tr>\n",
       "    <tr>\n",
       "      <th>26975</th>\n",
       "      <td>Dec</td>\n",
       "      <td>M</td>\n",
       "      <td>50대</td>\n",
       "      <td>광주광역시</td>\n",
       "      <td>300만원 미만</td>\n",
       "      <td>보통이다</td>\n",
       "      <td>보통이다</td>\n",
       "      <td>보통이다</td>\n",
       "      <td>보통이다</td>\n",
       "      <td>보통이다</td>\n",
       "      <td>3</td>\n",
       "      <td>3</td>\n",
       "      <td>3</td>\n",
       "      <td>3</td>\n",
       "      <td>3</td>\n",
       "    </tr>\n",
       "    <tr>\n",
       "      <th>26976</th>\n",
       "      <td>Dec</td>\n",
       "      <td>F</td>\n",
       "      <td>20대</td>\n",
       "      <td>경기도</td>\n",
       "      <td>300이상500만원 미만</td>\n",
       "      <td>그런 편이다</td>\n",
       "      <td>그런 편이다</td>\n",
       "      <td>그런 편이다</td>\n",
       "      <td>그런 편이다</td>\n",
       "      <td>만족하는 편이다</td>\n",
       "      <td>4</td>\n",
       "      <td>4</td>\n",
       "      <td>4</td>\n",
       "      <td>4</td>\n",
       "      <td>4</td>\n",
       "    </tr>\n",
       "    <tr>\n",
       "      <th>26977</th>\n",
       "      <td>Dec</td>\n",
       "      <td>M</td>\n",
       "      <td>30대</td>\n",
       "      <td>경기도</td>\n",
       "      <td>500이상700만원 미만</td>\n",
       "      <td>그런 편이다</td>\n",
       "      <td>그런 편이다</td>\n",
       "      <td>그런 편이다</td>\n",
       "      <td>매우 그렇다</td>\n",
       "      <td>만족하는 편이다</td>\n",
       "      <td>4</td>\n",
       "      <td>4</td>\n",
       "      <td>4</td>\n",
       "      <td>5</td>\n",
       "      <td>4</td>\n",
       "    </tr>\n",
       "  </tbody>\n",
       "</table>\n",
       "<p>26978 rows × 15 columns</p>\n",
       "</div>"
      ],
      "text/plain": [
       "      EXAMIN_YM SEXDSTN_FLAG_CD AGRDE_FLAG_NM ANSWRR_OC_AREA_NM  \\\n",
       "0           Jen               M           20대               강원도   \n",
       "1           Jen               F           30대               강원도   \n",
       "2           Jen               F           30대               강원도   \n",
       "3           Jen               M           40대               강원도   \n",
       "4           Jen               M           30대               강원도   \n",
       "...         ...             ...           ...               ...   \n",
       "26973       Dec               F           40대              경상북도   \n",
       "26974       Dec               M           20대             광주광역시   \n",
       "26975       Dec               M           50대             광주광역시   \n",
       "26976       Dec               F           20대               경기도   \n",
       "26977       Dec               M           30대               경기도   \n",
       "\n",
       "      HSHLD_INCOME_DGREE_NM TIME_SUFNCY_SATSFC_DGREE_VALUE  \\\n",
       "0                  300만원 미만                           보통이다   \n",
       "1                  300만원 미만                     그렇지 않은 편이다   \n",
       "2                  300만원 미만                         그런 편이다   \n",
       "3                  300만원 미만                           보통이다   \n",
       "4                  300만원 미만                         그런 편이다   \n",
       "...                     ...                            ...   \n",
       "26973         500이상700만원 미만                         그런 편이다   \n",
       "26974              700만원 이상                           보통이다   \n",
       "26975              300만원 미만                           보통이다   \n",
       "26976         300이상500만원 미만                         그런 편이다   \n",
       "26977         500이상700만원 미만                         그런 편이다   \n",
       "\n",
       "      INFRA_ND_FCLTY_SATSFC_DGREE_VALUE ECNM_MRGN_SATSFC_DGREE_VALUE  \\\n",
       "0                                그런 편이다                         보통이다   \n",
       "1                            그렇지 않은 편이다                         보통이다   \n",
       "2                                매우 그렇다                   그렇지 않은 편이다   \n",
       "3                                그런 편이다                         보통이다   \n",
       "4                            그렇지 않은 편이다                         보통이다   \n",
       "...                                 ...                          ...   \n",
       "26973                              보통이다                         보통이다   \n",
       "26974                            그런 편이다                         보통이다   \n",
       "26975                              보통이다                         보통이다   \n",
       "26976                            그런 편이다                       그런 편이다   \n",
       "26977                            그런 편이다                       그런 편이다   \n",
       "\n",
       "      INFO_SUFNCY_SATSFC_DGREE_VALUE LSR_LVLH_WHOLE_SATSFC_DGREE_VALUE  \\\n",
       "0                             그런 편이다                          만족하는 편이다   \n",
       "1                             그런 편이다                              보통이다   \n",
       "2                         그렇지 않은 편이다                              보통이다   \n",
       "3                               보통이다                              보통이다   \n",
       "4                             그런 편이다                           매우 만족한다   \n",
       "...                              ...                               ...   \n",
       "26973                           보통이다                              보통이다   \n",
       "26974                         그런 편이다                          만족하는 편이다   \n",
       "26975                           보통이다                              보통이다   \n",
       "26976                         그런 편이다                          만족하는 편이다   \n",
       "26977                         매우 그렇다                          만족하는 편이다   \n",
       "\n",
       "       TIME_SUFNCY_SATSFC_DGREE_NUM  INFRA_ND_FCLTY_SATSFC_DGREE_NUM  \\\n",
       "0                                 3                                4   \n",
       "1                                 2                                2   \n",
       "2                                 4                                5   \n",
       "3                                 3                                4   \n",
       "4                                 4                                2   \n",
       "...                             ...                              ...   \n",
       "26973                             4                                3   \n",
       "26974                             3                                4   \n",
       "26975                             3                                3   \n",
       "26976                             4                                4   \n",
       "26977                             4                                4   \n",
       "\n",
       "       ECNM_MRGN_SATSFC_DGREE_NUM  INFO_SUFNCY_SATSFC_DGREE_NUM  \\\n",
       "0                               3                             4   \n",
       "1                               3                             4   \n",
       "2                               2                             2   \n",
       "3                               3                             3   \n",
       "4                               3                             4   \n",
       "...                           ...                           ...   \n",
       "26973                           3                             3   \n",
       "26974                           3                             4   \n",
       "26975                           3                             3   \n",
       "26976                           4                             4   \n",
       "26977                           4                             5   \n",
       "\n",
       "       LSR_LVLH_WHOLE_SATSFC_DGREE_NUM  \n",
       "0                                    4  \n",
       "1                                    3  \n",
       "2                                    3  \n",
       "3                                    3  \n",
       "4                                    5  \n",
       "...                                ...  \n",
       "26973                                3  \n",
       "26974                                4  \n",
       "26975                                3  \n",
       "26976                                4  \n",
       "26977                                4  \n",
       "\n",
       "[26978 rows x 15 columns]"
      ]
     },
     "execution_count": 420,
     "metadata": {},
     "output_type": "execute_result"
    }
   ],
   "source": [
    "lsr_stf"
   ]
  },
  {
   "cell_type": "code",
   "execution_count": null,
   "metadata": {},
   "outputs": [
    {
     "data": {
      "text/html": [
       "<div>\n",
       "<style scoped>\n",
       "    .dataframe tbody tr th:only-of-type {\n",
       "        vertical-align: middle;\n",
       "    }\n",
       "\n",
       "    .dataframe tbody tr th {\n",
       "        vertical-align: top;\n",
       "    }\n",
       "\n",
       "    .dataframe thead th {\n",
       "        text-align: right;\n",
       "    }\n",
       "</style>\n",
       "<table border=\"1\" class=\"dataframe\">\n",
       "  <thead>\n",
       "    <tr style=\"text-align: right;\">\n",
       "      <th></th>\n",
       "      <th>CTP_KOR_NM</th>\n",
       "      <th>NUM_OF_LSR_LOC</th>\n",
       "      <th>CTP_KOR_AREA</th>\n",
       "      <th>LSR_LOC_PER_AREA</th>\n",
       "    </tr>\n",
       "  </thead>\n",
       "  <tbody>\n",
       "    <tr>\n",
       "      <th>0</th>\n",
       "      <td>서울특별시</td>\n",
       "      <td>3159</td>\n",
       "      <td>605</td>\n",
       "      <td>522.148760</td>\n",
       "    </tr>\n",
       "    <tr>\n",
       "      <th>1</th>\n",
       "      <td>부산광역시</td>\n",
       "      <td>654</td>\n",
       "      <td>770</td>\n",
       "      <td>84.935065</td>\n",
       "    </tr>\n",
       "    <tr>\n",
       "      <th>2</th>\n",
       "      <td>대구광역시</td>\n",
       "      <td>770</td>\n",
       "      <td>884</td>\n",
       "      <td>87.104072</td>\n",
       "    </tr>\n",
       "    <tr>\n",
       "      <th>3</th>\n",
       "      <td>인천광역시</td>\n",
       "      <td>344</td>\n",
       "      <td>1066</td>\n",
       "      <td>32.270169</td>\n",
       "    </tr>\n",
       "    <tr>\n",
       "      <th>4</th>\n",
       "      <td>광주광역시</td>\n",
       "      <td>74</td>\n",
       "      <td>501</td>\n",
       "      <td>14.770459</td>\n",
       "    </tr>\n",
       "    <tr>\n",
       "      <th>5</th>\n",
       "      <td>대전광역시</td>\n",
       "      <td>132</td>\n",
       "      <td>540</td>\n",
       "      <td>24.444444</td>\n",
       "    </tr>\n",
       "    <tr>\n",
       "      <th>6</th>\n",
       "      <td>울산광역시</td>\n",
       "      <td>56</td>\n",
       "      <td>1062</td>\n",
       "      <td>5.273070</td>\n",
       "    </tr>\n",
       "    <tr>\n",
       "      <th>7</th>\n",
       "      <td>세종특별자치시</td>\n",
       "      <td>24</td>\n",
       "      <td>465</td>\n",
       "      <td>5.161290</td>\n",
       "    </tr>\n",
       "    <tr>\n",
       "      <th>8</th>\n",
       "      <td>경기도</td>\n",
       "      <td>3774</td>\n",
       "      <td>10197</td>\n",
       "      <td>37.010886</td>\n",
       "    </tr>\n",
       "    <tr>\n",
       "      <th>9</th>\n",
       "      <td>강원도</td>\n",
       "      <td>1717</td>\n",
       "      <td>16830</td>\n",
       "      <td>10.202020</td>\n",
       "    </tr>\n",
       "    <tr>\n",
       "      <th>10</th>\n",
       "      <td>충청북도</td>\n",
       "      <td>237</td>\n",
       "      <td>7407</td>\n",
       "      <td>3.199676</td>\n",
       "    </tr>\n",
       "    <tr>\n",
       "      <th>11</th>\n",
       "      <td>충청남도</td>\n",
       "      <td>524</td>\n",
       "      <td>8247</td>\n",
       "      <td>6.353826</td>\n",
       "    </tr>\n",
       "    <tr>\n",
       "      <th>12</th>\n",
       "      <td>전라북도</td>\n",
       "      <td>378</td>\n",
       "      <td>8072</td>\n",
       "      <td>4.682854</td>\n",
       "    </tr>\n",
       "    <tr>\n",
       "      <th>13</th>\n",
       "      <td>전라남도</td>\n",
       "      <td>548</td>\n",
       "      <td>12359</td>\n",
       "      <td>4.434016</td>\n",
       "    </tr>\n",
       "    <tr>\n",
       "      <th>14</th>\n",
       "      <td>경상북도</td>\n",
       "      <td>963</td>\n",
       "      <td>19035</td>\n",
       "      <td>5.059102</td>\n",
       "    </tr>\n",
       "    <tr>\n",
       "      <th>15</th>\n",
       "      <td>경상남도</td>\n",
       "      <td>601</td>\n",
       "      <td>10542</td>\n",
       "      <td>5.701006</td>\n",
       "    </tr>\n",
       "    <tr>\n",
       "      <th>16</th>\n",
       "      <td>제주특별자치도</td>\n",
       "      <td>1730</td>\n",
       "      <td>1850</td>\n",
       "      <td>93.513514</td>\n",
       "    </tr>\n",
       "  </tbody>\n",
       "</table>\n",
       "</div>"
      ],
      "text/plain": [
       "   CTP_KOR_NM  NUM_OF_LSR_LOC  CTP_KOR_AREA  LSR_LOC_PER_AREA\n",
       "0       서울특별시            3159           605        522.148760\n",
       "1       부산광역시             654           770         84.935065\n",
       "2       대구광역시             770           884         87.104072\n",
       "3       인천광역시             344          1066         32.270169\n",
       "4       광주광역시              74           501         14.770459\n",
       "5       대전광역시             132           540         24.444444\n",
       "6       울산광역시              56          1062          5.273070\n",
       "7     세종특별자치시              24           465          5.161290\n",
       "8         경기도            3774         10197         37.010886\n",
       "9         강원도            1717         16830         10.202020\n",
       "10       충청북도             237          7407          3.199676\n",
       "11       충청남도             524          8247          6.353826\n",
       "12       전라북도             378          8072          4.682854\n",
       "13       전라남도             548         12359          4.434016\n",
       "14       경상북도             963         19035          5.059102\n",
       "15       경상남도             601         10542          5.701006\n",
       "16    제주특별자치도            1730          1850         93.513514"
      ]
     },
     "execution_count": 471,
     "metadata": {},
     "output_type": "execute_result"
    }
   ],
   "source": [
    "lsr_locations"
   ]
  },
  {
   "attachments": {},
   "cell_type": "markdown",
   "metadata": {},
   "source": [
    "## 가설1. 거주 지역이 사람들의 여가 생활에 영향을 줄 것이다."
   ]
  },
  {
   "cell_type": "code",
   "execution_count": 521,
   "metadata": {},
   "outputs": [],
   "source": [
    "df_time_1 = lsr_time.copy()\n",
    "df_loc_1 = lsr_locations.copy()\n",
    "df_stf_1 = lsr_stf.copy()\n",
    "df = pd.merge(df_loc_1, df_time_1, right_on=\"ANSWRR_OC_AREA_NM\", left_on=\"CTP_KOR_NM\")"
   ]
  },
  {
   "cell_type": "code",
   "execution_count": 924,
   "metadata": {},
   "outputs": [
    {
     "ename": "NameError",
     "evalue": "name 'ƒsr' is not defined",
     "output_type": "error",
     "traceback": [
      "\u001b[0;31m---------------------------------------------------------------------------\u001b[0m",
      "\u001b[0;31mNameError\u001b[0m                                 Traceback (most recent call last)",
      "Cell \u001b[0;32mIn[924], line 3\u001b[0m\n\u001b[1;32m      1\u001b[0m \u001b[39mmap\u001b[39m \u001b[39m=\u001b[39m folium\u001b[39m.\u001b[39mMap(location\u001b[39m=\u001b[39m[\u001b[39m37.509671\u001b[39m, \u001b[39m127.055517\u001b[39m], zoom_start\u001b[39m=\u001b[39m\u001b[39m8\u001b[39m)\n\u001b[1;32m      2\u001b[0m loc \u001b[39m=\u001b[39m lsr_loc[[\u001b[39m\"\u001b[39m\u001b[39mFCLTY_CRDNT_LA\u001b[39m\u001b[39m\"\u001b[39m, \u001b[39m\"\u001b[39m\u001b[39mFCLTY_CRDNT_LO\u001b[39m\u001b[39m\"\u001b[39m]]\n\u001b[0;32m----> 3\u001b[0m ƒsr()\u001b[39m.\u001b[39madd_to(\u001b[39mmap\u001b[39m)\n\u001b[1;32m      4\u001b[0m \u001b[39mfor\u001b[39;00m la, lo \u001b[39min\u001b[39;00m \u001b[39mzip\u001b[39m(loc[\u001b[39m\"\u001b[39m\u001b[39mFCLTY_CRDNT_LA\u001b[39m\u001b[39m\"\u001b[39m], loc[\u001b[39m\"\u001b[39m\u001b[39mFCLTY_CRDNT_LO\u001b[39m\u001b[39m\"\u001b[39m]):\n\u001b[1;32m      5\u001b[0m     folium\u001b[39m.\u001b[39mMarker([la, lo], icon\u001b[39m=\u001b[39mfolium\u001b[39m.\u001b[39mIcon(color\u001b[39m=\u001b[39m\u001b[39m\"\u001b[39m\u001b[39mgreen\u001b[39m\u001b[39m\"\u001b[39m))\u001b[39m.\u001b[39madd_to(marker_cluster)\n",
      "\u001b[0;31mNameError\u001b[0m: name 'ƒsr' is not defined"
     ]
    }
   ],
   "source": [
    "map = folium.Map(location=[37.509671, 127.055517], zoom_start=8)\n",
    "loc = lsr_loc[[\"FCLTY_CRDNT_LA\", \"FCLTY_CRDNT_LO\"]]\n",
    "\n",
    "marker_cluster = MarkerCluster().add_to(map)\n",
    "for la, lo in zip(loc[\"FCLTY_CRDNT_LA\"], loc[\"FCLTY_CRDNT_LO\"]):\n",
    "    folium.Marker([la, lo], icon=folium.Icon(color=\"green\")).add_to(marker_cluster)\n",
    "folium.GeoJson(kor_loc).add_to(map)\n",
    "\n",
    "map"
   ]
  },
  {
   "attachments": {},
   "cell_type": "markdown",
   "metadata": {},
   "source": [
    "#### 가설 1-1. 레저 사업장이 다수 위치한 곳일수록 주민들의 인프라 및 시설 만족 정도가 높을 것이다"
   ]
  },
  {
   "attachments": {},
   "cell_type": "markdown",
   "metadata": {},
   "source": [
    "레저 사업장의 위치 분포"
   ]
  },
  {
   "cell_type": "code",
   "execution_count": 780,
   "metadata": {},
   "outputs": [
    {
     "data": {
      "application/vnd.plotly.v1+json": {
       "config": {
        "plotlyServerURL": "https://plot.ly"
       },
       "data": [
        {
         "alignmentgroup": "True",
         "hovertemplate": "CTP_KOR_NM=%{x}<br>NUM_OF_LSR_LOC=%{text}<extra></extra>",
         "legendgroup": "경기도",
         "marker": {
          "color": "#636efa",
          "pattern": {
           "shape": ""
          }
         },
         "name": "경기도",
         "offsetgroup": "경기도",
         "orientation": "v",
         "showlegend": true,
         "text": [
          3774
         ],
         "textposition": "outside",
         "texttemplate": "%{text:.2s}",
         "type": "bar",
         "x": [
          "경기도"
         ],
         "xaxis": "x",
         "y": [
          3774
         ],
         "yaxis": "y"
        },
        {
         "alignmentgroup": "True",
         "hovertemplate": "CTP_KOR_NM=%{x}<br>NUM_OF_LSR_LOC=%{text}<extra></extra>",
         "legendgroup": "서울특별시",
         "marker": {
          "color": "#EF553B",
          "pattern": {
           "shape": ""
          }
         },
         "name": "서울특별시",
         "offsetgroup": "서울특별시",
         "orientation": "v",
         "showlegend": true,
         "text": [
          3159
         ],
         "textposition": "outside",
         "texttemplate": "%{text:.2s}",
         "type": "bar",
         "x": [
          "서울특별시"
         ],
         "xaxis": "x",
         "y": [
          3159
         ],
         "yaxis": "y"
        },
        {
         "alignmentgroup": "True",
         "hovertemplate": "CTP_KOR_NM=%{x}<br>NUM_OF_LSR_LOC=%{text}<extra></extra>",
         "legendgroup": "제주특별자치도",
         "marker": {
          "color": "#00cc96",
          "pattern": {
           "shape": ""
          }
         },
         "name": "제주특별자치도",
         "offsetgroup": "제주특별자치도",
         "orientation": "v",
         "showlegend": true,
         "text": [
          1730
         ],
         "textposition": "outside",
         "texttemplate": "%{text:.2s}",
         "type": "bar",
         "x": [
          "제주특별자치도"
         ],
         "xaxis": "x",
         "y": [
          1730
         ],
         "yaxis": "y"
        },
        {
         "alignmentgroup": "True",
         "hovertemplate": "CTP_KOR_NM=%{x}<br>NUM_OF_LSR_LOC=%{text}<extra></extra>",
         "legendgroup": "강원도",
         "marker": {
          "color": "#ab63fa",
          "pattern": {
           "shape": ""
          }
         },
         "name": "강원도",
         "offsetgroup": "강원도",
         "orientation": "v",
         "showlegend": true,
         "text": [
          1717
         ],
         "textposition": "outside",
         "texttemplate": "%{text:.2s}",
         "type": "bar",
         "x": [
          "강원도"
         ],
         "xaxis": "x",
         "y": [
          1717
         ],
         "yaxis": "y"
        },
        {
         "alignmentgroup": "True",
         "hovertemplate": "CTP_KOR_NM=%{x}<br>NUM_OF_LSR_LOC=%{text}<extra></extra>",
         "legendgroup": "경상북도",
         "marker": {
          "color": "#FFA15A",
          "pattern": {
           "shape": ""
          }
         },
         "name": "경상북도",
         "offsetgroup": "경상북도",
         "orientation": "v",
         "showlegend": true,
         "text": [
          963
         ],
         "textposition": "outside",
         "texttemplate": "%{text:.2s}",
         "type": "bar",
         "x": [
          "경상북도"
         ],
         "xaxis": "x",
         "y": [
          963
         ],
         "yaxis": "y"
        },
        {
         "alignmentgroup": "True",
         "hovertemplate": "CTP_KOR_NM=%{x}<br>NUM_OF_LSR_LOC=%{text}<extra></extra>",
         "legendgroup": "대구광역시",
         "marker": {
          "color": "#19d3f3",
          "pattern": {
           "shape": ""
          }
         },
         "name": "대구광역시",
         "offsetgroup": "대구광역시",
         "orientation": "v",
         "showlegend": true,
         "text": [
          770
         ],
         "textposition": "outside",
         "texttemplate": "%{text:.2s}",
         "type": "bar",
         "x": [
          "대구광역시"
         ],
         "xaxis": "x",
         "y": [
          770
         ],
         "yaxis": "y"
        },
        {
         "alignmentgroup": "True",
         "hovertemplate": "CTP_KOR_NM=%{x}<br>NUM_OF_LSR_LOC=%{text}<extra></extra>",
         "legendgroup": "부산광역시",
         "marker": {
          "color": "#FF6692",
          "pattern": {
           "shape": ""
          }
         },
         "name": "부산광역시",
         "offsetgroup": "부산광역시",
         "orientation": "v",
         "showlegend": true,
         "text": [
          654
         ],
         "textposition": "outside",
         "texttemplate": "%{text:.2s}",
         "type": "bar",
         "x": [
          "부산광역시"
         ],
         "xaxis": "x",
         "y": [
          654
         ],
         "yaxis": "y"
        },
        {
         "alignmentgroup": "True",
         "hovertemplate": "CTP_KOR_NM=%{x}<br>NUM_OF_LSR_LOC=%{text}<extra></extra>",
         "legendgroup": "경상남도",
         "marker": {
          "color": "#B6E880",
          "pattern": {
           "shape": ""
          }
         },
         "name": "경상남도",
         "offsetgroup": "경상남도",
         "orientation": "v",
         "showlegend": true,
         "text": [
          601
         ],
         "textposition": "outside",
         "texttemplate": "%{text:.2s}",
         "type": "bar",
         "x": [
          "경상남도"
         ],
         "xaxis": "x",
         "y": [
          601
         ],
         "yaxis": "y"
        },
        {
         "alignmentgroup": "True",
         "hovertemplate": "CTP_KOR_NM=%{x}<br>NUM_OF_LSR_LOC=%{text}<extra></extra>",
         "legendgroup": "전라남도",
         "marker": {
          "color": "#FF97FF",
          "pattern": {
           "shape": ""
          }
         },
         "name": "전라남도",
         "offsetgroup": "전라남도",
         "orientation": "v",
         "showlegend": true,
         "text": [
          548
         ],
         "textposition": "outside",
         "texttemplate": "%{text:.2s}",
         "type": "bar",
         "x": [
          "전라남도"
         ],
         "xaxis": "x",
         "y": [
          548
         ],
         "yaxis": "y"
        },
        {
         "alignmentgroup": "True",
         "hovertemplate": "CTP_KOR_NM=%{x}<br>NUM_OF_LSR_LOC=%{text}<extra></extra>",
         "legendgroup": "충청남도",
         "marker": {
          "color": "#FECB52",
          "pattern": {
           "shape": ""
          }
         },
         "name": "충청남도",
         "offsetgroup": "충청남도",
         "orientation": "v",
         "showlegend": true,
         "text": [
          524
         ],
         "textposition": "outside",
         "texttemplate": "%{text:.2s}",
         "type": "bar",
         "x": [
          "충청남도"
         ],
         "xaxis": "x",
         "y": [
          524
         ],
         "yaxis": "y"
        },
        {
         "alignmentgroup": "True",
         "hovertemplate": "CTP_KOR_NM=%{x}<br>NUM_OF_LSR_LOC=%{text}<extra></extra>",
         "legendgroup": "전라북도",
         "marker": {
          "color": "#636efa",
          "pattern": {
           "shape": ""
          }
         },
         "name": "전라북도",
         "offsetgroup": "전라북도",
         "orientation": "v",
         "showlegend": true,
         "text": [
          378
         ],
         "textposition": "outside",
         "texttemplate": "%{text:.2s}",
         "type": "bar",
         "x": [
          "전라북도"
         ],
         "xaxis": "x",
         "y": [
          378
         ],
         "yaxis": "y"
        },
        {
         "alignmentgroup": "True",
         "hovertemplate": "CTP_KOR_NM=%{x}<br>NUM_OF_LSR_LOC=%{text}<extra></extra>",
         "legendgroup": "인천광역시",
         "marker": {
          "color": "#EF553B",
          "pattern": {
           "shape": ""
          }
         },
         "name": "인천광역시",
         "offsetgroup": "인천광역시",
         "orientation": "v",
         "showlegend": true,
         "text": [
          344
         ],
         "textposition": "outside",
         "texttemplate": "%{text:.2s}",
         "type": "bar",
         "x": [
          "인천광역시"
         ],
         "xaxis": "x",
         "y": [
          344
         ],
         "yaxis": "y"
        },
        {
         "alignmentgroup": "True",
         "hovertemplate": "CTP_KOR_NM=%{x}<br>NUM_OF_LSR_LOC=%{text}<extra></extra>",
         "legendgroup": "충청북도",
         "marker": {
          "color": "#00cc96",
          "pattern": {
           "shape": ""
          }
         },
         "name": "충청북도",
         "offsetgroup": "충청북도",
         "orientation": "v",
         "showlegend": true,
         "text": [
          237
         ],
         "textposition": "outside",
         "texttemplate": "%{text:.2s}",
         "type": "bar",
         "x": [
          "충청북도"
         ],
         "xaxis": "x",
         "y": [
          237
         ],
         "yaxis": "y"
        },
        {
         "alignmentgroup": "True",
         "hovertemplate": "CTP_KOR_NM=%{x}<br>NUM_OF_LSR_LOC=%{text}<extra></extra>",
         "legendgroup": "대전광역시",
         "marker": {
          "color": "#ab63fa",
          "pattern": {
           "shape": ""
          }
         },
         "name": "대전광역시",
         "offsetgroup": "대전광역시",
         "orientation": "v",
         "showlegend": true,
         "text": [
          132
         ],
         "textposition": "outside",
         "texttemplate": "%{text:.2s}",
         "type": "bar",
         "x": [
          "대전광역시"
         ],
         "xaxis": "x",
         "y": [
          132
         ],
         "yaxis": "y"
        },
        {
         "alignmentgroup": "True",
         "hovertemplate": "CTP_KOR_NM=%{x}<br>NUM_OF_LSR_LOC=%{text}<extra></extra>",
         "legendgroup": "광주광역시",
         "marker": {
          "color": "#FFA15A",
          "pattern": {
           "shape": ""
          }
         },
         "name": "광주광역시",
         "offsetgroup": "광주광역시",
         "orientation": "v",
         "showlegend": true,
         "text": [
          74
         ],
         "textposition": "outside",
         "texttemplate": "%{text:.2s}",
         "type": "bar",
         "x": [
          "광주광역시"
         ],
         "xaxis": "x",
         "y": [
          74
         ],
         "yaxis": "y"
        },
        {
         "alignmentgroup": "True",
         "hovertemplate": "CTP_KOR_NM=%{x}<br>NUM_OF_LSR_LOC=%{text}<extra></extra>",
         "legendgroup": "울산광역시",
         "marker": {
          "color": "#19d3f3",
          "pattern": {
           "shape": ""
          }
         },
         "name": "울산광역시",
         "offsetgroup": "울산광역시",
         "orientation": "v",
         "showlegend": true,
         "text": [
          56
         ],
         "textposition": "outside",
         "texttemplate": "%{text:.2s}",
         "type": "bar",
         "x": [
          "울산광역시"
         ],
         "xaxis": "x",
         "y": [
          56
         ],
         "yaxis": "y"
        },
        {
         "alignmentgroup": "True",
         "hovertemplate": "CTP_KOR_NM=%{x}<br>NUM_OF_LSR_LOC=%{text}<extra></extra>",
         "legendgroup": "세종특별자치시",
         "marker": {
          "color": "#FF6692",
          "pattern": {
           "shape": ""
          }
         },
         "name": "세종특별자치시",
         "offsetgroup": "세종특별자치시",
         "orientation": "v",
         "showlegend": true,
         "text": [
          24
         ],
         "textposition": "outside",
         "texttemplate": "%{text:.2s}",
         "type": "bar",
         "x": [
          "세종특별자치시"
         ],
         "xaxis": "x",
         "y": [
          24
         ],
         "yaxis": "y"
        }
       ],
       "layout": {
        "barmode": "relative",
        "legend": {
         "title": {
          "text": "CTP_KOR_NM"
         },
         "tracegroupgap": 0
        },
        "margin": {
         "t": 60
        },
        "template": {
         "data": {
          "bar": [
           {
            "error_x": {
             "color": "#2a3f5f"
            },
            "error_y": {
             "color": "#2a3f5f"
            },
            "marker": {
             "line": {
              "color": "#E5ECF6",
              "width": 0.5
             },
             "pattern": {
              "fillmode": "overlay",
              "size": 10,
              "solidity": 0.2
             }
            },
            "type": "bar"
           }
          ],
          "barpolar": [
           {
            "marker": {
             "line": {
              "color": "#E5ECF6",
              "width": 0.5
             },
             "pattern": {
              "fillmode": "overlay",
              "size": 10,
              "solidity": 0.2
             }
            },
            "type": "barpolar"
           }
          ],
          "carpet": [
           {
            "aaxis": {
             "endlinecolor": "#2a3f5f",
             "gridcolor": "white",
             "linecolor": "white",
             "minorgridcolor": "white",
             "startlinecolor": "#2a3f5f"
            },
            "baxis": {
             "endlinecolor": "#2a3f5f",
             "gridcolor": "white",
             "linecolor": "white",
             "minorgridcolor": "white",
             "startlinecolor": "#2a3f5f"
            },
            "type": "carpet"
           }
          ],
          "choropleth": [
           {
            "colorbar": {
             "outlinewidth": 0,
             "ticks": ""
            },
            "type": "choropleth"
           }
          ],
          "contour": [
           {
            "colorbar": {
             "outlinewidth": 0,
             "ticks": ""
            },
            "colorscale": [
             [
              0,
              "#0d0887"
             ],
             [
              0.1111111111111111,
              "#46039f"
             ],
             [
              0.2222222222222222,
              "#7201a8"
             ],
             [
              0.3333333333333333,
              "#9c179e"
             ],
             [
              0.4444444444444444,
              "#bd3786"
             ],
             [
              0.5555555555555556,
              "#d8576b"
             ],
             [
              0.6666666666666666,
              "#ed7953"
             ],
             [
              0.7777777777777778,
              "#fb9f3a"
             ],
             [
              0.8888888888888888,
              "#fdca26"
             ],
             [
              1,
              "#f0f921"
             ]
            ],
            "type": "contour"
           }
          ],
          "contourcarpet": [
           {
            "colorbar": {
             "outlinewidth": 0,
             "ticks": ""
            },
            "type": "contourcarpet"
           }
          ],
          "heatmap": [
           {
            "colorbar": {
             "outlinewidth": 0,
             "ticks": ""
            },
            "colorscale": [
             [
              0,
              "#0d0887"
             ],
             [
              0.1111111111111111,
              "#46039f"
             ],
             [
              0.2222222222222222,
              "#7201a8"
             ],
             [
              0.3333333333333333,
              "#9c179e"
             ],
             [
              0.4444444444444444,
              "#bd3786"
             ],
             [
              0.5555555555555556,
              "#d8576b"
             ],
             [
              0.6666666666666666,
              "#ed7953"
             ],
             [
              0.7777777777777778,
              "#fb9f3a"
             ],
             [
              0.8888888888888888,
              "#fdca26"
             ],
             [
              1,
              "#f0f921"
             ]
            ],
            "type": "heatmap"
           }
          ],
          "heatmapgl": [
           {
            "colorbar": {
             "outlinewidth": 0,
             "ticks": ""
            },
            "colorscale": [
             [
              0,
              "#0d0887"
             ],
             [
              0.1111111111111111,
              "#46039f"
             ],
             [
              0.2222222222222222,
              "#7201a8"
             ],
             [
              0.3333333333333333,
              "#9c179e"
             ],
             [
              0.4444444444444444,
              "#bd3786"
             ],
             [
              0.5555555555555556,
              "#d8576b"
             ],
             [
              0.6666666666666666,
              "#ed7953"
             ],
             [
              0.7777777777777778,
              "#fb9f3a"
             ],
             [
              0.8888888888888888,
              "#fdca26"
             ],
             [
              1,
              "#f0f921"
             ]
            ],
            "type": "heatmapgl"
           }
          ],
          "histogram": [
           {
            "marker": {
             "pattern": {
              "fillmode": "overlay",
              "size": 10,
              "solidity": 0.2
             }
            },
            "type": "histogram"
           }
          ],
          "histogram2d": [
           {
            "colorbar": {
             "outlinewidth": 0,
             "ticks": ""
            },
            "colorscale": [
             [
              0,
              "#0d0887"
             ],
             [
              0.1111111111111111,
              "#46039f"
             ],
             [
              0.2222222222222222,
              "#7201a8"
             ],
             [
              0.3333333333333333,
              "#9c179e"
             ],
             [
              0.4444444444444444,
              "#bd3786"
             ],
             [
              0.5555555555555556,
              "#d8576b"
             ],
             [
              0.6666666666666666,
              "#ed7953"
             ],
             [
              0.7777777777777778,
              "#fb9f3a"
             ],
             [
              0.8888888888888888,
              "#fdca26"
             ],
             [
              1,
              "#f0f921"
             ]
            ],
            "type": "histogram2d"
           }
          ],
          "histogram2dcontour": [
           {
            "colorbar": {
             "outlinewidth": 0,
             "ticks": ""
            },
            "colorscale": [
             [
              0,
              "#0d0887"
             ],
             [
              0.1111111111111111,
              "#46039f"
             ],
             [
              0.2222222222222222,
              "#7201a8"
             ],
             [
              0.3333333333333333,
              "#9c179e"
             ],
             [
              0.4444444444444444,
              "#bd3786"
             ],
             [
              0.5555555555555556,
              "#d8576b"
             ],
             [
              0.6666666666666666,
              "#ed7953"
             ],
             [
              0.7777777777777778,
              "#fb9f3a"
             ],
             [
              0.8888888888888888,
              "#fdca26"
             ],
             [
              1,
              "#f0f921"
             ]
            ],
            "type": "histogram2dcontour"
           }
          ],
          "mesh3d": [
           {
            "colorbar": {
             "outlinewidth": 0,
             "ticks": ""
            },
            "type": "mesh3d"
           }
          ],
          "parcoords": [
           {
            "line": {
             "colorbar": {
              "outlinewidth": 0,
              "ticks": ""
             }
            },
            "type": "parcoords"
           }
          ],
          "pie": [
           {
            "automargin": true,
            "type": "pie"
           }
          ],
          "scatter": [
           {
            "fillpattern": {
             "fillmode": "overlay",
             "size": 10,
             "solidity": 0.2
            },
            "type": "scatter"
           }
          ],
          "scatter3d": [
           {
            "line": {
             "colorbar": {
              "outlinewidth": 0,
              "ticks": ""
             }
            },
            "marker": {
             "colorbar": {
              "outlinewidth": 0,
              "ticks": ""
             }
            },
            "type": "scatter3d"
           }
          ],
          "scattercarpet": [
           {
            "marker": {
             "colorbar": {
              "outlinewidth": 0,
              "ticks": ""
             }
            },
            "type": "scattercarpet"
           }
          ],
          "scattergeo": [
           {
            "marker": {
             "colorbar": {
              "outlinewidth": 0,
              "ticks": ""
             }
            },
            "type": "scattergeo"
           }
          ],
          "scattergl": [
           {
            "marker": {
             "colorbar": {
              "outlinewidth": 0,
              "ticks": ""
             }
            },
            "type": "scattergl"
           }
          ],
          "scattermapbox": [
           {
            "marker": {
             "colorbar": {
              "outlinewidth": 0,
              "ticks": ""
             }
            },
            "type": "scattermapbox"
           }
          ],
          "scatterpolar": [
           {
            "marker": {
             "colorbar": {
              "outlinewidth": 0,
              "ticks": ""
             }
            },
            "type": "scatterpolar"
           }
          ],
          "scatterpolargl": [
           {
            "marker": {
             "colorbar": {
              "outlinewidth": 0,
              "ticks": ""
             }
            },
            "type": "scatterpolargl"
           }
          ],
          "scatterternary": [
           {
            "marker": {
             "colorbar": {
              "outlinewidth": 0,
              "ticks": ""
             }
            },
            "type": "scatterternary"
           }
          ],
          "surface": [
           {
            "colorbar": {
             "outlinewidth": 0,
             "ticks": ""
            },
            "colorscale": [
             [
              0,
              "#0d0887"
             ],
             [
              0.1111111111111111,
              "#46039f"
             ],
             [
              0.2222222222222222,
              "#7201a8"
             ],
             [
              0.3333333333333333,
              "#9c179e"
             ],
             [
              0.4444444444444444,
              "#bd3786"
             ],
             [
              0.5555555555555556,
              "#d8576b"
             ],
             [
              0.6666666666666666,
              "#ed7953"
             ],
             [
              0.7777777777777778,
              "#fb9f3a"
             ],
             [
              0.8888888888888888,
              "#fdca26"
             ],
             [
              1,
              "#f0f921"
             ]
            ],
            "type": "surface"
           }
          ],
          "table": [
           {
            "cells": {
             "fill": {
              "color": "#EBF0F8"
             },
             "line": {
              "color": "white"
             }
            },
            "header": {
             "fill": {
              "color": "#C8D4E3"
             },
             "line": {
              "color": "white"
             }
            },
            "type": "table"
           }
          ]
         },
         "layout": {
          "annotationdefaults": {
           "arrowcolor": "#2a3f5f",
           "arrowhead": 0,
           "arrowwidth": 1
          },
          "autotypenumbers": "strict",
          "coloraxis": {
           "colorbar": {
            "outlinewidth": 0,
            "ticks": ""
           }
          },
          "colorscale": {
           "diverging": [
            [
             0,
             "#8e0152"
            ],
            [
             0.1,
             "#c51b7d"
            ],
            [
             0.2,
             "#de77ae"
            ],
            [
             0.3,
             "#f1b6da"
            ],
            [
             0.4,
             "#fde0ef"
            ],
            [
             0.5,
             "#f7f7f7"
            ],
            [
             0.6,
             "#e6f5d0"
            ],
            [
             0.7,
             "#b8e186"
            ],
            [
             0.8,
             "#7fbc41"
            ],
            [
             0.9,
             "#4d9221"
            ],
            [
             1,
             "#276419"
            ]
           ],
           "sequential": [
            [
             0,
             "#0d0887"
            ],
            [
             0.1111111111111111,
             "#46039f"
            ],
            [
             0.2222222222222222,
             "#7201a8"
            ],
            [
             0.3333333333333333,
             "#9c179e"
            ],
            [
             0.4444444444444444,
             "#bd3786"
            ],
            [
             0.5555555555555556,
             "#d8576b"
            ],
            [
             0.6666666666666666,
             "#ed7953"
            ],
            [
             0.7777777777777778,
             "#fb9f3a"
            ],
            [
             0.8888888888888888,
             "#fdca26"
            ],
            [
             1,
             "#f0f921"
            ]
           ],
           "sequentialminus": [
            [
             0,
             "#0d0887"
            ],
            [
             0.1111111111111111,
             "#46039f"
            ],
            [
             0.2222222222222222,
             "#7201a8"
            ],
            [
             0.3333333333333333,
             "#9c179e"
            ],
            [
             0.4444444444444444,
             "#bd3786"
            ],
            [
             0.5555555555555556,
             "#d8576b"
            ],
            [
             0.6666666666666666,
             "#ed7953"
            ],
            [
             0.7777777777777778,
             "#fb9f3a"
            ],
            [
             0.8888888888888888,
             "#fdca26"
            ],
            [
             1,
             "#f0f921"
            ]
           ]
          },
          "colorway": [
           "#636efa",
           "#EF553B",
           "#00cc96",
           "#ab63fa",
           "#FFA15A",
           "#19d3f3",
           "#FF6692",
           "#B6E880",
           "#FF97FF",
           "#FECB52"
          ],
          "font": {
           "color": "#2a3f5f"
          },
          "geo": {
           "bgcolor": "white",
           "lakecolor": "white",
           "landcolor": "#E5ECF6",
           "showlakes": true,
           "showland": true,
           "subunitcolor": "white"
          },
          "hoverlabel": {
           "align": "left"
          },
          "hovermode": "closest",
          "mapbox": {
           "style": "light"
          },
          "paper_bgcolor": "white",
          "plot_bgcolor": "#E5ECF6",
          "polar": {
           "angularaxis": {
            "gridcolor": "white",
            "linecolor": "white",
            "ticks": ""
           },
           "bgcolor": "#E5ECF6",
           "radialaxis": {
            "gridcolor": "white",
            "linecolor": "white",
            "ticks": ""
           }
          },
          "scene": {
           "xaxis": {
            "backgroundcolor": "#E5ECF6",
            "gridcolor": "white",
            "gridwidth": 2,
            "linecolor": "white",
            "showbackground": true,
            "ticks": "",
            "zerolinecolor": "white"
           },
           "yaxis": {
            "backgroundcolor": "#E5ECF6",
            "gridcolor": "white",
            "gridwidth": 2,
            "linecolor": "white",
            "showbackground": true,
            "ticks": "",
            "zerolinecolor": "white"
           },
           "zaxis": {
            "backgroundcolor": "#E5ECF6",
            "gridcolor": "white",
            "gridwidth": 2,
            "linecolor": "white",
            "showbackground": true,
            "ticks": "",
            "zerolinecolor": "white"
           }
          },
          "shapedefaults": {
           "line": {
            "color": "#2a3f5f"
           }
          },
          "ternary": {
           "aaxis": {
            "gridcolor": "white",
            "linecolor": "white",
            "ticks": ""
           },
           "baxis": {
            "gridcolor": "white",
            "linecolor": "white",
            "ticks": ""
           },
           "bgcolor": "#E5ECF6",
           "caxis": {
            "gridcolor": "white",
            "linecolor": "white",
            "ticks": ""
           }
          },
          "title": {
           "x": 0.05
          },
          "xaxis": {
           "automargin": true,
           "gridcolor": "white",
           "linecolor": "white",
           "ticks": "",
           "title": {
            "standoff": 15
           },
           "zerolinecolor": "white",
           "zerolinewidth": 2
          },
          "yaxis": {
           "automargin": true,
           "gridcolor": "white",
           "linecolor": "white",
           "ticks": "",
           "title": {
            "standoff": 15
           },
           "zerolinecolor": "white",
           "zerolinewidth": 2
          }
         }
        },
        "title": {
         "text": "지역별 레저 사업장 개수"
        },
        "xaxis": {
         "anchor": "y",
         "categoryarray": [
          "경기도",
          "서울특별시",
          "제주특별자치도",
          "강원도",
          "경상북도",
          "대구광역시",
          "부산광역시",
          "경상남도",
          "전라남도",
          "충청남도",
          "전라북도",
          "인천광역시",
          "충청북도",
          "대전광역시",
          "광주광역시",
          "울산광역시",
          "세종특별자치시"
         ],
         "categoryorder": "array",
         "domain": [
          0,
          1
         ],
         "title": {
          "text": "CTP_KOR_NM"
         }
        },
        "yaxis": {
         "anchor": "x",
         "domain": [
          0,
          1
         ],
         "title": {
          "text": "NUM_OF_LSR_LOC"
         }
        }
       }
      }
     },
     "metadata": {},
     "output_type": "display_data"
    }
   ],
   "source": [
    "fig = px.bar(df_loc_1.sort_values(by=\"NUM_OF_LSR_LOC\", ascending=False), x=\"CTP_KOR_NM\", y=\"NUM_OF_LSR_LOC\", color=\"CTP_KOR_NM\", text='NUM_OF_LSR_LOC')\n",
    "fig.update_layout(title = \"지역별 레저 사업장 개수\")\n",
    "fig.update_traces(texttemplate='%{text:.2s}', textposition='outside')\n",
    "fig.show()"
   ]
  },
  {
   "cell_type": "code",
   "execution_count": 781,
   "metadata": {},
   "outputs": [
    {
     "data": {
      "application/vnd.plotly.v1+json": {
       "config": {
        "plotlyServerURL": "https://plot.ly"
       },
       "data": [
        {
         "alignmentgroup": "True",
         "hovertemplate": "CTP_KOR_NM=%{x}<br>LSR_LOC_PER_AREA=%{text}<extra></extra>",
         "legendgroup": "서울특별시",
         "marker": {
          "color": "#636efa",
          "pattern": {
           "shape": ""
          }
         },
         "name": "서울특별시",
         "offsetgroup": "서울특별시",
         "orientation": "v",
         "showlegend": true,
         "text": [
          522.1487603305785
         ],
         "textposition": "outside",
         "texttemplate": "%{text:.2s}",
         "type": "bar",
         "x": [
          "서울특별시"
         ],
         "xaxis": "x",
         "y": [
          522.1487603305785
         ],
         "yaxis": "y"
        },
        {
         "alignmentgroup": "True",
         "hovertemplate": "CTP_KOR_NM=%{x}<br>LSR_LOC_PER_AREA=%{text}<extra></extra>",
         "legendgroup": "제주특별자치도",
         "marker": {
          "color": "#EF553B",
          "pattern": {
           "shape": ""
          }
         },
         "name": "제주특별자치도",
         "offsetgroup": "제주특별자치도",
         "orientation": "v",
         "showlegend": true,
         "text": [
          93.51351351351352
         ],
         "textposition": "outside",
         "texttemplate": "%{text:.2s}",
         "type": "bar",
         "x": [
          "제주특별자치도"
         ],
         "xaxis": "x",
         "y": [
          93.51351351351352
         ],
         "yaxis": "y"
        },
        {
         "alignmentgroup": "True",
         "hovertemplate": "CTP_KOR_NM=%{x}<br>LSR_LOC_PER_AREA=%{text}<extra></extra>",
         "legendgroup": "대구광역시",
         "marker": {
          "color": "#00cc96",
          "pattern": {
           "shape": ""
          }
         },
         "name": "대구광역시",
         "offsetgroup": "대구광역시",
         "orientation": "v",
         "showlegend": true,
         "text": [
          87.10407239819004
         ],
         "textposition": "outside",
         "texttemplate": "%{text:.2s}",
         "type": "bar",
         "x": [
          "대구광역시"
         ],
         "xaxis": "x",
         "y": [
          87.10407239819004
         ],
         "yaxis": "y"
        },
        {
         "alignmentgroup": "True",
         "hovertemplate": "CTP_KOR_NM=%{x}<br>LSR_LOC_PER_AREA=%{text}<extra></extra>",
         "legendgroup": "부산광역시",
         "marker": {
          "color": "#ab63fa",
          "pattern": {
           "shape": ""
          }
         },
         "name": "부산광역시",
         "offsetgroup": "부산광역시",
         "orientation": "v",
         "showlegend": true,
         "text": [
          84.93506493506493
         ],
         "textposition": "outside",
         "texttemplate": "%{text:.2s}",
         "type": "bar",
         "x": [
          "부산광역시"
         ],
         "xaxis": "x",
         "y": [
          84.93506493506493
         ],
         "yaxis": "y"
        },
        {
         "alignmentgroup": "True",
         "hovertemplate": "CTP_KOR_NM=%{x}<br>LSR_LOC_PER_AREA=%{text}<extra></extra>",
         "legendgroup": "경기도",
         "marker": {
          "color": "#FFA15A",
          "pattern": {
           "shape": ""
          }
         },
         "name": "경기도",
         "offsetgroup": "경기도",
         "orientation": "v",
         "showlegend": true,
         "text": [
          37.01088555457488
         ],
         "textposition": "outside",
         "texttemplate": "%{text:.2s}",
         "type": "bar",
         "x": [
          "경기도"
         ],
         "xaxis": "x",
         "y": [
          37.01088555457488
         ],
         "yaxis": "y"
        },
        {
         "alignmentgroup": "True",
         "hovertemplate": "CTP_KOR_NM=%{x}<br>LSR_LOC_PER_AREA=%{text}<extra></extra>",
         "legendgroup": "인천광역시",
         "marker": {
          "color": "#19d3f3",
          "pattern": {
           "shape": ""
          }
         },
         "name": "인천광역시",
         "offsetgroup": "인천광역시",
         "orientation": "v",
         "showlegend": true,
         "text": [
          32.270168855534706
         ],
         "textposition": "outside",
         "texttemplate": "%{text:.2s}",
         "type": "bar",
         "x": [
          "인천광역시"
         ],
         "xaxis": "x",
         "y": [
          32.270168855534706
         ],
         "yaxis": "y"
        },
        {
         "alignmentgroup": "True",
         "hovertemplate": "CTP_KOR_NM=%{x}<br>LSR_LOC_PER_AREA=%{text}<extra></extra>",
         "legendgroup": "대전광역시",
         "marker": {
          "color": "#FF6692",
          "pattern": {
           "shape": ""
          }
         },
         "name": "대전광역시",
         "offsetgroup": "대전광역시",
         "orientation": "v",
         "showlegend": true,
         "text": [
          24.444444444444443
         ],
         "textposition": "outside",
         "texttemplate": "%{text:.2s}",
         "type": "bar",
         "x": [
          "대전광역시"
         ],
         "xaxis": "x",
         "y": [
          24.444444444444443
         ],
         "yaxis": "y"
        },
        {
         "alignmentgroup": "True",
         "hovertemplate": "CTP_KOR_NM=%{x}<br>LSR_LOC_PER_AREA=%{text}<extra></extra>",
         "legendgroup": "광주광역시",
         "marker": {
          "color": "#B6E880",
          "pattern": {
           "shape": ""
          }
         },
         "name": "광주광역시",
         "offsetgroup": "광주광역시",
         "orientation": "v",
         "showlegend": true,
         "text": [
          14.770459081836327
         ],
         "textposition": "outside",
         "texttemplate": "%{text:.2s}",
         "type": "bar",
         "x": [
          "광주광역시"
         ],
         "xaxis": "x",
         "y": [
          14.770459081836327
         ],
         "yaxis": "y"
        },
        {
         "alignmentgroup": "True",
         "hovertemplate": "CTP_KOR_NM=%{x}<br>LSR_LOC_PER_AREA=%{text}<extra></extra>",
         "legendgroup": "강원도",
         "marker": {
          "color": "#FF97FF",
          "pattern": {
           "shape": ""
          }
         },
         "name": "강원도",
         "offsetgroup": "강원도",
         "orientation": "v",
         "showlegend": true,
         "text": [
          10.202020202020202
         ],
         "textposition": "outside",
         "texttemplate": "%{text:.2s}",
         "type": "bar",
         "x": [
          "강원도"
         ],
         "xaxis": "x",
         "y": [
          10.202020202020202
         ],
         "yaxis": "y"
        },
        {
         "alignmentgroup": "True",
         "hovertemplate": "CTP_KOR_NM=%{x}<br>LSR_LOC_PER_AREA=%{text}<extra></extra>",
         "legendgroup": "충청남도",
         "marker": {
          "color": "#FECB52",
          "pattern": {
           "shape": ""
          }
         },
         "name": "충청남도",
         "offsetgroup": "충청남도",
         "orientation": "v",
         "showlegend": true,
         "text": [
          6.35382563356372
         ],
         "textposition": "outside",
         "texttemplate": "%{text:.2s}",
         "type": "bar",
         "x": [
          "충청남도"
         ],
         "xaxis": "x",
         "y": [
          6.35382563356372
         ],
         "yaxis": "y"
        },
        {
         "alignmentgroup": "True",
         "hovertemplate": "CTP_KOR_NM=%{x}<br>LSR_LOC_PER_AREA=%{text}<extra></extra>",
         "legendgroup": "경상남도",
         "marker": {
          "color": "#636efa",
          "pattern": {
           "shape": ""
          }
         },
         "name": "경상남도",
         "offsetgroup": "경상남도",
         "orientation": "v",
         "showlegend": true,
         "text": [
          5.701005501802314
         ],
         "textposition": "outside",
         "texttemplate": "%{text:.2s}",
         "type": "bar",
         "x": [
          "경상남도"
         ],
         "xaxis": "x",
         "y": [
          5.701005501802314
         ],
         "yaxis": "y"
        },
        {
         "alignmentgroup": "True",
         "hovertemplate": "CTP_KOR_NM=%{x}<br>LSR_LOC_PER_AREA=%{text}<extra></extra>",
         "legendgroup": "울산광역시",
         "marker": {
          "color": "#EF553B",
          "pattern": {
           "shape": ""
          }
         },
         "name": "울산광역시",
         "offsetgroup": "울산광역시",
         "orientation": "v",
         "showlegend": true,
         "text": [
          5.273069679849341
         ],
         "textposition": "outside",
         "texttemplate": "%{text:.2s}",
         "type": "bar",
         "x": [
          "울산광역시"
         ],
         "xaxis": "x",
         "y": [
          5.273069679849341
         ],
         "yaxis": "y"
        },
        {
         "alignmentgroup": "True",
         "hovertemplate": "CTP_KOR_NM=%{x}<br>LSR_LOC_PER_AREA=%{text}<extra></extra>",
         "legendgroup": "세종특별자치시",
         "marker": {
          "color": "#00cc96",
          "pattern": {
           "shape": ""
          }
         },
         "name": "세종특별자치시",
         "offsetgroup": "세종특별자치시",
         "orientation": "v",
         "showlegend": true,
         "text": [
          5.161290322580645
         ],
         "textposition": "outside",
         "texttemplate": "%{text:.2s}",
         "type": "bar",
         "x": [
          "세종특별자치시"
         ],
         "xaxis": "x",
         "y": [
          5.161290322580645
         ],
         "yaxis": "y"
        },
        {
         "alignmentgroup": "True",
         "hovertemplate": "CTP_KOR_NM=%{x}<br>LSR_LOC_PER_AREA=%{text}<extra></extra>",
         "legendgroup": "경상북도",
         "marker": {
          "color": "#ab63fa",
          "pattern": {
           "shape": ""
          }
         },
         "name": "경상북도",
         "offsetgroup": "경상북도",
         "orientation": "v",
         "showlegend": true,
         "text": [
          5.0591016548463354
         ],
         "textposition": "outside",
         "texttemplate": "%{text:.2s}",
         "type": "bar",
         "x": [
          "경상북도"
         ],
         "xaxis": "x",
         "y": [
          5.0591016548463354
         ],
         "yaxis": "y"
        },
        {
         "alignmentgroup": "True",
         "hovertemplate": "CTP_KOR_NM=%{x}<br>LSR_LOC_PER_AREA=%{text}<extra></extra>",
         "legendgroup": "전라북도",
         "marker": {
          "color": "#FFA15A",
          "pattern": {
           "shape": ""
          }
         },
         "name": "전라북도",
         "offsetgroup": "전라북도",
         "orientation": "v",
         "showlegend": true,
         "text": [
          4.682854311199207
         ],
         "textposition": "outside",
         "texttemplate": "%{text:.2s}",
         "type": "bar",
         "x": [
          "전라북도"
         ],
         "xaxis": "x",
         "y": [
          4.682854311199207
         ],
         "yaxis": "y"
        },
        {
         "alignmentgroup": "True",
         "hovertemplate": "CTP_KOR_NM=%{x}<br>LSR_LOC_PER_AREA=%{text}<extra></extra>",
         "legendgroup": "전라남도",
         "marker": {
          "color": "#19d3f3",
          "pattern": {
           "shape": ""
          }
         },
         "name": "전라남도",
         "offsetgroup": "전라남도",
         "orientation": "v",
         "showlegend": true,
         "text": [
          4.434015697062869
         ],
         "textposition": "outside",
         "texttemplate": "%{text:.2s}",
         "type": "bar",
         "x": [
          "전라남도"
         ],
         "xaxis": "x",
         "y": [
          4.434015697062869
         ],
         "yaxis": "y"
        },
        {
         "alignmentgroup": "True",
         "hovertemplate": "CTP_KOR_NM=%{x}<br>LSR_LOC_PER_AREA=%{text}<extra></extra>",
         "legendgroup": "충청북도",
         "marker": {
          "color": "#FF6692",
          "pattern": {
           "shape": ""
          }
         },
         "name": "충청북도",
         "offsetgroup": "충청북도",
         "orientation": "v",
         "showlegend": true,
         "text": [
          3.19967598217902
         ],
         "textposition": "outside",
         "texttemplate": "%{text:.2s}",
         "type": "bar",
         "x": [
          "충청북도"
         ],
         "xaxis": "x",
         "y": [
          3.19967598217902
         ],
         "yaxis": "y"
        }
       ],
       "layout": {
        "barmode": "relative",
        "legend": {
         "title": {
          "text": "CTP_KOR_NM"
         },
         "tracegroupgap": 0
        },
        "margin": {
         "t": 60
        },
        "template": {
         "data": {
          "bar": [
           {
            "error_x": {
             "color": "#2a3f5f"
            },
            "error_y": {
             "color": "#2a3f5f"
            },
            "marker": {
             "line": {
              "color": "#E5ECF6",
              "width": 0.5
             },
             "pattern": {
              "fillmode": "overlay",
              "size": 10,
              "solidity": 0.2
             }
            },
            "type": "bar"
           }
          ],
          "barpolar": [
           {
            "marker": {
             "line": {
              "color": "#E5ECF6",
              "width": 0.5
             },
             "pattern": {
              "fillmode": "overlay",
              "size": 10,
              "solidity": 0.2
             }
            },
            "type": "barpolar"
           }
          ],
          "carpet": [
           {
            "aaxis": {
             "endlinecolor": "#2a3f5f",
             "gridcolor": "white",
             "linecolor": "white",
             "minorgridcolor": "white",
             "startlinecolor": "#2a3f5f"
            },
            "baxis": {
             "endlinecolor": "#2a3f5f",
             "gridcolor": "white",
             "linecolor": "white",
             "minorgridcolor": "white",
             "startlinecolor": "#2a3f5f"
            },
            "type": "carpet"
           }
          ],
          "choropleth": [
           {
            "colorbar": {
             "outlinewidth": 0,
             "ticks": ""
            },
            "type": "choropleth"
           }
          ],
          "contour": [
           {
            "colorbar": {
             "outlinewidth": 0,
             "ticks": ""
            },
            "colorscale": [
             [
              0,
              "#0d0887"
             ],
             [
              0.1111111111111111,
              "#46039f"
             ],
             [
              0.2222222222222222,
              "#7201a8"
             ],
             [
              0.3333333333333333,
              "#9c179e"
             ],
             [
              0.4444444444444444,
              "#bd3786"
             ],
             [
              0.5555555555555556,
              "#d8576b"
             ],
             [
              0.6666666666666666,
              "#ed7953"
             ],
             [
              0.7777777777777778,
              "#fb9f3a"
             ],
             [
              0.8888888888888888,
              "#fdca26"
             ],
             [
              1,
              "#f0f921"
             ]
            ],
            "type": "contour"
           }
          ],
          "contourcarpet": [
           {
            "colorbar": {
             "outlinewidth": 0,
             "ticks": ""
            },
            "type": "contourcarpet"
           }
          ],
          "heatmap": [
           {
            "colorbar": {
             "outlinewidth": 0,
             "ticks": ""
            },
            "colorscale": [
             [
              0,
              "#0d0887"
             ],
             [
              0.1111111111111111,
              "#46039f"
             ],
             [
              0.2222222222222222,
              "#7201a8"
             ],
             [
              0.3333333333333333,
              "#9c179e"
             ],
             [
              0.4444444444444444,
              "#bd3786"
             ],
             [
              0.5555555555555556,
              "#d8576b"
             ],
             [
              0.6666666666666666,
              "#ed7953"
             ],
             [
              0.7777777777777778,
              "#fb9f3a"
             ],
             [
              0.8888888888888888,
              "#fdca26"
             ],
             [
              1,
              "#f0f921"
             ]
            ],
            "type": "heatmap"
           }
          ],
          "heatmapgl": [
           {
            "colorbar": {
             "outlinewidth": 0,
             "ticks": ""
            },
            "colorscale": [
             [
              0,
              "#0d0887"
             ],
             [
              0.1111111111111111,
              "#46039f"
             ],
             [
              0.2222222222222222,
              "#7201a8"
             ],
             [
              0.3333333333333333,
              "#9c179e"
             ],
             [
              0.4444444444444444,
              "#bd3786"
             ],
             [
              0.5555555555555556,
              "#d8576b"
             ],
             [
              0.6666666666666666,
              "#ed7953"
             ],
             [
              0.7777777777777778,
              "#fb9f3a"
             ],
             [
              0.8888888888888888,
              "#fdca26"
             ],
             [
              1,
              "#f0f921"
             ]
            ],
            "type": "heatmapgl"
           }
          ],
          "histogram": [
           {
            "marker": {
             "pattern": {
              "fillmode": "overlay",
              "size": 10,
              "solidity": 0.2
             }
            },
            "type": "histogram"
           }
          ],
          "histogram2d": [
           {
            "colorbar": {
             "outlinewidth": 0,
             "ticks": ""
            },
            "colorscale": [
             [
              0,
              "#0d0887"
             ],
             [
              0.1111111111111111,
              "#46039f"
             ],
             [
              0.2222222222222222,
              "#7201a8"
             ],
             [
              0.3333333333333333,
              "#9c179e"
             ],
             [
              0.4444444444444444,
              "#bd3786"
             ],
             [
              0.5555555555555556,
              "#d8576b"
             ],
             [
              0.6666666666666666,
              "#ed7953"
             ],
             [
              0.7777777777777778,
              "#fb9f3a"
             ],
             [
              0.8888888888888888,
              "#fdca26"
             ],
             [
              1,
              "#f0f921"
             ]
            ],
            "type": "histogram2d"
           }
          ],
          "histogram2dcontour": [
           {
            "colorbar": {
             "outlinewidth": 0,
             "ticks": ""
            },
            "colorscale": [
             [
              0,
              "#0d0887"
             ],
             [
              0.1111111111111111,
              "#46039f"
             ],
             [
              0.2222222222222222,
              "#7201a8"
             ],
             [
              0.3333333333333333,
              "#9c179e"
             ],
             [
              0.4444444444444444,
              "#bd3786"
             ],
             [
              0.5555555555555556,
              "#d8576b"
             ],
             [
              0.6666666666666666,
              "#ed7953"
             ],
             [
              0.7777777777777778,
              "#fb9f3a"
             ],
             [
              0.8888888888888888,
              "#fdca26"
             ],
             [
              1,
              "#f0f921"
             ]
            ],
            "type": "histogram2dcontour"
           }
          ],
          "mesh3d": [
           {
            "colorbar": {
             "outlinewidth": 0,
             "ticks": ""
            },
            "type": "mesh3d"
           }
          ],
          "parcoords": [
           {
            "line": {
             "colorbar": {
              "outlinewidth": 0,
              "ticks": ""
             }
            },
            "type": "parcoords"
           }
          ],
          "pie": [
           {
            "automargin": true,
            "type": "pie"
           }
          ],
          "scatter": [
           {
            "fillpattern": {
             "fillmode": "overlay",
             "size": 10,
             "solidity": 0.2
            },
            "type": "scatter"
           }
          ],
          "scatter3d": [
           {
            "line": {
             "colorbar": {
              "outlinewidth": 0,
              "ticks": ""
             }
            },
            "marker": {
             "colorbar": {
              "outlinewidth": 0,
              "ticks": ""
             }
            },
            "type": "scatter3d"
           }
          ],
          "scattercarpet": [
           {
            "marker": {
             "colorbar": {
              "outlinewidth": 0,
              "ticks": ""
             }
            },
            "type": "scattercarpet"
           }
          ],
          "scattergeo": [
           {
            "marker": {
             "colorbar": {
              "outlinewidth": 0,
              "ticks": ""
             }
            },
            "type": "scattergeo"
           }
          ],
          "scattergl": [
           {
            "marker": {
             "colorbar": {
              "outlinewidth": 0,
              "ticks": ""
             }
            },
            "type": "scattergl"
           }
          ],
          "scattermapbox": [
           {
            "marker": {
             "colorbar": {
              "outlinewidth": 0,
              "ticks": ""
             }
            },
            "type": "scattermapbox"
           }
          ],
          "scatterpolar": [
           {
            "marker": {
             "colorbar": {
              "outlinewidth": 0,
              "ticks": ""
             }
            },
            "type": "scatterpolar"
           }
          ],
          "scatterpolargl": [
           {
            "marker": {
             "colorbar": {
              "outlinewidth": 0,
              "ticks": ""
             }
            },
            "type": "scatterpolargl"
           }
          ],
          "scatterternary": [
           {
            "marker": {
             "colorbar": {
              "outlinewidth": 0,
              "ticks": ""
             }
            },
            "type": "scatterternary"
           }
          ],
          "surface": [
           {
            "colorbar": {
             "outlinewidth": 0,
             "ticks": ""
            },
            "colorscale": [
             [
              0,
              "#0d0887"
             ],
             [
              0.1111111111111111,
              "#46039f"
             ],
             [
              0.2222222222222222,
              "#7201a8"
             ],
             [
              0.3333333333333333,
              "#9c179e"
             ],
             [
              0.4444444444444444,
              "#bd3786"
             ],
             [
              0.5555555555555556,
              "#d8576b"
             ],
             [
              0.6666666666666666,
              "#ed7953"
             ],
             [
              0.7777777777777778,
              "#fb9f3a"
             ],
             [
              0.8888888888888888,
              "#fdca26"
             ],
             [
              1,
              "#f0f921"
             ]
            ],
            "type": "surface"
           }
          ],
          "table": [
           {
            "cells": {
             "fill": {
              "color": "#EBF0F8"
             },
             "line": {
              "color": "white"
             }
            },
            "header": {
             "fill": {
              "color": "#C8D4E3"
             },
             "line": {
              "color": "white"
             }
            },
            "type": "table"
           }
          ]
         },
         "layout": {
          "annotationdefaults": {
           "arrowcolor": "#2a3f5f",
           "arrowhead": 0,
           "arrowwidth": 1
          },
          "autotypenumbers": "strict",
          "coloraxis": {
           "colorbar": {
            "outlinewidth": 0,
            "ticks": ""
           }
          },
          "colorscale": {
           "diverging": [
            [
             0,
             "#8e0152"
            ],
            [
             0.1,
             "#c51b7d"
            ],
            [
             0.2,
             "#de77ae"
            ],
            [
             0.3,
             "#f1b6da"
            ],
            [
             0.4,
             "#fde0ef"
            ],
            [
             0.5,
             "#f7f7f7"
            ],
            [
             0.6,
             "#e6f5d0"
            ],
            [
             0.7,
             "#b8e186"
            ],
            [
             0.8,
             "#7fbc41"
            ],
            [
             0.9,
             "#4d9221"
            ],
            [
             1,
             "#276419"
            ]
           ],
           "sequential": [
            [
             0,
             "#0d0887"
            ],
            [
             0.1111111111111111,
             "#46039f"
            ],
            [
             0.2222222222222222,
             "#7201a8"
            ],
            [
             0.3333333333333333,
             "#9c179e"
            ],
            [
             0.4444444444444444,
             "#bd3786"
            ],
            [
             0.5555555555555556,
             "#d8576b"
            ],
            [
             0.6666666666666666,
             "#ed7953"
            ],
            [
             0.7777777777777778,
             "#fb9f3a"
            ],
            [
             0.8888888888888888,
             "#fdca26"
            ],
            [
             1,
             "#f0f921"
            ]
           ],
           "sequentialminus": [
            [
             0,
             "#0d0887"
            ],
            [
             0.1111111111111111,
             "#46039f"
            ],
            [
             0.2222222222222222,
             "#7201a8"
            ],
            [
             0.3333333333333333,
             "#9c179e"
            ],
            [
             0.4444444444444444,
             "#bd3786"
            ],
            [
             0.5555555555555556,
             "#d8576b"
            ],
            [
             0.6666666666666666,
             "#ed7953"
            ],
            [
             0.7777777777777778,
             "#fb9f3a"
            ],
            [
             0.8888888888888888,
             "#fdca26"
            ],
            [
             1,
             "#f0f921"
            ]
           ]
          },
          "colorway": [
           "#636efa",
           "#EF553B",
           "#00cc96",
           "#ab63fa",
           "#FFA15A",
           "#19d3f3",
           "#FF6692",
           "#B6E880",
           "#FF97FF",
           "#FECB52"
          ],
          "font": {
           "color": "#2a3f5f"
          },
          "geo": {
           "bgcolor": "white",
           "lakecolor": "white",
           "landcolor": "#E5ECF6",
           "showlakes": true,
           "showland": true,
           "subunitcolor": "white"
          },
          "hoverlabel": {
           "align": "left"
          },
          "hovermode": "closest",
          "mapbox": {
           "style": "light"
          },
          "paper_bgcolor": "white",
          "plot_bgcolor": "#E5ECF6",
          "polar": {
           "angularaxis": {
            "gridcolor": "white",
            "linecolor": "white",
            "ticks": ""
           },
           "bgcolor": "#E5ECF6",
           "radialaxis": {
            "gridcolor": "white",
            "linecolor": "white",
            "ticks": ""
           }
          },
          "scene": {
           "xaxis": {
            "backgroundcolor": "#E5ECF6",
            "gridcolor": "white",
            "gridwidth": 2,
            "linecolor": "white",
            "showbackground": true,
            "ticks": "",
            "zerolinecolor": "white"
           },
           "yaxis": {
            "backgroundcolor": "#E5ECF6",
            "gridcolor": "white",
            "gridwidth": 2,
            "linecolor": "white",
            "showbackground": true,
            "ticks": "",
            "zerolinecolor": "white"
           },
           "zaxis": {
            "backgroundcolor": "#E5ECF6",
            "gridcolor": "white",
            "gridwidth": 2,
            "linecolor": "white",
            "showbackground": true,
            "ticks": "",
            "zerolinecolor": "white"
           }
          },
          "shapedefaults": {
           "line": {
            "color": "#2a3f5f"
           }
          },
          "ternary": {
           "aaxis": {
            "gridcolor": "white",
            "linecolor": "white",
            "ticks": ""
           },
           "baxis": {
            "gridcolor": "white",
            "linecolor": "white",
            "ticks": ""
           },
           "bgcolor": "#E5ECF6",
           "caxis": {
            "gridcolor": "white",
            "linecolor": "white",
            "ticks": ""
           }
          },
          "title": {
           "x": 0.05
          },
          "xaxis": {
           "automargin": true,
           "gridcolor": "white",
           "linecolor": "white",
           "ticks": "",
           "title": {
            "standoff": 15
           },
           "zerolinecolor": "white",
           "zerolinewidth": 2
          },
          "yaxis": {
           "automargin": true,
           "gridcolor": "white",
           "linecolor": "white",
           "ticks": "",
           "title": {
            "standoff": 15
           },
           "zerolinecolor": "white",
           "zerolinewidth": 2
          }
         }
        },
        "title": {
         "text": "지역별 100km² 면적당 레저 사업장 개수"
        },
        "xaxis": {
         "anchor": "y",
         "categoryarray": [
          "서울특별시",
          "제주특별자치도",
          "대구광역시",
          "부산광역시",
          "경기도",
          "인천광역시",
          "대전광역시",
          "광주광역시",
          "강원도",
          "충청남도",
          "경상남도",
          "울산광역시",
          "세종특별자치시",
          "경상북도",
          "전라북도",
          "전라남도",
          "충청북도"
         ],
         "categoryorder": "array",
         "domain": [
          0,
          1
         ],
         "title": {
          "text": "CTP_KOR_NM"
         }
        },
        "yaxis": {
         "anchor": "x",
         "domain": [
          0,
          1
         ],
         "title": {
          "text": "LSR_LOC_PER_AREA"
         }
        }
       }
      }
     },
     "metadata": {},
     "output_type": "display_data"
    }
   ],
   "source": [
    "fig = px.bar(df_loc_1.sort_values(by=\"LSR_LOC_PER_AREA\", ascending=False), x=\"CTP_KOR_NM\", y=\"LSR_LOC_PER_AREA\", color=\"CTP_KOR_NM\", text='LSR_LOC_PER_AREA')\n",
    "fig.update_layout(title = \"지역별 100km² 면적당 레저 사업장 개수\")\n",
    "fig.update_traces(texttemplate='%{text:.2s}', textposition='outside')\n",
    "fig.show()"
   ]
  },
  {
   "attachments": {},
   "cell_type": "markdown",
   "metadata": {},
   "source": [
    "100km²당 레저 사업장 개수를 토대로 서울, 제주, 대구, 부산 등에 레저 사업장이 다수 위치해 있음을 확인할 수 있다. </br>\n",
    "이를 보며 레저 사업장이 많이 위치한 지역일수록 도로, 통신 등의 인프라가 좋을 것이라고 판단하였고, 따라서 위와 같은 가설을 설정하였다."
   ]
  },
  {
   "cell_type": "code",
   "execution_count": 869,
   "metadata": {},
   "outputs": [],
   "source": [
    "stf_infra_mean = df_stf_1.groupby(\"ANSWRR_OC_AREA_NM\")[\"INFRA_ND_FCLTY_SATSFC_DGREE_NUM\"].agg(np.mean).reset_index()\n",
    "stf_infra_mean.rename(columns = {'INFRA_ND_FCLTY_SATSFC_DGREE_NUM' : 'INFRA_SATSFC_DGREE_MEAN'}, inplace = True)\n",
    "\n",
    "df1 = pd.merge(df_loc_1, stf_infra_mean, left_on=\"CTP_KOR_NM\", right_on=\"ANSWRR_OC_AREA_NM\")[[\"ANSWRR_OC_AREA_NM\", \"INFRA_SATSFC_DGREE_MEAN\", \"LSR_LOC_PER_AREA\"]].sort_values(by=\"LSR_LOC_PER_AREA\", ascending=False)"
   ]
  },
  {
   "cell_type": "code",
   "execution_count": 875,
   "metadata": {},
   "outputs": [
    {
     "data": {
      "application/vnd.plotly.v1+json": {
       "config": {
        "plotlyServerURL": "https://plot.ly"
       },
       "data": [
        {
         "coloraxis": "coloraxis",
         "hovertemplate": "x: %{x}<br>y: %{y}<br>color: %{z}<extra></extra>",
         "name": "0",
         "texttemplate": "%{z}",
         "type": "heatmap",
         "x": [
          "LSR_LOC_PER_AREA",
          "INFRA_SATSFC_DGREE_MEAN"
         ],
         "xaxis": "x",
         "y": [
          "LSR_LOC_PER_AREA",
          "INFRA_SATSFC_DGREE_MEAN"
         ],
         "yaxis": "y",
         "z": [
          [
           1,
           0.5988553073240113
          ],
          [
           0.5988553073240113,
           1
          ]
         ]
        }
       ],
       "layout": {
        "coloraxis": {
         "cmid": 0,
         "colorscale": [
          [
           0,
           "rgb(103,0,31)"
          ],
          [
           0.1,
           "rgb(178,24,43)"
          ],
          [
           0.2,
           "rgb(214,96,77)"
          ],
          [
           0.3,
           "rgb(244,165,130)"
          ],
          [
           0.4,
           "rgb(253,219,199)"
          ],
          [
           0.5,
           "rgb(247,247,247)"
          ],
          [
           0.6,
           "rgb(209,229,240)"
          ],
          [
           0.7,
           "rgb(146,197,222)"
          ],
          [
           0.8,
           "rgb(67,147,195)"
          ],
          [
           0.9,
           "rgb(33,102,172)"
          ],
          [
           1,
           "rgb(5,48,97)"
          ]
         ]
        },
        "height": 500,
        "template": {
         "data": {
          "bar": [
           {
            "error_x": {
             "color": "#2a3f5f"
            },
            "error_y": {
             "color": "#2a3f5f"
            },
            "marker": {
             "line": {
              "color": "#E5ECF6",
              "width": 0.5
             },
             "pattern": {
              "fillmode": "overlay",
              "size": 10,
              "solidity": 0.2
             }
            },
            "type": "bar"
           }
          ],
          "barpolar": [
           {
            "marker": {
             "line": {
              "color": "#E5ECF6",
              "width": 0.5
             },
             "pattern": {
              "fillmode": "overlay",
              "size": 10,
              "solidity": 0.2
             }
            },
            "type": "barpolar"
           }
          ],
          "carpet": [
           {
            "aaxis": {
             "endlinecolor": "#2a3f5f",
             "gridcolor": "white",
             "linecolor": "white",
             "minorgridcolor": "white",
             "startlinecolor": "#2a3f5f"
            },
            "baxis": {
             "endlinecolor": "#2a3f5f",
             "gridcolor": "white",
             "linecolor": "white",
             "minorgridcolor": "white",
             "startlinecolor": "#2a3f5f"
            },
            "type": "carpet"
           }
          ],
          "choropleth": [
           {
            "colorbar": {
             "outlinewidth": 0,
             "ticks": ""
            },
            "type": "choropleth"
           }
          ],
          "contour": [
           {
            "colorbar": {
             "outlinewidth": 0,
             "ticks": ""
            },
            "colorscale": [
             [
              0,
              "#0d0887"
             ],
             [
              0.1111111111111111,
              "#46039f"
             ],
             [
              0.2222222222222222,
              "#7201a8"
             ],
             [
              0.3333333333333333,
              "#9c179e"
             ],
             [
              0.4444444444444444,
              "#bd3786"
             ],
             [
              0.5555555555555556,
              "#d8576b"
             ],
             [
              0.6666666666666666,
              "#ed7953"
             ],
             [
              0.7777777777777778,
              "#fb9f3a"
             ],
             [
              0.8888888888888888,
              "#fdca26"
             ],
             [
              1,
              "#f0f921"
             ]
            ],
            "type": "contour"
           }
          ],
          "contourcarpet": [
           {
            "colorbar": {
             "outlinewidth": 0,
             "ticks": ""
            },
            "type": "contourcarpet"
           }
          ],
          "heatmap": [
           {
            "colorbar": {
             "outlinewidth": 0,
             "ticks": ""
            },
            "colorscale": [
             [
              0,
              "#0d0887"
             ],
             [
              0.1111111111111111,
              "#46039f"
             ],
             [
              0.2222222222222222,
              "#7201a8"
             ],
             [
              0.3333333333333333,
              "#9c179e"
             ],
             [
              0.4444444444444444,
              "#bd3786"
             ],
             [
              0.5555555555555556,
              "#d8576b"
             ],
             [
              0.6666666666666666,
              "#ed7953"
             ],
             [
              0.7777777777777778,
              "#fb9f3a"
             ],
             [
              0.8888888888888888,
              "#fdca26"
             ],
             [
              1,
              "#f0f921"
             ]
            ],
            "type": "heatmap"
           }
          ],
          "heatmapgl": [
           {
            "colorbar": {
             "outlinewidth": 0,
             "ticks": ""
            },
            "colorscale": [
             [
              0,
              "#0d0887"
             ],
             [
              0.1111111111111111,
              "#46039f"
             ],
             [
              0.2222222222222222,
              "#7201a8"
             ],
             [
              0.3333333333333333,
              "#9c179e"
             ],
             [
              0.4444444444444444,
              "#bd3786"
             ],
             [
              0.5555555555555556,
              "#d8576b"
             ],
             [
              0.6666666666666666,
              "#ed7953"
             ],
             [
              0.7777777777777778,
              "#fb9f3a"
             ],
             [
              0.8888888888888888,
              "#fdca26"
             ],
             [
              1,
              "#f0f921"
             ]
            ],
            "type": "heatmapgl"
           }
          ],
          "histogram": [
           {
            "marker": {
             "pattern": {
              "fillmode": "overlay",
              "size": 10,
              "solidity": 0.2
             }
            },
            "type": "histogram"
           }
          ],
          "histogram2d": [
           {
            "colorbar": {
             "outlinewidth": 0,
             "ticks": ""
            },
            "colorscale": [
             [
              0,
              "#0d0887"
             ],
             [
              0.1111111111111111,
              "#46039f"
             ],
             [
              0.2222222222222222,
              "#7201a8"
             ],
             [
              0.3333333333333333,
              "#9c179e"
             ],
             [
              0.4444444444444444,
              "#bd3786"
             ],
             [
              0.5555555555555556,
              "#d8576b"
             ],
             [
              0.6666666666666666,
              "#ed7953"
             ],
             [
              0.7777777777777778,
              "#fb9f3a"
             ],
             [
              0.8888888888888888,
              "#fdca26"
             ],
             [
              1,
              "#f0f921"
             ]
            ],
            "type": "histogram2d"
           }
          ],
          "histogram2dcontour": [
           {
            "colorbar": {
             "outlinewidth": 0,
             "ticks": ""
            },
            "colorscale": [
             [
              0,
              "#0d0887"
             ],
             [
              0.1111111111111111,
              "#46039f"
             ],
             [
              0.2222222222222222,
              "#7201a8"
             ],
             [
              0.3333333333333333,
              "#9c179e"
             ],
             [
              0.4444444444444444,
              "#bd3786"
             ],
             [
              0.5555555555555556,
              "#d8576b"
             ],
             [
              0.6666666666666666,
              "#ed7953"
             ],
             [
              0.7777777777777778,
              "#fb9f3a"
             ],
             [
              0.8888888888888888,
              "#fdca26"
             ],
             [
              1,
              "#f0f921"
             ]
            ],
            "type": "histogram2dcontour"
           }
          ],
          "mesh3d": [
           {
            "colorbar": {
             "outlinewidth": 0,
             "ticks": ""
            },
            "type": "mesh3d"
           }
          ],
          "parcoords": [
           {
            "line": {
             "colorbar": {
              "outlinewidth": 0,
              "ticks": ""
             }
            },
            "type": "parcoords"
           }
          ],
          "pie": [
           {
            "automargin": true,
            "type": "pie"
           }
          ],
          "scatter": [
           {
            "fillpattern": {
             "fillmode": "overlay",
             "size": 10,
             "solidity": 0.2
            },
            "type": "scatter"
           }
          ],
          "scatter3d": [
           {
            "line": {
             "colorbar": {
              "outlinewidth": 0,
              "ticks": ""
             }
            },
            "marker": {
             "colorbar": {
              "outlinewidth": 0,
              "ticks": ""
             }
            },
            "type": "scatter3d"
           }
          ],
          "scattercarpet": [
           {
            "marker": {
             "colorbar": {
              "outlinewidth": 0,
              "ticks": ""
             }
            },
            "type": "scattercarpet"
           }
          ],
          "scattergeo": [
           {
            "marker": {
             "colorbar": {
              "outlinewidth": 0,
              "ticks": ""
             }
            },
            "type": "scattergeo"
           }
          ],
          "scattergl": [
           {
            "marker": {
             "colorbar": {
              "outlinewidth": 0,
              "ticks": ""
             }
            },
            "type": "scattergl"
           }
          ],
          "scattermapbox": [
           {
            "marker": {
             "colorbar": {
              "outlinewidth": 0,
              "ticks": ""
             }
            },
            "type": "scattermapbox"
           }
          ],
          "scatterpolar": [
           {
            "marker": {
             "colorbar": {
              "outlinewidth": 0,
              "ticks": ""
             }
            },
            "type": "scatterpolar"
           }
          ],
          "scatterpolargl": [
           {
            "marker": {
             "colorbar": {
              "outlinewidth": 0,
              "ticks": ""
             }
            },
            "type": "scatterpolargl"
           }
          ],
          "scatterternary": [
           {
            "marker": {
             "colorbar": {
              "outlinewidth": 0,
              "ticks": ""
             }
            },
            "type": "scatterternary"
           }
          ],
          "surface": [
           {
            "colorbar": {
             "outlinewidth": 0,
             "ticks": ""
            },
            "colorscale": [
             [
              0,
              "#0d0887"
             ],
             [
              0.1111111111111111,
              "#46039f"
             ],
             [
              0.2222222222222222,
              "#7201a8"
             ],
             [
              0.3333333333333333,
              "#9c179e"
             ],
             [
              0.4444444444444444,
              "#bd3786"
             ],
             [
              0.5555555555555556,
              "#d8576b"
             ],
             [
              0.6666666666666666,
              "#ed7953"
             ],
             [
              0.7777777777777778,
              "#fb9f3a"
             ],
             [
              0.8888888888888888,
              "#fdca26"
             ],
             [
              1,
              "#f0f921"
             ]
            ],
            "type": "surface"
           }
          ],
          "table": [
           {
            "cells": {
             "fill": {
              "color": "#EBF0F8"
             },
             "line": {
              "color": "white"
             }
            },
            "header": {
             "fill": {
              "color": "#C8D4E3"
             },
             "line": {
              "color": "white"
             }
            },
            "type": "table"
           }
          ]
         },
         "layout": {
          "annotationdefaults": {
           "arrowcolor": "#2a3f5f",
           "arrowhead": 0,
           "arrowwidth": 1
          },
          "autotypenumbers": "strict",
          "coloraxis": {
           "colorbar": {
            "outlinewidth": 0,
            "ticks": ""
           }
          },
          "colorscale": {
           "diverging": [
            [
             0,
             "#8e0152"
            ],
            [
             0.1,
             "#c51b7d"
            ],
            [
             0.2,
             "#de77ae"
            ],
            [
             0.3,
             "#f1b6da"
            ],
            [
             0.4,
             "#fde0ef"
            ],
            [
             0.5,
             "#f7f7f7"
            ],
            [
             0.6,
             "#e6f5d0"
            ],
            [
             0.7,
             "#b8e186"
            ],
            [
             0.8,
             "#7fbc41"
            ],
            [
             0.9,
             "#4d9221"
            ],
            [
             1,
             "#276419"
            ]
           ],
           "sequential": [
            [
             0,
             "#0d0887"
            ],
            [
             0.1111111111111111,
             "#46039f"
            ],
            [
             0.2222222222222222,
             "#7201a8"
            ],
            [
             0.3333333333333333,
             "#9c179e"
            ],
            [
             0.4444444444444444,
             "#bd3786"
            ],
            [
             0.5555555555555556,
             "#d8576b"
            ],
            [
             0.6666666666666666,
             "#ed7953"
            ],
            [
             0.7777777777777778,
             "#fb9f3a"
            ],
            [
             0.8888888888888888,
             "#fdca26"
            ],
            [
             1,
             "#f0f921"
            ]
           ],
           "sequentialminus": [
            [
             0,
             "#0d0887"
            ],
            [
             0.1111111111111111,
             "#46039f"
            ],
            [
             0.2222222222222222,
             "#7201a8"
            ],
            [
             0.3333333333333333,
             "#9c179e"
            ],
            [
             0.4444444444444444,
             "#bd3786"
            ],
            [
             0.5555555555555556,
             "#d8576b"
            ],
            [
             0.6666666666666666,
             "#ed7953"
            ],
            [
             0.7777777777777778,
             "#fb9f3a"
            ],
            [
             0.8888888888888888,
             "#fdca26"
            ],
            [
             1,
             "#f0f921"
            ]
           ]
          },
          "colorway": [
           "#636efa",
           "#EF553B",
           "#00cc96",
           "#ab63fa",
           "#FFA15A",
           "#19d3f3",
           "#FF6692",
           "#B6E880",
           "#FF97FF",
           "#FECB52"
          ],
          "font": {
           "color": "#2a3f5f"
          },
          "geo": {
           "bgcolor": "white",
           "lakecolor": "white",
           "landcolor": "#E5ECF6",
           "showlakes": true,
           "showland": true,
           "subunitcolor": "white"
          },
          "hoverlabel": {
           "align": "left"
          },
          "hovermode": "closest",
          "mapbox": {
           "style": "light"
          },
          "paper_bgcolor": "white",
          "plot_bgcolor": "#E5ECF6",
          "polar": {
           "angularaxis": {
            "gridcolor": "white",
            "linecolor": "white",
            "ticks": ""
           },
           "bgcolor": "#E5ECF6",
           "radialaxis": {
            "gridcolor": "white",
            "linecolor": "white",
            "ticks": ""
           }
          },
          "scene": {
           "xaxis": {
            "backgroundcolor": "#E5ECF6",
            "gridcolor": "white",
            "gridwidth": 2,
            "linecolor": "white",
            "showbackground": true,
            "ticks": "",
            "zerolinecolor": "white"
           },
           "yaxis": {
            "backgroundcolor": "#E5ECF6",
            "gridcolor": "white",
            "gridwidth": 2,
            "linecolor": "white",
            "showbackground": true,
            "ticks": "",
            "zerolinecolor": "white"
           },
           "zaxis": {
            "backgroundcolor": "#E5ECF6",
            "gridcolor": "white",
            "gridwidth": 2,
            "linecolor": "white",
            "showbackground": true,
            "ticks": "",
            "zerolinecolor": "white"
           }
          },
          "shapedefaults": {
           "line": {
            "color": "#2a3f5f"
           }
          },
          "ternary": {
           "aaxis": {
            "gridcolor": "white",
            "linecolor": "white",
            "ticks": ""
           },
           "baxis": {
            "gridcolor": "white",
            "linecolor": "white",
            "ticks": ""
           },
           "bgcolor": "#E5ECF6",
           "caxis": {
            "gridcolor": "white",
            "linecolor": "white",
            "ticks": ""
           }
          },
          "title": {
           "x": 0.05
          },
          "xaxis": {
           "automargin": true,
           "gridcolor": "white",
           "linecolor": "white",
           "ticks": "",
           "title": {
            "standoff": 15
           },
           "zerolinecolor": "white",
           "zerolinewidth": 2
          },
          "yaxis": {
           "automargin": true,
           "gridcolor": "white",
           "linecolor": "white",
           "ticks": "",
           "title": {
            "standoff": 15
           },
           "zerolinecolor": "white",
           "zerolinewidth": 2
          }
         }
        },
        "title": {
         "text": "레저 사업장의 개수와 인프라 및 시설 만족 정도에 대한 상관관계분석"
        },
        "xaxis": {
         "anchor": "y",
         "constrain": "domain",
         "domain": [
          0,
          1
         ],
         "scaleanchor": "y"
        },
        "yaxis": {
         "anchor": "x",
         "autorange": "reversed",
         "constrain": "domain",
         "domain": [
          0,
          1
         ]
        }
       }
      }
     },
     "metadata": {},
     "output_type": "display_data"
    }
   ],
   "source": [
    "px.imshow(df1[[\"LSR_LOC_PER_AREA\", \"INFRA_SATSFC_DGREE_MEAN\"]].corr(),\n",
    "                color_continuous_scale = px.colors.diverging.RdBu, text_auto=True,\n",
    "                color_continuous_midpoint = 0, height = 500,\n",
    "                title = \"레저 사업장의 개수와 인프라 및 시설 만족 정도에 대한 상관관계분석\")"
   ]
  },
  {
   "cell_type": "code",
   "execution_count": 876,
   "metadata": {},
   "outputs": [
    {
     "data": {
      "text/plain": [
       "0.011082139990820037"
      ]
     },
     "execution_count": 876,
     "metadata": {},
     "output_type": "execute_result"
    }
   ],
   "source": [
    "stats.pearsonr(df1.LSR_LOC_PER_AREA.values, df1.INFRA_SATSFC_DGREE_MEAN.values)[1] # p-value로 상관 계수의 유효성 파악"
   ]
  },
  {
   "attachments": {},
   "cell_type": "markdown",
   "metadata": {},
   "source": [
    "시∙도민의 인프라 및 시설 만족 정도 설문 조사 결과의 평균 값을 기준으로 하여 레저 사업장의 개수와의 상관 관계를 분석하였을 때, 상관 계수가 0.59886으로 양의 값이 나온다. </br>\n",
    "따라서 레저 사업장의 개수가 많은 지역일수록 시∙도민의 인프라 및 시설에 대한 만족 정도가 높음을 확인할 수 있다. </br>\n",
    "해당 상관관계분석에서 p-value는 0.01108으로 0.05보다 작으므로 본 상관관계분석결과는 의미가 있다고 볼 수 있다."
   ]
  },
  {
   "attachments": {},
   "cell_type": "markdown",
   "metadata": {},
   "source": [
    "#### 가설 1-2. 레저 사업장이 다수 위치한 곳에 거주하는 사람일수록 그렇지 않은 사람보다 비수기에 여가 활동을 더 많이 할 것이다."
   ]
  },
  {
   "attachments": {},
   "cell_type": "markdown",
   "metadata": {},
   "source": [
    "가설 1-1에서 레저 사업장의 개수가 많은 지역일수록 시∙도민의 인프라 및 시설에 대한 만족 정도가 높음을 파악했다. </br>\n",
    "이를 기반으로, 레저 사업장이 다수 위치한 사람은 레저 사업장에 대한 접근성이 좋을 것이라고 추측할 수 있다. </br>\n",
    "따라서 시간적 여유로움이 덜한 비수기에도 레저 활동을 더 많이 할 수 있을 것이라고 예상한다."
   ]
  },
  {
   "attachments": {},
   "cell_type": "markdown",
   "metadata": {},
   "source": [
    "- 여가 활동의 성수기는 일반적인 휴가철인 7~8월, 12월~1월로 정의한다."
   ]
  },
  {
   "cell_type": "code",
   "execution_count": 700,
   "metadata": {},
   "outputs": [],
   "source": [
    "# 비수기로 기간 한정\n",
    "df3 = df_time_1[(df_time_1[\"EXAMIN_BEGIN_DE\"]!=\"Jul\") & (df_time_1[\"EXAMIN_BEGIN_DE\"]!=\"Aug\") & (df_time_1[\"EXAMIN_BEGIN_DE\"]!=\"Dec\") & (df_time_1[\"EXAMIN_BEGIN_DE\"]!=\"Jen\")]\n",
    "\n",
    "# 이상치 제거\n",
    "level_1q = df3[\"ONE_WEEK_TOT_LSR_TIME_VALUE\"].quantile(0.25)\n",
    "level_3q = df3[\"ONE_WEEK_TOT_LSR_TIME_VALUE\"].quantile(0.75)\n",
    "IQR = level_3q - level_1q\n",
    "rev_range = 1.5\n",
    "\n",
    "# 통계치 계산\n",
    "off_season = df3[(df3[\"ONE_WEEK_TOT_LSR_TIME_VALUE\"] <= level_3q + (rev_range * IQR)) & (df3['ONE_WEEK_TOT_LSR_TIME_VALUE'] >= level_1q - (rev_range * IQR))][[\"ANSWRR_OC_AREA_NM\", \"EXAMIN_BEGIN_DE\", \"ONE_WEEK_TOT_LSR_TIME_VALUE\"]]\n",
    "off_statistic = off_season.groupby([\"ANSWRR_OC_AREA_NM\"])[\"ONE_WEEK_TOT_LSR_TIME_VALUE\"].agg([np.mean]).reset_index()\n",
    "\n",
    "# 레저 사업장 개수 df와 병합\n",
    "df4 = pd.merge(df_loc_1, off_statistic, left_on=\"CTP_KOR_NM\", right_on=\"ANSWRR_OC_AREA_NM\")\n",
    "df4.rename(columns = {'mean' : 'OFF_LSRT_TIME_MEAN'}, inplace = True)"
   ]
  },
  {
   "cell_type": "code",
   "execution_count": 707,
   "metadata": {},
   "outputs": [
    {
     "data": {
      "application/vnd.plotly.v1+json": {
       "config": {
        "plotlyServerURL": "https://plot.ly"
       },
       "data": [
        {
         "hovertemplate": "ANSWRR_OC_AREA_NM=서울특별시<br>LSR_LOC_PER_AREA=%{x}<br>OFF_LSRT_TIME_MEAN=%{y}<br>NUM_OF_LSR_LOC=%{marker.size}<extra></extra>",
         "legendgroup": "서울특별시",
         "marker": {
          "color": "#636efa",
          "size": [
           3159
          ],
          "sizemode": "area",
          "sizeref": 9.435,
          "symbol": "circle"
         },
         "mode": "markers",
         "name": "서울특별시",
         "orientation": "v",
         "showlegend": true,
         "type": "scatter",
         "x": [
          522.1487603305785
         ],
         "xaxis": "x",
         "y": [
          26.12587635436584
         ],
         "yaxis": "y"
        },
        {
         "hovertemplate": "ANSWRR_OC_AREA_NM=부산광역시<br>LSR_LOC_PER_AREA=%{x}<br>OFF_LSRT_TIME_MEAN=%{y}<br>NUM_OF_LSR_LOC=%{marker.size}<extra></extra>",
         "legendgroup": "부산광역시",
         "marker": {
          "color": "#EF553B",
          "size": [
           654
          ],
          "sizemode": "area",
          "sizeref": 9.435,
          "symbol": "circle"
         },
         "mode": "markers",
         "name": "부산광역시",
         "orientation": "v",
         "showlegend": true,
         "type": "scatter",
         "x": [
          84.93506493506493
         ],
         "xaxis": "x",
         "y": [
          25.57265625
         ],
         "yaxis": "y"
        },
        {
         "hovertemplate": "ANSWRR_OC_AREA_NM=대구광역시<br>LSR_LOC_PER_AREA=%{x}<br>OFF_LSRT_TIME_MEAN=%{y}<br>NUM_OF_LSR_LOC=%{marker.size}<extra></extra>",
         "legendgroup": "대구광역시",
         "marker": {
          "color": "#00cc96",
          "size": [
           770
          ],
          "sizemode": "area",
          "sizeref": 9.435,
          "symbol": "circle"
         },
         "mode": "markers",
         "name": "대구광역시",
         "orientation": "v",
         "showlegend": true,
         "type": "scatter",
         "x": [
          87.10407239819004
         ],
         "xaxis": "x",
         "y": [
          24.90011750881316
         ],
         "yaxis": "y"
        },
        {
         "hovertemplate": "ANSWRR_OC_AREA_NM=인천광역시<br>LSR_LOC_PER_AREA=%{x}<br>OFF_LSRT_TIME_MEAN=%{y}<br>NUM_OF_LSR_LOC=%{marker.size}<extra></extra>",
         "legendgroup": "인천광역시",
         "marker": {
          "color": "#ab63fa",
          "size": [
           344
          ],
          "sizemode": "area",
          "sizeref": 9.435,
          "symbol": "circle"
         },
         "mode": "markers",
         "name": "인천광역시",
         "orientation": "v",
         "showlegend": true,
         "type": "scatter",
         "x": [
          32.270168855534706
         ],
         "xaxis": "x",
         "y": [
          24.983501374885424
         ],
         "yaxis": "y"
        },
        {
         "hovertemplate": "ANSWRR_OC_AREA_NM=광주광역시<br>LSR_LOC_PER_AREA=%{x}<br>OFF_LSRT_TIME_MEAN=%{y}<br>NUM_OF_LSR_LOC=%{marker.size}<extra></extra>",
         "legendgroup": "광주광역시",
         "marker": {
          "color": "#FFA15A",
          "size": [
           74
          ],
          "sizemode": "area",
          "sizeref": 9.435,
          "symbol": "circle"
         },
         "mode": "markers",
         "name": "광주광역시",
         "orientation": "v",
         "showlegend": true,
         "type": "scatter",
         "x": [
          14.770459081836327
         ],
         "xaxis": "x",
         "y": [
          24.033391915641477
         ],
         "yaxis": "y"
        },
        {
         "hovertemplate": "ANSWRR_OC_AREA_NM=대전광역시<br>LSR_LOC_PER_AREA=%{x}<br>OFF_LSRT_TIME_MEAN=%{y}<br>NUM_OF_LSR_LOC=%{marker.size}<extra></extra>",
         "legendgroup": "대전광역시",
         "marker": {
          "color": "#19d3f3",
          "size": [
           132
          ],
          "sizemode": "area",
          "sizeref": 9.435,
          "symbol": "circle"
         },
         "mode": "markers",
         "name": "대전광역시",
         "orientation": "v",
         "showlegend": true,
         "type": "scatter",
         "x": [
          24.444444444444443
         ],
         "xaxis": "x",
         "y": [
          24.201401050788093
         ],
         "yaxis": "y"
        },
        {
         "hovertemplate": "ANSWRR_OC_AREA_NM=울산광역시<br>LSR_LOC_PER_AREA=%{x}<br>OFF_LSRT_TIME_MEAN=%{y}<br>NUM_OF_LSR_LOC=%{marker.size}<extra></extra>",
         "legendgroup": "울산광역시",
         "marker": {
          "color": "#FF6692",
          "size": [
           56
          ],
          "sizemode": "area",
          "sizeref": 9.435,
          "symbol": "circle"
         },
         "mode": "markers",
         "name": "울산광역시",
         "orientation": "v",
         "showlegend": true,
         "type": "scatter",
         "x": [
          5.273069679849341
         ],
         "xaxis": "x",
         "y": [
          23.64
         ],
         "yaxis": "y"
        },
        {
         "hovertemplate": "ANSWRR_OC_AREA_NM=세종특별자치시<br>LSR_LOC_PER_AREA=%{x}<br>OFF_LSRT_TIME_MEAN=%{y}<br>NUM_OF_LSR_LOC=%{marker.size}<extra></extra>",
         "legendgroup": "세종특별자치시",
         "marker": {
          "color": "#B6E880",
          "size": [
           24
          ],
          "sizemode": "area",
          "sizeref": 9.435,
          "symbol": "circle"
         },
         "mode": "markers",
         "name": "세종특별자치시",
         "orientation": "v",
         "showlegend": true,
         "type": "scatter",
         "x": [
          5.161290322580645
         ],
         "xaxis": "x",
         "y": [
          23.125
         ],
         "yaxis": "y"
        },
        {
         "hovertemplate": "ANSWRR_OC_AREA_NM=경기도<br>LSR_LOC_PER_AREA=%{x}<br>OFF_LSRT_TIME_MEAN=%{y}<br>NUM_OF_LSR_LOC=%{marker.size}<extra></extra>",
         "legendgroup": "경기도",
         "marker": {
          "color": "#FF97FF",
          "size": [
           3774
          ],
          "sizemode": "area",
          "sizeref": 9.435,
          "symbol": "circle"
         },
         "mode": "markers",
         "name": "경기도",
         "orientation": "v",
         "showlegend": true,
         "type": "scatter",
         "x": [
          37.01088555457488
         ],
         "xaxis": "x",
         "y": [
          25.235436893203882
         ],
         "yaxis": "y"
        },
        {
         "hovertemplate": "ANSWRR_OC_AREA_NM=강원도<br>LSR_LOC_PER_AREA=%{x}<br>OFF_LSRT_TIME_MEAN=%{y}<br>NUM_OF_LSR_LOC=%{marker.size}<extra></extra>",
         "legendgroup": "강원도",
         "marker": {
          "color": "#FECB52",
          "size": [
           1717
          ],
          "sizemode": "area",
          "sizeref": 9.435,
          "symbol": "circle"
         },
         "mode": "markers",
         "name": "강원도",
         "orientation": "v",
         "showlegend": true,
         "type": "scatter",
         "x": [
          10.202020202020202
         ],
         "xaxis": "x",
         "y": [
          24.133828996282528
         ],
         "yaxis": "y"
        },
        {
         "hovertemplate": "ANSWRR_OC_AREA_NM=충청북도<br>LSR_LOC_PER_AREA=%{x}<br>OFF_LSRT_TIME_MEAN=%{y}<br>NUM_OF_LSR_LOC=%{marker.size}<extra></extra>",
         "legendgroup": "충청북도",
         "marker": {
          "color": "#636efa",
          "size": [
           237
          ],
          "sizemode": "area",
          "sizeref": 9.435,
          "symbol": "circle"
         },
         "mode": "markers",
         "name": "충청북도",
         "orientation": "v",
         "showlegend": true,
         "type": "scatter",
         "x": [
          3.19967598217902
         ],
         "xaxis": "x",
         "y": [
          25.056360708534623
         ],
         "yaxis": "y"
        },
        {
         "hovertemplate": "ANSWRR_OC_AREA_NM=충청남도<br>LSR_LOC_PER_AREA=%{x}<br>OFF_LSRT_TIME_MEAN=%{y}<br>NUM_OF_LSR_LOC=%{marker.size}<extra></extra>",
         "legendgroup": "충청남도",
         "marker": {
          "color": "#EF553B",
          "size": [
           524
          ],
          "sizemode": "area",
          "sizeref": 9.435,
          "symbol": "circle"
         },
         "mode": "markers",
         "name": "충청남도",
         "orientation": "v",
         "showlegend": true,
         "type": "scatter",
         "x": [
          6.35382563356372
         ],
         "xaxis": "x",
         "y": [
          24.831920903954803
         ],
         "yaxis": "y"
        },
        {
         "hovertemplate": "ANSWRR_OC_AREA_NM=전라북도<br>LSR_LOC_PER_AREA=%{x}<br>OFF_LSRT_TIME_MEAN=%{y}<br>NUM_OF_LSR_LOC=%{marker.size}<extra></extra>",
         "legendgroup": "전라북도",
         "marker": {
          "color": "#00cc96",
          "size": [
           378
          ],
          "sizemode": "area",
          "sizeref": 9.435,
          "symbol": "circle"
         },
         "mode": "markers",
         "name": "전라북도",
         "orientation": "v",
         "showlegend": true,
         "type": "scatter",
         "x": [
          4.682854311199207
         ],
         "xaxis": "x",
         "y": [
          23.569767441860463
         ],
         "yaxis": "y"
        },
        {
         "hovertemplate": "ANSWRR_OC_AREA_NM=전라남도<br>LSR_LOC_PER_AREA=%{x}<br>OFF_LSRT_TIME_MEAN=%{y}<br>NUM_OF_LSR_LOC=%{marker.size}<extra></extra>",
         "legendgroup": "전라남도",
         "marker": {
          "color": "#ab63fa",
          "size": [
           548
          ],
          "sizemode": "area",
          "sizeref": 9.435,
          "symbol": "circle"
         },
         "mode": "markers",
         "name": "전라남도",
         "orientation": "v",
         "showlegend": true,
         "type": "scatter",
         "x": [
          4.434015697062869
         ],
         "xaxis": "x",
         "y": [
          24.079854809437386
         ],
         "yaxis": "y"
        },
        {
         "hovertemplate": "ANSWRR_OC_AREA_NM=경상북도<br>LSR_LOC_PER_AREA=%{x}<br>OFF_LSRT_TIME_MEAN=%{y}<br>NUM_OF_LSR_LOC=%{marker.size}<extra></extra>",
         "legendgroup": "경상북도",
         "marker": {
          "color": "#FFA15A",
          "size": [
           963
          ],
          "sizemode": "area",
          "sizeref": 9.435,
          "symbol": "circle"
         },
         "mode": "markers",
         "name": "경상북도",
         "orientation": "v",
         "showlegend": true,
         "type": "scatter",
         "x": [
          5.0591016548463354
         ],
         "xaxis": "x",
         "y": [
          25.151616499442586
         ],
         "yaxis": "y"
        },
        {
         "hovertemplate": "ANSWRR_OC_AREA_NM=경상남도<br>LSR_LOC_PER_AREA=%{x}<br>OFF_LSRT_TIME_MEAN=%{y}<br>NUM_OF_LSR_LOC=%{marker.size}<extra></extra>",
         "legendgroup": "경상남도",
         "marker": {
          "color": "#19d3f3",
          "size": [
           601
          ],
          "sizemode": "area",
          "sizeref": 9.435,
          "symbol": "circle"
         },
         "mode": "markers",
         "name": "경상남도",
         "orientation": "v",
         "showlegend": true,
         "type": "scatter",
         "x": [
          5.701005501802314
         ],
         "xaxis": "x",
         "y": [
          24.528510638297874
         ],
         "yaxis": "y"
        },
        {
         "hovertemplate": "ANSWRR_OC_AREA_NM=제주특별자치도<br>LSR_LOC_PER_AREA=%{x}<br>OFF_LSRT_TIME_MEAN=%{y}<br>NUM_OF_LSR_LOC=%{marker.size}<extra></extra>",
         "legendgroup": "제주특별자치도",
         "marker": {
          "color": "#FF6692",
          "size": [
           1730
          ],
          "sizemode": "area",
          "sizeref": 9.435,
          "symbol": "circle"
         },
         "mode": "markers",
         "name": "제주특별자치도",
         "orientation": "v",
         "showlegend": true,
         "type": "scatter",
         "x": [
          93.51351351351352
         ],
         "xaxis": "x",
         "y": [
          23.23170731707317
         ],
         "yaxis": "y"
        }
       ],
       "layout": {
        "legend": {
         "itemsizing": "constant",
         "title": {
          "text": "ANSWRR_OC_AREA_NM"
         },
         "tracegroupgap": 0
        },
        "margin": {
         "t": 60
        },
        "template": {
         "data": {
          "bar": [
           {
            "error_x": {
             "color": "#2a3f5f"
            },
            "error_y": {
             "color": "#2a3f5f"
            },
            "marker": {
             "line": {
              "color": "#E5ECF6",
              "width": 0.5
             },
             "pattern": {
              "fillmode": "overlay",
              "size": 10,
              "solidity": 0.2
             }
            },
            "type": "bar"
           }
          ],
          "barpolar": [
           {
            "marker": {
             "line": {
              "color": "#E5ECF6",
              "width": 0.5
             },
             "pattern": {
              "fillmode": "overlay",
              "size": 10,
              "solidity": 0.2
             }
            },
            "type": "barpolar"
           }
          ],
          "carpet": [
           {
            "aaxis": {
             "endlinecolor": "#2a3f5f",
             "gridcolor": "white",
             "linecolor": "white",
             "minorgridcolor": "white",
             "startlinecolor": "#2a3f5f"
            },
            "baxis": {
             "endlinecolor": "#2a3f5f",
             "gridcolor": "white",
             "linecolor": "white",
             "minorgridcolor": "white",
             "startlinecolor": "#2a3f5f"
            },
            "type": "carpet"
           }
          ],
          "choropleth": [
           {
            "colorbar": {
             "outlinewidth": 0,
             "ticks": ""
            },
            "type": "choropleth"
           }
          ],
          "contour": [
           {
            "colorbar": {
             "outlinewidth": 0,
             "ticks": ""
            },
            "colorscale": [
             [
              0,
              "#0d0887"
             ],
             [
              0.1111111111111111,
              "#46039f"
             ],
             [
              0.2222222222222222,
              "#7201a8"
             ],
             [
              0.3333333333333333,
              "#9c179e"
             ],
             [
              0.4444444444444444,
              "#bd3786"
             ],
             [
              0.5555555555555556,
              "#d8576b"
             ],
             [
              0.6666666666666666,
              "#ed7953"
             ],
             [
              0.7777777777777778,
              "#fb9f3a"
             ],
             [
              0.8888888888888888,
              "#fdca26"
             ],
             [
              1,
              "#f0f921"
             ]
            ],
            "type": "contour"
           }
          ],
          "contourcarpet": [
           {
            "colorbar": {
             "outlinewidth": 0,
             "ticks": ""
            },
            "type": "contourcarpet"
           }
          ],
          "heatmap": [
           {
            "colorbar": {
             "outlinewidth": 0,
             "ticks": ""
            },
            "colorscale": [
             [
              0,
              "#0d0887"
             ],
             [
              0.1111111111111111,
              "#46039f"
             ],
             [
              0.2222222222222222,
              "#7201a8"
             ],
             [
              0.3333333333333333,
              "#9c179e"
             ],
             [
              0.4444444444444444,
              "#bd3786"
             ],
             [
              0.5555555555555556,
              "#d8576b"
             ],
             [
              0.6666666666666666,
              "#ed7953"
             ],
             [
              0.7777777777777778,
              "#fb9f3a"
             ],
             [
              0.8888888888888888,
              "#fdca26"
             ],
             [
              1,
              "#f0f921"
             ]
            ],
            "type": "heatmap"
           }
          ],
          "heatmapgl": [
           {
            "colorbar": {
             "outlinewidth": 0,
             "ticks": ""
            },
            "colorscale": [
             [
              0,
              "#0d0887"
             ],
             [
              0.1111111111111111,
              "#46039f"
             ],
             [
              0.2222222222222222,
              "#7201a8"
             ],
             [
              0.3333333333333333,
              "#9c179e"
             ],
             [
              0.4444444444444444,
              "#bd3786"
             ],
             [
              0.5555555555555556,
              "#d8576b"
             ],
             [
              0.6666666666666666,
              "#ed7953"
             ],
             [
              0.7777777777777778,
              "#fb9f3a"
             ],
             [
              0.8888888888888888,
              "#fdca26"
             ],
             [
              1,
              "#f0f921"
             ]
            ],
            "type": "heatmapgl"
           }
          ],
          "histogram": [
           {
            "marker": {
             "pattern": {
              "fillmode": "overlay",
              "size": 10,
              "solidity": 0.2
             }
            },
            "type": "histogram"
           }
          ],
          "histogram2d": [
           {
            "colorbar": {
             "outlinewidth": 0,
             "ticks": ""
            },
            "colorscale": [
             [
              0,
              "#0d0887"
             ],
             [
              0.1111111111111111,
              "#46039f"
             ],
             [
              0.2222222222222222,
              "#7201a8"
             ],
             [
              0.3333333333333333,
              "#9c179e"
             ],
             [
              0.4444444444444444,
              "#bd3786"
             ],
             [
              0.5555555555555556,
              "#d8576b"
             ],
             [
              0.6666666666666666,
              "#ed7953"
             ],
             [
              0.7777777777777778,
              "#fb9f3a"
             ],
             [
              0.8888888888888888,
              "#fdca26"
             ],
             [
              1,
              "#f0f921"
             ]
            ],
            "type": "histogram2d"
           }
          ],
          "histogram2dcontour": [
           {
            "colorbar": {
             "outlinewidth": 0,
             "ticks": ""
            },
            "colorscale": [
             [
              0,
              "#0d0887"
             ],
             [
              0.1111111111111111,
              "#46039f"
             ],
             [
              0.2222222222222222,
              "#7201a8"
             ],
             [
              0.3333333333333333,
              "#9c179e"
             ],
             [
              0.4444444444444444,
              "#bd3786"
             ],
             [
              0.5555555555555556,
              "#d8576b"
             ],
             [
              0.6666666666666666,
              "#ed7953"
             ],
             [
              0.7777777777777778,
              "#fb9f3a"
             ],
             [
              0.8888888888888888,
              "#fdca26"
             ],
             [
              1,
              "#f0f921"
             ]
            ],
            "type": "histogram2dcontour"
           }
          ],
          "mesh3d": [
           {
            "colorbar": {
             "outlinewidth": 0,
             "ticks": ""
            },
            "type": "mesh3d"
           }
          ],
          "parcoords": [
           {
            "line": {
             "colorbar": {
              "outlinewidth": 0,
              "ticks": ""
             }
            },
            "type": "parcoords"
           }
          ],
          "pie": [
           {
            "automargin": true,
            "type": "pie"
           }
          ],
          "scatter": [
           {
            "fillpattern": {
             "fillmode": "overlay",
             "size": 10,
             "solidity": 0.2
            },
            "type": "scatter"
           }
          ],
          "scatter3d": [
           {
            "line": {
             "colorbar": {
              "outlinewidth": 0,
              "ticks": ""
             }
            },
            "marker": {
             "colorbar": {
              "outlinewidth": 0,
              "ticks": ""
             }
            },
            "type": "scatter3d"
           }
          ],
          "scattercarpet": [
           {
            "marker": {
             "colorbar": {
              "outlinewidth": 0,
              "ticks": ""
             }
            },
            "type": "scattercarpet"
           }
          ],
          "scattergeo": [
           {
            "marker": {
             "colorbar": {
              "outlinewidth": 0,
              "ticks": ""
             }
            },
            "type": "scattergeo"
           }
          ],
          "scattergl": [
           {
            "marker": {
             "colorbar": {
              "outlinewidth": 0,
              "ticks": ""
             }
            },
            "type": "scattergl"
           }
          ],
          "scattermapbox": [
           {
            "marker": {
             "colorbar": {
              "outlinewidth": 0,
              "ticks": ""
             }
            },
            "type": "scattermapbox"
           }
          ],
          "scatterpolar": [
           {
            "marker": {
             "colorbar": {
              "outlinewidth": 0,
              "ticks": ""
             }
            },
            "type": "scatterpolar"
           }
          ],
          "scatterpolargl": [
           {
            "marker": {
             "colorbar": {
              "outlinewidth": 0,
              "ticks": ""
             }
            },
            "type": "scatterpolargl"
           }
          ],
          "scatterternary": [
           {
            "marker": {
             "colorbar": {
              "outlinewidth": 0,
              "ticks": ""
             }
            },
            "type": "scatterternary"
           }
          ],
          "surface": [
           {
            "colorbar": {
             "outlinewidth": 0,
             "ticks": ""
            },
            "colorscale": [
             [
              0,
              "#0d0887"
             ],
             [
              0.1111111111111111,
              "#46039f"
             ],
             [
              0.2222222222222222,
              "#7201a8"
             ],
             [
              0.3333333333333333,
              "#9c179e"
             ],
             [
              0.4444444444444444,
              "#bd3786"
             ],
             [
              0.5555555555555556,
              "#d8576b"
             ],
             [
              0.6666666666666666,
              "#ed7953"
             ],
             [
              0.7777777777777778,
              "#fb9f3a"
             ],
             [
              0.8888888888888888,
              "#fdca26"
             ],
             [
              1,
              "#f0f921"
             ]
            ],
            "type": "surface"
           }
          ],
          "table": [
           {
            "cells": {
             "fill": {
              "color": "#EBF0F8"
             },
             "line": {
              "color": "white"
             }
            },
            "header": {
             "fill": {
              "color": "#C8D4E3"
             },
             "line": {
              "color": "white"
             }
            },
            "type": "table"
           }
          ]
         },
         "layout": {
          "annotationdefaults": {
           "arrowcolor": "#2a3f5f",
           "arrowhead": 0,
           "arrowwidth": 1
          },
          "autotypenumbers": "strict",
          "coloraxis": {
           "colorbar": {
            "outlinewidth": 0,
            "ticks": ""
           }
          },
          "colorscale": {
           "diverging": [
            [
             0,
             "#8e0152"
            ],
            [
             0.1,
             "#c51b7d"
            ],
            [
             0.2,
             "#de77ae"
            ],
            [
             0.3,
             "#f1b6da"
            ],
            [
             0.4,
             "#fde0ef"
            ],
            [
             0.5,
             "#f7f7f7"
            ],
            [
             0.6,
             "#e6f5d0"
            ],
            [
             0.7,
             "#b8e186"
            ],
            [
             0.8,
             "#7fbc41"
            ],
            [
             0.9,
             "#4d9221"
            ],
            [
             1,
             "#276419"
            ]
           ],
           "sequential": [
            [
             0,
             "#0d0887"
            ],
            [
             0.1111111111111111,
             "#46039f"
            ],
            [
             0.2222222222222222,
             "#7201a8"
            ],
            [
             0.3333333333333333,
             "#9c179e"
            ],
            [
             0.4444444444444444,
             "#bd3786"
            ],
            [
             0.5555555555555556,
             "#d8576b"
            ],
            [
             0.6666666666666666,
             "#ed7953"
            ],
            [
             0.7777777777777778,
             "#fb9f3a"
            ],
            [
             0.8888888888888888,
             "#fdca26"
            ],
            [
             1,
             "#f0f921"
            ]
           ],
           "sequentialminus": [
            [
             0,
             "#0d0887"
            ],
            [
             0.1111111111111111,
             "#46039f"
            ],
            [
             0.2222222222222222,
             "#7201a8"
            ],
            [
             0.3333333333333333,
             "#9c179e"
            ],
            [
             0.4444444444444444,
             "#bd3786"
            ],
            [
             0.5555555555555556,
             "#d8576b"
            ],
            [
             0.6666666666666666,
             "#ed7953"
            ],
            [
             0.7777777777777778,
             "#fb9f3a"
            ],
            [
             0.8888888888888888,
             "#fdca26"
            ],
            [
             1,
             "#f0f921"
            ]
           ]
          },
          "colorway": [
           "#636efa",
           "#EF553B",
           "#00cc96",
           "#ab63fa",
           "#FFA15A",
           "#19d3f3",
           "#FF6692",
           "#B6E880",
           "#FF97FF",
           "#FECB52"
          ],
          "font": {
           "color": "#2a3f5f"
          },
          "geo": {
           "bgcolor": "white",
           "lakecolor": "white",
           "landcolor": "#E5ECF6",
           "showlakes": true,
           "showland": true,
           "subunitcolor": "white"
          },
          "hoverlabel": {
           "align": "left"
          },
          "hovermode": "closest",
          "mapbox": {
           "style": "light"
          },
          "paper_bgcolor": "white",
          "plot_bgcolor": "#E5ECF6",
          "polar": {
           "angularaxis": {
            "gridcolor": "white",
            "linecolor": "white",
            "ticks": ""
           },
           "bgcolor": "#E5ECF6",
           "radialaxis": {
            "gridcolor": "white",
            "linecolor": "white",
            "ticks": ""
           }
          },
          "scene": {
           "xaxis": {
            "backgroundcolor": "#E5ECF6",
            "gridcolor": "white",
            "gridwidth": 2,
            "linecolor": "white",
            "showbackground": true,
            "ticks": "",
            "zerolinecolor": "white"
           },
           "yaxis": {
            "backgroundcolor": "#E5ECF6",
            "gridcolor": "white",
            "gridwidth": 2,
            "linecolor": "white",
            "showbackground": true,
            "ticks": "",
            "zerolinecolor": "white"
           },
           "zaxis": {
            "backgroundcolor": "#E5ECF6",
            "gridcolor": "white",
            "gridwidth": 2,
            "linecolor": "white",
            "showbackground": true,
            "ticks": "",
            "zerolinecolor": "white"
           }
          },
          "shapedefaults": {
           "line": {
            "color": "#2a3f5f"
           }
          },
          "ternary": {
           "aaxis": {
            "gridcolor": "white",
            "linecolor": "white",
            "ticks": ""
           },
           "baxis": {
            "gridcolor": "white",
            "linecolor": "white",
            "ticks": ""
           },
           "bgcolor": "#E5ECF6",
           "caxis": {
            "gridcolor": "white",
            "linecolor": "white",
            "ticks": ""
           }
          },
          "title": {
           "x": 0.05
          },
          "xaxis": {
           "automargin": true,
           "gridcolor": "white",
           "linecolor": "white",
           "ticks": "",
           "title": {
            "standoff": 15
           },
           "zerolinecolor": "white",
           "zerolinewidth": 2
          },
          "yaxis": {
           "automargin": true,
           "gridcolor": "white",
           "linecolor": "white",
           "ticks": "",
           "title": {
            "standoff": 15
           },
           "zerolinecolor": "white",
           "zerolinewidth": 2
          }
         }
        },
        "xaxis": {
         "anchor": "y",
         "domain": [
          0,
          1
         ],
         "title": {
          "text": "LSR_LOC_PER_AREA"
         }
        },
        "yaxis": {
         "anchor": "x",
         "domain": [
          0,
          1
         ],
         "title": {
          "text": "OFF_LSRT_TIME_MEAN"
         }
        }
       }
      }
     },
     "metadata": {},
     "output_type": "display_data"
    }
   ],
   "source": [
    "px.scatter(df4, x=\"LSR_LOC_PER_AREA\", y=\"OFF_LSRT_TIME_MEAN\", color=\"ANSWRR_OC_AREA_NM\", size='NUM_OF_LSR_LOC')"
   ]
  },
  {
   "cell_type": "code",
   "execution_count": 873,
   "metadata": {},
   "outputs": [
    {
     "data": {
      "application/vnd.plotly.v1+json": {
       "config": {
        "plotlyServerURL": "https://plot.ly"
       },
       "data": [
        {
         "coloraxis": "coloraxis",
         "hovertemplate": "x: %{x}<br>y: %{y}<br>color: %{z}<extra></extra>",
         "name": "0",
         "texttemplate": "%{z}",
         "type": "heatmap",
         "x": [
          "LSR_LOC_PER_AREA",
          "OFF_LSRT_TIME_MEAN"
         ],
         "xaxis": "x",
         "y": [
          "LSR_LOC_PER_AREA",
          "OFF_LSRT_TIME_MEAN"
         ],
         "yaxis": "y",
         "z": [
          [
           1,
           0.5245349646958575
          ],
          [
           0.5245349646958575,
           1
          ]
         ]
        }
       ],
       "layout": {
        "coloraxis": {
         "cmid": 0,
         "colorscale": [
          [
           0,
           "rgb(103,0,31)"
          ],
          [
           0.1,
           "rgb(178,24,43)"
          ],
          [
           0.2,
           "rgb(214,96,77)"
          ],
          [
           0.3,
           "rgb(244,165,130)"
          ],
          [
           0.4,
           "rgb(253,219,199)"
          ],
          [
           0.5,
           "rgb(247,247,247)"
          ],
          [
           0.6,
           "rgb(209,229,240)"
          ],
          [
           0.7,
           "rgb(146,197,222)"
          ],
          [
           0.8,
           "rgb(67,147,195)"
          ],
          [
           0.9,
           "rgb(33,102,172)"
          ],
          [
           1,
           "rgb(5,48,97)"
          ]
         ]
        },
        "height": 500,
        "template": {
         "data": {
          "bar": [
           {
            "error_x": {
             "color": "#2a3f5f"
            },
            "error_y": {
             "color": "#2a3f5f"
            },
            "marker": {
             "line": {
              "color": "#E5ECF6",
              "width": 0.5
             },
             "pattern": {
              "fillmode": "overlay",
              "size": 10,
              "solidity": 0.2
             }
            },
            "type": "bar"
           }
          ],
          "barpolar": [
           {
            "marker": {
             "line": {
              "color": "#E5ECF6",
              "width": 0.5
             },
             "pattern": {
              "fillmode": "overlay",
              "size": 10,
              "solidity": 0.2
             }
            },
            "type": "barpolar"
           }
          ],
          "carpet": [
           {
            "aaxis": {
             "endlinecolor": "#2a3f5f",
             "gridcolor": "white",
             "linecolor": "white",
             "minorgridcolor": "white",
             "startlinecolor": "#2a3f5f"
            },
            "baxis": {
             "endlinecolor": "#2a3f5f",
             "gridcolor": "white",
             "linecolor": "white",
             "minorgridcolor": "white",
             "startlinecolor": "#2a3f5f"
            },
            "type": "carpet"
           }
          ],
          "choropleth": [
           {
            "colorbar": {
             "outlinewidth": 0,
             "ticks": ""
            },
            "type": "choropleth"
           }
          ],
          "contour": [
           {
            "colorbar": {
             "outlinewidth": 0,
             "ticks": ""
            },
            "colorscale": [
             [
              0,
              "#0d0887"
             ],
             [
              0.1111111111111111,
              "#46039f"
             ],
             [
              0.2222222222222222,
              "#7201a8"
             ],
             [
              0.3333333333333333,
              "#9c179e"
             ],
             [
              0.4444444444444444,
              "#bd3786"
             ],
             [
              0.5555555555555556,
              "#d8576b"
             ],
             [
              0.6666666666666666,
              "#ed7953"
             ],
             [
              0.7777777777777778,
              "#fb9f3a"
             ],
             [
              0.8888888888888888,
              "#fdca26"
             ],
             [
              1,
              "#f0f921"
             ]
            ],
            "type": "contour"
           }
          ],
          "contourcarpet": [
           {
            "colorbar": {
             "outlinewidth": 0,
             "ticks": ""
            },
            "type": "contourcarpet"
           }
          ],
          "heatmap": [
           {
            "colorbar": {
             "outlinewidth": 0,
             "ticks": ""
            },
            "colorscale": [
             [
              0,
              "#0d0887"
             ],
             [
              0.1111111111111111,
              "#46039f"
             ],
             [
              0.2222222222222222,
              "#7201a8"
             ],
             [
              0.3333333333333333,
              "#9c179e"
             ],
             [
              0.4444444444444444,
              "#bd3786"
             ],
             [
              0.5555555555555556,
              "#d8576b"
             ],
             [
              0.6666666666666666,
              "#ed7953"
             ],
             [
              0.7777777777777778,
              "#fb9f3a"
             ],
             [
              0.8888888888888888,
              "#fdca26"
             ],
             [
              1,
              "#f0f921"
             ]
            ],
            "type": "heatmap"
           }
          ],
          "heatmapgl": [
           {
            "colorbar": {
             "outlinewidth": 0,
             "ticks": ""
            },
            "colorscale": [
             [
              0,
              "#0d0887"
             ],
             [
              0.1111111111111111,
              "#46039f"
             ],
             [
              0.2222222222222222,
              "#7201a8"
             ],
             [
              0.3333333333333333,
              "#9c179e"
             ],
             [
              0.4444444444444444,
              "#bd3786"
             ],
             [
              0.5555555555555556,
              "#d8576b"
             ],
             [
              0.6666666666666666,
              "#ed7953"
             ],
             [
              0.7777777777777778,
              "#fb9f3a"
             ],
             [
              0.8888888888888888,
              "#fdca26"
             ],
             [
              1,
              "#f0f921"
             ]
            ],
            "type": "heatmapgl"
           }
          ],
          "histogram": [
           {
            "marker": {
             "pattern": {
              "fillmode": "overlay",
              "size": 10,
              "solidity": 0.2
             }
            },
            "type": "histogram"
           }
          ],
          "histogram2d": [
           {
            "colorbar": {
             "outlinewidth": 0,
             "ticks": ""
            },
            "colorscale": [
             [
              0,
              "#0d0887"
             ],
             [
              0.1111111111111111,
              "#46039f"
             ],
             [
              0.2222222222222222,
              "#7201a8"
             ],
             [
              0.3333333333333333,
              "#9c179e"
             ],
             [
              0.4444444444444444,
              "#bd3786"
             ],
             [
              0.5555555555555556,
              "#d8576b"
             ],
             [
              0.6666666666666666,
              "#ed7953"
             ],
             [
              0.7777777777777778,
              "#fb9f3a"
             ],
             [
              0.8888888888888888,
              "#fdca26"
             ],
             [
              1,
              "#f0f921"
             ]
            ],
            "type": "histogram2d"
           }
          ],
          "histogram2dcontour": [
           {
            "colorbar": {
             "outlinewidth": 0,
             "ticks": ""
            },
            "colorscale": [
             [
              0,
              "#0d0887"
             ],
             [
              0.1111111111111111,
              "#46039f"
             ],
             [
              0.2222222222222222,
              "#7201a8"
             ],
             [
              0.3333333333333333,
              "#9c179e"
             ],
             [
              0.4444444444444444,
              "#bd3786"
             ],
             [
              0.5555555555555556,
              "#d8576b"
             ],
             [
              0.6666666666666666,
              "#ed7953"
             ],
             [
              0.7777777777777778,
              "#fb9f3a"
             ],
             [
              0.8888888888888888,
              "#fdca26"
             ],
             [
              1,
              "#f0f921"
             ]
            ],
            "type": "histogram2dcontour"
           }
          ],
          "mesh3d": [
           {
            "colorbar": {
             "outlinewidth": 0,
             "ticks": ""
            },
            "type": "mesh3d"
           }
          ],
          "parcoords": [
           {
            "line": {
             "colorbar": {
              "outlinewidth": 0,
              "ticks": ""
             }
            },
            "type": "parcoords"
           }
          ],
          "pie": [
           {
            "automargin": true,
            "type": "pie"
           }
          ],
          "scatter": [
           {
            "fillpattern": {
             "fillmode": "overlay",
             "size": 10,
             "solidity": 0.2
            },
            "type": "scatter"
           }
          ],
          "scatter3d": [
           {
            "line": {
             "colorbar": {
              "outlinewidth": 0,
              "ticks": ""
             }
            },
            "marker": {
             "colorbar": {
              "outlinewidth": 0,
              "ticks": ""
             }
            },
            "type": "scatter3d"
           }
          ],
          "scattercarpet": [
           {
            "marker": {
             "colorbar": {
              "outlinewidth": 0,
              "ticks": ""
             }
            },
            "type": "scattercarpet"
           }
          ],
          "scattergeo": [
           {
            "marker": {
             "colorbar": {
              "outlinewidth": 0,
              "ticks": ""
             }
            },
            "type": "scattergeo"
           }
          ],
          "scattergl": [
           {
            "marker": {
             "colorbar": {
              "outlinewidth": 0,
              "ticks": ""
             }
            },
            "type": "scattergl"
           }
          ],
          "scattermapbox": [
           {
            "marker": {
             "colorbar": {
              "outlinewidth": 0,
              "ticks": ""
             }
            },
            "type": "scattermapbox"
           }
          ],
          "scatterpolar": [
           {
            "marker": {
             "colorbar": {
              "outlinewidth": 0,
              "ticks": ""
             }
            },
            "type": "scatterpolar"
           }
          ],
          "scatterpolargl": [
           {
            "marker": {
             "colorbar": {
              "outlinewidth": 0,
              "ticks": ""
             }
            },
            "type": "scatterpolargl"
           }
          ],
          "scatterternary": [
           {
            "marker": {
             "colorbar": {
              "outlinewidth": 0,
              "ticks": ""
             }
            },
            "type": "scatterternary"
           }
          ],
          "surface": [
           {
            "colorbar": {
             "outlinewidth": 0,
             "ticks": ""
            },
            "colorscale": [
             [
              0,
              "#0d0887"
             ],
             [
              0.1111111111111111,
              "#46039f"
             ],
             [
              0.2222222222222222,
              "#7201a8"
             ],
             [
              0.3333333333333333,
              "#9c179e"
             ],
             [
              0.4444444444444444,
              "#bd3786"
             ],
             [
              0.5555555555555556,
              "#d8576b"
             ],
             [
              0.6666666666666666,
              "#ed7953"
             ],
             [
              0.7777777777777778,
              "#fb9f3a"
             ],
             [
              0.8888888888888888,
              "#fdca26"
             ],
             [
              1,
              "#f0f921"
             ]
            ],
            "type": "surface"
           }
          ],
          "table": [
           {
            "cells": {
             "fill": {
              "color": "#EBF0F8"
             },
             "line": {
              "color": "white"
             }
            },
            "header": {
             "fill": {
              "color": "#C8D4E3"
             },
             "line": {
              "color": "white"
             }
            },
            "type": "table"
           }
          ]
         },
         "layout": {
          "annotationdefaults": {
           "arrowcolor": "#2a3f5f",
           "arrowhead": 0,
           "arrowwidth": 1
          },
          "autotypenumbers": "strict",
          "coloraxis": {
           "colorbar": {
            "outlinewidth": 0,
            "ticks": ""
           }
          },
          "colorscale": {
           "diverging": [
            [
             0,
             "#8e0152"
            ],
            [
             0.1,
             "#c51b7d"
            ],
            [
             0.2,
             "#de77ae"
            ],
            [
             0.3,
             "#f1b6da"
            ],
            [
             0.4,
             "#fde0ef"
            ],
            [
             0.5,
             "#f7f7f7"
            ],
            [
             0.6,
             "#e6f5d0"
            ],
            [
             0.7,
             "#b8e186"
            ],
            [
             0.8,
             "#7fbc41"
            ],
            [
             0.9,
             "#4d9221"
            ],
            [
             1,
             "#276419"
            ]
           ],
           "sequential": [
            [
             0,
             "#0d0887"
            ],
            [
             0.1111111111111111,
             "#46039f"
            ],
            [
             0.2222222222222222,
             "#7201a8"
            ],
            [
             0.3333333333333333,
             "#9c179e"
            ],
            [
             0.4444444444444444,
             "#bd3786"
            ],
            [
             0.5555555555555556,
             "#d8576b"
            ],
            [
             0.6666666666666666,
             "#ed7953"
            ],
            [
             0.7777777777777778,
             "#fb9f3a"
            ],
            [
             0.8888888888888888,
             "#fdca26"
            ],
            [
             1,
             "#f0f921"
            ]
           ],
           "sequentialminus": [
            [
             0,
             "#0d0887"
            ],
            [
             0.1111111111111111,
             "#46039f"
            ],
            [
             0.2222222222222222,
             "#7201a8"
            ],
            [
             0.3333333333333333,
             "#9c179e"
            ],
            [
             0.4444444444444444,
             "#bd3786"
            ],
            [
             0.5555555555555556,
             "#d8576b"
            ],
            [
             0.6666666666666666,
             "#ed7953"
            ],
            [
             0.7777777777777778,
             "#fb9f3a"
            ],
            [
             0.8888888888888888,
             "#fdca26"
            ],
            [
             1,
             "#f0f921"
            ]
           ]
          },
          "colorway": [
           "#636efa",
           "#EF553B",
           "#00cc96",
           "#ab63fa",
           "#FFA15A",
           "#19d3f3",
           "#FF6692",
           "#B6E880",
           "#FF97FF",
           "#FECB52"
          ],
          "font": {
           "color": "#2a3f5f"
          },
          "geo": {
           "bgcolor": "white",
           "lakecolor": "white",
           "landcolor": "#E5ECF6",
           "showlakes": true,
           "showland": true,
           "subunitcolor": "white"
          },
          "hoverlabel": {
           "align": "left"
          },
          "hovermode": "closest",
          "mapbox": {
           "style": "light"
          },
          "paper_bgcolor": "white",
          "plot_bgcolor": "#E5ECF6",
          "polar": {
           "angularaxis": {
            "gridcolor": "white",
            "linecolor": "white",
            "ticks": ""
           },
           "bgcolor": "#E5ECF6",
           "radialaxis": {
            "gridcolor": "white",
            "linecolor": "white",
            "ticks": ""
           }
          },
          "scene": {
           "xaxis": {
            "backgroundcolor": "#E5ECF6",
            "gridcolor": "white",
            "gridwidth": 2,
            "linecolor": "white",
            "showbackground": true,
            "ticks": "",
            "zerolinecolor": "white"
           },
           "yaxis": {
            "backgroundcolor": "#E5ECF6",
            "gridcolor": "white",
            "gridwidth": 2,
            "linecolor": "white",
            "showbackground": true,
            "ticks": "",
            "zerolinecolor": "white"
           },
           "zaxis": {
            "backgroundcolor": "#E5ECF6",
            "gridcolor": "white",
            "gridwidth": 2,
            "linecolor": "white",
            "showbackground": true,
            "ticks": "",
            "zerolinecolor": "white"
           }
          },
          "shapedefaults": {
           "line": {
            "color": "#2a3f5f"
           }
          },
          "ternary": {
           "aaxis": {
            "gridcolor": "white",
            "linecolor": "white",
            "ticks": ""
           },
           "baxis": {
            "gridcolor": "white",
            "linecolor": "white",
            "ticks": ""
           },
           "bgcolor": "#E5ECF6",
           "caxis": {
            "gridcolor": "white",
            "linecolor": "white",
            "ticks": ""
           }
          },
          "title": {
           "x": 0.05
          },
          "xaxis": {
           "automargin": true,
           "gridcolor": "white",
           "linecolor": "white",
           "ticks": "",
           "title": {
            "standoff": 15
           },
           "zerolinecolor": "white",
           "zerolinewidth": 2
          },
          "yaxis": {
           "automargin": true,
           "gridcolor": "white",
           "linecolor": "white",
           "ticks": "",
           "title": {
            "standoff": 15
           },
           "zerolinecolor": "white",
           "zerolinewidth": 2
          }
         }
        },
        "title": {
         "text": "레저 사업장의 개수와 비수기의 여가 활동 시간에 대한 상관관계분석"
        },
        "xaxis": {
         "anchor": "y",
         "constrain": "domain",
         "domain": [
          0,
          1
         ],
         "scaleanchor": "y"
        },
        "yaxis": {
         "anchor": "x",
         "autorange": "reversed",
         "constrain": "domain",
         "domain": [
          0,
          1
         ]
        }
       }
      }
     },
     "metadata": {},
     "output_type": "display_data"
    }
   ],
   "source": [
    "px.imshow(df4[[\"LSR_LOC_PER_AREA\", \"OFF_LSRT_TIME_MEAN\"]].corr(),\n",
    "                color_continuous_scale = px.colors.diverging.RdBu, text_auto=True,\n",
    "                color_continuous_midpoint = 0, height = 500,\n",
    "                title = \"레저 사업장의 개수와 비수기의 여가 활동 시간에 대한 상관관계분석\")"
   ]
  },
  {
   "cell_type": "code",
   "execution_count": 874,
   "metadata": {},
   "outputs": [
    {
     "data": {
      "text/plain": [
       "0.030644571304248178"
      ]
     },
     "execution_count": 874,
     "metadata": {},
     "output_type": "execute_result"
    }
   ],
   "source": [
    "stats.pearsonr(df4.LSR_LOC_PER_AREA.values, df4.OFF_LSRT_TIME_MEAN.values)[1] # p-value로 상관 계수의 유효성 파악"
   ]
  },
  {
   "attachments": {},
   "cell_type": "markdown",
   "metadata": {},
   "source": [
    "위의 그래프를 보면 일반적으로 x축의 값(레저 사업장의 개수)이 증가할수록 y축의 값(비수기 여가 활동 시간)도 증가하는 경향을 보인다. </br>\n",
    "상관계수를 구했을 때 0.52453로 0보다 큰 값을 가지므로 양의 상관관계를 가지며, p-value가 0.03064로 0.05보다 작은 값이기 때문에, 해당 상관계수는 의미를 가진다. </br>\n",
    "\n",
    "\n",
    "따라서 분석결과 레저 사업장의 개수가 많을수록 비수기의 여가 활동 시간도 늘어난다고 할 수 있다."
   ]
  },
  {
   "attachments": {},
   "cell_type": "markdown",
   "metadata": {},
   "source": [
    "그러나, 제주특별자치도민의 경우 해당 지역에 서울특별시 다음으로 면적당 지역 사업장의 개수가 많음에도 불구하고 비수기에 여가 활동을 거의 하지 않는 것으로 보여진다. </br>\n",
    "이에 대한 원인이 무엇인지에 대해서는 별도의 추가적인 분석이 필요하다."
   ]
  },
  {
   "attachments": {},
   "cell_type": "markdown",
   "metadata": {},
   "source": [
    "#### 제주도 원인 분석"
   ]
  },
  {
   "cell_type": "code",
   "execution_count": 894,
   "metadata": {},
   "outputs": [],
   "source": [
    "df_jeju = df_stf_1[df_stf_1[\"ANSWRR_OC_AREA_NM\"]==\"제주특별자치도\"]\n",
    "df_seoul = df_stf_1[df_stf_1[\"ANSWRR_OC_AREA_NM\"]==\"서울특별시\"][[\"ANSWRR_OC_AREA_NM\", \"INFO_SUFNCY_SATSFC_DGREE_NUM\", \"INFO_SUFNCY_SATSFC_DGREE_VALUE\"]]"
   ]
  },
  {
   "cell_type": "code",
   "execution_count": 923,
   "metadata": {},
   "outputs": [
    {
     "data": {
      "application/vnd.plotly.v1+json": {
       "config": {
        "plotlyServerURL": "https://plot.ly"
       },
       "data": [
        {
         "alignmentgroup": "True",
         "hovertemplate": "SURVERY_QUE=%{x}<br>ANS_MEAN=%{text}<extra></extra>",
         "legendgroup": "ECNM_MRGN_SATSFC_DGREE_NUM",
         "marker": {
          "color": "#636efa",
          "pattern": {
           "shape": ""
          }
         },
         "name": "ECNM_MRGN_SATSFC_DGREE_NUM",
         "offsetgroup": "ECNM_MRGN_SATSFC_DGREE_NUM",
         "orientation": "v",
         "showlegend": true,
         "text": [
          2.9313984168865437
         ],
         "textposition": "auto",
         "type": "bar",
         "x": [
          "ECNM_MRGN_SATSFC_DGREE_NUM"
         ],
         "xaxis": "x",
         "y": [
          2.9313984168865437
         ],
         "yaxis": "y"
        },
        {
         "alignmentgroup": "True",
         "hovertemplate": "SURVERY_QUE=%{x}<br>ANS_MEAN=%{text}<extra></extra>",
         "legendgroup": "INFRA_ND_FCLTY_SATSFC_DGREE_NUM",
         "marker": {
          "color": "#EF553B",
          "pattern": {
           "shape": ""
          }
         },
         "name": "INFRA_ND_FCLTY_SATSFC_DGREE_NUM",
         "offsetgroup": "INFRA_ND_FCLTY_SATSFC_DGREE_NUM",
         "orientation": "v",
         "showlegend": true,
         "text": [
          3.0237467018469655
         ],
         "textposition": "auto",
         "type": "bar",
         "x": [
          "INFRA_ND_FCLTY_SATSFC_DGREE_NUM"
         ],
         "xaxis": "x",
         "y": [
          3.0237467018469655
         ],
         "yaxis": "y"
        },
        {
         "alignmentgroup": "True",
         "hovertemplate": "SURVERY_QUE=%{x}<br>ANS_MEAN=%{text}<extra></extra>",
         "legendgroup": "TIME_SUFNCY_SATSFC_DGREE_NUM",
         "marker": {
          "color": "#00cc96",
          "pattern": {
           "shape": ""
          }
         },
         "name": "TIME_SUFNCY_SATSFC_DGREE_NUM",
         "offsetgroup": "TIME_SUFNCY_SATSFC_DGREE_NUM",
         "orientation": "v",
         "showlegend": true,
         "text": [
          3.1451187335092348
         ],
         "textposition": "auto",
         "type": "bar",
         "x": [
          "TIME_SUFNCY_SATSFC_DGREE_NUM"
         ],
         "xaxis": "x",
         "y": [
          3.1451187335092348
         ],
         "yaxis": "y"
        },
        {
         "alignmentgroup": "True",
         "hovertemplate": "SURVERY_QUE=%{x}<br>ANS_MEAN=%{text}<extra></extra>",
         "legendgroup": "INFO_SUFNCY_SATSFC_DGREE_NUM",
         "marker": {
          "color": "#ab63fa",
          "pattern": {
           "shape": ""
          }
         },
         "name": "INFO_SUFNCY_SATSFC_DGREE_NUM",
         "offsetgroup": "INFO_SUFNCY_SATSFC_DGREE_NUM",
         "orientation": "v",
         "showlegend": true,
         "text": [
          3.229551451187335
         ],
         "textposition": "auto",
         "type": "bar",
         "x": [
          "INFO_SUFNCY_SATSFC_DGREE_NUM"
         ],
         "xaxis": "x",
         "y": [
          3.229551451187335
         ],
         "yaxis": "y"
        },
        {
         "alignmentgroup": "True",
         "hovertemplate": "SURVERY_QUE=%{x}<br>ANS_MEAN=%{text}<extra></extra>",
         "legendgroup": "LSR_LVLH_WHOLE_SATSFC_DGREE_NUM",
         "marker": {
          "color": "#FFA15A",
          "pattern": {
           "shape": ""
          }
         },
         "name": "LSR_LVLH_WHOLE_SATSFC_DGREE_NUM",
         "offsetgroup": "LSR_LVLH_WHOLE_SATSFC_DGREE_NUM",
         "orientation": "v",
         "showlegend": true,
         "text": [
          3.287598944591029
         ],
         "textposition": "auto",
         "type": "bar",
         "x": [
          "LSR_LVLH_WHOLE_SATSFC_DGREE_NUM"
         ],
         "xaxis": "x",
         "y": [
          3.287598944591029
         ],
         "yaxis": "y"
        }
       ],
       "layout": {
        "barmode": "relative",
        "legend": {
         "title": {
          "text": "SURVERY_QUE"
         },
         "tracegroupgap": 0
        },
        "margin": {
         "t": 60
        },
        "template": {
         "data": {
          "bar": [
           {
            "error_x": {
             "color": "#2a3f5f"
            },
            "error_y": {
             "color": "#2a3f5f"
            },
            "marker": {
             "line": {
              "color": "#E5ECF6",
              "width": 0.5
             },
             "pattern": {
              "fillmode": "overlay",
              "size": 10,
              "solidity": 0.2
             }
            },
            "type": "bar"
           }
          ],
          "barpolar": [
           {
            "marker": {
             "line": {
              "color": "#E5ECF6",
              "width": 0.5
             },
             "pattern": {
              "fillmode": "overlay",
              "size": 10,
              "solidity": 0.2
             }
            },
            "type": "barpolar"
           }
          ],
          "carpet": [
           {
            "aaxis": {
             "endlinecolor": "#2a3f5f",
             "gridcolor": "white",
             "linecolor": "white",
             "minorgridcolor": "white",
             "startlinecolor": "#2a3f5f"
            },
            "baxis": {
             "endlinecolor": "#2a3f5f",
             "gridcolor": "white",
             "linecolor": "white",
             "minorgridcolor": "white",
             "startlinecolor": "#2a3f5f"
            },
            "type": "carpet"
           }
          ],
          "choropleth": [
           {
            "colorbar": {
             "outlinewidth": 0,
             "ticks": ""
            },
            "type": "choropleth"
           }
          ],
          "contour": [
           {
            "colorbar": {
             "outlinewidth": 0,
             "ticks": ""
            },
            "colorscale": [
             [
              0,
              "#0d0887"
             ],
             [
              0.1111111111111111,
              "#46039f"
             ],
             [
              0.2222222222222222,
              "#7201a8"
             ],
             [
              0.3333333333333333,
              "#9c179e"
             ],
             [
              0.4444444444444444,
              "#bd3786"
             ],
             [
              0.5555555555555556,
              "#d8576b"
             ],
             [
              0.6666666666666666,
              "#ed7953"
             ],
             [
              0.7777777777777778,
              "#fb9f3a"
             ],
             [
              0.8888888888888888,
              "#fdca26"
             ],
             [
              1,
              "#f0f921"
             ]
            ],
            "type": "contour"
           }
          ],
          "contourcarpet": [
           {
            "colorbar": {
             "outlinewidth": 0,
             "ticks": ""
            },
            "type": "contourcarpet"
           }
          ],
          "heatmap": [
           {
            "colorbar": {
             "outlinewidth": 0,
             "ticks": ""
            },
            "colorscale": [
             [
              0,
              "#0d0887"
             ],
             [
              0.1111111111111111,
              "#46039f"
             ],
             [
              0.2222222222222222,
              "#7201a8"
             ],
             [
              0.3333333333333333,
              "#9c179e"
             ],
             [
              0.4444444444444444,
              "#bd3786"
             ],
             [
              0.5555555555555556,
              "#d8576b"
             ],
             [
              0.6666666666666666,
              "#ed7953"
             ],
             [
              0.7777777777777778,
              "#fb9f3a"
             ],
             [
              0.8888888888888888,
              "#fdca26"
             ],
             [
              1,
              "#f0f921"
             ]
            ],
            "type": "heatmap"
           }
          ],
          "heatmapgl": [
           {
            "colorbar": {
             "outlinewidth": 0,
             "ticks": ""
            },
            "colorscale": [
             [
              0,
              "#0d0887"
             ],
             [
              0.1111111111111111,
              "#46039f"
             ],
             [
              0.2222222222222222,
              "#7201a8"
             ],
             [
              0.3333333333333333,
              "#9c179e"
             ],
             [
              0.4444444444444444,
              "#bd3786"
             ],
             [
              0.5555555555555556,
              "#d8576b"
             ],
             [
              0.6666666666666666,
              "#ed7953"
             ],
             [
              0.7777777777777778,
              "#fb9f3a"
             ],
             [
              0.8888888888888888,
              "#fdca26"
             ],
             [
              1,
              "#f0f921"
             ]
            ],
            "type": "heatmapgl"
           }
          ],
          "histogram": [
           {
            "marker": {
             "pattern": {
              "fillmode": "overlay",
              "size": 10,
              "solidity": 0.2
             }
            },
            "type": "histogram"
           }
          ],
          "histogram2d": [
           {
            "colorbar": {
             "outlinewidth": 0,
             "ticks": ""
            },
            "colorscale": [
             [
              0,
              "#0d0887"
             ],
             [
              0.1111111111111111,
              "#46039f"
             ],
             [
              0.2222222222222222,
              "#7201a8"
             ],
             [
              0.3333333333333333,
              "#9c179e"
             ],
             [
              0.4444444444444444,
              "#bd3786"
             ],
             [
              0.5555555555555556,
              "#d8576b"
             ],
             [
              0.6666666666666666,
              "#ed7953"
             ],
             [
              0.7777777777777778,
              "#fb9f3a"
             ],
             [
              0.8888888888888888,
              "#fdca26"
             ],
             [
              1,
              "#f0f921"
             ]
            ],
            "type": "histogram2d"
           }
          ],
          "histogram2dcontour": [
           {
            "colorbar": {
             "outlinewidth": 0,
             "ticks": ""
            },
            "colorscale": [
             [
              0,
              "#0d0887"
             ],
             [
              0.1111111111111111,
              "#46039f"
             ],
             [
              0.2222222222222222,
              "#7201a8"
             ],
             [
              0.3333333333333333,
              "#9c179e"
             ],
             [
              0.4444444444444444,
              "#bd3786"
             ],
             [
              0.5555555555555556,
              "#d8576b"
             ],
             [
              0.6666666666666666,
              "#ed7953"
             ],
             [
              0.7777777777777778,
              "#fb9f3a"
             ],
             [
              0.8888888888888888,
              "#fdca26"
             ],
             [
              1,
              "#f0f921"
             ]
            ],
            "type": "histogram2dcontour"
           }
          ],
          "mesh3d": [
           {
            "colorbar": {
             "outlinewidth": 0,
             "ticks": ""
            },
            "type": "mesh3d"
           }
          ],
          "parcoords": [
           {
            "line": {
             "colorbar": {
              "outlinewidth": 0,
              "ticks": ""
             }
            },
            "type": "parcoords"
           }
          ],
          "pie": [
           {
            "automargin": true,
            "type": "pie"
           }
          ],
          "scatter": [
           {
            "fillpattern": {
             "fillmode": "overlay",
             "size": 10,
             "solidity": 0.2
            },
            "type": "scatter"
           }
          ],
          "scatter3d": [
           {
            "line": {
             "colorbar": {
              "outlinewidth": 0,
              "ticks": ""
             }
            },
            "marker": {
             "colorbar": {
              "outlinewidth": 0,
              "ticks": ""
             }
            },
            "type": "scatter3d"
           }
          ],
          "scattercarpet": [
           {
            "marker": {
             "colorbar": {
              "outlinewidth": 0,
              "ticks": ""
             }
            },
            "type": "scattercarpet"
           }
          ],
          "scattergeo": [
           {
            "marker": {
             "colorbar": {
              "outlinewidth": 0,
              "ticks": ""
             }
            },
            "type": "scattergeo"
           }
          ],
          "scattergl": [
           {
            "marker": {
             "colorbar": {
              "outlinewidth": 0,
              "ticks": ""
             }
            },
            "type": "scattergl"
           }
          ],
          "scattermapbox": [
           {
            "marker": {
             "colorbar": {
              "outlinewidth": 0,
              "ticks": ""
             }
            },
            "type": "scattermapbox"
           }
          ],
          "scatterpolar": [
           {
            "marker": {
             "colorbar": {
              "outlinewidth": 0,
              "ticks": ""
             }
            },
            "type": "scatterpolar"
           }
          ],
          "scatterpolargl": [
           {
            "marker": {
             "colorbar": {
              "outlinewidth": 0,
              "ticks": ""
             }
            },
            "type": "scatterpolargl"
           }
          ],
          "scatterternary": [
           {
            "marker": {
             "colorbar": {
              "outlinewidth": 0,
              "ticks": ""
             }
            },
            "type": "scatterternary"
           }
          ],
          "surface": [
           {
            "colorbar": {
             "outlinewidth": 0,
             "ticks": ""
            },
            "colorscale": [
             [
              0,
              "#0d0887"
             ],
             [
              0.1111111111111111,
              "#46039f"
             ],
             [
              0.2222222222222222,
              "#7201a8"
             ],
             [
              0.3333333333333333,
              "#9c179e"
             ],
             [
              0.4444444444444444,
              "#bd3786"
             ],
             [
              0.5555555555555556,
              "#d8576b"
             ],
             [
              0.6666666666666666,
              "#ed7953"
             ],
             [
              0.7777777777777778,
              "#fb9f3a"
             ],
             [
              0.8888888888888888,
              "#fdca26"
             ],
             [
              1,
              "#f0f921"
             ]
            ],
            "type": "surface"
           }
          ],
          "table": [
           {
            "cells": {
             "fill": {
              "color": "#EBF0F8"
             },
             "line": {
              "color": "white"
             }
            },
            "header": {
             "fill": {
              "color": "#C8D4E3"
             },
             "line": {
              "color": "white"
             }
            },
            "type": "table"
           }
          ]
         },
         "layout": {
          "annotationdefaults": {
           "arrowcolor": "#2a3f5f",
           "arrowhead": 0,
           "arrowwidth": 1
          },
          "autotypenumbers": "strict",
          "coloraxis": {
           "colorbar": {
            "outlinewidth": 0,
            "ticks": ""
           }
          },
          "colorscale": {
           "diverging": [
            [
             0,
             "#8e0152"
            ],
            [
             0.1,
             "#c51b7d"
            ],
            [
             0.2,
             "#de77ae"
            ],
            [
             0.3,
             "#f1b6da"
            ],
            [
             0.4,
             "#fde0ef"
            ],
            [
             0.5,
             "#f7f7f7"
            ],
            [
             0.6,
             "#e6f5d0"
            ],
            [
             0.7,
             "#b8e186"
            ],
            [
             0.8,
             "#7fbc41"
            ],
            [
             0.9,
             "#4d9221"
            ],
            [
             1,
             "#276419"
            ]
           ],
           "sequential": [
            [
             0,
             "#0d0887"
            ],
            [
             0.1111111111111111,
             "#46039f"
            ],
            [
             0.2222222222222222,
             "#7201a8"
            ],
            [
             0.3333333333333333,
             "#9c179e"
            ],
            [
             0.4444444444444444,
             "#bd3786"
            ],
            [
             0.5555555555555556,
             "#d8576b"
            ],
            [
             0.6666666666666666,
             "#ed7953"
            ],
            [
             0.7777777777777778,
             "#fb9f3a"
            ],
            [
             0.8888888888888888,
             "#fdca26"
            ],
            [
             1,
             "#f0f921"
            ]
           ],
           "sequentialminus": [
            [
             0,
             "#0d0887"
            ],
            [
             0.1111111111111111,
             "#46039f"
            ],
            [
             0.2222222222222222,
             "#7201a8"
            ],
            [
             0.3333333333333333,
             "#9c179e"
            ],
            [
             0.4444444444444444,
             "#bd3786"
            ],
            [
             0.5555555555555556,
             "#d8576b"
            ],
            [
             0.6666666666666666,
             "#ed7953"
            ],
            [
             0.7777777777777778,
             "#fb9f3a"
            ],
            [
             0.8888888888888888,
             "#fdca26"
            ],
            [
             1,
             "#f0f921"
            ]
           ]
          },
          "colorway": [
           "#636efa",
           "#EF553B",
           "#00cc96",
           "#ab63fa",
           "#FFA15A",
           "#19d3f3",
           "#FF6692",
           "#B6E880",
           "#FF97FF",
           "#FECB52"
          ],
          "font": {
           "color": "#2a3f5f"
          },
          "geo": {
           "bgcolor": "white",
           "lakecolor": "white",
           "landcolor": "#E5ECF6",
           "showlakes": true,
           "showland": true,
           "subunitcolor": "white"
          },
          "hoverlabel": {
           "align": "left"
          },
          "hovermode": "closest",
          "mapbox": {
           "style": "light"
          },
          "paper_bgcolor": "white",
          "plot_bgcolor": "#E5ECF6",
          "polar": {
           "angularaxis": {
            "gridcolor": "white",
            "linecolor": "white",
            "ticks": ""
           },
           "bgcolor": "#E5ECF6",
           "radialaxis": {
            "gridcolor": "white",
            "linecolor": "white",
            "ticks": ""
           }
          },
          "scene": {
           "xaxis": {
            "backgroundcolor": "#E5ECF6",
            "gridcolor": "white",
            "gridwidth": 2,
            "linecolor": "white",
            "showbackground": true,
            "ticks": "",
            "zerolinecolor": "white"
           },
           "yaxis": {
            "backgroundcolor": "#E5ECF6",
            "gridcolor": "white",
            "gridwidth": 2,
            "linecolor": "white",
            "showbackground": true,
            "ticks": "",
            "zerolinecolor": "white"
           },
           "zaxis": {
            "backgroundcolor": "#E5ECF6",
            "gridcolor": "white",
            "gridwidth": 2,
            "linecolor": "white",
            "showbackground": true,
            "ticks": "",
            "zerolinecolor": "white"
           }
          },
          "shapedefaults": {
           "line": {
            "color": "#2a3f5f"
           }
          },
          "ternary": {
           "aaxis": {
            "gridcolor": "white",
            "linecolor": "white",
            "ticks": ""
           },
           "baxis": {
            "gridcolor": "white",
            "linecolor": "white",
            "ticks": ""
           },
           "bgcolor": "#E5ECF6",
           "caxis": {
            "gridcolor": "white",
            "linecolor": "white",
            "ticks": ""
           }
          },
          "title": {
           "x": 0.05
          },
          "xaxis": {
           "automargin": true,
           "gridcolor": "white",
           "linecolor": "white",
           "ticks": "",
           "title": {
            "standoff": 15
           },
           "zerolinecolor": "white",
           "zerolinewidth": 2
          },
          "yaxis": {
           "automargin": true,
           "gridcolor": "white",
           "linecolor": "white",
           "ticks": "",
           "title": {
            "standoff": 15
           },
           "zerolinecolor": "white",
           "zerolinewidth": 2
          }
         }
        },
        "xaxis": {
         "anchor": "y",
         "categoryarray": [
          "ECNM_MRGN_SATSFC_DGREE_NUM",
          "INFRA_ND_FCLTY_SATSFC_DGREE_NUM",
          "TIME_SUFNCY_SATSFC_DGREE_NUM",
          "INFO_SUFNCY_SATSFC_DGREE_NUM",
          "LSR_LVLH_WHOLE_SATSFC_DGREE_NUM"
         ],
         "categoryorder": "array",
         "domain": [
          0,
          1
         ],
         "title": {
          "text": "SURVERY_QUE"
         }
        },
        "yaxis": {
         "anchor": "x",
         "domain": [
          0,
          1
         ],
         "title": {
          "text": "ANS_MEAN"
         }
        }
       }
      }
     },
     "metadata": {},
     "output_type": "display_data"
    }
   ],
   "source": [
    "df5 = df_jeju[[\"TIME_SUFNCY_SATSFC_DGREE_NUM\", \"INFRA_ND_FCLTY_SATSFC_DGREE_NUM\", \"ECNM_MRGN_SATSFC_DGREE_NUM\", \"INFO_SUFNCY_SATSFC_DGREE_NUM\", \"LSR_LVLH_WHOLE_SATSFC_DGREE_NUM\"]].agg(np.mean).reset_index()\n",
    "df5.columns = [\"SURVERY_QUE\", \"ANS_MEAN\"]\n",
    "\n",
    "px.bar(df5.sort_values(by=\"ANS_MEAN\"), x=\"SURVERY_QUE\", y=\"ANS_MEAN\", color=\"SURVERY_QUE\", text='ANS_MEAN')"
   ]
  },
  {
   "cell_type": "markdown",
   "metadata": {},
   "source": [
    "제주도민의 여가생활 여건 및 만족도 평가 내용을 보면 평균적으로 경제 여유 만족 정도 값과 정보 충분 만족 정도값이 낮은 것을 확인할 수 있다."
   ]
  },
  {
   "cell_type": "code",
   "execution_count": 779,
   "metadata": {},
   "outputs": [
    {
     "data": {
      "application/vnd.plotly.v1+json": {
       "config": {
        "plotlyServerURL": "https://plot.ly"
       },
       "data": [
        {
         "domain": {
          "x": [
           0,
           0.45
          ],
          "y": [
           0,
           1
          ]
         },
         "hole": 0.4,
         "hoverinfo": "label+percent+name",
         "labels": [
          "보통이다",
          "보통이다",
          "보통이다",
          "보통이다",
          "그런 편이다",
          "그렇지 않은 편이다",
          "보통이다",
          "그런 편이다",
          "그런 편이다",
          "그렇지 않은 편이다",
          "그런 편이다",
          "그렇지 않은 편이다",
          "그런 편이다",
          "보통이다",
          "그렇지 않은 편이다",
          "보통이다",
          "보통이다",
          "보통이다",
          "보통이다",
          "그런 편이다",
          "그런 편이다",
          "그런 편이다",
          "보통이다",
          "보통이다",
          "그런 편이다",
          "그런 편이다",
          "보통이다",
          "보통이다",
          "보통이다",
          "그런 편이다",
          "보통이다",
          "보통이다",
          "그렇지 않은 편이다",
          "그런 편이다",
          "그런 편이다",
          "그런 편이다",
          "그런 편이다",
          "그런 편이다",
          "보통이다",
          "그런 편이다",
          "보통이다",
          "그런 편이다",
          "그런 편이다",
          "보통이다",
          "그런 편이다",
          "보통이다",
          "그런 편이다",
          "그런 편이다",
          "보통이다",
          "보통이다",
          "그런 편이다",
          "그런 편이다",
          "보통이다",
          "보통이다",
          "보통이다",
          "보통이다",
          "그런 편이다",
          "보통이다",
          "그런 편이다",
          "보통이다",
          "보통이다",
          "매우 그렇다",
          "그런 편이다",
          "보통이다",
          "보통이다",
          "보통이다",
          "그런 편이다",
          "그런 편이다",
          "보통이다",
          "보통이다",
          "매우 그렇다",
          "그런 편이다",
          "보통이다",
          "그런 편이다",
          "그런 편이다",
          "그렇지 않은 편이다",
          "그런 편이다",
          "보통이다",
          "그런 편이다",
          "보통이다",
          "보통이다",
          "그런 편이다",
          "그런 편이다",
          "그런 편이다",
          "그렇지 않은 편이다",
          "그런 편이다",
          "그런 편이다",
          "그런 편이다",
          "그렇지 않은 편이다",
          "보통이다",
          "그런 편이다",
          "보통이다",
          "그런 편이다",
          "보통이다",
          "그런 편이다",
          "보통이다",
          "그런 편이다",
          "매우 그렇다",
          "그런 편이다",
          "보통이다",
          "그런 편이다",
          "보통이다",
          "전혀 그렇지 않다",
          "그런 편이다",
          "보통이다",
          "그렇지 않은 편이다",
          "보통이다",
          "매우 그렇다",
          "그런 편이다",
          "보통이다",
          "그런 편이다",
          "매우 그렇다",
          "보통이다",
          "보통이다",
          "보통이다",
          "그렇지 않은 편이다",
          "그런 편이다",
          "보통이다",
          "보통이다",
          "매우 그렇다",
          "보통이다",
          "그런 편이다",
          "보통이다",
          "그런 편이다",
          "그런 편이다",
          "그런 편이다",
          "전혀 그렇지 않다",
          "보통이다",
          "그런 편이다",
          "그런 편이다",
          "그런 편이다",
          "그런 편이다",
          "그렇지 않은 편이다",
          "그런 편이다",
          "보통이다",
          "보통이다",
          "보통이다",
          "그런 편이다",
          "그런 편이다",
          "보통이다",
          "그런 편이다",
          "그런 편이다",
          "그런 편이다",
          "전혀 그렇지 않다",
          "보통이다",
          "보통이다",
          "보통이다",
          "보통이다",
          "그렇지 않은 편이다",
          "그런 편이다",
          "그런 편이다",
          "매우 그렇다",
          "보통이다",
          "그렇지 않은 편이다",
          "그렇지 않은 편이다",
          "그런 편이다",
          "그렇지 않은 편이다",
          "보통이다",
          "보통이다",
          "보통이다",
          "그런 편이다",
          "그런 편이다",
          "보통이다",
          "그런 편이다",
          "보통이다",
          "그런 편이다",
          "보통이다",
          "그런 편이다",
          "전혀 그렇지 않다",
          "보통이다",
          "보통이다",
          "그런 편이다",
          "매우 그렇다",
          "그런 편이다",
          "그런 편이다",
          "보통이다",
          "전혀 그렇지 않다",
          "그렇지 않은 편이다",
          "그런 편이다",
          "보통이다",
          "그런 편이다",
          "보통이다",
          "보통이다",
          "그렇지 않은 편이다",
          "보통이다",
          "그렇지 않은 편이다",
          "그렇지 않은 편이다",
          "보통이다",
          "보통이다",
          "그렇지 않은 편이다",
          "그렇지 않은 편이다",
          "보통이다",
          "그렇지 않은 편이다",
          "그런 편이다",
          "보통이다",
          "그렇지 않은 편이다",
          "보통이다",
          "그런 편이다",
          "보통이다",
          "보통이다",
          "보통이다",
          "보통이다",
          "보통이다",
          "보통이다",
          "그런 편이다",
          "그런 편이다",
          "보통이다",
          "그런 편이다",
          "전혀 그렇지 않다",
          "보통이다",
          "그런 편이다",
          "보통이다",
          "그렇지 않은 편이다",
          "보통이다",
          "보통이다",
          "그렇지 않은 편이다",
          "그런 편이다",
          "보통이다",
          "보통이다",
          "보통이다",
          "그렇지 않은 편이다",
          "그런 편이다",
          "그렇지 않은 편이다",
          "그런 편이다",
          "그런 편이다",
          "그런 편이다",
          "그런 편이다",
          "그런 편이다",
          "보통이다",
          "그런 편이다",
          "보통이다",
          "그런 편이다",
          "그런 편이다",
          "보통이다",
          "그렇지 않은 편이다",
          "보통이다",
          "그런 편이다",
          "그런 편이다",
          "그렇지 않은 편이다",
          "그런 편이다",
          "전혀 그렇지 않다",
          "그렇지 않은 편이다",
          "그런 편이다",
          "그런 편이다",
          "그런 편이다",
          "보통이다",
          "보통이다",
          "보통이다",
          "전혀 그렇지 않다",
          "보통이다",
          "보통이다",
          "보통이다",
          "보통이다",
          "보통이다",
          "보통이다",
          "보통이다",
          "보통이다",
          "그런 편이다",
          "그렇지 않은 편이다",
          "그렇지 않은 편이다",
          "매우 그렇다",
          "그런 편이다",
          "그런 편이다",
          "그런 편이다",
          "그런 편이다",
          "보통이다",
          "그렇지 않은 편이다",
          "보통이다",
          "보통이다",
          "그런 편이다",
          "그런 편이다",
          "보통이다",
          "보통이다",
          "그런 편이다",
          "그렇지 않은 편이다",
          "보통이다",
          "그런 편이다",
          "보통이다",
          "그렇지 않은 편이다",
          "보통이다",
          "그런 편이다",
          "그렇지 않은 편이다",
          "그런 편이다",
          "보통이다",
          "그렇지 않은 편이다",
          "보통이다",
          "그렇지 않은 편이다",
          "그렇지 않은 편이다",
          "그런 편이다",
          "보통이다",
          "보통이다",
          "보통이다",
          "그런 편이다",
          "그런 편이다",
          "그렇지 않은 편이다",
          "그런 편이다",
          "보통이다",
          "그런 편이다",
          "보통이다",
          "그런 편이다",
          "그렇지 않은 편이다",
          "보통이다",
          "그렇지 않은 편이다",
          "그렇지 않은 편이다",
          "그런 편이다",
          "보통이다",
          "그렇지 않은 편이다",
          "보통이다",
          "보통이다",
          "보통이다",
          "보통이다",
          "보통이다",
          "보통이다",
          "그렇지 않은 편이다",
          "그렇지 않은 편이다",
          "그런 편이다",
          "보통이다",
          "보통이다",
          "그런 편이다",
          "보통이다",
          "그렇지 않은 편이다",
          "보통이다",
          "보통이다",
          "그런 편이다",
          "그런 편이다",
          "보통이다",
          "전혀 그렇지 않다",
          "그렇지 않은 편이다",
          "보통이다",
          "보통이다",
          "그런 편이다",
          "그런 편이다",
          "그런 편이다",
          "그런 편이다",
          "보통이다",
          "그런 편이다",
          "그런 편이다",
          "그런 편이다",
          "보통이다",
          "그런 편이다",
          "그렇지 않은 편이다",
          "보통이다",
          "그렇지 않은 편이다",
          "보통이다",
          "보통이다",
          "보통이다",
          "보통이다",
          "그렇지 않은 편이다",
          "그렇지 않은 편이다",
          "그런 편이다",
          "그렇지 않은 편이다",
          "보통이다",
          "그런 편이다",
          "보통이다",
          "그런 편이다",
          "보통이다",
          "그런 편이다",
          "보통이다",
          "그런 편이다",
          "그런 편이다",
          "그런 편이다",
          "보통이다",
          "그런 편이다",
          "보통이다",
          "보통이다",
          "보통이다",
          "보통이다",
          "그런 편이다",
          "보통이다",
          "그런 편이다",
          "보통이다",
          "그런 편이다",
          "보통이다",
          "그런 편이다",
          "보통이다",
          "그렇지 않은 편이다",
          "그렇지 않은 편이다",
          "보통이다",
          "그런 편이다"
         ],
         "title": {
          "text": "제주특별자치도"
         },
         "type": "pie",
         "values": [
          3,
          3,
          3,
          3,
          4,
          2,
          3,
          4,
          4,
          2,
          4,
          2,
          4,
          3,
          2,
          3,
          3,
          3,
          3,
          4,
          4,
          4,
          3,
          3,
          4,
          4,
          3,
          3,
          3,
          4,
          3,
          3,
          2,
          4,
          4,
          4,
          4,
          4,
          3,
          4,
          3,
          4,
          4,
          3,
          4,
          3,
          4,
          4,
          3,
          3,
          4,
          4,
          3,
          3,
          3,
          3,
          4,
          3,
          4,
          3,
          3,
          5,
          4,
          3,
          3,
          3,
          4,
          4,
          3,
          3,
          5,
          4,
          3,
          4,
          4,
          2,
          4,
          3,
          4,
          3,
          3,
          4,
          4,
          4,
          2,
          4,
          4,
          4,
          2,
          3,
          4,
          3,
          4,
          3,
          4,
          3,
          4,
          5,
          4,
          3,
          4,
          3,
          1,
          4,
          3,
          2,
          3,
          5,
          4,
          3,
          4,
          5,
          3,
          3,
          3,
          2,
          4,
          3,
          3,
          5,
          3,
          4,
          3,
          4,
          4,
          4,
          1,
          3,
          4,
          4,
          4,
          4,
          2,
          4,
          3,
          3,
          3,
          4,
          4,
          3,
          4,
          4,
          4,
          1,
          3,
          3,
          3,
          3,
          2,
          4,
          4,
          5,
          3,
          2,
          2,
          4,
          2,
          3,
          3,
          3,
          4,
          4,
          3,
          4,
          3,
          4,
          3,
          4,
          1,
          3,
          3,
          4,
          5,
          4,
          4,
          3,
          1,
          2,
          4,
          3,
          4,
          3,
          3,
          2,
          3,
          2,
          2,
          3,
          3,
          2,
          2,
          3,
          2,
          4,
          3,
          2,
          3,
          4,
          3,
          3,
          3,
          3,
          3,
          3,
          4,
          4,
          3,
          4,
          1,
          3,
          4,
          3,
          2,
          3,
          3,
          2,
          4,
          3,
          3,
          3,
          2,
          4,
          2,
          4,
          4,
          4,
          4,
          4,
          3,
          4,
          3,
          4,
          4,
          3,
          2,
          3,
          4,
          4,
          2,
          4,
          1,
          2,
          4,
          4,
          4,
          3,
          3,
          3,
          1,
          3,
          3,
          3,
          3,
          3,
          3,
          3,
          3,
          4,
          2,
          2,
          5,
          4,
          4,
          4,
          4,
          3,
          2,
          3,
          3,
          4,
          4,
          3,
          3,
          4,
          2,
          3,
          4,
          3,
          2,
          3,
          4,
          2,
          4,
          3,
          2,
          3,
          2,
          2,
          4,
          3,
          3,
          3,
          4,
          4,
          2,
          4,
          3,
          4,
          3,
          4,
          2,
          3,
          2,
          2,
          4,
          3,
          2,
          3,
          3,
          3,
          3,
          3,
          3,
          2,
          2,
          4,
          3,
          3,
          4,
          3,
          2,
          3,
          3,
          4,
          4,
          3,
          1,
          2,
          3,
          3,
          4,
          4,
          4,
          4,
          3,
          4,
          4,
          4,
          3,
          4,
          2,
          3,
          2,
          3,
          3,
          3,
          3,
          2,
          2,
          4,
          2,
          3,
          4,
          3,
          4,
          3,
          4,
          3,
          4,
          4,
          4,
          3,
          4,
          3,
          3,
          3,
          3,
          4,
          3,
          4,
          3,
          4,
          3,
          4,
          3,
          2,
          2,
          3,
          4
         ]
        },
        {
         "domain": {
          "x": [
           0.55,
           1
          ],
          "y": [
           0,
           1
          ]
         },
         "hole": 0.4,
         "hoverinfo": "label+percent+name",
         "labels": [
          "그렇지 않은 편이다",
          "보통이다",
          "보통이다",
          "보통이다",
          "매우 그렇다",
          "보통이다",
          "보통이다",
          "그렇지 않은 편이다",
          "그런 편이다",
          "그런 편이다",
          "보통이다",
          "보통이다",
          "보통이다",
          "매우 그렇다",
          "보통이다",
          "그런 편이다",
          "매우 그렇다",
          "그런 편이다",
          "보통이다",
          "그런 편이다",
          "보통이다",
          "그런 편이다",
          "보통이다",
          "그런 편이다",
          "그런 편이다",
          "그렇지 않은 편이다",
          "매우 그렇다",
          "그런 편이다",
          "그런 편이다",
          "보통이다",
          "보통이다",
          "그런 편이다",
          "보통이다",
          "그렇지 않은 편이다",
          "보통이다",
          "보통이다",
          "보통이다",
          "보통이다",
          "그런 편이다",
          "전혀 그렇지 않다",
          "보통이다",
          "매우 그렇다",
          "그렇지 않은 편이다",
          "보통이다",
          "그런 편이다",
          "보통이다",
          "그런 편이다",
          "보통이다",
          "그런 편이다",
          "보통이다",
          "보통이다",
          "매우 그렇다",
          "그런 편이다",
          "보통이다",
          "그런 편이다",
          "보통이다",
          "보통이다",
          "그렇지 않은 편이다",
          "보통이다",
          "보통이다",
          "그렇지 않은 편이다",
          "보통이다",
          "보통이다",
          "보통이다",
          "보통이다",
          "보통이다",
          "보통이다",
          "보통이다",
          "그렇지 않은 편이다",
          "그런 편이다",
          "보통이다",
          "그런 편이다",
          "그런 편이다",
          "그런 편이다",
          "보통이다",
          "그런 편이다",
          "보통이다",
          "그런 편이다",
          "그런 편이다",
          "그런 편이다",
          "그런 편이다",
          "그렇지 않은 편이다",
          "그런 편이다",
          "보통이다",
          "그런 편이다",
          "보통이다",
          "보통이다",
          "보통이다",
          "그런 편이다",
          "보통이다",
          "보통이다",
          "그런 편이다",
          "그런 편이다",
          "보통이다",
          "그런 편이다",
          "보통이다",
          "그렇지 않은 편이다",
          "그런 편이다",
          "그렇지 않은 편이다",
          "그런 편이다",
          "그렇지 않은 편이다",
          "그런 편이다",
          "그런 편이다",
          "그런 편이다",
          "보통이다",
          "그런 편이다",
          "보통이다",
          "보통이다",
          "보통이다",
          "그런 편이다",
          "그런 편이다",
          "그런 편이다",
          "보통이다",
          "그렇지 않은 편이다",
          "보통이다",
          "보통이다",
          "그런 편이다",
          "보통이다",
          "보통이다",
          "보통이다",
          "그런 편이다",
          "보통이다",
          "보통이다",
          "그렇지 않은 편이다",
          "그런 편이다",
          "매우 그렇다",
          "보통이다",
          "보통이다",
          "보통이다",
          "보통이다",
          "보통이다",
          "그런 편이다",
          "보통이다",
          "보통이다",
          "보통이다",
          "보통이다",
          "그렇지 않은 편이다",
          "매우 그렇다",
          "그런 편이다",
          "보통이다",
          "보통이다",
          "그렇지 않은 편이다",
          "보통이다",
          "그런 편이다",
          "보통이다",
          "보통이다",
          "보통이다",
          "보통이다",
          "보통이다",
          "그런 편이다",
          "보통이다",
          "보통이다",
          "보통이다",
          "그런 편이다",
          "보통이다",
          "그런 편이다",
          "그렇지 않은 편이다",
          "보통이다",
          "그런 편이다",
          "보통이다",
          "매우 그렇다",
          "보통이다",
          "그런 편이다",
          "전혀 그렇지 않다",
          "그런 편이다",
          "보통이다",
          "보통이다",
          "그렇지 않은 편이다",
          "보통이다",
          "그런 편이다",
          "그런 편이다",
          "그런 편이다",
          "매우 그렇다",
          "매우 그렇다",
          "보통이다",
          "보통이다",
          "그런 편이다",
          "매우 그렇다",
          "보통이다",
          "그렇지 않은 편이다",
          "그런 편이다",
          "보통이다",
          "보통이다",
          "보통이다",
          "그렇지 않은 편이다",
          "보통이다",
          "그런 편이다",
          "그런 편이다",
          "매우 그렇다",
          "그런 편이다",
          "보통이다",
          "그런 편이다",
          "그런 편이다",
          "보통이다",
          "보통이다",
          "그런 편이다",
          "보통이다",
          "그런 편이다",
          "보통이다",
          "보통이다",
          "그런 편이다",
          "그런 편이다",
          "그런 편이다",
          "보통이다",
          "그런 편이다",
          "그런 편이다",
          "보통이다",
          "그런 편이다",
          "그런 편이다",
          "그런 편이다",
          "보통이다",
          "그런 편이다",
          "보통이다",
          "그렇지 않은 편이다",
          "그런 편이다",
          "그렇지 않은 편이다",
          "보통이다",
          "보통이다",
          "그런 편이다",
          "그런 편이다",
          "그런 편이다",
          "보통이다",
          "그런 편이다",
          "보통이다",
          "그런 편이다",
          "보통이다",
          "그런 편이다",
          "보통이다",
          "보통이다",
          "보통이다",
          "그런 편이다",
          "그런 편이다",
          "보통이다",
          "그렇지 않은 편이다",
          "보통이다",
          "그런 편이다",
          "그런 편이다",
          "그렇지 않은 편이다",
          "그런 편이다",
          "그런 편이다",
          "보통이다",
          "그런 편이다",
          "보통이다",
          "그런 편이다",
          "그런 편이다",
          "그런 편이다",
          "그런 편이다",
          "보통이다",
          "보통이다",
          "보통이다",
          "보통이다",
          "그런 편이다",
          "보통이다",
          "보통이다",
          "보통이다",
          "그런 편이다",
          "그런 편이다",
          "그런 편이다",
          "보통이다",
          "그런 편이다",
          "보통이다",
          "보통이다",
          "보통이다",
          "보통이다",
          "그런 편이다",
          "그런 편이다",
          "그렇지 않은 편이다",
          "그런 편이다",
          "보통이다",
          "그런 편이다",
          "보통이다",
          "보통이다",
          "보통이다",
          "그런 편이다",
          "그런 편이다",
          "보통이다",
          "보통이다",
          "그런 편이다",
          "그런 편이다",
          "그런 편이다",
          "그런 편이다",
          "보통이다",
          "그런 편이다",
          "그런 편이다",
          "보통이다",
          "그런 편이다",
          "그런 편이다",
          "그렇지 않은 편이다",
          "그런 편이다",
          "그렇지 않은 편이다",
          "그런 편이다",
          "보통이다",
          "보통이다",
          "그런 편이다",
          "그런 편이다",
          "그런 편이다",
          "보통이다",
          "보통이다",
          "그런 편이다",
          "보통이다",
          "그런 편이다",
          "그런 편이다",
          "그런 편이다",
          "보통이다",
          "그런 편이다",
          "보통이다",
          "보통이다",
          "보통이다",
          "그런 편이다",
          "보통이다",
          "그런 편이다",
          "그런 편이다",
          "보통이다",
          "그런 편이다",
          "보통이다",
          "그렇지 않은 편이다",
          "그런 편이다",
          "보통이다",
          "그렇지 않은 편이다",
          "보통이다",
          "그런 편이다",
          "보통이다",
          "보통이다",
          "보통이다",
          "그런 편이다",
          "그런 편이다",
          "그런 편이다",
          "보통이다",
          "보통이다",
          "그런 편이다",
          "그런 편이다",
          "그런 편이다",
          "보통이다",
          "보통이다",
          "보통이다",
          "전혀 그렇지 않다",
          "보통이다",
          "보통이다",
          "보통이다",
          "보통이다",
          "매우 그렇다",
          "보통이다",
          "그렇지 않은 편이다",
          "매우 그렇다",
          "그런 편이다",
          "보통이다",
          "보통이다",
          "매우 그렇다",
          "보통이다",
          "그런 편이다",
          "그런 편이다",
          "그런 편이다",
          "보통이다",
          "매우 그렇다",
          "매우 그렇다",
          "보통이다",
          "그런 편이다",
          "그런 편이다",
          "보통이다",
          "그런 편이다",
          "그렇지 않은 편이다",
          "그런 편이다",
          "보통이다",
          "보통이다",
          "그런 편이다",
          "그런 편이다",
          "그렇지 않은 편이다",
          "보통이다",
          "보통이다",
          "보통이다",
          "그렇지 않은 편이다",
          "보통이다",
          "그런 편이다",
          "그런 편이다",
          "보통이다",
          "그런 편이다",
          "그런 편이다",
          "그렇지 않은 편이다",
          "보통이다",
          "보통이다",
          "보통이다",
          "그런 편이다",
          "보통이다",
          "그런 편이다",
          "보통이다",
          "보통이다",
          "보통이다",
          "그렇지 않은 편이다",
          "전혀 그렇지 않다",
          "그런 편이다",
          "보통이다",
          "보통이다",
          "그런 편이다",
          "보통이다",
          "그렇지 않은 편이다",
          "그런 편이다",
          "그런 편이다",
          "보통이다",
          "보통이다",
          "그런 편이다",
          "그런 편이다",
          "보통이다",
          "그런 편이다",
          "보통이다",
          "보통이다",
          "그런 편이다",
          "보통이다",
          "보통이다",
          "보통이다",
          "그런 편이다",
          "보통이다",
          "그런 편이다",
          "그런 편이다",
          "그런 편이다",
          "그런 편이다",
          "보통이다",
          "보통이다",
          "보통이다",
          "그런 편이다",
          "보통이다",
          "보통이다",
          "그런 편이다",
          "그런 편이다",
          "그런 편이다",
          "그런 편이다",
          "보통이다",
          "보통이다",
          "보통이다",
          "보통이다",
          "보통이다",
          "보통이다",
          "그런 편이다",
          "그런 편이다",
          "보통이다",
          "그런 편이다",
          "그런 편이다",
          "그런 편이다",
          "보통이다",
          "그렇지 않은 편이다",
          "보통이다",
          "그렇지 않은 편이다",
          "그런 편이다",
          "그런 편이다",
          "그런 편이다",
          "보통이다",
          "그런 편이다",
          "그런 편이다",
          "그런 편이다",
          "보통이다",
          "보통이다",
          "보통이다",
          "보통이다",
          "그런 편이다",
          "보통이다",
          "보통이다",
          "그런 편이다",
          "보통이다",
          "그런 편이다",
          "보통이다",
          "그런 편이다",
          "그런 편이다",
          "그런 편이다",
          "그렇지 않은 편이다",
          "그런 편이다",
          "그런 편이다",
          "보통이다",
          "보통이다",
          "그런 편이다",
          "매우 그렇다",
          "보통이다",
          "그런 편이다",
          "그런 편이다",
          "매우 그렇다",
          "보통이다",
          "그런 편이다",
          "보통이다",
          "그런 편이다",
          "그런 편이다",
          "그런 편이다",
          "그런 편이다",
          "그런 편이다",
          "그렇지 않은 편이다",
          "보통이다",
          "보통이다",
          "보통이다",
          "보통이다",
          "그런 편이다",
          "그런 편이다",
          "보통이다",
          "그런 편이다",
          "그런 편이다",
          "보통이다",
          "그런 편이다",
          "보통이다",
          "그런 편이다",
          "보통이다",
          "그런 편이다",
          "그런 편이다",
          "그런 편이다",
          "보통이다",
          "그런 편이다",
          "그런 편이다",
          "매우 그렇다",
          "그런 편이다",
          "그렇지 않은 편이다",
          "매우 그렇다",
          "그런 편이다",
          "그런 편이다",
          "그런 편이다",
          "그런 편이다",
          "그런 편이다",
          "그렇지 않은 편이다",
          "보통이다",
          "그런 편이다",
          "그런 편이다",
          "매우 그렇다",
          "보통이다",
          "그렇지 않은 편이다",
          "그렇지 않은 편이다",
          "보통이다",
          "그렇지 않은 편이다",
          "그런 편이다",
          "보통이다",
          "그런 편이다",
          "보통이다",
          "그렇지 않은 편이다",
          "그런 편이다",
          "그런 편이다",
          "그런 편이다",
          "그런 편이다",
          "보통이다",
          "보통이다",
          "보통이다",
          "그런 편이다",
          "그런 편이다",
          "매우 그렇다",
          "그런 편이다",
          "보통이다",
          "그런 편이다",
          "그렇지 않은 편이다",
          "보통이다",
          "그런 편이다",
          "그런 편이다",
          "보통이다",
          "그렇지 않은 편이다",
          "그렇지 않은 편이다",
          "보통이다",
          "그런 편이다",
          "그런 편이다",
          "보통이다",
          "그런 편이다",
          "매우 그렇다",
          "보통이다",
          "보통이다",
          "그런 편이다",
          "보통이다",
          "그런 편이다",
          "보통이다",
          "보통이다",
          "그런 편이다",
          "그런 편이다",
          "그런 편이다",
          "보통이다",
          "매우 그렇다",
          "그렇지 않은 편이다",
          "그런 편이다",
          "보통이다",
          "그런 편이다",
          "보통이다",
          "그런 편이다",
          "그런 편이다",
          "그런 편이다",
          "보통이다",
          "보통이다",
          "그런 편이다",
          "그렇지 않은 편이다",
          "보통이다",
          "그렇지 않은 편이다",
          "매우 그렇다",
          "그런 편이다",
          "그런 편이다",
          "보통이다",
          "보통이다",
          "보통이다",
          "보통이다",
          "보통이다",
          "보통이다",
          "그런 편이다",
          "보통이다",
          "보통이다",
          "그런 편이다",
          "보통이다",
          "그런 편이다",
          "그런 편이다",
          "그런 편이다",
          "그렇지 않은 편이다",
          "그렇지 않은 편이다",
          "보통이다",
          "그런 편이다",
          "보통이다",
          "보통이다",
          "그렇지 않은 편이다",
          "그런 편이다",
          "매우 그렇다",
          "그렇지 않은 편이다",
          "그런 편이다",
          "그런 편이다",
          "그렇지 않은 편이다",
          "그런 편이다",
          "매우 그렇다",
          "보통이다",
          "보통이다",
          "보통이다",
          "그런 편이다",
          "보통이다",
          "그런 편이다",
          "그런 편이다",
          "보통이다",
          "그런 편이다",
          "그렇지 않은 편이다",
          "보통이다",
          "그렇지 않은 편이다",
          "그런 편이다",
          "그런 편이다",
          "그런 편이다",
          "보통이다",
          "보통이다",
          "그런 편이다",
          "그런 편이다",
          "그런 편이다",
          "그런 편이다",
          "보통이다",
          "그런 편이다",
          "그런 편이다",
          "그런 편이다",
          "보통이다",
          "그런 편이다",
          "보통이다",
          "그런 편이다",
          "그런 편이다",
          "그런 편이다",
          "그렇지 않은 편이다",
          "보통이다",
          "그런 편이다",
          "그런 편이다",
          "보통이다",
          "보통이다",
          "매우 그렇다",
          "그런 편이다",
          "보통이다",
          "그런 편이다",
          "보통이다",
          "보통이다",
          "그런 편이다",
          "보통이다",
          "그런 편이다",
          "그런 편이다",
          "그런 편이다",
          "그런 편이다",
          "그런 편이다",
          "보통이다",
          "그렇지 않은 편이다",
          "매우 그렇다",
          "그런 편이다",
          "보통이다",
          "그런 편이다",
          "보통이다",
          "보통이다",
          "보통이다",
          "보통이다",
          "그런 편이다",
          "그런 편이다",
          "그런 편이다",
          "그런 편이다",
          "그런 편이다",
          "보통이다",
          "보통이다",
          "매우 그렇다",
          "보통이다",
          "그런 편이다",
          "그런 편이다",
          "그런 편이다",
          "보통이다",
          "그런 편이다",
          "보통이다",
          "그런 편이다",
          "매우 그렇다",
          "보통이다",
          "매우 그렇다",
          "보통이다",
          "그런 편이다",
          "그런 편이다",
          "그런 편이다",
          "그런 편이다",
          "전혀 그렇지 않다",
          "그런 편이다",
          "보통이다",
          "그런 편이다",
          "그런 편이다",
          "보통이다",
          "매우 그렇다",
          "그런 편이다",
          "그런 편이다",
          "보통이다",
          "그런 편이다",
          "보통이다",
          "보통이다",
          "보통이다",
          "매우 그렇다",
          "그런 편이다",
          "보통이다",
          "그런 편이다",
          "그런 편이다",
          "그런 편이다",
          "보통이다",
          "보통이다",
          "보통이다",
          "그런 편이다",
          "그런 편이다",
          "그런 편이다",
          "그런 편이다",
          "보통이다",
          "그런 편이다",
          "보통이다",
          "보통이다",
          "그런 편이다",
          "그런 편이다",
          "그런 편이다",
          "그런 편이다",
          "보통이다",
          "보통이다",
          "보통이다",
          "그런 편이다",
          "그런 편이다",
          "그런 편이다",
          "그렇지 않은 편이다",
          "그런 편이다",
          "그런 편이다",
          "보통이다",
          "그런 편이다",
          "보통이다",
          "그런 편이다",
          "보통이다",
          "보통이다",
          "그렇지 않은 편이다",
          "그렇지 않은 편이다",
          "보통이다",
          "그런 편이다",
          "그렇지 않은 편이다",
          "보통이다",
          "그런 편이다",
          "보통이다",
          "보통이다",
          "보통이다",
          "그런 편이다",
          "그렇지 않은 편이다",
          "그런 편이다",
          "그런 편이다",
          "그런 편이다",
          "그런 편이다",
          "보통이다",
          "그런 편이다",
          "보통이다",
          "그런 편이다",
          "매우 그렇다",
          "그런 편이다",
          "그런 편이다",
          "매우 그렇다",
          "보통이다",
          "그런 편이다",
          "그런 편이다",
          "그런 편이다",
          "보통이다",
          "보통이다",
          "그런 편이다",
          "그런 편이다",
          "그런 편이다",
          "그런 편이다",
          "보통이다",
          "보통이다",
          "그런 편이다",
          "매우 그렇다",
          "보통이다",
          "그런 편이다",
          "그렇지 않은 편이다",
          "보통이다",
          "그렇지 않은 편이다",
          "그런 편이다",
          "그런 편이다",
          "그런 편이다",
          "보통이다",
          "그렇지 않은 편이다",
          "보통이다",
          "보통이다",
          "보통이다",
          "그런 편이다",
          "그런 편이다",
          "보통이다",
          "그런 편이다",
          "보통이다",
          "보통이다",
          "보통이다",
          "그런 편이다",
          "그렇지 않은 편이다",
          "보통이다",
          "그런 편이다",
          "그렇지 않은 편이다",
          "그런 편이다",
          "보통이다",
          "보통이다",
          "보통이다",
          "보통이다",
          "보통이다",
          "그런 편이다",
          "그런 편이다",
          "그런 편이다",
          "그런 편이다",
          "그렇지 않은 편이다",
          "그런 편이다",
          "보통이다",
          "보통이다",
          "보통이다",
          "보통이다",
          "그런 편이다",
          "보통이다",
          "보통이다",
          "보통이다",
          "보통이다",
          "보통이다",
          "그렇지 않은 편이다",
          "그런 편이다",
          "그런 편이다",
          "보통이다",
          "보통이다",
          "그렇지 않은 편이다",
          "보통이다",
          "그렇지 않은 편이다",
          "그런 편이다",
          "보통이다",
          "그런 편이다",
          "그런 편이다",
          "보통이다",
          "보통이다",
          "그런 편이다",
          "그런 편이다",
          "그렇지 않은 편이다",
          "그런 편이다",
          "보통이다",
          "그런 편이다",
          "보통이다",
          "그런 편이다",
          "그런 편이다",
          "그런 편이다",
          "그런 편이다",
          "보통이다",
          "그런 편이다",
          "보통이다",
          "그런 편이다",
          "매우 그렇다",
          "보통이다",
          "그런 편이다",
          "매우 그렇다",
          "그런 편이다",
          "그런 편이다",
          "그렇지 않은 편이다",
          "그런 편이다",
          "그런 편이다",
          "보통이다",
          "그렇지 않은 편이다",
          "그렇지 않은 편이다",
          "그런 편이다",
          "보통이다",
          "보통이다",
          "보통이다",
          "보통이다",
          "그런 편이다",
          "그런 편이다",
          "그런 편이다",
          "보통이다",
          "보통이다",
          "보통이다",
          "보통이다",
          "그런 편이다",
          "보통이다",
          "보통이다",
          "그런 편이다",
          "그런 편이다",
          "그런 편이다",
          "보통이다",
          "보통이다",
          "보통이다",
          "그런 편이다",
          "그런 편이다",
          "그런 편이다",
          "보통이다",
          "보통이다",
          "그렇지 않은 편이다",
          "매우 그렇다",
          "보통이다",
          "그런 편이다",
          "그런 편이다",
          "매우 그렇다",
          "그런 편이다",
          "보통이다",
          "그런 편이다",
          "보통이다",
          "그런 편이다",
          "보통이다",
          "그런 편이다",
          "그렇지 않은 편이다",
          "그런 편이다",
          "그런 편이다",
          "그런 편이다",
          "매우 그렇다",
          "그런 편이다",
          "보통이다",
          "그런 편이다",
          "그런 편이다",
          "보통이다",
          "그런 편이다",
          "그렇지 않은 편이다",
          "그런 편이다",
          "그런 편이다",
          "그런 편이다",
          "보통이다",
          "보통이다",
          "보통이다",
          "매우 그렇다",
          "보통이다",
          "그렇지 않은 편이다",
          "그런 편이다",
          "그런 편이다",
          "매우 그렇다",
          "보통이다",
          "그런 편이다",
          "보통이다",
          "그런 편이다",
          "보통이다",
          "보통이다",
          "그런 편이다",
          "그런 편이다",
          "그런 편이다",
          "그런 편이다",
          "보통이다",
          "전혀 그렇지 않다",
          "그런 편이다",
          "그런 편이다",
          "그런 편이다",
          "그런 편이다",
          "보통이다",
          "보통이다",
          "보통이다",
          "보통이다",
          "보통이다",
          "보통이다",
          "그렇지 않은 편이다",
          "그런 편이다",
          "그런 편이다",
          "보통이다",
          "그런 편이다",
          "보통이다",
          "그런 편이다",
          "그런 편이다",
          "그렇지 않은 편이다",
          "보통이다",
          "그런 편이다",
          "보통이다",
          "그런 편이다",
          "보통이다",
          "그런 편이다",
          "매우 그렇다",
          "매우 그렇다",
          "보통이다",
          "그런 편이다",
          "그런 편이다",
          "보통이다",
          "그런 편이다",
          "보통이다",
          "보통이다",
          "보통이다",
          "보통이다",
          "그런 편이다",
          "보통이다",
          "그런 편이다",
          "그런 편이다",
          "보통이다",
          "그런 편이다",
          "그런 편이다",
          "그런 편이다",
          "그런 편이다",
          "그런 편이다",
          "보통이다",
          "보통이다",
          "그런 편이다",
          "그런 편이다",
          "보통이다",
          "그런 편이다",
          "보통이다",
          "그런 편이다",
          "그런 편이다",
          "보통이다",
          "그런 편이다",
          "그렇지 않은 편이다",
          "보통이다",
          "그렇지 않은 편이다",
          "보통이다",
          "보통이다",
          "그런 편이다",
          "그런 편이다",
          "그렇지 않은 편이다",
          "그런 편이다",
          "보통이다",
          "매우 그렇다",
          "보통이다",
          "그런 편이다",
          "그런 편이다",
          "보통이다",
          "그런 편이다",
          "보통이다",
          "보통이다",
          "그런 편이다",
          "그런 편이다",
          "보통이다",
          "그런 편이다",
          "보통이다",
          "그런 편이다",
          "보통이다",
          "그런 편이다",
          "보통이다",
          "보통이다",
          "그런 편이다",
          "보통이다",
          "그런 편이다",
          "그런 편이다",
          "보통이다",
          "그런 편이다",
          "보통이다",
          "그런 편이다",
          "보통이다",
          "그런 편이다",
          "그런 편이다",
          "그런 편이다",
          "보통이다",
          "그렇지 않은 편이다",
          "보통이다",
          "보통이다",
          "그런 편이다",
          "그런 편이다",
          "그런 편이다",
          "그렇지 않은 편이다",
          "보통이다",
          "그런 편이다",
          "그런 편이다",
          "보통이다",
          "그런 편이다",
          "그런 편이다",
          "그렇지 않은 편이다",
          "그런 편이다",
          "매우 그렇다",
          "보통이다",
          "그런 편이다",
          "보통이다",
          "보통이다",
          "보통이다",
          "그런 편이다",
          "보통이다",
          "그런 편이다",
          "보통이다",
          "그런 편이다",
          "그런 편이다",
          "그런 편이다",
          "보통이다",
          "보통이다",
          "그렇지 않은 편이다",
          "보통이다",
          "보통이다",
          "보통이다",
          "그렇지 않은 편이다",
          "그런 편이다",
          "보통이다",
          "그렇지 않은 편이다",
          "보통이다",
          "보통이다",
          "그런 편이다",
          "보통이다",
          "그런 편이다",
          "그렇지 않은 편이다",
          "그런 편이다",
          "그런 편이다",
          "그렇지 않은 편이다",
          "보통이다",
          "그런 편이다",
          "그렇지 않은 편이다",
          "그렇지 않은 편이다",
          "그런 편이다",
          "보통이다",
          "그런 편이다",
          "그렇지 않은 편이다",
          "매우 그렇다",
          "보통이다",
          "그런 편이다",
          "그렇지 않은 편이다",
          "그런 편이다",
          "보통이다",
          "그런 편이다",
          "보통이다",
          "그런 편이다",
          "그런 편이다",
          "그런 편이다",
          "보통이다",
          "보통이다",
          "보통이다",
          "보통이다",
          "그런 편이다",
          "매우 그렇다",
          "보통이다",
          "그런 편이다",
          "그런 편이다",
          "보통이다",
          "보통이다",
          "그런 편이다",
          "보통이다",
          "보통이다",
          "그런 편이다",
          "보통이다",
          "그런 편이다",
          "그렇지 않은 편이다",
          "그런 편이다",
          "그런 편이다",
          "그런 편이다",
          "그런 편이다",
          "그런 편이다",
          "그런 편이다",
          "그런 편이다",
          "그런 편이다",
          "보통이다",
          "그런 편이다",
          "보통이다",
          "그렇지 않은 편이다",
          "보통이다",
          "그런 편이다",
          "그런 편이다",
          "그런 편이다",
          "그렇지 않은 편이다",
          "보통이다",
          "그렇지 않은 편이다",
          "그런 편이다",
          "보통이다",
          "그런 편이다",
          "보통이다",
          "그렇지 않은 편이다",
          "그렇지 않은 편이다",
          "보통이다",
          "그런 편이다",
          "그런 편이다",
          "매우 그렇다",
          "그런 편이다",
          "그렇지 않은 편이다",
          "그런 편이다",
          "그런 편이다",
          "그렇지 않은 편이다",
          "그런 편이다",
          "보통이다",
          "그런 편이다",
          "그런 편이다",
          "그런 편이다",
          "그런 편이다",
          "그런 편이다",
          "그렇지 않은 편이다",
          "보통이다",
          "그런 편이다",
          "보통이다",
          "그런 편이다",
          "매우 그렇다",
          "그런 편이다",
          "그런 편이다",
          "그런 편이다",
          "보통이다",
          "보통이다",
          "보통이다",
          "그런 편이다",
          "그런 편이다",
          "그런 편이다",
          "그런 편이다",
          "그렇지 않은 편이다",
          "보통이다",
          "보통이다",
          "보통이다",
          "매우 그렇다",
          "그렇지 않은 편이다",
          "그런 편이다",
          "그런 편이다",
          "보통이다",
          "그런 편이다",
          "보통이다",
          "그런 편이다",
          "그런 편이다",
          "그런 편이다",
          "그런 편이다",
          "그런 편이다",
          "보통이다",
          "매우 그렇다",
          "보통이다",
          "그런 편이다",
          "보통이다",
          "보통이다",
          "보통이다",
          "그런 편이다",
          "보통이다",
          "보통이다",
          "보통이다",
          "그런 편이다",
          "그런 편이다",
          "그런 편이다",
          "그런 편이다",
          "보통이다",
          "그런 편이다",
          "보통이다",
          "보통이다",
          "그런 편이다",
          "그런 편이다",
          "보통이다",
          "보통이다",
          "보통이다",
          "보통이다",
          "보통이다",
          "매우 그렇다",
          "보통이다",
          "그런 편이다",
          "보통이다",
          "매우 그렇다",
          "그렇지 않은 편이다",
          "그렇지 않은 편이다",
          "보통이다",
          "그런 편이다",
          "보통이다",
          "그렇지 않은 편이다",
          "그런 편이다",
          "보통이다",
          "그렇지 않은 편이다",
          "그런 편이다",
          "그런 편이다",
          "보통이다",
          "그런 편이다",
          "그렇지 않은 편이다",
          "보통이다",
          "보통이다",
          "보통이다",
          "보통이다",
          "그런 편이다",
          "보통이다",
          "보통이다",
          "보통이다",
          "보통이다",
          "보통이다",
          "그런 편이다",
          "그런 편이다",
          "그런 편이다",
          "그런 편이다",
          "그렇지 않은 편이다",
          "보통이다",
          "그런 편이다",
          "그런 편이다",
          "그런 편이다",
          "그런 편이다",
          "보통이다",
          "보통이다",
          "보통이다",
          "매우 그렇다",
          "그렇지 않은 편이다",
          "그런 편이다",
          "그런 편이다",
          "그런 편이다",
          "그런 편이다",
          "보통이다",
          "그런 편이다",
          "그런 편이다",
          "보통이다",
          "그런 편이다",
          "보통이다",
          "보통이다",
          "그런 편이다",
          "그런 편이다",
          "그런 편이다",
          "보통이다",
          "보통이다",
          "그런 편이다",
          "그런 편이다",
          "그렇지 않은 편이다",
          "그런 편이다",
          "보통이다",
          "그런 편이다",
          "보통이다",
          "보통이다",
          "그런 편이다",
          "보통이다",
          "그런 편이다",
          "그런 편이다",
          "그런 편이다",
          "그런 편이다",
          "그렇지 않은 편이다",
          "그런 편이다",
          "그런 편이다",
          "그런 편이다",
          "보통이다",
          "그런 편이다",
          "그런 편이다",
          "그런 편이다",
          "그런 편이다",
          "그런 편이다",
          "보통이다",
          "그런 편이다",
          "그런 편이다",
          "그런 편이다",
          "그렇지 않은 편이다",
          "그렇지 않은 편이다",
          "그런 편이다",
          "보통이다",
          "보통이다",
          "보통이다",
          "그런 편이다",
          "그런 편이다",
          "그런 편이다",
          "그런 편이다",
          "그렇지 않은 편이다",
          "그런 편이다",
          "보통이다",
          "그런 편이다",
          "그런 편이다",
          "보통이다",
          "보통이다",
          "그렇지 않은 편이다",
          "매우 그렇다",
          "그런 편이다",
          "보통이다",
          "그런 편이다",
          "그런 편이다",
          "그런 편이다",
          "보통이다",
          "매우 그렇다",
          "보통이다",
          "그렇지 않은 편이다",
          "보통이다",
          "그런 편이다",
          "그렇지 않은 편이다",
          "보통이다",
          "그렇지 않은 편이다",
          "그렇지 않은 편이다",
          "그런 편이다",
          "그런 편이다",
          "그런 편이다",
          "보통이다",
          "보통이다",
          "그런 편이다",
          "그런 편이다",
          "그런 편이다",
          "보통이다",
          "매우 그렇다",
          "그렇지 않은 편이다",
          "그런 편이다",
          "매우 그렇다",
          "보통이다",
          "보통이다",
          "매우 그렇다",
          "그런 편이다",
          "보통이다",
          "그런 편이다",
          "그렇지 않은 편이다",
          "그렇지 않은 편이다",
          "그런 편이다",
          "보통이다",
          "보통이다",
          "보통이다",
          "그런 편이다",
          "그런 편이다",
          "보통이다",
          "보통이다",
          "그런 편이다",
          "그런 편이다",
          "보통이다",
          "그렇지 않은 편이다",
          "보통이다",
          "그런 편이다",
          "그런 편이다",
          "보통이다",
          "보통이다",
          "보통이다",
          "그런 편이다",
          "그렇지 않은 편이다",
          "그런 편이다",
          "보통이다",
          "그런 편이다",
          "그렇지 않은 편이다",
          "그렇지 않은 편이다",
          "그런 편이다",
          "보통이다",
          "그런 편이다",
          "그런 편이다",
          "그런 편이다",
          "그런 편이다",
          "보통이다",
          "그런 편이다",
          "그런 편이다",
          "그렇지 않은 편이다",
          "보통이다",
          "보통이다",
          "그런 편이다",
          "그런 편이다",
          "매우 그렇다",
          "그런 편이다",
          "보통이다",
          "보통이다",
          "그런 편이다",
          "보통이다",
          "그런 편이다",
          "그런 편이다",
          "그런 편이다",
          "그런 편이다",
          "그런 편이다",
          "그런 편이다",
          "보통이다",
          "그런 편이다",
          "보통이다",
          "그런 편이다",
          "보통이다",
          "보통이다",
          "그렇지 않은 편이다",
          "보통이다",
          "보통이다",
          "그런 편이다",
          "그런 편이다",
          "보통이다",
          "보통이다",
          "보통이다",
          "보통이다",
          "보통이다",
          "그런 편이다",
          "보통이다",
          "매우 그렇다",
          "그런 편이다",
          "보통이다",
          "보통이다",
          "보통이다",
          "매우 그렇다",
          "보통이다",
          "그런 편이다",
          "보통이다",
          "그런 편이다",
          "그렇지 않은 편이다",
          "그렇지 않은 편이다",
          "그런 편이다",
          "그런 편이다",
          "매우 그렇다",
          "그런 편이다",
          "보통이다",
          "그런 편이다",
          "그런 편이다",
          "보통이다",
          "그런 편이다",
          "보통이다",
          "그런 편이다",
          "보통이다",
          "보통이다",
          "그렇지 않은 편이다",
          "그런 편이다",
          "보통이다",
          "보통이다",
          "그런 편이다",
          "보통이다",
          "보통이다",
          "그런 편이다",
          "그런 편이다",
          "보통이다",
          "그런 편이다",
          "그런 편이다",
          "보통이다",
          "보통이다",
          "보통이다",
          "그런 편이다",
          "보통이다",
          "보통이다",
          "그런 편이다",
          "보통이다",
          "그런 편이다",
          "그렇지 않은 편이다",
          "보통이다",
          "보통이다",
          "그런 편이다",
          "그런 편이다",
          "그런 편이다",
          "그런 편이다",
          "보통이다",
          "그렇지 않은 편이다",
          "그런 편이다",
          "그렇지 않은 편이다",
          "그런 편이다",
          "그런 편이다",
          "그런 편이다",
          "보통이다",
          "보통이다",
          "매우 그렇다",
          "보통이다",
          "그런 편이다",
          "그렇지 않은 편이다",
          "보통이다",
          "보통이다",
          "매우 그렇다",
          "보통이다",
          "그런 편이다",
          "보통이다",
          "그런 편이다",
          "보통이다",
          "보통이다",
          "보통이다",
          "매우 그렇다",
          "보통이다",
          "그런 편이다",
          "보통이다",
          "그런 편이다",
          "그런 편이다",
          "보통이다",
          "보통이다",
          "매우 그렇다",
          "그렇지 않은 편이다",
          "보통이다",
          "그런 편이다",
          "보통이다",
          "보통이다",
          "그런 편이다",
          "보통이다",
          "보통이다",
          "보통이다",
          "그런 편이다",
          "그런 편이다",
          "그런 편이다",
          "그런 편이다",
          "보통이다",
          "그런 편이다",
          "보통이다",
          "보통이다",
          "보통이다",
          "그렇지 않은 편이다",
          "보통이다",
          "매우 그렇다",
          "그런 편이다",
          "보통이다",
          "그런 편이다",
          "보통이다",
          "그런 편이다",
          "그런 편이다",
          "그런 편이다",
          "그런 편이다",
          "그런 편이다",
          "그런 편이다",
          "그렇지 않은 편이다",
          "보통이다",
          "그런 편이다",
          "그런 편이다",
          "그런 편이다",
          "보통이다",
          "보통이다",
          "그런 편이다",
          "그런 편이다",
          "보통이다",
          "매우 그렇다",
          "보통이다",
          "그런 편이다",
          "그런 편이다",
          "그런 편이다",
          "그런 편이다",
          "그런 편이다",
          "그런 편이다",
          "그렇지 않은 편이다",
          "그런 편이다",
          "그렇지 않은 편이다",
          "그런 편이다",
          "그런 편이다",
          "매우 그렇다",
          "보통이다",
          "보통이다",
          "그런 편이다",
          "보통이다",
          "그런 편이다",
          "보통이다",
          "그런 편이다",
          "보통이다",
          "보통이다",
          "그런 편이다",
          "보통이다",
          "그런 편이다",
          "보통이다",
          "보통이다",
          "보통이다",
          "그런 편이다",
          "전혀 그렇지 않다",
          "그런 편이다",
          "보통이다",
          "그런 편이다",
          "그런 편이다",
          "그런 편이다",
          "보통이다",
          "그런 편이다",
          "그런 편이다",
          "그런 편이다",
          "그런 편이다",
          "보통이다",
          "그런 편이다",
          "보통이다",
          "그런 편이다",
          "그렇지 않은 편이다",
          "보통이다",
          "전혀 그렇지 않다",
          "보통이다",
          "그런 편이다",
          "매우 그렇다",
          "보통이다",
          "그런 편이다",
          "그런 편이다",
          "매우 그렇다",
          "보통이다",
          "보통이다",
          "보통이다",
          "그렇지 않은 편이다",
          "보통이다",
          "그런 편이다",
          "그런 편이다",
          "그런 편이다",
          "그런 편이다",
          "보통이다",
          "매우 그렇다",
          "그런 편이다",
          "그런 편이다",
          "그런 편이다",
          "그런 편이다",
          "그런 편이다",
          "그런 편이다",
          "보통이다",
          "그렇지 않은 편이다",
          "그런 편이다",
          "보통이다",
          "그런 편이다",
          "보통이다",
          "전혀 그렇지 않다",
          "보통이다",
          "보통이다",
          "그렇지 않은 편이다",
          "그런 편이다",
          "그렇지 않은 편이다",
          "보통이다",
          "매우 그렇다",
          "그렇지 않은 편이다",
          "매우 그렇다",
          "매우 그렇다",
          "그런 편이다",
          "그런 편이다",
          "보통이다",
          "그런 편이다",
          "그런 편이다",
          "보통이다",
          "그렇지 않은 편이다",
          "그런 편이다",
          "그렇지 않은 편이다",
          "그런 편이다",
          "그렇지 않은 편이다",
          "보통이다",
          "매우 그렇다",
          "그런 편이다",
          "보통이다",
          "그런 편이다",
          "그런 편이다",
          "그런 편이다",
          "그렇지 않은 편이다",
          "전혀 그렇지 않다",
          "보통이다",
          "보통이다",
          "보통이다",
          "그렇지 않은 편이다",
          "보통이다",
          "그런 편이다",
          "보통이다",
          "매우 그렇다",
          "그런 편이다",
          "보통이다",
          "그런 편이다",
          "보통이다",
          "그런 편이다",
          "그런 편이다",
          "그런 편이다",
          "매우 그렇다",
          "보통이다",
          "매우 그렇다",
          "보통이다",
          "그런 편이다",
          "그렇지 않은 편이다",
          "보통이다",
          "그런 편이다",
          "보통이다",
          "그런 편이다",
          "그런 편이다",
          "그런 편이다",
          "보통이다",
          "보통이다",
          "매우 그렇다",
          "보통이다",
          "그런 편이다",
          "그런 편이다",
          "전혀 그렇지 않다",
          "그런 편이다",
          "보통이다",
          "그렇지 않은 편이다",
          "그런 편이다",
          "그런 편이다",
          "그런 편이다",
          "그런 편이다",
          "그런 편이다",
          "보통이다",
          "보통이다",
          "그런 편이다",
          "보통이다",
          "그런 편이다",
          "그런 편이다",
          "그런 편이다",
          "보통이다",
          "그런 편이다",
          "그런 편이다",
          "그런 편이다",
          "그런 편이다",
          "그런 편이다",
          "그런 편이다",
          "보통이다",
          "그런 편이다",
          "그런 편이다",
          "보통이다",
          "그런 편이다",
          "그런 편이다",
          "그런 편이다",
          "그런 편이다",
          "보통이다",
          "그런 편이다",
          "그런 편이다",
          "그런 편이다",
          "매우 그렇다",
          "그런 편이다",
          "그런 편이다",
          "매우 그렇다",
          "그런 편이다",
          "그런 편이다",
          "그렇지 않은 편이다",
          "그렇지 않은 편이다",
          "그런 편이다",
          "그런 편이다",
          "보통이다",
          "그런 편이다",
          "매우 그렇다",
          "그런 편이다",
          "그런 편이다",
          "그런 편이다",
          "그런 편이다",
          "그런 편이다",
          "보통이다",
          "보통이다",
          "그렇지 않은 편이다",
          "그런 편이다",
          "보통이다",
          "그런 편이다",
          "보통이다",
          "그런 편이다",
          "보통이다",
          "매우 그렇다",
          "그런 편이다",
          "그런 편이다",
          "그런 편이다",
          "보통이다",
          "전혀 그렇지 않다",
          "보통이다",
          "보통이다",
          "보통이다",
          "그렇지 않은 편이다",
          "보통이다",
          "보통이다",
          "그렇지 않은 편이다",
          "그런 편이다",
          "보통이다",
          "그런 편이다",
          "그런 편이다",
          "매우 그렇다",
          "그런 편이다",
          "보통이다",
          "그런 편이다",
          "매우 그렇다",
          "보통이다",
          "그런 편이다",
          "보통이다",
          "그런 편이다",
          "그런 편이다",
          "보통이다",
          "그런 편이다",
          "그렇지 않은 편이다",
          "보통이다",
          "그런 편이다",
          "그렇지 않은 편이다",
          "그런 편이다",
          "그런 편이다",
          "매우 그렇다",
          "전혀 그렇지 않다",
          "그런 편이다",
          "그렇지 않은 편이다",
          "그런 편이다",
          "그런 편이다",
          "그렇지 않은 편이다",
          "보통이다",
          "보통이다",
          "그런 편이다",
          "그런 편이다",
          "그런 편이다",
          "보통이다",
          "매우 그렇다",
          "매우 그렇다",
          "그런 편이다",
          "그런 편이다",
          "보통이다",
          "보통이다",
          "그런 편이다",
          "그런 편이다",
          "그런 편이다",
          "그런 편이다",
          "보통이다",
          "그런 편이다",
          "보통이다",
          "그런 편이다",
          "보통이다",
          "보통이다",
          "그런 편이다",
          "보통이다",
          "보통이다",
          "보통이다",
          "보통이다",
          "그런 편이다",
          "보통이다",
          "그런 편이다",
          "그런 편이다",
          "매우 그렇다",
          "보통이다",
          "보통이다",
          "그런 편이다",
          "보통이다",
          "보통이다",
          "보통이다",
          "그런 편이다",
          "보통이다",
          "그런 편이다",
          "그런 편이다",
          "그런 편이다",
          "그런 편이다",
          "그렇지 않은 편이다",
          "그런 편이다",
          "보통이다",
          "그런 편이다",
          "보통이다",
          "그렇지 않은 편이다",
          "그런 편이다",
          "그런 편이다",
          "그런 편이다",
          "보통이다",
          "그런 편이다",
          "그런 편이다",
          "그런 편이다",
          "그런 편이다",
          "그런 편이다",
          "그런 편이다",
          "그런 편이다",
          "그런 편이다",
          "보통이다",
          "그런 편이다",
          "그렇지 않은 편이다",
          "보통이다",
          "그런 편이다",
          "보통이다",
          "그렇지 않은 편이다",
          "그런 편이다",
          "그런 편이다",
          "그런 편이다",
          "그런 편이다",
          "그런 편이다",
          "보통이다",
          "보통이다",
          "그런 편이다",
          "보통이다",
          "매우 그렇다",
          "그런 편이다",
          "보통이다",
          "매우 그렇다",
          "보통이다",
          "보통이다",
          "그런 편이다",
          "그런 편이다",
          "그런 편이다",
          "보통이다",
          "보통이다",
          "보통이다",
          "그런 편이다",
          "그런 편이다",
          "그런 편이다",
          "보통이다",
          "그런 편이다",
          "그런 편이다",
          "그런 편이다",
          "보통이다",
          "매우 그렇다",
          "그런 편이다",
          "그런 편이다",
          "그렇지 않은 편이다",
          "그런 편이다",
          "그런 편이다",
          "그런 편이다",
          "보통이다",
          "그런 편이다",
          "보통이다",
          "보통이다",
          "보통이다",
          "그런 편이다",
          "그런 편이다",
          "보통이다",
          "그런 편이다",
          "보통이다",
          "매우 그렇다",
          "보통이다",
          "그런 편이다",
          "그런 편이다",
          "그런 편이다",
          "그런 편이다",
          "보통이다",
          "보통이다",
          "그런 편이다",
          "그런 편이다",
          "그렇지 않은 편이다",
          "보통이다",
          "매우 그렇다",
          "그런 편이다",
          "보통이다",
          "그런 편이다",
          "보통이다",
          "보통이다",
          "그런 편이다",
          "그런 편이다",
          "보통이다",
          "그런 편이다",
          "보통이다",
          "그런 편이다",
          "보통이다",
          "매우 그렇다",
          "보통이다",
          "그렇지 않은 편이다",
          "그런 편이다",
          "그런 편이다",
          "보통이다",
          "보통이다",
          "보통이다",
          "그런 편이다",
          "그런 편이다",
          "보통이다",
          "보통이다",
          "그런 편이다",
          "매우 그렇다",
          "보통이다",
          "보통이다",
          "그런 편이다",
          "그런 편이다",
          "보통이다",
          "보통이다",
          "보통이다",
          "보통이다",
          "그런 편이다",
          "그런 편이다",
          "그런 편이다",
          "보통이다",
          "보통이다",
          "보통이다",
          "그런 편이다",
          "보통이다",
          "그렇지 않은 편이다",
          "보통이다",
          "그런 편이다",
          "그런 편이다",
          "보통이다",
          "매우 그렇다",
          "그런 편이다",
          "그런 편이다",
          "그런 편이다",
          "보통이다",
          "그런 편이다",
          "그런 편이다",
          "전혀 그렇지 않다",
          "그런 편이다",
          "보통이다",
          "보통이다",
          "그런 편이다",
          "보통이다",
          "보통이다",
          "그런 편이다",
          "전혀 그렇지 않다",
          "그런 편이다",
          "그런 편이다",
          "보통이다",
          "그런 편이다",
          "보통이다",
          "보통이다",
          "그런 편이다",
          "보통이다",
          "보통이다",
          "보통이다",
          "그런 편이다",
          "그런 편이다",
          "보통이다",
          "그렇지 않은 편이다",
          "그런 편이다",
          "그런 편이다",
          "보통이다",
          "그런 편이다",
          "보통이다",
          "보통이다",
          "보통이다",
          "보통이다",
          "보통이다",
          "그렇지 않은 편이다",
          "그런 편이다",
          "보통이다",
          "그런 편이다",
          "그런 편이다",
          "매우 그렇다",
          "그렇지 않은 편이다",
          "매우 그렇다",
          "보통이다",
          "보통이다",
          "보통이다",
          "그런 편이다",
          "그런 편이다",
          "그런 편이다",
          "그런 편이다",
          "그런 편이다",
          "그런 편이다",
          "그렇지 않은 편이다",
          "그런 편이다",
          "보통이다",
          "보통이다",
          "그런 편이다",
          "그렇지 않은 편이다",
          "그런 편이다",
          "보통이다",
          "그런 편이다",
          "보통이다",
          "보통이다",
          "그렇지 않은 편이다",
          "그런 편이다",
          "보통이다",
          "보통이다",
          "그런 편이다",
          "보통이다",
          "그런 편이다",
          "그런 편이다",
          "그렇지 않은 편이다",
          "그런 편이다",
          "그런 편이다",
          "그런 편이다",
          "보통이다",
          "보통이다",
          "그렇지 않은 편이다",
          "매우 그렇다",
          "보통이다",
          "그런 편이다",
          "그런 편이다",
          "그런 편이다",
          "보통이다",
          "그런 편이다",
          "그런 편이다",
          "그런 편이다",
          "그런 편이다",
          "그런 편이다",
          "전혀 그렇지 않다",
          "보통이다",
          "그런 편이다",
          "그런 편이다",
          "보통이다",
          "보통이다",
          "보통이다",
          "보통이다",
          "그런 편이다",
          "그런 편이다",
          "보통이다",
          "그런 편이다",
          "그런 편이다",
          "그런 편이다",
          "매우 그렇다",
          "매우 그렇다",
          "그런 편이다",
          "그런 편이다",
          "그런 편이다",
          "보통이다",
          "그런 편이다",
          "보통이다",
          "그런 편이다",
          "보통이다",
          "그런 편이다",
          "그런 편이다",
          "그런 편이다",
          "보통이다",
          "보통이다",
          "그런 편이다",
          "보통이다",
          "보통이다",
          "그런 편이다",
          "그런 편이다",
          "그런 편이다",
          "보통이다",
          "그런 편이다",
          "그렇지 않은 편이다",
          "그런 편이다",
          "보통이다",
          "그렇지 않은 편이다",
          "그런 편이다",
          "그런 편이다",
          "보통이다",
          "그런 편이다",
          "보통이다",
          "매우 그렇다",
          "그런 편이다",
          "보통이다",
          "매우 그렇다",
          "그런 편이다",
          "보통이다",
          "그런 편이다",
          "그런 편이다",
          "그런 편이다",
          "보통이다",
          "그런 편이다",
          "그런 편이다",
          "보통이다",
          "그런 편이다",
          "보통이다",
          "그런 편이다",
          "보통이다",
          "그런 편이다",
          "그런 편이다",
          "보통이다",
          "보통이다",
          "보통이다",
          "그런 편이다",
          "보통이다",
          "보통이다",
          "보통이다",
          "보통이다",
          "그런 편이다",
          "보통이다",
          "보통이다",
          "매우 그렇다",
          "그런 편이다",
          "그렇지 않은 편이다",
          "그런 편이다",
          "그런 편이다",
          "보통이다",
          "보통이다",
          "그런 편이다",
          "매우 그렇다",
          "그런 편이다",
          "그런 편이다",
          "보통이다",
          "보통이다",
          "보통이다",
          "보통이다",
          "그런 편이다",
          "그런 편이다",
          "보통이다",
          "그런 편이다",
          "보통이다",
          "보통이다",
          "보통이다",
          "그런 편이다",
          "그런 편이다",
          "보통이다",
          "보통이다",
          "보통이다",
          "보통이다",
          "그렇지 않은 편이다",
          "그런 편이다",
          "보통이다",
          "보통이다",
          "그런 편이다",
          "보통이다",
          "보통이다",
          "그런 편이다",
          "그런 편이다",
          "보통이다",
          "그런 편이다",
          "보통이다",
          "그런 편이다",
          "매우 그렇다",
          "보통이다",
          "보통이다",
          "그런 편이다",
          "그런 편이다",
          "보통이다",
          "그런 편이다",
          "보통이다",
          "보통이다",
          "그런 편이다",
          "그런 편이다",
          "그런 편이다",
          "보통이다",
          "보통이다",
          "보통이다",
          "그런 편이다",
          "그런 편이다",
          "보통이다",
          "그런 편이다",
          "그런 편이다",
          "보통이다",
          "보통이다",
          "그렇지 않은 편이다",
          "보통이다",
          "그런 편이다",
          "그렇지 않은 편이다",
          "그런 편이다",
          "그런 편이다",
          "그런 편이다",
          "그런 편이다",
          "그런 편이다",
          "그런 편이다",
          "그런 편이다",
          "보통이다",
          "보통이다",
          "그런 편이다",
          "보통이다",
          "그렇지 않은 편이다",
          "보통이다",
          "그런 편이다",
          "그런 편이다",
          "보통이다",
          "그런 편이다",
          "그렇지 않은 편이다",
          "그런 편이다",
          "보통이다",
          "보통이다",
          "보통이다",
          "그런 편이다",
          "보통이다",
          "그렇지 않은 편이다",
          "그렇지 않은 편이다",
          "매우 그렇다",
          "보통이다",
          "보통이다",
          "그런 편이다",
          "그런 편이다",
          "그런 편이다",
          "그런 편이다",
          "그런 편이다",
          "그런 편이다",
          "그런 편이다",
          "보통이다",
          "보통이다",
          "그런 편이다",
          "보통이다",
          "그런 편이다",
          "보통이다",
          "그런 편이다",
          "그렇지 않은 편이다",
          "보통이다",
          "전혀 그렇지 않다",
          "보통이다",
          "그런 편이다",
          "그런 편이다",
          "그런 편이다",
          "그런 편이다",
          "그런 편이다",
          "보통이다",
          "보통이다",
          "매우 그렇다",
          "그런 편이다",
          "그런 편이다",
          "보통이다",
          "보통이다",
          "전혀 그렇지 않다",
          "그런 편이다",
          "그렇지 않은 편이다",
          "그런 편이다",
          "그런 편이다",
          "그렇지 않은 편이다",
          "그런 편이다",
          "그런 편이다",
          "그런 편이다",
          "보통이다",
          "그런 편이다",
          "그런 편이다",
          "그런 편이다",
          "그런 편이다",
          "그렇지 않은 편이다",
          "매우 그렇다",
          "보통이다",
          "그런 편이다",
          "보통이다",
          "그런 편이다",
          "보통이다",
          "보통이다",
          "보통이다",
          "그렇지 않은 편이다",
          "그런 편이다",
          "보통이다",
          "그렇지 않은 편이다",
          "그런 편이다",
          "그런 편이다",
          "그런 편이다",
          "그렇지 않은 편이다",
          "보통이다",
          "그런 편이다",
          "그런 편이다",
          "보통이다",
          "보통이다",
          "보통이다",
          "그런 편이다",
          "보통이다",
          "보통이다",
          "보통이다",
          "그런 편이다",
          "그렇지 않은 편이다",
          "보통이다",
          "그런 편이다",
          "보통이다",
          "보통이다",
          "그런 편이다",
          "보통이다",
          "그런 편이다",
          "그런 편이다",
          "그렇지 않은 편이다",
          "그런 편이다",
          "보통이다",
          "보통이다",
          "그런 편이다",
          "보통이다",
          "그런 편이다",
          "보통이다",
          "매우 그렇다",
          "그런 편이다",
          "그런 편이다",
          "그런 편이다",
          "보통이다",
          "그런 편이다",
          "보통이다",
          "그런 편이다",
          "보통이다",
          "보통이다",
          "그런 편이다",
          "매우 그렇다",
          "보통이다",
          "보통이다",
          "그런 편이다",
          "그런 편이다",
          "그런 편이다",
          "그런 편이다",
          "보통이다",
          "보통이다",
          "그런 편이다",
          "그런 편이다",
          "그런 편이다",
          "그렇지 않은 편이다",
          "그런 편이다",
          "그런 편이다",
          "그런 편이다",
          "그런 편이다",
          "그런 편이다",
          "그런 편이다",
          "그런 편이다",
          "보통이다",
          "그런 편이다",
          "그런 편이다",
          "보통이다",
          "그런 편이다",
          "보통이다",
          "그런 편이다",
          "그런 편이다",
          "그런 편이다",
          "그런 편이다",
          "그런 편이다",
          "그런 편이다",
          "보통이다",
          "보통이다",
          "그렇지 않은 편이다",
          "보통이다",
          "매우 그렇다",
          "그런 편이다",
          "보통이다",
          "보통이다",
          "매우 그렇다",
          "보통이다",
          "보통이다",
          "그런 편이다",
          "그렇지 않은 편이다",
          "그렇지 않은 편이다",
          "보통이다",
          "그런 편이다",
          "그런 편이다",
          "그런 편이다",
          "보통이다",
          "그런 편이다",
          "그런 편이다",
          "보통이다",
          "그런 편이다",
          "보통이다",
          "그런 편이다",
          "그런 편이다",
          "보통이다",
          "그런 편이다",
          "보통이다",
          "보통이다",
          "그렇지 않은 편이다",
          "그렇지 않은 편이다",
          "그런 편이다",
          "보통이다",
          "그런 편이다",
          "그렇지 않은 편이다",
          "그런 편이다",
          "그런 편이다",
          "그런 편이다",
          "보통이다",
          "그런 편이다",
          "그런 편이다",
          "보통이다",
          "보통이다",
          "그런 편이다",
          "보통이다",
          "보통이다",
          "보통이다",
          "보통이다",
          "매우 그렇다",
          "보통이다",
          "그런 편이다",
          "보통이다",
          "보통이다",
          "보통이다",
          "그렇지 않은 편이다",
          "보통이다",
          "그렇지 않은 편이다",
          "그런 편이다",
          "보통이다",
          "그런 편이다",
          "보통이다",
          "보통이다",
          "보통이다",
          "보통이다",
          "그런 편이다",
          "보통이다",
          "보통이다",
          "그렇지 않은 편이다",
          "보통이다",
          "그런 편이다",
          "그런 편이다",
          "그런 편이다",
          "보통이다",
          "보통이다",
          "보통이다",
          "그런 편이다",
          "그런 편이다",
          "보통이다",
          "보통이다",
          "보통이다",
          "매우 그렇다",
          "보통이다",
          "보통이다",
          "보통이다",
          "그렇지 않은 편이다",
          "그런 편이다",
          "그런 편이다",
          "매우 그렇다",
          "보통이다",
          "보통이다",
          "그런 편이다",
          "매우 그렇다",
          "보통이다",
          "보통이다",
          "그런 편이다",
          "그런 편이다",
          "보통이다",
          "보통이다",
          "그런 편이다",
          "그런 편이다",
          "그런 편이다",
          "그런 편이다",
          "그런 편이다",
          "그런 편이다",
          "보통이다",
          "매우 그렇다",
          "그런 편이다",
          "그런 편이다",
          "그렇지 않은 편이다",
          "그렇지 않은 편이다",
          "보통이다",
          "그런 편이다",
          "그런 편이다",
          "그런 편이다",
          "보통이다",
          "그런 편이다",
          "보통이다",
          "보통이다",
          "그런 편이다",
          "보통이다",
          "그런 편이다",
          "그런 편이다",
          "그런 편이다",
          "그렇지 않은 편이다",
          "보통이다",
          "보통이다",
          "그런 편이다",
          "그렇지 않은 편이다",
          "보통이다",
          "그런 편이다",
          "그런 편이다",
          "보통이다",
          "보통이다",
          "보통이다",
          "그런 편이다",
          "그런 편이다",
          "그렇지 않은 편이다",
          "보통이다",
          "보통이다",
          "보통이다",
          "그런 편이다",
          "보통이다",
          "그런 편이다",
          "보통이다",
          "그런 편이다",
          "보통이다",
          "보통이다",
          "보통이다",
          "보통이다",
          "그런 편이다",
          "그런 편이다",
          "보통이다",
          "보통이다",
          "그렇지 않은 편이다",
          "보통이다",
          "그런 편이다",
          "보통이다",
          "그렇지 않은 편이다",
          "그렇지 않은 편이다",
          "그렇지 않은 편이다",
          "보통이다",
          "매우 그렇다",
          "그런 편이다",
          "그런 편이다",
          "매우 그렇다",
          "매우 그렇다",
          "그런 편이다",
          "그런 편이다",
          "매우 그렇다",
          "그런 편이다",
          "그런 편이다",
          "그런 편이다",
          "그렇지 않은 편이다",
          "보통이다",
          "그렇지 않은 편이다",
          "매우 그렇다",
          "그런 편이다",
          "보통이다",
          "그렇지 않은 편이다",
          "그런 편이다",
          "보통이다",
          "그런 편이다",
          "보통이다",
          "그런 편이다",
          "그런 편이다",
          "그런 편이다",
          "보통이다",
          "매우 그렇다",
          "보통이다",
          "그런 편이다",
          "그런 편이다",
          "그런 편이다",
          "보통이다",
          "그런 편이다",
          "보통이다",
          "그런 편이다",
          "그런 편이다",
          "그런 편이다",
          "그렇지 않은 편이다",
          "그런 편이다",
          "그런 편이다",
          "그런 편이다",
          "그런 편이다",
          "그런 편이다",
          "보통이다",
          "보통이다",
          "그렇지 않은 편이다",
          "그런 편이다",
          "보통이다",
          "보통이다",
          "보통이다",
          "그렇지 않은 편이다",
          "보통이다",
          "그런 편이다",
          "매우 그렇다",
          "그렇지 않은 편이다",
          "그런 편이다",
          "그런 편이다",
          "그런 편이다",
          "그런 편이다",
          "그런 편이다",
          "보통이다",
          "보통이다",
          "그렇지 않은 편이다",
          "보통이다",
          "그렇지 않은 편이다",
          "보통이다",
          "그런 편이다",
          "전혀 그렇지 않다",
          "그런 편이다",
          "보통이다",
          "보통이다",
          "그런 편이다",
          "보통이다",
          "보통이다",
          "그렇지 않은 편이다",
          "매우 그렇다",
          "그런 편이다",
          "그런 편이다",
          "그런 편이다",
          "그렇지 않은 편이다",
          "그런 편이다",
          "보통이다",
          "보통이다",
          "그런 편이다",
          "보통이다",
          "매우 그렇다",
          "그런 편이다",
          "보통이다",
          "그런 편이다",
          "그렇지 않은 편이다",
          "그런 편이다",
          "보통이다",
          "보통이다",
          "그런 편이다",
          "그렇지 않은 편이다",
          "보통이다",
          "보통이다",
          "그런 편이다",
          "그런 편이다",
          "보통이다",
          "보통이다",
          "보통이다",
          "보통이다",
          "그런 편이다",
          "보통이다",
          "매우 그렇다",
          "그런 편이다",
          "그런 편이다",
          "그런 편이다",
          "그런 편이다",
          "그런 편이다",
          "그렇지 않은 편이다",
          "그렇지 않은 편이다",
          "보통이다",
          "그런 편이다",
          "보통이다",
          "그런 편이다",
          "그런 편이다",
          "그런 편이다",
          "보통이다",
          "그런 편이다",
          "보통이다",
          "그렇지 않은 편이다",
          "그런 편이다",
          "그렇지 않은 편이다",
          "그런 편이다",
          "그런 편이다",
          "그렇지 않은 편이다",
          "그런 편이다",
          "보통이다",
          "그런 편이다",
          "매우 그렇다",
          "그렇지 않은 편이다",
          "보통이다",
          "보통이다",
          "보통이다",
          "그런 편이다",
          "보통이다",
          "보통이다",
          "그런 편이다",
          "보통이다",
          "매우 그렇다",
          "보통이다",
          "그런 편이다",
          "그런 편이다",
          "보통이다",
          "보통이다",
          "그런 편이다",
          "그런 편이다",
          "그런 편이다",
          "그런 편이다",
          "그런 편이다",
          "보통이다",
          "보통이다",
          "보통이다",
          "그런 편이다",
          "그런 편이다",
          "보통이다",
          "보통이다",
          "보통이다",
          "그런 편이다",
          "그렇지 않은 편이다",
          "그런 편이다",
          "그렇지 않은 편이다",
          "보통이다",
          "보통이다",
          "그런 편이다",
          "보통이다",
          "보통이다",
          "그런 편이다",
          "그런 편이다",
          "보통이다",
          "그런 편이다",
          "그런 편이다",
          "보통이다",
          "그런 편이다",
          "그런 편이다",
          "보통이다",
          "보통이다",
          "보통이다",
          "보통이다",
          "그런 편이다",
          "그런 편이다",
          "전혀 그렇지 않다",
          "보통이다",
          "그런 편이다",
          "그렇지 않은 편이다",
          "보통이다",
          "그런 편이다",
          "그런 편이다",
          "그런 편이다",
          "그런 편이다",
          "그런 편이다",
          "매우 그렇다",
          "그런 편이다",
          "보통이다",
          "보통이다",
          "그런 편이다",
          "그렇지 않은 편이다",
          "그런 편이다",
          "그런 편이다",
          "보통이다",
          "그런 편이다",
          "그런 편이다",
          "보통이다",
          "매우 그렇다",
          "보통이다",
          "보통이다",
          "그런 편이다",
          "그런 편이다",
          "그런 편이다",
          "그런 편이다",
          "보통이다",
          "그런 편이다",
          "그런 편이다",
          "그런 편이다",
          "그런 편이다",
          "보통이다",
          "그런 편이다",
          "그런 편이다",
          "매우 그렇다",
          "그런 편이다",
          "그런 편이다",
          "그렇지 않은 편이다",
          "그런 편이다",
          "그런 편이다",
          "그런 편이다",
          "그런 편이다",
          "보통이다",
          "그런 편이다",
          "보통이다",
          "보통이다",
          "보통이다",
          "그런 편이다",
          "보통이다",
          "매우 그렇다",
          "그런 편이다",
          "그렇지 않은 편이다",
          "매우 그렇다",
          "보통이다",
          "그런 편이다",
          "보통이다",
          "그런 편이다",
          "보통이다",
          "매우 그렇다",
          "보통이다",
          "그런 편이다",
          "보통이다",
          "보통이다",
          "그런 편이다",
          "매우 그렇다",
          "그렇지 않은 편이다",
          "그런 편이다",
          "보통이다",
          "보통이다",
          "보통이다",
          "보통이다",
          "그렇지 않은 편이다",
          "그런 편이다",
          "그런 편이다",
          "그런 편이다",
          "그런 편이다",
          "그런 편이다",
          "보통이다",
          "보통이다",
          "보통이다",
          "그런 편이다",
          "매우 그렇다",
          "그런 편이다",
          "그런 편이다",
          "그런 편이다",
          "그렇지 않은 편이다",
          "보통이다",
          "보통이다",
          "보통이다",
          "그런 편이다",
          "보통이다",
          "그런 편이다",
          "그런 편이다",
          "그런 편이다",
          "그런 편이다",
          "보통이다",
          "그런 편이다",
          "그런 편이다",
          "그렇지 않은 편이다",
          "그렇지 않은 편이다",
          "그런 편이다",
          "그렇지 않은 편이다",
          "그렇지 않은 편이다",
          "매우 그렇다",
          "보통이다",
          "그런 편이다",
          "보통이다",
          "그런 편이다",
          "보통이다",
          "그런 편이다",
          "그런 편이다",
          "보통이다",
          "보통이다",
          "보통이다",
          "그런 편이다",
          "보통이다",
          "그렇지 않은 편이다",
          "매우 그렇다",
          "그런 편이다",
          "그런 편이다",
          "보통이다",
          "보통이다",
          "보통이다",
          "그런 편이다",
          "보통이다",
          "그런 편이다",
          "그런 편이다",
          "그런 편이다",
          "보통이다",
          "보통이다",
          "그렇지 않은 편이다",
          "보통이다",
          "그런 편이다",
          "보통이다",
          "그렇지 않은 편이다",
          "그런 편이다",
          "그런 편이다",
          "그런 편이다",
          "그런 편이다",
          "보통이다",
          "그런 편이다",
          "보통이다",
          "보통이다",
          "보통이다",
          "그런 편이다",
          "그런 편이다",
          "보통이다",
          "보통이다",
          "보통이다",
          "그런 편이다",
          "그런 편이다",
          "그런 편이다",
          "그런 편이다",
          "그런 편이다",
          "그런 편이다",
          "보통이다",
          "그런 편이다",
          "그런 편이다",
          "매우 그렇다",
          "그런 편이다",
          "그런 편이다",
          "그런 편이다",
          "보통이다",
          "그런 편이다",
          "보통이다",
          "보통이다",
          "보통이다",
          "보통이다",
          "그런 편이다",
          "그런 편이다",
          "그렇지 않은 편이다",
          "보통이다",
          "그런 편이다",
          "매우 그렇다",
          "보통이다",
          "그렇지 않은 편이다",
          "그런 편이다",
          "보통이다",
          "그런 편이다",
          "보통이다",
          "그런 편이다",
          "그런 편이다",
          "그렇지 않은 편이다",
          "그런 편이다",
          "보통이다",
          "그런 편이다",
          "그런 편이다",
          "그런 편이다",
          "그렇지 않은 편이다",
          "보통이다",
          "그런 편이다",
          "보통이다",
          "보통이다",
          "보통이다",
          "보통이다",
          "매우 그렇다",
          "보통이다",
          "그런 편이다",
          "그런 편이다",
          "보통이다",
          "그런 편이다",
          "그렇지 않은 편이다",
          "보통이다",
          "보통이다",
          "보통이다",
          "보통이다",
          "보통이다",
          "그런 편이다",
          "보통이다",
          "보통이다",
          "그렇지 않은 편이다",
          "그런 편이다",
          "보통이다",
          "그런 편이다",
          "그런 편이다",
          "그런 편이다",
          "보통이다",
          "보통이다",
          "보통이다",
          "보통이다",
          "그렇지 않은 편이다",
          "보통이다",
          "전혀 그렇지 않다",
          "보통이다",
          "보통이다",
          "보통이다",
          "그런 편이다",
          "그런 편이다",
          "그런 편이다",
          "보통이다",
          "보통이다",
          "그런 편이다",
          "보통이다",
          "그런 편이다",
          "보통이다",
          "매우 그렇다",
          "보통이다",
          "그런 편이다",
          "보통이다",
          "보통이다",
          "보통이다",
          "보통이다",
          "그렇지 않은 편이다",
          "그런 편이다",
          "그런 편이다",
          "보통이다",
          "그런 편이다",
          "보통이다",
          "그런 편이다",
          "보통이다",
          "보통이다",
          "그렇지 않은 편이다",
          "그런 편이다",
          "그런 편이다",
          "보통이다",
          "그런 편이다",
          "그런 편이다",
          "그런 편이다",
          "그렇지 않은 편이다",
          "매우 그렇다",
          "그런 편이다",
          "보통이다",
          "보통이다",
          "보통이다",
          "그런 편이다",
          "보통이다",
          "보통이다",
          "그런 편이다",
          "보통이다",
          "매우 그렇다",
          "보통이다",
          "보통이다",
          "보통이다",
          "그런 편이다",
          "매우 그렇다",
          "그런 편이다",
          "그렇지 않은 편이다",
          "그런 편이다",
          "그렇지 않은 편이다",
          "보통이다",
          "보통이다",
          "보통이다",
          "그렇지 않은 편이다",
          "그런 편이다",
          "보통이다",
          "그런 편이다",
          "그런 편이다",
          "그런 편이다",
          "보통이다",
          "보통이다",
          "보통이다",
          "그런 편이다",
          "보통이다",
          "보통이다",
          "그런 편이다",
          "보통이다",
          "보통이다",
          "그렇지 않은 편이다",
          "그런 편이다",
          "보통이다",
          "그런 편이다",
          "그런 편이다",
          "보통이다",
          "보통이다",
          "그런 편이다",
          "그런 편이다",
          "보통이다",
          "보통이다",
          "보통이다",
          "매우 그렇다",
          "보통이다",
          "그런 편이다",
          "보통이다",
          "보통이다",
          "그런 편이다",
          "보통이다",
          "보통이다",
          "보통이다",
          "그런 편이다",
          "그런 편이다",
          "보통이다",
          "보통이다",
          "보통이다",
          "보통이다",
          "그런 편이다",
          "그런 편이다",
          "그런 편이다",
          "매우 그렇다",
          "보통이다",
          "그런 편이다",
          "그런 편이다",
          "보통이다",
          "보통이다",
          "그런 편이다",
          "그런 편이다",
          "그런 편이다",
          "그런 편이다",
          "그렇지 않은 편이다",
          "보통이다",
          "그런 편이다",
          "그런 편이다",
          "그런 편이다",
          "그렇지 않은 편이다",
          "그런 편이다",
          "전혀 그렇지 않다",
          "그런 편이다",
          "보통이다",
          "그런 편이다",
          "그런 편이다",
          "그렇지 않은 편이다",
          "그런 편이다",
          "그런 편이다",
          "그런 편이다",
          "보통이다",
          "그런 편이다",
          "그런 편이다",
          "그런 편이다",
          "그런 편이다",
          "매우 그렇다",
          "그런 편이다",
          "그런 편이다",
          "보통이다",
          "보통이다",
          "그런 편이다",
          "그런 편이다",
          "그렇지 않은 편이다",
          "보통이다",
          "그런 편이다",
          "그런 편이다",
          "그런 편이다",
          "그렇지 않은 편이다",
          "보통이다",
          "보통이다",
          "보통이다",
          "보통이다",
          "그런 편이다",
          "매우 그렇다",
          "보통이다",
          "그렇지 않은 편이다",
          "그런 편이다",
          "그렇지 않은 편이다",
          "그렇지 않은 편이다",
          "보통이다",
          "그런 편이다",
          "보통이다",
          "보통이다",
          "그런 편이다",
          "그런 편이다",
          "그런 편이다",
          "보통이다",
          "그런 편이다",
          "보통이다",
          "그런 편이다",
          "그렇지 않은 편이다",
          "그런 편이다",
          "보통이다",
          "보통이다",
          "보통이다",
          "그런 편이다",
          "보통이다",
          "보통이다",
          "그런 편이다",
          "보통이다",
          "매우 그렇다",
          "그런 편이다",
          "그런 편이다",
          "그런 편이다",
          "보통이다",
          "그런 편이다",
          "매우 그렇다",
          "그런 편이다",
          "그런 편이다",
          "매우 그렇다",
          "보통이다",
          "그런 편이다",
          "그런 편이다",
          "그런 편이다",
          "그런 편이다",
          "그런 편이다",
          "보통이다",
          "그런 편이다",
          "그런 편이다",
          "보통이다",
          "보통이다",
          "매우 그렇다",
          "보통이다",
          "그런 편이다",
          "그런 편이다",
          "보통이다",
          "그런 편이다",
          "매우 그렇다",
          "보통이다",
          "매우 그렇다",
          "그렇지 않은 편이다",
          "그런 편이다",
          "그런 편이다",
          "그런 편이다",
          "그렇지 않은 편이다",
          "보통이다",
          "보통이다",
          "그런 편이다",
          "보통이다",
          "그런 편이다",
          "보통이다",
          "그런 편이다",
          "보통이다",
          "보통이다",
          "그런 편이다",
          "그런 편이다",
          "그런 편이다",
          "보통이다",
          "그런 편이다",
          "그런 편이다",
          "그런 편이다",
          "보통이다",
          "매우 그렇다",
          "보통이다",
          "보통이다",
          "매우 그렇다",
          "그런 편이다",
          "보통이다",
          "그런 편이다",
          "매우 그렇다",
          "그런 편이다",
          "그런 편이다",
          "보통이다",
          "그런 편이다",
          "그런 편이다",
          "보통이다",
          "그런 편이다",
          "그런 편이다",
          "보통이다",
          "그런 편이다",
          "그런 편이다",
          "그렇지 않은 편이다",
          "그런 편이다",
          "보통이다",
          "그렇지 않은 편이다",
          "보통이다",
          "보통이다",
          "그렇지 않은 편이다",
          "그런 편이다",
          "보통이다",
          "보통이다",
          "보통이다",
          "그런 편이다",
          "보통이다",
          "보통이다",
          "보통이다",
          "보통이다",
          "그런 편이다",
          "매우 그렇다",
          "보통이다",
          "그렇지 않은 편이다",
          "그런 편이다",
          "보통이다",
          "그런 편이다",
          "그런 편이다",
          "그런 편이다",
          "그렇지 않은 편이다",
          "그런 편이다",
          "그런 편이다",
          "보통이다",
          "그런 편이다",
          "그런 편이다",
          "보통이다",
          "그런 편이다",
          "그런 편이다",
          "그런 편이다",
          "보통이다",
          "보통이다",
          "보통이다",
          "보통이다",
          "보통이다",
          "보통이다",
          "그렇지 않은 편이다",
          "보통이다",
          "그런 편이다",
          "그런 편이다",
          "전혀 그렇지 않다",
          "그런 편이다",
          "보통이다",
          "보통이다",
          "보통이다",
          "그런 편이다",
          "보통이다",
          "그런 편이다",
          "보통이다",
          "보통이다",
          "그런 편이다",
          "그런 편이다",
          "그런 편이다",
          "그런 편이다",
          "보통이다",
          "보통이다",
          "보통이다",
          "그렇지 않은 편이다",
          "그렇지 않은 편이다",
          "보통이다",
          "그런 편이다",
          "매우 그렇다",
          "그렇지 않은 편이다",
          "그런 편이다",
          "보통이다",
          "그런 편이다",
          "그런 편이다",
          "그렇지 않은 편이다",
          "그런 편이다",
          "그렇지 않은 편이다",
          "보통이다",
          "그런 편이다",
          "그런 편이다",
          "그런 편이다",
          "보통이다",
          "그런 편이다",
          "그런 편이다",
          "보통이다",
          "그런 편이다",
          "그런 편이다",
          "그런 편이다",
          "보통이다",
          "그런 편이다",
          "보통이다",
          "보통이다",
          "보통이다",
          "보통이다",
          "보통이다",
          "보통이다",
          "보통이다",
          "그렇지 않은 편이다",
          "보통이다",
          "그런 편이다",
          "보통이다",
          "보통이다",
          "보통이다",
          "그런 편이다",
          "보통이다",
          "보통이다",
          "그런 편이다",
          "보통이다",
          "보통이다",
          "그런 편이다",
          "보통이다",
          "그런 편이다",
          "보통이다",
          "그런 편이다",
          "그런 편이다",
          "그렇지 않은 편이다",
          "그렇지 않은 편이다",
          "그런 편이다",
          "그런 편이다",
          "그런 편이다",
          "보통이다",
          "그런 편이다",
          "그런 편이다",
          "보통이다",
          "그런 편이다",
          "그런 편이다",
          "그런 편이다",
          "보통이다",
          "보통이다",
          "보통이다",
          "그런 편이다",
          "그런 편이다",
          "보통이다",
          "그런 편이다",
          "보통이다",
          "매우 그렇다",
          "그런 편이다",
          "그렇지 않은 편이다",
          "그런 편이다",
          "매우 그렇다",
          "보통이다",
          "그런 편이다",
          "그런 편이다",
          "그렇지 않은 편이다",
          "그렇지 않은 편이다",
          "그런 편이다",
          "그런 편이다",
          "그런 편이다",
          "그렇지 않은 편이다",
          "전혀 그렇지 않다",
          "보통이다",
          "그런 편이다",
          "그렇지 않은 편이다",
          "보통이다",
          "그런 편이다",
          "그런 편이다",
          "그런 편이다",
          "그런 편이다",
          "보통이다",
          "보통이다",
          "그런 편이다",
          "그런 편이다",
          "보통이다",
          "보통이다",
          "그렇지 않은 편이다",
          "그렇지 않은 편이다",
          "그런 편이다",
          "보통이다",
          "보통이다",
          "보통이다",
          "그런 편이다",
          "그런 편이다",
          "보통이다",
          "보통이다",
          "그렇지 않은 편이다",
          "그런 편이다",
          "매우 그렇다",
          "그렇지 않은 편이다",
          "보통이다",
          "보통이다",
          "보통이다",
          "그런 편이다",
          "그런 편이다",
          "보통이다",
          "보통이다",
          "그런 편이다",
          "그런 편이다",
          "보통이다",
          "보통이다",
          "보통이다",
          "보통이다",
          "그런 편이다",
          "보통이다",
          "그렇지 않은 편이다",
          "보통이다",
          "그런 편이다",
          "전혀 그렇지 않다",
          "그렇지 않은 편이다",
          "그런 편이다",
          "보통이다",
          "보통이다",
          "그런 편이다",
          "보통이다",
          "보통이다",
          "그런 편이다",
          "보통이다",
          "그런 편이다",
          "그런 편이다",
          "보통이다",
          "보통이다",
          "보통이다",
          "매우 그렇다",
          "보통이다",
          "보통이다",
          "보통이다",
          "그런 편이다",
          "매우 그렇다",
          "그런 편이다",
          "그렇지 않은 편이다",
          "그런 편이다",
          "그렇지 않은 편이다",
          "그런 편이다",
          "보통이다",
          "매우 그렇다",
          "그런 편이다",
          "그런 편이다",
          "그런 편이다",
          "그런 편이다",
          "보통이다",
          "그런 편이다",
          "그렇지 않은 편이다",
          "보통이다",
          "그런 편이다",
          "보통이다",
          "그런 편이다",
          "보통이다",
          "그렇지 않은 편이다",
          "그렇지 않은 편이다",
          "보통이다",
          "보통이다",
          "그런 편이다",
          "보통이다",
          "보통이다",
          "그런 편이다",
          "보통이다",
          "매우 그렇다",
          "그런 편이다",
          "보통이다",
          "그런 편이다",
          "그런 편이다",
          "보통이다",
          "그런 편이다",
          "그런 편이다",
          "그렇지 않은 편이다",
          "매우 그렇다",
          "그런 편이다",
          "보통이다",
          "보통이다",
          "그런 편이다",
          "그렇지 않은 편이다",
          "그런 편이다",
          "보통이다",
          "보통이다",
          "그런 편이다",
          "그렇지 않은 편이다",
          "보통이다",
          "그런 편이다",
          "보통이다",
          "그런 편이다",
          "그런 편이다",
          "보통이다",
          "보통이다",
          "그런 편이다",
          "보통이다",
          "보통이다",
          "그런 편이다",
          "그렇지 않은 편이다",
          "그런 편이다",
          "그렇지 않은 편이다",
          "그런 편이다",
          "그런 편이다",
          "보통이다",
          "그런 편이다",
          "보통이다",
          "매우 그렇다",
          "그렇지 않은 편이다",
          "보통이다",
          "그런 편이다",
          "매우 그렇다",
          "보통이다",
          "그런 편이다",
          "보통이다",
          "그런 편이다",
          "그런 편이다",
          "그런 편이다",
          "보통이다",
          "그런 편이다",
          "보통이다",
          "보통이다",
          "보통이다",
          "보통이다",
          "보통이다",
          "매우 그렇다",
          "매우 그렇다",
          "그런 편이다",
          "보통이다",
          "보통이다",
          "그런 편이다",
          "보통이다",
          "보통이다",
          "그런 편이다",
          "보통이다",
          "그렇지 않은 편이다",
          "보통이다",
          "그런 편이다",
          "그런 편이다",
          "그런 편이다",
          "그렇지 않은 편이다",
          "그런 편이다",
          "그런 편이다",
          "보통이다",
          "그런 편이다",
          "보통이다",
          "그런 편이다",
          "보통이다",
          "보통이다",
          "전혀 그렇지 않다",
          "보통이다",
          "보통이다",
          "그런 편이다",
          "그런 편이다",
          "보통이다",
          "보통이다",
          "그런 편이다",
          "그런 편이다",
          "그런 편이다",
          "매우 그렇다",
          "보통이다",
          "보통이다",
          "그런 편이다",
          "보통이다",
          "보통이다",
          "그런 편이다",
          "그런 편이다",
          "보통이다",
          "보통이다",
          "보통이다",
          "보통이다",
          "보통이다",
          "그런 편이다",
          "그런 편이다",
          "보통이다",
          "매우 그렇다",
          "그런 편이다",
          "그런 편이다",
          "보통이다",
          "그런 편이다",
          "그런 편이다",
          "보통이다",
          "그런 편이다",
          "전혀 그렇지 않다",
          "그런 편이다",
          "그런 편이다",
          "그런 편이다",
          "그런 편이다",
          "보통이다",
          "보통이다",
          "보통이다",
          "그런 편이다",
          "보통이다",
          "그런 편이다",
          "보통이다",
          "그런 편이다",
          "보통이다",
          "그런 편이다",
          "보통이다",
          "그렇지 않은 편이다",
          "그렇지 않은 편이다",
          "그렇지 않은 편이다",
          "보통이다",
          "그런 편이다",
          "보통이다",
          "그런 편이다",
          "보통이다",
          "그런 편이다",
          "그런 편이다",
          "매우 그렇다",
          "그런 편이다",
          "보통이다",
          "그렇지 않은 편이다",
          "매우 그렇다",
          "그런 편이다",
          "보통이다",
          "그런 편이다",
          "보통이다",
          "보통이다",
          "그런 편이다",
          "전혀 그렇지 않다",
          "그런 편이다",
          "그런 편이다",
          "매우 그렇다",
          "그런 편이다",
          "보통이다",
          "보통이다",
          "매우 그렇다",
          "보통이다",
          "보통이다",
          "보통이다",
          "보통이다",
          "보통이다",
          "보통이다",
          "보통이다",
          "보통이다",
          "보통이다",
          "보통이다",
          "그런 편이다",
          "그런 편이다",
          "그런 편이다",
          "그런 편이다",
          "보통이다",
          "그런 편이다",
          "그런 편이다",
          "보통이다",
          "그렇지 않은 편이다",
          "보통이다",
          "그런 편이다",
          "그런 편이다",
          "보통이다",
          "보통이다",
          "보통이다",
          "보통이다",
          "보통이다",
          "보통이다",
          "보통이다",
          "보통이다",
          "보통이다",
          "그런 편이다",
          "보통이다",
          "보통이다",
          "보통이다",
          "그런 편이다",
          "그런 편이다",
          "보통이다",
          "그런 편이다",
          "그렇지 않은 편이다",
          "보통이다",
          "보통이다",
          "보통이다",
          "그런 편이다",
          "보통이다",
          "그런 편이다",
          "그렇지 않은 편이다",
          "그런 편이다",
          "매우 그렇다",
          "보통이다",
          "보통이다",
          "보통이다",
          "그렇지 않은 편이다",
          "그런 편이다",
          "그렇지 않은 편이다",
          "보통이다",
          "그런 편이다",
          "보통이다",
          "보통이다",
          "그런 편이다",
          "보통이다",
          "보통이다",
          "그런 편이다",
          "보통이다",
          "그렇지 않은 편이다",
          "보통이다",
          "그런 편이다",
          "보통이다",
          "그런 편이다",
          "보통이다",
          "보통이다",
          "보통이다",
          "그런 편이다",
          "보통이다",
          "보통이다",
          "보통이다",
          "보통이다",
          "보통이다",
          "보통이다",
          "보통이다",
          "보통이다",
          "그런 편이다",
          "보통이다",
          "그런 편이다",
          "그런 편이다",
          "그런 편이다",
          "그렇지 않은 편이다",
          "보통이다",
          "보통이다",
          "보통이다",
          "그렇지 않은 편이다",
          "보통이다",
          "보통이다",
          "그런 편이다",
          "그런 편이다",
          "그런 편이다",
          "그런 편이다",
          "보통이다",
          "보통이다",
          "보통이다",
          "매우 그렇다",
          "그런 편이다",
          "그렇지 않은 편이다",
          "그런 편이다",
          "그런 편이다",
          "그런 편이다",
          "그런 편이다",
          "그런 편이다",
          "그런 편이다",
          "그런 편이다",
          "보통이다",
          "보통이다",
          "보통이다",
          "그런 편이다",
          "그런 편이다",
          "그런 편이다",
          "보통이다",
          "보통이다",
          "보통이다",
          "보통이다",
          "그렇지 않은 편이다",
          "그런 편이다",
          "그런 편이다",
          "보통이다",
          "그렇지 않은 편이다",
          "그런 편이다",
          "매우 그렇다",
          "그런 편이다",
          "그런 편이다",
          "그런 편이다",
          "보통이다",
          "그런 편이다",
          "그렇지 않은 편이다",
          "그런 편이다",
          "보통이다",
          "그렇지 않은 편이다",
          "그런 편이다",
          "그런 편이다",
          "그런 편이다",
          "그런 편이다",
          "그런 편이다",
          "보통이다",
          "보통이다",
          "그렇지 않은 편이다",
          "그런 편이다",
          "그런 편이다",
          "매우 그렇다",
          "그런 편이다",
          "보통이다",
          "그런 편이다",
          "보통이다",
          "보통이다",
          "그런 편이다",
          "보통이다",
          "그런 편이다",
          "그런 편이다",
          "그런 편이다",
          "그런 편이다",
          "그런 편이다",
          "그런 편이다",
          "그렇지 않은 편이다",
          "그런 편이다",
          "보통이다",
          "그런 편이다",
          "그런 편이다",
          "보통이다",
          "보통이다",
          "보통이다",
          "그런 편이다",
          "그렇지 않은 편이다",
          "매우 그렇다",
          "그런 편이다",
          "매우 그렇다",
          "보통이다",
          "그런 편이다",
          "보통이다",
          "보통이다",
          "보통이다",
          "그런 편이다",
          "보통이다",
          "보통이다",
          "보통이다",
          "그런 편이다",
          "그런 편이다",
          "보통이다",
          "보통이다",
          "보통이다",
          "그런 편이다",
          "그렇지 않은 편이다",
          "그런 편이다",
          "그런 편이다",
          "그렇지 않은 편이다",
          "보통이다",
          "그런 편이다",
          "보통이다",
          "그런 편이다",
          "그런 편이다",
          "그런 편이다",
          "보통이다",
          "그런 편이다",
          "매우 그렇다",
          "그런 편이다",
          "그런 편이다",
          "그런 편이다",
          "보통이다",
          "매우 그렇다",
          "그런 편이다",
          "보통이다",
          "보통이다",
          "그런 편이다",
          "보통이다",
          "매우 그렇다",
          "보통이다",
          "보통이다",
          "보통이다",
          "보통이다",
          "보통이다",
          "보통이다",
          "그런 편이다",
          "그런 편이다",
          "보통이다",
          "보통이다",
          "보통이다",
          "보통이다",
          "그런 편이다",
          "그렇지 않은 편이다",
          "그런 편이다",
          "보통이다",
          "보통이다",
          "그런 편이다",
          "그런 편이다",
          "보통이다",
          "그런 편이다",
          "그런 편이다",
          "그렇지 않은 편이다",
          "그런 편이다",
          "그런 편이다",
          "그런 편이다",
          "그런 편이다",
          "보통이다",
          "보통이다",
          "그런 편이다",
          "보통이다",
          "보통이다",
          "보통이다",
          "보통이다",
          "그런 편이다",
          "그런 편이다",
          "보통이다",
          "그런 편이다",
          "보통이다",
          "보통이다",
          "그런 편이다",
          "보통이다",
          "보통이다",
          "보통이다",
          "보통이다",
          "그런 편이다",
          "그런 편이다",
          "보통이다",
          "그런 편이다",
          "보통이다",
          "그렇지 않은 편이다",
          "그런 편이다",
          "그런 편이다",
          "보통이다",
          "그런 편이다",
          "매우 그렇다",
          "보통이다",
          "그런 편이다",
          "그런 편이다",
          "그런 편이다",
          "그런 편이다",
          "그런 편이다",
          "그런 편이다",
          "그런 편이다",
          "보통이다",
          "그렇지 않은 편이다",
          "그런 편이다",
          "보통이다",
          "그렇지 않은 편이다",
          "그런 편이다",
          "보통이다",
          "그런 편이다",
          "보통이다",
          "그런 편이다",
          "그런 편이다",
          "그런 편이다",
          "보통이다",
          "그런 편이다",
          "그런 편이다",
          "보통이다",
          "그런 편이다",
          "보통이다",
          "보통이다",
          "그렇지 않은 편이다",
          "그런 편이다",
          "보통이다",
          "그런 편이다",
          "그런 편이다",
          "그런 편이다",
          "그런 편이다",
          "보통이다",
          "그런 편이다",
          "그런 편이다",
          "그런 편이다",
          "그런 편이다",
          "그런 편이다",
          "그런 편이다",
          "그런 편이다",
          "보통이다",
          "보통이다",
          "그런 편이다",
          "매우 그렇다",
          "보통이다",
          "그런 편이다",
          "그런 편이다",
          "그런 편이다",
          "보통이다",
          "보통이다",
          "그런 편이다",
          "보통이다",
          "그런 편이다",
          "그런 편이다",
          "그런 편이다",
          "매우 그렇다",
          "보통이다",
          "보통이다",
          "그런 편이다",
          "보통이다",
          "그렇지 않은 편이다",
          "그런 편이다",
          "보통이다",
          "그런 편이다",
          "그런 편이다",
          "보통이다",
          "보통이다",
          "그런 편이다",
          "그런 편이다",
          "보통이다",
          "그런 편이다",
          "보통이다",
          "보통이다",
          "보통이다",
          "보통이다",
          "보통이다",
          "보통이다",
          "보통이다",
          "그런 편이다",
          "그런 편이다",
          "보통이다",
          "보통이다",
          "보통이다",
          "그런 편이다",
          "그런 편이다",
          "보통이다",
          "매우 그렇다",
          "그런 편이다",
          "그런 편이다",
          "보통이다",
          "그런 편이다",
          "그런 편이다",
          "보통이다",
          "그런 편이다",
          "그런 편이다",
          "그런 편이다",
          "그런 편이다",
          "매우 그렇다",
          "그런 편이다",
          "그렇지 않은 편이다",
          "그런 편이다",
          "보통이다",
          "그렇지 않은 편이다",
          "그런 편이다",
          "보통이다",
          "그런 편이다",
          "보통이다",
          "그런 편이다",
          "그런 편이다",
          "보통이다",
          "그런 편이다",
          "보통이다",
          "그런 편이다",
          "그런 편이다",
          "보통이다",
          "매우 그렇다",
          "매우 그렇다",
          "그런 편이다",
          "보통이다",
          "그런 편이다",
          "그런 편이다",
          "그런 편이다",
          "그런 편이다",
          "그런 편이다",
          "그런 편이다",
          "그런 편이다",
          "보통이다",
          "보통이다",
          "매우 그렇다",
          "그런 편이다",
          "그런 편이다",
          "보통이다",
          "보통이다",
          "보통이다",
          "그런 편이다",
          "보통이다",
          "보통이다",
          "그런 편이다",
          "매우 그렇다",
          "그렇지 않은 편이다",
          "보통이다",
          "그런 편이다",
          "그런 편이다",
          "그렇지 않은 편이다",
          "보통이다",
          "그렇지 않은 편이다",
          "그런 편이다",
          "보통이다",
          "그렇지 않은 편이다",
          "그런 편이다",
          "매우 그렇다",
          "그런 편이다",
          "매우 그렇다",
          "그런 편이다",
          "보통이다",
          "보통이다",
          "그런 편이다",
          "보통이다",
          "그런 편이다",
          "그런 편이다",
          "보통이다",
          "그런 편이다",
          "그렇지 않은 편이다",
          "그런 편이다",
          "그런 편이다",
          "보통이다",
          "그런 편이다",
          "보통이다",
          "보통이다",
          "보통이다",
          "그런 편이다",
          "보통이다",
          "보통이다",
          "보통이다",
          "그렇지 않은 편이다",
          "보통이다",
          "보통이다",
          "그런 편이다",
          "그런 편이다",
          "보통이다",
          "보통이다",
          "그런 편이다",
          "보통이다",
          "그런 편이다",
          "매우 그렇다",
          "그런 편이다",
          "그런 편이다",
          "그런 편이다",
          "그런 편이다",
          "그런 편이다",
          "보통이다",
          "그렇지 않은 편이다",
          "보통이다",
          "그런 편이다",
          "보통이다",
          "그렇지 않은 편이다",
          "보통이다",
          "보통이다",
          "보통이다",
          "보통이다",
          "그런 편이다",
          "그런 편이다",
          "보통이다",
          "그런 편이다",
          "보통이다",
          "보통이다",
          "그런 편이다",
          "그런 편이다",
          "보통이다",
          "그런 편이다",
          "그런 편이다",
          "그런 편이다",
          "보통이다",
          "그런 편이다",
          "그런 편이다",
          "보통이다",
          "그런 편이다",
          "그런 편이다",
          "보통이다",
          "보통이다",
          "보통이다",
          "보통이다",
          "그렇지 않은 편이다",
          "매우 그렇다",
          "그런 편이다",
          "그런 편이다",
          "보통이다",
          "그런 편이다",
          "보통이다",
          "보통이다",
          "보통이다",
          "그런 편이다",
          "보통이다",
          "보통이다",
          "그런 편이다",
          "보통이다",
          "보통이다",
          "그런 편이다",
          "보통이다",
          "보통이다",
          "보통이다",
          "그런 편이다",
          "매우 그렇다",
          "그런 편이다",
          "보통이다",
          "그렇지 않은 편이다",
          "보통이다",
          "보통이다",
          "보통이다",
          "보통이다",
          "그런 편이다",
          "보통이다",
          "그런 편이다",
          "그런 편이다",
          "보통이다",
          "그렇지 않은 편이다",
          "보통이다",
          "그런 편이다",
          "그런 편이다",
          "그런 편이다",
          "그런 편이다",
          "보통이다",
          "보통이다",
          "그런 편이다",
          "그런 편이다",
          "보통이다",
          "보통이다",
          "그런 편이다",
          "그런 편이다",
          "보통이다",
          "보통이다",
          "그렇지 않은 편이다",
          "보통이다",
          "보통이다",
          "보통이다",
          "보통이다",
          "그런 편이다",
          "보통이다",
          "그런 편이다",
          "그렇지 않은 편이다",
          "그런 편이다",
          "보통이다",
          "보통이다",
          "그런 편이다",
          "보통이다",
          "그런 편이다",
          "그렇지 않은 편이다",
          "그런 편이다",
          "보통이다",
          "보통이다",
          "보통이다",
          "보통이다",
          "그런 편이다",
          "그렇지 않은 편이다",
          "그렇지 않은 편이다",
          "보통이다",
          "보통이다",
          "그런 편이다",
          "매우 그렇다",
          "그런 편이다",
          "보통이다",
          "그런 편이다",
          "보통이다",
          "그런 편이다",
          "그런 편이다",
          "그런 편이다",
          "보통이다",
          "보통이다",
          "그렇지 않은 편이다",
          "보통이다",
          "보통이다",
          "보통이다",
          "보통이다",
          "그런 편이다",
          "그런 편이다",
          "그런 편이다",
          "그런 편이다",
          "그런 편이다",
          "보통이다",
          "보통이다",
          "그런 편이다",
          "보통이다",
          "전혀 그렇지 않다",
          "보통이다",
          "보통이다",
          "보통이다",
          "그런 편이다",
          "그렇지 않은 편이다",
          "그런 편이다",
          "그런 편이다",
          "그런 편이다",
          "보통이다",
          "보통이다",
          "그런 편이다",
          "그런 편이다",
          "그런 편이다",
          "그런 편이다",
          "그런 편이다",
          "그런 편이다",
          "보통이다",
          "그런 편이다",
          "그런 편이다",
          "보통이다",
          "보통이다",
          "그런 편이다",
          "그런 편이다",
          "그렇지 않은 편이다",
          "그런 편이다",
          "그런 편이다",
          "그렇지 않은 편이다",
          "전혀 그렇지 않다",
          "그런 편이다",
          "그런 편이다",
          "보통이다",
          "그런 편이다",
          "그런 편이다",
          "보통이다",
          "그런 편이다",
          "보통이다",
          "그런 편이다",
          "그런 편이다",
          "보통이다",
          "보통이다",
          "그런 편이다",
          "그렇지 않은 편이다",
          "그런 편이다",
          "보통이다",
          "보통이다",
          "그런 편이다",
          "보통이다",
          "그런 편이다",
          "그런 편이다",
          "보통이다",
          "그런 편이다",
          "그렇지 않은 편이다",
          "그런 편이다",
          "보통이다",
          "매우 그렇다",
          "그런 편이다",
          "보통이다",
          "그런 편이다",
          "보통이다",
          "그런 편이다",
          "매우 그렇다",
          "그런 편이다",
          "보통이다",
          "그런 편이다",
          "보통이다",
          "그런 편이다",
          "그런 편이다",
          "그렇지 않은 편이다",
          "그런 편이다",
          "보통이다",
          "그런 편이다",
          "그런 편이다",
          "보통이다",
          "보통이다",
          "그런 편이다",
          "그런 편이다",
          "그런 편이다",
          "보통이다",
          "그런 편이다",
          "보통이다",
          "그런 편이다",
          "그렇지 않은 편이다",
          "그런 편이다",
          "그런 편이다",
          "보통이다",
          "그런 편이다",
          "그런 편이다",
          "그런 편이다",
          "매우 그렇다",
          "그런 편이다",
          "그런 편이다",
          "그런 편이다",
          "보통이다",
          "그런 편이다",
          "보통이다",
          "그렇지 않은 편이다",
          "그런 편이다",
          "보통이다",
          "보통이다",
          "그런 편이다",
          "그런 편이다",
          "보통이다",
          "그런 편이다",
          "그런 편이다",
          "보통이다",
          "보통이다",
          "보통이다",
          "보통이다",
          "보통이다",
          "그런 편이다",
          "그런 편이다",
          "보통이다",
          "보통이다",
          "보통이다",
          "그런 편이다",
          "그런 편이다",
          "보통이다",
          "보통이다",
          "그런 편이다",
          "보통이다",
          "보통이다",
          "그런 편이다",
          "그런 편이다",
          "보통이다",
          "그런 편이다",
          "보통이다",
          "그런 편이다",
          "그런 편이다",
          "그런 편이다",
          "보통이다",
          "보통이다",
          "그런 편이다",
          "그런 편이다",
          "보통이다",
          "보통이다",
          "매우 그렇다",
          "그런 편이다",
          "그런 편이다",
          "그런 편이다",
          "그런 편이다",
          "그런 편이다",
          "매우 그렇다",
          "보통이다",
          "그런 편이다",
          "그런 편이다",
          "그런 편이다",
          "그런 편이다",
          "그런 편이다",
          "보통이다",
          "그런 편이다",
          "그런 편이다",
          "그런 편이다",
          "그런 편이다",
          "보통이다",
          "보통이다",
          "그런 편이다",
          "보통이다",
          "그런 편이다",
          "그런 편이다",
          "보통이다",
          "보통이다",
          "보통이다",
          "보통이다",
          "보통이다",
          "보통이다",
          "보통이다",
          "그런 편이다",
          "보통이다",
          "보통이다",
          "보통이다",
          "그런 편이다",
          "그런 편이다",
          "그런 편이다",
          "그런 편이다",
          "그런 편이다",
          "그런 편이다",
          "그런 편이다",
          "그런 편이다",
          "보통이다",
          "그런 편이다",
          "그런 편이다",
          "그런 편이다",
          "보통이다",
          "그런 편이다",
          "보통이다",
          "매우 그렇다",
          "그런 편이다",
          "보통이다",
          "보통이다",
          "보통이다",
          "그런 편이다",
          "그런 편이다",
          "보통이다",
          "그런 편이다",
          "그런 편이다",
          "그런 편이다",
          "그런 편이다",
          "보통이다",
          "보통이다",
          "보통이다",
          "그런 편이다",
          "그런 편이다",
          "보통이다",
          "보통이다",
          "그런 편이다",
          "그런 편이다",
          "그런 편이다",
          "그런 편이다",
          "그렇지 않은 편이다",
          "그런 편이다",
          "그런 편이다",
          "그런 편이다",
          "보통이다",
          "그렇지 않은 편이다",
          "그런 편이다",
          "보통이다",
          "그런 편이다",
          "보통이다",
          "보통이다",
          "보통이다",
          "보통이다",
          "그런 편이다",
          "그런 편이다",
          "그렇지 않은 편이다",
          "그런 편이다",
          "보통이다",
          "그런 편이다",
          "그런 편이다",
          "그렇지 않은 편이다",
          "보통이다",
          "그런 편이다",
          "그런 편이다",
          "그렇지 않은 편이다",
          "그런 편이다",
          "그런 편이다",
          "보통이다",
          "그런 편이다",
          "보통이다",
          "그런 편이다",
          "매우 그렇다",
          "그런 편이다",
          "보통이다",
          "그런 편이다",
          "보통이다",
          "보통이다",
          "그런 편이다",
          "그렇지 않은 편이다",
          "매우 그렇다",
          "보통이다",
          "그런 편이다",
          "보통이다",
          "그런 편이다",
          "그런 편이다",
          "보통이다",
          "보통이다",
          "그렇지 않은 편이다",
          "보통이다",
          "매우 그렇다",
          "그런 편이다",
          "그런 편이다",
          "그런 편이다",
          "매우 그렇다",
          "그런 편이다",
          "그런 편이다",
          "전혀 그렇지 않다",
          "그런 편이다",
          "보통이다",
          "그렇지 않은 편이다",
          "그렇지 않은 편이다",
          "보통이다",
          "전혀 그렇지 않다",
          "그런 편이다",
          "그런 편이다",
          "보통이다",
          "보통이다",
          "그런 편이다",
          "보통이다",
          "그런 편이다",
          "그런 편이다",
          "보통이다",
          "그렇지 않은 편이다",
          "그런 편이다",
          "그런 편이다",
          "그런 편이다",
          "그런 편이다",
          "보통이다",
          "그런 편이다",
          "그런 편이다",
          "그렇지 않은 편이다",
          "보통이다",
          "그런 편이다",
          "보통이다",
          "매우 그렇다",
          "보통이다",
          "그런 편이다",
          "그런 편이다",
          "그런 편이다",
          "그런 편이다",
          "매우 그렇다",
          "보통이다",
          "보통이다",
          "그렇지 않은 편이다",
          "보통이다",
          "매우 그렇다",
          "보통이다",
          "보통이다",
          "보통이다",
          "보통이다",
          "그런 편이다",
          "그런 편이다",
          "그런 편이다",
          "그런 편이다",
          "보통이다",
          "그런 편이다",
          "그렇지 않은 편이다",
          "보통이다",
          "보통이다",
          "보통이다",
          "그런 편이다",
          "보통이다",
          "그런 편이다",
          "그런 편이다",
          "그런 편이다",
          "그렇지 않은 편이다",
          "그런 편이다",
          "보통이다",
          "보통이다",
          "그렇지 않은 편이다",
          "그런 편이다",
          "보통이다",
          "보통이다",
          "보통이다",
          "그런 편이다",
          "보통이다",
          "그런 편이다",
          "그런 편이다",
          "그런 편이다",
          "그렇지 않은 편이다",
          "그런 편이다",
          "그런 편이다",
          "보통이다",
          "보통이다",
          "보통이다",
          "보통이다",
          "그런 편이다",
          "그런 편이다",
          "보통이다",
          "그런 편이다",
          "그런 편이다",
          "보통이다",
          "보통이다",
          "그런 편이다",
          "그런 편이다",
          "그런 편이다",
          "그렇지 않은 편이다",
          "보통이다",
          "보통이다",
          "그런 편이다",
          "보통이다",
          "그런 편이다",
          "보통이다",
          "보통이다",
          "그런 편이다",
          "보통이다",
          "보통이다",
          "그런 편이다",
          "보통이다",
          "그런 편이다",
          "그렇지 않은 편이다",
          "그런 편이다",
          "그런 편이다",
          "보통이다",
          "그런 편이다",
          "그런 편이다",
          "그런 편이다",
          "보통이다",
          "보통이다",
          "그런 편이다",
          "그런 편이다",
          "매우 그렇다",
          "그런 편이다",
          "보통이다",
          "그런 편이다",
          "그렇지 않은 편이다",
          "그런 편이다",
          "보통이다",
          "그런 편이다",
          "보통이다",
          "그런 편이다",
          "그렇지 않은 편이다",
          "그런 편이다",
          "매우 그렇다",
          "매우 그렇다",
          "그렇지 않은 편이다",
          "그런 편이다",
          "그런 편이다",
          "보통이다",
          "보통이다",
          "그런 편이다",
          "보통이다",
          "보통이다",
          "보통이다",
          "그런 편이다",
          "그런 편이다",
          "그렇지 않은 편이다",
          "보통이다",
          "그런 편이다",
          "보통이다",
          "보통이다",
          "그런 편이다",
          "그런 편이다",
          "그렇지 않은 편이다",
          "그런 편이다",
          "그런 편이다",
          "그런 편이다",
          "그렇지 않은 편이다",
          "보통이다",
          "매우 그렇다",
          "보통이다",
          "매우 그렇다",
          "보통이다",
          "그렇지 않은 편이다",
          "그렇지 않은 편이다",
          "그런 편이다",
          "보통이다",
          "그런 편이다",
          "그런 편이다",
          "보통이다",
          "그런 편이다",
          "그런 편이다",
          "보통이다",
          "보통이다",
          "그런 편이다",
          "그런 편이다",
          "그런 편이다",
          "그렇지 않은 편이다",
          "보통이다",
          "보통이다",
          "그런 편이다",
          "그런 편이다",
          "그런 편이다",
          "매우 그렇다",
          "그런 편이다",
          "그런 편이다",
          "보통이다",
          "매우 그렇다",
          "보통이다",
          "보통이다",
          "매우 그렇다",
          "그런 편이다",
          "그런 편이다",
          "보통이다",
          "보통이다",
          "그런 편이다",
          "그런 편이다",
          "보통이다",
          "보통이다",
          "보통이다",
          "보통이다",
          "그런 편이다",
          "매우 그렇다",
          "보통이다",
          "그런 편이다",
          "보통이다",
          "그런 편이다",
          "그런 편이다",
          "그런 편이다",
          "보통이다",
          "그런 편이다",
          "보통이다",
          "보통이다",
          "그런 편이다",
          "보통이다",
          "보통이다",
          "그렇지 않은 편이다",
          "그런 편이다",
          "그런 편이다",
          "그런 편이다",
          "보통이다",
          "그렇지 않은 편이다",
          "보통이다",
          "보통이다",
          "보통이다",
          "보통이다",
          "그런 편이다",
          "그런 편이다",
          "그런 편이다",
          "보통이다",
          "그런 편이다",
          "보통이다",
          "보통이다",
          "보통이다",
          "보통이다",
          "보통이다",
          "그런 편이다",
          "보통이다",
          "보통이다",
          "그런 편이다",
          "보통이다",
          "그런 편이다",
          "그런 편이다",
          "그런 편이다",
          "그런 편이다",
          "그런 편이다",
          "보통이다",
          "보통이다",
          "보통이다",
          "그렇지 않은 편이다",
          "그런 편이다",
          "그런 편이다",
          "매우 그렇다",
          "그런 편이다",
          "그런 편이다",
          "그렇지 않은 편이다",
          "보통이다",
          "보통이다",
          "그렇지 않은 편이다",
          "보통이다",
          "보통이다",
          "그런 편이다",
          "그렇지 않은 편이다",
          "그런 편이다",
          "그렇지 않은 편이다",
          "보통이다",
          "보통이다",
          "그런 편이다",
          "그런 편이다",
          "그런 편이다",
          "보통이다",
          "그런 편이다",
          "보통이다",
          "그렇지 않은 편이다",
          "보통이다",
          "보통이다",
          "그런 편이다",
          "보통이다",
          "그런 편이다",
          "매우 그렇다",
          "보통이다",
          "보통이다",
          "보통이다",
          "그런 편이다",
          "보통이다",
          "그런 편이다",
          "그런 편이다",
          "그런 편이다",
          "그런 편이다",
          "보통이다",
          "그런 편이다",
          "그런 편이다",
          "보통이다",
          "보통이다",
          "그런 편이다",
          "그런 편이다",
          "보통이다",
          "보통이다",
          "보통이다",
          "보통이다",
          "보통이다",
          "그렇지 않은 편이다",
          "그런 편이다",
          "보통이다",
          "매우 그렇다",
          "보통이다",
          "그런 편이다",
          "그렇지 않은 편이다",
          "그런 편이다",
          "그런 편이다",
          "보통이다",
          "그런 편이다",
          "그렇지 않은 편이다",
          "보통이다",
          "그런 편이다",
          "보통이다",
          "그런 편이다",
          "그런 편이다",
          "그런 편이다",
          "매우 그렇다",
          "그런 편이다",
          "그런 편이다",
          "매우 그렇다",
          "그런 편이다",
          "보통이다",
          "보통이다",
          "그런 편이다",
          "그런 편이다",
          "그런 편이다",
          "그런 편이다",
          "보통이다",
          "그런 편이다",
          "보통이다",
          "그런 편이다",
          "보통이다",
          "그렇지 않은 편이다",
          "보통이다",
          "그렇지 않은 편이다",
          "그런 편이다",
          "보통이다",
          "보통이다",
          "전혀 그렇지 않다",
          "보통이다",
          "그런 편이다",
          "그런 편이다",
          "그런 편이다",
          "그렇지 않은 편이다",
          "보통이다",
          "보통이다",
          "그런 편이다",
          "보통이다",
          "보통이다",
          "그런 편이다",
          "그런 편이다",
          "그런 편이다",
          "보통이다",
          "보통이다",
          "그런 편이다",
          "보통이다",
          "보통이다",
          "보통이다",
          "그런 편이다",
          "그런 편이다",
          "보통이다",
          "그런 편이다",
          "보통이다",
          "그런 편이다",
          "보통이다",
          "보통이다",
          "그렇지 않은 편이다",
          "보통이다",
          "그렇지 않은 편이다",
          "그런 편이다",
          "그런 편이다",
          "보통이다",
          "보통이다",
          "그런 편이다",
          "보통이다",
          "그런 편이다",
          "보통이다",
          "보통이다",
          "보통이다",
          "매우 그렇다",
          "그렇지 않은 편이다",
          "보통이다",
          "매우 그렇다",
          "그런 편이다",
          "그런 편이다",
          "그런 편이다",
          "그런 편이다",
          "그런 편이다",
          "그렇지 않은 편이다",
          "보통이다",
          "그런 편이다",
          "그런 편이다",
          "보통이다"
         ],
         "title": {
          "text": "서울특별시"
         },
         "type": "pie",
         "values": [
          2,
          3,
          3,
          3,
          5,
          3,
          3,
          2,
          4,
          4,
          3,
          3,
          3,
          5,
          3,
          4,
          5,
          4,
          3,
          4,
          3,
          4,
          3,
          4,
          4,
          2,
          5,
          4,
          4,
          3,
          3,
          4,
          3,
          2,
          3,
          3,
          3,
          3,
          4,
          1,
          3,
          5,
          2,
          3,
          4,
          3,
          4,
          3,
          4,
          3,
          3,
          5,
          4,
          3,
          4,
          3,
          3,
          2,
          3,
          3,
          2,
          3,
          3,
          3,
          3,
          3,
          3,
          3,
          2,
          4,
          3,
          4,
          4,
          4,
          3,
          4,
          3,
          4,
          4,
          4,
          4,
          2,
          4,
          3,
          4,
          3,
          3,
          3,
          4,
          3,
          3,
          4,
          4,
          3,
          4,
          3,
          2,
          4,
          2,
          4,
          2,
          4,
          4,
          4,
          3,
          4,
          3,
          3,
          3,
          4,
          4,
          4,
          3,
          2,
          3,
          3,
          4,
          3,
          3,
          3,
          4,
          3,
          3,
          2,
          4,
          5,
          3,
          3,
          3,
          3,
          3,
          4,
          3,
          3,
          3,
          3,
          2,
          5,
          4,
          3,
          3,
          2,
          3,
          4,
          3,
          3,
          3,
          3,
          3,
          4,
          3,
          3,
          3,
          4,
          3,
          4,
          2,
          3,
          4,
          3,
          5,
          3,
          4,
          1,
          4,
          3,
          3,
          2,
          3,
          4,
          4,
          4,
          5,
          5,
          3,
          3,
          4,
          5,
          3,
          2,
          4,
          3,
          3,
          3,
          2,
          3,
          4,
          4,
          5,
          4,
          3,
          4,
          4,
          3,
          3,
          4,
          3,
          4,
          3,
          3,
          4,
          4,
          4,
          3,
          4,
          4,
          3,
          4,
          4,
          4,
          3,
          4,
          3,
          2,
          4,
          2,
          3,
          3,
          4,
          4,
          4,
          3,
          4,
          3,
          4,
          3,
          4,
          3,
          3,
          3,
          4,
          4,
          3,
          2,
          3,
          4,
          4,
          2,
          4,
          4,
          3,
          4,
          3,
          4,
          4,
          4,
          4,
          3,
          3,
          3,
          3,
          4,
          3,
          3,
          3,
          4,
          4,
          4,
          3,
          4,
          3,
          3,
          3,
          3,
          4,
          4,
          2,
          4,
          3,
          4,
          3,
          3,
          3,
          4,
          4,
          3,
          3,
          4,
          4,
          4,
          4,
          3,
          4,
          4,
          3,
          4,
          4,
          2,
          4,
          2,
          4,
          3,
          3,
          4,
          4,
          4,
          3,
          3,
          4,
          3,
          4,
          4,
          4,
          3,
          4,
          3,
          3,
          3,
          4,
          3,
          4,
          4,
          3,
          4,
          3,
          2,
          4,
          3,
          2,
          3,
          4,
          3,
          3,
          3,
          4,
          4,
          4,
          3,
          3,
          4,
          4,
          4,
          3,
          3,
          3,
          1,
          3,
          3,
          3,
          3,
          5,
          3,
          2,
          5,
          4,
          3,
          3,
          5,
          3,
          4,
          4,
          4,
          3,
          5,
          5,
          3,
          4,
          4,
          3,
          4,
          2,
          4,
          3,
          3,
          4,
          4,
          2,
          3,
          3,
          3,
          2,
          3,
          4,
          4,
          3,
          4,
          4,
          2,
          3,
          3,
          3,
          4,
          3,
          4,
          3,
          3,
          3,
          2,
          1,
          4,
          3,
          3,
          4,
          3,
          2,
          4,
          4,
          3,
          3,
          4,
          4,
          3,
          4,
          3,
          3,
          4,
          3,
          3,
          3,
          4,
          3,
          4,
          4,
          4,
          4,
          3,
          3,
          3,
          4,
          3,
          3,
          4,
          4,
          4,
          4,
          3,
          3,
          3,
          3,
          3,
          3,
          4,
          4,
          3,
          4,
          4,
          4,
          3,
          2,
          3,
          2,
          4,
          4,
          4,
          3,
          4,
          4,
          4,
          3,
          3,
          3,
          3,
          4,
          3,
          3,
          4,
          3,
          4,
          3,
          4,
          4,
          4,
          2,
          4,
          4,
          3,
          3,
          4,
          5,
          3,
          4,
          4,
          5,
          3,
          4,
          3,
          4,
          4,
          4,
          4,
          4,
          2,
          3,
          3,
          3,
          3,
          4,
          4,
          3,
          4,
          4,
          3,
          4,
          3,
          4,
          3,
          4,
          4,
          4,
          3,
          4,
          4,
          5,
          4,
          2,
          5,
          4,
          4,
          4,
          4,
          4,
          2,
          3,
          4,
          4,
          5,
          3,
          2,
          2,
          3,
          2,
          4,
          3,
          4,
          3,
          2,
          4,
          4,
          4,
          4,
          3,
          3,
          3,
          4,
          4,
          5,
          4,
          3,
          4,
          2,
          3,
          4,
          4,
          3,
          2,
          2,
          3,
          4,
          4,
          3,
          4,
          5,
          3,
          3,
          4,
          3,
          4,
          3,
          3,
          4,
          4,
          4,
          3,
          5,
          2,
          4,
          3,
          4,
          3,
          4,
          4,
          4,
          3,
          3,
          4,
          2,
          3,
          2,
          5,
          4,
          4,
          3,
          3,
          3,
          3,
          3,
          3,
          4,
          3,
          3,
          4,
          3,
          4,
          4,
          4,
          2,
          2,
          3,
          4,
          3,
          3,
          2,
          4,
          5,
          2,
          4,
          4,
          2,
          4,
          5,
          3,
          3,
          3,
          4,
          3,
          4,
          4,
          3,
          4,
          2,
          3,
          2,
          4,
          4,
          4,
          3,
          3,
          4,
          4,
          4,
          4,
          3,
          4,
          4,
          4,
          3,
          4,
          3,
          4,
          4,
          4,
          2,
          3,
          4,
          4,
          3,
          3,
          5,
          4,
          3,
          4,
          3,
          3,
          4,
          3,
          4,
          4,
          4,
          4,
          4,
          3,
          2,
          5,
          4,
          3,
          4,
          3,
          3,
          3,
          3,
          4,
          4,
          4,
          4,
          4,
          3,
          3,
          5,
          3,
          4,
          4,
          4,
          3,
          4,
          3,
          4,
          5,
          3,
          5,
          3,
          4,
          4,
          4,
          4,
          1,
          4,
          3,
          4,
          4,
          3,
          5,
          4,
          4,
          3,
          4,
          3,
          3,
          3,
          5,
          4,
          3,
          4,
          4,
          4,
          3,
          3,
          3,
          4,
          4,
          4,
          4,
          3,
          4,
          3,
          3,
          4,
          4,
          4,
          4,
          3,
          3,
          3,
          4,
          4,
          4,
          2,
          4,
          4,
          3,
          4,
          3,
          4,
          3,
          3,
          2,
          2,
          3,
          4,
          2,
          3,
          4,
          3,
          3,
          3,
          4,
          2,
          4,
          4,
          4,
          4,
          3,
          4,
          3,
          4,
          5,
          4,
          4,
          5,
          3,
          4,
          4,
          4,
          3,
          3,
          4,
          4,
          4,
          4,
          3,
          3,
          4,
          5,
          3,
          4,
          2,
          3,
          2,
          4,
          4,
          4,
          3,
          2,
          3,
          3,
          3,
          4,
          4,
          3,
          4,
          3,
          3,
          3,
          4,
          2,
          3,
          4,
          2,
          4,
          3,
          3,
          3,
          3,
          3,
          4,
          4,
          4,
          4,
          2,
          4,
          3,
          3,
          3,
          3,
          4,
          3,
          3,
          3,
          3,
          3,
          2,
          4,
          4,
          3,
          3,
          2,
          3,
          2,
          4,
          3,
          4,
          4,
          3,
          3,
          4,
          4,
          2,
          4,
          3,
          4,
          3,
          4,
          4,
          4,
          4,
          3,
          4,
          3,
          4,
          5,
          3,
          4,
          5,
          4,
          4,
          2,
          4,
          4,
          3,
          2,
          2,
          4,
          3,
          3,
          3,
          3,
          4,
          4,
          4,
          3,
          3,
          3,
          3,
          4,
          3,
          3,
          4,
          4,
          4,
          3,
          3,
          3,
          4,
          4,
          4,
          3,
          3,
          2,
          5,
          3,
          4,
          4,
          5,
          4,
          3,
          4,
          3,
          4,
          3,
          4,
          2,
          4,
          4,
          4,
          5,
          4,
          3,
          4,
          4,
          3,
          4,
          2,
          4,
          4,
          4,
          3,
          3,
          3,
          5,
          3,
          2,
          4,
          4,
          5,
          3,
          4,
          3,
          4,
          3,
          3,
          4,
          4,
          4,
          4,
          3,
          1,
          4,
          4,
          4,
          4,
          3,
          3,
          3,
          3,
          3,
          3,
          2,
          4,
          4,
          3,
          4,
          3,
          4,
          4,
          2,
          3,
          4,
          3,
          4,
          3,
          4,
          5,
          5,
          3,
          4,
          4,
          3,
          4,
          3,
          3,
          3,
          3,
          4,
          3,
          4,
          4,
          3,
          4,
          4,
          4,
          4,
          4,
          3,
          3,
          4,
          4,
          3,
          4,
          3,
          4,
          4,
          3,
          4,
          2,
          3,
          2,
          3,
          3,
          4,
          4,
          2,
          4,
          3,
          5,
          3,
          4,
          4,
          3,
          4,
          3,
          3,
          4,
          4,
          3,
          4,
          3,
          4,
          3,
          4,
          3,
          3,
          4,
          3,
          4,
          4,
          3,
          4,
          3,
          4,
          3,
          4,
          4,
          4,
          3,
          2,
          3,
          3,
          4,
          4,
          4,
          2,
          3,
          4,
          4,
          3,
          4,
          4,
          2,
          4,
          5,
          3,
          4,
          3,
          3,
          3,
          4,
          3,
          4,
          3,
          4,
          4,
          4,
          3,
          3,
          2,
          3,
          3,
          3,
          2,
          4,
          3,
          2,
          3,
          3,
          4,
          3,
          4,
          2,
          4,
          4,
          2,
          3,
          4,
          2,
          2,
          4,
          3,
          4,
          2,
          5,
          3,
          4,
          2,
          4,
          3,
          4,
          3,
          4,
          4,
          4,
          3,
          3,
          3,
          3,
          4,
          5,
          3,
          4,
          4,
          3,
          3,
          4,
          3,
          3,
          4,
          3,
          4,
          2,
          4,
          4,
          4,
          4,
          4,
          4,
          4,
          4,
          3,
          4,
          3,
          2,
          3,
          4,
          4,
          4,
          2,
          3,
          2,
          4,
          3,
          4,
          3,
          2,
          2,
          3,
          4,
          4,
          5,
          4,
          2,
          4,
          4,
          2,
          4,
          3,
          4,
          4,
          4,
          4,
          4,
          2,
          3,
          4,
          3,
          4,
          5,
          4,
          4,
          4,
          3,
          3,
          3,
          4,
          4,
          4,
          4,
          2,
          3,
          3,
          3,
          5,
          2,
          4,
          4,
          3,
          4,
          3,
          4,
          4,
          4,
          4,
          4,
          3,
          5,
          3,
          4,
          3,
          3,
          3,
          4,
          3,
          3,
          3,
          4,
          4,
          4,
          4,
          3,
          4,
          3,
          3,
          4,
          4,
          3,
          3,
          3,
          3,
          3,
          5,
          3,
          4,
          3,
          5,
          2,
          2,
          3,
          4,
          3,
          2,
          4,
          3,
          2,
          4,
          4,
          3,
          4,
          2,
          3,
          3,
          3,
          3,
          4,
          3,
          3,
          3,
          3,
          3,
          4,
          4,
          4,
          4,
          2,
          3,
          4,
          4,
          4,
          4,
          3,
          3,
          3,
          5,
          2,
          4,
          4,
          4,
          4,
          3,
          4,
          4,
          3,
          4,
          3,
          3,
          4,
          4,
          4,
          3,
          3,
          4,
          4,
          2,
          4,
          3,
          4,
          3,
          3,
          4,
          3,
          4,
          4,
          4,
          4,
          2,
          4,
          4,
          4,
          3,
          4,
          4,
          4,
          4,
          4,
          3,
          4,
          4,
          4,
          2,
          2,
          4,
          3,
          3,
          3,
          4,
          4,
          4,
          4,
          2,
          4,
          3,
          4,
          4,
          3,
          3,
          2,
          5,
          4,
          3,
          4,
          4,
          4,
          3,
          5,
          3,
          2,
          3,
          4,
          2,
          3,
          2,
          2,
          4,
          4,
          4,
          3,
          3,
          4,
          4,
          4,
          3,
          5,
          2,
          4,
          5,
          3,
          3,
          5,
          4,
          3,
          4,
          2,
          2,
          4,
          3,
          3,
          3,
          4,
          4,
          3,
          3,
          4,
          4,
          3,
          2,
          3,
          4,
          4,
          3,
          3,
          3,
          4,
          2,
          4,
          3,
          4,
          2,
          2,
          4,
          3,
          4,
          4,
          4,
          4,
          3,
          4,
          4,
          2,
          3,
          3,
          4,
          4,
          5,
          4,
          3,
          3,
          4,
          3,
          4,
          4,
          4,
          4,
          4,
          4,
          3,
          4,
          3,
          4,
          3,
          3,
          2,
          3,
          3,
          4,
          4,
          3,
          3,
          3,
          3,
          3,
          4,
          3,
          5,
          4,
          3,
          3,
          3,
          5,
          3,
          4,
          3,
          4,
          2,
          2,
          4,
          4,
          5,
          4,
          3,
          4,
          4,
          3,
          4,
          3,
          4,
          3,
          3,
          2,
          4,
          3,
          3,
          4,
          3,
          3,
          4,
          4,
          3,
          4,
          4,
          3,
          3,
          3,
          4,
          3,
          3,
          4,
          3,
          4,
          2,
          3,
          3,
          4,
          4,
          4,
          4,
          3,
          2,
          4,
          2,
          4,
          4,
          4,
          3,
          3,
          5,
          3,
          4,
          2,
          3,
          3,
          5,
          3,
          4,
          3,
          4,
          3,
          3,
          3,
          5,
          3,
          4,
          3,
          4,
          4,
          3,
          3,
          5,
          2,
          3,
          4,
          3,
          3,
          4,
          3,
          3,
          3,
          4,
          4,
          4,
          4,
          3,
          4,
          3,
          3,
          3,
          2,
          3,
          5,
          4,
          3,
          4,
          3,
          4,
          4,
          4,
          4,
          4,
          4,
          2,
          3,
          4,
          4,
          4,
          3,
          3,
          4,
          4,
          3,
          5,
          3,
          4,
          4,
          4,
          4,
          4,
          4,
          2,
          4,
          2,
          4,
          4,
          5,
          3,
          3,
          4,
          3,
          4,
          3,
          4,
          3,
          3,
          4,
          3,
          4,
          3,
          3,
          3,
          4,
          1,
          4,
          3,
          4,
          4,
          4,
          3,
          4,
          4,
          4,
          4,
          3,
          4,
          3,
          4,
          2,
          3,
          1,
          3,
          4,
          5,
          3,
          4,
          4,
          5,
          3,
          3,
          3,
          2,
          3,
          4,
          4,
          4,
          4,
          3,
          5,
          4,
          4,
          4,
          4,
          4,
          4,
          3,
          2,
          4,
          3,
          4,
          3,
          1,
          3,
          3,
          2,
          4,
          2,
          3,
          5,
          2,
          5,
          5,
          4,
          4,
          3,
          4,
          4,
          3,
          2,
          4,
          2,
          4,
          2,
          3,
          5,
          4,
          3,
          4,
          4,
          4,
          2,
          1,
          3,
          3,
          3,
          2,
          3,
          4,
          3,
          5,
          4,
          3,
          4,
          3,
          4,
          4,
          4,
          5,
          3,
          5,
          3,
          4,
          2,
          3,
          4,
          3,
          4,
          4,
          4,
          3,
          3,
          5,
          3,
          4,
          4,
          1,
          4,
          3,
          2,
          4,
          4,
          4,
          4,
          4,
          3,
          3,
          4,
          3,
          4,
          4,
          4,
          3,
          4,
          4,
          4,
          4,
          4,
          4,
          3,
          4,
          4,
          3,
          4,
          4,
          4,
          4,
          3,
          4,
          4,
          4,
          5,
          4,
          4,
          5,
          4,
          4,
          2,
          2,
          4,
          4,
          3,
          4,
          5,
          4,
          4,
          4,
          4,
          4,
          3,
          3,
          2,
          4,
          3,
          4,
          3,
          4,
          3,
          5,
          4,
          4,
          4,
          3,
          1,
          3,
          3,
          3,
          2,
          3,
          3,
          2,
          4,
          3,
          4,
          4,
          5,
          4,
          3,
          4,
          5,
          3,
          4,
          3,
          4,
          4,
          3,
          4,
          2,
          3,
          4,
          2,
          4,
          4,
          5,
          1,
          4,
          2,
          4,
          4,
          2,
          3,
          3,
          4,
          4,
          4,
          3,
          5,
          5,
          4,
          4,
          3,
          3,
          4,
          4,
          4,
          4,
          3,
          4,
          3,
          4,
          3,
          3,
          4,
          3,
          3,
          3,
          3,
          4,
          3,
          4,
          4,
          5,
          3,
          3,
          4,
          3,
          3,
          3,
          4,
          3,
          4,
          4,
          4,
          4,
          2,
          4,
          3,
          4,
          3,
          2,
          4,
          4,
          4,
          3,
          4,
          4,
          4,
          4,
          4,
          4,
          4,
          4,
          3,
          4,
          2,
          3,
          4,
          3,
          2,
          4,
          4,
          4,
          4,
          4,
          3,
          3,
          4,
          3,
          5,
          4,
          3,
          5,
          3,
          3,
          4,
          4,
          4,
          3,
          3,
          3,
          4,
          4,
          4,
          3,
          4,
          4,
          4,
          3,
          5,
          4,
          4,
          2,
          4,
          4,
          4,
          3,
          4,
          3,
          3,
          3,
          4,
          4,
          3,
          4,
          3,
          5,
          3,
          4,
          4,
          4,
          4,
          3,
          3,
          4,
          4,
          2,
          3,
          5,
          4,
          3,
          4,
          3,
          3,
          4,
          4,
          3,
          4,
          3,
          4,
          3,
          5,
          3,
          2,
          4,
          4,
          3,
          3,
          3,
          4,
          4,
          3,
          3,
          4,
          5,
          3,
          3,
          4,
          4,
          3,
          3,
          3,
          3,
          4,
          4,
          4,
          3,
          3,
          3,
          4,
          3,
          2,
          3,
          4,
          4,
          3,
          5,
          4,
          4,
          4,
          3,
          4,
          4,
          1,
          4,
          3,
          3,
          4,
          3,
          3,
          4,
          1,
          4,
          4,
          3,
          4,
          3,
          3,
          4,
          3,
          3,
          3,
          4,
          4,
          3,
          2,
          4,
          4,
          3,
          4,
          3,
          3,
          3,
          3,
          3,
          2,
          4,
          3,
          4,
          4,
          5,
          2,
          5,
          3,
          3,
          3,
          4,
          4,
          4,
          4,
          4,
          4,
          2,
          4,
          3,
          3,
          4,
          2,
          4,
          3,
          4,
          3,
          3,
          2,
          4,
          3,
          3,
          4,
          3,
          4,
          4,
          2,
          4,
          4,
          4,
          3,
          3,
          2,
          5,
          3,
          4,
          4,
          4,
          3,
          4,
          4,
          4,
          4,
          4,
          1,
          3,
          4,
          4,
          3,
          3,
          3,
          3,
          4,
          4,
          3,
          4,
          4,
          4,
          5,
          5,
          4,
          4,
          4,
          3,
          4,
          3,
          4,
          3,
          4,
          4,
          4,
          3,
          3,
          4,
          3,
          3,
          4,
          4,
          4,
          3,
          4,
          2,
          4,
          3,
          2,
          4,
          4,
          3,
          4,
          3,
          5,
          4,
          3,
          5,
          4,
          3,
          4,
          4,
          4,
          3,
          4,
          4,
          3,
          4,
          3,
          4,
          3,
          4,
          4,
          3,
          3,
          3,
          4,
          3,
          3,
          3,
          3,
          4,
          3,
          3,
          5,
          4,
          2,
          4,
          4,
          3,
          3,
          4,
          5,
          4,
          4,
          3,
          3,
          3,
          3,
          4,
          4,
          3,
          4,
          3,
          3,
          3,
          4,
          4,
          3,
          3,
          3,
          3,
          2,
          4,
          3,
          3,
          4,
          3,
          3,
          4,
          4,
          3,
          4,
          3,
          4,
          5,
          3,
          3,
          4,
          4,
          3,
          4,
          3,
          3,
          4,
          4,
          4,
          3,
          3,
          3,
          4,
          4,
          3,
          4,
          4,
          3,
          3,
          2,
          3,
          4,
          2,
          4,
          4,
          4,
          4,
          4,
          4,
          4,
          3,
          3,
          4,
          3,
          2,
          3,
          4,
          4,
          3,
          4,
          2,
          4,
          3,
          3,
          3,
          4,
          3,
          2,
          2,
          5,
          3,
          3,
          4,
          4,
          4,
          4,
          4,
          4,
          4,
          3,
          3,
          4,
          3,
          4,
          3,
          4,
          2,
          3,
          1,
          3,
          4,
          4,
          4,
          4,
          4,
          3,
          3,
          5,
          4,
          4,
          3,
          3,
          1,
          4,
          2,
          4,
          4,
          2,
          4,
          4,
          4,
          3,
          4,
          4,
          4,
          4,
          2,
          5,
          3,
          4,
          3,
          4,
          3,
          3,
          3,
          2,
          4,
          3,
          2,
          4,
          4,
          4,
          2,
          3,
          4,
          4,
          3,
          3,
          3,
          4,
          3,
          3,
          3,
          4,
          2,
          3,
          4,
          3,
          3,
          4,
          3,
          4,
          4,
          2,
          4,
          3,
          3,
          4,
          3,
          4,
          3,
          5,
          4,
          4,
          4,
          3,
          4,
          3,
          4,
          3,
          3,
          4,
          5,
          3,
          3,
          4,
          4,
          4,
          4,
          3,
          3,
          4,
          4,
          4,
          2,
          4,
          4,
          4,
          4,
          4,
          4,
          4,
          3,
          4,
          4,
          3,
          4,
          3,
          4,
          4,
          4,
          4,
          4,
          4,
          3,
          3,
          2,
          3,
          5,
          4,
          3,
          3,
          5,
          3,
          3,
          4,
          2,
          2,
          3,
          4,
          4,
          4,
          3,
          4,
          4,
          3,
          4,
          3,
          4,
          4,
          3,
          4,
          3,
          3,
          2,
          2,
          4,
          3,
          4,
          2,
          4,
          4,
          4,
          3,
          4,
          4,
          3,
          3,
          4,
          3,
          3,
          3,
          3,
          5,
          3,
          4,
          3,
          3,
          3,
          2,
          3,
          2,
          4,
          3,
          4,
          3,
          3,
          3,
          3,
          4,
          3,
          3,
          2,
          3,
          4,
          4,
          4,
          3,
          3,
          3,
          4,
          4,
          3,
          3,
          3,
          5,
          3,
          3,
          3,
          2,
          4,
          4,
          5,
          3,
          3,
          4,
          5,
          3,
          3,
          4,
          4,
          3,
          3,
          4,
          4,
          4,
          4,
          4,
          4,
          3,
          5,
          4,
          4,
          2,
          2,
          3,
          4,
          4,
          4,
          3,
          4,
          3,
          3,
          4,
          3,
          4,
          4,
          4,
          2,
          3,
          3,
          4,
          2,
          3,
          4,
          4,
          3,
          3,
          3,
          4,
          4,
          2,
          3,
          3,
          3,
          4,
          3,
          4,
          3,
          4,
          3,
          3,
          3,
          3,
          4,
          4,
          3,
          3,
          2,
          3,
          4,
          3,
          2,
          2,
          2,
          3,
          5,
          4,
          4,
          5,
          5,
          4,
          4,
          5,
          4,
          4,
          4,
          2,
          3,
          2,
          5,
          4,
          3,
          2,
          4,
          3,
          4,
          3,
          4,
          4,
          4,
          3,
          5,
          3,
          4,
          4,
          4,
          3,
          4,
          3,
          4,
          4,
          4,
          2,
          4,
          4,
          4,
          4,
          4,
          3,
          3,
          2,
          4,
          3,
          3,
          3,
          2,
          3,
          4,
          5,
          2,
          4,
          4,
          4,
          4,
          4,
          3,
          3,
          2,
          3,
          2,
          3,
          4,
          1,
          4,
          3,
          3,
          4,
          3,
          3,
          2,
          5,
          4,
          4,
          4,
          2,
          4,
          3,
          3,
          4,
          3,
          5,
          4,
          3,
          4,
          2,
          4,
          3,
          3,
          4,
          2,
          3,
          3,
          4,
          4,
          3,
          3,
          3,
          3,
          4,
          3,
          5,
          4,
          4,
          4,
          4,
          4,
          2,
          2,
          3,
          4,
          3,
          4,
          4,
          4,
          3,
          4,
          3,
          2,
          4,
          2,
          4,
          4,
          2,
          4,
          3,
          4,
          5,
          2,
          3,
          3,
          3,
          4,
          3,
          3,
          4,
          3,
          5,
          3,
          4,
          4,
          3,
          3,
          4,
          4,
          4,
          4,
          4,
          3,
          3,
          3,
          4,
          4,
          3,
          3,
          3,
          4,
          2,
          4,
          2,
          3,
          3,
          4,
          3,
          3,
          4,
          4,
          3,
          4,
          4,
          3,
          4,
          4,
          3,
          3,
          3,
          3,
          4,
          4,
          1,
          3,
          4,
          2,
          3,
          4,
          4,
          4,
          4,
          4,
          5,
          4,
          3,
          3,
          4,
          2,
          4,
          4,
          3,
          4,
          4,
          3,
          5,
          3,
          3,
          4,
          4,
          4,
          4,
          3,
          4,
          4,
          4,
          4,
          3,
          4,
          4,
          5,
          4,
          4,
          2,
          4,
          4,
          4,
          4,
          3,
          4,
          3,
          3,
          3,
          4,
          3,
          5,
          4,
          2,
          5,
          3,
          4,
          3,
          4,
          3,
          5,
          3,
          4,
          3,
          3,
          4,
          5,
          2,
          4,
          3,
          3,
          3,
          3,
          2,
          4,
          4,
          4,
          4,
          4,
          3,
          3,
          3,
          4,
          5,
          4,
          4,
          4,
          2,
          3,
          3,
          3,
          4,
          3,
          4,
          4,
          4,
          4,
          3,
          4,
          4,
          2,
          2,
          4,
          2,
          2,
          5,
          3,
          4,
          3,
          4,
          3,
          4,
          4,
          3,
          3,
          3,
          4,
          3,
          2,
          5,
          4,
          4,
          3,
          3,
          3,
          4,
          3,
          4,
          4,
          4,
          3,
          3,
          2,
          3,
          4,
          3,
          2,
          4,
          4,
          4,
          4,
          3,
          4,
          3,
          3,
          3,
          4,
          4,
          3,
          3,
          3,
          4,
          4,
          4,
          4,
          4,
          4,
          3,
          4,
          4,
          5,
          4,
          4,
          4,
          3,
          4,
          3,
          3,
          3,
          3,
          4,
          4,
          2,
          3,
          4,
          5,
          3,
          2,
          4,
          3,
          4,
          3,
          4,
          4,
          2,
          4,
          3,
          4,
          4,
          4,
          2,
          3,
          4,
          3,
          3,
          3,
          3,
          5,
          3,
          4,
          4,
          3,
          4,
          2,
          3,
          3,
          3,
          3,
          3,
          4,
          3,
          3,
          2,
          4,
          3,
          4,
          4,
          4,
          3,
          3,
          3,
          3,
          2,
          3,
          1,
          3,
          3,
          3,
          4,
          4,
          4,
          3,
          3,
          4,
          3,
          4,
          3,
          5,
          3,
          4,
          3,
          3,
          3,
          3,
          2,
          4,
          4,
          3,
          4,
          3,
          4,
          3,
          3,
          2,
          4,
          4,
          3,
          4,
          4,
          4,
          2,
          5,
          4,
          3,
          3,
          3,
          4,
          3,
          3,
          4,
          3,
          5,
          3,
          3,
          3,
          4,
          5,
          4,
          2,
          4,
          2,
          3,
          3,
          3,
          2,
          4,
          3,
          4,
          4,
          4,
          3,
          3,
          3,
          4,
          3,
          3,
          4,
          3,
          3,
          2,
          4,
          3,
          4,
          4,
          3,
          3,
          4,
          4,
          3,
          3,
          3,
          5,
          3,
          4,
          3,
          3,
          4,
          3,
          3,
          3,
          4,
          4,
          3,
          3,
          3,
          3,
          4,
          4,
          4,
          5,
          3,
          4,
          4,
          3,
          3,
          4,
          4,
          4,
          4,
          2,
          3,
          4,
          4,
          4,
          2,
          4,
          1,
          4,
          3,
          4,
          4,
          2,
          4,
          4,
          4,
          3,
          4,
          4,
          4,
          4,
          5,
          4,
          4,
          3,
          3,
          4,
          4,
          2,
          3,
          4,
          4,
          4,
          2,
          3,
          3,
          3,
          3,
          4,
          5,
          3,
          2,
          4,
          2,
          2,
          3,
          4,
          3,
          3,
          4,
          4,
          4,
          3,
          4,
          3,
          4,
          2,
          4,
          3,
          3,
          3,
          4,
          3,
          3,
          4,
          3,
          5,
          4,
          4,
          4,
          3,
          4,
          5,
          4,
          4,
          5,
          3,
          4,
          4,
          4,
          4,
          4,
          3,
          4,
          4,
          3,
          3,
          5,
          3,
          4,
          4,
          3,
          4,
          5,
          3,
          5,
          2,
          4,
          4,
          4,
          2,
          3,
          3,
          4,
          3,
          4,
          3,
          4,
          3,
          3,
          4,
          4,
          4,
          3,
          4,
          4,
          4,
          3,
          5,
          3,
          3,
          5,
          4,
          3,
          4,
          5,
          4,
          4,
          3,
          4,
          4,
          3,
          4,
          4,
          3,
          4,
          4,
          2,
          4,
          3,
          2,
          3,
          3,
          2,
          4,
          3,
          3,
          3,
          4,
          3,
          3,
          3,
          3,
          4,
          5,
          3,
          2,
          4,
          3,
          4,
          4,
          4,
          2,
          4,
          4,
          3,
          4,
          4,
          3,
          4,
          4,
          4,
          3,
          3,
          3,
          3,
          3,
          3,
          2,
          3,
          4,
          4,
          1,
          4,
          3,
          3,
          3,
          4,
          3,
          4,
          3,
          3,
          4,
          4,
          4,
          4,
          3,
          3,
          3,
          2,
          2,
          3,
          4,
          5,
          2,
          4,
          3,
          4,
          4,
          2,
          4,
          2,
          3,
          4,
          4,
          4,
          3,
          4,
          4,
          3,
          4,
          4,
          4,
          3,
          4,
          3,
          3,
          3,
          3,
          3,
          3,
          3,
          2,
          3,
          4,
          3,
          3,
          3,
          4,
          3,
          3,
          4,
          3,
          3,
          4,
          3,
          4,
          3,
          4,
          4,
          2,
          2,
          4,
          4,
          4,
          3,
          4,
          4,
          3,
          4,
          4,
          4,
          3,
          3,
          3,
          4,
          4,
          3,
          4,
          3,
          5,
          4,
          2,
          4,
          5,
          3,
          4,
          4,
          2,
          2,
          4,
          4,
          4,
          2,
          1,
          3,
          4,
          2,
          3,
          4,
          4,
          4,
          4,
          3,
          3,
          4,
          4,
          3,
          3,
          2,
          2,
          4,
          3,
          3,
          3,
          4,
          4,
          3,
          3,
          2,
          4,
          5,
          2,
          3,
          3,
          3,
          4,
          4,
          3,
          3,
          4,
          4,
          3,
          3,
          3,
          3,
          4,
          3,
          2,
          3,
          4,
          1,
          2,
          4,
          3,
          3,
          4,
          3,
          3,
          4,
          3,
          4,
          4,
          3,
          3,
          3,
          5,
          3,
          3,
          3,
          4,
          5,
          4,
          2,
          4,
          2,
          4,
          3,
          5,
          4,
          4,
          4,
          4,
          3,
          4,
          2,
          3,
          4,
          3,
          4,
          3,
          2,
          2,
          3,
          3,
          4,
          3,
          3,
          4,
          3,
          5,
          4,
          3,
          4,
          4,
          3,
          4,
          4,
          2,
          5,
          4,
          3,
          3,
          4,
          2,
          4,
          3,
          3,
          4,
          2,
          3,
          4,
          3,
          4,
          4,
          3,
          3,
          4,
          3,
          3,
          4,
          2,
          4,
          2,
          4,
          4,
          3,
          4,
          3,
          5,
          2,
          3,
          4,
          5,
          3,
          4,
          3,
          4,
          4,
          4,
          3,
          4,
          3,
          3,
          3,
          3,
          3,
          5,
          5,
          4,
          3,
          3,
          4,
          3,
          3,
          4,
          3,
          2,
          3,
          4,
          4,
          4,
          2,
          4,
          4,
          3,
          4,
          3,
          4,
          3,
          3,
          1,
          3,
          3,
          4,
          4,
          3,
          3,
          4,
          4,
          4,
          5,
          3,
          3,
          4,
          3,
          3,
          4,
          4,
          3,
          3,
          3,
          3,
          3,
          4,
          4,
          3,
          5,
          4,
          4,
          3,
          4,
          4,
          3,
          4,
          1,
          4,
          4,
          4,
          4,
          3,
          3,
          3,
          4,
          3,
          4,
          3,
          4,
          3,
          4,
          3,
          2,
          2,
          2,
          3,
          4,
          3,
          4,
          3,
          4,
          4,
          5,
          4,
          3,
          2,
          5,
          4,
          3,
          4,
          3,
          3,
          4,
          1,
          4,
          4,
          5,
          4,
          3,
          3,
          5,
          3,
          3,
          3,
          3,
          3,
          3,
          3,
          3,
          3,
          3,
          4,
          4,
          4,
          4,
          3,
          4,
          4,
          3,
          2,
          3,
          4,
          4,
          3,
          3,
          3,
          3,
          3,
          3,
          3,
          3,
          3,
          4,
          3,
          3,
          3,
          4,
          4,
          3,
          4,
          2,
          3,
          3,
          3,
          4,
          3,
          4,
          2,
          4,
          5,
          3,
          3,
          3,
          2,
          4,
          2,
          3,
          4,
          3,
          3,
          4,
          3,
          3,
          4,
          3,
          2,
          3,
          4,
          3,
          4,
          3,
          3,
          3,
          4,
          3,
          3,
          3,
          3,
          3,
          3,
          3,
          3,
          4,
          3,
          4,
          4,
          4,
          2,
          3,
          3,
          3,
          2,
          3,
          3,
          4,
          4,
          4,
          4,
          3,
          3,
          3,
          5,
          4,
          2,
          4,
          4,
          4,
          4,
          4,
          4,
          4,
          3,
          3,
          3,
          4,
          4,
          4,
          3,
          3,
          3,
          3,
          2,
          4,
          4,
          3,
          2,
          4,
          5,
          4,
          4,
          4,
          3,
          4,
          2,
          4,
          3,
          2,
          4,
          4,
          4,
          4,
          4,
          3,
          3,
          2,
          4,
          4,
          5,
          4,
          3,
          4,
          3,
          3,
          4,
          3,
          4,
          4,
          4,
          4,
          4,
          4,
          2,
          4,
          3,
          4,
          4,
          3,
          3,
          3,
          4,
          2,
          5,
          4,
          5,
          3,
          4,
          3,
          3,
          3,
          4,
          3,
          3,
          3,
          4,
          4,
          3,
          3,
          3,
          4,
          2,
          4,
          4,
          2,
          3,
          4,
          3,
          4,
          4,
          4,
          3,
          4,
          5,
          4,
          4,
          4,
          3,
          5,
          4,
          3,
          3,
          4,
          3,
          5,
          3,
          3,
          3,
          3,
          3,
          3,
          4,
          4,
          3,
          3,
          3,
          3,
          4,
          2,
          4,
          3,
          3,
          4,
          4,
          3,
          4,
          4,
          2,
          4,
          4,
          4,
          4,
          3,
          3,
          4,
          3,
          3,
          3,
          3,
          4,
          4,
          3,
          4,
          3,
          3,
          4,
          3,
          3,
          3,
          3,
          4,
          4,
          3,
          4,
          3,
          2,
          4,
          4,
          3,
          4,
          5,
          3,
          4,
          4,
          4,
          4,
          4,
          4,
          4,
          3,
          2,
          4,
          3,
          2,
          4,
          3,
          4,
          3,
          4,
          4,
          4,
          3,
          4,
          4,
          3,
          4,
          3,
          3,
          2,
          4,
          3,
          4,
          4,
          4,
          4,
          3,
          4,
          4,
          4,
          4,
          4,
          4,
          4,
          3,
          3,
          4,
          5,
          3,
          4,
          4,
          4,
          3,
          3,
          4,
          3,
          4,
          4,
          4,
          5,
          3,
          3,
          4,
          3,
          2,
          4,
          3,
          4,
          4,
          3,
          3,
          4,
          4,
          3,
          4,
          3,
          3,
          3,
          3,
          3,
          3,
          3,
          4,
          4,
          3,
          3,
          3,
          4,
          4,
          3,
          5,
          4,
          4,
          3,
          4,
          4,
          3,
          4,
          4,
          4,
          4,
          5,
          4,
          2,
          4,
          3,
          2,
          4,
          3,
          4,
          3,
          4,
          4,
          3,
          4,
          3,
          4,
          4,
          3,
          5,
          5,
          4,
          3,
          4,
          4,
          4,
          4,
          4,
          4,
          4,
          3,
          3,
          5,
          4,
          4,
          3,
          3,
          3,
          4,
          3,
          3,
          4,
          5,
          2,
          3,
          4,
          4,
          2,
          3,
          2,
          4,
          3,
          2,
          4,
          5,
          4,
          5,
          4,
          3,
          3,
          4,
          3,
          4,
          4,
          3,
          4,
          2,
          4,
          4,
          3,
          4,
          3,
          3,
          3,
          4,
          3,
          3,
          3,
          2,
          3,
          3,
          4,
          4,
          3,
          3,
          4,
          3,
          4,
          5,
          4,
          4,
          4,
          4,
          4,
          3,
          2,
          3,
          4,
          3,
          2,
          3,
          3,
          3,
          3,
          4,
          4,
          3,
          4,
          3,
          3,
          4,
          4,
          3,
          4,
          4,
          4,
          3,
          4,
          4,
          3,
          4,
          4,
          3,
          3,
          3,
          3,
          2,
          5,
          4,
          4,
          3,
          4,
          3,
          3,
          3,
          4,
          3,
          3,
          4,
          3,
          3,
          4,
          3,
          3,
          3,
          4,
          5,
          4,
          3,
          2,
          3,
          3,
          3,
          3,
          4,
          3,
          4,
          4,
          3,
          2,
          3,
          4,
          4,
          4,
          4,
          3,
          3,
          4,
          4,
          3,
          3,
          4,
          4,
          3,
          3,
          2,
          3,
          3,
          3,
          3,
          4,
          3,
          4,
          2,
          4,
          3,
          3,
          4,
          3,
          4,
          2,
          4,
          3,
          3,
          3,
          3,
          4,
          2,
          2,
          3,
          3,
          4,
          5,
          4,
          3,
          4,
          3,
          4,
          4,
          4,
          3,
          3,
          2,
          3,
          3,
          3,
          3,
          4,
          4,
          4,
          4,
          4,
          3,
          3,
          4,
          3,
          1,
          3,
          3,
          3,
          4,
          2,
          4,
          4,
          4,
          3,
          3,
          4,
          4,
          4,
          4,
          4,
          4,
          3,
          4,
          4,
          3,
          3,
          4,
          4,
          2,
          4,
          4,
          2,
          1,
          4,
          4,
          3,
          4,
          4,
          3,
          4,
          3,
          4,
          4,
          3,
          3,
          4,
          2,
          4,
          3,
          3,
          4,
          3,
          4,
          4,
          3,
          4,
          2,
          4,
          3,
          5,
          4,
          3,
          4,
          3,
          4,
          5,
          4,
          3,
          4,
          3,
          4,
          4,
          2,
          4,
          3,
          4,
          4,
          3,
          3,
          4,
          4,
          4,
          3,
          4,
          3,
          4,
          2,
          4,
          4,
          3,
          4,
          4,
          4,
          5,
          4,
          4,
          4,
          3,
          4,
          3,
          2,
          4,
          3,
          3,
          4,
          4,
          3,
          4,
          4,
          3,
          3,
          3,
          3,
          3,
          4,
          4,
          3,
          3,
          3,
          4,
          4,
          3,
          3,
          4,
          3,
          3,
          4,
          4,
          3,
          4,
          3,
          4,
          4,
          4,
          3,
          3,
          4,
          4,
          3,
          3,
          5,
          4,
          4,
          4,
          4,
          4,
          5,
          3,
          4,
          4,
          4,
          4,
          4,
          3,
          4,
          4,
          4,
          4,
          3,
          3,
          4,
          3,
          4,
          4,
          3,
          3,
          3,
          3,
          3,
          3,
          3,
          4,
          3,
          3,
          3,
          4,
          4,
          4,
          4,
          4,
          4,
          4,
          4,
          3,
          4,
          4,
          4,
          3,
          4,
          3,
          5,
          4,
          3,
          3,
          3,
          4,
          4,
          3,
          4,
          4,
          4,
          4,
          3,
          3,
          3,
          4,
          4,
          3,
          3,
          4,
          4,
          4,
          4,
          2,
          4,
          4,
          4,
          3,
          2,
          4,
          3,
          4,
          3,
          3,
          3,
          3,
          4,
          4,
          2,
          4,
          3,
          4,
          4,
          2,
          3,
          4,
          4,
          2,
          4,
          4,
          3,
          4,
          3,
          4,
          5,
          4,
          3,
          4,
          3,
          3,
          4,
          2,
          5,
          3,
          4,
          3,
          4,
          4,
          3,
          3,
          2,
          3,
          5,
          4,
          4,
          4,
          5,
          4,
          4,
          1,
          4,
          3,
          2,
          2,
          3,
          1,
          4,
          4,
          3,
          3,
          4,
          3,
          4,
          4,
          3,
          2,
          4,
          4,
          4,
          4,
          3,
          4,
          4,
          2,
          3,
          4,
          3,
          5,
          3,
          4,
          4,
          4,
          4,
          5,
          3,
          3,
          2,
          3,
          5,
          3,
          3,
          3,
          3,
          4,
          4,
          4,
          4,
          3,
          4,
          2,
          3,
          3,
          3,
          4,
          3,
          4,
          4,
          4,
          2,
          4,
          3,
          3,
          2,
          4,
          3,
          3,
          3,
          4,
          3,
          4,
          4,
          4,
          2,
          4,
          4,
          3,
          3,
          3,
          3,
          4,
          4,
          3,
          4,
          4,
          3,
          3,
          4,
          4,
          4,
          2,
          3,
          3,
          4,
          3,
          4,
          3,
          3,
          4,
          3,
          3,
          4,
          3,
          4,
          2,
          4,
          4,
          3,
          4,
          4,
          4,
          3,
          3,
          4,
          4,
          5,
          4,
          3,
          4,
          2,
          4,
          3,
          4,
          3,
          4,
          2,
          4,
          5,
          5,
          2,
          4,
          4,
          3,
          3,
          4,
          3,
          3,
          3,
          4,
          4,
          2,
          3,
          4,
          3,
          3,
          4,
          4,
          2,
          4,
          4,
          4,
          2,
          3,
          5,
          3,
          5,
          3,
          2,
          2,
          4,
          3,
          4,
          4,
          3,
          4,
          4,
          3,
          3,
          4,
          4,
          4,
          2,
          3,
          3,
          4,
          4,
          4,
          5,
          4,
          4,
          3,
          5,
          3,
          3,
          5,
          4,
          4,
          3,
          3,
          4,
          4,
          3,
          3,
          3,
          3,
          4,
          5,
          3,
          4,
          3,
          4,
          4,
          4,
          3,
          4,
          3,
          3,
          4,
          3,
          3,
          2,
          4,
          4,
          4,
          3,
          2,
          3,
          3,
          3,
          3,
          4,
          4,
          4,
          3,
          4,
          3,
          3,
          3,
          3,
          3,
          4,
          3,
          3,
          4,
          3,
          4,
          4,
          4,
          4,
          4,
          3,
          3,
          3,
          2,
          4,
          4,
          5,
          4,
          4,
          2,
          3,
          3,
          2,
          3,
          3,
          4,
          2,
          4,
          2,
          3,
          3,
          4,
          4,
          4,
          3,
          4,
          3,
          2,
          3,
          3,
          4,
          3,
          4,
          5,
          3,
          3,
          3,
          4,
          3,
          4,
          4,
          4,
          4,
          3,
          4,
          4,
          3,
          3,
          4,
          4,
          3,
          3,
          3,
          3,
          3,
          2,
          4,
          3,
          5,
          3,
          4,
          2,
          4,
          4,
          3,
          4,
          2,
          3,
          4,
          3,
          4,
          4,
          4,
          5,
          4,
          4,
          5,
          4,
          3,
          3,
          4,
          4,
          4,
          4,
          3,
          4,
          3,
          4,
          3,
          2,
          3,
          2,
          4,
          3,
          3,
          1,
          3,
          4,
          4,
          4,
          2,
          3,
          3,
          4,
          3,
          3,
          4,
          4,
          4,
          3,
          3,
          4,
          3,
          3,
          3,
          4,
          4,
          3,
          4,
          3,
          4,
          3,
          3,
          2,
          3,
          2,
          4,
          4,
          3,
          3,
          4,
          3,
          4,
          3,
          3,
          3,
          5,
          2,
          3,
          5,
          4,
          4,
          4,
          4,
          4,
          2,
          3,
          4,
          4,
          3
         ]
        }
       ],
       "layout": {
        "template": {
         "data": {
          "bar": [
           {
            "error_x": {
             "color": "#2a3f5f"
            },
            "error_y": {
             "color": "#2a3f5f"
            },
            "marker": {
             "line": {
              "color": "#E5ECF6",
              "width": 0.5
             },
             "pattern": {
              "fillmode": "overlay",
              "size": 10,
              "solidity": 0.2
             }
            },
            "type": "bar"
           }
          ],
          "barpolar": [
           {
            "marker": {
             "line": {
              "color": "#E5ECF6",
              "width": 0.5
             },
             "pattern": {
              "fillmode": "overlay",
              "size": 10,
              "solidity": 0.2
             }
            },
            "type": "barpolar"
           }
          ],
          "carpet": [
           {
            "aaxis": {
             "endlinecolor": "#2a3f5f",
             "gridcolor": "white",
             "linecolor": "white",
             "minorgridcolor": "white",
             "startlinecolor": "#2a3f5f"
            },
            "baxis": {
             "endlinecolor": "#2a3f5f",
             "gridcolor": "white",
             "linecolor": "white",
             "minorgridcolor": "white",
             "startlinecolor": "#2a3f5f"
            },
            "type": "carpet"
           }
          ],
          "choropleth": [
           {
            "colorbar": {
             "outlinewidth": 0,
             "ticks": ""
            },
            "type": "choropleth"
           }
          ],
          "contour": [
           {
            "colorbar": {
             "outlinewidth": 0,
             "ticks": ""
            },
            "colorscale": [
             [
              0,
              "#0d0887"
             ],
             [
              0.1111111111111111,
              "#46039f"
             ],
             [
              0.2222222222222222,
              "#7201a8"
             ],
             [
              0.3333333333333333,
              "#9c179e"
             ],
             [
              0.4444444444444444,
              "#bd3786"
             ],
             [
              0.5555555555555556,
              "#d8576b"
             ],
             [
              0.6666666666666666,
              "#ed7953"
             ],
             [
              0.7777777777777778,
              "#fb9f3a"
             ],
             [
              0.8888888888888888,
              "#fdca26"
             ],
             [
              1,
              "#f0f921"
             ]
            ],
            "type": "contour"
           }
          ],
          "contourcarpet": [
           {
            "colorbar": {
             "outlinewidth": 0,
             "ticks": ""
            },
            "type": "contourcarpet"
           }
          ],
          "heatmap": [
           {
            "colorbar": {
             "outlinewidth": 0,
             "ticks": ""
            },
            "colorscale": [
             [
              0,
              "#0d0887"
             ],
             [
              0.1111111111111111,
              "#46039f"
             ],
             [
              0.2222222222222222,
              "#7201a8"
             ],
             [
              0.3333333333333333,
              "#9c179e"
             ],
             [
              0.4444444444444444,
              "#bd3786"
             ],
             [
              0.5555555555555556,
              "#d8576b"
             ],
             [
              0.6666666666666666,
              "#ed7953"
             ],
             [
              0.7777777777777778,
              "#fb9f3a"
             ],
             [
              0.8888888888888888,
              "#fdca26"
             ],
             [
              1,
              "#f0f921"
             ]
            ],
            "type": "heatmap"
           }
          ],
          "heatmapgl": [
           {
            "colorbar": {
             "outlinewidth": 0,
             "ticks": ""
            },
            "colorscale": [
             [
              0,
              "#0d0887"
             ],
             [
              0.1111111111111111,
              "#46039f"
             ],
             [
              0.2222222222222222,
              "#7201a8"
             ],
             [
              0.3333333333333333,
              "#9c179e"
             ],
             [
              0.4444444444444444,
              "#bd3786"
             ],
             [
              0.5555555555555556,
              "#d8576b"
             ],
             [
              0.6666666666666666,
              "#ed7953"
             ],
             [
              0.7777777777777778,
              "#fb9f3a"
             ],
             [
              0.8888888888888888,
              "#fdca26"
             ],
             [
              1,
              "#f0f921"
             ]
            ],
            "type": "heatmapgl"
           }
          ],
          "histogram": [
           {
            "marker": {
             "pattern": {
              "fillmode": "overlay",
              "size": 10,
              "solidity": 0.2
             }
            },
            "type": "histogram"
           }
          ],
          "histogram2d": [
           {
            "colorbar": {
             "outlinewidth": 0,
             "ticks": ""
            },
            "colorscale": [
             [
              0,
              "#0d0887"
             ],
             [
              0.1111111111111111,
              "#46039f"
             ],
             [
              0.2222222222222222,
              "#7201a8"
             ],
             [
              0.3333333333333333,
              "#9c179e"
             ],
             [
              0.4444444444444444,
              "#bd3786"
             ],
             [
              0.5555555555555556,
              "#d8576b"
             ],
             [
              0.6666666666666666,
              "#ed7953"
             ],
             [
              0.7777777777777778,
              "#fb9f3a"
             ],
             [
              0.8888888888888888,
              "#fdca26"
             ],
             [
              1,
              "#f0f921"
             ]
            ],
            "type": "histogram2d"
           }
          ],
          "histogram2dcontour": [
           {
            "colorbar": {
             "outlinewidth": 0,
             "ticks": ""
            },
            "colorscale": [
             [
              0,
              "#0d0887"
             ],
             [
              0.1111111111111111,
              "#46039f"
             ],
             [
              0.2222222222222222,
              "#7201a8"
             ],
             [
              0.3333333333333333,
              "#9c179e"
             ],
             [
              0.4444444444444444,
              "#bd3786"
             ],
             [
              0.5555555555555556,
              "#d8576b"
             ],
             [
              0.6666666666666666,
              "#ed7953"
             ],
             [
              0.7777777777777778,
              "#fb9f3a"
             ],
             [
              0.8888888888888888,
              "#fdca26"
             ],
             [
              1,
              "#f0f921"
             ]
            ],
            "type": "histogram2dcontour"
           }
          ],
          "mesh3d": [
           {
            "colorbar": {
             "outlinewidth": 0,
             "ticks": ""
            },
            "type": "mesh3d"
           }
          ],
          "parcoords": [
           {
            "line": {
             "colorbar": {
              "outlinewidth": 0,
              "ticks": ""
             }
            },
            "type": "parcoords"
           }
          ],
          "pie": [
           {
            "automargin": true,
            "type": "pie"
           }
          ],
          "scatter": [
           {
            "fillpattern": {
             "fillmode": "overlay",
             "size": 10,
             "solidity": 0.2
            },
            "type": "scatter"
           }
          ],
          "scatter3d": [
           {
            "line": {
             "colorbar": {
              "outlinewidth": 0,
              "ticks": ""
             }
            },
            "marker": {
             "colorbar": {
              "outlinewidth": 0,
              "ticks": ""
             }
            },
            "type": "scatter3d"
           }
          ],
          "scattercarpet": [
           {
            "marker": {
             "colorbar": {
              "outlinewidth": 0,
              "ticks": ""
             }
            },
            "type": "scattercarpet"
           }
          ],
          "scattergeo": [
           {
            "marker": {
             "colorbar": {
              "outlinewidth": 0,
              "ticks": ""
             }
            },
            "type": "scattergeo"
           }
          ],
          "scattergl": [
           {
            "marker": {
             "colorbar": {
              "outlinewidth": 0,
              "ticks": ""
             }
            },
            "type": "scattergl"
           }
          ],
          "scattermapbox": [
           {
            "marker": {
             "colorbar": {
              "outlinewidth": 0,
              "ticks": ""
             }
            },
            "type": "scattermapbox"
           }
          ],
          "scatterpolar": [
           {
            "marker": {
             "colorbar": {
              "outlinewidth": 0,
              "ticks": ""
             }
            },
            "type": "scatterpolar"
           }
          ],
          "scatterpolargl": [
           {
            "marker": {
             "colorbar": {
              "outlinewidth": 0,
              "ticks": ""
             }
            },
            "type": "scatterpolargl"
           }
          ],
          "scatterternary": [
           {
            "marker": {
             "colorbar": {
              "outlinewidth": 0,
              "ticks": ""
             }
            },
            "type": "scatterternary"
           }
          ],
          "surface": [
           {
            "colorbar": {
             "outlinewidth": 0,
             "ticks": ""
            },
            "colorscale": [
             [
              0,
              "#0d0887"
             ],
             [
              0.1111111111111111,
              "#46039f"
             ],
             [
              0.2222222222222222,
              "#7201a8"
             ],
             [
              0.3333333333333333,
              "#9c179e"
             ],
             [
              0.4444444444444444,
              "#bd3786"
             ],
             [
              0.5555555555555556,
              "#d8576b"
             ],
             [
              0.6666666666666666,
              "#ed7953"
             ],
             [
              0.7777777777777778,
              "#fb9f3a"
             ],
             [
              0.8888888888888888,
              "#fdca26"
             ],
             [
              1,
              "#f0f921"
             ]
            ],
            "type": "surface"
           }
          ],
          "table": [
           {
            "cells": {
             "fill": {
              "color": "#EBF0F8"
             },
             "line": {
              "color": "white"
             }
            },
            "header": {
             "fill": {
              "color": "#C8D4E3"
             },
             "line": {
              "color": "white"
             }
            },
            "type": "table"
           }
          ]
         },
         "layout": {
          "annotationdefaults": {
           "arrowcolor": "#2a3f5f",
           "arrowhead": 0,
           "arrowwidth": 1
          },
          "autotypenumbers": "strict",
          "coloraxis": {
           "colorbar": {
            "outlinewidth": 0,
            "ticks": ""
           }
          },
          "colorscale": {
           "diverging": [
            [
             0,
             "#8e0152"
            ],
            [
             0.1,
             "#c51b7d"
            ],
            [
             0.2,
             "#de77ae"
            ],
            [
             0.3,
             "#f1b6da"
            ],
            [
             0.4,
             "#fde0ef"
            ],
            [
             0.5,
             "#f7f7f7"
            ],
            [
             0.6,
             "#e6f5d0"
            ],
            [
             0.7,
             "#b8e186"
            ],
            [
             0.8,
             "#7fbc41"
            ],
            [
             0.9,
             "#4d9221"
            ],
            [
             1,
             "#276419"
            ]
           ],
           "sequential": [
            [
             0,
             "#0d0887"
            ],
            [
             0.1111111111111111,
             "#46039f"
            ],
            [
             0.2222222222222222,
             "#7201a8"
            ],
            [
             0.3333333333333333,
             "#9c179e"
            ],
            [
             0.4444444444444444,
             "#bd3786"
            ],
            [
             0.5555555555555556,
             "#d8576b"
            ],
            [
             0.6666666666666666,
             "#ed7953"
            ],
            [
             0.7777777777777778,
             "#fb9f3a"
            ],
            [
             0.8888888888888888,
             "#fdca26"
            ],
            [
             1,
             "#f0f921"
            ]
           ],
           "sequentialminus": [
            [
             0,
             "#0d0887"
            ],
            [
             0.1111111111111111,
             "#46039f"
            ],
            [
             0.2222222222222222,
             "#7201a8"
            ],
            [
             0.3333333333333333,
             "#9c179e"
            ],
            [
             0.4444444444444444,
             "#bd3786"
            ],
            [
             0.5555555555555556,
             "#d8576b"
            ],
            [
             0.6666666666666666,
             "#ed7953"
            ],
            [
             0.7777777777777778,
             "#fb9f3a"
            ],
            [
             0.8888888888888888,
             "#fdca26"
            ],
            [
             1,
             "#f0f921"
            ]
           ]
          },
          "colorway": [
           "#636efa",
           "#EF553B",
           "#00cc96",
           "#ab63fa",
           "#FFA15A",
           "#19d3f3",
           "#FF6692",
           "#B6E880",
           "#FF97FF",
           "#FECB52"
          ],
          "font": {
           "color": "#2a3f5f"
          },
          "geo": {
           "bgcolor": "white",
           "lakecolor": "white",
           "landcolor": "#E5ECF6",
           "showlakes": true,
           "showland": true,
           "subunitcolor": "white"
          },
          "hoverlabel": {
           "align": "left"
          },
          "hovermode": "closest",
          "mapbox": {
           "style": "light"
          },
          "paper_bgcolor": "white",
          "plot_bgcolor": "#E5ECF6",
          "polar": {
           "angularaxis": {
            "gridcolor": "white",
            "linecolor": "white",
            "ticks": ""
           },
           "bgcolor": "#E5ECF6",
           "radialaxis": {
            "gridcolor": "white",
            "linecolor": "white",
            "ticks": ""
           }
          },
          "scene": {
           "xaxis": {
            "backgroundcolor": "#E5ECF6",
            "gridcolor": "white",
            "gridwidth": 2,
            "linecolor": "white",
            "showbackground": true,
            "ticks": "",
            "zerolinecolor": "white"
           },
           "yaxis": {
            "backgroundcolor": "#E5ECF6",
            "gridcolor": "white",
            "gridwidth": 2,
            "linecolor": "white",
            "showbackground": true,
            "ticks": "",
            "zerolinecolor": "white"
           },
           "zaxis": {
            "backgroundcolor": "#E5ECF6",
            "gridcolor": "white",
            "gridwidth": 2,
            "linecolor": "white",
            "showbackground": true,
            "ticks": "",
            "zerolinecolor": "white"
           }
          },
          "shapedefaults": {
           "line": {
            "color": "#2a3f5f"
           }
          },
          "ternary": {
           "aaxis": {
            "gridcolor": "white",
            "linecolor": "white",
            "ticks": ""
           },
           "baxis": {
            "gridcolor": "white",
            "linecolor": "white",
            "ticks": ""
           },
           "bgcolor": "#E5ECF6",
           "caxis": {
            "gridcolor": "white",
            "linecolor": "white",
            "ticks": ""
           }
          },
          "title": {
           "x": 0.05
          },
          "xaxis": {
           "automargin": true,
           "gridcolor": "white",
           "linecolor": "white",
           "ticks": "",
           "title": {
            "standoff": 15
           },
           "zerolinecolor": "white",
           "zerolinewidth": 2
          },
          "yaxis": {
           "automargin": true,
           "gridcolor": "white",
           "linecolor": "white",
           "ticks": "",
           "title": {
            "standoff": 15
           },
           "zerolinecolor": "white",
           "zerolinewidth": 2
          }
         }
        },
        "title": {
         "text": "제주특별자치도와 서울특별시의 정보 충분 만족도 응답 비교"
        }
       }
      }
     },
     "metadata": {},
     "output_type": "display_data"
    }
   ],
   "source": [
    "# 서울특별시와 제주특별자치도 정보 충분 만족도 응답 비교\n",
    "fig = ms(rows=1, cols=2, specs=[[{'type':'domain'}, {'type':'domain'}]])\n",
    "fig.add_trace(go.Pie(labels=df_jeju.INFO_SUFNCY_SATSFC_DGREE_VALUE.values, values=df_jeju.INFO_SUFNCY_SATSFC_DGREE_NUM.values, title=\"제주특별자치도\"), 1, 1)\n",
    "fig.add_trace(go.Pie(labels=df_seoul.INFO_SUFNCY_SATSFC_DGREE_VALUE.values, values=df_seoul.INFO_SUFNCY_SATSFC_DGREE_NUM.values, title=\"서울특별시\"), 1, 2)\n",
    "fig.update_traces(hole=.4, hoverinfo=\"label+percent+name\")\n",
    "fig.update_layout(title_text=\"제주특별자치도와 서울특별시의 정보 충분 만족도 응답 비교\")\n",
    "fig.show()"
   ]
  },
  {
   "cell_type": "code",
   "execution_count": 916,
   "metadata": {},
   "outputs": [
    {
     "data": {
      "application/vnd.plotly.v1+json": {
       "config": {
        "plotlyServerURL": "https://plot.ly"
       },
       "data": [
        {
         "alignmentgroup": "True",
         "hovertemplate": "ANSWRR_OC_AREA_NM=%{x}<br>INFO_SUFNCY_SATSFC_DGREE_MEAN=%{text}<extra></extra>",
         "legendgroup": "제주특별자치도",
         "marker": {
          "color": "#636efa",
          "pattern": {
           "shape": ""
          }
         },
         "name": "제주특별자치도",
         "offsetgroup": "제주특별자치도",
         "orientation": "v",
         "showlegend": true,
         "text": [
          3.229551451187335
         ],
         "textposition": "outside",
         "texttemplate": "%{text:.2s}",
         "type": "bar",
         "x": [
          "제주특별자치도"
         ],
         "xaxis": "x",
         "y": [
          3.229551451187335
         ],
         "yaxis": "y"
        },
        {
         "alignmentgroup": "True",
         "hovertemplate": "ANSWRR_OC_AREA_NM=%{x}<br>INFO_SUFNCY_SATSFC_DGREE_MEAN=%{text}<extra></extra>",
         "legendgroup": "전라북도",
         "marker": {
          "color": "#EF553B",
          "pattern": {
           "shape": ""
          }
         },
         "name": "전라북도",
         "offsetgroup": "전라북도",
         "orientation": "v",
         "showlegend": true,
         "text": [
          3.237417943107221
         ],
         "textposition": "outside",
         "texttemplate": "%{text:.2s}",
         "type": "bar",
         "x": [
          "전라북도"
         ],
         "xaxis": "x",
         "y": [
          3.237417943107221
         ],
         "yaxis": "y"
        },
        {
         "alignmentgroup": "True",
         "hovertemplate": "ANSWRR_OC_AREA_NM=%{x}<br>INFO_SUFNCY_SATSFC_DGREE_MEAN=%{text}<extra></extra>",
         "legendgroup": "전라남도",
         "marker": {
          "color": "#00cc96",
          "pattern": {
           "shape": ""
          }
         },
         "name": "전라남도",
         "offsetgroup": "전라남도",
         "orientation": "v",
         "showlegend": true,
         "text": [
          3.249425287356322
         ],
         "textposition": "outside",
         "texttemplate": "%{text:.2s}",
         "type": "bar",
         "x": [
          "전라남도"
         ],
         "xaxis": "x",
         "y": [
          3.249425287356322
         ],
         "yaxis": "y"
        },
        {
         "alignmentgroup": "True",
         "hovertemplate": "ANSWRR_OC_AREA_NM=%{x}<br>INFO_SUFNCY_SATSFC_DGREE_MEAN=%{text}<extra></extra>",
         "legendgroup": "경상북도",
         "marker": {
          "color": "#ab63fa",
          "pattern": {
           "shape": ""
          }
         },
         "name": "경상북도",
         "offsetgroup": "경상북도",
         "orientation": "v",
         "showlegend": true,
         "text": [
          3.260588657573582
         ],
         "textposition": "outside",
         "texttemplate": "%{text:.2s}",
         "type": "bar",
         "x": [
          "경상북도"
         ],
         "xaxis": "x",
         "y": [
          3.260588657573582
         ],
         "yaxis": "y"
        },
        {
         "alignmentgroup": "True",
         "hovertemplate": "ANSWRR_OC_AREA_NM=%{x}<br>INFO_SUFNCY_SATSFC_DGREE_MEAN=%{text}<extra></extra>",
         "legendgroup": "경상남도",
         "marker": {
          "color": "#FFA15A",
          "pattern": {
           "shape": ""
          }
         },
         "name": "경상남도",
         "offsetgroup": "경상남도",
         "orientation": "v",
         "showlegend": true,
         "text": [
          3.2689500280741157
         ],
         "textposition": "outside",
         "texttemplate": "%{text:.2s}",
         "type": "bar",
         "x": [
          "경상남도"
         ],
         "xaxis": "x",
         "y": [
          3.2689500280741157
         ],
         "yaxis": "y"
        },
        {
         "alignmentgroup": "True",
         "hovertemplate": "ANSWRR_OC_AREA_NM=%{x}<br>INFO_SUFNCY_SATSFC_DGREE_MEAN=%{text}<extra></extra>",
         "legendgroup": "울산광역시",
         "marker": {
          "color": "#19d3f3",
          "pattern": {
           "shape": ""
          }
         },
         "name": "울산광역시",
         "offsetgroup": "울산광역시",
         "orientation": "v",
         "showlegend": true,
         "text": [
          3.2754946727549465
         ],
         "textposition": "outside",
         "texttemplate": "%{text:.2s}",
         "type": "bar",
         "x": [
          "울산광역시"
         ],
         "xaxis": "x",
         "y": [
          3.2754946727549465
         ],
         "yaxis": "y"
        },
        {
         "alignmentgroup": "True",
         "hovertemplate": "ANSWRR_OC_AREA_NM=%{x}<br>INFO_SUFNCY_SATSFC_DGREE_MEAN=%{text}<extra></extra>",
         "legendgroup": "충청남도",
         "marker": {
          "color": "#FF6692",
          "pattern": {
           "shape": ""
          }
         },
         "name": "충청남도",
         "offsetgroup": "충청남도",
         "orientation": "v",
         "showlegend": true,
         "text": [
          3.279397930385701
         ],
         "textposition": "outside",
         "texttemplate": "%{text:.2s}",
         "type": "bar",
         "x": [
          "충청남도"
         ],
         "xaxis": "x",
         "y": [
          3.279397930385701
         ],
         "yaxis": "y"
        },
        {
         "alignmentgroup": "True",
         "hovertemplate": "ANSWRR_OC_AREA_NM=%{x}<br>INFO_SUFNCY_SATSFC_DGREE_MEAN=%{text}<extra></extra>",
         "legendgroup": "강원도",
         "marker": {
          "color": "#B6E880",
          "pattern": {
           "shape": ""
          }
         },
         "name": "강원도",
         "offsetgroup": "강원도",
         "orientation": "v",
         "showlegend": true,
         "text": [
          3.296875
         ],
         "textposition": "outside",
         "texttemplate": "%{text:.2s}",
         "type": "bar",
         "x": [
          "강원도"
         ],
         "xaxis": "x",
         "y": [
          3.296875
         ],
         "yaxis": "y"
        },
        {
         "alignmentgroup": "True",
         "hovertemplate": "ANSWRR_OC_AREA_NM=%{x}<br>INFO_SUFNCY_SATSFC_DGREE_MEAN=%{text}<extra></extra>",
         "legendgroup": "충청북도",
         "marker": {
          "color": "#FF97FF",
          "pattern": {
           "shape": ""
          }
         },
         "name": "충청북도",
         "offsetgroup": "충청북도",
         "orientation": "v",
         "showlegend": true,
         "text": [
          3.3162393162393164
         ],
         "textposition": "outside",
         "texttemplate": "%{text:.2s}",
         "type": "bar",
         "x": [
          "충청북도"
         ],
         "xaxis": "x",
         "y": [
          3.3162393162393164
         ],
         "yaxis": "y"
        },
        {
         "alignmentgroup": "True",
         "hovertemplate": "ANSWRR_OC_AREA_NM=%{x}<br>INFO_SUFNCY_SATSFC_DGREE_MEAN=%{text}<extra></extra>",
         "legendgroup": "대구광역시",
         "marker": {
          "color": "#FECB52",
          "pattern": {
           "shape": ""
          }
         },
         "name": "대구광역시",
         "offsetgroup": "대구광역시",
         "orientation": "v",
         "showlegend": true,
         "text": [
          3.3250377073906487
         ],
         "textposition": "outside",
         "texttemplate": "%{text:.2s}",
         "type": "bar",
         "x": [
          "대구광역시"
         ],
         "xaxis": "x",
         "y": [
          3.3250377073906487
         ],
         "yaxis": "y"
        },
        {
         "alignmentgroup": "True",
         "hovertemplate": "ANSWRR_OC_AREA_NM=%{x}<br>INFO_SUFNCY_SATSFC_DGREE_MEAN=%{text}<extra></extra>",
         "legendgroup": "부산광역시",
         "marker": {
          "color": "#636efa",
          "pattern": {
           "shape": ""
          }
         },
         "name": "부산광역시",
         "offsetgroup": "부산광역시",
         "orientation": "v",
         "showlegend": true,
         "text": [
          3.3441692466460267
         ],
         "textposition": "outside",
         "texttemplate": "%{text:.2s}",
         "type": "bar",
         "x": [
          "부산광역시"
         ],
         "xaxis": "x",
         "y": [
          3.3441692466460267
         ],
         "yaxis": "y"
        },
        {
         "alignmentgroup": "True",
         "hovertemplate": "ANSWRR_OC_AREA_NM=%{x}<br>INFO_SUFNCY_SATSFC_DGREE_MEAN=%{text}<extra></extra>",
         "legendgroup": "광주광역시",
         "marker": {
          "color": "#EF553B",
          "pattern": {
           "shape": ""
          }
         },
         "name": "광주광역시",
         "offsetgroup": "광주광역시",
         "orientation": "v",
         "showlegend": true,
         "text": [
          3.346244131455399
         ],
         "textposition": "outside",
         "texttemplate": "%{text:.2s}",
         "type": "bar",
         "x": [
          "광주광역시"
         ],
         "xaxis": "x",
         "y": [
          3.346244131455399
         ],
         "yaxis": "y"
        },
        {
         "alignmentgroup": "True",
         "hovertemplate": "ANSWRR_OC_AREA_NM=%{x}<br>INFO_SUFNCY_SATSFC_DGREE_MEAN=%{text}<extra></extra>",
         "legendgroup": "대전광역시",
         "marker": {
          "color": "#00cc96",
          "pattern": {
           "shape": ""
          }
         },
         "name": "대전광역시",
         "offsetgroup": "대전광역시",
         "orientation": "v",
         "showlegend": true,
         "text": [
          3.377574370709382
         ],
         "textposition": "outside",
         "texttemplate": "%{text:.2s}",
         "type": "bar",
         "x": [
          "대전광역시"
         ],
         "xaxis": "x",
         "y": [
          3.377574370709382
         ],
         "yaxis": "y"
        },
        {
         "alignmentgroup": "True",
         "hovertemplate": "ANSWRR_OC_AREA_NM=%{x}<br>INFO_SUFNCY_SATSFC_DGREE_MEAN=%{text}<extra></extra>",
         "legendgroup": "경기도",
         "marker": {
          "color": "#ab63fa",
          "pattern": {
           "shape": ""
          }
         },
         "name": "경기도",
         "offsetgroup": "경기도",
         "orientation": "v",
         "showlegend": true,
         "text": [
          3.4023204766384447
         ],
         "textposition": "outside",
         "texttemplate": "%{text:.2s}",
         "type": "bar",
         "x": [
          "경기도"
         ],
         "xaxis": "x",
         "y": [
          3.4023204766384447
         ],
         "yaxis": "y"
        },
        {
         "alignmentgroup": "True",
         "hovertemplate": "ANSWRR_OC_AREA_NM=%{x}<br>INFO_SUFNCY_SATSFC_DGREE_MEAN=%{text}<extra></extra>",
         "legendgroup": "인천광역시",
         "marker": {
          "color": "#FFA15A",
          "pattern": {
           "shape": ""
          }
         },
         "name": "인천광역시",
         "offsetgroup": "인천광역시",
         "orientation": "v",
         "showlegend": true,
         "text": [
          3.4089285714285715
         ],
         "textposition": "outside",
         "texttemplate": "%{text:.2s}",
         "type": "bar",
         "x": [
          "인천광역시"
         ],
         "xaxis": "x",
         "y": [
          3.4089285714285715
         ],
         "yaxis": "y"
        },
        {
         "alignmentgroup": "True",
         "hovertemplate": "ANSWRR_OC_AREA_NM=%{x}<br>INFO_SUFNCY_SATSFC_DGREE_MEAN=%{text}<extra></extra>",
         "legendgroup": "세종특별자치시",
         "marker": {
          "color": "#19d3f3",
          "pattern": {
           "shape": ""
          }
         },
         "name": "세종특별자치시",
         "offsetgroup": "세종특별자치시",
         "orientation": "v",
         "showlegend": true,
         "text": [
          3.446215139442231
         ],
         "textposition": "outside",
         "texttemplate": "%{text:.2s}",
         "type": "bar",
         "x": [
          "세종특별자치시"
         ],
         "xaxis": "x",
         "y": [
          3.446215139442231
         ],
         "yaxis": "y"
        },
        {
         "alignmentgroup": "True",
         "hovertemplate": "ANSWRR_OC_AREA_NM=%{x}<br>INFO_SUFNCY_SATSFC_DGREE_MEAN=%{text}<extra></extra>",
         "legendgroup": "서울특별시",
         "marker": {
          "color": "#FF6692",
          "pattern": {
           "shape": ""
          }
         },
         "name": "서울특별시",
         "offsetgroup": "서울특별시",
         "orientation": "v",
         "showlegend": true,
         "text": [
          3.4519983518747424
         ],
         "textposition": "outside",
         "texttemplate": "%{text:.2s}",
         "type": "bar",
         "x": [
          "서울특별시"
         ],
         "xaxis": "x",
         "y": [
          3.4519983518747424
         ],
         "yaxis": "y"
        }
       ],
       "layout": {
        "barmode": "relative",
        "legend": {
         "title": {
          "text": "ANSWRR_OC_AREA_NM"
         },
         "tracegroupgap": 0
        },
        "margin": {
         "t": 60
        },
        "template": {
         "data": {
          "bar": [
           {
            "error_x": {
             "color": "#2a3f5f"
            },
            "error_y": {
             "color": "#2a3f5f"
            },
            "marker": {
             "line": {
              "color": "#E5ECF6",
              "width": 0.5
             },
             "pattern": {
              "fillmode": "overlay",
              "size": 10,
              "solidity": 0.2
             }
            },
            "type": "bar"
           }
          ],
          "barpolar": [
           {
            "marker": {
             "line": {
              "color": "#E5ECF6",
              "width": 0.5
             },
             "pattern": {
              "fillmode": "overlay",
              "size": 10,
              "solidity": 0.2
             }
            },
            "type": "barpolar"
           }
          ],
          "carpet": [
           {
            "aaxis": {
             "endlinecolor": "#2a3f5f",
             "gridcolor": "white",
             "linecolor": "white",
             "minorgridcolor": "white",
             "startlinecolor": "#2a3f5f"
            },
            "baxis": {
             "endlinecolor": "#2a3f5f",
             "gridcolor": "white",
             "linecolor": "white",
             "minorgridcolor": "white",
             "startlinecolor": "#2a3f5f"
            },
            "type": "carpet"
           }
          ],
          "choropleth": [
           {
            "colorbar": {
             "outlinewidth": 0,
             "ticks": ""
            },
            "type": "choropleth"
           }
          ],
          "contour": [
           {
            "colorbar": {
             "outlinewidth": 0,
             "ticks": ""
            },
            "colorscale": [
             [
              0,
              "#0d0887"
             ],
             [
              0.1111111111111111,
              "#46039f"
             ],
             [
              0.2222222222222222,
              "#7201a8"
             ],
             [
              0.3333333333333333,
              "#9c179e"
             ],
             [
              0.4444444444444444,
              "#bd3786"
             ],
             [
              0.5555555555555556,
              "#d8576b"
             ],
             [
              0.6666666666666666,
              "#ed7953"
             ],
             [
              0.7777777777777778,
              "#fb9f3a"
             ],
             [
              0.8888888888888888,
              "#fdca26"
             ],
             [
              1,
              "#f0f921"
             ]
            ],
            "type": "contour"
           }
          ],
          "contourcarpet": [
           {
            "colorbar": {
             "outlinewidth": 0,
             "ticks": ""
            },
            "type": "contourcarpet"
           }
          ],
          "heatmap": [
           {
            "colorbar": {
             "outlinewidth": 0,
             "ticks": ""
            },
            "colorscale": [
             [
              0,
              "#0d0887"
             ],
             [
              0.1111111111111111,
              "#46039f"
             ],
             [
              0.2222222222222222,
              "#7201a8"
             ],
             [
              0.3333333333333333,
              "#9c179e"
             ],
             [
              0.4444444444444444,
              "#bd3786"
             ],
             [
              0.5555555555555556,
              "#d8576b"
             ],
             [
              0.6666666666666666,
              "#ed7953"
             ],
             [
              0.7777777777777778,
              "#fb9f3a"
             ],
             [
              0.8888888888888888,
              "#fdca26"
             ],
             [
              1,
              "#f0f921"
             ]
            ],
            "type": "heatmap"
           }
          ],
          "heatmapgl": [
           {
            "colorbar": {
             "outlinewidth": 0,
             "ticks": ""
            },
            "colorscale": [
             [
              0,
              "#0d0887"
             ],
             [
              0.1111111111111111,
              "#46039f"
             ],
             [
              0.2222222222222222,
              "#7201a8"
             ],
             [
              0.3333333333333333,
              "#9c179e"
             ],
             [
              0.4444444444444444,
              "#bd3786"
             ],
             [
              0.5555555555555556,
              "#d8576b"
             ],
             [
              0.6666666666666666,
              "#ed7953"
             ],
             [
              0.7777777777777778,
              "#fb9f3a"
             ],
             [
              0.8888888888888888,
              "#fdca26"
             ],
             [
              1,
              "#f0f921"
             ]
            ],
            "type": "heatmapgl"
           }
          ],
          "histogram": [
           {
            "marker": {
             "pattern": {
              "fillmode": "overlay",
              "size": 10,
              "solidity": 0.2
             }
            },
            "type": "histogram"
           }
          ],
          "histogram2d": [
           {
            "colorbar": {
             "outlinewidth": 0,
             "ticks": ""
            },
            "colorscale": [
             [
              0,
              "#0d0887"
             ],
             [
              0.1111111111111111,
              "#46039f"
             ],
             [
              0.2222222222222222,
              "#7201a8"
             ],
             [
              0.3333333333333333,
              "#9c179e"
             ],
             [
              0.4444444444444444,
              "#bd3786"
             ],
             [
              0.5555555555555556,
              "#d8576b"
             ],
             [
              0.6666666666666666,
              "#ed7953"
             ],
             [
              0.7777777777777778,
              "#fb9f3a"
             ],
             [
              0.8888888888888888,
              "#fdca26"
             ],
             [
              1,
              "#f0f921"
             ]
            ],
            "type": "histogram2d"
           }
          ],
          "histogram2dcontour": [
           {
            "colorbar": {
             "outlinewidth": 0,
             "ticks": ""
            },
            "colorscale": [
             [
              0,
              "#0d0887"
             ],
             [
              0.1111111111111111,
              "#46039f"
             ],
             [
              0.2222222222222222,
              "#7201a8"
             ],
             [
              0.3333333333333333,
              "#9c179e"
             ],
             [
              0.4444444444444444,
              "#bd3786"
             ],
             [
              0.5555555555555556,
              "#d8576b"
             ],
             [
              0.6666666666666666,
              "#ed7953"
             ],
             [
              0.7777777777777778,
              "#fb9f3a"
             ],
             [
              0.8888888888888888,
              "#fdca26"
             ],
             [
              1,
              "#f0f921"
             ]
            ],
            "type": "histogram2dcontour"
           }
          ],
          "mesh3d": [
           {
            "colorbar": {
             "outlinewidth": 0,
             "ticks": ""
            },
            "type": "mesh3d"
           }
          ],
          "parcoords": [
           {
            "line": {
             "colorbar": {
              "outlinewidth": 0,
              "ticks": ""
             }
            },
            "type": "parcoords"
           }
          ],
          "pie": [
           {
            "automargin": true,
            "type": "pie"
           }
          ],
          "scatter": [
           {
            "fillpattern": {
             "fillmode": "overlay",
             "size": 10,
             "solidity": 0.2
            },
            "type": "scatter"
           }
          ],
          "scatter3d": [
           {
            "line": {
             "colorbar": {
              "outlinewidth": 0,
              "ticks": ""
             }
            },
            "marker": {
             "colorbar": {
              "outlinewidth": 0,
              "ticks": ""
             }
            },
            "type": "scatter3d"
           }
          ],
          "scattercarpet": [
           {
            "marker": {
             "colorbar": {
              "outlinewidth": 0,
              "ticks": ""
             }
            },
            "type": "scattercarpet"
           }
          ],
          "scattergeo": [
           {
            "marker": {
             "colorbar": {
              "outlinewidth": 0,
              "ticks": ""
             }
            },
            "type": "scattergeo"
           }
          ],
          "scattergl": [
           {
            "marker": {
             "colorbar": {
              "outlinewidth": 0,
              "ticks": ""
             }
            },
            "type": "scattergl"
           }
          ],
          "scattermapbox": [
           {
            "marker": {
             "colorbar": {
              "outlinewidth": 0,
              "ticks": ""
             }
            },
            "type": "scattermapbox"
           }
          ],
          "scatterpolar": [
           {
            "marker": {
             "colorbar": {
              "outlinewidth": 0,
              "ticks": ""
             }
            },
            "type": "scatterpolar"
           }
          ],
          "scatterpolargl": [
           {
            "marker": {
             "colorbar": {
              "outlinewidth": 0,
              "ticks": ""
             }
            },
            "type": "scatterpolargl"
           }
          ],
          "scatterternary": [
           {
            "marker": {
             "colorbar": {
              "outlinewidth": 0,
              "ticks": ""
             }
            },
            "type": "scatterternary"
           }
          ],
          "surface": [
           {
            "colorbar": {
             "outlinewidth": 0,
             "ticks": ""
            },
            "colorscale": [
             [
              0,
              "#0d0887"
             ],
             [
              0.1111111111111111,
              "#46039f"
             ],
             [
              0.2222222222222222,
              "#7201a8"
             ],
             [
              0.3333333333333333,
              "#9c179e"
             ],
             [
              0.4444444444444444,
              "#bd3786"
             ],
             [
              0.5555555555555556,
              "#d8576b"
             ],
             [
              0.6666666666666666,
              "#ed7953"
             ],
             [
              0.7777777777777778,
              "#fb9f3a"
             ],
             [
              0.8888888888888888,
              "#fdca26"
             ],
             [
              1,
              "#f0f921"
             ]
            ],
            "type": "surface"
           }
          ],
          "table": [
           {
            "cells": {
             "fill": {
              "color": "#EBF0F8"
             },
             "line": {
              "color": "white"
             }
            },
            "header": {
             "fill": {
              "color": "#C8D4E3"
             },
             "line": {
              "color": "white"
             }
            },
            "type": "table"
           }
          ]
         },
         "layout": {
          "annotationdefaults": {
           "arrowcolor": "#2a3f5f",
           "arrowhead": 0,
           "arrowwidth": 1
          },
          "autotypenumbers": "strict",
          "coloraxis": {
           "colorbar": {
            "outlinewidth": 0,
            "ticks": ""
           }
          },
          "colorscale": {
           "diverging": [
            [
             0,
             "#8e0152"
            ],
            [
             0.1,
             "#c51b7d"
            ],
            [
             0.2,
             "#de77ae"
            ],
            [
             0.3,
             "#f1b6da"
            ],
            [
             0.4,
             "#fde0ef"
            ],
            [
             0.5,
             "#f7f7f7"
            ],
            [
             0.6,
             "#e6f5d0"
            ],
            [
             0.7,
             "#b8e186"
            ],
            [
             0.8,
             "#7fbc41"
            ],
            [
             0.9,
             "#4d9221"
            ],
            [
             1,
             "#276419"
            ]
           ],
           "sequential": [
            [
             0,
             "#0d0887"
            ],
            [
             0.1111111111111111,
             "#46039f"
            ],
            [
             0.2222222222222222,
             "#7201a8"
            ],
            [
             0.3333333333333333,
             "#9c179e"
            ],
            [
             0.4444444444444444,
             "#bd3786"
            ],
            [
             0.5555555555555556,
             "#d8576b"
            ],
            [
             0.6666666666666666,
             "#ed7953"
            ],
            [
             0.7777777777777778,
             "#fb9f3a"
            ],
            [
             0.8888888888888888,
             "#fdca26"
            ],
            [
             1,
             "#f0f921"
            ]
           ],
           "sequentialminus": [
            [
             0,
             "#0d0887"
            ],
            [
             0.1111111111111111,
             "#46039f"
            ],
            [
             0.2222222222222222,
             "#7201a8"
            ],
            [
             0.3333333333333333,
             "#9c179e"
            ],
            [
             0.4444444444444444,
             "#bd3786"
            ],
            [
             0.5555555555555556,
             "#d8576b"
            ],
            [
             0.6666666666666666,
             "#ed7953"
            ],
            [
             0.7777777777777778,
             "#fb9f3a"
            ],
            [
             0.8888888888888888,
             "#fdca26"
            ],
            [
             1,
             "#f0f921"
            ]
           ]
          },
          "colorway": [
           "#636efa",
           "#EF553B",
           "#00cc96",
           "#ab63fa",
           "#FFA15A",
           "#19d3f3",
           "#FF6692",
           "#B6E880",
           "#FF97FF",
           "#FECB52"
          ],
          "font": {
           "color": "#2a3f5f"
          },
          "geo": {
           "bgcolor": "white",
           "lakecolor": "white",
           "landcolor": "#E5ECF6",
           "showlakes": true,
           "showland": true,
           "subunitcolor": "white"
          },
          "hoverlabel": {
           "align": "left"
          },
          "hovermode": "closest",
          "mapbox": {
           "style": "light"
          },
          "paper_bgcolor": "white",
          "plot_bgcolor": "#E5ECF6",
          "polar": {
           "angularaxis": {
            "gridcolor": "white",
            "linecolor": "white",
            "ticks": ""
           },
           "bgcolor": "#E5ECF6",
           "radialaxis": {
            "gridcolor": "white",
            "linecolor": "white",
            "ticks": ""
           }
          },
          "scene": {
           "xaxis": {
            "backgroundcolor": "#E5ECF6",
            "gridcolor": "white",
            "gridwidth": 2,
            "linecolor": "white",
            "showbackground": true,
            "ticks": "",
            "zerolinecolor": "white"
           },
           "yaxis": {
            "backgroundcolor": "#E5ECF6",
            "gridcolor": "white",
            "gridwidth": 2,
            "linecolor": "white",
            "showbackground": true,
            "ticks": "",
            "zerolinecolor": "white"
           },
           "zaxis": {
            "backgroundcolor": "#E5ECF6",
            "gridcolor": "white",
            "gridwidth": 2,
            "linecolor": "white",
            "showbackground": true,
            "ticks": "",
            "zerolinecolor": "white"
           }
          },
          "shapedefaults": {
           "line": {
            "color": "#2a3f5f"
           }
          },
          "ternary": {
           "aaxis": {
            "gridcolor": "white",
            "linecolor": "white",
            "ticks": ""
           },
           "baxis": {
            "gridcolor": "white",
            "linecolor": "white",
            "ticks": ""
           },
           "bgcolor": "#E5ECF6",
           "caxis": {
            "gridcolor": "white",
            "linecolor": "white",
            "ticks": ""
           }
          },
          "title": {
           "x": 0.05
          },
          "xaxis": {
           "automargin": true,
           "gridcolor": "white",
           "linecolor": "white",
           "ticks": "",
           "title": {
            "standoff": 15
           },
           "zerolinecolor": "white",
           "zerolinewidth": 2
          },
          "yaxis": {
           "automargin": true,
           "gridcolor": "white",
           "linecolor": "white",
           "ticks": "",
           "title": {
            "standoff": 15
           },
           "zerolinecolor": "white",
           "zerolinewidth": 2
          }
         }
        },
        "title": {
         "text": "지역별 정보 충분 만족도에 대한 평균"
        },
        "xaxis": {
         "anchor": "y",
         "categoryarray": [
          "제주특별자치도",
          "전라북도",
          "전라남도",
          "경상북도",
          "경상남도",
          "울산광역시",
          "충청남도",
          "강원도",
          "충청북도",
          "대구광역시",
          "부산광역시",
          "광주광역시",
          "대전광역시",
          "경기도",
          "인천광역시",
          "세종특별자치시",
          "서울특별시"
         ],
         "categoryorder": "array",
         "domain": [
          0,
          1
         ],
         "title": {
          "text": "ANSWRR_OC_AREA_NM"
         }
        },
        "yaxis": {
         "anchor": "x",
         "domain": [
          0,
          1
         ],
         "title": {
          "text": "INFO_SUFNCY_SATSFC_DGREE_MEAN"
         }
        }
       }
      }
     },
     "metadata": {},
     "output_type": "display_data"
    }
   ],
   "source": [
    "# 시∙도민의 정보충분만족정도에 대한 평균\n",
    "df6 = df_stf_1.groupby(\"ANSWRR_OC_AREA_NM\")[\"INFO_SUFNCY_SATSFC_DGREE_NUM\"].agg(np.mean).reset_index()\n",
    "df6.rename(columns = {'INFO_SUFNCY_SATSFC_DGREE_NUM' : 'INFO_SUFNCY_SATSFC_DGREE_MEAN'}, inplace = True)\n",
    "\n",
    "fig = px.bar(df6.sort_values(by=\"INFO_SUFNCY_SATSFC_DGREE_MEAN\"), x=\"ANSWRR_OC_AREA_NM\", y=\"INFO_SUFNCY_SATSFC_DGREE_MEAN\", color=\"ANSWRR_OC_AREA_NM\", text='INFO_SUFNCY_SATSFC_DGREE_MEAN')\n",
    "fig.update_layout(title = \"지역별 정보 충분 만족도에 대한 평균\")\n",
    "fig.update_traces(texttemplate='%{text:.2s}', textposition='outside')\n",
    "fig.show()"
   ]
  }
 ],
 "metadata": {
  "kernelspec": {
   "display_name": "test",
   "language": "python",
   "name": "python3"
  },
  "language_info": {
   "codemirror_mode": {
    "name": "ipython",
    "version": 3
   },
   "file_extension": ".py",
   "mimetype": "text/x-python",
   "name": "python",
   "nbconvert_exporter": "python",
   "pygments_lexer": "ipython3",
   "version": "3.8.16"
  },
  "orig_nbformat": 4,
  "vscode": {
   "interpreter": {
    "hash": "b0e1f1a130348ef68830acf9dfb4636442ae82e567e5c4b8ba4e15c1763484cf"
   }
  }
 },
 "nbformat": 4,
 "nbformat_minor": 2
}
