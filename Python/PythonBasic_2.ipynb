{
  "nbformat": 4,
  "nbformat_minor": 0,
  "metadata": {
    "colab": {
      "provenance": [],
      "collapsed_sections": [
        "y2GhUQWnkjNJ",
        "L6AxND01wwA3"
      ]
    },
    "kernelspec": {
      "name": "python3",
      "display_name": "Python 3"
    },
    "language_info": {
      "name": "python"
    }
  },
  "cells": [
    {
      "cell_type": "markdown",
      "source": [
        "**데이터처리1_파이썬기본문법2**\n",
        "\n",
        "프로그램의 흐름 제어\n",
        "\n",
        "* Sequences : 위에서 아래로\n",
        "* Selection : 조건에 따라서 ; 조건문\n",
        "* Loops : 반복 ; 반복문"
      ],
      "metadata": {
        "id": "Afn2kmA_kZWr"
      }
    },
    {
      "cell_type": "markdown",
      "source": [
        "##1. 조건문 (Selection)##\n",
        "\n",
        "* 조건에 따라 프로그램의 흐름을 바꾸고 싶을 때 사용\n",
        "\n",
        "\n",
        "\n",
        "* 조건문의 구조:\n",
        "\n",
        "        if 참 또는 거짓을 가지는 값:\n",
        "            조건이 참일 때 실행되는 명령\n",
        "        else:\n",
        "            조건이 거짓일 때 실행되는 명령"
      ],
      "metadata": {
        "id": "y2GhUQWnkjNJ"
      }
    },
    {
      "cell_type": "markdown",
      "source": [
        "1-1 if문"
      ],
      "metadata": {
        "id": "8zPmvSUom47o"
      }
    },
    {
      "cell_type": "code",
      "source": [
        " #if문\n",
        "\n",
        " if True: #조건문\n",
        "   print(\"Hello world\") #조건문이 참일 때 실행되는 명령"
      ],
      "metadata": {
        "colab": {
          "base_uri": "https://localhost:8080/"
        },
        "id": "poyrUZSJlSaQ",
        "outputId": "fd235f19-2afa-45e7-e0f2-b141a5c3b08a"
      },
      "execution_count": null,
      "outputs": [
        {
          "output_type": "stream",
          "name": "stdout",
          "text": [
            "Hello world\n"
          ]
        }
      ]
    },
    {
      "cell_type": "code",
      "source": [
        "if False:\n",
        "  print(\"Hello world\")\n",
        "#조건문이 거짓일 때는 실행되지 않음"
      ],
      "metadata": {
        "id": "WipKe8qgmqdI"
      },
      "execution_count": null,
      "outputs": []
    },
    {
      "cell_type": "code",
      "source": [
        "#코드블럭; 같은 들여쓰기 레벨\n",
        "if True:\n",
        "  print(\"Hello\")\n",
        "  print(\"World\")\n",
        "  print(\"Python\")\n",
        "#if문에 대하여 조건문이 참일 때 같은 코드블럭의 명령들은 모두 실행됨\n",
        "#즉, 해당 조건문에 대하여 들여쓰기 되어있는 같은 명령들은 모두 실행됨"
      ],
      "metadata": {
        "colab": {
          "base_uri": "https://localhost:8080/"
        },
        "id": "zkLUxwS2q-1_",
        "outputId": "6c3483bf-ceed-413b-857f-0c8656e39662"
      },
      "execution_count": null,
      "outputs": [
        {
          "output_type": "stream",
          "name": "stdout",
          "text": [
            "Hello\n",
            "World\n",
            "Python\n"
          ]
        }
      ]
    },
    {
      "cell_type": "markdown",
      "source": [
        "1-2 비교연산자와 함께 if문 사용"
      ],
      "metadata": {
        "id": "XOkkRcMSm-x8"
      }
    },
    {
      "cell_type": "code",
      "source": [
        "x=3\n",
        "if x<4:\n",
        "  print(\"Hello world\")\n",
        "#조건문이 참이므로 Hello world 출력"
      ],
      "metadata": {
        "colab": {
          "base_uri": "https://localhost:8080/"
        },
        "id": "OkzfitCTojWW",
        "outputId": "4d6b9326-c5f1-4dd3-d3a9-a319c3aa77dc"
      },
      "execution_count": null,
      "outputs": [
        {
          "output_type": "stream",
          "name": "stdout",
          "text": [
            "Hello world\n"
          ]
        }
      ]
    },
    {
      "cell_type": "code",
      "source": [
        "x=8\n",
        "if x<4:\n",
        "  print(\"Hello world\")\n",
        "#조건문이 거짓일 때는 실행되지 않음"
      ],
      "metadata": {
        "id": "1hJGHXFcotKF"
      },
      "execution_count": null,
      "outputs": []
    },
    {
      "cell_type": "markdown",
      "source": [
        "1-3 if-else문"
      ],
      "metadata": {
        "id": "dAMquA1Xo7-e"
      }
    },
    {
      "cell_type": "code",
      "source": [
        "x=30\n",
        "if x<20:\n",
        "  print(\"x는 20보다 작은 값이다.\") #조건문이 참일 때 실행되는 명령\n",
        "else:\n",
        "  print(\"x는 20보다 큰 값이다.\") #조건문이 거짓일 때 실행되는 명령\n",
        "\n",
        "#조건문이 거짓이므로 else문의 명령이 실행됨"
      ],
      "metadata": {
        "colab": {
          "base_uri": "https://localhost:8080/"
        },
        "id": "Ebghhk2So_Tp",
        "outputId": "d0fc5490-c6b6-4c60-9397-aa03e2a7d59b"
      },
      "execution_count": null,
      "outputs": [
        {
          "output_type": "stream",
          "name": "stdout",
          "text": [
            "x는 20보다 큰 값이다.\n"
          ]
        }
      ]
    },
    {
      "cell_type": "markdown",
      "source": [
        "1-4 조건이 두 개 이상일 때"
      ],
      "metadata": {
        "id": "gd8cE_mVplVf"
      }
    },
    {
      "cell_type": "code",
      "source": [
        "x=12\n",
        "if x>20:\n",
        "  print(\"x는 20보다 큰 값이다.\")\n",
        "else: #첫 번째 조건문이 거짓일 때 적용할 조건 나열\n",
        "  if x>10:\n",
        "    print(\"x는 10보다 큰 값이다.\")\n",
        "  else: \n",
        "    print(\"x는 10보다 작은 값이다.\")\n",
        "\n",
        "  #첫 번째 조건문이 거짓이므로 else문으로 이동\n",
        "  #else문의 조건이 참이므로 \"x는 10보다 큰 값이다.\" 출력\n"
      ],
      "metadata": {
        "colab": {
          "base_uri": "https://localhost:8080/"
        },
        "id": "TuscFXhapjUm",
        "outputId": "ba772e8e-0650-4173-b650-9089733eb3a2"
      },
      "execution_count": null,
      "outputs": [
        {
          "output_type": "stream",
          "name": "stdout",
          "text": [
            "x는 10보다 큰 값이다.\n"
          ]
        }
      ]
    },
    {
      "cell_type": "markdown",
      "source": [
        "1-5 else와 if의 결합 ; elif문"
      ],
      "metadata": {
        "id": "kbC-Rwr4qYoY"
      }
    },
    {
      "cell_type": "code",
      "source": [
        "x=12\n",
        "if x>20:\n",
        "  print(\"x는 20보다 큰 값이다.\")\n",
        "elif x>10:\n",
        "  print(\"x는 10보다 큰 값이다.\")\n",
        "else:\n",
        "  print(\"x는 10보다 작은 값이다.\")\n",
        "\n",
        "#조건이 여러개일 때는 elif문을 사용하여 중첩을 피하고 가독성을 높임"
      ],
      "metadata": {
        "colab": {
          "base_uri": "https://localhost:8080/"
        },
        "id": "-90w0l3Nqdag",
        "outputId": "e028828d-7066-492b-f0d0-10f61fccb694"
      },
      "execution_count": null,
      "outputs": [
        {
          "output_type": "stream",
          "name": "stdout",
          "text": [
            "x는 10보다 큰 값이다.\n"
          ]
        }
      ]
    },
    {
      "cell_type": "markdown",
      "source": [
        "**연습문제**"
      ],
      "metadata": {
        "id": "tYETVCLHtd2O"
      }
    },
    {
      "cell_type": "markdown",
      "source": [
        "1. 어떤 농장에서는 수박이 10kg이 넘으면 1등급, 그렇지 않고 7kg이 넘으면 2등급, 그렇지 않고 4kg이 넘으면 3등급, 나머지는 4등급을 준다고 한다. 이 수박의 등급을 정하는 파이썬 코드를 작성한다."
      ],
      "metadata": {
        "id": "l1d2Gnyltgc8"
      }
    },
    {
      "cell_type": "code",
      "source": [
        "a = int(input(\"수박의 무게를 입력하시오\"))\n",
        "\n",
        "if a>10:\n",
        "  print(\"이 수박의 등급은 1등급 입니다.\")\n",
        "elif 7<a<=10:\n",
        "  print(\"이 수박의 등급은 2등급 입니다.\")\n",
        "elif 4<a<=7:\n",
        "  print(\"이 수박의 등급은 3등급 입니다.\")\n",
        "else:\n",
        "  print(\"이 수박의 등급은 4등급 입니다.\")"
      ],
      "metadata": {
        "colab": {
          "base_uri": "https://localhost:8080/"
        },
        "id": "Oe3Aa6EatvRT",
        "outputId": "4713b386-8dfb-42e9-e1e6-66cb776fc5de"
      },
      "execution_count": null,
      "outputs": [
        {
          "output_type": "stream",
          "name": "stdout",
          "text": [
            "수박의 무게를 입력하시오15\n",
            "이 수박의 등급은 1등급 입니다.\n"
          ]
        }
      ]
    },
    {
      "cell_type": "markdown",
      "source": [
        "2. 죄수의 딜레마는 게임 이론의 유명한 사례이다.\n",
        "\n",
        "    죄수의 딜레마:\n",
        "        두 명의 범죄자 A, B가 체포되어 서로 다른 취조실에서 격리되어 심문을 받고 있다. 이들에게 자백 여부에 따라 다음의 선택이 가능하다.\n",
        "\n",
        "        * 둘 중 하나가 배신하여 죄를 자백하면 자백한 사람은 즉시 풀어주고 나머지 한 명이 10년을 복역해야 한다.\n",
        "        * 둘 모두 서로를 배신하여 죄를 자백하면 둘 다 5년을 복역한다.\n",
        "        * 둘 모두 죄를 자백하지 않으면 둘 다 1년을 복역한다.\n",
        "\n",
        "    죄수를 나타내는 변수 XA, XB는 자백하면 True, 그렇지 않으면 False를 가지는 값이다. 이때 변수 XA, XB의 값에 따라 각각이 복역해야 하는 연 수를 변수 YA, YB라고 할 때, YA, YB를 계산하는 프로그램을 만든다.\n"
      ],
      "metadata": {
        "id": "DKxYjOEXu8Iv"
      }
    },
    {
      "cell_type": "code",
      "source": [
        "XA = input(\"A의 취조 결과를 True 또는 False로 입력하시오.\")\n",
        "XB = input(\"B의 취조 결과를 True 또는 False로 입력하시오.\")\n",
        "\n",
        "if XA==\"True\":\n",
        "  if XB==\"True\":\n",
        "    YA=5\n",
        "    YB=5\n",
        "  elif XB==\"False\":\n",
        "    YA=0\n",
        "    YB=10\n",
        "  else:\n",
        "    print(\"잘못된 취조 결과입니다.\")\n",
        "elif XA==\"False\":\n",
        "  if XB==\"True\":\n",
        "    YA=10\n",
        "    YB=0\n",
        "  elif XB==\"False\":\n",
        "    YA=1\n",
        "    YB=1\n",
        "  else:\n",
        "     print(\"잘못된 취조 결과입니다.\")\n",
        "else:\n",
        "   print(\"잘못된 취조 결과입니다.\")\n",
        "\n",
        "a=(XA==\"True\")or(XA==\"False\")\n",
        "b=(XB==\"True\")or(XB==\"False\")\n",
        "\n",
        "if (a and b)==True:\n",
        "  print(\"A가 복역해야 할 연 수는\",YA,\"년, B가 복역해야 할 연 수는\",YB,\"년 입니다.\")\n",
        "\n"
      ],
      "metadata": {
        "colab": {
          "base_uri": "https://localhost:8080/"
        },
        "id": "EeTQ1h6Pu7it",
        "outputId": "c16be5f8-5686-4491-9602-e32377c689c7"
      },
      "execution_count": null,
      "outputs": [
        {
          "output_type": "stream",
          "name": "stdout",
          "text": [
            "A의 취조 결과를 True 또는 False로 입력하시오.True\n",
            "B의 취조 결과를 True 또는 False로 입력하시오.False\n",
            "A가 복역해야 할 연 수는 0 년, B가 복역해야 할 연 수는 10 년 입니다.\n"
          ]
        }
      ]
    },
    {
      "cell_type": "markdown",
      "source": [
        "##2. 반복문 (Loofs)##\n",
        "\n",
        "코드가 일정한 횟수 또는 조건에 따라 반복적으로 실행되는 구조\n",
        "\n",
        "* for를 이용한 반복:\n",
        "\n",
        "        for 카운터변수 in 리스트:\n",
        "            반복할 구문\n",
        "* range를 이용한 반복:\n",
        "\n",
        "        for 카운터변수 in range(숫자):\n",
        "        반복할 구문\n",
        "* while을 이용한 반복\n"
      ],
      "metadata": {
        "id": "L6AxND01wwA3"
      }
    },
    {
      "cell_type": "markdown",
      "source": [
        "**2-1 리스트**\n",
        "\n",
        "* 여러 개의 값을 순서에 따라 담아 놓은 자료구조\n",
        "\n",
        "* 리스트 선언 방법:\n",
        "    \n",
        "        [변수1,변수2,변수3,…]"
      ],
      "metadata": {
        "id": "Tf-M5C9jOarV"
      }
    },
    {
      "cell_type": "code",
      "source": [
        "x = [1,15,37] #리스트를 변수에 저장\n",
        "print(x) #리스트 출력"
      ],
      "metadata": {
        "colab": {
          "base_uri": "https://localhost:8080/"
        },
        "id": "iPs28Zg6Pf6t",
        "outputId": "a6c0cd31-4e52-4862-aa69-8cea39aee0a9"
      },
      "execution_count": null,
      "outputs": [
        {
          "output_type": "stream",
          "name": "stdout",
          "text": [
            "[1, 15, 37]\n"
          ]
        }
      ]
    },
    {
      "cell_type": "code",
      "source": [
        "a = [1,2,3] #정수 저장 가능\n",
        "b = ['a', 'b', 'c'] #문자 저장 가능\n",
        "c = [True, False] #불리언 저장 가능\n",
        "d = [] #비어있는 상태로 선언 가능\n",
        "e = [[1,2],['ㄱ','ㄴ','ㄷ']] #리스트 안에 리스트 저장 가능\n",
        "\n",
        "print(a)\n",
        "print(b)\n",
        "print(c)\n",
        "print(d)\n",
        "print(e)\n",
        "#리스트는 유연하고 제약이 없는 자료구조이다."
      ],
      "metadata": {
        "colab": {
          "base_uri": "https://localhost:8080/"
        },
        "id": "0Z1itJdUQK0Z",
        "outputId": "a42e32c6-e7ff-4e0f-f4bc-3776f205e4fe"
      },
      "execution_count": null,
      "outputs": [
        {
          "output_type": "stream",
          "name": "stdout",
          "text": [
            "[1, 2, 3]\n",
            "['a', 'b', 'c']\n",
            "[True, False]\n",
            "[]\n",
            "[[1, 2], ['ㄱ', 'ㄴ', 'ㄷ']]\n"
          ]
        }
      ]
    },
    {
      "cell_type": "markdown",
      "source": [
        "**2-2 for를 이용한 반복**\n",
        "\n",
        "* 리스트 안의 값을 모두 순회할 때까지 반복\n",
        "* for를 이용한 반복문의 문법 구조:\n",
        "        for 카운터변수 in 리스트:\n",
        "            반복할 구문\n",
        "            반복할 구문"
      ],
      "metadata": {
        "id": "1z-bcgR9RqZ4"
      }
    },
    {
      "cell_type": "code",
      "source": [
        "numbers = [1,2,3,4]\n",
        "for i in numbers:\n",
        "  print(i)"
      ],
      "metadata": {
        "colab": {
          "base_uri": "https://localhost:8080/"
        },
        "id": "JPXokvpcS6Mv",
        "outputId": "81dd5154-0c42-4a1d-94b2-bfd02b10f513"
      },
      "execution_count": null,
      "outputs": [
        {
          "output_type": "stream",
          "name": "stdout",
          "text": [
            "1\n",
            "2\n",
            "3\n",
            "4\n"
          ]
        }
      ]
    },
    {
      "cell_type": "code",
      "source": [
        "for i in numbers:\n",
        "  print(\"hello\")"
      ],
      "metadata": {
        "colab": {
          "base_uri": "https://localhost:8080/"
        },
        "id": "xaUTCgoMT-2Q",
        "outputId": "61db0b4d-7a53-4403-bde9-02b09d6240bf"
      },
      "execution_count": null,
      "outputs": [
        {
          "output_type": "stream",
          "name": "stdout",
          "text": [
            "hello\n",
            "hello\n",
            "hello\n",
            "hello\n"
          ]
        }
      ]
    },
    {
      "cell_type": "code",
      "source": [
        "for i in numbers:\n",
        "  print(i+5)"
      ],
      "metadata": {
        "colab": {
          "base_uri": "https://localhost:8080/"
        },
        "id": "8MrLeq60UEcv",
        "outputId": "7d8ad79f-b143-48ea-85a5-0685862d2944"
      },
      "execution_count": null,
      "outputs": [
        {
          "output_type": "stream",
          "name": "stdout",
          "text": [
            "6\n",
            "7\n",
            "8\n",
            "9\n"
          ]
        }
      ]
    },
    {
      "cell_type": "code",
      "source": [
        "names = ['미나','재석','미주','준하','동훈']\n",
        "\n",
        "for i in names:\n",
        "  print(\"Hi\",i,\", nice to meet you!\")"
      ],
      "metadata": {
        "colab": {
          "base_uri": "https://localhost:8080/"
        },
        "id": "_tMdnX6yUhwy",
        "outputId": "05be7a0f-e13f-43cd-9fa2-632addee94cb"
      },
      "execution_count": null,
      "outputs": [
        {
          "output_type": "stream",
          "name": "stdout",
          "text": [
            "Hi 미나 , nice to meet you!\n",
            "Hi 재석 , nice to meet you!\n",
            "Hi 미주 , nice to meet you!\n",
            "Hi 준하 , nice to meet you!\n",
            "Hi 동훈 , nice to meet you!\n"
          ]
        }
      ]
    },
    {
      "cell_type": "markdown",
      "source": [
        "**2-3 range 명령어**\n",
        "\n",
        "* n개의 값을 가진 리스트를 간편하게 생성하고 싶을 때 사용\n",
        "* range를 통해 만들어진 리스트에는 0부터 n-1까지 총 n개의 값이 저장됨.\n",
        "\n",
        "* range를 이용한 반복문의 문법 구조:\n",
        "        for 카운터변수 in range(숫자)"
      ],
      "metadata": {
        "id": "v4d13deIVEEe"
      }
    },
    {
      "cell_type": "code",
      "source": [
        "for i in range(5):\n",
        "  print(i)"
      ],
      "metadata": {
        "colab": {
          "base_uri": "https://localhost:8080/"
        },
        "id": "poKFGZNkV8ME",
        "outputId": "b02e30f3-1945-452b-aa66-5150ecfc101f"
      },
      "execution_count": null,
      "outputs": [
        {
          "output_type": "stream",
          "name": "stdout",
          "text": [
            "0\n",
            "1\n",
            "2\n",
            "3\n",
            "4\n"
          ]
        }
      ]
    },
    {
      "cell_type": "code",
      "source": [
        "for i in range(5):\n",
        "  print(\"hello\")"
      ],
      "metadata": {
        "colab": {
          "base_uri": "https://localhost:8080/"
        },
        "id": "IkMeq2VZlPB7",
        "outputId": "e5efc80a-bc39-4e0f-f72c-f484c26867d6"
      },
      "execution_count": null,
      "outputs": [
        {
          "output_type": "stream",
          "name": "stdout",
          "text": [
            "hello\n",
            "hello\n",
            "hello\n",
            "hello\n",
            "hello\n"
          ]
        }
      ]
    },
    {
      "cell_type": "code",
      "source": [
        "for i in range(5):\n",
        "  print(i**2)"
      ],
      "metadata": {
        "colab": {
          "base_uri": "https://localhost:8080/"
        },
        "id": "2fImammhlVjC",
        "outputId": "7955ede1-c1c3-4f04-b2be-b48ddb6c1096"
      },
      "execution_count": null,
      "outputs": [
        {
          "output_type": "stream",
          "name": "stdout",
          "text": [
            "0\n",
            "1\n",
            "4\n",
            "9\n",
            "16\n"
          ]
        }
      ]
    },
    {
      "cell_type": "markdown",
      "source": [
        "**연습문제**"
      ],
      "metadata": {
        "id": "6JWV6pLWlcUK"
      }
    },
    {
      "cell_type": "markdown",
      "source": [
        "1. 1월부터 12월까지 바꾸어가며 영어로 출력하는 반복문을 설계해보시오."
      ],
      "metadata": {
        "id": "SvwUbfpZlezS"
      }
    },
    {
      "cell_type": "code",
      "source": [
        "month = [\"January\",\"February\",\"March\",\"April\",\"May\",\"June\",\"July\",\"August\",\"September\",\"Actober\",\"November\",\"December\"]\n",
        "for i in month:\n",
        "  print(\"One of the months of the year is\",i)"
      ],
      "metadata": {
        "colab": {
          "base_uri": "https://localhost:8080/"
        },
        "id": "lILB36AYleRx",
        "outputId": "597f34b3-8552-4ca5-da46-368280e06318"
      },
      "execution_count": null,
      "outputs": [
        {
          "output_type": "stream",
          "name": "stdout",
          "text": [
            "One of the months of the year is January\n",
            "One of the months of the year is February\n",
            "One of the months of the year is March\n",
            "One of the months of the year is April\n",
            "One of the months of the year is May\n",
            "One of the months of the year is June\n",
            "One of the months of the year is July\n",
            "One of the months of the year is August\n",
            "One of the months of the year is September\n",
            "One of the months of the year is Actober\n",
            "One of the months of the year is November\n",
            "One of the months of the year is December\n"
          ]
        }
      ]
    },
    {
      "cell_type": "markdown",
      "source": [
        "2. 주어진 8개의 섭씨온도 [15,30,25,30,75,60,95,100]에 대하여 각각을 화씨온도로 변환하여 출력하는 프로그램을 설계하시오."
      ],
      "metadata": {
        "id": "IcStp_WfmXMC"
      }
    },
    {
      "cell_type": "code",
      "source": [
        "Celsius = [15,30,25,30,75,60,95,100]\n",
        "for i in Celsius:\n",
        "  print(\"섭씨온도\",i,\"℃를 화씨온도로 변환한 값은\",i*1.8+32,\"℉입니다.\")"
      ],
      "metadata": {
        "colab": {
          "base_uri": "https://localhost:8080/"
        },
        "id": "8UiOSAWqmqgG",
        "outputId": "c21e6d9a-c118-4b8f-96ba-d3d008d861c9"
      },
      "execution_count": null,
      "outputs": [
        {
          "output_type": "stream",
          "name": "stdout",
          "text": [
            "섭씨온도 15 ℃를 화씨온도로 변환한 값은 59.0 ℉입니다.\n",
            "섭씨온도 30 ℃를 화씨온도로 변환한 값은 86.0 ℉입니다.\n",
            "섭씨온도 25 ℃를 화씨온도로 변환한 값은 77.0 ℉입니다.\n",
            "섭씨온도 30 ℃를 화씨온도로 변환한 값은 86.0 ℉입니다.\n",
            "섭씨온도 75 ℃를 화씨온도로 변환한 값은 167.0 ℉입니다.\n",
            "섭씨온도 60 ℃를 화씨온도로 변환한 값은 140.0 ℉입니다.\n",
            "섭씨온도 95 ℃를 화씨온도로 변환한 값은 203.0 ℉입니다.\n",
            "섭씨온도 100 ℃를 화씨온도로 변환한 값은 212.0 ℉입니다.\n"
          ]
        }
      ]
    },
    {
      "cell_type": "markdown",
      "source": [
        "3. 다음과 같은 숫자의 리스트 [11,10,31,3,66,17,42,99,20] 중에서 짝수를 골라서 순서대로 출력하는 프로그램을 설계하시오."
      ],
      "metadata": {
        "id": "hTDaXoPmnFY_"
      }
    },
    {
      "cell_type": "code",
      "source": [
        "number = [11,10,31,3,66,17,42,99,20] \n",
        "for i in number:\n",
        "  if i%2==0:\n",
        "    print(i)"
      ],
      "metadata": {
        "colab": {
          "base_uri": "https://localhost:8080/"
        },
        "id": "x8aERKH3nN4N",
        "outputId": "0ce4bba9-82c8-4073-c302-8e7ee9296ede"
      },
      "execution_count": null,
      "outputs": [
        {
          "output_type": "stream",
          "name": "stdout",
          "text": [
            "10\n",
            "66\n",
            "42\n",
            "20\n"
          ]
        }
      ]
    },
    {
      "cell_type": "markdown",
      "source": [
        "4. *을 계단형태로 출력하고자 한다. 반복문을 사용하여 30층 짜리 계단을 출력하는 프로그램을 설계해보시오."
      ],
      "metadata": {
        "id": "OQMCv2KMnpSG"
      }
    },
    {
      "cell_type": "code",
      "source": [
        "for i in range(30):\n",
        "  print(\"*\"*(i+1))"
      ],
      "metadata": {
        "colab": {
          "base_uri": "https://localhost:8080/"
        },
        "id": "ClEMT8wfnfuQ",
        "outputId": "b9b02e07-1fe2-4a22-b7c0-5634e1276319"
      },
      "execution_count": null,
      "outputs": [
        {
          "output_type": "stream",
          "name": "stdout",
          "text": [
            "*\n",
            "**\n",
            "***\n",
            "****\n",
            "*****\n",
            "******\n",
            "*******\n",
            "********\n",
            "*********\n",
            "**********\n",
            "***********\n",
            "************\n",
            "*************\n",
            "**************\n",
            "***************\n",
            "****************\n",
            "*****************\n",
            "******************\n",
            "*******************\n",
            "********************\n",
            "*********************\n",
            "**********************\n",
            "***********************\n",
            "************************\n",
            "*************************\n",
            "**************************\n",
            "***************************\n",
            "****************************\n",
            "*****************************\n",
            "******************************\n"
          ]
        }
      ]
    },
    {
      "cell_type": "markdown",
      "source": [
        "**2-4 변수 업데이트**\n",
        "\n",
        "* =의 오른쪽 부분의 연산이 모두 이루어져 값으로 변환된 후 변수에 저장된다.\n",
        "* 변수에 값을 할당하기 전 =의 오른쪽 부분의 연산이 먼저 이루어진다.\n",
        "* 이를 이용하여 변수 자신을 업데이트 할 수 있다."
      ],
      "metadata": {
        "id": "vJe8Ph3Xn7aq"
      }
    },
    {
      "cell_type": "code",
      "source": [
        "a = 3\n",
        "n = a+3 #n=6\n",
        "print(n)"
      ],
      "metadata": {
        "colab": {
          "base_uri": "https://localhost:8080/"
        },
        "id": "ArA_GHtQoME_",
        "outputId": "af797ce4-047a-4bc5-fad4-9a1f52d64a16"
      },
      "execution_count": null,
      "outputs": [
        {
          "output_type": "stream",
          "name": "stdout",
          "text": [
            "6\n"
          ]
        }
      ]
    },
    {
      "cell_type": "code",
      "source": [
        "n = 3\n",
        "n = n+3 #n=6\n",
        "n = n+3 #n=9\n",
        "n = n+3 #n=12\n",
        "n = n+3 #n=15\n",
        "print(n)"
      ],
      "metadata": {
        "colab": {
          "base_uri": "https://localhost:8080/"
        },
        "id": "ef1ymr-7oTe6",
        "outputId": "29689af4-4698-4283-f6f7-ecd55c29dbcf"
      },
      "execution_count": null,
      "outputs": [
        {
          "output_type": "stream",
          "name": "stdout",
          "text": [
            "15\n"
          ]
        }
      ]
    },
    {
      "cell_type": "markdown",
      "source": [
        "**연습문제**"
      ],
      "metadata": {
        "id": "BtLnf8b8oxS7"
      }
    },
    {
      "cell_type": "markdown",
      "source": [
        "1. 1부터 50까지 연속된 값의 곱을 하나의 변수로 업데이트하며 계산해보시오."
      ],
      "metadata": {
        "id": "f7aMrmaDo6v0"
      }
    },
    {
      "cell_type": "code",
      "source": [
        "k=1\n",
        "for i in range(50):\n",
        "  k = k*(i+1)\n",
        "\n",
        "print(\"50팩토리얼의 값은\",k,\"입니다.\") "
      ],
      "metadata": {
        "colab": {
          "base_uri": "https://localhost:8080/"
        },
        "id": "NLY3WKDYpAAq",
        "outputId": "7c2d7856-5342-44b5-cbdf-b913df42b2c8"
      },
      "execution_count": null,
      "outputs": [
        {
          "output_type": "stream",
          "name": "stdout",
          "text": [
            "50팩토리얼의 값은 30414093201713378043612608166064768844377641568960512000000000000 입니다.\n"
          ]
        }
      ]
    },
    {
      "cell_type": "markdown",
      "source": [
        "2. 1부터 100까지의 연속된 값 중 홀수만 골라서 합하는 프로그램을 작성하시오."
      ],
      "metadata": {
        "id": "6hm0K5jnpi4l"
      }
    },
    {
      "cell_type": "code",
      "source": [
        "k=0\n",
        "for i in range(101):\n",
        "  if i%2==1:\n",
        "    k=k+i\n",
        "\n",
        "print(\"홀수의 총 합은\",k,\"입니다.\")"
      ],
      "metadata": {
        "colab": {
          "base_uri": "https://localhost:8080/"
        },
        "id": "p2HoJL31ppL6",
        "outputId": "09655658-7dc3-4908-d74a-6341924309f1"
      },
      "execution_count": null,
      "outputs": [
        {
          "output_type": "stream",
          "name": "stdout",
          "text": [
            "홀수의 총 합은 2500 입니다.\n"
          ]
        }
      ]
    },
    {
      "cell_type": "markdown",
      "source": [
        "3. 1부터 100까지 연속된 값 중 3의 배수 또는 7의 배수인 숫자의 갯수를 구하려고 한다. 프로그램을 설계해보시오."
      ],
      "metadata": {
        "id": "gitHlYsaqp5R"
      }
    },
    {
      "cell_type": "code",
      "source": [
        "multiple_of_3=0\n",
        "multiple_of_7=0\n",
        "multiple_of_21=0\n",
        "for i in range(100):\n",
        "  if (i+1)%3==0:\n",
        "    multiple_of_3=multiple_of_3+1\n",
        "  elif (i+1)%7==0:\n",
        "    if (i+1)%3!=0:\n",
        "      multiple_of_7=multiple_of_7+1\n",
        "\n",
        "print(\"3의 배수 또는 7의 배수인 숫자의 개수는\",multiple_of_3+multiple_of_7-multiple_of_21,\"개 입니다.\")"
      ],
      "metadata": {
        "colab": {
          "base_uri": "https://localhost:8080/"
        },
        "id": "aUOP3XPqqwfe",
        "outputId": "5fc60809-2040-4c0f-90ac-0ce8f13ade74"
      },
      "execution_count": null,
      "outputs": [
        {
          "output_type": "stream",
          "name": "stdout",
          "text": [
            "3의 배수 또는 7의 배수인 숫자의 개수는 43 개 입니다.\n"
          ]
        }
      ]
    },
    {
      "cell_type": "markdown",
      "source": [
        "**2-5 중첩반목문**"
      ],
      "metadata": {
        "id": "DfYVQfwFsP4k"
      }
    },
    {
      "cell_type": "code",
      "source": [
        "for i in range(2): #아래 과정 두 번 반복\n",
        "  print(\"hello\") #hello 한 번 출력\n",
        "  for i in range(3):\n",
        "    print(\"world\") #world 세 번 출력"
      ],
      "metadata": {
        "colab": {
          "base_uri": "https://localhost:8080/"
        },
        "id": "n8ONNqMEsUFB",
        "outputId": "c3c494af-87d3-42c7-cded-0e8fade5cf4c"
      },
      "execution_count": null,
      "outputs": [
        {
          "output_type": "stream",
          "name": "stdout",
          "text": [
            "hello\n",
            "world\n",
            "world\n",
            "world\n",
            "hello\n",
            "world\n",
            "world\n",
            "world\n"
          ]
        }
      ]
    },
    {
      "cell_type": "code",
      "source": [
        "for i in [1,2,3]: #리스트 안의 i값이 다 할당될 때까지 반복\n",
        "  for j in [4,5,6]: #i값이 정해진 상태에서 반복문 실행\n",
        "    print(i,j) #하나의 i값에 대하여 리스트 안의 j값이 다 할당될 때까지 반복"
      ],
      "metadata": {
        "colab": {
          "base_uri": "https://localhost:8080/"
        },
        "id": "INaEuqHFtnOw",
        "outputId": "c911ac73-cc34-4b23-bb7a-0f16a1c58481"
      },
      "execution_count": null,
      "outputs": [
        {
          "output_type": "stream",
          "name": "stdout",
          "text": [
            "1 4\n",
            "1 5\n",
            "1 6\n",
            "2 4\n",
            "2 5\n",
            "2 6\n",
            "3 4\n",
            "3 5\n",
            "3 6\n"
          ]
        }
      ]
    },
    {
      "cell_type": "markdown",
      "source": [
        "**연습문제**"
      ],
      "metadata": {
        "id": "-_JKSE7guNo_"
      }
    },
    {
      "cell_type": "markdown",
      "source": [
        "1. 구구단을 출력하는 프로그램을 작성해보시오."
      ],
      "metadata": {
        "id": "gWpO4lRYuQOD"
      }
    },
    {
      "cell_type": "code",
      "source": [
        "for i in range(9):\n",
        "  print(\"구구단\",(i+1),\"단입니다.\")\n",
        "  for j in range(9):\n",
        "    print(i+1,\"*\",j+1,\"=\",(i+1)*(j+1))"
      ],
      "metadata": {
        "colab": {
          "base_uri": "https://localhost:8080/"
        },
        "id": "qSNNEvDZuTgG",
        "outputId": "82759ca6-c0e0-45ac-c617-464cfb216efb"
      },
      "execution_count": null,
      "outputs": [
        {
          "output_type": "stream",
          "name": "stdout",
          "text": [
            "구구단 1 단입니다.\n",
            "1 * 1 = 1\n",
            "1 * 2 = 2\n",
            "1 * 3 = 3\n",
            "1 * 4 = 4\n",
            "1 * 5 = 5\n",
            "1 * 6 = 6\n",
            "1 * 7 = 7\n",
            "1 * 8 = 8\n",
            "1 * 9 = 9\n",
            "구구단 2 단입니다.\n",
            "2 * 1 = 2\n",
            "2 * 2 = 4\n",
            "2 * 3 = 6\n",
            "2 * 4 = 8\n",
            "2 * 5 = 10\n",
            "2 * 6 = 12\n",
            "2 * 7 = 14\n",
            "2 * 8 = 16\n",
            "2 * 9 = 18\n",
            "구구단 3 단입니다.\n",
            "3 * 1 = 3\n",
            "3 * 2 = 6\n",
            "3 * 3 = 9\n",
            "3 * 4 = 12\n",
            "3 * 5 = 15\n",
            "3 * 6 = 18\n",
            "3 * 7 = 21\n",
            "3 * 8 = 24\n",
            "3 * 9 = 27\n",
            "구구단 4 단입니다.\n",
            "4 * 1 = 4\n",
            "4 * 2 = 8\n",
            "4 * 3 = 12\n",
            "4 * 4 = 16\n",
            "4 * 5 = 20\n",
            "4 * 6 = 24\n",
            "4 * 7 = 28\n",
            "4 * 8 = 32\n",
            "4 * 9 = 36\n",
            "구구단 5 단입니다.\n",
            "5 * 1 = 5\n",
            "5 * 2 = 10\n",
            "5 * 3 = 15\n",
            "5 * 4 = 20\n",
            "5 * 5 = 25\n",
            "5 * 6 = 30\n",
            "5 * 7 = 35\n",
            "5 * 8 = 40\n",
            "5 * 9 = 45\n",
            "구구단 6 단입니다.\n",
            "6 * 1 = 6\n",
            "6 * 2 = 12\n",
            "6 * 3 = 18\n",
            "6 * 4 = 24\n",
            "6 * 5 = 30\n",
            "6 * 6 = 36\n",
            "6 * 7 = 42\n",
            "6 * 8 = 48\n",
            "6 * 9 = 54\n",
            "구구단 7 단입니다.\n",
            "7 * 1 = 7\n",
            "7 * 2 = 14\n",
            "7 * 3 = 21\n",
            "7 * 4 = 28\n",
            "7 * 5 = 35\n",
            "7 * 6 = 42\n",
            "7 * 7 = 49\n",
            "7 * 8 = 56\n",
            "7 * 9 = 63\n",
            "구구단 8 단입니다.\n",
            "8 * 1 = 8\n",
            "8 * 2 = 16\n",
            "8 * 3 = 24\n",
            "8 * 4 = 32\n",
            "8 * 5 = 40\n",
            "8 * 6 = 48\n",
            "8 * 7 = 56\n",
            "8 * 8 = 64\n",
            "8 * 9 = 72\n",
            "구구단 9 단입니다.\n",
            "9 * 1 = 9\n",
            "9 * 2 = 18\n",
            "9 * 3 = 27\n",
            "9 * 4 = 36\n",
            "9 * 5 = 45\n",
            "9 * 6 = 54\n",
            "9 * 7 = 63\n",
            "9 * 8 = 72\n",
            "9 * 9 = 81\n"
          ]
        }
      ]
    },
    {
      "cell_type": "markdown",
      "source": [
        "2. 프랑스의 수학자 페르마의 마지막 정리는 다음과 같다.\n",
        "\n",
        "페르마(Ferma)의 마지막 정리:\n",
        "\n",
        "        $n$이 2보다 큰 자연수인 경우에, $a^n+b^n=c^n$이 되는 자연수 $a,b,c$는 존재하지 않는다.\n",
        "\n",
        "$n$이 3이고, $a,b,c$가 1부터 10까지의 자연수일 때 페르마의 마지막 정리가 사실임을 중첩 반복문을 써서 보인다.\n",
        "\n",
        "\n",
        "(힌트:1부터 10까지 반복되는 for반복문이 3개 중첩되어야 한다.)"
      ],
      "metadata": {
        "id": "ZGvWmtUJvE3a"
      }
    },
    {
      "cell_type": "code",
      "source": [
        "k=0\n",
        "for a in range(10):\n",
        "  for b in range(10):\n",
        "    for c in range(10):\n",
        "      n=3\n",
        "      p=((a+1)**n)+((b+1)**n)\n",
        "      q=((c+1)**n)\n",
        "      if p!=q:\n",
        "        k=k+1\n",
        "if k==1000:\n",
        "  print(\"n=3일 때 1부터 10까지의 모든 값에 대하여 a^n+b^n=c^n을 만족시키는 값이 없으므로 페르마의 정리는 성립한다.\")\n",
        "else:\n",
        "  print(\"n=3일 때 1부터 10까지의 모든 값에 대하여 a^n+b^n=c^n을 만족시키는 값이 존재하므로 페르마의 정리는 성립하지 않는다.\")"
      ],
      "metadata": {
        "colab": {
          "base_uri": "https://localhost:8080/"
        },
        "id": "AC397yFXvora",
        "outputId": "124e415a-e46a-4382-c846-35e08dd3509f"
      },
      "execution_count": null,
      "outputs": [
        {
          "output_type": "stream",
          "name": "stdout",
          "text": [
            "n=3일 때 1부터 10까지의 모든 값에 대하여 a^n+b^n=c^n을 만족시키는 값이 없으므로 페르마의 정리는 성립한다.\n"
          ]
        }
      ]
    },
    {
      "cell_type": "markdown",
      "source": [
        "3. 별 출력\n",
        "\n",
        "\n",
        "(1) 1개부터 10개까지 계단식 출력\n",
        "\n",
        "(2) 1개부터 10개까지 역계단식 출력\n",
        "\n",
        "(3) 10개까지 계단식으로 갔다가 역계단식으로 출력"
      ],
      "metadata": {
        "id": "lCIaEt1z1bkE"
      }
    },
    {
      "cell_type": "code",
      "source": [
        "#3-1\n",
        "for i in range(10):\n",
        "  print(\"*\"*(i+1))"
      ],
      "metadata": {
        "colab": {
          "base_uri": "https://localhost:8080/"
        },
        "id": "meN_5Moa1m_c",
        "outputId": "9d5cbfd0-ffeb-4f9c-9a57-22bce940068a"
      },
      "execution_count": null,
      "outputs": [
        {
          "output_type": "stream",
          "name": "stdout",
          "text": [
            "*\n",
            "**\n",
            "***\n",
            "****\n",
            "*****\n",
            "******\n",
            "*******\n",
            "********\n",
            "*********\n",
            "**********\n"
          ]
        }
      ]
    },
    {
      "cell_type": "code",
      "source": [
        "#3-2\n",
        "for i in range(10):\n",
        "  print(\"*\"*(10-i))"
      ],
      "metadata": {
        "colab": {
          "base_uri": "https://localhost:8080/"
        },
        "id": "vUI17V9w1yM_",
        "outputId": "53db8dc2-8259-4dde-deff-6535512f0a98"
      },
      "execution_count": null,
      "outputs": [
        {
          "output_type": "stream",
          "name": "stdout",
          "text": [
            "**********\n",
            "*********\n",
            "********\n",
            "*******\n",
            "******\n",
            "*****\n",
            "****\n",
            "***\n",
            "**\n",
            "*\n"
          ]
        }
      ]
    },
    {
      "cell_type": "code",
      "source": [
        "#3-3\n",
        "for i in range(20):\n",
        "  if (i+1)<=10:\n",
        "    print(\"*\"*(i+1))\n",
        "  else:\n",
        "    print(\"*\"*(20-i))"
      ],
      "metadata": {
        "colab": {
          "base_uri": "https://localhost:8080/"
        },
        "id": "o9Jo8vYW16mh",
        "outputId": "62086b8d-79f0-4890-a436-46b41bd2dc36"
      },
      "execution_count": null,
      "outputs": [
        {
          "output_type": "stream",
          "name": "stdout",
          "text": [
            "*\n",
            "**\n",
            "***\n",
            "****\n",
            "*****\n",
            "******\n",
            "*******\n",
            "********\n",
            "*********\n",
            "**********\n",
            "**********\n",
            "*********\n",
            "********\n",
            "*******\n",
            "******\n",
            "*****\n",
            "****\n",
            "***\n",
            "**\n",
            "*\n"
          ]
        }
      ]
    },
    {
      "cell_type": "markdown",
      "source": [
        "4. 어떤 주식의 가격은 매일 한 번의 동전을 던져서 앞 면이 나오면 전날 가격의 2배가 되고, 뒷면이 나오면 전날 가격의 절반이 된다. 1일에 주식의 가격이 1024원이었을 때, 4일 주식의 가격이 나올 수 있는 경우를 모두 구한다."
      ],
      "metadata": {
        "id": "YvQs-rYY2VHL"
      }
    },
    {
      "cell_type": "code",
      "source": [
        "price=1024\n",
        "day2=[2,0.5]\n",
        "day3=[2,0.5]\n",
        "for i in day2:\n",
        "  for j in day3:\n",
        "    if i==2:\n",
        "      p='앞면'\n",
        "    else:\n",
        "      p='뒷면'\n",
        "    if j==2:\n",
        "      q='앞면'\n",
        "    else:\n",
        "      q='뒷면'\n",
        "    print(\"2일에 동전이\",p,\", 3일에 동전에\",q,\"일 때 4일 주식의 가격은\",price*i*j,\"원 입니다.\")"
      ],
      "metadata": {
        "colab": {
          "base_uri": "https://localhost:8080/"
        },
        "id": "JgFNnNCE2ktS",
        "outputId": "4c1e2a75-0382-40d1-b503-85065f7431e4"
      },
      "execution_count": null,
      "outputs": [
        {
          "output_type": "stream",
          "name": "stdout",
          "text": [
            "2일에 동전이 앞면 , 3일에 동전에 앞면 일 때 4일 주식의 가격은 4096 원 입니다.\n",
            "2일에 동전이 앞면 , 3일에 동전에 뒷면 일 때 4일 주식의 가격은 1024.0 원 입니다.\n",
            "2일에 동전이 뒷면 , 3일에 동전에 앞면 일 때 4일 주식의 가격은 1024.0 원 입니다.\n",
            "2일에 동전이 뒷면 , 3일에 동전에 뒷면 일 때 4일 주식의 가격은 256.0 원 입니다.\n"
          ]
        }
      ]
    }
  ]
}