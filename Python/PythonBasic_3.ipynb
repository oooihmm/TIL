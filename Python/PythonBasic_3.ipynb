{
  "nbformat": 4,
  "nbformat_minor": 0,
  "metadata": {
    "colab": {
      "provenance": []
    },
    "kernelspec": {
      "name": "python3",
      "display_name": "Python 3"
    },
    "language_info": {
      "name": "python"
    }
  },
  "cells": [
    {
      "cell_type": "markdown",
      "source": [
        "**데이터처리1_파이썬기본문법3**\n",
        "\n"
      ],
      "metadata": {
        "id": "ZhtXJrgB7bTv"
      }
    },
    {
      "cell_type": "markdown",
      "source": [
        "##1. 함수##\n",
        "\n",
        "* 어떤 코드를 실행하기로 컴퓨터와 맺은 약속\n",
        "* 함수 이름의 호출만으로 약속에 따라 프로그램 실행\n",
        "* 함수의 정의:\n",
        "       def 함수이름():\n",
        "       코드\n",
        "       코드\n",
        "       …"
      ],
      "metadata": {
        "id": "sS_LX073vdNV"
      }
    },
    {
      "cell_type": "code",
      "source": [
        "#두 줄을 실행하는 코드 함수로 정의하기\n",
        "def hello_world(): #함수 정의\n",
        "  print(\"hello\")\n",
        "  print(\"world\")\n",
        "\n",
        "hello_world() #함수 실행"
      ],
      "metadata": {
        "colab": {
          "base_uri": "https://localhost:8080/"
        },
        "id": "8xZd08PHwFEX",
        "outputId": "4cc12555-bb2e-434b-dae1-c847821ffdc6"
      },
      "execution_count": null,
      "outputs": [
        {
          "output_type": "stream",
          "name": "stdout",
          "text": [
            "hello\n",
            "world\n"
          ]
        }
      ]
    },
    {
      "cell_type": "markdown",
      "source": [
        "**1-1 함수와 입력변수**"
      ],
      "metadata": {
        "id": "U45XOZ5mxUwK"
      }
    },
    {
      "cell_type": "code",
      "source": [
        "def double(x): #함수이름(입력변수)\n",
        "  result = 2*x\n",
        "  print(result)\n",
        "\n",
        "double(5) #함수 코드의 입력변수 자리에 해당 숫자들이 대입됨\n",
        "double(12)\n",
        "double(3)\n",
        "\n",
        "#즉, 함수가 어떤 값을 받으면 해당 값을 입력변수인 x에 입력함"
      ],
      "metadata": {
        "colab": {
          "base_uri": "https://localhost:8080/"
        },
        "id": "vN1Flz-DxYwp",
        "outputId": "df58f759-6d57-47a9-beea-ab6f554a4df1"
      },
      "execution_count": null,
      "outputs": [
        {
          "output_type": "stream",
          "name": "stdout",
          "text": [
            "10\n",
            "24\n",
            "6\n"
          ]
        }
      ]
    },
    {
      "cell_type": "code",
      "source": [
        "my = double(7) \n",
        "print(my) #None\n",
        "\n",
        "#함수에서는 이 결과물을 출력하는 것 뿐, 이 것을 다시 다른 변수가 재활용할 수 있게 하지 않음\n",
        "#이 결과물을 함수 밖에서 다시 사용하고 싶다면 출력변수를 사용해야함."
      ],
      "metadata": {
        "colab": {
          "base_uri": "https://localhost:8080/"
        },
        "id": "259VKLlryMh4",
        "outputId": "6c96b764-b3c3-43fc-9fe4-45e9a39a0487"
      },
      "execution_count": null,
      "outputs": [
        {
          "output_type": "stream",
          "name": "stdout",
          "text": [
            "14\n",
            "None\n"
          ]
        }
      ]
    },
    {
      "cell_type": "markdown",
      "source": [
        "**1-2 출력변수의 정의**\n",
        "\n",
        "* 함수에서 처리된 결과값을 프로그램의 다른 부분에서 활용하고 싶다면 출력변수를 정의해야 함\n",
        "\n",
        "* 처리된 결과를 return 명령어를 이용하여 처리\n",
        "\n",
        "* return 명령어 사용 구조:\n",
        "        def 함수이름(입력변수):\n",
        "        코드\n",
        "        코드\n",
        "        …\n",
        "        return 출력변수"
      ],
      "metadata": {
        "id": "PG7MdJGezDex"
      }
    },
    {
      "cell_type": "code",
      "source": [
        "def double(x):\n",
        "  result = 2*x #출력변수 정의\n",
        "  return result #return 명령어를 통해 변수 result 출력\n",
        "\n",
        "y = double(2)\n",
        "print(y)\n",
        "y = double(4)\n",
        "print(y)"
      ],
      "metadata": {
        "colab": {
          "base_uri": "https://localhost:8080/"
        },
        "id": "tbNVWtmSzHoP",
        "outputId": "ad2c415a-94c6-4fda-c62e-47c30756b454"
      },
      "execution_count": null,
      "outputs": [
        {
          "output_type": "stream",
          "name": "stdout",
          "text": [
            "4\n",
            "8\n"
          ]
        }
      ]
    },
    {
      "cell_type": "markdown",
      "source": [
        "**1-3 입력값이 여러개인 함수**\n",
        "\n",
        "* 입력변수를 여러개 사용하여 함수를 정의하고 싶다면 서로 다른 이름의 변수를 콤마를 사용하여 구분하여 넣는다."
      ],
      "metadata": {
        "id": "42ir3IgC1HN5"
      }
    },
    {
      "cell_type": "code",
      "source": [
        "#입력변수가 두 개인 함수\n",
        "def jegop(x,y):\n",
        "  return x**y\n",
        "\n",
        "k = jegop(2,3)\n",
        "print(k)"
      ],
      "metadata": {
        "colab": {
          "base_uri": "https://localhost:8080/"
        },
        "id": "tS_QA4sX1KRN",
        "outputId": "1e0a9a96-0c0e-41d6-f533-350b36695c27"
      },
      "execution_count": null,
      "outputs": [
        {
          "output_type": "stream",
          "name": "stdout",
          "text": [
            "8\n"
          ]
        }
      ]
    },
    {
      "cell_type": "code",
      "source": [
        "#입력변수가 세 개인 함수\n",
        "def hamsu(x,y,z):\n",
        "  return x+y-z\n",
        "\n",
        "i = hamsu(5,9,3)\n",
        "print(i)"
      ],
      "metadata": {
        "colab": {
          "base_uri": "https://localhost:8080/"
        },
        "id": "yEg2nb3Q0ahx",
        "outputId": "4dc42d86-0353-4a5f-f8da-b8fab274b80a"
      },
      "execution_count": null,
      "outputs": [
        {
          "output_type": "stream",
          "name": "stdout",
          "text": [
            "11\n"
          ]
        }
      ]
    },
    {
      "cell_type": "markdown",
      "source": [
        "**1-4 지역변수**\n",
        "\n",
        "* 지역변수(local variable) : 함수의 입출력에 사용된 변수\n",
        "* 지역변수는 해당 함수 내에서만 유용하다"
      ],
      "metadata": {
        "id": "FzH15WKy2P1Y"
      }
    },
    {
      "cell_type": "code",
      "source": [
        "def tentimes(x):\n",
        "  result = x*10\n",
        "  return result"
      ],
      "metadata": {
        "id": "n781Pbzj2dHU"
      },
      "execution_count": null,
      "outputs": []
    },
    {
      "cell_type": "code",
      "source": [
        "print(result)\n",
        "\n",
        "#오류 발생 : result라는 변수는 선언되지 않음.\n",
        "#tentimes 함수 내에 사용한 result라는 변수는 그 함수 안에서한 효용을 가짐"
      ],
      "metadata": {
        "colab": {
          "base_uri": "https://localhost:8080/",
          "height": 172
        },
        "id": "OToaRnJB2rI7",
        "outputId": "14ebe338-c59d-4c5c-f5df-5e76f55894a4"
      },
      "execution_count": null,
      "outputs": [
        {
          "output_type": "error",
          "ename": "NameError",
          "evalue": "ignored",
          "traceback": [
            "\u001b[0;31m---------------------------------------------------------------------------\u001b[0m",
            "\u001b[0;31mNameError\u001b[0m                                 Traceback (most recent call last)",
            "\u001b[0;32m<ipython-input-13-6459d04d738f>\u001b[0m in \u001b[0;36m<module>\u001b[0;34m()\u001b[0m\n\u001b[0;32m----> 1\u001b[0;31m \u001b[0mprint\u001b[0m\u001b[0;34m(\u001b[0m\u001b[0mresult\u001b[0m\u001b[0;34m)\u001b[0m\u001b[0;34m\u001b[0m\u001b[0;34m\u001b[0m\u001b[0m\n\u001b[0m",
            "\u001b[0;31mNameError\u001b[0m: name 'result' is not defined"
          ]
        }
      ]
    },
    {
      "cell_type": "code",
      "source": [
        "result = 10\n",
        "tentimes(2)\n",
        "print(result)\n",
        "#함수 내에서 정의된 입력변수 혹은 출력변수는 실제 프로그램 밖에서 사용하는 변수에 영향을 미치지 않음."
      ],
      "metadata": {
        "colab": {
          "base_uri": "https://localhost:8080/"
        },
        "id": "OUcsVKu_6QZU",
        "outputId": "a5473ad5-fe0e-47e9-cc40-758ada00d6ce"
      },
      "execution_count": null,
      "outputs": [
        {
          "output_type": "stream",
          "name": "stdout",
          "text": [
            "10\n"
          ]
        }
      ]
    },
    {
      "cell_type": "markdown",
      "source": [
        "**연습문제**"
      ],
      "metadata": {
        "id": "SC-X4iCk7AvQ"
      }
    },
    {
      "cell_type": "markdown",
      "source": [
        "1. 어떤 수 n을 입력하면 1부터 n까지의 합을 계산하여 출력하는 함수를 만들어 보시오. \n",
        "\n",
        "    함수의 이름은 my_sum이고, 입력변수는 number, 출력변수는 result이다."
      ],
      "metadata": {
        "id": "nWyP4Bzl7CJz"
      }
    },
    {
      "cell_type": "code",
      "source": [
        "def my_sum(number):\n",
        "  result = 0\n",
        "  for i in range(number):\n",
        "    result =result + (i+1)\n",
        "  return result\n",
        "\n",
        "number = int(input(\"정수를 입력하세요.\"))\n",
        "my_sum(number)"
      ],
      "metadata": {
        "colab": {
          "base_uri": "https://localhost:8080/"
        },
        "id": "fIzfutPt7O5p",
        "outputId": "6be302ec-faf8-4aa9-a11a-b74613c950fc"
      },
      "execution_count": null,
      "outputs": [
        {
          "name": "stdout",
          "output_type": "stream",
          "text": [
            "정수를 입력하세요.10\n"
          ]
        },
        {
          "output_type": "execute_result",
          "data": {
            "text/plain": [
              "55"
            ]
          },
          "metadata": {},
          "execution_count": 27
        }
      ]
    },
    {
      "cell_type": "markdown",
      "source": [
        "2. 어떤 수 n을 입력하여 짝수면 True, 홀수면 False를 입력하는 함수를 만들어 보시오."
      ],
      "metadata": {
        "id": "QQ5I9xth8z8o"
      }
    },
    {
      "cell_type": "code",
      "source": [
        "def check_even(number):\n",
        "  if number==0:\n",
        "    result = \"입력된 숫자는 0입니다.\"\n",
        "  elif number%2==0:\n",
        "    result = \"입력된 숫자는 짝수입니다.\"\n",
        "  else:\n",
        "    result = \"입력된 숫자는 홀수입니다.\"\n",
        "  return result\n",
        "\n",
        "number = int(input(\"숫자를 입력하세요.\"))\n",
        "check_even(number)"
      ],
      "metadata": {
        "colab": {
          "base_uri": "https://localhost:8080/",
          "height": 53
        },
        "id": "LO3EDU8v89hu",
        "outputId": "2e37cfe4-2328-406e-9792-f832c5c9072b"
      },
      "execution_count": null,
      "outputs": [
        {
          "name": "stdout",
          "output_type": "stream",
          "text": [
            "숫자를 입력하세요.2\n"
          ]
        },
        {
          "output_type": "execute_result",
          "data": {
            "text/plain": [
              "'입력된 숫자는 짝수입니다.'"
            ],
            "application/vnd.google.colaboratory.intrinsic+json": {
              "type": "string"
            }
          },
          "metadata": {},
          "execution_count": 32
        }
      ]
    },
    {
      "cell_type": "markdown",
      "source": [
        "3. 윤년을 나타내는 수가 입력되면 윤년이라는 문자열을, 그렇지 않은 수가 입력되면 평년이라는 문자열을 반환하는 함수를 만든다."
      ],
      "metadata": {
        "id": "ha5kzIyf92l6"
      }
    },
    {
      "cell_type": "code",
      "source": [
        "윤년이뭔지씨발내가어케알아\n",
        "아진짜개열받네ㅆㅂ"
      ],
      "metadata": {
        "id": "NZ8cv0la_KJk"
      },
      "execution_count": null,
      "outputs": []
    },
    {
      "cell_type": "markdown",
      "source": [
        "4. 평년일 때 1, 3, 5, 7, 8, 10, 12월은 31일, 4, 6, 9, 11월은 30일, 2월은 28일이다. 월을 나타내는 숫자를 입력하면 그 달의 날짜 수를 반환하는 함수 days_project를 만든다."
      ],
      "metadata": {
        "id": "IsWRuoz9_O-V"
      }
    },
    {
      "cell_type": "code",
      "source": [
        "def days_project(month):\n",
        "  if month == 2:\n",
        "    days = \"해당 월의 날짜 수는 28일 입니다.\"\n",
        "  elif month == 1 or 3 or 5 or 7 or 8 or 10 or 12:\n",
        "    days = \"해당 월의 날짜 수는 31일 입니다.\"\n",
        "  elif month == 4 or 6 or 9 or 11:\n",
        "    days = \"해당 월의 날짜 수는 30일 입니다.\"\n",
        "  else:\n",
        "    days = \"존재하지 않는 달입니다.\"\n",
        "  return days\n",
        "\n",
        "month = int(input(\"월을 나타내는 숫자를 입력하세요.\"))\n",
        "days_project(month)"
      ],
      "metadata": {
        "colab": {
          "base_uri": "https://localhost:8080/",
          "height": 53
        },
        "id": "K5XFgyoF_c-o",
        "outputId": "336c5a78-c340-4a1e-c620-d60de4341927"
      },
      "execution_count": null,
      "outputs": [
        {
          "name": "stdout",
          "output_type": "stream",
          "text": [
            "월을 나타내는 숫자를 입력하세요.5\n"
          ]
        },
        {
          "output_type": "execute_result",
          "data": {
            "text/plain": [
              "'해당 월의 날짜 수는 31일 입니다.'"
            ],
            "application/vnd.google.colaboratory.intrinsic+json": {
              "type": "string"
            }
          },
          "metadata": {},
          "execution_count": 34
        }
      ]
    },
    {
      "cell_type": "markdown",
      "source": [
        "**1-6 함수를 사용한 프로그램 구조화**\n",
        "\n",
        "* 함수를 이용하여 프로그램을 구조화하면 유지 보수가 쉬워진다.\n",
        "\n",
        "* 함수를 이용하여 패턴화 시켜놓으면 특정 부분만 고치면 되기 때문에 더욱 편리해짐."
      ],
      "metadata": {
        "id": "HkZ4B64-B-pi"
      }
    },
    {
      "cell_type": "code",
      "source": [
        "def print_line():\n",
        "  print('='*50)\n",
        "\n",
        "def print_five():\n",
        "  for i in range(5):\n",
        "    print('hello world')\n",
        "\n",
        "def print_star():\n",
        "  print('*'*50)\n",
        "\n",
        "print_line()\n",
        "print_star()\n",
        "print_five()\n",
        "print_star()\n",
        "print_line()\n",
        "#함수를 미리 지정해놓으면 해당 코드를 하나하나 치지 않아도 빠르게 완성할 수 있다.\n",
        "#출력되는 문자나 기호 등을 바꾸고 싶을 때는 함수만 살짝 바꿔주면 되기 때문에 유지 보수가 간편하다."
      ],
      "metadata": {
        "colab": {
          "base_uri": "https://localhost:8080/"
        },
        "id": "tjTS_4N7ERzk",
        "outputId": "8501d3df-e9ee-43b8-a304-6abe6f3587a1"
      },
      "execution_count": null,
      "outputs": [
        {
          "output_type": "stream",
          "name": "stdout",
          "text": [
            "==================================================\n",
            "**************************************************\n",
            "hello world\n",
            "hello world\n",
            "hello world\n",
            "hello world\n",
            "hello world\n",
            "**************************************************\n",
            "==================================================\n"
          ]
        }
      ]
    },
    {
      "cell_type": "markdown",
      "source": [
        "**1-7 함수의 입출력값에는 제한이 없다**\n",
        "\n",
        "* 입력값의 형태를 강력하게 제한하지 않으면 파이썬은 유연하게 받아들임.\n",
        "\n",
        "* 하지만 이로 인해 오류가 발생할 수 있으므로 주의해야함."
      ],
      "metadata": {
        "id": "DIqg3ygXFZta"
      }
    },
    {
      "cell_type": "code",
      "source": [
        "def sum_list(a): #a의 형태를 지정하지 않음\n",
        "  result=0\n",
        "  for i in a:\n",
        "    result = result + i\n",
        "  return result\n",
        "\n",
        "#하지만 파이썬은 유연하게 이를 리스트로 받아들여 함수 실행\n",
        "\n",
        "a = [1,2,3,4,5]\n",
        "sum_list(a)\n",
        "\n",
        "b = 3 #따라서 입력변수로 정수값을 넣었을 때 오류가 발생함.\n",
        "sum_list(b)"
      ],
      "metadata": {
        "colab": {
          "base_uri": "https://localhost:8080/",
          "height": 337
        },
        "id": "romnwl6mGEMo",
        "outputId": "63a92f7a-6be0-4ee1-fab4-9160d55aebd9"
      },
      "execution_count": null,
      "outputs": [
        {
          "output_type": "error",
          "ename": "TypeError",
          "evalue": "ignored",
          "traceback": [
            "\u001b[0;31m---------------------------------------------------------------------------\u001b[0m",
            "\u001b[0;31mTypeError\u001b[0m                                 Traceback (most recent call last)",
            "\u001b[0;32m<ipython-input-37-ba2c5837f956>\u001b[0m in \u001b[0;36m<module>\u001b[0;34m()\u001b[0m\n\u001b[1;32m      9\u001b[0m \u001b[0;34m\u001b[0m\u001b[0m\n\u001b[1;32m     10\u001b[0m \u001b[0mb\u001b[0m \u001b[0;34m=\u001b[0m \u001b[0;36m3\u001b[0m\u001b[0;34m\u001b[0m\u001b[0;34m\u001b[0m\u001b[0m\n\u001b[0;32m---> 11\u001b[0;31m \u001b[0msum_list\u001b[0m\u001b[0;34m(\u001b[0m\u001b[0mb\u001b[0m\u001b[0;34m)\u001b[0m\u001b[0;34m\u001b[0m\u001b[0;34m\u001b[0m\u001b[0m\n\u001b[0m",
            "\u001b[0;32m<ipython-input-37-ba2c5837f956>\u001b[0m in \u001b[0;36msum_list\u001b[0;34m(a)\u001b[0m\n\u001b[1;32m      1\u001b[0m \u001b[0;32mdef\u001b[0m \u001b[0msum_list\u001b[0m\u001b[0;34m(\u001b[0m\u001b[0ma\u001b[0m\u001b[0;34m)\u001b[0m\u001b[0;34m:\u001b[0m\u001b[0;34m\u001b[0m\u001b[0;34m\u001b[0m\u001b[0m\n\u001b[1;32m      2\u001b[0m   \u001b[0mresult\u001b[0m\u001b[0;34m=\u001b[0m\u001b[0;36m0\u001b[0m\u001b[0;34m\u001b[0m\u001b[0;34m\u001b[0m\u001b[0m\n\u001b[0;32m----> 3\u001b[0;31m   \u001b[0;32mfor\u001b[0m \u001b[0mi\u001b[0m \u001b[0;32min\u001b[0m \u001b[0ma\u001b[0m\u001b[0;34m:\u001b[0m\u001b[0;34m\u001b[0m\u001b[0;34m\u001b[0m\u001b[0m\n\u001b[0m\u001b[1;32m      4\u001b[0m     \u001b[0mresult\u001b[0m \u001b[0;34m=\u001b[0m \u001b[0mresult\u001b[0m \u001b[0;34m+\u001b[0m \u001b[0mi\u001b[0m\u001b[0;34m\u001b[0m\u001b[0;34m\u001b[0m\u001b[0m\n\u001b[1;32m      5\u001b[0m   \u001b[0;32mreturn\u001b[0m \u001b[0mresult\u001b[0m\u001b[0;34m\u001b[0m\u001b[0;34m\u001b[0m\u001b[0m\n",
            "\u001b[0;31mTypeError\u001b[0m: 'int' object is not iterable"
          ]
        }
      ]
    },
    {
      "cell_type": "markdown",
      "source": [
        "**1-8 함수 안의 함수**"
      ],
      "metadata": {
        "id": "DBTSCOboGoWX"
      }
    },
    {
      "cell_type": "code",
      "source": [
        "def print_line():\n",
        "  print('='*50)\n",
        "\n",
        "def print_five():\n",
        "  for i in range(5):\n",
        "    print('hello world')\n",
        "\n",
        "def print_star():\n",
        "  print('*'*50)\n",
        "\n",
        "def main():\n",
        "  print_line()\n",
        "  print_star()\n",
        "  print_five()\n",
        "  print_star()\n",
        "  print_line()\n",
        "\n",
        "main()\n"
      ],
      "metadata": {
        "colab": {
          "base_uri": "https://localhost:8080/"
        },
        "id": "ts5vhYPwI2cn",
        "outputId": "1c7ac6d7-fa87-4a76-8a9b-8d706e685a14"
      },
      "execution_count": null,
      "outputs": [
        {
          "output_type": "stream",
          "name": "stdout",
          "text": [
            "==================================================\n",
            "**************************************************\n",
            "hello world\n",
            "hello world\n",
            "hello world\n",
            "hello world\n",
            "hello world\n",
            "**************************************************\n",
            "==================================================\n"
          ]
        }
      ]
    },
    {
      "cell_type": "code",
      "source": [
        "def square(x): #입력변수의 제곱값을 출력하는 함수 정의\n",
        "  return x**2  \n",
        "\n",
        "def my_sum(x):\n",
        "  result = 0\n",
        "  for i in range(x+1):\n",
        "    result = result + square(i) #1부터 x까지 제곱 수들을 더하는 코드 작성\n",
        "  return result\n",
        "\n",
        "a = int(input(\"숫자를 입력하시오.\"))\n",
        "print(my_sum(a)) "
      ],
      "metadata": {
        "colab": {
          "base_uri": "https://localhost:8080/"
        },
        "id": "QZ4k5E-mI9Gk",
        "outputId": "560128d0-2a79-4321-b928-ad5a9bf5841d"
      },
      "execution_count": null,
      "outputs": [
        {
          "output_type": "stream",
          "name": "stdout",
          "text": [
            "숫자를 입력하시오.5\n",
            "55\n"
          ]
        }
      ]
    },
    {
      "cell_type": "markdown",
      "source": [
        "**연습문제**"
      ],
      "metadata": {
        "id": "JR_lh0wPKErR"
      }
    },
    {
      "cell_type": "markdown",
      "source": [
        "1. 다음 함수들을 이용하여 짝수만 더하여 출력하는 함수를 계산해 보시오.\n",
        "\n",
        "이용할 함수:\n",
        "\n",
        "        check_even : 주어진 수가 짝수일 때 True, 아닐 때 False를 반환하는 함수\n",
        "        my_even_sum : 1부터 주어진 number까지 짝수만 더하여 출력하는 함수"
      ],
      "metadata": {
        "id": "OzKjmiUbKGhz"
      }
    },
    {
      "cell_type": "code",
      "source": [
        "def check_even(x):\n",
        "  if x % 2 == 0:\n",
        "    state = True\n",
        "  elif x % 2 == 1:\n",
        "    state = False\n",
        "  return state\n",
        "\n",
        "def my_even_sum(number):\n",
        "  result = 0\n",
        "  for i in range(number):\n",
        "      if check_even(i+1)==True:\n",
        "        result = result + (i+1)\n",
        "      else:\n",
        "        result = result\n",
        "  return result\n",
        "\n",
        "number = int(input(\"숫자를 입력하세요.\"))\n",
        "my_even_sum(number)"
      ],
      "metadata": {
        "colab": {
          "base_uri": "https://localhost:8080/"
        },
        "id": "pHBJx_8oKe2M",
        "outputId": "e3e4df02-b506-4d95-963b-6259a63305fb"
      },
      "execution_count": null,
      "outputs": [
        {
          "name": "stdout",
          "output_type": "stream",
          "text": [
            "숫자를 입력하세요.10\n"
          ]
        },
        {
          "output_type": "execute_result",
          "data": {
            "text/plain": [
              "30"
            ]
          },
          "metadata": {},
          "execution_count": 52
        }
      ]
    },
    {
      "cell_type": "markdown",
      "source": [
        "**1-9 함수의 결과값을 입력값으로 사용**"
      ],
      "metadata": {
        "id": "gfotGv0XONa3"
      }
    },
    {
      "cell_type": "code",
      "source": [
        "def f(x):\n",
        "  return x**2\n",
        "\n",
        "def g(y):\n",
        "  return y+1\n",
        "\n",
        "print(g(f(3))) #f(3)=9를 g(y)에 대입 > g(9)=10"
      ],
      "metadata": {
        "colab": {
          "base_uri": "https://localhost:8080/"
        },
        "id": "6UwEhdc5OY_2",
        "outputId": "60a231b6-69b5-4ca3-b2c9-3bb6fddef09c"
      },
      "execution_count": null,
      "outputs": [
        {
          "output_type": "stream",
          "name": "stdout",
          "text": [
            "10\n"
          ]
        }
      ]
    },
    {
      "cell_type": "markdown",
      "source": [
        "**함수가 필요한 이유**\n",
        "\n",
        "* 프로그램이 복잡해지면서 다양한 구문들이 등장 > 이러한 구문들은 프로그램의 다양한 부분에서 재활용됨\n",
        "\n",
        "* 자주 사용하는 구문들은 함수로 묶어 그 이름만 불러 재활용 > 모듈화 가능, 유지보수 편리"
      ],
      "metadata": {
        "id": "KzVVr26XOwdd"
      }
    },
    {
      "cell_type": "markdown",
      "source": [
        "##2. 리스트##"
      ],
      "metadata": {
        "id": "mcn51QOzPOZl"
      }
    },
    {
      "cell_type": "markdown",
      "source": [
        "**2-1 리스트의 성질**"
      ],
      "metadata": {
        "id": "nC-UfwTDa_Kz"
      }
    },
    {
      "cell_type": "code",
      "source": [
        "[1,2,3] #리스트 선언 방법"
      ],
      "metadata": {
        "colab": {
          "base_uri": "https://localhost:8080/"
        },
        "id": "LaGjh-93a71U",
        "outputId": "876df9d2-8539-40d5-873e-a6ef0d8f5546"
      },
      "execution_count": null,
      "outputs": [
        {
          "output_type": "execute_result",
          "data": {
            "text/plain": [
              "[1, 2, 3]"
            ]
          },
          "metadata": {},
          "execution_count": 3
        }
      ]
    },
    {
      "cell_type": "code",
      "source": [
        "x = [1,2,3,4,5] #리스트를 변수에 저장하여 출력할 수 있음\n",
        "print(x)"
      ],
      "metadata": {
        "colab": {
          "base_uri": "https://localhost:8080/"
        },
        "id": "B287CfZxbEYX",
        "outputId": "aeddc961-88d5-4f48-dd0b-d02310094835"
      },
      "execution_count": null,
      "outputs": [
        {
          "output_type": "stream",
          "name": "stdout",
          "text": [
            "[1, 2, 3, 4, 5]\n"
          ]
        }
      ]
    },
    {
      "cell_type": "code",
      "source": [
        "albist = [\"hello\", 2.0, 5, [10,20]] \n",
        "print(albist)\n",
        "#리스트 안에는 문자, 정수, 리스트 등을 타입에 제약 없이 저장 가능함"
      ],
      "metadata": {
        "colab": {
          "base_uri": "https://localhost:8080/"
        },
        "id": "yNmKzFwvbNe5",
        "outputId": "190281e0-a491-4edd-c362-b9d004e59eec"
      },
      "execution_count": null,
      "outputs": [
        {
          "output_type": "stream",
          "name": "stdout",
          "text": [
            "['hello', 2.0, 5, [10, 20]]\n"
          ]
        }
      ]
    },
    {
      "cell_type": "markdown",
      "source": [
        "**2-2 리스트 인덱싱**\n",
        "\n",
        "* 인덱스 : 리스트에 저장된 개별 값의 구조\n",
        "* 리스트의 인덱스 값은 0부터 시작\n",
        "* 리스트 n번째 값 = 리스트[n-1]"
      ],
      "metadata": {
        "id": "s3iObvhUb3O0"
      }
    },
    {
      "cell_type": "code",
      "source": [
        "a = [1,2,3,4,5,6]"
      ],
      "metadata": {
        "id": "kMQ83KTScF5c"
      },
      "execution_count": null,
      "outputs": []
    },
    {
      "cell_type": "code",
      "source": [
        "a[0]"
      ],
      "metadata": {
        "colab": {
          "base_uri": "https://localhost:8080/"
        },
        "id": "Zywclgt4cKGS",
        "outputId": "41825de0-742e-4c99-bafe-bddf767b4dc7"
      },
      "execution_count": null,
      "outputs": [
        {
          "output_type": "execute_result",
          "data": {
            "text/plain": [
              "0"
            ]
          },
          "metadata": {},
          "execution_count": 9
        }
      ]
    },
    {
      "cell_type": "code",
      "source": [
        "a[3]"
      ],
      "metadata": {
        "colab": {
          "base_uri": "https://localhost:8080/"
        },
        "id": "I0YtX0rYcNaD",
        "outputId": "81c37b22-61bc-4df8-ba08-89df2bc0e3c5"
      },
      "execution_count": null,
      "outputs": [
        {
          "output_type": "execute_result",
          "data": {
            "text/plain": [
              "4"
            ]
          },
          "metadata": {},
          "execution_count": 12
        }
      ]
    },
    {
      "cell_type": "markdown",
      "source": [
        "**2-3 리스트 슬라이싱**\n",
        "* x[a:b] = [x[a], x[a+1], …, x[b-1]]\n",
        "* x[:a] = [x[0], x[1], …, x[a-1]]\n",
        "* x[a:] = [x[a]. x[a+1], …]"
      ],
      "metadata": {
        "id": "ETK8FxTccY2H"
      }
    },
    {
      "cell_type": "code",
      "source": [
        "a = [1,2,3,4,5,6]"
      ],
      "metadata": {
        "id": "fSijaVTrcbU0"
      },
      "execution_count": null,
      "outputs": []
    },
    {
      "cell_type": "code",
      "source": [
        "print(a[1:3])"
      ],
      "metadata": {
        "colab": {
          "base_uri": "https://localhost:8080/"
        },
        "id": "oLtx92LWcelJ",
        "outputId": "dd19fb12-bdbf-40c1-e2ac-b2e30c9d5fdd"
      },
      "execution_count": null,
      "outputs": [
        {
          "output_type": "stream",
          "name": "stdout",
          "text": [
            "[2, 3]\n"
          ]
        }
      ]
    },
    {
      "cell_type": "code",
      "source": [
        "print(a[:2])"
      ],
      "metadata": {
        "colab": {
          "base_uri": "https://localhost:8080/"
        },
        "id": "NXOBWUcOdLKq",
        "outputId": "8791cd4b-b68f-4c1c-8c61-682651b1d12f"
      },
      "execution_count": null,
      "outputs": [
        {
          "output_type": "stream",
          "name": "stdout",
          "text": [
            "[1, 2]\n"
          ]
        }
      ]
    },
    {
      "cell_type": "code",
      "source": [
        "print(a[2:])"
      ],
      "metadata": {
        "id": "bIN0179YdO4C",
        "outputId": "3e430dea-e33a-45fd-fe40-3c1608317d6d",
        "colab": {
          "base_uri": "https://localhost:8080/"
        }
      },
      "execution_count": null,
      "outputs": [
        {
          "output_type": "stream",
          "name": "stdout",
          "text": [
            "[3, 4, 5, 6]\n"
          ]
        }
      ]
    },
    {
      "cell_type": "markdown",
      "source": [
        "**2-4 리스트 값 변경**\n",
        "\n",
        "* 리스트명[인덱스] = 바꿀값"
      ],
      "metadata": {
        "id": "khjEWEQXOwQh"
      }
    },
    {
      "cell_type": "code",
      "source": [
        "x = list(range(1,10,2)) #1부터 10까지 홀수만\n",
        "x"
      ],
      "metadata": {
        "colab": {
          "base_uri": "https://localhost:8080/"
        },
        "id": "R0qEtJ3QO80g",
        "outputId": "3f7ca0ea-2c22-44f2-90ad-5cf9bcf2e1ea"
      },
      "execution_count": null,
      "outputs": [
        {
          "output_type": "execute_result",
          "data": {
            "text/plain": [
              "[1, 3, 5, 7, 9]"
            ]
          },
          "metadata": {},
          "execution_count": 4
        }
      ]
    },
    {
      "cell_type": "code",
      "source": [
        "x[0] = 11\n",
        "x"
      ],
      "metadata": {
        "colab": {
          "base_uri": "https://localhost:8080/"
        },
        "id": "j-wHBkGPPYEc",
        "outputId": "4ca42d1c-f0dc-44f9-b2a6-5f5e2785a851"
      },
      "execution_count": null,
      "outputs": [
        {
          "output_type": "execute_result",
          "data": {
            "text/plain": [
              "[11, 3, 5, 7, 9]"
            ]
          },
          "metadata": {},
          "execution_count": 5
        }
      ]
    },
    {
      "cell_type": "code",
      "source": [
        "x[1] = 12\n",
        "x"
      ],
      "metadata": {
        "colab": {
          "base_uri": "https://localhost:8080/"
        },
        "id": "0WhfGwuQP1e4",
        "outputId": "6bc4cdeb-610f-4033-c1f2-3650b2067289"
      },
      "execution_count": null,
      "outputs": [
        {
          "output_type": "execute_result",
          "data": {
            "text/plain": [
              "[11, 12, 5, 7, 9]"
            ]
          },
          "metadata": {},
          "execution_count": 6
        }
      ]
    },
    {
      "cell_type": "markdown",
      "source": [
        "**2-5 리스트에 값 추가하기**\n",
        "\n",
        "* 리스트명.append(추가할 값)"
      ],
      "metadata": {
        "id": "QE7iOYAOP5cD"
      }
    },
    {
      "cell_type": "code",
      "source": [
        "x.append(1)\n",
        "x\n",
        "#추가한 값은 가장 끝에 포함됨"
      ],
      "metadata": {
        "colab": {
          "base_uri": "https://localhost:8080/"
        },
        "id": "DAkik72TQAq8",
        "outputId": "748459ad-21f7-45db-8629-417829ee69a4"
      },
      "execution_count": null,
      "outputs": [
        {
          "output_type": "execute_result",
          "data": {
            "text/plain": [
              "[11, 12, 5, 7, 9, 1]"
            ]
          },
          "metadata": {},
          "execution_count": 7
        }
      ]
    },
    {
      "cell_type": "code",
      "source": [
        "x.append(3)\n",
        "x"
      ],
      "metadata": {
        "colab": {
          "base_uri": "https://localhost:8080/"
        },
        "id": "5MS2VbWqQJMN",
        "outputId": "e79cfd42-d812-438a-8aab-59f792760d58"
      },
      "execution_count": null,
      "outputs": [
        {
          "output_type": "execute_result",
          "data": {
            "text/plain": [
              "[11, 12, 5, 7, 9, 1, 3]"
            ]
          },
          "metadata": {},
          "execution_count": 8
        }
      ]
    },
    {
      "cell_type": "markdown",
      "source": [
        "**2-6 리스트에서 값 지우기**\n",
        "\n",
        "* del 리스트명[인덱스]"
      ],
      "metadata": {
        "id": "HtOkY_MpQPNN"
      }
    },
    {
      "cell_type": "code",
      "source": [
        "del x[0]\n",
        "x"
      ],
      "metadata": {
        "colab": {
          "base_uri": "https://localhost:8080/"
        },
        "id": "rYP9NEPDQUqa",
        "outputId": "e62d692f-f31c-45ab-c35c-ee3eb9e8a946"
      },
      "execution_count": null,
      "outputs": [
        {
          "output_type": "execute_result",
          "data": {
            "text/plain": [
              "[12, 5, 7, 9, 1, 3]"
            ]
          },
          "metadata": {},
          "execution_count": 9
        }
      ]
    },
    {
      "cell_type": "code",
      "source": [
        "del x[0]\n",
        "x"
      ],
      "metadata": {
        "colab": {
          "base_uri": "https://localhost:8080/"
        },
        "id": "u_NbrwkCQb6N",
        "outputId": "bf392a15-021d-4185-92b8-dc872ddd3b2b"
      },
      "execution_count": null,
      "outputs": [
        {
          "output_type": "execute_result",
          "data": {
            "text/plain": [
              "[5, 7, 9, 1, 3]"
            ]
          },
          "metadata": {},
          "execution_count": 10
        }
      ]
    },
    {
      "cell_type": "code",
      "source": [
        "del x[3]\n",
        "x"
      ],
      "metadata": {
        "colab": {
          "base_uri": "https://localhost:8080/"
        },
        "id": "ubbbqP4-Qc_j",
        "outputId": "3dfe998f-3d1a-42a8-910a-ef907107095e"
      },
      "execution_count": null,
      "outputs": [
        {
          "output_type": "execute_result",
          "data": {
            "text/plain": [
              "[5, 7, 9, 3]"
            ]
          },
          "metadata": {},
          "execution_count": 11
        }
      ]
    },
    {
      "cell_type": "markdown",
      "source": [
        "**2-7 복수할당**"
      ],
      "metadata": {
        "id": "-hUQNQrVRUWF"
      }
    },
    {
      "cell_type": "code",
      "source": [
        "x = [1,2,3]\n",
        "a,b,c = x"
      ],
      "metadata": {
        "id": "AbgnSvSPRSfX"
      },
      "execution_count": null,
      "outputs": []
    },
    {
      "cell_type": "code",
      "source": [
        "print(a,b,c)"
      ],
      "metadata": {
        "colab": {
          "base_uri": "https://localhost:8080/"
        },
        "id": "3TYssjzMRaC0",
        "outputId": "73d8c540-1bc3-4024-d921-d2ecdf6a328c"
      },
      "execution_count": null,
      "outputs": [
        {
          "output_type": "stream",
          "name": "stdout",
          "text": [
            "1 2 3\n"
          ]
        }
      ]
    },
    {
      "cell_type": "markdown",
      "source": [
        "**2-8 리스트 메소드**\n",
        "\n",
        "* 리스트명.insert(n,x) : n번째 인데스에 x 추가\n",
        "* 리스트명.count(x) : 리스트 안의 x 개수\n",
        "* 리스트명.sort() : #리스트 안의 숫자 오름차순으로 정렬"
      ],
      "metadata": {
        "id": "FJ_SVLc1Ry83"
      }
    },
    {
      "cell_type": "code",
      "source": [
        "#insert\n",
        "mylist = [5,27,3,12]\n",
        "mylist.insert(1,12) #1번 인덱스에 12 추가\n",
        "mylist.insert(3,50) #3번 인덱스에 50 추가\n",
        "print(mylist)\n",
        "\n",
        "#count\n",
        "print(mylist.count(12)) #리스트 내의 12 개수\n",
        "\n",
        "#sort\n",
        "mylist.sort() #리스트 안의 숫자 오름차순으로 정렬\n",
        "print(mylist)\n"
      ],
      "metadata": {
        "colab": {
          "base_uri": "https://localhost:8080/"
        },
        "id": "SEFyGV8pTRmC",
        "outputId": "4333cae7-e5ed-4926-98b6-967c9b32e765"
      },
      "execution_count": null,
      "outputs": [
        {
          "output_type": "stream",
          "name": "stdout",
          "text": [
            "[5, 12, 27, 50, 3, 12]\n",
            "2\n",
            "[3, 5, 12, 12, 27, 50]\n"
          ]
        }
      ]
    },
    {
      "cell_type": "markdown",
      "source": [
        "**연습문제**"
      ],
      "metadata": {
        "id": "0Hqxd12IVrmD"
      }
    },
    {
      "cell_type": "markdown",
      "source": [
        "1. 어떤 학생이 5개의 과목을 수강하여 다음과 같은 성적을 받았다. (4점만점):\n",
        "\n",
        "    \n",
        "    X = 4,3,2,3,4\n",
        "\n",
        "이 5개 과목의 이수 학점은 각각 다음과 같다.:\n",
        "\n",
        "\n",
        "    W = 3,3,1,2,2\n",
        "이 때 평균 평점은 성적의 단순 평균이 아니라 이수 학점을 가중치로 써서 다음과 같이 가중 평균을 구해야 한다.:\n",
        "\n",
        "    가중합(성적과 이수 학점을 곱한 값의 총합)/이수학점의총합\n",
        "i번째 과목의 성적을 X(i)라고 하고, i번째 과목의 이수 학점을 W(i)라고 하면 가중 평균은 다음과 같은 수식으로 나타낼 수 있다.:\n",
        "\n",
        "    W(1)X(1) + W(2)X(2) + … + W(i)X(i) + … + W(n)X(n) / W(1) + W(2) + … + W(i) + … + W(n)\n",
        "이 학생의 평균 평점을 구하는 코드를 작성한다."
      ],
      "metadata": {
        "id": "LkiwNwXAVtDL"
      }
    },
    {
      "cell_type": "code",
      "source": [
        "X = [4,3,2,3,4]\n",
        "W = [3,3,1,2,2]\n",
        "numerator = 0\n",
        "denominator = 0\n",
        "\n",
        "for i in range(5):\n",
        "   numerator = numerator + X[i]*W[i]\n",
        "   denominator = denominator + W[i]\n",
        "\n",
        "weightedSum = numerator/denominator\n",
        "print(\"평균 학점은\",weightedSum,\"입니다.\")"
      ],
      "metadata": {
        "id": "ribGY9I-QyIa"
      },
      "execution_count": null,
      "outputs": []
    },
    {
      "cell_type": "markdown",
      "source": [
        "2. 자료의 분산은 각 자료 값에서 자료의 평균값을 뺀 나머지를 제곱한 값의 평균을 말한다.\n",
        "\n",
        "예를 들어 자료가 다음과 같다고 하자.:\n",
        "\n",
        "    X = 6,5,4,7,3,6\n",
        "이 자료의 평균은 다음과 같다.:\n",
        "\n",
        "    (6+5+4+7+3+6)/6 = 5\n",
        "각 자료 값에서 자료의 평균값을 뺀 나머지를 제곱한 값을 모두 더한 값의 평균은 다음과 같이 구한다.:\n",
        "\n",
        "    { (6-5)^2 + (5-5)^2 + (4-5)^2 + (7-5)^2 + (3-5)^2 + (5-5)^2 }/6\n",
        "이 자료의 분산을 구하는 코드를 작성한다."
      ],
      "metadata": {
        "id": "_r02ntwLabuf"
      }
    }
  ]
}