{
  "nbformat": 4,
  "nbformat_minor": 0,
  "metadata": {
    "colab": {
      "provenance": [],
      "collapsed_sections": [
        "S7VgvtzlggGM",
        "XhxFKbuOlhMQ"
      ]
    },
    "kernelspec": {
      "name": "python3",
      "display_name": "Python 3"
    },
    "language_info": {
      "name": "python"
    }
  },
  "cells": [
    {
      "cell_type": "markdown",
      "source": [
        "**데이터처리1_파이썬기본문법4**\n",
        "\n",
        "자료구조: 딕셔너리\n",
        "\n",
        "클래스와 객체지향프로그래밍"
      ],
      "metadata": {
        "id": "dfzGqoEagZtc"
      }
    },
    {
      "cell_type": "markdown",
      "source": [
        "##1. 자료구조: 딕셔너리##\n",
        "\n",
        "* 딕셔러니 : key-value의 쌍으로 구성\n",
        "* key : 유일한 값(숫자, 문자 등 어떤 값이든 가능)\n",
        "* value : key에 대응하는 값"
      ],
      "metadata": {
        "id": "S7VgvtzlggGM"
      }
    },
    {
      "cell_type": "markdown",
      "source": [
        "**1-1 딕셔너리의 형태**"
      ],
      "metadata": {
        "id": "38pueSmEhgjM"
      }
    },
    {
      "cell_type": "code",
      "source": [
        "x = {\"a\":10, \"b\":20} #key에 value 대응\n",
        "print(x)"
      ],
      "metadata": {
        "colab": {
          "base_uri": "https://localhost:8080/"
        },
        "id": "C75EO4shheOV",
        "outputId": "56f27474-42a9-44d5-80fe-0b08069a1b1e"
      },
      "execution_count": null,
      "outputs": [
        {
          "output_type": "stream",
          "name": "stdout",
          "text": [
            "{'a': 10, 'b': 20}\n"
          ]
        }
      ]
    },
    {
      "cell_type": "markdown",
      "source": [
        "**1-2 key 값으로 value값 호출**"
      ],
      "metadata": {
        "id": "nqMAKIHGhwqf"
      }
    },
    {
      "cell_type": "code",
      "source": [
        "#리스트의 사례\n",
        "a = [1,2,3,4]\n",
        "print(a[0]) #리스트의 첫번째 값 출력\n",
        "print(a[1]) #리스트의 두번째 값 출력"
      ],
      "metadata": {
        "colab": {
          "base_uri": "https://localhost:8080/"
        },
        "id": "oUCoun0Ph1Ek",
        "outputId": "5c458b4e-4423-451f-9615-112eacf25f8d"
      },
      "execution_count": null,
      "outputs": [
        {
          "output_type": "stream",
          "name": "stdout",
          "text": [
            "1\n",
            "2\n"
          ]
        }
      ]
    },
    {
      "cell_type": "code",
      "source": [
        "#딕셔너리 : 리스트의 인덱스 대신 key값을 넣어서 대응되는 값을 출력\n",
        "#딕셔너리는 리스트가 확장된 형태\n",
        "print(x['a'])\n",
        "print(x['b'])"
      ],
      "metadata": {
        "id": "aMXo5GoEiOfB"
      },
      "execution_count": null,
      "outputs": []
    },
    {
      "cell_type": "markdown",
      "source": [
        "**1-3 딕셔너리의 값의 추가, 갱신, 삭제**\n",
        "\n",
        "* 딕셔너리 값 추가 : 딕셔너리명['key'] = value\n",
        "* 딕셔너리 값 갱신 : 딕셔너리명['key'] = newvalue\n",
        "* 딕셔너리 값 삭제 : del 딕셔너리명['key']"
      ],
      "metadata": {
        "id": "d7OWk--hihvf"
      }
    },
    {
      "cell_type": "code",
      "source": [
        "#새로운 키-벨류 쌍 추가\n",
        "x[\"c\"] = 30\n",
        "print(x)"
      ],
      "metadata": {
        "colab": {
          "base_uri": "https://localhost:8080/"
        },
        "id": "l3B_w3ixipvY",
        "outputId": "7964d5e9-69df-4d24-af91-577b2d6fb522"
      },
      "execution_count": null,
      "outputs": [
        {
          "output_type": "stream",
          "name": "stdout",
          "text": [
            "{'a': 10, 'b': 20, 'c': 30}\n"
          ]
        }
      ]
    },
    {
      "cell_type": "code",
      "source": [
        "#기존의 키-벨류 쌍 변경\n",
        "x['a'] = 15\n",
        "print(x)"
      ],
      "metadata": {
        "colab": {
          "base_uri": "https://localhost:8080/"
        },
        "id": "uq2YYKgQixvU",
        "outputId": "b073e73d-7a2b-4c73-c6c3-23d934a6ae86"
      },
      "execution_count": null,
      "outputs": [
        {
          "output_type": "stream",
          "name": "stdout",
          "text": [
            "{'a': 15, 'b': 20, 'c': 30}\n"
          ]
        }
      ]
    },
    {
      "cell_type": "code",
      "source": [
        "#키-벨류 쌍 삭제\n",
        "del x['c']\n",
        "print(x)"
      ],
      "metadata": {
        "colab": {
          "base_uri": "https://localhost:8080/"
        },
        "id": "Bqsz1Bnfi6aA",
        "outputId": "acc06d2a-f7ed-4c7d-a8f5-745e919cb8ac"
      },
      "execution_count": null,
      "outputs": [
        {
          "output_type": "stream",
          "name": "stdout",
          "text": [
            "{'a': 15, 'b': 20}\n"
          ]
        }
      ]
    },
    {
      "cell_type": "markdown",
      "source": [
        "**1-4 키가 있는지 확인**\n",
        "\n",
        "* 'key' in 딕셔너리명"
      ],
      "metadata": {
        "id": "Oz5o1ZyRjUKV"
      }
    },
    {
      "cell_type": "code",
      "source": [
        "'a' in x \n",
        "#key가 있는 지를 확인하고 불리언 값을 출력"
      ],
      "metadata": {
        "colab": {
          "base_uri": "https://localhost:8080/"
        },
        "id": "Y0GHLAsBjZLz",
        "outputId": "41c38964-f0c7-40fb-9828-9646bea13934"
      },
      "execution_count": null,
      "outputs": [
        {
          "output_type": "execute_result",
          "data": {
            "text/plain": [
              "True"
            ]
          },
          "metadata": {},
          "execution_count": 8
        }
      ]
    },
    {
      "cell_type": "code",
      "source": [
        "if 'a' in x:\n",
        "  print(x['a'])"
      ],
      "metadata": {
        "colab": {
          "base_uri": "https://localhost:8080/"
        },
        "id": "VDMoF4WLjh1U",
        "outputId": "c52414b4-03b9-4a61-8094-43a23fa83eeb"
      },
      "execution_count": null,
      "outputs": [
        {
          "output_type": "stream",
          "name": "stdout",
          "text": [
            "15\n"
          ]
        }
      ]
    },
    {
      "cell_type": "markdown",
      "source": [
        "**1-5 딕셔너리와 반복**"
      ],
      "metadata": {
        "id": "5OvmSMiajs6x"
      }
    },
    {
      "cell_type": "code",
      "source": [
        "#리스트일 때\n",
        "for i in a:\n",
        "  print(i)"
      ],
      "metadata": {
        "colab": {
          "base_uri": "https://localhost:8080/"
        },
        "id": "IR77Hfy3jv0p",
        "outputId": "fa5724c5-c78a-4eeb-eae5-5110211e10dd"
      },
      "execution_count": null,
      "outputs": [
        {
          "output_type": "stream",
          "name": "stdout",
          "text": [
            "1\n",
            "2\n",
            "3\n",
            "4\n"
          ]
        }
      ]
    },
    {
      "cell_type": "code",
      "source": [
        "#딕셔너리일 때 : 딕셔너리 내부의 키값을 순환\n",
        "for i in x:\n",
        "  print(i, x[i])"
      ],
      "metadata": {
        "colab": {
          "base_uri": "https://localhost:8080/"
        },
        "id": "ZMzWWcvdj5Bk",
        "outputId": "2795e735-1a9f-4ff6-ac24-bf6bebb03b0f"
      },
      "execution_count": null,
      "outputs": [
        {
          "output_type": "stream",
          "name": "stdout",
          "text": [
            "a 15\n",
            "b 20\n"
          ]
        }
      ]
    },
    {
      "cell_type": "code",
      "source": [
        "for i in x.keys():\n",
        "  print(i, x[i])"
      ],
      "metadata": {
        "colab": {
          "base_uri": "https://localhost:8080/"
        },
        "id": "cIR7FLkMkApx",
        "outputId": "07ef86ca-b8d5-46da-bd8c-1e294d0d1bce"
      },
      "execution_count": null,
      "outputs": [
        {
          "output_type": "stream",
          "name": "stdout",
          "text": [
            "a 15\n",
            "b 20\n"
          ]
        }
      ]
    },
    {
      "cell_type": "markdown",
      "source": [
        "** 연습문제 **"
      ],
      "metadata": {
        "id": "r5I1ei7akJaJ"
      }
    },
    {
      "cell_type": "markdown",
      "source": [
        "1. 딕셔너리에 저장된 자료가 다음과 같다.:\n",
        "\n",
        "\n",
        "    data = {\n",
        "      \"철수\" : 98,\n",
        "      \"영희\" : 80,\n",
        "      \"순이\" : 100,\n",
        "      \"돌이\" : 70,\n",
        "      }\n",
        "for문을 사용하여 다음과 같이 출력하는 코드를 만들어라.:\n",
        "\n",
        "    철수          98\n",
        "    영희          80\n",
        "    순이         100\n",
        "    돌이          70\n",
        "    ================\n",
        "    평균          87"
      ],
      "metadata": {
        "id": "AmzVn2JqkK9U"
      }
    },
    {
      "cell_type": "markdown",
      "source": [
        "##2. 클래스와 객체지향 프로그래밍##\n",
        "\n",
        "* 클래스 : 겍체의 설계도\n",
        "* 객체 : 설계도에 따라 생성되어 프로그램에서 실제로 다루는 대상\n",
        "        값, 행동(메소드)로 구성\n",
        "* 객체지향 프로그래밍 : 객체의 정의를 위주로 프로그래밍을 진행"
      ],
      "metadata": {
        "id": "XhxFKbuOlhMQ"
      }
    },
    {
      "cell_type": "markdown",
      "source": [
        "**2-1 클래스의 정의**"
      ],
      "metadata": {
        "id": "kkiV3rI8meHK"
      }
    },
    {
      "cell_type": "code",
      "source": [
        "class Rectangle():\n",
        "\n",
        "  #__init__ : 클래스에서 객체가 생성될 때 하는 행위를 명시\n",
        "  def __init__(self,x,y):\n",
        "    self.h = x #Rectangle 객체가 가진 변수 h\n",
        "    self.v = y #Rectangle 객체가 가진 변수 v\n",
        "  \n",
        "  #클래스가 생성된 뒤 수행할 수 있는 행위\n",
        "  def area(self):\n",
        "    return self.h * self.v"
      ],
      "metadata": {
        "id": "Ebj24660mhr8"
      },
      "execution_count": null,
      "outputs": []
    },
    {
      "cell_type": "code",
      "source": [
        "#Rectangle 클래스로부터 a라는 객체를 만든다\n",
        "a = Rectangle(50,50)\n",
        "a.area()"
      ],
      "metadata": {
        "colab": {
          "base_uri": "https://localhost:8080/"
        },
        "id": "9PrngUABniqc",
        "outputId": "72d16f03-f7e4-4ba0-9931-05f50ed10d76"
      },
      "execution_count": null,
      "outputs": [
        {
          "output_type": "execute_result",
          "data": {
            "text/plain": [
              "2500"
            ]
          },
          "metadata": {},
          "execution_count": 15
        }
      ]
    },
    {
      "cell_type": "code",
      "source": [
        "b = Rectangle(10,3)\n",
        "b.area()\n",
        "#클래스를 이용하여 같은 구조를 가지면서 서로 다른 정체를 갖는 객체 생성 가능"
      ],
      "metadata": {
        "colab": {
          "base_uri": "https://localhost:8080/"
        },
        "id": "LQe0jQ93n1Xs",
        "outputId": "4b1e2577-9d96-4198-cbc1-6c8a958769bf"
      },
      "execution_count": null,
      "outputs": [
        {
          "output_type": "execute_result",
          "data": {
            "text/plain": [
              "30"
            ]
          },
          "metadata": {},
          "execution_count": 16
        }
      ]
    },
    {
      "cell_type": "code",
      "source": [
        "print(a.h, a.v)\n",
        "print(a.area())\n",
        "print(b.h, b.v)\n",
        "print(b.area())"
      ],
      "metadata": {
        "colab": {
          "base_uri": "https://localhost:8080/"
        },
        "id": "6wPSZ1HYoRAk",
        "outputId": "a7a57220-7bad-45c8-af22-a1d4ea34867e"
      },
      "execution_count": null,
      "outputs": [
        {
          "output_type": "stream",
          "name": "stdout",
          "text": [
            "50 50\n",
            "2500\n",
            "10 3\n",
            "30\n"
          ]
        }
      ]
    },
    {
      "cell_type": "markdown",
      "source": [
        "**연습문제**"
      ],
      "metadata": {
        "id": "RCYlxLPLoaJl"
      }
    },
    {
      "cell_type": "markdown",
      "source": [
        "1. 삼각형의 넓이를 계산하기 위한 클래스를 만든다. 이 클래스의 속성은 다음과 같다.\n",
        "\n",
        "    * 밑면의 길이 b와 높이 h\n",
        "    * 삼각형의 넓이를 계산하는 메소드 area"
      ],
      "metadata": {
        "id": "f2vgU_mQod54"
      }
    },
    {
      "cell_type": "code",
      "source": [
        "class Triangle():\n",
        "\n",
        "  def __init__(self,x,y):\n",
        "    self.b = x\n",
        "    self.h = y\n",
        "  \n",
        "  def triangleArea(self):\n",
        "    return (self.b * self.h)/2\n",
        "\n",
        "  r = Triangle(10,20)\n",
        "  a = r.triangleArea()\n",
        "  print(a)"
      ],
      "metadata": {
        "colab": {
          "base_uri": "https://localhost:8080/"
        },
        "id": "F_sOt5vzpBbk",
        "outputId": "d8604fee-ecf4-4966-d8ef-f26c4c058f12"
      },
      "execution_count": null,
      "outputs": [
        {
          "output_type": "stream",
          "name": "stdout",
          "text": [
            "100.0\n"
          ]
        }
      ]
    },
    {
      "cell_type": "markdown",
      "source": [
        "2. 사각 기둥의 부피를 계산하기 위한 클래스를 만든다. 이 클래스의 속성은 다음과 같다.\n",
        "\n",
        "    * 밑면의 가로 길이 a, 밑면의 세로 길이 b, 높이 h\n",
        "    * 부피를 계산하는 메소드 volume\n",
        "    * 겉넓이를 계산하는 메소드 surface"
      ],
      "metadata": {
        "id": "n6r5fypHotpY"
      }
    },
    {
      "cell_type": "code",
      "source": [
        "class SquareColumn():\n",
        "\n",
        "  def __init__(self,x,y,z):\n",
        "    self.a = x\n",
        "    self.b = y\n",
        "    self.h = z\n",
        "\n",
        "  def columnVolume(self):\n",
        "    return self.a * self.b * self.h\n",
        "\n",
        "  def columnSurface(self):\n",
        "    return (self.a*self.b*2)+(self.a*self.h*2)+(self.b*self.h*2)\n",
        "\n",
        "t = SquareColumn(2,3,4)\n",
        "v = t.columnVolume()\n",
        "s = t.columnSurface()\n",
        "print(v, s)"
      ],
      "metadata": {
        "colab": {
          "base_uri": "https://localhost:8080/"
        },
        "id": "keU1HdaiosTj",
        "outputId": "093c9a12-5928-4594-b5c1-c96c543e888b"
      },
      "execution_count": null,
      "outputs": [
        {
          "output_type": "stream",
          "name": "stdout",
          "text": [
            "24 52\n"
          ]
        }
      ]
    },
    {
      "cell_type": "markdown",
      "source": [
        "**2-2 캐릭터 클래스 (예시)**\n",
        "\n",
        "* 시나리오\n",
        "    \n",
        "    * 게임 캐릭터를 객체로 표현\n",
        "    * 데이터 : 생명력\n",
        "    * 행동 : 공격받음 (현재 생명력에서 10씩 감소)"
      ],
      "metadata": {
        "id": "VIKZ9ZsbtW05"
      }
    },
    {
      "cell_type": "code",
      "source": [
        "class Character():\n",
        "  def __init__(self):\n",
        "    self.life = 1000 #캐릭터가 만들어지면 기본적으로 생명력 1000을 부여\n",
        "\n",
        "  def attacked(self):\n",
        "    self.life = self.life - 10\n",
        "    print(\"Attacked! life = \", self.life)"
      ],
      "metadata": {
        "id": "geFUCGOFt0ZZ"
      },
      "execution_count": null,
      "outputs": []
    },
    {
      "cell_type": "code",
      "source": [
        "a = Character()\n",
        "b = Character()\n",
        "c = Character()"
      ],
      "metadata": {
        "id": "mFG0VRrEucxR"
      },
      "execution_count": null,
      "outputs": []
    },
    {
      "cell_type": "code",
      "source": [
        "a.attacked()"
      ],
      "metadata": {
        "colab": {
          "base_uri": "https://localhost:8080/"
        },
        "id": "HGV-fl1JulRg",
        "outputId": "eb9b59fa-edd4-4b0e-e247-80271f64e8ff"
      },
      "execution_count": null,
      "outputs": [
        {
          "output_type": "stream",
          "name": "stdout",
          "text": [
            "Attacked! life =  990\n"
          ]
        }
      ]
    },
    {
      "cell_type": "code",
      "source": [
        "for i in range(3):\n",
        "  b.attacked()"
      ],
      "metadata": {
        "colab": {
          "base_uri": "https://localhost:8080/"
        },
        "id": "AZD0oWohuoq9",
        "outputId": "1e760bc3-3aa1-4478-e237-6f3b38e0ac7b"
      },
      "execution_count": null,
      "outputs": [
        {
          "output_type": "stream",
          "name": "stdout",
          "text": [
            "Attacked! life =  990\n",
            "Attacked! life =  980\n",
            "Attacked! life =  970\n"
          ]
        }
      ]
    },
    {
      "cell_type": "code",
      "source": [
        "for i in range(10):\n",
        "  a.attacked()"
      ],
      "metadata": {
        "colab": {
          "base_uri": "https://localhost:8080/"
        },
        "id": "p7xzUt_Juwji",
        "outputId": "a2e43f0b-2d4f-4df1-825c-f3fd9e63fd57"
      },
      "execution_count": null,
      "outputs": [
        {
          "output_type": "stream",
          "name": "stdout",
          "text": [
            "Attacked! life =  980\n",
            "Attacked! life =  970\n",
            "Attacked! life =  960\n",
            "Attacked! life =  950\n",
            "Attacked! life =  940\n",
            "Attacked! life =  930\n",
            "Attacked! life =  920\n",
            "Attacked! life =  910\n",
            "Attacked! life =  900\n",
            "Attacked! life =  890\n"
          ]
        }
      ]
    },
    {
      "cell_type": "markdown",
      "source": [
        "**2-3 클래스의 상속**\n",
        "\n",
        "* 시나리오\n",
        "    * 기본 캐릭터 : 생명력을 가짐\n",
        "    * 기본 캐릭터의 속성을 이어받되, [전사, 마법사]로 캐릭터를 특화시키고자 함\n",
        "    * [전사, 마법사]는 [힘, 지능]을 추가적 속성으로 가지며, 직업에 따라 그 값이 다름\n",
        "    * 전사, 마법사에 attack이라는 행동을 만들고, 직업에 따라 서로 다른 행동을 하도록 정의\n",
        "\n",
        "* 상속\n",
        "    * **기본 캐릭터의 속성을 이어받되, [전사, 마법사]로 캐릭터를 특화시키고자 함** 이 부분을 가능하게 해줌\n",
        "    * class 자식클래스명(부모클래스명)\n",
        "* 메소드 오버라이딩\n",
        "    * 상속받은 객체에 추가적인 행동을 부여할 수 있다."
      ],
      "metadata": {
        "id": "bIxKia0JvCEp"
      }
    },
    {
      "cell_type": "code",
      "source": [
        "class Warrior(Character):\n",
        "  def __init__(self):\n",
        "    super(Warrior, self).__init__()\n",
        "    self.strength = 15\n",
        "    self.intelligence = 5\n",
        "\n",
        "  def attack(self):\n",
        "    print(\"육탄 공격\")"
      ],
      "metadata": {
        "id": "FXqKpGggvnGz"
      },
      "execution_count": null,
      "outputs": []
    },
    {
      "cell_type": "code",
      "source": [
        "class Wizard(Character):\n",
        "  def __init__(self):\n",
        "    super(Wizard, self).__init__()\n",
        "    self.strength = 5\n",
        "    self.intelligence = 15 \n",
        "\n",
        "  def attack(self):\n",
        "    print('원거리 공격')"
      ],
      "metadata": {
        "id": "BpkKT1-dv2rp"
      },
      "execution_count": null,
      "outputs": []
    },
    {
      "cell_type": "code",
      "source": [
        "a = Warrior()\n",
        "b = Wizard()"
      ],
      "metadata": {
        "id": "KXVyajkfv_x0"
      },
      "execution_count": null,
      "outputs": []
    },
    {
      "cell_type": "code",
      "source": [
        "a.life, b.life"
      ],
      "metadata": {
        "colab": {
          "base_uri": "https://localhost:8080/"
        },
        "id": "UPQnDUbTwDWk",
        "outputId": "7ce2e932-9e28-4116-ed37-95750eda3e0b"
      },
      "execution_count": null,
      "outputs": [
        {
          "output_type": "execute_result",
          "data": {
            "text/plain": [
              "(1000, 1000)"
            ]
          },
          "metadata": {},
          "execution_count": 64
        }
      ]
    },
    {
      "cell_type": "code",
      "source": [
        "a.strength, b.strength"
      ],
      "metadata": {
        "colab": {
          "base_uri": "https://localhost:8080/"
        },
        "id": "ImAnR9-qwGsp",
        "outputId": "84067973-57af-4bfb-dc4c-424bf608677e"
      },
      "execution_count": null,
      "outputs": [
        {
          "output_type": "execute_result",
          "data": {
            "text/plain": [
              "(15, 5)"
            ]
          },
          "metadata": {},
          "execution_count": 70
        }
      ]
    },
    {
      "cell_type": "code",
      "source": [
        "a.intelligence, b.intelligence"
      ],
      "metadata": {
        "colab": {
          "base_uri": "https://localhost:8080/"
        },
        "id": "sHMh6ZsLwOnX",
        "outputId": "100132c3-96bb-4f32-c816-3044826a58a2"
      },
      "execution_count": null,
      "outputs": [
        {
          "output_type": "execute_result",
          "data": {
            "text/plain": [
              "(5, 15)"
            ]
          },
          "metadata": {},
          "execution_count": 66
        }
      ]
    },
    {
      "cell_type": "code",
      "source": [
        "a.attacked()\n",
        "b.attacked()"
      ],
      "metadata": {
        "colab": {
          "base_uri": "https://localhost:8080/"
        },
        "id": "b3vsrryOwSc8",
        "outputId": "6be54add-41b5-4c78-a4f6-50fc31af5e3e"
      },
      "execution_count": null,
      "outputs": [
        {
          "output_type": "stream",
          "name": "stdout",
          "text": [
            "Attacked! life =  990\n",
            "Attacked! life =  990\n"
          ]
        }
      ]
    },
    {
      "cell_type": "code",
      "source": [
        "a.attack()\n",
        "b.attack()"
      ],
      "metadata": {
        "colab": {
          "base_uri": "https://localhost:8080/"
        },
        "id": "wwGHG6uQwqek",
        "outputId": "40fd9a26-5b92-4448-93d7-e6ce18f388d8"
      },
      "execution_count": null,
      "outputs": [
        {
          "output_type": "stream",
          "name": "stdout",
          "text": [
            "육탄 공격\n",
            "원거리 공격\n"
          ]
        }
      ]
    },
    {
      "cell_type": "markdown",
      "source": [
        "**연습문제**"
      ],
      "metadata": {
        "id": "N6_ghVzKxHY9"
      }
    },
    {
      "cell_type": "markdown",
      "source": [
        "1. 게임 캐릭터 코드에서 attacked 메소드도 오버라이딩을 하여 전사와 마법사가 공격을 받을 때 life 속성값이 다르게 감소하도록 한다.\n",
        "\n",
        "* 시나리오\n",
        "    * 전사는 체력이 강하므로 한 번 공격 받으면 5 데미지를 입는다.\n",
        "    * 마법사는 마법사니까 한 번 공격 받으면 15 데미지를 입는다."
      ],
      "metadata": {
        "id": "XLCM0kWbxgUP"
      }
    },
    {
      "cell_type": "code",
      "source": [
        "class Warrior(Character):\n",
        "  def __init__(self):\n",
        "    super(Warrior, self).__init__()\n",
        "    self.strength = 15\n",
        "    self.intelligence = 5\n",
        "\n",
        "    def attacked(self):\n",
        "      self.life = self.life - 5\n",
        "      print(\"Attacked! life = \", self.life)\n",
        "\n",
        "  def attack(self):\n",
        "    print(\"육탄 공격\")"
      ],
      "metadata": {
        "id": "k9E-4K_hxIrF"
      },
      "execution_count": null,
      "outputs": []
    },
    {
      "cell_type": "code",
      "source": [
        "class Wizard(Character):\n",
        "  def __init__(self):\n",
        "    super(Wizard, self).__init__()\n",
        "    self.strength = 5\n",
        "    self.intelligence = 15 \n",
        "\n",
        "  def attacked(self):\n",
        "    self.life = self.life - 5\n",
        "    print(\"Attacked! life = \", self.life)\n",
        "\n",
        "  def attack(self):\n",
        "    print('원거리 공격')"
      ],
      "metadata": {
        "id": "eJTKs7d-yAJ0"
      },
      "execution_count": null,
      "outputs": []
    },
    {
      "cell_type": "code",
      "source": [
        "a.attacked()\n",
        "b.attacked()"
      ],
      "metadata": {
        "colab": {
          "base_uri": "https://localhost:8080/"
        },
        "id": "D6i6u427yHIr",
        "outputId": "c6d40449-8847-433b-8a54-5f32ae2179bf"
      },
      "execution_count": null,
      "outputs": [
        {
          "output_type": "stream",
          "name": "stdout",
          "text": [
            "Attacked! life =  980\n",
            "Attacked! life =  980\n"
          ]
        }
      ]
    },
    {
      "cell_type": "markdown",
      "source": [
        "2. 다음과 같이 자동차를 나타내는 Car 클래스를 구현한다.\n",
        "\n",
        "    * 이 클래스는 최고 속도를 의미하는 max_speed라는 속성과 현재 속도를 나타내는 speed라는 속성을 가진다.\n",
        "    * 객체 생성시 max_speed 속성은 160이 되고 speed 속성은 0이 된다.\n",
        "    * speed_up, speed_down이라는 메소드를 가진다. speed_up을 호출하면 speed 속성이 20씩 증가하고, speed_down을 호출하면 speed 속성이 20씩 감소한다.\n",
        "    * 스피드 속성 speed의 값은 max_speed 속성 값, 즉 160을 넘을 수 없다. 또 0 미만으로 감소할 수도 없다.\n",
        "    * 메소드는 호출시 속도 정보를 출력하고 명시적인 반환값을 가지지 않는다.\n",
        "    * 위 기능이 모두 정상적으로 구현되었음을 보이는 코드를 추가한다."
      ],
      "metadata": {
        "id": "UzegLNOMyK8F"
      }
    },
    {
      "cell_type": "code",
      "source": [
        "class Car():\n",
        "\n",
        "  def __init__(self):\n",
        "    self.max_speed = 160\n",
        "    self.speed = 0\n",
        "\n",
        "  def speed_up(self):\n",
        "    if self.speed + 20 > 160:\n",
        "      print(\"max_speed를 초과할 수 없습니다.\")\n",
        "    else:\n",
        "      self.speed = self.speed + 20\n",
        "    print(\"현재 속도는\",self.speed,\"입니다.\")\n",
        "\n",
        "  def speed_down(self):\n",
        "    if self.speed - 20 < 0:\n",
        "      print(\"speed는 0 미만으로 감소할 수 없습니다.\")\n",
        "    else:\n",
        "      self.speed = self.speed - 20\n",
        "    print(\"현재 속도는\",self.speed,\"입니다.\")\n",
        "\n",
        "  print(\"달릴 준비 완료! 부릉부릉 =33\")"
      ],
      "metadata": {
        "colab": {
          "base_uri": "https://localhost:8080/"
        },
        "id": "ACEh0gq4yecM",
        "outputId": "b33db81e-78ce-4191-a97a-5914eb33de37"
      },
      "execution_count": null,
      "outputs": [
        {
          "output_type": "stream",
          "name": "stdout",
          "text": [
            "달릴 준비 완료! 부릉부릉 =33\n"
          ]
        }
      ]
    },
    {
      "cell_type": "code",
      "source": [
        "a = Car()"
      ],
      "metadata": {
        "id": "gPw5YKs61UX1"
      },
      "execution_count": null,
      "outputs": []
    },
    {
      "cell_type": "code",
      "source": [
        "a.max_speed, a.speed"
      ],
      "metadata": {
        "colab": {
          "base_uri": "https://localhost:8080/"
        },
        "id": "rIcM5c681ZjV",
        "outputId": "7883d64e-0d9d-4d8a-c488-7f772a34ce09"
      },
      "execution_count": null,
      "outputs": [
        {
          "output_type": "execute_result",
          "data": {
            "text/plain": [
              "(160, 0)"
            ]
          },
          "metadata": {},
          "execution_count": 104
        }
      ]
    },
    {
      "cell_type": "code",
      "source": [
        "a.speed_up()\n",
        "a.speed_up()\n",
        "a.speed_up()\n",
        "a.speed_up()\n",
        "a.speed_up()\n",
        "a.speed_up()\n",
        "a.speed_up()\n",
        "a.speed_up()"
      ],
      "metadata": {
        "colab": {
          "base_uri": "https://localhost:8080/"
        },
        "id": "vNDrlXoT1jgH",
        "outputId": "53af8912-26c8-4f4c-c302-d6de0a5e8e6e"
      },
      "execution_count": null,
      "outputs": [
        {
          "output_type": "stream",
          "name": "stdout",
          "text": [
            "현재 속도는 20 입니다.\n",
            "현재 속도는 40 입니다.\n",
            "현재 속도는 60 입니다.\n",
            "현재 속도는 80 입니다.\n",
            "현재 속도는 100 입니다.\n",
            "현재 속도는 120 입니다.\n",
            "현재 속도는 140 입니다.\n",
            "현재 속도는 160 입니다.\n"
          ]
        }
      ]
    },
    {
      "cell_type": "code",
      "source": [
        "a.speed_down()"
      ],
      "metadata": {
        "colab": {
          "base_uri": "https://localhost:8080/"
        },
        "id": "ME_zjQs_2uBX",
        "outputId": "58e29e81-9885-43e3-8650-9d738187045d"
      },
      "execution_count": null,
      "outputs": [
        {
          "output_type": "stream",
          "name": "stdout",
          "text": [
            "현재 속도는 140 입니다.\n"
          ]
        }
      ]
    },
    {
      "cell_type": "markdown",
      "source": [
        "3. Car 클래스를 기반으로 SportCar와 Truck이라는 두 개의 자식 클래스를 구현한다.\n",
        "\n",
        "    * SportCar 클래스는 max_speed 속성이 200이고, speed_up, speed_down 호출시 속도가 45씩 증가 혹은 감소한다.\n",
        "    * Truck 클래스는 max_speed 속성이 100이고, speed_up, speed_down 호출시 속도가 15씩 증가 혹은 감소한다.\n",
        "    * 스피드 속성 speed 값은 max_speed 속성 값을 넘을 수 없고, 0 미만으로 감소할 수도 없다.\n",
        "    * 메소드는 호출시 속도 정보를 출력하고 명시적인 반환값을 가지지 않는다.\n",
        "    * 위 기능이 모두 정상적으로 구현되었음을 보이는 코드를 추가한다."
      ],
      "metadata": {
        "id": "37e8uUW821Kg"
      }
    },
    {
      "cell_type": "code",
      "source": [
        "class SportCar(Car):\n",
        "\n",
        "  def __init__(self):\n",
        "    self.max_speed = 200\n",
        "    self.speed = 0\n",
        "\n",
        "  def speed_up(self):\n",
        "    if self.speed + 45 > 200:\n",
        "      print(\"max_speed를 초과할 수 없습니다.\")\n",
        "    else:\n",
        "      self.speed = self.speed + 45\n",
        "    print(\"현재 속도는\",self.speed,\"입니다.\")\n",
        "\n",
        "  def speed_down(self):\n",
        "    if self.speed - 45 < 0:\n",
        "      print(\"speed는 0 미만으로 감소할 수 없습니다.\")\n",
        "    else:\n",
        "      self.speed = self.speed - 45\n",
        "    print(\"현재 속도는\",self.speed,\"입니다.\")\n",
        "\n",
        "  print(\"달릴 준비 완료! 부릉부릉 =33\")"
      ],
      "metadata": {
        "colab": {
          "base_uri": "https://localhost:8080/"
        },
        "id": "F681KTEs3iOG",
        "outputId": "4b2c3b23-ddfe-4cf9-a1b0-9518929efc7c"
      },
      "execution_count": null,
      "outputs": [
        {
          "output_type": "stream",
          "name": "stdout",
          "text": [
            "달릴 준비 완료! 부릉부릉 =33\n"
          ]
        }
      ]
    },
    {
      "cell_type": "code",
      "source": [
        "class Truck(Car):\n",
        "\n",
        "  def __init__(self):\n",
        "    self.max_speed = 100\n",
        "    self.speed = 0\n",
        "\n",
        "  def speed_up(self):\n",
        "    if self.speed + 15 > 100:\n",
        "      print(\"max_speed를 초과할 수 없습니다.\")\n",
        "    else:\n",
        "      self.speed = self.speed + 15\n",
        "    print(\"현재 속도는\",self.speed,\"입니다.\")\n",
        "\n",
        "  def speed_down(self):\n",
        "    if self.speed - 15 < 0:\n",
        "      print(\"speed는 0 미만으로 감소할 수 없습니다.\")\n",
        "    else:\n",
        "      self.speed = self.speed - 15\n",
        "    print(\"현재 속도는\",self.speed,\"입니다.\")\n",
        "\n",
        "  print(\"달릴 준비 완료! 부릉부릉 =33\")"
      ],
      "metadata": {
        "colab": {
          "base_uri": "https://localhost:8080/"
        },
        "id": "8EIADei-4Grn",
        "outputId": "c8e5263e-1857-45e1-926a-ed2540fc0e0b"
      },
      "execution_count": null,
      "outputs": [
        {
          "output_type": "stream",
          "name": "stdout",
          "text": [
            "달릴 준비 완료! 부릉부릉 =33\n"
          ]
        }
      ]
    },
    {
      "cell_type": "code",
      "source": [
        "b = SportCar()\n",
        "c = Truck()"
      ],
      "metadata": {
        "id": "dpgSzFT04SIi"
      },
      "execution_count": null,
      "outputs": []
    },
    {
      "cell_type": "code",
      "source": [
        "b.max_speed, b.speed, c.max_speed, c.speed"
      ],
      "metadata": {
        "colab": {
          "base_uri": "https://localhost:8080/"
        },
        "id": "BNTe7eS24YRc",
        "outputId": "225270b3-89c6-4e7d-c2a3-27dc75f78fa9"
      },
      "execution_count": null,
      "outputs": [
        {
          "output_type": "execute_result",
          "data": {
            "text/plain": [
              "(200, 0, 100, 0)"
            ]
          },
          "metadata": {},
          "execution_count": 109
        }
      ]
    },
    {
      "cell_type": "code",
      "source": [
        "b.speed_up()\n",
        "b.speed_up()\n",
        "b.speed_up()\n",
        "b.speed_up()\n",
        "b.speed_up()\n",
        "b.speed_up()\n",
        "b.speed_down()\n",
        "b.speed_down()"
      ],
      "metadata": {
        "colab": {
          "base_uri": "https://localhost:8080/"
        },
        "id": "5t3f87we4fg6",
        "outputId": "8d9a06b3-dcd8-4a50-fe3d-cee853aa67ea"
      },
      "execution_count": null,
      "outputs": [
        {
          "output_type": "stream",
          "name": "stdout",
          "text": [
            "현재 속도는 45 입니다.\n",
            "현재 속도는 90 입니다.\n",
            "현재 속도는 135 입니다.\n",
            "현재 속도는 180 입니다.\n",
            "max_speed를 초과할 수 없습니다.\n",
            "현재 속도는 180 입니다.\n",
            "max_speed를 초과할 수 없습니다.\n",
            "현재 속도는 180 입니다.\n",
            "현재 속도는 135 입니다.\n",
            "현재 속도는 90 입니다.\n"
          ]
        }
      ]
    },
    {
      "cell_type": "code",
      "source": [
        "c.speed_up()\n",
        "c.speed_up()\n",
        "c.speed_up()\n",
        "c.speed_up()\n",
        "c.speed_up()\n",
        "c.speed_up()\n",
        "c.speed_down()\n",
        "c.speed_down()"
      ],
      "metadata": {
        "colab": {
          "base_uri": "https://localhost:8080/"
        },
        "id": "NJE1aS_L43jk",
        "outputId": "1cb2523c-6b4d-49f4-f98f-7dbc406f069c"
      },
      "execution_count": null,
      "outputs": [
        {
          "output_type": "stream",
          "name": "stdout",
          "text": [
            "현재 속도는 15 입니다.\n",
            "현재 속도는 30 입니다.\n",
            "현재 속도는 45 입니다.\n",
            "현재 속도는 60 입니다.\n",
            "현재 속도는 75 입니다.\n",
            "현재 속도는 90 입니다.\n",
            "현재 속도는 75 입니다.\n",
            "현재 속도는 60 입니다.\n"
          ]
        }
      ]
    }
  ]
}