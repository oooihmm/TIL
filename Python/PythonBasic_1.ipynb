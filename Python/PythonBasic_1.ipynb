{
  "nbformat": 4,
  "nbformat_minor": 0,
  "metadata": {
    "colab": {
      "provenance": [],
      "collapsed_sections": [
        "2M1OZbmtEcKG",
        "L1lR-hS0GByx",
        "bkqGiaG-VeuV",
        "NIq1fCTOcvqH"
      ]
    },
    "kernelspec": {
      "name": "python3",
      "display_name": "Python 3"
    },
    "language_info": {
      "name": "python"
    }
  },
  "cells": [
    {
      "cell_type": "markdown",
      "source": [
        "**데이터처리1_파이썬기본문법1**\n",
        "\n",
        "값, 변수, 연산자 "
      ],
      "metadata": {
        "id": "pMHz7vPWbM-A"
      }
    },
    {
      "cell_type": "markdown",
      "source": [
        "## 1.값(value)##\n",
        "\n",
        "* 숫자\n",
        "* 문자 ; 숫자가 아닌 모든 것\n",
        "* 불리언 ; 참과 거직 두 가지 경우만을 나타내는 특수한 값 (주로 조건문)"
      ],
      "metadata": {
        "id": "2M1OZbmtEcKG"
      }
    },
    {
      "cell_type": "markdown",
      "source": [
        "**1-1 숫자**"
      ],
      "metadata": {
        "id": "S1NSSbmhsKOL"
      }
    },
    {
      "cell_type": "code",
      "source": [
        "1 #양의 정수"
      ],
      "metadata": {
        "colab": {
          "base_uri": "https://localhost:8080/"
        },
        "id": "WIttoa9tEyuY",
        "outputId": "25d3d7ad-de98-4994-89ac-77ae6fac1374"
      },
      "execution_count": null,
      "outputs": [
        {
          "output_type": "execute_result",
          "data": {
            "text/plain": [
              "1"
            ]
          },
          "metadata": {},
          "execution_count": 1
        }
      ]
    },
    {
      "cell_type": "code",
      "source": [
        "-1 #음의 정수"
      ],
      "metadata": {
        "colab": {
          "base_uri": "https://localhost:8080/"
        },
        "id": "7iSii3ifE9v2",
        "outputId": "717ef496-712e-434b-9a53-e687670e3021"
      },
      "execution_count": null,
      "outputs": [
        {
          "output_type": "execute_result",
          "data": {
            "text/plain": [
              "-1"
            ]
          },
          "metadata": {},
          "execution_count": 2
        }
      ]
    },
    {
      "cell_type": "code",
      "source": [
        "0"
      ],
      "metadata": {
        "colab": {
          "base_uri": "https://localhost:8080/"
        },
        "id": "5-2NpXYJFDM0",
        "outputId": "d95dc25d-c684-4467-ac99-8f2556846b7e"
      },
      "execution_count": null,
      "outputs": [
        {
          "output_type": "execute_result",
          "data": {
            "text/plain": [
              "0"
            ]
          },
          "metadata": {},
          "execution_count": 3
        }
      ]
    },
    {
      "cell_type": "code",
      "source": [
        "3.141592 #양의 소수"
      ],
      "metadata": {
        "colab": {
          "base_uri": "https://localhost:8080/"
        },
        "id": "yaBxKmFIFFjH",
        "outputId": "2ee425f8-87dc-46b1-e751-872c14211e0a"
      },
      "execution_count": null,
      "outputs": [
        {
          "output_type": "execute_result",
          "data": {
            "text/plain": [
              "3.141592"
            ]
          },
          "metadata": {},
          "execution_count": 4
        }
      ]
    },
    {
      "cell_type": "code",
      "source": [
        "-3.141592 #음의 소수"
      ],
      "metadata": {
        "colab": {
          "base_uri": "https://localhost:8080/"
        },
        "id": "bnE0VI0AFJkZ",
        "outputId": "377234c3-55df-40db-ef0b-122580f235b9"
      },
      "execution_count": null,
      "outputs": [
        {
          "output_type": "execute_result",
          "data": {
            "text/plain": [
              "-3.141592"
            ]
          },
          "metadata": {},
          "execution_count": 5
        }
      ]
    },
    {
      "cell_type": "markdown",
      "source": [
        "**1-2 문자**"
      ],
      "metadata": {
        "id": "xa2_EWJwsLvq"
      }
    },
    {
      "cell_type": "code",
      "source": [
        "\"abc 123 @@!##\" #문자; 따옴표 안에 적어서 인식"
      ],
      "metadata": {
        "colab": {
          "base_uri": "https://localhost:8080/",
          "height": 36
        },
        "id": "GU4hlXqWFVzs",
        "outputId": "7dbc21a3-5a02-4945-e0c7-c742ef8a61fb"
      },
      "execution_count": null,
      "outputs": [
        {
          "output_type": "execute_result",
          "data": {
            "text/plain": [
              "'abc 123 @@!##'"
            ],
            "application/vnd.google.colaboratory.intrinsic+json": {
              "type": "string"
            }
          },
          "metadata": {},
          "execution_count": 6
        }
      ]
    },
    {
      "cell_type": "markdown",
      "source": [
        "**1-3 불리언**"
      ],
      "metadata": {
        "id": "9OU7CK9bsOFH"
      }
    },
    {
      "cell_type": "code",
      "source": [
        "True #불리언값 ; 참"
      ],
      "metadata": {
        "colab": {
          "base_uri": "https://localhost:8080/"
        },
        "id": "gXfjcunCFqp5",
        "outputId": "2749ddf4-87b5-48e2-9ae9-2ff012d1a8b0"
      },
      "execution_count": null,
      "outputs": [
        {
          "output_type": "execute_result",
          "data": {
            "text/plain": [
              "True"
            ]
          },
          "metadata": {},
          "execution_count": 7
        }
      ]
    },
    {
      "cell_type": "code",
      "source": [
        "False #불리언값 ; 거짓"
      ],
      "metadata": {
        "colab": {
          "base_uri": "https://localhost:8080/"
        },
        "id": "ksSm0O5EFw20",
        "outputId": "6aebd0dd-23ba-4d2c-8ace-ffd1492a16dd"
      },
      "execution_count": null,
      "outputs": [
        {
          "output_type": "execute_result",
          "data": {
            "text/plain": [
              "False"
            ]
          },
          "metadata": {},
          "execution_count": 8
        }
      ]
    },
    {
      "cell_type": "markdown",
      "source": [
        "##2. 변수(variable)##\n",
        "* 값 : 프로그램이 처리하는 기본 단위\n",
        "\n",
        "특정 값을 여러번 사용하기 위해 별명(=변수명)을 붙여 값을 불러냄\n"
      ],
      "metadata": {
        "id": "L1lR-hS0GByx"
      }
    },
    {
      "cell_type": "markdown",
      "source": [
        "**2-1 변수의 선언**"
      ],
      "metadata": {
        "id": "0iEnzTQRsTIk"
      }
    },
    {
      "cell_type": "code",
      "source": [
        "x = 3.141592\n",
        "#변수 선언 방법:변수 = 값\n",
        "#x라는 변수가 3.1415192라는 값을 가리키도록 함"
      ],
      "metadata": {
        "id": "3zgwUS6fGaI-"
      },
      "execution_count": null,
      "outputs": []
    },
    {
      "cell_type": "code",
      "source": [
        "x #변수를 선언하면 프로그램의 다른 부분에서 변수명으로 변수가 가리키는 값을 불러낼 수 있음"
      ],
      "metadata": {
        "colab": {
          "base_uri": "https://localhost:8080/"
        },
        "id": "WZPXSdvFG24t",
        "outputId": "4fed0117-b132-4304-a22d-91c78dc7ae33"
      },
      "execution_count": null,
      "outputs": [
        {
          "output_type": "execute_result",
          "data": {
            "text/plain": [
              "3.141592"
            ]
          },
          "metadata": {},
          "execution_count": 20
        }
      ]
    },
    {
      "cell_type": "code",
      "source": [
        "x = \"hello\" #이미 선언된 변수가 다른 값을 가지게 할 수 있음"
      ],
      "metadata": {
        "id": "cerVKWFmHd95"
      },
      "execution_count": null,
      "outputs": []
    },
    {
      "cell_type": "code",
      "source": [
        "x"
      ],
      "metadata": {
        "colab": {
          "base_uri": "https://localhost:8080/",
          "height": 36
        },
        "id": "JmeN8NwdHhPe",
        "outputId": "cd24fa86-ddda-4b08-8328-3612be8b379f"
      },
      "execution_count": null,
      "outputs": [
        {
          "output_type": "execute_result",
          "data": {
            "text/plain": [
              "'hello'"
            ],
            "application/vnd.google.colaboratory.intrinsic+json": {
              "type": "string"
            }
          },
          "metadata": {},
          "execution_count": 23
        }
      ]
    },
    {
      "cell_type": "code",
      "source": [
        "x = True"
      ],
      "metadata": {
        "id": "Sk_NJxfPHn2p"
      },
      "execution_count": null,
      "outputs": []
    },
    {
      "cell_type": "code",
      "source": [
        "x #변수는 가장 최근에 선언된 값을 가리킴"
      ],
      "metadata": {
        "colab": {
          "base_uri": "https://localhost:8080/"
        },
        "id": "n1SH_3zOHqkK",
        "outputId": "f1a8f1cc-3267-4110-cdc4-adc4322b93b1"
      },
      "execution_count": null,
      "outputs": [
        {
          "output_type": "execute_result",
          "data": {
            "text/plain": [
              "True"
            ]
          },
          "metadata": {},
          "execution_count": 26
        }
      ]
    },
    {
      "cell_type": "markdown",
      "source": [
        "**2-2 명령어 print**"
      ],
      "metadata": {
        "id": "SrMAiPm8IGIp"
      }
    },
    {
      "cell_type": "code",
      "source": [
        "x = \"hello world\"\n",
        "print(x) #변수가 가리키는 값을 출력"
      ],
      "metadata": {
        "colab": {
          "base_uri": "https://localhost:8080/"
        },
        "id": "kUtxfzSJILvg",
        "outputId": "2fc7d12c-cd6f-452e-e8f1-4a9d953018e0"
      },
      "execution_count": null,
      "outputs": [
        {
          "output_type": "stream",
          "name": "stdout",
          "text": [
            "hello world\n"
          ]
        }
      ]
    },
    {
      "cell_type": "code",
      "source": [],
      "metadata": {
        "id": "-ZMSjZ42UgDt"
      },
      "execution_count": null,
      "outputs": []
    },
    {
      "cell_type": "code",
      "source": [
        "print(123456777) #겂 자체를 출력할 수도 있음"
      ],
      "metadata": {
        "colab": {
          "base_uri": "https://localhost:8080/"
        },
        "id": "zn4JtGGzIUDE",
        "outputId": "5963e4cc-ca54-4a0a-ab37-f0d2b832579a"
      },
      "execution_count": null,
      "outputs": [
        {
          "output_type": "stream",
          "name": "stdout",
          "text": [
            "123456777\n"
          ]
        }
      ]
    },
    {
      "cell_type": "markdown",
      "source": [
        "**2-3 변수명과 규칙**\n",
        "\n",
        "* 숫자로 시작할 수 없다.\n",
        "* _를 제외하곤 특수문자를 사용할 수 없다.\n",
        "* 공백을 사용할 수 없다.\n",
        "* 명령어는 변수명으로 선언할 수 없다.\n",
        " \n",
        " print, if, for, while, def. input, class, list, dict, set, 등\n",
        "* 위를 지키는 한 어떤 변수명도 사용할 수 있다.\n"
      ],
      "metadata": {
        "id": "mcmgfXcAIi2n"
      }
    },
    {
      "cell_type": "code",
      "source": [
        "3a = 1 \n",
        "print(3a)\n",
        "#변수명의 첫 글자로 숫자를 사용할 수 없다."
      ],
      "metadata": {
        "colab": {
          "base_uri": "https://localhost:8080/",
          "height": 136
        },
        "id": "bgBvNxIqUjIG",
        "outputId": "e7687a85-58bf-43b5-ea9b-0456cc275de2"
      },
      "execution_count": null,
      "outputs": [
        {
          "output_type": "error",
          "ename": "SyntaxError",
          "evalue": "ignored",
          "traceback": [
            "\u001b[0;36m  File \u001b[0;32m\"<ipython-input-32-5e084742103d>\"\u001b[0;36m, line \u001b[0;32m1\u001b[0m\n\u001b[0;31m    3a = 1\u001b[0m\n\u001b[0m     ^\u001b[0m\n\u001b[0;31mSyntaxError\u001b[0m\u001b[0;31m:\u001b[0m invalid syntax\n"
          ]
        }
      ]
    },
    {
      "cell_type": "code",
      "source": [
        "abc! = 1\n",
        "print(abs!)\n",
        "#변수명으로 _를 제외한 특수문자를 사용할 수 없다."
      ],
      "metadata": {
        "colab": {
          "base_uri": "https://localhost:8080/",
          "height": 136
        },
        "id": "mfURCcxRVD7-",
        "outputId": "e81f5487-0929-4031-9ea3-a9702ee40815"
      },
      "execution_count": null,
      "outputs": [
        {
          "output_type": "error",
          "ename": "SyntaxError",
          "evalue": "ignored",
          "traceback": [
            "\u001b[0;36m  File \u001b[0;32m\"<ipython-input-34-76f955bd6eaa>\"\u001b[0;36m, line \u001b[0;32m1\u001b[0m\n\u001b[0;31m    abc! = 1\u001b[0m\n\u001b[0m       ^\u001b[0m\n\u001b[0;31mSyntaxError\u001b[0m\u001b[0;31m:\u001b[0m invalid syntax\n"
          ]
        }
      ]
    },
    {
      "cell_type": "code",
      "source": [
        "while = 1\n",
        "print(while)\n",
        "#변수명으로 명령어를 사용할 수 없다."
      ],
      "metadata": {
        "colab": {
          "base_uri": "https://localhost:8080/",
          "height": 136
        },
        "id": "BgZr8DYNU4cI",
        "outputId": "91c5bf88-6d5f-4d00-8f8e-76328d79900d"
      },
      "execution_count": null,
      "outputs": [
        {
          "output_type": "error",
          "ename": "SyntaxError",
          "evalue": "ignored",
          "traceback": [
            "\u001b[0;36m  File \u001b[0;32m\"<ipython-input-33-370bc909ef07>\"\u001b[0;36m, line \u001b[0;32m1\u001b[0m\n\u001b[0;31m    while = 1\u001b[0m\n\u001b[0m          ^\u001b[0m\n\u001b[0;31mSyntaxError\u001b[0m\u001b[0;31m:\u001b[0m invalid syntax\n"
          ]
        }
      ]
    },
    {
      "cell_type": "markdown",
      "source": [
        "##3. 연산자##\n",
        "\n",
        "* 두 개의 값을 결합하여 새로운 값을 만들어내는 기호\n",
        " \n",
        " 숫자 사이의 연산자 : 사칙연산 (+, -, *, /) , 제곱(***), 몫(//) 나머지(%)\n",
        " \n",
        " 문자열 사이의 연산자 : 문자열 붙이기\n",
        "\n",
        " 불리언값 사이의 연산자 : and, not, or\n",
        "\n",
        " 비교연산자 : 양쪽 값의 크기를 비교하는 연산자 (>, <, >=, <=, ==, !=)"
      ],
      "metadata": {
        "id": "bkqGiaG-VeuV"
      }
    },
    {
      "cell_type": "markdown",
      "source": [
        "**3-1 숫자 사이의 연산**"
      ],
      "metadata": {
        "id": "FjSdFYWosxLu"
      }
    },
    {
      "cell_type": "code",
      "source": [
        "#숫자 사이의 사칙연산\n",
        "print(10+10) #더하기\n",
        "print(15-5) #빼기\n",
        "print(6*7) #곱하기\n",
        "print(30/5) #나누기"
      ],
      "metadata": {
        "colab": {
          "base_uri": "https://localhost:8080/"
        },
        "id": "qZZjV6Q9V56j",
        "outputId": "46a5e4fe-a993-4f3c-fa99-3324b8907823"
      },
      "execution_count": null,
      "outputs": [
        {
          "output_type": "stream",
          "name": "stdout",
          "text": [
            "20\n",
            "10\n",
            "42\n",
            "6.0\n"
          ]
        }
      ]
    },
    {
      "cell_type": "code",
      "source": [
        "#숫자 사이의 기타 연산\n",
        "print(5**2) #x**y : x의 y제곱\n",
        "print(5//2) #x//y : x 나누기 y의 몫\n",
        "print(5%2) #x%y : x 나누기 y의 나머지"
      ],
      "metadata": {
        "colab": {
          "base_uri": "https://localhost:8080/"
        },
        "id": "nKWsYmoyWtg7",
        "outputId": "a6f87c85-357d-42bf-f5fe-63eeb23ed5e7"
      },
      "execution_count": null,
      "outputs": [
        {
          "output_type": "stream",
          "name": "stdout",
          "text": [
            "25\n",
            "2\n",
            "1\n"
          ]
        }
      ]
    },
    {
      "cell_type": "markdown",
      "source": [
        "**3-2 문자 사이의 연산**"
      ],
      "metadata": {
        "id": "tkTKGojSszJv"
      }
    },
    {
      "cell_type": "code",
      "source": [
        "#문자 사이의 연산\n",
        "print(\"hello\"+\"world\") #문자+문자 : 두 문자를 붙이기\n",
        "print(\"hello\"*5) #문자*숫자 : 문자를 숫자만큼 반복"
      ],
      "metadata": {
        "colab": {
          "base_uri": "https://localhost:8080/"
        },
        "id": "H3n-3fvsXR9y",
        "outputId": "f6a2fb53-64da-4c86-bca7-6a61c93f0b51"
      },
      "execution_count": null,
      "outputs": [
        {
          "output_type": "stream",
          "name": "stdout",
          "text": [
            "helloworld\n",
            "hellohellohellohellohello\n"
          ]
        }
      ]
    },
    {
      "cell_type": "markdown",
      "source": [
        "**3-3 불리언 사이의 연산**"
      ],
      "metadata": {
        "id": "Qh5_tm6Ds1Bl"
      }
    },
    {
      "cell_type": "code",
      "source": [
        "#불리언값 사이의 연산 : and \n",
        "print(True and True) #참\n",
        "print(True and False) #거짓\n",
        "print(False and True) #거짓\n",
        "print(False and False) #거짓\n",
        "#양쪽이 모두 참이어야 참"
      ],
      "metadata": {
        "colab": {
          "base_uri": "https://localhost:8080/"
        },
        "id": "1oYB4cz_XvIG",
        "outputId": "fd054a75-4454-4a5a-ae9e-52ae25156c1e"
      },
      "execution_count": null,
      "outputs": [
        {
          "output_type": "stream",
          "name": "stdout",
          "text": [
            "True\n",
            "False\n",
            "False\n",
            "False\n"
          ]
        }
      ]
    },
    {
      "cell_type": "code",
      "source": [
        "#불리언값 사이의 연산 : or\n",
        "print(True or True) #참\n",
        "print(True or False) #참\n",
        "print(False or True) #참\n",
        "print(False and False) #거짓\n",
        "#양쪽 중 하나가 참이면 참"
      ],
      "metadata": {
        "colab": {
          "base_uri": "https://localhost:8080/"
        },
        "id": "u4TBnX9EYIK5",
        "outputId": "51bcbb09-7a5d-4a59-908c-78b8af3ffe7d"
      },
      "execution_count": null,
      "outputs": [
        {
          "output_type": "stream",
          "name": "stdout",
          "text": [
            "True\n",
            "True\n",
            "True\n",
            "False\n"
          ]
        }
      ]
    },
    {
      "cell_type": "code",
      "source": [
        "#불리언값 사이의 연산 : not\n",
        "print(not True) #거짓\n",
        "print(not False) #참\n",
        "#부정 > 기존의 결과를 반대로 출력"
      ],
      "metadata": {
        "colab": {
          "base_uri": "https://localhost:8080/"
        },
        "id": "uRBhFX80YT8m",
        "outputId": "cc0e9616-a031-4ffa-d683-8f5364c0781c"
      },
      "execution_count": null,
      "outputs": [
        {
          "output_type": "stream",
          "name": "stdout",
          "text": [
            "False\n",
            "True\n"
          ]
        }
      ]
    },
    {
      "cell_type": "markdown",
      "source": [
        "**3-4 비교연산자**"
      ],
      "metadata": {
        "id": "WHKdkkBOs4eb"
      }
    },
    {
      "cell_type": "code",
      "source": [
        "#비교연산자 \n",
        "print(3>5) #크다\n",
        "print(3>=5) #크거나같다\n",
        "print(3<5) #작다\n",
        "print(3<=5) #작거나같다\n",
        "print(3==5) #같다\n",
        "print(3!=5) #다르다\n",
        "#비교연산자의 연산 결과는 항상 불리언값으로 출력됨"
      ],
      "metadata": {
        "colab": {
          "base_uri": "https://localhost:8080/"
        },
        "id": "3dwSxYFfYvjs",
        "outputId": "d4f0da20-7d4e-433e-c4b1-f7ac50d37abe"
      },
      "execution_count": null,
      "outputs": [
        {
          "output_type": "stream",
          "name": "stdout",
          "text": [
            "False\n",
            "False\n",
            "True\n",
            "True\n",
            "False\n",
            "True\n"
          ]
        }
      ]
    },
    {
      "cell_type": "markdown",
      "source": [
        "**3-5 변수를 사용한 연산**"
      ],
      "metadata": {
        "id": "ywGRs2cOZx8J"
      }
    },
    {
      "cell_type": "code",
      "source": [
        "#값과 변수간의 연산\n",
        "x = 11\n",
        "print(x+5)\n",
        "print(x*5)\n",
        "print(x>5)"
      ],
      "metadata": {
        "colab": {
          "base_uri": "https://localhost:8080/"
        },
        "id": "OilhfY0CZ_fN",
        "outputId": "802ef9cb-6c58-4691-b8cc-0ce70b2efed0"
      },
      "execution_count": null,
      "outputs": [
        {
          "output_type": "stream",
          "name": "stdout",
          "text": [
            "16\n",
            "55\n",
            "True\n"
          ]
        }
      ]
    },
    {
      "cell_type": "code",
      "source": [
        "#변수와 변수간의 연산\n",
        "x = 10\n",
        "y = 5\n",
        "z = 'hello'\n",
        "print(x-y)\n",
        "print(x/y)\n",
        "print(x==y)\n",
        "print(z*y)"
      ],
      "metadata": {
        "colab": {
          "base_uri": "https://localhost:8080/"
        },
        "id": "zLkMzz3CaVBi",
        "outputId": "2f095040-693d-481a-9d44-08fd5a881fc1"
      },
      "execution_count": null,
      "outputs": [
        {
          "output_type": "stream",
          "name": "stdout",
          "text": [
            "5\n",
            "2.0\n",
            "False\n",
            "hellohellohellohellohello\n"
          ]
        }
      ]
    },
    {
      "cell_type": "markdown",
      "source": [
        "**3-6 연산의 결과를 변수에 저장**\n",
        "\n",
        "* 변수명 = 연산"
      ],
      "metadata": {
        "id": "uIj5nJUeawVg"
      }
    },
    {
      "cell_type": "code",
      "source": [
        "x = 3\n",
        "y = 5\n",
        "result = x+y\n",
        "print(result)\n",
        "#연산의 결과를 값에 저장할 수 있다."
      ],
      "metadata": {
        "colab": {
          "base_uri": "https://localhost:8080/"
        },
        "id": "jedHbX7JazGn",
        "outputId": "f0a54101-cd2a-461b-ce76-29ceab2d4358"
      },
      "execution_count": null,
      "outputs": [
        {
          "output_type": "stream",
          "name": "stdout",
          "text": [
            "8\n"
          ]
        }
      ]
    },
    {
      "cell_type": "markdown",
      "source": [
        "**3-7 연산의 우선순위**\n",
        "* 왼쪽에서 오른쪽으로 실행\n",
        "* 제곱 > 곱하기/나누기 > 더하기/빼기 순서로 실행\n",
        "* 괄호가 있을 때는 괄호 안에 있는 연산부터 실행"
      ],
      "metadata": {
        "id": "3yui1NIlbnp7"
      }
    },
    {
      "cell_type": "code",
      "source": [
        "print(5+4-3) #왼쪽에서 오른쪽으로\n",
        "print(5+4-8/4) #곱하기/나누기부터 실행\n",
        "print(7+5*3**2) #제곱부터 실행\n",
        "print(7+(5*3)**2) #괄호부터 실행\n",
        "#좋은 코딩 습관은 괄호를 사용하여 자신이 나타내고자 하는 바를 명확히 표현하는 것!"
      ],
      "metadata": {
        "colab": {
          "base_uri": "https://localhost:8080/"
        },
        "id": "f4b1D9dsb821",
        "outputId": "002f5cab-e250-4b60-ecfd-93076dfac860"
      },
      "execution_count": null,
      "outputs": [
        {
          "output_type": "stream",
          "name": "stdout",
          "text": [
            "6\n",
            "7.0\n",
            "52\n",
            "232\n"
          ]
        }
      ]
    },
    {
      "cell_type": "markdown",
      "source": [
        "##연습문제##"
      ],
      "metadata": {
        "id": "NIq1fCTOcvqH"
      }
    },
    {
      "cell_type": "markdown",
      "source": [
        "1. 파이썬을 계산기로 사용해서 답이 True인 부등식을 3개 만든다."
      ],
      "metadata": {
        "id": "4N--iyRic-vV"
      }
    },
    {
      "cell_type": "code",
      "source": [
        "print(3<5)\n",
        "print(8>=1)\n",
        "print(7==7)"
      ],
      "metadata": {
        "colab": {
          "base_uri": "https://localhost:8080/"
        },
        "id": "oec7pFcWdNuR",
        "outputId": "c3711ca3-3303-4ba1-cf80-61d7489ea19d"
      },
      "execution_count": null,
      "outputs": [
        {
          "output_type": "stream",
          "name": "stdout",
          "text": [
            "True\n",
            "True\n",
            "True\n"
          ]
        }
      ]
    },
    {
      "cell_type": "markdown",
      "source": [
        "2. 파이썬을 계산기로 사용해서 답이 False인 부등식을 3개 만든다."
      ],
      "metadata": {
        "id": "F3oBajHxdWfC"
      }
    },
    {
      "cell_type": "code",
      "source": [
        "print(12<5)\n",
        "print(5<=2)\n",
        "print(5!=5)"
      ],
      "metadata": {
        "colab": {
          "base_uri": "https://localhost:8080/"
        },
        "id": "lpIGbszmdV7F",
        "outputId": "2e7b7dc6-ec99-4eab-d9a4-384914fd42de"
      },
      "execution_count": null,
      "outputs": [
        {
          "output_type": "stream",
          "name": "stdout",
          "text": [
            "False\n",
            "False\n",
            "False\n"
          ]
        }
      ]
    },
    {
      "cell_type": "markdown",
      "source": [
        "3. 파이썬을 계산기로 사용하여 다음 연산을 한다."
      ],
      "metadata": {
        "id": "OxdueAUtdoaA"
      }
    },
    {
      "cell_type": "code",
      "source": [
        "print(3*2-5/4) #6-1.25=4.75\n",
        "print(25*6/3+17) #50+17=67\n",
        "print(39021-276920/12040) #39021-23=38998\n",
        "print(2**6-10%6) # 64-4=60"
      ],
      "metadata": {
        "colab": {
          "base_uri": "https://localhost:8080/"
        },
        "id": "FZST9msdfW19",
        "outputId": "6e032f82-7c88-4a26-ec44-411953ada998"
      },
      "execution_count": null,
      "outputs": [
        {
          "output_type": "stream",
          "name": "stdout",
          "text": [
            "4.75\n",
            "67.0\n",
            "38998.0\n",
            "60\n"
          ]
        }
      ]
    },
    {
      "cell_type": "markdown",
      "source": [
        "4. 파이썬을 계산기로 사용하여 다음 연산을 한다."
      ],
      "metadata": {
        "id": "YAnULcncgc0a"
      }
    },
    {
      "cell_type": "code",
      "source": [
        "print(12-(5*7+1)) #12-36=-24\n",
        "print(5*(8+(10-6)/2)) #50\n",
        "print(48320-((365-5*9)/16)*987) #48320-(320/16)*987=48320-19740=28580\n",
        "print(((3**4-3*7)%5+4)**2) #16"
      ],
      "metadata": {
        "colab": {
          "base_uri": "https://localhost:8080/"
        },
        "id": "NMfU8Y8lgiWn",
        "outputId": "ea1d5721-ed0b-4f35-9a80-615bdada9667"
      },
      "execution_count": null,
      "outputs": [
        {
          "output_type": "stream",
          "name": "stdout",
          "text": [
            "-24\n",
            "50.0\n",
            "28580.0\n",
            "16\n"
          ]
        }
      ]
    },
    {
      "cell_type": "markdown",
      "source": [
        "5. 변수를 선언하고 다음 수식을 계산해 보자."
      ],
      "metadata": {
        "id": "HMfX_I8Shi6L"
      }
    },
    {
      "cell_type": "code",
      "source": [
        "#변수선언\n",
        "x = 3\n",
        "y = 2\n",
        "z = 7\n",
        "j = 5\n",
        "k = 9\n",
        "\n",
        "print((2*x-1)**2+1) #26\n",
        "print(x**(2*y)*(z+10)) #1377\n",
        "print((j==0)and(0<k)) #False"
      ],
      "metadata": {
        "colab": {
          "base_uri": "https://localhost:8080/"
        },
        "id": "X1WR4O7ihg6g",
        "outputId": "5eb01f70-e7a3-412c-e1af-872c393c19d1"
      },
      "execution_count": null,
      "outputs": [
        {
          "output_type": "stream",
          "name": "stdout",
          "text": [
            "26\n",
            "1377\n",
            "False\n"
          ]
        }
      ]
    },
    {
      "cell_type": "markdown",
      "source": [
        "**-마침-**"
      ],
      "metadata": {
        "id": "nquGRPEfjmnH"
      }
    }
  ]
}