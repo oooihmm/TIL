{
 "cells": [
  {
   "cell_type": "markdown",
   "id": "96449eb7",
   "metadata": {},
   "source": [
    "# 실험설계및분석 중간고사"
   ]
  },
  {
   "cell_type": "markdown",
   "id": "dddb03b4",
   "metadata": {},
   "source": [
    "---\n",
    "---\n",
    "---"
   ]
  },
  {
   "cell_type": "markdown",
   "id": "cfe2bb36",
   "metadata": {},
   "source": [
    "# Session 2 Basic Statistics"
   ]
  },
  {
   "cell_type": "markdown",
   "id": "1ef14a19",
   "metadata": {},
   "source": [
    "## 2-sample t-Test : 2표본 t-검정\n",
    "두 모집단이 서로 독립인 경우 적용"
   ]
  },
  {
   "cell_type": "markdown",
   "id": "80fd34d6",
   "metadata": {},
   "source": [
    "### 1. for Unstacked Data"
   ]
  },
  {
   "cell_type": "code",
   "execution_count": 17,
   "id": "c55de4a9",
   "metadata": {},
   "outputs": [],
   "source": [
    "y1 <- c(16.85,16.40,17.21,16.35,16.52,17.04,16.96,17.15,16.59,16.57)\n",
    "y2 <- c(16.62,16.75,17.37,17.12,16.98,16.87,17.34,17.02,17.08,17.27)"
   ]
  },
  {
   "cell_type": "code",
   "execution_count": 39,
   "id": "431483cc",
   "metadata": {},
   "outputs": [
    {
     "data": {
      "text/html": [
       "<table class=\"dataframe\">\n",
       "<caption>A data.frame: 10 × 2</caption>\n",
       "<thead>\n",
       "\t<tr><th scope=col>Modified</th><th scope=col>Unmodified</th></tr>\n",
       "\t<tr><th scope=col>&lt;dbl&gt;</th><th scope=col>&lt;dbl&gt;</th></tr>\n",
       "</thead>\n",
       "<tbody>\n",
       "\t<tr><td>16.85</td><td>16.62</td></tr>\n",
       "\t<tr><td>16.40</td><td>16.75</td></tr>\n",
       "\t<tr><td>17.21</td><td>17.37</td></tr>\n",
       "\t<tr><td>16.35</td><td>17.12</td></tr>\n",
       "\t<tr><td>16.52</td><td>16.98</td></tr>\n",
       "\t<tr><td>17.04</td><td>16.87</td></tr>\n",
       "\t<tr><td>16.96</td><td>17.34</td></tr>\n",
       "\t<tr><td>17.15</td><td>17.02</td></tr>\n",
       "\t<tr><td>16.59</td><td>17.08</td></tr>\n",
       "\t<tr><td>16.57</td><td>17.27</td></tr>\n",
       "</tbody>\n",
       "</table>\n"
      ],
      "text/latex": [
       "A data.frame: 10 × 2\n",
       "\\begin{tabular}{ll}\n",
       " Modified & Unmodified\\\\\n",
       " <dbl> & <dbl>\\\\\n",
       "\\hline\n",
       "\t 16.85 & 16.62\\\\\n",
       "\t 16.40 & 16.75\\\\\n",
       "\t 17.21 & 17.37\\\\\n",
       "\t 16.35 & 17.12\\\\\n",
       "\t 16.52 & 16.98\\\\\n",
       "\t 17.04 & 16.87\\\\\n",
       "\t 16.96 & 17.34\\\\\n",
       "\t 17.15 & 17.02\\\\\n",
       "\t 16.59 & 17.08\\\\\n",
       "\t 16.57 & 17.27\\\\\n",
       "\\end{tabular}\n"
      ],
      "text/markdown": [
       "\n",
       "A data.frame: 10 × 2\n",
       "\n",
       "| Modified &lt;dbl&gt; | Unmodified &lt;dbl&gt; |\n",
       "|---|---|\n",
       "| 16.85 | 16.62 |\n",
       "| 16.40 | 16.75 |\n",
       "| 17.21 | 17.37 |\n",
       "| 16.35 | 17.12 |\n",
       "| 16.52 | 16.98 |\n",
       "| 17.04 | 16.87 |\n",
       "| 16.96 | 17.34 |\n",
       "| 17.15 | 17.02 |\n",
       "| 16.59 | 17.08 |\n",
       "| 16.57 | 17.27 |\n",
       "\n"
      ],
      "text/plain": [
       "   Modified Unmodified\n",
       "1  16.85    16.62     \n",
       "2  16.40    16.75     \n",
       "3  17.21    17.37     \n",
       "4  16.35    17.12     \n",
       "5  16.52    16.98     \n",
       "6  17.04    16.87     \n",
       "7  16.96    17.34     \n",
       "8  17.15    17.02     \n",
       "9  16.59    17.08     \n",
       "10 16.57    17.27     "
      ]
     },
     "metadata": {},
     "output_type": "display_data"
    }
   ],
   "source": [
    "y.unstacked <- data.frame(Modified=y1,Unmodified=y2) # 데이터프레임 형성\n",
    "y.unstacked"
   ]
  },
  {
   "cell_type": "markdown",
   "id": "853ab1a0",
   "metadata": {},
   "source": [
    "### t.test : t검정\n",
    "\n",
    "**t.test** : 유의수준과 p-value(유의확률)을 이용하여 검정진행 </br>\n",
    "p-value가 유의수준보다 클 경우 귀무가설 채택, 작을 경우 귀무가설 기각\n",
    "\n",
    "본 검정에서 귀무가설은 두 모집단의 평균이 같다이다."
   ]
  },
  {
   "cell_type": "code",
   "execution_count": 44,
   "id": "6509bfbe",
   "metadata": {},
   "outputs": [
    {
     "data": {
      "text/plain": [
       "\n",
       "\tWelch Two Sample t-test\n",
       "\n",
       "data:  y1 and y2\n",
       "t = -2.1869, df = 17.025, p-value = 0.043\n",
       "alternative hypothesis: true difference in means is not equal to 0\n",
       "95 percent confidence interval:\n",
       " -0.546174139 -0.009825861\n",
       "sample estimates:\n",
       "mean of x mean of y \n",
       "   16.764    17.042 \n"
      ]
     },
     "metadata": {},
     "output_type": "display_data"
    }
   ],
   "source": [
    "t.test(y1,y2,alternative = \"two.sided\") \n",
    "\n",
    "# p-value가 유의수준인 0.05보다 작기 때문에 귀무가설을 기각한다\n",
    "# 따라서 두 모집단의 평균이 다르다고 결론내릴 수 있다"
   ]
  },
  {
   "cell_type": "markdown",
   "id": "c0d84067",
   "metadata": {},
   "source": [
    "### shapiro.test : 정규성 검정\n",
    "\n",
    "**shapiro.test** : 잔차(e)가 정규분포를 따르는 지를 검정\n",
    "\n",
    "본 검정에서 귀무가설은 잔차가 정규분포를 따른다이다."
   ]
  },
  {
   "cell_type": "code",
   "execution_count": 45,
   "id": "a675fd60",
   "metadata": {},
   "outputs": [
    {
     "data": {
      "text/plain": [
       "$Modified\n",
       "\n",
       "\tShapiro-Wilk normality test\n",
       "\n",
       "data:  newX[, i]\n",
       "W = 0.91863, p-value = 0.3457\n",
       "\n",
       "\n",
       "$Unmodified\n",
       "\n",
       "\tShapiro-Wilk normality test\n",
       "\n",
       "data:  newX[, i]\n",
       "W = 0.96262, p-value = 0.8153\n",
       "\n"
      ]
     },
     "metadata": {},
     "output_type": "display_data"
    }
   ],
   "source": [
    "apply(y.unstacked,2,shapiro.test) \n",
    "\n",
    "# p-value가 유의수준인 0.05보다 크므로 귀무가설을 채택한다\n",
    "# 따라서 잔차는 정규분포를 따른다고 할 수 있다"
   ]
  },
  {
   "cell_type": "markdown",
   "id": "03d712fc",
   "metadata": {},
   "source": [
    "### var.test : 등분산 검정\n",
    "\n",
    "**var.test** : 두 모집단의 분산이 동일한지를 검정\n",
    "\n",
    "본 검정에서 귀무가설은 두 모집단의 분산이 동일하다이다."
   ]
  },
  {
   "cell_type": "code",
   "execution_count": 43,
   "id": "f8073ca7",
   "metadata": {},
   "outputs": [
    {
     "data": {
      "text/plain": [
       "\n",
       "\tF test to compare two variances\n",
       "\n",
       "data:  y1 and y2\n",
       "F = 1.6293, num df = 9, denom df = 9, p-value = 0.4785\n",
       "alternative hypothesis: true ratio of variances is not equal to 1\n",
       "95 percent confidence interval:\n",
       " 0.4046845 6.5593806\n",
       "sample estimates:\n",
       "ratio of variances \n",
       "          1.629257 \n"
      ]
     },
     "metadata": {},
     "output_type": "display_data"
    }
   ],
   "source": [
    "var.test(y1,y2)\n",
    "\n",
    "# p-value가 유의수준인 0.05보다 크므로 귀무가설을 채택한다\n",
    "# 따라서 두 모집단의 분산은 같다고 할 수 있다"
   ]
  },
  {
   "cell_type": "markdown",
   "id": "0ab51155",
   "metadata": {},
   "source": [
    "---"
   ]
  },
  {
   "cell_type": "markdown",
   "id": "cd7f891f",
   "metadata": {},
   "source": [
    "### 2. for Stacked Data"
   ]
  },
  {
   "cell_type": "code",
   "execution_count": 32,
   "id": "efbfffa0",
   "metadata": {},
   "outputs": [],
   "source": [
    "obs <- c(y1,y2) # 데이터 통합\n",
    "method <- c(rep(\"Modified\",10),rep(\"Unmodified\",10)) # 배합 방법 나열"
   ]
  },
  {
   "cell_type": "code",
   "execution_count": 33,
   "id": "9fbbc983",
   "metadata": {},
   "outputs": [
    {
     "data": {
      "text/html": [
       "<table class=\"dataframe\">\n",
       "<caption>A data.frame: 20 × 2</caption>\n",
       "<thead>\n",
       "\t<tr><th scope=col>method</th><th scope=col>obs</th></tr>\n",
       "\t<tr><th scope=col>&lt;chr&gt;</th><th scope=col>&lt;dbl&gt;</th></tr>\n",
       "</thead>\n",
       "<tbody>\n",
       "\t<tr><td>Modified  </td><td>16.85</td></tr>\n",
       "\t<tr><td>Modified  </td><td>16.40</td></tr>\n",
       "\t<tr><td>Modified  </td><td>17.21</td></tr>\n",
       "\t<tr><td>Modified  </td><td>16.35</td></tr>\n",
       "\t<tr><td>Modified  </td><td>16.52</td></tr>\n",
       "\t<tr><td>Modified  </td><td>17.04</td></tr>\n",
       "\t<tr><td>Modified  </td><td>16.96</td></tr>\n",
       "\t<tr><td>Modified  </td><td>17.15</td></tr>\n",
       "\t<tr><td>Modified  </td><td>16.59</td></tr>\n",
       "\t<tr><td>Modified  </td><td>16.57</td></tr>\n",
       "\t<tr><td>Unmodified</td><td>16.62</td></tr>\n",
       "\t<tr><td>Unmodified</td><td>16.75</td></tr>\n",
       "\t<tr><td>Unmodified</td><td>17.37</td></tr>\n",
       "\t<tr><td>Unmodified</td><td>17.12</td></tr>\n",
       "\t<tr><td>Unmodified</td><td>16.98</td></tr>\n",
       "\t<tr><td>Unmodified</td><td>16.87</td></tr>\n",
       "\t<tr><td>Unmodified</td><td>17.34</td></tr>\n",
       "\t<tr><td>Unmodified</td><td>17.02</td></tr>\n",
       "\t<tr><td>Unmodified</td><td>17.08</td></tr>\n",
       "\t<tr><td>Unmodified</td><td>17.27</td></tr>\n",
       "</tbody>\n",
       "</table>\n"
      ],
      "text/latex": [
       "A data.frame: 20 × 2\n",
       "\\begin{tabular}{ll}\n",
       " method & obs\\\\\n",
       " <chr> & <dbl>\\\\\n",
       "\\hline\n",
       "\t Modified   & 16.85\\\\\n",
       "\t Modified   & 16.40\\\\\n",
       "\t Modified   & 17.21\\\\\n",
       "\t Modified   & 16.35\\\\\n",
       "\t Modified   & 16.52\\\\\n",
       "\t Modified   & 17.04\\\\\n",
       "\t Modified   & 16.96\\\\\n",
       "\t Modified   & 17.15\\\\\n",
       "\t Modified   & 16.59\\\\\n",
       "\t Modified   & 16.57\\\\\n",
       "\t Unmodified & 16.62\\\\\n",
       "\t Unmodified & 16.75\\\\\n",
       "\t Unmodified & 17.37\\\\\n",
       "\t Unmodified & 17.12\\\\\n",
       "\t Unmodified & 16.98\\\\\n",
       "\t Unmodified & 16.87\\\\\n",
       "\t Unmodified & 17.34\\\\\n",
       "\t Unmodified & 17.02\\\\\n",
       "\t Unmodified & 17.08\\\\\n",
       "\t Unmodified & 17.27\\\\\n",
       "\\end{tabular}\n"
      ],
      "text/markdown": [
       "\n",
       "A data.frame: 20 × 2\n",
       "\n",
       "| method &lt;chr&gt; | obs &lt;dbl&gt; |\n",
       "|---|---|\n",
       "| Modified   | 16.85 |\n",
       "| Modified   | 16.40 |\n",
       "| Modified   | 17.21 |\n",
       "| Modified   | 16.35 |\n",
       "| Modified   | 16.52 |\n",
       "| Modified   | 17.04 |\n",
       "| Modified   | 16.96 |\n",
       "| Modified   | 17.15 |\n",
       "| Modified   | 16.59 |\n",
       "| Modified   | 16.57 |\n",
       "| Unmodified | 16.62 |\n",
       "| Unmodified | 16.75 |\n",
       "| Unmodified | 17.37 |\n",
       "| Unmodified | 17.12 |\n",
       "| Unmodified | 16.98 |\n",
       "| Unmodified | 16.87 |\n",
       "| Unmodified | 17.34 |\n",
       "| Unmodified | 17.02 |\n",
       "| Unmodified | 17.08 |\n",
       "| Unmodified | 17.27 |\n",
       "\n"
      ],
      "text/plain": [
       "   method     obs  \n",
       "1  Modified   16.85\n",
       "2  Modified   16.40\n",
       "3  Modified   17.21\n",
       "4  Modified   16.35\n",
       "5  Modified   16.52\n",
       "6  Modified   17.04\n",
       "7  Modified   16.96\n",
       "8  Modified   17.15\n",
       "9  Modified   16.59\n",
       "10 Modified   16.57\n",
       "11 Unmodified 16.62\n",
       "12 Unmodified 16.75\n",
       "13 Unmodified 17.37\n",
       "14 Unmodified 17.12\n",
       "15 Unmodified 16.98\n",
       "16 Unmodified 16.87\n",
       "17 Unmodified 17.34\n",
       "18 Unmodified 17.02\n",
       "19 Unmodified 17.08\n",
       "20 Unmodified 17.27"
      ]
     },
     "metadata": {},
     "output_type": "display_data"
    }
   ],
   "source": [
    "y.stacked <- data.frame(method,obs) # 데이터프레임 형성\n",
    "y.stacked"
   ]
  },
  {
   "cell_type": "markdown",
   "id": "c7a4561e",
   "metadata": {},
   "source": [
    "### t.test : t검정\n",
    "\n",
    "**t.test(종속변수~독립변수)**"
   ]
  },
  {
   "cell_type": "code",
   "execution_count": 47,
   "id": "57789a5f",
   "metadata": {},
   "outputs": [
    {
     "data": {
      "text/plain": [
       "\n",
       "\tWelch Two Sample t-test\n",
       "\n",
       "data:  obs by method\n",
       "t = -2.1869, df = 17.025, p-value = 0.043\n",
       "alternative hypothesis: true difference in means between group Modified and group Unmodified is not equal to 0\n",
       "95 percent confidence interval:\n",
       " -0.546174139 -0.009825861\n",
       "sample estimates:\n",
       "  mean in group Modified mean in group Unmodified \n",
       "                  16.764                   17.042 \n"
      ]
     },
     "metadata": {},
     "output_type": "display_data"
    }
   ],
   "source": [
    "t.test(obs~method,alternative = \"two.sided\") \n",
    "\n",
    "# p-value가 유의수준인 0.05보다 작으므로 귀무가설을 기각한다\n",
    "# 따라서 두 모집단의 평균은 다르다고 결론지을 수 있다"
   ]
  },
  {
   "cell_type": "markdown",
   "id": "245bf38d",
   "metadata": {},
   "source": [
    "### shapiro.test : 정규성 검정"
   ]
  },
  {
   "cell_type": "code",
   "execution_count": 48,
   "id": "c47c602f",
   "metadata": {},
   "outputs": [
    {
     "data": {
      "text/plain": [
       "method: Modified\n",
       "\n",
       "\tShapiro-Wilk normality test\n",
       "\n",
       "data:  dd[x, ]\n",
       "W = 0.91863, p-value = 0.3457\n",
       "\n",
       "------------------------------------------------------------ \n",
       "method: Unmodified\n",
       "\n",
       "\tShapiro-Wilk normality test\n",
       "\n",
       "data:  dd[x, ]\n",
       "W = 0.96262, p-value = 0.8153\n"
      ]
     },
     "metadata": {},
     "output_type": "display_data"
    }
   ],
   "source": [
    "with(y.stacked,by(obs,method,shapiro.test))\n",
    "\n",
    "# p-value가 유의수준인 0.05보다 크므로 귀무가설을 채택한다\n",
    "# 따라서 잔차는 정규분포를 따른다고 할 수 있다"
   ]
  },
  {
   "cell_type": "markdown",
   "id": "fd0b8e5f",
   "metadata": {},
   "source": [
    "### var.test : 등분산 검정"
   ]
  },
  {
   "cell_type": "code",
   "execution_count": 50,
   "id": "eab060e6",
   "metadata": {},
   "outputs": [
    {
     "data": {
      "text/plain": [
       "\n",
       "\tF test to compare two variances\n",
       "\n",
       "data:  obs by method\n",
       "F = 1.6293, num df = 9, denom df = 9, p-value = 0.4785\n",
       "alternative hypothesis: true ratio of variances is not equal to 1\n",
       "95 percent confidence interval:\n",
       " 0.4046845 6.5593806\n",
       "sample estimates:\n",
       "ratio of variances \n",
       "          1.629257 \n"
      ]
     },
     "metadata": {},
     "output_type": "display_data"
    }
   ],
   "source": [
    "with(y.stacked,var.test(obs~method))\n",
    "\n",
    "# p-value기 유의수준인 0.05보다 크므로 귀무가설을 채택한다\n",
    "# 따라서 두 모집단의 분산은 같다고 할 수 있다"
   ]
  },
  {
   "cell_type": "markdown",
   "id": "c1a1f899",
   "metadata": {},
   "source": [
    "---\n",
    "---"
   ]
  },
  {
   "cell_type": "markdown",
   "id": "783e4de3",
   "metadata": {},
   "source": [
    "## 2표본 t-검정의 검정력과 표본 크기의 결정\n",
    "\n",
    "**power.t.test**를 이용 </br>\n",
    "어떤 인자를 null값으로 놓느냐에 따라 원하는 결과를 도출할 수 있음"
   ]
  },
  {
   "cell_type": "markdown",
   "id": "1f087574",
   "metadata": {},
   "source": [
    "### `power = NULL` : 검정력 계산"
   ]
  },
  {
   "cell_type": "code",
   "execution_count": 52,
   "id": "31778f99",
   "metadata": {},
   "outputs": [
    {
     "data": {
      "text/plain": [
       "\n",
       "     Two-sample t test power calculation \n",
       "\n",
       "              n = 10\n",
       "          delta = 0.25\n",
       "             sd = 0.25\n",
       "      sig.level = 0.05\n",
       "          power = 0.5619846\n",
       "    alternative = two.sided\n",
       "\n",
       "NOTE: n is number in *each* group\n"
      ]
     },
     "metadata": {},
     "output_type": "display_data"
    }
   ],
   "source": [
    "power.t.test(n = 10,sd = 0.25, delta = 0.25, power = NULL,\n",
    "             sig.level = 0.05, type = \"two.sample\")"
   ]
  },
  {
   "cell_type": "markdown",
   "id": "b77f9880",
   "metadata": {},
   "source": [
    "### `n = NULL` : 표본 크기 결정"
   ]
  },
  {
   "cell_type": "code",
   "execution_count": 53,
   "id": "2ef7d7e2",
   "metadata": {},
   "outputs": [
    {
     "data": {
      "text/plain": [
       "\n",
       "     Two-sample t test power calculation \n",
       "\n",
       "              n = 14.90298\n",
       "          delta = 0.25\n",
       "             sd = 0.25\n",
       "      sig.level = 0.05\n",
       "          power = 0.75\n",
       "    alternative = two.sided\n",
       "\n",
       "NOTE: n is number in *each* group\n"
      ]
     },
     "metadata": {},
     "output_type": "display_data"
    }
   ],
   "source": [
    "power.t.test(n = NULL, delta = 0.25, sd = 0.25, power = 0.75,\n",
    "             sig.level = 0.05, type = \"two.sample\")"
   ]
  },
  {
   "cell_type": "markdown",
   "id": "0c3a216e",
   "metadata": {},
   "source": [
    "### `sig.level = NULL` : 유의수준 결정"
   ]
  },
  {
   "cell_type": "code",
   "execution_count": 54,
   "id": "31e4b108",
   "metadata": {},
   "outputs": [
    {
     "data": {
      "text/plain": [
       "\n",
       "     Two-sample t test power calculation \n",
       "\n",
       "              n = 10\n",
       "          delta = 0.25\n",
       "             sd = 0.25\n",
       "      sig.level = 0.1358967\n",
       "          power = 0.75\n",
       "    alternative = two.sided\n",
       "\n",
       "NOTE: n is number in *each* group\n"
      ]
     },
     "metadata": {},
     "output_type": "display_data"
    }
   ],
   "source": [
    "power.t.test(n = 10, delta = 0.25, sd = 0.25, power = 0.75,\n",
    "             sig.level = NULL, type = \"two.sample\")"
   ]
  },
  {
   "cell_type": "markdown",
   "id": "a19685d2",
   "metadata": {},
   "source": [
    "### `delta = NULL` : 두 모집단의 평균 차이 계산"
   ]
  },
  {
   "cell_type": "code",
   "execution_count": 55,
   "id": "1c140fdf",
   "metadata": {},
   "outputs": [
    {
     "data": {
      "text/plain": [
       "\n",
       "     Two-sample t test power calculation \n",
       "\n",
       "              n = 10\n",
       "          delta = 0.3114235\n",
       "             sd = 0.25\n",
       "      sig.level = 0.05\n",
       "          power = 0.75\n",
       "    alternative = two.sided\n",
       "\n",
       "NOTE: n is number in *each* group\n"
      ]
     },
     "metadata": {},
     "output_type": "display_data"
    }
   ],
   "source": [
    "power.t.test(n = 10, delta = NULL, sd = 0.25, power = 0.75,\n",
    "             sig.level = 0.05, type = \"two.sample\")"
   ]
  },
  {
   "cell_type": "markdown",
   "id": "12b839db",
   "metadata": {},
   "source": [
    "---\n",
    "---"
   ]
  },
  {
   "cell_type": "markdown",
   "id": "fe453f1f",
   "metadata": {},
   "source": [
    "## Paired t-test : 쌍체비교 t-검정\n",
    "두 모집단이 서로 독립이 아닌 경우 사용"
   ]
  },
  {
   "cell_type": "markdown",
   "id": "d574bdcc",
   "metadata": {},
   "source": [
    "### 1. for Unstacked Data"
   ]
  },
  {
   "cell_type": "code",
   "execution_count": 56,
   "id": "63959902",
   "metadata": {},
   "outputs": [
    {
     "data": {
      "text/plain": [
       "\n",
       "\tPaired t-test\n",
       "\n",
       "data:  tip1 and tip2\n",
       "t = -0.26414, df = 9, p-value = 0.7976\n",
       "alternative hypothesis: true mean difference is not equal to 0\n",
       "95 percent confidence interval:\n",
       " -0.9564389  0.7564389\n",
       "sample estimates:\n",
       "mean difference \n",
       "           -0.1 \n"
      ]
     },
     "metadata": {},
     "output_type": "display_data"
    }
   ],
   "source": [
    "tip1 <- c(7,3,3,4,8,3,2,9,5,4)\n",
    "tip2 <- c(6,3,5,3,8,2,4,9,4,5)\n",
    "t.test(tip1,tip2,alternative = \"two.sided\",mu = 0,paired = TRUE,\n",
    "       conf.level = 0.95)\n",
    "\n",
    "# p-value가 유의수준 0.05보다 크므로 귀무가설을 채택한다\n",
    "# 따라서 두 모집단의 평균이 같다고 볼 수 있다"
   ]
  },
  {
   "cell_type": "markdown",
   "id": "3b0b40da",
   "metadata": {},
   "source": [
    "### 2. for Stacked Data"
   ]
  },
  {
   "cell_type": "code",
   "execution_count": 58,
   "id": "ab6e79c9",
   "metadata": {},
   "outputs": [
    {
     "data": {
      "text/plain": [
       "\n",
       "\tPaired t-test\n",
       "\n",
       "data:  hardness by tip\n",
       "t = -0.26414, df = 9, p-value = 0.7976\n",
       "alternative hypothesis: true mean difference is not equal to 0\n",
       "95 percent confidence interval:\n",
       " -0.9564389  0.7564389\n",
       "sample estimates:\n",
       "mean difference \n",
       "           -0.1 \n"
      ]
     },
     "metadata": {},
     "output_type": "display_data"
    }
   ],
   "source": [
    "paired <- data.frame(\n",
    "  tip = as.factor(rep(c(1,2),c(10,10))),\n",
    "  hardness = c(tip1,tip2)\n",
    ")\n",
    "t.test(hardness~tip,alternative = \"two.sided\",mu = 0,paired=TRUE,\n",
    "       conf.level = 0.95,data=paired)\n",
    "\n",
    "# p-value가 유의수준 0.05보다 크므로 귀무가설을 채택한다\n",
    "# 따라서 두 모집단의 평균이 같다고 볼 수 있다"
   ]
  },
  {
   "cell_type": "markdown",
   "id": "f13ab32b",
   "metadata": {},
   "source": [
    "---\n",
    "---"
   ]
  },
  {
   "cell_type": "markdown",
   "id": "2719e39c",
   "metadata": {},
   "source": [
    "## Example"
   ]
  },
  {
   "cell_type": "markdown",
   "id": "74abd9c5",
   "metadata": {},
   "source": [
    "### Example 2.30"
   ]
  },
  {
   "cell_type": "code",
   "execution_count": 59,
   "id": "f5a49977",
   "metadata": {},
   "outputs": [
    {
     "data": {
      "text/plain": [
       " formulation  temperature   \n",
       " 1:12        Min.   :176.0  \n",
       " 2:12        1st Qu.:187.8  \n",
       "             Median :193.5  \n",
       "             Mean   :193.8  \n",
       "             3rd Qu.:201.5  \n",
       "             Max.   :210.0  "
      ]
     },
     "metadata": {},
     "output_type": "display_data"
    }
   ],
   "source": [
    "f1 <- c(206,193,192,188,207,210,205,185,194,187,189,178)\n",
    "f2 <- c(177,176,198,197,185,188,206,200,189,201,197,203)\n",
    "response <- data.frame(\n",
    "  formulation=as.factor(rep(1:2,each=12)),\n",
    "  temperature=c(f1,f2)\n",
    "  )\n",
    "summary(response)"
   ]
  },
  {
   "cell_type": "code",
   "execution_count": 66,
   "id": "0d48b54f",
   "metadata": {},
   "outputs": [
    {
     "data": {
      "text/plain": [
       "\n",
       "\tWelch Two Sample t-test\n",
       "\n",
       "data:  temperature by formulation\n",
       "t = 0.34483, df = 21.989, p-value = 0.7335\n",
       "alternative hypothesis: true difference in means between group 1 and group 2 is not equal to 0\n",
       "95 percent confidence interval:\n",
       " -7.103683  9.937016\n",
       "sample estimates:\n",
       "mean in group 1 mean in group 2 \n",
       "       194.5000        193.0833 \n"
      ]
     },
     "metadata": {},
     "output_type": "display_data"
    }
   ],
   "source": [
    "t.test(temperature~formulation, data = response)\n",
    "\n",
    "# t검정 결과 p-value가 유의수준 0.05보다 크므로 귀무가설을 채택한다\n",
    "# 따라서 두 모집단의 평균이 서로 같다고 할 수 있다"
   ]
  },
  {
   "cell_type": "code",
   "execution_count": 63,
   "id": "359d4026",
   "metadata": {},
   "outputs": [
    {
     "data": {
      "text/plain": [
       "formulation: 1\n",
       "\n",
       "\tShapiro-Wilk normality test\n",
       "\n",
       "data:  dd[x, ]\n",
       "W = 0.92643, p-value = 0.3438\n",
       "\n",
       "------------------------------------------------------------ \n",
       "formulation: 2\n",
       "\n",
       "\tShapiro-Wilk normality test\n",
       "\n",
       "data:  dd[x, ]\n",
       "W = 0.91474, p-value = 0.2453\n"
      ]
     },
     "metadata": {},
     "output_type": "display_data"
    }
   ],
   "source": [
    "with(response,by(temperature,formulation,shapiro.test))\n",
    "\n",
    "# 정규성 검정 결과 p-value가 유의수준 0.05보다 크므로 귀무가설을 채택한다\n",
    "# 따라서 잔차가 정규분포를 따른다고 할 수 있다"
   ]
  },
  {
   "cell_type": "code",
   "execution_count": 64,
   "id": "a16d003e",
   "metadata": {},
   "outputs": [
    {
     "data": {
      "text/plain": [
       "\n",
       "\tF test to compare two variances\n",
       "\n",
       "data:  temperature by formulation\n",
       "F = 1.046, num df = 11, denom df = 11, p-value = 0.9419\n",
       "alternative hypothesis: true ratio of variances is not equal to 1\n",
       "95 percent confidence interval:\n",
       " 0.3011181 3.6334674\n",
       "sample estimates:\n",
       "ratio of variances \n",
       "          1.045994 \n"
      ]
     },
     "metadata": {},
     "output_type": "display_data"
    }
   ],
   "source": [
    "with(response,var.test(temperature~formulation))\n",
    "\n",
    "# 등분산 검정 결과 p-value가 유의수준 0.05보다 크므로 귀무가설을 채택한다\n",
    "# 따라서 두 모집단의 분산이 같다고 볼 수 있다"
   ]
  },
  {
   "cell_type": "markdown",
   "id": "2423aca0",
   "metadata": {},
   "source": [
    "---"
   ]
  },
  {
   "cell_type": "markdown",
   "id": "a8743d86",
   "metadata": {},
   "source": [
    "### Exercise 2.31"
   ]
  },
  {
   "cell_type": "code",
   "execution_count": 68,
   "id": "7c90a9f9",
   "metadata": {},
   "outputs": [
    {
     "data": {
      "text/plain": [
       "\n",
       "\tWelch Two Sample t-test\n",
       "\n",
       "data:  temperature by formulation\n",
       "t = -0.3854, df = 21.989, p-value = 0.6482\n",
       "alternative hypothesis: true difference in means between group 1 and group 2 is greater than 3\n",
       "95 percent confidence interval:\n",
       " -5.63804      Inf\n",
       "sample estimates:\n",
       "mean in group 1 mean in group 2 \n",
       "       194.5000        193.0833 \n"
      ]
     },
     "metadata": {},
     "output_type": "display_data"
    }
   ],
   "source": [
    "t.test(temperature~formulation, alternative = \"greater\", mu = 3, \n",
    "       paired = FALSE, data = response)\n",
    "\n",
    "# 위 검정에서 대립가설은 두 모집단의 평균 차이가 3보다 크다이다\n",
    "# t검정 결과 p-value가 유의수준 0.05보다 크므로 귀무가설을 채택한다\n",
    "# 따라서 두 모집단의 평균 차이가 3보다 크다고 할 수 없다"
   ]
  },
  {
   "cell_type": "code",
   "execution_count": 69,
   "id": "53153647",
   "metadata": {},
   "outputs": [
    {
     "data": {
      "text/plain": [
       "\n",
       "\tWelch Two Sample t-test\n",
       "\n",
       "data:  f1 and f2\n",
       "t = -0.3854, df = 21.989, p-value = 0.6482\n",
       "alternative hypothesis: true difference in means is greater than 3\n",
       "95 percent confidence interval:\n",
       " -5.63804      Inf\n",
       "sample estimates:\n",
       "mean of x mean of y \n",
       " 194.5000  193.0833 \n"
      ]
     },
     "metadata": {},
     "output_type": "display_data"
    }
   ],
   "source": [
    "t.test(f1,f2,alternative = \"greater\",mu = 3,paired = FALSE,\n",
    "       conf.level = 0.95)"
   ]
  },
  {
   "cell_type": "markdown",
   "id": "86a43330",
   "metadata": {},
   "source": [
    "---\n",
    "---\n",
    "---"
   ]
  },
  {
   "cell_type": "markdown",
   "id": "03da62b0",
   "metadata": {},
   "source": [
    "# Session 3 ANOVA\n",
    "분산 분석"
   ]
  },
  {
   "cell_type": "markdown",
   "id": "86cb8c30",
   "metadata": {},
   "source": [
    "분산 분석시 사용할 라이브러리 불러오기"
   ]
  },
  {
   "cell_type": "code",
   "execution_count": 1,
   "id": "9b2253c5",
   "metadata": {},
   "outputs": [
    {
     "name": "stderr",
     "output_type": "stream",
     "text": [
      "\n",
      "다음의 패키지를 부착합니다: ‘dplyr’\n",
      "\n",
      "\n",
      "The following objects are masked from ‘package:stats’:\n",
      "\n",
      "    filter, lag\n",
      "\n",
      "\n",
      "The following objects are masked from ‘package:base’:\n",
      "\n",
      "    intersect, setdiff, setequal, union\n",
      "\n",
      "\n"
     ]
    }
   ],
   "source": [
    "library(dplyr)"
   ]
  },
  {
   "cell_type": "markdown",
   "id": "4e0e5e95",
   "metadata": {},
   "source": [
    "## ANOVA 분산분석\n",
    "\n",
    "귀무가설 : 모든 모집단(처리수준)간의 평균이 동일하다 </br>\n",
    "연구가설 : 적어도 한 집단은 평균이 다르다"
   ]
  },
  {
   "cell_type": "code",
   "execution_count": 5,
   "id": "724de4cf",
   "metadata": {},
   "outputs": [],
   "source": [
    "y1 <- c(575,542,530,539,570); y2 <- c(565,593,590,579,610); \n",
    "y3 <- c(600,651,610,637,629); y4 <- c(725,700,715,685,710)\n",
    "anova.data <- data.frame(\n",
    "  power = as.factor(rep(c(160,180,200,220),each=5)),\n",
    "  rate = c(y1,y2,y3,y4) \n",
    ")"
   ]
  },
  {
   "cell_type": "code",
   "execution_count": 6,
   "id": "7085e0c4",
   "metadata": {},
   "outputs": [
    {
     "data": {
      "text/html": [
       "<table class=\"dataframe\">\n",
       "<caption>A data.frame: 20 × 2</caption>\n",
       "<thead>\n",
       "\t<tr><th scope=col>power</th><th scope=col>rate</th></tr>\n",
       "\t<tr><th scope=col>&lt;fct&gt;</th><th scope=col>&lt;dbl&gt;</th></tr>\n",
       "</thead>\n",
       "<tbody>\n",
       "\t<tr><td>160</td><td>575</td></tr>\n",
       "\t<tr><td>160</td><td>542</td></tr>\n",
       "\t<tr><td>160</td><td>530</td></tr>\n",
       "\t<tr><td>160</td><td>539</td></tr>\n",
       "\t<tr><td>160</td><td>570</td></tr>\n",
       "\t<tr><td>180</td><td>565</td></tr>\n",
       "\t<tr><td>180</td><td>593</td></tr>\n",
       "\t<tr><td>180</td><td>590</td></tr>\n",
       "\t<tr><td>180</td><td>579</td></tr>\n",
       "\t<tr><td>180</td><td>610</td></tr>\n",
       "\t<tr><td>200</td><td>600</td></tr>\n",
       "\t<tr><td>200</td><td>651</td></tr>\n",
       "\t<tr><td>200</td><td>610</td></tr>\n",
       "\t<tr><td>200</td><td>637</td></tr>\n",
       "\t<tr><td>200</td><td>629</td></tr>\n",
       "\t<tr><td>220</td><td>725</td></tr>\n",
       "\t<tr><td>220</td><td>700</td></tr>\n",
       "\t<tr><td>220</td><td>715</td></tr>\n",
       "\t<tr><td>220</td><td>685</td></tr>\n",
       "\t<tr><td>220</td><td>710</td></tr>\n",
       "</tbody>\n",
       "</table>\n"
      ],
      "text/latex": [
       "A data.frame: 20 × 2\n",
       "\\begin{tabular}{ll}\n",
       " power & rate\\\\\n",
       " <fct> & <dbl>\\\\\n",
       "\\hline\n",
       "\t 160 & 575\\\\\n",
       "\t 160 & 542\\\\\n",
       "\t 160 & 530\\\\\n",
       "\t 160 & 539\\\\\n",
       "\t 160 & 570\\\\\n",
       "\t 180 & 565\\\\\n",
       "\t 180 & 593\\\\\n",
       "\t 180 & 590\\\\\n",
       "\t 180 & 579\\\\\n",
       "\t 180 & 610\\\\\n",
       "\t 200 & 600\\\\\n",
       "\t 200 & 651\\\\\n",
       "\t 200 & 610\\\\\n",
       "\t 200 & 637\\\\\n",
       "\t 200 & 629\\\\\n",
       "\t 220 & 725\\\\\n",
       "\t 220 & 700\\\\\n",
       "\t 220 & 715\\\\\n",
       "\t 220 & 685\\\\\n",
       "\t 220 & 710\\\\\n",
       "\\end{tabular}\n"
      ],
      "text/markdown": [
       "\n",
       "A data.frame: 20 × 2\n",
       "\n",
       "| power &lt;fct&gt; | rate &lt;dbl&gt; |\n",
       "|---|---|\n",
       "| 160 | 575 |\n",
       "| 160 | 542 |\n",
       "| 160 | 530 |\n",
       "| 160 | 539 |\n",
       "| 160 | 570 |\n",
       "| 180 | 565 |\n",
       "| 180 | 593 |\n",
       "| 180 | 590 |\n",
       "| 180 | 579 |\n",
       "| 180 | 610 |\n",
       "| 200 | 600 |\n",
       "| 200 | 651 |\n",
       "| 200 | 610 |\n",
       "| 200 | 637 |\n",
       "| 200 | 629 |\n",
       "| 220 | 725 |\n",
       "| 220 | 700 |\n",
       "| 220 | 715 |\n",
       "| 220 | 685 |\n",
       "| 220 | 710 |\n",
       "\n"
      ],
      "text/plain": [
       "   power rate\n",
       "1  160   575 \n",
       "2  160   542 \n",
       "3  160   530 \n",
       "4  160   539 \n",
       "5  160   570 \n",
       "6  180   565 \n",
       "7  180   593 \n",
       "8  180   590 \n",
       "9  180   579 \n",
       "10 180   610 \n",
       "11 200   600 \n",
       "12 200   651 \n",
       "13 200   610 \n",
       "14 200   637 \n",
       "15 200   629 \n",
       "16 220   725 \n",
       "17 220   700 \n",
       "18 220   715 \n",
       "19 220   685 \n",
       "20 220   710 "
      ]
     },
     "metadata": {},
     "output_type": "display_data"
    }
   ],
   "source": [
    "anova.data"
   ]
  },
  {
   "cell_type": "markdown",
   "id": "b7364a99",
   "metadata": {},
   "source": [
    "### aov(종속변수~독립변수) : ANOVA 분석"
   ]
  },
  {
   "cell_type": "code",
   "execution_count": 21,
   "id": "1c563b57",
   "metadata": {},
   "outputs": [
    {
     "data": {
      "text/html": [
       "<table class=\"dataframe\">\n",
       "<caption>A anova: 2 × 5</caption>\n",
       "<thead>\n",
       "\t<tr><th></th><th scope=col>Df</th><th scope=col>Sum Sq</th><th scope=col>Mean Sq</th><th scope=col>F value</th><th scope=col>Pr(&gt;F)</th></tr>\n",
       "\t<tr><th></th><th scope=col>&lt;int&gt;</th><th scope=col>&lt;dbl&gt;</th><th scope=col>&lt;dbl&gt;</th><th scope=col>&lt;dbl&gt;</th><th scope=col>&lt;dbl&gt;</th></tr>\n",
       "</thead>\n",
       "<tbody>\n",
       "\t<tr><th scope=row>power</th><td> 3</td><td>66870.55</td><td>22290.18</td><td>66.79707</td><td>2.882866e-09</td></tr>\n",
       "\t<tr><th scope=row>Residuals</th><td>16</td><td> 5339.20</td><td>  333.70</td><td>      NA</td><td>          NA</td></tr>\n",
       "</tbody>\n",
       "</table>\n"
      ],
      "text/latex": [
       "A anova: 2 × 5\n",
       "\\begin{tabular}{r|lllll}\n",
       "  & Df & Sum Sq & Mean Sq & F value & Pr(>F)\\\\\n",
       "  & <int> & <dbl> & <dbl> & <dbl> & <dbl>\\\\\n",
       "\\hline\n",
       "\tpower &  3 & 66870.55 & 22290.18 & 66.79707 & 2.882866e-09\\\\\n",
       "\tResiduals & 16 &  5339.20 &   333.70 &       NA &           NA\\\\\n",
       "\\end{tabular}\n"
      ],
      "text/markdown": [
       "\n",
       "A anova: 2 × 5\n",
       "\n",
       "| <!--/--> | Df &lt;int&gt; | Sum Sq &lt;dbl&gt; | Mean Sq &lt;dbl&gt; | F value &lt;dbl&gt; | Pr(&gt;F) &lt;dbl&gt; |\n",
       "|---|---|---|---|---|---|\n",
       "| power |  3 | 66870.55 | 22290.18 | 66.79707 | 2.882866e-09 |\n",
       "| Residuals | 16 |  5339.20 |   333.70 |       NA |           NA |\n",
       "\n"
      ],
      "text/plain": [
       "          Df Sum Sq   Mean Sq  F value  Pr(>F)      \n",
       "power      3 66870.55 22290.18 66.79707 2.882866e-09\n",
       "Residuals 16  5339.20   333.70       NA           NA"
      ]
     },
     "metadata": {},
     "output_type": "display_data"
    }
   ],
   "source": [
    "results.aov <- aov(rate~power,data = anova.data);\n",
    "anova(results.aov); \n",
    "\n",
    "# 아노바 분석 결과 p-value가 유의수준보다 작으므로 귀무가설을 기각한다\n",
    "# 따라도 적어도 하나의 집단은 다른 집단과 평균이 다르다"
   ]
  },
  {
   "cell_type": "markdown",
   "id": "4f53b416",
   "metadata": {},
   "source": [
    "### lm(종속변수~독립변수) : 회귀 분석"
   ]
  },
  {
   "cell_type": "code",
   "execution_count": 9,
   "id": "7b9b811d",
   "metadata": {},
   "outputs": [],
   "source": [
    "results.lm <- lm(rate~as.numeric(as.character(power)),data = anova.data); "
   ]
  },
  {
   "cell_type": "code",
   "execution_count": 10,
   "id": "c63cbf9c",
   "metadata": {},
   "outputs": [
    {
     "data": {
      "text/plain": [
       "\n",
       "Call:\n",
       "lm(formula = rate ~ as.numeric(as.character(power)), data = anova.data)\n",
       "\n",
       "Residuals:\n",
       "   Min     1Q Median     3Q    Max \n",
       "-43.02 -12.32  -1.21  16.71  33.06 \n",
       "\n",
       "Coefficients:\n",
       "                                Estimate Std. Error t value Pr(>|t|)    \n",
       "(Intercept)                     137.6200    41.2108   3.339  0.00365 ** \n",
       "as.numeric(as.character(power))   2.5270     0.2154  11.731 7.26e-10 ***\n",
       "---\n",
       "Signif. codes:  0 ‘***’ 0.001 ‘**’ 0.01 ‘*’ 0.05 ‘.’ 0.1 ‘ ’ 1\n",
       "\n",
       "Residual standard error: 21.54 on 18 degrees of freedom\n",
       "Multiple R-squared:  0.8843,\tAdjusted R-squared:  0.8779 \n",
       "F-statistic: 137.6 on 1 and 18 DF,  p-value: 7.263e-10\n"
      ]
     },
     "metadata": {},
     "output_type": "display_data"
    }
   ],
   "source": [
    "summary(results.lm);"
   ]
  },
  {
   "cell_type": "code",
   "execution_count": 11,
   "id": "17b24e35",
   "metadata": {},
   "outputs": [
    {
     "data": {
      "text/html": [
       "<table class=\"dataframe\">\n",
       "<caption>A anova: 2 × 5</caption>\n",
       "<thead>\n",
       "\t<tr><th></th><th scope=col>Df</th><th scope=col>Sum Sq</th><th scope=col>Mean Sq</th><th scope=col>F value</th><th scope=col>Pr(&gt;F)</th></tr>\n",
       "\t<tr><th></th><th scope=col>&lt;int&gt;</th><th scope=col>&lt;dbl&gt;</th><th scope=col>&lt;dbl&gt;</th><th scope=col>&lt;dbl&gt;</th><th scope=col>&lt;dbl&gt;</th></tr>\n",
       "</thead>\n",
       "<tbody>\n",
       "\t<tr><th scope=row>as.numeric(as.character(power))</th><td> 1</td><td>63857.29</td><td>63857.2900</td><td>137.6159</td><td>7.263314e-10</td></tr>\n",
       "\t<tr><th scope=row>Residuals</th><td>18</td><td> 8352.46</td><td>  464.0256</td><td>      NA</td><td>          NA</td></tr>\n",
       "</tbody>\n",
       "</table>\n"
      ],
      "text/latex": [
       "A anova: 2 × 5\n",
       "\\begin{tabular}{r|lllll}\n",
       "  & Df & Sum Sq & Mean Sq & F value & Pr(>F)\\\\\n",
       "  & <int> & <dbl> & <dbl> & <dbl> & <dbl>\\\\\n",
       "\\hline\n",
       "\tas.numeric(as.character(power)) &  1 & 63857.29 & 63857.2900 & 137.6159 & 7.263314e-10\\\\\n",
       "\tResiduals & 18 &  8352.46 &   464.0256 &       NA &           NA\\\\\n",
       "\\end{tabular}\n"
      ],
      "text/markdown": [
       "\n",
       "A anova: 2 × 5\n",
       "\n",
       "| <!--/--> | Df &lt;int&gt; | Sum Sq &lt;dbl&gt; | Mean Sq &lt;dbl&gt; | F value &lt;dbl&gt; | Pr(&gt;F) &lt;dbl&gt; |\n",
       "|---|---|---|---|---|---|\n",
       "| as.numeric(as.character(power)) |  1 | 63857.29 | 63857.2900 | 137.6159 | 7.263314e-10 |\n",
       "| Residuals | 18 |  8352.46 |   464.0256 |       NA |           NA |\n",
       "\n"
      ],
      "text/plain": [
       "                                Df Sum Sq   Mean Sq    F value  Pr(>F)      \n",
       "as.numeric(as.character(power))  1 63857.29 63857.2900 137.6159 7.263314e-10\n",
       "Residuals                       18  8352.46   464.0256       NA           NA"
      ]
     },
     "metadata": {},
     "output_type": "display_data"
    }
   ],
   "source": [
    "anova(results.lm)"
   ]
  },
  {
   "cell_type": "markdown",
   "id": "052af8b9",
   "metadata": {},
   "source": [
    "---"
   ]
  },
  {
   "cell_type": "markdown",
   "id": "50fcf572",
   "metadata": {},
   "source": [
    "## 모델 적합성 분석"
   ]
  },
  {
   "cell_type": "code",
   "execution_count": 16,
   "id": "05aa85fc",
   "metadata": {},
   "outputs": [
    {
     "data": {
      "text/html": [
       "<style>\n",
       ".dl-inline {width: auto; margin:0; padding: 0}\n",
       ".dl-inline>dt, .dl-inline>dd {float: none; width: auto; display: inline-block}\n",
       ".dl-inline>dt::after {content: \":\\0020\"; padding-right: .5ex}\n",
       ".dl-inline>dt:not(:first-of-type) {padding-left: .5ex}\n",
       "</style><dl class=dl-inline><dt>1</dt><dd>23.8</dd><dt>2</dt><dd>-9.19999999999998</dd><dt>3</dt><dd>-21.2000000000001</dd><dt>4</dt><dd>-12.2</dd><dt>5</dt><dd>18.8</dd><dt>6</dt><dd>-22.4</dd><dt>7</dt><dd>5.6</dd><dt>8</dt><dd>2.6</dd><dt>9</dt><dd>-8.4</dd><dt>10</dt><dd>22.6</dd><dt>11</dt><dd>-25.4</dd><dt>12</dt><dd>25.6</dd><dt>13</dt><dd>-15.4</dd><dt>14</dt><dd>11.6</dd><dt>15</dt><dd>3.60000000000001</dd><dt>16</dt><dd>18</dd><dt>17</dt><dd>-7</dd><dt>18</dt><dd>8</dd><dt>19</dt><dd>-22</dd><dt>20</dt><dd>3</dd></dl>\n"
      ],
      "text/latex": [
       "\\begin{description*}\n",
       "\\item[1] 23.8\n",
       "\\item[2] -9.19999999999998\n",
       "\\item[3] -21.2000000000001\n",
       "\\item[4] -12.2\n",
       "\\item[5] 18.8\n",
       "\\item[6] -22.4\n",
       "\\item[7] 5.6\n",
       "\\item[8] 2.6\n",
       "\\item[9] -8.4\n",
       "\\item[10] 22.6\n",
       "\\item[11] -25.4\n",
       "\\item[12] 25.6\n",
       "\\item[13] -15.4\n",
       "\\item[14] 11.6\n",
       "\\item[15] 3.60000000000001\n",
       "\\item[16] 18\n",
       "\\item[17] -7\n",
       "\\item[18] 8\n",
       "\\item[19] -22\n",
       "\\item[20] 3\n",
       "\\end{description*}\n"
      ],
      "text/markdown": [
       "1\n",
       ":   23.82\n",
       ":   -9.199999999999983\n",
       ":   -21.20000000000014\n",
       ":   -12.25\n",
       ":   18.86\n",
       ":   -22.47\n",
       ":   5.68\n",
       ":   2.69\n",
       ":   -8.410\n",
       ":   22.611\n",
       ":   -25.412\n",
       ":   25.613\n",
       ":   -15.414\n",
       ":   11.615\n",
       ":   3.6000000000000116\n",
       ":   1817\n",
       ":   -718\n",
       ":   819\n",
       ":   -2220\n",
       ":   3\n",
       "\n"
      ],
      "text/plain": [
       "    1     2     3     4     5     6     7     8     9    10    11    12    13 \n",
       " 23.8  -9.2 -21.2 -12.2  18.8 -22.4   5.6   2.6  -8.4  22.6 -25.4  25.6 -15.4 \n",
       "   14    15    16    17    18    19    20 \n",
       " 11.6   3.6  18.0  -7.0   8.0 -22.0   3.0 "
      ]
     },
     "metadata": {},
     "output_type": "display_data"
    }
   ],
   "source": [
    "residue.aov <- residuals(results.aov)\n",
    "residue.aov # 잔차 계산"
   ]
  },
  {
   "cell_type": "markdown",
   "id": "db918a39",
   "metadata": {},
   "source": [
    "### shapiro.test : 정규성 검정"
   ]
  },
  {
   "cell_type": "code",
   "execution_count": 17,
   "id": "24f87d4d",
   "metadata": {},
   "outputs": [
    {
     "data": {
      "text/plain": [
       "\n",
       "\tShapiro-Wilk normality test\n",
       "\n",
       "data:  residue.aov\n",
       "W = 0.93752, p-value = 0.2152\n"
      ]
     },
     "metadata": {},
     "output_type": "display_data"
    }
   ],
   "source": [
    "shapiro.test(residue.aov) \n",
    "\n",
    "# 정규성 검정 결과 p-value가 유의수준보다 크므로 귀무가설을 채택한다\n",
    "# 따라서 잔차는 정규분포를 따른다고 할 수 있다"
   ]
  },
  {
   "cell_type": "markdown",
   "id": "af792c8b",
   "metadata": {},
   "source": [
    "### bartlett.test : 등분산 검정"
   ]
  },
  {
   "cell_type": "code",
   "execution_count": 18,
   "id": "b97fca20",
   "metadata": {},
   "outputs": [
    {
     "data": {
      "text/plain": [
       "\n",
       "\tBartlett test of homogeneity of variances\n",
       "\n",
       "data:  rate by power\n",
       "Bartlett's K-squared = 0.43349, df = 3, p-value = 0.9332\n"
      ]
     },
     "metadata": {},
     "output_type": "display_data"
    }
   ],
   "source": [
    "bartlett.test(rate~power,data = anova.data); \n",
    "\n",
    "# 등분산 검정 결과 p-value가 유의수준보다 크므로 귀무가설을 채택한다\n",
    "# 따라서 각 처리수준 사이에 동일한 분산을 가진다고 할 수 있다"
   ]
  },
  {
   "cell_type": "markdown",
   "id": "1e7e7a74",
   "metadata": {},
   "source": [
    "---"
   ]
  },
  {
   "cell_type": "markdown",
   "id": "d52ddcb9",
   "metadata": {},
   "source": [
    "## 가정이 성립하지 않는 경우\n",
    "정규성 가정이 성립하지 않는 경우 : 비모수검정 </br>\n",
    "등분산 가정이 성립하지 않는 경우 : 근사적 아노바 적용"
   ]
  },
  {
   "cell_type": "markdown",
   "id": "10889c87",
   "metadata": {},
   "source": [
    "### kruskal.test : Non-normal ANOVA (Kruskal-Wallis Ranks Test)"
   ]
  },
  {
   "cell_type": "code",
   "execution_count": 25,
   "id": "1b69b933",
   "metadata": {},
   "outputs": [
    {
     "data": {
      "text/plain": [
       "\n",
       "\tKruskal-Wallis rank sum test\n",
       "\n",
       "data:  rate by power\n",
       "Kruskal-Wallis chi-squared = 16.907, df = 3, p-value = 0.0007386\n"
      ]
     },
     "metadata": {},
     "output_type": "display_data"
    }
   ],
   "source": [
    "kruskal.test(rate~power,data = anova.data)\n",
    "\n",
    "# 비모수검정 결과 p-value가 유의수준보다 작으므로 귀무가설을 기각한다\n",
    "# 따라서 각 처리수준 사이에 적어도 한 집단은 다른 평균을 가진다고 할 수 있다"
   ]
  },
  {
   "cell_type": "markdown",
   "id": "b430b1bd",
   "metadata": {},
   "source": [
    "### oneway.test : Unequal Variance"
   ]
  },
  {
   "cell_type": "code",
   "execution_count": 27,
   "id": "99deaf72",
   "metadata": {},
   "outputs": [
    {
     "data": {
      "text/plain": [
       "\n",
       "\tOne-way analysis of means (not assuming equal variances)\n",
       "\n",
       "data:  rate and power\n",
       "F = 68.719, num df = 3.0000, denom df = 8.8278, p-value = 1.913e-06\n"
      ]
     },
     "metadata": {},
     "output_type": "display_data"
    }
   ],
   "source": [
    "oneway.test(rate~power,data = anova.data)\n",
    "\n",
    "# 비모수검정 결과 p-value가 유의수준보다 작으므로 귀무가설을 기각한다\n",
    "# 따라서 각 처리수준 사이에 적어도 한 집단은 다른 평균을 가진다고 할 수 있다"
   ]
  },
  {
   "cell_type": "markdown",
   "id": "b403a766",
   "metadata": {},
   "source": [
    "---\n",
    "---"
   ]
  },
  {
   "cell_type": "markdown",
   "id": "cf86c3fa",
   "metadata": {},
   "source": [
    "## Post-ANOVA 사후분석"
   ]
  },
  {
   "cell_type": "code",
   "execution_count": 30,
   "id": "d987d622",
   "metadata": {},
   "outputs": [
    {
     "data": {
      "text/plain": [
       "  Tukey multiple comparisons of means\n",
       "    95% family-wise confidence level\n",
       "\n",
       "Fit: aov(formula = rate ~ power, data = anova.data)\n",
       "\n",
       "$power\n",
       "         diff        lwr       upr     p adj\n",
       "180-160  36.2   3.145624  69.25438 0.0294279\n",
       "200-160  74.2  41.145624 107.25438 0.0000455\n",
       "220-160 155.8 122.745624 188.85438 0.0000000\n",
       "200-180  38.0   4.945624  71.05438 0.0215995\n",
       "220-180 119.6  86.545624 152.65438 0.0000001\n",
       "220-200  81.6  48.545624 114.65438 0.0000146\n"
      ]
     },
     "metadata": {},
     "output_type": "display_data"
    }
   ],
   "source": [
    "TukeyHSD(results.aov,conf.level=.95) \n",
    "\n",
    "# 본 분석의 귀무가설은 연결된 두 처리수준 사이의 분산이 같다이다.\n",
    "# 유의수준과 p-val 값에 따라서 평균의 차이 유무를 확인할 수 있다.\n",
    "# diff : 평균 차이, p adj : p-val"
   ]
  },
  {
   "cell_type": "code",
   "execution_count": 31,
   "id": "487cde01",
   "metadata": {},
   "outputs": [
    {
     "data": {
      "image/png": "[encoded data removed]",
      "text/plain": [
       "Plot with title “95% family-wise confidence level\n",
       "”"
      ]
     },
     "metadata": {
      "image/png": {
       "height": 420,
       "width": 420
      }
     },
     "output_type": "display_data"
    }
   ],
   "source": [
    "plot(TukeyHSD(results.aov,conf.level=.95),col=\"red\")"
   ]
  },
  {
   "cell_type": "markdown",
   "id": "17b145d5",
   "metadata": {},
   "source": [
    "---\n",
    "---\n"
   ]
  },
  {
   "cell_type": "markdown",
   "id": "587bcd3f",
   "metadata": {},
   "source": [
    "## 표본 크기와 검정력\n",
    "between.var : 처리수준의 평균값들의 분산\n",
    "within.var : 같은 처리수준에서 관찰된 값들의 분산"
   ]
  },
  {
   "cell_type": "code",
   "execution_count": 32,
   "id": "1a1c0bd9",
   "metadata": {},
   "outputs": [
    {
     "data": {
      "text/plain": [
       "\n",
       "     Balanced one-way analysis of variance power calculation \n",
       "\n",
       "         groups = 4\n",
       "              n = 5\n",
       "    between.var = 1\n",
       "     within.var = 3\n",
       "      sig.level = 0.1\n",
       "          power = 0.4958342\n",
       "\n",
       "NOTE: n is number in each group\n"
      ]
     },
     "metadata": {},
     "output_type": "display_data"
    }
   ],
   "source": [
    "power.anova.test(groups = 4, n = 5, between.var = 1, within.var = 3,\n",
    "                 sig.level = 0.10)"
   ]
  },
  {
   "cell_type": "code",
   "execution_count": 33,
   "id": "6fe4b5ab",
   "metadata": {},
   "outputs": [
    {
     "data": {
      "text/plain": [
       "\n",
       "     Balanced one-way analysis of variance power calculation \n",
       "\n",
       "         groups = 4\n",
       "              n = 5.460819\n",
       "    between.var = 1\n",
       "     within.var = 2\n",
       "      sig.level = 0.1\n",
       "          power = 0.7\n",
       "\n",
       "NOTE: n is number in each group\n"
      ]
     },
     "metadata": {},
     "output_type": "display_data"
    }
   ],
   "source": [
    "power.anova.test(groups = 4, between.var = 1, within.var = 2,\n",
    "                 sig.level = 0.1, power = 0.7)"
   ]
  },
  {
   "cell_type": "markdown",
   "id": "b96ff4f1",
   "metadata": {},
   "source": [
    "---\n",
    "---"
   ]
  },
  {
   "cell_type": "markdown",
   "id": "9c174c92",
   "metadata": {},
   "source": [
    "## Example"
   ]
  },
  {
   "cell_type": "markdown",
   "id": "c7ee2bb4",
   "metadata": {},
   "source": [
    "### A Real Economy Application (Sec.3.8)"
   ]
  },
  {
   "cell_type": "code",
   "execution_count": 38,
   "id": "8f53a6cf",
   "metadata": {},
   "outputs": [
    {
     "data": {
      "text/html": [
       "<table class=\"dataframe\">\n",
       "<caption>A data.frame: 15 × 2</caption>\n",
       "<thead>\n",
       "\t<tr><th scope=col>design</th><th scope=col>sales.up</th></tr>\n",
       "\t<tr><th scope=col>&lt;fct&gt;</th><th scope=col>&lt;dbl&gt;</th></tr>\n",
       "</thead>\n",
       "<tbody>\n",
       "\t<tr><td>1</td><td>5.43</td></tr>\n",
       "\t<tr><td>1</td><td>5.71</td></tr>\n",
       "\t<tr><td>1</td><td>6.22</td></tr>\n",
       "\t<tr><td>1</td><td>6.01</td></tr>\n",
       "\t<tr><td>1</td><td>5.29</td></tr>\n",
       "\t<tr><td>2</td><td>6.24</td></tr>\n",
       "\t<tr><td>2</td><td>6.71</td></tr>\n",
       "\t<tr><td>2</td><td>5.98</td></tr>\n",
       "\t<tr><td>2</td><td>5.66</td></tr>\n",
       "\t<tr><td>2</td><td>6.60</td></tr>\n",
       "\t<tr><td>3</td><td>8.79</td></tr>\n",
       "\t<tr><td>3</td><td>9.20</td></tr>\n",
       "\t<tr><td>3</td><td>7.90</td></tr>\n",
       "\t<tr><td>3</td><td>8.15</td></tr>\n",
       "\t<tr><td>3</td><td>7.55</td></tr>\n",
       "</tbody>\n",
       "</table>\n"
      ],
      "text/latex": [
       "A data.frame: 15 × 2\n",
       "\\begin{tabular}{ll}\n",
       " design & sales.up\\\\\n",
       " <fct> & <dbl>\\\\\n",
       "\\hline\n",
       "\t 1 & 5.43\\\\\n",
       "\t 1 & 5.71\\\\\n",
       "\t 1 & 6.22\\\\\n",
       "\t 1 & 6.01\\\\\n",
       "\t 1 & 5.29\\\\\n",
       "\t 2 & 6.24\\\\\n",
       "\t 2 & 6.71\\\\\n",
       "\t 2 & 5.98\\\\\n",
       "\t 2 & 5.66\\\\\n",
       "\t 2 & 6.60\\\\\n",
       "\t 3 & 8.79\\\\\n",
       "\t 3 & 9.20\\\\\n",
       "\t 3 & 7.90\\\\\n",
       "\t 3 & 8.15\\\\\n",
       "\t 3 & 7.55\\\\\n",
       "\\end{tabular}\n"
      ],
      "text/markdown": [
       "\n",
       "A data.frame: 15 × 2\n",
       "\n",
       "| design &lt;fct&gt; | sales.up &lt;dbl&gt; |\n",
       "|---|---|\n",
       "| 1 | 5.43 |\n",
       "| 1 | 5.71 |\n",
       "| 1 | 6.22 |\n",
       "| 1 | 6.01 |\n",
       "| 1 | 5.29 |\n",
       "| 2 | 6.24 |\n",
       "| 2 | 6.71 |\n",
       "| 2 | 5.98 |\n",
       "| 2 | 5.66 |\n",
       "| 2 | 6.60 |\n",
       "| 3 | 8.79 |\n",
       "| 3 | 9.20 |\n",
       "| 3 | 7.90 |\n",
       "| 3 | 8.15 |\n",
       "| 3 | 7.55 |\n",
       "\n"
      ],
      "text/plain": [
       "   design sales.up\n",
       "1  1      5.43    \n",
       "2  1      5.71    \n",
       "3  1      6.22    \n",
       "4  1      6.01    \n",
       "5  1      5.29    \n",
       "6  2      6.24    \n",
       "7  2      6.71    \n",
       "8  2      5.98    \n",
       "9  2      5.66    \n",
       "10 2      6.60    \n",
       "11 3      8.79    \n",
       "12 3      9.20    \n",
       "13 3      7.90    \n",
       "14 3      8.15    \n",
       "15 3      7.55    "
      ]
     },
     "metadata": {},
     "output_type": "display_data"
    }
   ],
   "source": [
    "d1 <- c(5.43,5.71,6.22,6.01,5.29); d2 <- c(6.24,6.71,5.98,5.66,6.60);\n",
    "d3 <- c(8.79,9.20,7.90,8.15,7.55)\n",
    "sales.data <- data.frame(\n",
    "  design = as.factor(rep(1:3,each = 5)),\n",
    "  sales.up = c(d1,d2,d3)\n",
    ")\n",
    "sales.data"
   ]
  },
  {
   "cell_type": "code",
   "execution_count": 39,
   "id": "16072f75",
   "metadata": {},
   "outputs": [
    {
     "data": {
      "text/html": [
       "<table class=\"dataframe\">\n",
       "<caption>A anova: 2 × 5</caption>\n",
       "<thead>\n",
       "\t<tr><th></th><th scope=col>Df</th><th scope=col>Sum Sq</th><th scope=col>Mean Sq</th><th scope=col>F value</th><th scope=col>Pr(&gt;F)</th></tr>\n",
       "\t<tr><th></th><th scope=col>&lt;int&gt;</th><th scope=col>&lt;dbl&gt;</th><th scope=col>&lt;dbl&gt;</th><th scope=col>&lt;dbl&gt;</th><th scope=col>&lt;dbl&gt;</th></tr>\n",
       "</thead>\n",
       "<tbody>\n",
       "\t<tr><th scope=row>design</th><td> 2</td><td>18.78305</td><td>9.3915267</td><td>35.77225</td><td>8.781737e-06</td></tr>\n",
       "\t<tr><th scope=row>Residuals</th><td>12</td><td> 3.15044</td><td>0.2625367</td><td>      NA</td><td>          NA</td></tr>\n",
       "</tbody>\n",
       "</table>\n"
      ],
      "text/latex": [
       "A anova: 2 × 5\n",
       "\\begin{tabular}{r|lllll}\n",
       "  & Df & Sum Sq & Mean Sq & F value & Pr(>F)\\\\\n",
       "  & <int> & <dbl> & <dbl> & <dbl> & <dbl>\\\\\n",
       "\\hline\n",
       "\tdesign &  2 & 18.78305 & 9.3915267 & 35.77225 & 8.781737e-06\\\\\n",
       "\tResiduals & 12 &  3.15044 & 0.2625367 &       NA &           NA\\\\\n",
       "\\end{tabular}\n"
      ],
      "text/markdown": [
       "\n",
       "A anova: 2 × 5\n",
       "\n",
       "| <!--/--> | Df &lt;int&gt; | Sum Sq &lt;dbl&gt; | Mean Sq &lt;dbl&gt; | F value &lt;dbl&gt; | Pr(&gt;F) &lt;dbl&gt; |\n",
       "|---|---|---|---|---|---|\n",
       "| design |  2 | 18.78305 | 9.3915267 | 35.77225 | 8.781737e-06 |\n",
       "| Residuals | 12 |  3.15044 | 0.2625367 |       NA |           NA |\n",
       "\n"
      ],
      "text/plain": [
       "          Df Sum Sq   Mean Sq   F value  Pr(>F)      \n",
       "design     2 18.78305 9.3915267 35.77225 8.781737e-06\n",
       "Residuals 12  3.15044 0.2625367       NA           NA"
      ]
     },
     "metadata": {},
     "output_type": "display_data"
    },
    {
     "data": {
      "text/plain": [
       "Call:\n",
       "   aov(formula = sales.up ~ design, data = sales.data)\n",
       "\n",
       "Terms:\n",
       "                  design Residuals\n",
       "Sum of Squares  18.78305   3.15044\n",
       "Deg. of Freedom        2        12\n",
       "\n",
       "Residual standard error: 0.5123833\n",
       "Estimated effects may be unbalanced"
      ]
     },
     "metadata": {},
     "output_type": "display_data"
    }
   ],
   "source": [
    "sales.aov <- aov(sales.up~design,data = sales.data);anova(sales.aov)\n",
    "sales.aov "
   ]
  },
  {
   "cell_type": "code",
   "execution_count": 40,
   "id": "0de06300",
   "metadata": {},
   "outputs": [
    {
     "data": {
      "text/plain": [
       "\n",
       "Call:\n",
       "lm(formula = sales.up ~ design, data = sales.data)\n",
       "\n",
       "Residuals:\n",
       "   Min     1Q Median     3Q    Max \n",
       "-0.768 -0.360 -0.022  0.417  0.882 \n",
       "\n",
       "Coefficients:\n",
       "            Estimate Std. Error t value Pr(>|t|)    \n",
       "(Intercept)   5.7320     0.2291  25.015 1.01e-11 ***\n",
       "design2       0.5060     0.3241   1.561    0.144    \n",
       "design3       2.5860     0.3241   7.980 3.86e-06 ***\n",
       "---\n",
       "Signif. codes:  0 ‘***’ 0.001 ‘**’ 0.01 ‘*’ 0.05 ‘.’ 0.1 ‘ ’ 1\n",
       "\n",
       "Residual standard error: 0.5124 on 12 degrees of freedom\n",
       "Multiple R-squared:  0.8564,\tAdjusted R-squared:  0.8324 \n",
       "F-statistic: 35.77 on 2 and 12 DF,  p-value: 8.782e-06\n"
      ]
     },
     "metadata": {},
     "output_type": "display_data"
    },
    {
     "data": {
      "text/plain": [
       "\n",
       "Call:\n",
       "lm(formula = sales.up ~ design, data = sales.data)\n",
       "\n",
       "Coefficients:\n",
       "(Intercept)      design2      design3  \n",
       "      5.732        0.506        2.586  \n"
      ]
     },
     "metadata": {},
     "output_type": "display_data"
    }
   ],
   "source": [
    "sales.lm <- lm(sales.up~design,data = sales.data);summary(sales.lm)\n",
    "sales.lm"
   ]
  },
  {
   "cell_type": "code",
   "execution_count": 41,
   "id": "e31a15fe",
   "metadata": {},
   "outputs": [
    {
     "data": {
      "text/plain": [
       "\n",
       "\tShapiro-Wilk normality test\n",
       "\n",
       "data:  sales.residue\n",
       "W = 0.96303, p-value = 0.745\n"
      ]
     },
     "metadata": {},
     "output_type": "display_data"
    }
   ],
   "source": [
    "# 정규성 검정\n",
    "\n",
    "sales.residue <- residuals(sales.aov)\n",
    "sales.res <- cbind(sales.data,sales.residue)\n",
    "shapiro.test(sales.residue)"
   ]
  },
  {
   "cell_type": "code",
   "execution_count": 44,
   "id": "0f275ecf",
   "metadata": {},
   "outputs": [
    {
     "data": {
      "text/plain": [
       "\n",
       "\tBartlett test of homogeneity of variances\n",
       "\n",
       "data:  sales.residue by design\n",
       "Bartlett's K-squared = 1.2638, df = 2, p-value = 0.5316\n"
      ]
     },
     "metadata": {},
     "output_type": "display_data"
    }
   ],
   "source": [
    "# 등분산 검정\n",
    "\n",
    "bartlett.test(sales.residue~design,data=sales.res)"
   ]
  },
  {
   "cell_type": "code",
   "execution_count": 46,
   "id": "f2399b83",
   "metadata": {},
   "outputs": [
    {
     "data": {
      "text/plain": [
       "  Tukey multiple comparisons of means\n",
       "    95% family-wise confidence level\n",
       "\n",
       "Fit: aov(formula = sales.up ~ design, data = sales.data)\n",
       "\n",
       "$design\n",
       "     diff       lwr      upr     p adj\n",
       "2-1 0.506 -0.358547 1.370547 0.2988893\n",
       "3-1 2.586  1.721453 3.450547 0.0000107\n",
       "3-2 2.080  1.215453 2.944547 0.0000909\n"
      ]
     },
     "metadata": {},
     "output_type": "display_data"
    }
   ],
   "source": [
    "# 사후분석\n",
    "\n",
    "TukeyHSD(sales.aov,conf.level=.95) "
   ]
  },
  {
   "cell_type": "markdown",
   "id": "0d9ffa1e",
   "metadata": {},
   "source": [
    "---"
   ]
  },
  {
   "cell_type": "markdown",
   "id": "18f1073e",
   "metadata": {},
   "source": [
    "### ANCOVA Example\n",
    "통제 불가능한 변수가 반응 변수에 미치는 영향력을 고려한 분석 </br>\n",
    "통제 불가능한 변수 : 공변량"
   ]
  },
  {
   "cell_type": "code",
   "execution_count": 47,
   "id": "80992f32",
   "metadata": {},
   "outputs": [
    {
     "data": {
      "text/plain": [
       " machine    diameter        breaking   \n",
       " 1:5     Min.   :15.00   Min.   :32.0  \n",
       " 2:5     1st Qu.:21.50   1st Qu.:36.5  \n",
       " 3:5     Median :24.00   Median :40.0  \n",
       "         Mean   :24.13   Mean   :40.2  \n",
       "         3rd Qu.:27.00   3rd Qu.:43.0  \n",
       "         Max.   :32.00   Max.   :49.0  "
      ]
     },
     "metadata": {},
     "output_type": "display_data"
    }
   ],
   "source": [
    "ancova.data <- data.frame(\n",
    "  machine = as.factor(c(rep(1:3, each = 5))), \n",
    "  diameter = c(20,25,24,25,32,22,28,22,30,28,21,23,26,21,15), \n",
    "  breaking = c(36,41,39,42,49,40,48,39,45,44,35,37,42,34,32)\n",
    ")\n",
    "summary(ancova.data)"
   ]
  },
  {
   "cell_type": "code",
   "execution_count": 51,
   "id": "12b15983",
   "metadata": {},
   "outputs": [
    {
     "data": {
      "text/html": [
       "<table class=\"dataframe\">\n",
       "<caption>A anova: 2 × 5</caption>\n",
       "<thead>\n",
       "\t<tr><th></th><th scope=col>Df</th><th scope=col>Sum Sq</th><th scope=col>Mean Sq</th><th scope=col>F value</th><th scope=col>Pr(&gt;F)</th></tr>\n",
       "\t<tr><th></th><th scope=col>&lt;int&gt;</th><th scope=col>&lt;dbl&gt;</th><th scope=col>&lt;dbl&gt;</th><th scope=col>&lt;dbl&gt;</th><th scope=col>&lt;dbl&gt;</th></tr>\n",
       "</thead>\n",
       "<tbody>\n",
       "\t<tr><th scope=row>machine</th><td> 2</td><td>140.4</td><td>70.20000</td><td>4.08932</td><td>0.04423194</td></tr>\n",
       "\t<tr><th scope=row>Residuals</th><td>12</td><td>206.0</td><td>17.16667</td><td>     NA</td><td>        NA</td></tr>\n",
       "</tbody>\n",
       "</table>\n"
      ],
      "text/latex": [
       "A anova: 2 × 5\n",
       "\\begin{tabular}{r|lllll}\n",
       "  & Df & Sum Sq & Mean Sq & F value & Pr(>F)\\\\\n",
       "  & <int> & <dbl> & <dbl> & <dbl> & <dbl>\\\\\n",
       "\\hline\n",
       "\tmachine &  2 & 140.4 & 70.20000 & 4.08932 & 0.04423194\\\\\n",
       "\tResiduals & 12 & 206.0 & 17.16667 &      NA &         NA\\\\\n",
       "\\end{tabular}\n"
      ],
      "text/markdown": [
       "\n",
       "A anova: 2 × 5\n",
       "\n",
       "| <!--/--> | Df &lt;int&gt; | Sum Sq &lt;dbl&gt; | Mean Sq &lt;dbl&gt; | F value &lt;dbl&gt; | Pr(&gt;F) &lt;dbl&gt; |\n",
       "|---|---|---|---|---|---|\n",
       "| machine |  2 | 140.4 | 70.20000 | 4.08932 | 0.04423194 |\n",
       "| Residuals | 12 | 206.0 | 17.16667 |      NA |         NA |\n",
       "\n"
      ],
      "text/plain": [
       "          Df Sum Sq Mean Sq  F value Pr(>F)    \n",
       "machine    2 140.4  70.20000 4.08932 0.04423194\n",
       "Residuals 12 206.0  17.16667      NA         NA"
      ]
     },
     "metadata": {},
     "output_type": "display_data"
    }
   ],
   "source": [
    "# 공변량을 고려하지 않은 계산\n",
    "\n",
    "anova(aov(breaking~machine, data = ancova.data))"
   ]
  },
  {
   "cell_type": "code",
   "execution_count": 52,
   "id": "fc606207",
   "metadata": {},
   "outputs": [
    {
     "data": {
      "text/html": [
       "<table class=\"dataframe\">\n",
       "<caption>A anova: 3 × 5</caption>\n",
       "<thead>\n",
       "\t<tr><th></th><th scope=col>Df</th><th scope=col>Sum Sq</th><th scope=col>Mean Sq</th><th scope=col>F value</th><th scope=col>Pr(&gt;F)</th></tr>\n",
       "\t<tr><th></th><th scope=col>&lt;int&gt;</th><th scope=col>&lt;dbl&gt;</th><th scope=col>&lt;dbl&gt;</th><th scope=col>&lt;dbl&gt;</th><th scope=col>&lt;dbl&gt;</th></tr>\n",
       "</thead>\n",
       "<tbody>\n",
       "\t<tr><th scope=row>diameter</th><td> 1</td><td>305.13026</td><td>305.130260</td><td>119.933042</td><td>2.960132e-07</td></tr>\n",
       "\t<tr><th scope=row>machine</th><td> 2</td><td> 13.28385</td><td>  6.641925</td><td>  2.610643</td><td>1.180839e-01</td></tr>\n",
       "\t<tr><th scope=row>Residuals</th><td>11</td><td> 27.98589</td><td>  2.544172</td><td>        NA</td><td>          NA</td></tr>\n",
       "</tbody>\n",
       "</table>\n"
      ],
      "text/latex": [
       "A anova: 3 × 5\n",
       "\\begin{tabular}{r|lllll}\n",
       "  & Df & Sum Sq & Mean Sq & F value & Pr(>F)\\\\\n",
       "  & <int> & <dbl> & <dbl> & <dbl> & <dbl>\\\\\n",
       "\\hline\n",
       "\tdiameter &  1 & 305.13026 & 305.130260 & 119.933042 & 2.960132e-07\\\\\n",
       "\tmachine &  2 &  13.28385 &   6.641925 &   2.610643 & 1.180839e-01\\\\\n",
       "\tResiduals & 11 &  27.98589 &   2.544172 &         NA &           NA\\\\\n",
       "\\end{tabular}\n"
      ],
      "text/markdown": [
       "\n",
       "A anova: 3 × 5\n",
       "\n",
       "| <!--/--> | Df &lt;int&gt; | Sum Sq &lt;dbl&gt; | Mean Sq &lt;dbl&gt; | F value &lt;dbl&gt; | Pr(&gt;F) &lt;dbl&gt; |\n",
       "|---|---|---|---|---|---|\n",
       "| diameter |  1 | 305.13026 | 305.130260 | 119.933042 | 2.960132e-07 |\n",
       "| machine |  2 |  13.28385 |   6.641925 |   2.610643 | 1.180839e-01 |\n",
       "| Residuals | 11 |  27.98589 |   2.544172 |         NA |           NA |\n",
       "\n"
      ],
      "text/plain": [
       "          Df Sum Sq    Mean Sq    F value    Pr(>F)      \n",
       "diameter   1 305.13026 305.130260 119.933042 2.960132e-07\n",
       "machine    2  13.28385   6.641925   2.610643 1.180839e-01\n",
       "Residuals 11  27.98589   2.544172         NA           NA"
      ]
     },
     "metadata": {},
     "output_type": "display_data"
    }
   ],
   "source": [
    "# 공변량을 고려한 계산\n",
    "\n",
    "anova(aov(breaking~diameter+machine, data = ancova.data))"
   ]
  },
  {
   "cell_type": "code",
   "execution_count": 50,
   "id": "96acd78b",
   "metadata": {},
   "outputs": [
    {
     "data": {
      "text/plain": [
       "\n",
       "Call:\n",
       "lm(formula = breaking ~ diameter + machine, data = ancova.data)\n",
       "\n",
       "Residuals:\n",
       "    Min      1Q  Median      3Q     Max \n",
       "-2.0160 -0.9586 -0.3841  0.9518  2.8920 \n",
       "\n",
       "Coefficients:\n",
       "            Estimate Std. Error t value Pr(>|t|)    \n",
       "(Intercept)   17.360      2.961   5.862 0.000109 ***\n",
       "diameter       0.954      0.114   8.365 4.26e-06 ***\n",
       "machine2       1.037      1.013   1.024 0.328012    \n",
       "machine3      -1.584      1.107  -1.431 0.180292    \n",
       "---\n",
       "Signif. codes:  0 ‘***’ 0.001 ‘**’ 0.01 ‘*’ 0.05 ‘.’ 0.1 ‘ ’ 1\n",
       "\n",
       "Residual standard error: 1.595 on 11 degrees of freedom\n",
       "Multiple R-squared:  0.9192,\tAdjusted R-squared:  0.8972 \n",
       "F-statistic: 41.72 on 3 and 11 DF,  p-value: 2.665e-06\n"
      ]
     },
     "metadata": {},
     "output_type": "display_data"
    }
   ],
   "source": [
    "summary(lm(breaking~diameter+machine, data = ancova.data))"
   ]
  },
  {
   "cell_type": "markdown",
   "id": "c5bc51c0",
   "metadata": {},
   "source": [
    "---"
   ]
  },
  {
   "cell_type": "markdown",
   "id": "a9b1a2f0",
   "metadata": {},
   "source": [
    "### Exercise 3.18 Unbalanced ANOVA"
   ]
  },
  {
   "cell_type": "code",
   "execution_count": 53,
   "id": "6c4662cc",
   "metadata": {},
   "outputs": [],
   "source": [
    "catalyst.data <- data.frame(\n",
    "  catalyst=as.factor(c(1,1,1,1,1,2,2,2,2,3,3,3,4,4,4,4)),\n",
    "  concentration = c(58.2,57.2,58.4,55.8,55.2,56.3,54.5,57.0,55.3,\n",
    "                  50.1,54.2,55.4,52.9,49.9,50.0,51.7)\n",
    ")"
   ]
  },
  {
   "cell_type": "code",
   "execution_count": 54,
   "id": "db5bfd93",
   "metadata": {},
   "outputs": [
    {
     "data": {
      "text/html": [
       "<table class=\"dataframe\">\n",
       "<caption>A anova: 2 × 5</caption>\n",
       "<thead>\n",
       "\t<tr><th></th><th scope=col>Df</th><th scope=col>Sum Sq</th><th scope=col>Mean Sq</th><th scope=col>F value</th><th scope=col>Pr(&gt;F)</th></tr>\n",
       "\t<tr><th></th><th scope=col>&lt;int&gt;</th><th scope=col>&lt;dbl&gt;</th><th scope=col>&lt;dbl&gt;</th><th scope=col>&lt;dbl&gt;</th><th scope=col>&lt;dbl&gt;</th></tr>\n",
       "</thead>\n",
       "<tbody>\n",
       "\t<tr><th scope=row>catalyst</th><td> 3</td><td>87.13571</td><td>29.045236</td><td>10.42491</td><td>0.001163852</td></tr>\n",
       "\t<tr><th scope=row>Residuals</th><td>12</td><td>33.43367</td><td> 2.786139</td><td>      NA</td><td>         NA</td></tr>\n",
       "</tbody>\n",
       "</table>\n"
      ],
      "text/latex": [
       "A anova: 2 × 5\n",
       "\\begin{tabular}{r|lllll}\n",
       "  & Df & Sum Sq & Mean Sq & F value & Pr(>F)\\\\\n",
       "  & <int> & <dbl> & <dbl> & <dbl> & <dbl>\\\\\n",
       "\\hline\n",
       "\tcatalyst &  3 & 87.13571 & 29.045236 & 10.42491 & 0.001163852\\\\\n",
       "\tResiduals & 12 & 33.43367 &  2.786139 &       NA &          NA\\\\\n",
       "\\end{tabular}\n"
      ],
      "text/markdown": [
       "\n",
       "A anova: 2 × 5\n",
       "\n",
       "| <!--/--> | Df &lt;int&gt; | Sum Sq &lt;dbl&gt; | Mean Sq &lt;dbl&gt; | F value &lt;dbl&gt; | Pr(&gt;F) &lt;dbl&gt; |\n",
       "|---|---|---|---|---|---|\n",
       "| catalyst |  3 | 87.13571 | 29.045236 | 10.42491 | 0.001163852 |\n",
       "| Residuals | 12 | 33.43367 |  2.786139 |       NA |          NA |\n",
       "\n"
      ],
      "text/plain": [
       "          Df Sum Sq   Mean Sq   F value  Pr(>F)     \n",
       "catalyst   3 87.13571 29.045236 10.42491 0.001163852\n",
       "Residuals 12 33.43367  2.786139       NA          NA"
      ]
     },
     "metadata": {},
     "output_type": "display_data"
    }
   ],
   "source": [
    "anova(aov(concentration~catalyst,data = catalyst.data))"
   ]
  },
  {
   "cell_type": "code",
   "execution_count": 55,
   "id": "872bc973",
   "metadata": {},
   "outputs": [
    {
     "data": {
      "text/plain": [
       "\n",
       "Call:\n",
       "lm(formula = concentration ~ catalyst, data = catalyst.data)\n",
       "\n",
       "Residuals:\n",
       "    Min      1Q  Median      3Q     Max \n",
       "-3.1333 -1.1763  0.3825  1.2288  2.1667 \n",
       "\n",
       "Coefficients:\n",
       "            Estimate Std. Error t value Pr(>|t|)    \n",
       "(Intercept)  56.9600     0.7465  76.305  < 2e-16 ***\n",
       "catalyst2    -1.1850     1.1197  -1.058 0.310755    \n",
       "catalyst3    -3.7267     1.2190  -3.057 0.009951 ** \n",
       "catalyst4    -5.8350     1.1197  -5.211 0.000218 ***\n",
       "---\n",
       "Signif. codes:  0 ‘***’ 0.001 ‘**’ 0.01 ‘*’ 0.05 ‘.’ 0.1 ‘ ’ 1\n",
       "\n",
       "Residual standard error: 1.669 on 12 degrees of freedom\n",
       "Multiple R-squared:  0.7227,\tAdjusted R-squared:  0.6534 \n",
       "F-statistic: 10.42 on 3 and 12 DF,  p-value: 0.001164\n"
      ]
     },
     "metadata": {},
     "output_type": "display_data"
    }
   ],
   "source": [
    "summary(lm(concentration~catalyst,data = catalyst.data))"
   ]
  },
  {
   "cell_type": "code",
   "execution_count": 56,
   "id": "5515dfc4",
   "metadata": {},
   "outputs": [
    {
     "data": {
      "text/plain": [
       "\n",
       "\tShapiro-Wilk normality test\n",
       "\n",
       "data:  catalyst.residual\n",
       "W = 0.94766, p-value = 0.4535\n"
      ]
     },
     "metadata": {},
     "output_type": "display_data"
    },
    {
     "data": {
      "text/plain": [
       "\n",
       "\tBartlett test of homogeneity of variances\n",
       "\n",
       "data:  concentration by catalyst\n",
       "Bartlett's K-squared = 2.2721, df = 3, p-value = 0.5179\n"
      ]
     },
     "metadata": {},
     "output_type": "display_data"
    }
   ],
   "source": [
    "# 잔차 계산\n",
    "catalyst.residual <- residuals(\n",
    "  aov(concentration~catalyst,data = catalyst.data))\n",
    "  \n",
    "# 정규성 검정\n",
    "shapiro.test(catalyst.residual)\n",
    "\n",
    "# 등분산 검정\n",
    "bartlett.test(concentration~catalyst,data = catalyst.data)"
   ]
  },
  {
   "cell_type": "markdown",
   "id": "50c5fccb",
   "metadata": {},
   "source": [
    "---\n",
    "---\n",
    "---"
   ]
  },
  {
   "cell_type": "markdown",
   "id": "0c3ff69f",
   "metadata": {},
   "source": [
    "# Session 4 Experiments with Blocking Factors\n",
    "블록화 실험"
   ]
  },
  {
   "cell_type": "code",
   "execution_count": 58,
   "id": "73427ef2",
   "metadata": {},
   "outputs": [],
   "source": [
    "library(dplyr)"
   ]
  },
  {
   "cell_type": "markdown",
   "id": "6cd17659",
   "metadata": {},
   "source": [
    "## Vascular Graft Example"
   ]
  },
  {
   "cell_type": "code",
   "execution_count": 61,
   "id": "c67c5bcf",
   "metadata": {},
   "outputs": [
    {
     "data": {
      "text/html": [
       "<style>\n",
       ".list-inline {list-style: none; margin:0; padding: 0}\n",
       ".list-inline>li {display: inline-block}\n",
       ".list-inline>li:not(:last-child)::after {content: \"\\00b7\"; padding: 0 .5ex}\n",
       "</style>\n",
       "<ol class=list-inline><li>1</li><li>2</li><li>3</li><li>4</li><li>5</li><li>6</li><li>1</li><li>2</li><li>3</li><li>4</li><li>5</li><li>6</li><li>1</li><li>2</li><li>3</li><li>4</li><li>5</li><li>6</li><li>1</li><li>2</li><li>3</li><li>4</li><li>5</li><li>6</li></ol>\n"
      ],
      "text/latex": [
       "\\begin{enumerate*}\n",
       "\\item 1\n",
       "\\item 2\n",
       "\\item 3\n",
       "\\item 4\n",
       "\\item 5\n",
       "\\item 6\n",
       "\\item 1\n",
       "\\item 2\n",
       "\\item 3\n",
       "\\item 4\n",
       "\\item 5\n",
       "\\item 6\n",
       "\\item 1\n",
       "\\item 2\n",
       "\\item 3\n",
       "\\item 4\n",
       "\\item 5\n",
       "\\item 6\n",
       "\\item 1\n",
       "\\item 2\n",
       "\\item 3\n",
       "\\item 4\n",
       "\\item 5\n",
       "\\item 6\n",
       "\\end{enumerate*}\n"
      ],
      "text/markdown": [
       "1. 1\n",
       "2. 2\n",
       "3. 3\n",
       "4. 4\n",
       "5. 5\n",
       "6. 6\n",
       "7. 1\n",
       "8. 2\n",
       "9. 3\n",
       "10. 4\n",
       "11. 5\n",
       "12. 6\n",
       "13. 1\n",
       "14. 2\n",
       "15. 3\n",
       "16. 4\n",
       "17. 5\n",
       "18. 6\n",
       "19. 1\n",
       "20. 2\n",
       "21. 3\n",
       "22. 4\n",
       "23. 5\n",
       "24. 6\n",
       "\n",
       "\n"
      ],
      "text/plain": [
       " [1] 1 2 3 4 5 6 1 2 3 4 5 6 1 2 3 4 5 6 1 2 3 4 5 6"
      ]
     },
     "metadata": {},
     "output_type": "display_data"
    }
   ],
   "source": [
    "noise <- rep(1:6,times = 4)\n",
    "noise"
   ]
  },
  {
   "cell_type": "code",
   "execution_count": 62,
   "id": "d8271ed7",
   "metadata": {},
   "outputs": [
    {
     "data": {
      "text/html": [
       "<style>\n",
       ".list-inline {list-style: none; margin:0; padding: 0}\n",
       ".list-inline>li {display: inline-block}\n",
       ".list-inline>li:not(:last-child)::after {content: \"\\00b7\"; padding: 0 .5ex}\n",
       "</style>\n",
       "<ol class=list-inline><li>8500</li><li>8500</li><li>8500</li><li>8500</li><li>8500</li><li>8500</li><li>8700</li><li>8700</li><li>8700</li><li>8700</li><li>8700</li><li>8700</li><li>8900</li><li>8900</li><li>8900</li><li>8900</li><li>8900</li><li>8900</li><li>9100</li><li>9100</li><li>9100</li><li>9100</li><li>9100</li><li>9100</li></ol>\n"
      ],
      "text/latex": [
       "\\begin{enumerate*}\n",
       "\\item 8500\n",
       "\\item 8500\n",
       "\\item 8500\n",
       "\\item 8500\n",
       "\\item 8500\n",
       "\\item 8500\n",
       "\\item 8700\n",
       "\\item 8700\n",
       "\\item 8700\n",
       "\\item 8700\n",
       "\\item 8700\n",
       "\\item 8700\n",
       "\\item 8900\n",
       "\\item 8900\n",
       "\\item 8900\n",
       "\\item 8900\n",
       "\\item 8900\n",
       "\\item 8900\n",
       "\\item 9100\n",
       "\\item 9100\n",
       "\\item 9100\n",
       "\\item 9100\n",
       "\\item 9100\n",
       "\\item 9100\n",
       "\\end{enumerate*}\n"
      ],
      "text/markdown": [
       "1. 8500\n",
       "2. 8500\n",
       "3. 8500\n",
       "4. 8500\n",
       "5. 8500\n",
       "6. 8500\n",
       "7. 8700\n",
       "8. 8700\n",
       "9. 8700\n",
       "10. 8700\n",
       "11. 8700\n",
       "12. 8700\n",
       "13. 8900\n",
       "14. 8900\n",
       "15. 8900\n",
       "16. 8900\n",
       "17. 8900\n",
       "18. 8900\n",
       "19. 9100\n",
       "20. 9100\n",
       "21. 9100\n",
       "22. 9100\n",
       "23. 9100\n",
       "24. 9100\n",
       "\n",
       "\n"
      ],
      "text/plain": [
       " [1] 8500 8500 8500 8500 8500 8500 8700 8700 8700 8700 8700 8700 8900 8900 8900\n",
       "[16] 8900 8900 8900 9100 9100 9100 9100 9100 9100"
      ]
     },
     "metadata": {},
     "output_type": "display_data"
    }
   ],
   "source": [
    "input <- rep(seq(8500,9100,by = 200),each = 6)\n",
    "input"
   ]
  },
  {
   "cell_type": "code",
   "execution_count": 63,
   "id": "460d88ff",
   "metadata": {},
   "outputs": [
    {
     "data": {
      "text/html": [
       "<style>\n",
       ".list-inline {list-style: none; margin:0; padding: 0}\n",
       ".list-inline>li {display: inline-block}\n",
       ".list-inline>li:not(:last-child)::after {content: \"\\00b7\"; padding: 0 .5ex}\n",
       "</style>\n",
       "<ol class=list-inline><li>90.3</li><li>89.2</li><li>98.2</li><li>93.9</li><li>87.4</li><li>97.9</li><li>92.5</li><li>89.5</li><li>90.6</li><li>94.7</li><li>87</li><li>95.8</li><li>85.5</li><li>90.8</li><li>89.6</li><li>86.2</li><li>88</li><li>93.4</li><li>82.5</li><li>89.5</li><li>85.6</li><li>87.4</li><li>78.9</li><li>90.7</li></ol>\n"
      ],
      "text/latex": [
       "\\begin{enumerate*}\n",
       "\\item 90.3\n",
       "\\item 89.2\n",
       "\\item 98.2\n",
       "\\item 93.9\n",
       "\\item 87.4\n",
       "\\item 97.9\n",
       "\\item 92.5\n",
       "\\item 89.5\n",
       "\\item 90.6\n",
       "\\item 94.7\n",
       "\\item 87\n",
       "\\item 95.8\n",
       "\\item 85.5\n",
       "\\item 90.8\n",
       "\\item 89.6\n",
       "\\item 86.2\n",
       "\\item 88\n",
       "\\item 93.4\n",
       "\\item 82.5\n",
       "\\item 89.5\n",
       "\\item 85.6\n",
       "\\item 87.4\n",
       "\\item 78.9\n",
       "\\item 90.7\n",
       "\\end{enumerate*}\n"
      ],
      "text/markdown": [
       "1. 90.3\n",
       "2. 89.2\n",
       "3. 98.2\n",
       "4. 93.9\n",
       "5. 87.4\n",
       "6. 97.9\n",
       "7. 92.5\n",
       "8. 89.5\n",
       "9. 90.6\n",
       "10. 94.7\n",
       "11. 87\n",
       "12. 95.8\n",
       "13. 85.5\n",
       "14. 90.8\n",
       "15. 89.6\n",
       "16. 86.2\n",
       "17. 88\n",
       "18. 93.4\n",
       "19. 82.5\n",
       "20. 89.5\n",
       "21. 85.6\n",
       "22. 87.4\n",
       "23. 78.9\n",
       "24. 90.7\n",
       "\n",
       "\n"
      ],
      "text/plain": [
       " [1] 90.3 89.2 98.2 93.9 87.4 97.9 92.5 89.5 90.6 94.7 87.0 95.8 85.5 90.8 89.6\n",
       "[16] 86.2 88.0 93.4 82.5 89.5 85.6 87.4 78.9 90.7"
      ]
     },
     "metadata": {},
     "output_type": "display_data"
    }
   ],
   "source": [
    "output <- c(90.3,89.2,98.2,93.9,87.4,97.9,92.5,89.5,90.6,94.7,87.0,95.8,\n",
    "           85.5,90.8,89.6,86.2,88.0,93.4,82.5,89.5,85.6,87.4,78.9,90.7)\n",
    "output"
   ]
  },
  {
   "cell_type": "code",
   "execution_count": 64,
   "id": "54dbc186",
   "metadata": {},
   "outputs": [
    {
     "data": {
      "text/html": [
       "<table class=\"dataframe\">\n",
       "<caption>A data.frame: 24 × 3</caption>\n",
       "<thead>\n",
       "\t<tr><th scope=col>batch</th><th scope=col>pressure</th><th scope=col>yield</th></tr>\n",
       "\t<tr><th scope=col>&lt;fct&gt;</th><th scope=col>&lt;fct&gt;</th><th scope=col>&lt;dbl&gt;</th></tr>\n",
       "</thead>\n",
       "<tbody>\n",
       "\t<tr><td>1</td><td>8500</td><td>90.3</td></tr>\n",
       "\t<tr><td>2</td><td>8500</td><td>89.2</td></tr>\n",
       "\t<tr><td>3</td><td>8500</td><td>98.2</td></tr>\n",
       "\t<tr><td>4</td><td>8500</td><td>93.9</td></tr>\n",
       "\t<tr><td>5</td><td>8500</td><td>87.4</td></tr>\n",
       "\t<tr><td>6</td><td>8500</td><td>97.9</td></tr>\n",
       "\t<tr><td>1</td><td>8700</td><td>92.5</td></tr>\n",
       "\t<tr><td>2</td><td>8700</td><td>89.5</td></tr>\n",
       "\t<tr><td>3</td><td>8700</td><td>90.6</td></tr>\n",
       "\t<tr><td>4</td><td>8700</td><td>94.7</td></tr>\n",
       "\t<tr><td>5</td><td>8700</td><td>87.0</td></tr>\n",
       "\t<tr><td>6</td><td>8700</td><td>95.8</td></tr>\n",
       "\t<tr><td>1</td><td>8900</td><td>85.5</td></tr>\n",
       "\t<tr><td>2</td><td>8900</td><td>90.8</td></tr>\n",
       "\t<tr><td>3</td><td>8900</td><td>89.6</td></tr>\n",
       "\t<tr><td>4</td><td>8900</td><td>86.2</td></tr>\n",
       "\t<tr><td>5</td><td>8900</td><td>88.0</td></tr>\n",
       "\t<tr><td>6</td><td>8900</td><td>93.4</td></tr>\n",
       "\t<tr><td>1</td><td>9100</td><td>82.5</td></tr>\n",
       "\t<tr><td>2</td><td>9100</td><td>89.5</td></tr>\n",
       "\t<tr><td>3</td><td>9100</td><td>85.6</td></tr>\n",
       "\t<tr><td>4</td><td>9100</td><td>87.4</td></tr>\n",
       "\t<tr><td>5</td><td>9100</td><td>78.9</td></tr>\n",
       "\t<tr><td>6</td><td>9100</td><td>90.7</td></tr>\n",
       "</tbody>\n",
       "</table>\n"
      ],
      "text/latex": [
       "A data.frame: 24 × 3\n",
       "\\begin{tabular}{lll}\n",
       " batch & pressure & yield\\\\\n",
       " <fct> & <fct> & <dbl>\\\\\n",
       "\\hline\n",
       "\t 1 & 8500 & 90.3\\\\\n",
       "\t 2 & 8500 & 89.2\\\\\n",
       "\t 3 & 8500 & 98.2\\\\\n",
       "\t 4 & 8500 & 93.9\\\\\n",
       "\t 5 & 8500 & 87.4\\\\\n",
       "\t 6 & 8500 & 97.9\\\\\n",
       "\t 1 & 8700 & 92.5\\\\\n",
       "\t 2 & 8700 & 89.5\\\\\n",
       "\t 3 & 8700 & 90.6\\\\\n",
       "\t 4 & 8700 & 94.7\\\\\n",
       "\t 5 & 8700 & 87.0\\\\\n",
       "\t 6 & 8700 & 95.8\\\\\n",
       "\t 1 & 8900 & 85.5\\\\\n",
       "\t 2 & 8900 & 90.8\\\\\n",
       "\t 3 & 8900 & 89.6\\\\\n",
       "\t 4 & 8900 & 86.2\\\\\n",
       "\t 5 & 8900 & 88.0\\\\\n",
       "\t 6 & 8900 & 93.4\\\\\n",
       "\t 1 & 9100 & 82.5\\\\\n",
       "\t 2 & 9100 & 89.5\\\\\n",
       "\t 3 & 9100 & 85.6\\\\\n",
       "\t 4 & 9100 & 87.4\\\\\n",
       "\t 5 & 9100 & 78.9\\\\\n",
       "\t 6 & 9100 & 90.7\\\\\n",
       "\\end{tabular}\n"
      ],
      "text/markdown": [
       "\n",
       "A data.frame: 24 × 3\n",
       "\n",
       "| batch &lt;fct&gt; | pressure &lt;fct&gt; | yield &lt;dbl&gt; |\n",
       "|---|---|---|\n",
       "| 1 | 8500 | 90.3 |\n",
       "| 2 | 8500 | 89.2 |\n",
       "| 3 | 8500 | 98.2 |\n",
       "| 4 | 8500 | 93.9 |\n",
       "| 5 | 8500 | 87.4 |\n",
       "| 6 | 8500 | 97.9 |\n",
       "| 1 | 8700 | 92.5 |\n",
       "| 2 | 8700 | 89.5 |\n",
       "| 3 | 8700 | 90.6 |\n",
       "| 4 | 8700 | 94.7 |\n",
       "| 5 | 8700 | 87.0 |\n",
       "| 6 | 8700 | 95.8 |\n",
       "| 1 | 8900 | 85.5 |\n",
       "| 2 | 8900 | 90.8 |\n",
       "| 3 | 8900 | 89.6 |\n",
       "| 4 | 8900 | 86.2 |\n",
       "| 5 | 8900 | 88.0 |\n",
       "| 6 | 8900 | 93.4 |\n",
       "| 1 | 9100 | 82.5 |\n",
       "| 2 | 9100 | 89.5 |\n",
       "| 3 | 9100 | 85.6 |\n",
       "| 4 | 9100 | 87.4 |\n",
       "| 5 | 9100 | 78.9 |\n",
       "| 6 | 9100 | 90.7 |\n",
       "\n"
      ],
      "text/plain": [
       "   batch pressure yield\n",
       "1  1     8500     90.3 \n",
       "2  2     8500     89.2 \n",
       "3  3     8500     98.2 \n",
       "4  4     8500     93.9 \n",
       "5  5     8500     87.4 \n",
       "6  6     8500     97.9 \n",
       "7  1     8700     92.5 \n",
       "8  2     8700     89.5 \n",
       "9  3     8700     90.6 \n",
       "10 4     8700     94.7 \n",
       "11 5     8700     87.0 \n",
       "12 6     8700     95.8 \n",
       "13 1     8900     85.5 \n",
       "14 2     8900     90.8 \n",
       "15 3     8900     89.6 \n",
       "16 4     8900     86.2 \n",
       "17 5     8900     88.0 \n",
       "18 6     8900     93.4 \n",
       "19 1     9100     82.5 \n",
       "20 2     9100     89.5 \n",
       "21 3     9100     85.6 \n",
       "22 4     9100     87.4 \n",
       "23 5     9100     78.9 \n",
       "24 6     9100     90.7 "
      ]
     },
     "metadata": {},
     "output_type": "display_data"
    }
   ],
   "source": [
    "rcbd.data <- data.frame(\n",
    "  batch = as.factor(noise),pressure = as.factor(input), yield = output\n",
    ")\n",
    "rcbd.data"
   ]
  },
  {
   "cell_type": "markdown",
   "id": "24017a20",
   "metadata": {},
   "source": [
    "### aov : 분산 분석"
   ]
  },
  {
   "cell_type": "code",
   "execution_count": 69,
   "id": "61f0851c",
   "metadata": {},
   "outputs": [
    {
     "data": {
      "text/html": [
       "<table class=\"dataframe\">\n",
       "<caption>A anova: 3 × 5</caption>\n",
       "<thead>\n",
       "\t<tr><th></th><th scope=col>Df</th><th scope=col>Sum Sq</th><th scope=col>Mean Sq</th><th scope=col>F value</th><th scope=col>Pr(&gt;F)</th></tr>\n",
       "\t<tr><th></th><th scope=col>&lt;int&gt;</th><th scope=col>&lt;dbl&gt;</th><th scope=col>&lt;dbl&gt;</th><th scope=col>&lt;dbl&gt;</th><th scope=col>&lt;dbl&gt;</th></tr>\n",
       "</thead>\n",
       "<tbody>\n",
       "\t<tr><th scope=row>pressure</th><td> 3</td><td>178.1713</td><td>59.39042</td><td>8.107077</td><td>0.001916300</td></tr>\n",
       "\t<tr><th scope=row>batch</th><td> 5</td><td>192.2521</td><td>38.45042</td><td>5.248666</td><td>0.005531737</td></tr>\n",
       "\t<tr><th scope=row>Residuals</th><td>15</td><td>109.8863</td><td> 7.32575</td><td>      NA</td><td>         NA</td></tr>\n",
       "</tbody>\n",
       "</table>\n"
      ],
      "text/latex": [
       "A anova: 3 × 5\n",
       "\\begin{tabular}{r|lllll}\n",
       "  & Df & Sum Sq & Mean Sq & F value & Pr(>F)\\\\\n",
       "  & <int> & <dbl> & <dbl> & <dbl> & <dbl>\\\\\n",
       "\\hline\n",
       "\tpressure &  3 & 178.1713 & 59.39042 & 8.107077 & 0.001916300\\\\\n",
       "\tbatch &  5 & 192.2521 & 38.45042 & 5.248666 & 0.005531737\\\\\n",
       "\tResiduals & 15 & 109.8863 &  7.32575 &       NA &          NA\\\\\n",
       "\\end{tabular}\n"
      ],
      "text/markdown": [
       "\n",
       "A anova: 3 × 5\n",
       "\n",
       "| <!--/--> | Df &lt;int&gt; | Sum Sq &lt;dbl&gt; | Mean Sq &lt;dbl&gt; | F value &lt;dbl&gt; | Pr(&gt;F) &lt;dbl&gt; |\n",
       "|---|---|---|---|---|---|\n",
       "| pressure |  3 | 178.1713 | 59.39042 | 8.107077 | 0.001916300 |\n",
       "| batch |  5 | 192.2521 | 38.45042 | 5.248666 | 0.005531737 |\n",
       "| Residuals | 15 | 109.8863 |  7.32575 |       NA |          NA |\n",
       "\n"
      ],
      "text/plain": [
       "          Df Sum Sq   Mean Sq  F value  Pr(>F)     \n",
       "pressure   3 178.1713 59.39042 8.107077 0.001916300\n",
       "batch      5 192.2521 38.45042 5.248666 0.005531737\n",
       "Residuals 15 109.8863  7.32575       NA          NA"
      ]
     },
     "metadata": {},
     "output_type": "display_data"
    }
   ],
   "source": [
    "# 잡음에 의한 효과를 배제한 인자의 효과 분석\n",
    "\n",
    "rcbd.aov <- aov(yield~pressure+batch,data=rcbd.data);\n",
    "anova(rcbd.aov)"
   ]
  },
  {
   "cell_type": "code",
   "execution_count": 67,
   "id": "45bfafed",
   "metadata": {},
   "outputs": [
    {
     "data": {
      "text/html": [
       "<table class=\"dataframe\">\n",
       "<caption>A anova: 2 × 5</caption>\n",
       "<thead>\n",
       "\t<tr><th></th><th scope=col>Df</th><th scope=col>Sum Sq</th><th scope=col>Mean Sq</th><th scope=col>F value</th><th scope=col>Pr(&gt;F)</th></tr>\n",
       "\t<tr><th></th><th scope=col>&lt;int&gt;</th><th scope=col>&lt;dbl&gt;</th><th scope=col>&lt;dbl&gt;</th><th scope=col>&lt;dbl&gt;</th><th scope=col>&lt;dbl&gt;</th></tr>\n",
       "</thead>\n",
       "<tbody>\n",
       "\t<tr><th scope=row>pressure</th><td> 3</td><td>178.1713</td><td>59.39042</td><td>3.931339</td><td>0.02344796</td></tr>\n",
       "\t<tr><th scope=row>Residuals</th><td>20</td><td>302.1383</td><td>15.10692</td><td>      NA</td><td>        NA</td></tr>\n",
       "</tbody>\n",
       "</table>\n"
      ],
      "text/latex": [
       "A anova: 2 × 5\n",
       "\\begin{tabular}{r|lllll}\n",
       "  & Df & Sum Sq & Mean Sq & F value & Pr(>F)\\\\\n",
       "  & <int> & <dbl> & <dbl> & <dbl> & <dbl>\\\\\n",
       "\\hline\n",
       "\tpressure &  3 & 178.1713 & 59.39042 & 3.931339 & 0.02344796\\\\\n",
       "\tResiduals & 20 & 302.1383 & 15.10692 &       NA &         NA\\\\\n",
       "\\end{tabular}\n"
      ],
      "text/markdown": [
       "\n",
       "A anova: 2 × 5\n",
       "\n",
       "| <!--/--> | Df &lt;int&gt; | Sum Sq &lt;dbl&gt; | Mean Sq &lt;dbl&gt; | F value &lt;dbl&gt; | Pr(&gt;F) &lt;dbl&gt; |\n",
       "|---|---|---|---|---|---|\n",
       "| pressure |  3 | 178.1713 | 59.39042 | 3.931339 | 0.02344796 |\n",
       "| Residuals | 20 | 302.1383 | 15.10692 |       NA |         NA |\n",
       "\n"
      ],
      "text/plain": [
       "          Df Sum Sq   Mean Sq  F value  Pr(>F)    \n",
       "pressure   3 178.1713 59.39042 3.931339 0.02344796\n",
       "Residuals 20 302.1383 15.10692       NA         NA"
      ]
     },
     "metadata": {},
     "output_type": "display_data"
    }
   ],
   "source": [
    "# 잡음에 의한 효과를 배제하지 않고 잘못 분석한 결과\n",
    "\n",
    "anova(aov(yield~pressure,data=rcbd.data))"
   ]
  },
  {
   "cell_type": "markdown",
   "id": "40097a3c",
   "metadata": {},
   "source": [
    "### 모델의 유의성 검정"
   ]
  },
  {
   "cell_type": "code",
   "execution_count": 72,
   "id": "88fc0b4a",
   "metadata": {},
   "outputs": [],
   "source": [
    "# 잔차 계산\n",
    "\n",
    "rcbd.residue <- residuals(rcbd.aov);fit <- fitted(rcbd.aov)\n",
    "rcbd.data <- cbind(rcbd.data,rcbd.residue,fit)"
   ]
  },
  {
   "cell_type": "code",
   "execution_count": 73,
   "id": "ff185210",
   "metadata": {},
   "outputs": [
    {
     "data": {
      "text/plain": [
       "\n",
       "\tShapiro-Wilk normality test\n",
       "\n",
       "data:  rcbd.residue\n",
       "W = 0.95631, p-value = 0.3689\n"
      ]
     },
     "metadata": {},
     "output_type": "display_data"
    }
   ],
   "source": [
    "# 정규성 검정\n",
    "\n",
    "shapiro.test(rcbd.residue)"
   ]
  },
  {
   "cell_type": "code",
   "execution_count": 74,
   "id": "f01a66e2",
   "metadata": {},
   "outputs": [
    {
     "data": {
      "text/plain": [
       "\n",
       "\tBartlett test of homogeneity of variances\n",
       "\n",
       "data:  rcbd.residue by batch\n",
       "Bartlett's K-squared = 7.6842, df = 5, p-value = 0.1745\n"
      ]
     },
     "metadata": {},
     "output_type": "display_data"
    },
    {
     "data": {
      "text/plain": [
       "\n",
       "\tBartlett test of homogeneity of variances\n",
       "\n",
       "data:  rcbd.residue by pressure\n",
       "Bartlett's K-squared = 0.15654, df = 3, p-value = 0.9843\n"
      ]
     },
     "metadata": {},
     "output_type": "display_data"
    }
   ],
   "source": [
    "# 등분산 검정\n",
    "\n",
    "with(rcbd.data,bartlett.test(rcbd.residue~batch))\n",
    "with(rcbd.data,bartlett.test(rcbd.residue~pressure))"
   ]
  },
  {
   "cell_type": "code",
   "execution_count": 75,
   "id": "6f8b02d6",
   "metadata": {},
   "outputs": [
    {
     "data": {
      "text/plain": [
       "  Tukey multiple comparisons of means\n",
       "    95% family-wise confidence level\n",
       "\n",
       "Fit: aov(formula = yield ~ pressure + batch, data = rcbd.data)\n",
       "\n",
       "$pressure\n",
       "               diff        lwr       upr     p adj\n",
       "8700-8500 -1.133333  -5.637161  3.370495 0.8854831\n",
       "8900-8500 -3.900000  -8.403828  0.603828 0.1013084\n",
       "9100-8500 -7.050000 -11.553828 -2.546172 0.0020883\n",
       "8900-8700 -2.766667  -7.270495  1.737161 0.3245644\n",
       "9100-8700 -5.916667 -10.420495 -1.412839 0.0086667\n",
       "9100-8900 -3.150000  -7.653828  1.353828 0.2257674\n",
       "\n",
       "$batch\n",
       "      diff         lwr        upr     p adj\n",
       "2-1  2.050  -4.1680828  8.2680828 0.8853016\n",
       "3-1  3.300  -2.9180828  9.5180828 0.5376297\n",
       "4-1  2.850  -3.3680828  9.0680828 0.6757699\n",
       "5-1 -2.375  -8.5930828  3.8430828 0.8105903\n",
       "6-1  6.750   0.5319172 12.9680828 0.0297368\n",
       "3-2  1.250  -4.9680828  7.4680828 0.9845521\n",
       "4-2  0.800  -5.4180828  7.0180828 0.9980198\n",
       "5-2 -4.425 -10.6430828  1.7930828 0.2483499\n",
       "6-2  4.700  -1.5180828 10.9180828 0.1986961\n",
       "4-3 -0.450  -6.6680828  5.7680828 0.9998784\n",
       "5-3 -5.675 -11.8930828  0.5430828 0.0837504\n",
       "6-3  3.450  -2.7680828  9.6680828 0.4925715\n",
       "5-4 -5.225 -11.4430828  0.9930828 0.1263042\n",
       "6-4  3.900  -2.3180828 10.1180828 0.3674672\n",
       "6-5  9.125   2.9069172 15.3430828 0.0027838\n"
      ]
     },
     "metadata": {},
     "output_type": "display_data"
    }
   ],
   "source": [
    "# 사후 분석\n",
    "\n",
    "TukeyHSD(rcbd.aov);"
   ]
  },
  {
   "cell_type": "markdown",
   "id": "fd11c4c3",
   "metadata": {},
   "source": [
    "---\n",
    "---"
   ]
  },
  {
   "cell_type": "markdown",
   "id": "001f81e7",
   "metadata": {},
   "source": [
    "## Lation Square Design\n",
    "잡음변수가 2개인 경우 k개 숫자가 각 행과 열에 한 번만 나타나도록 정사각형으로 배열"
   ]
  },
  {
   "cell_type": "code",
   "execution_count": 77,
   "id": "9acb0cc7",
   "metadata": {},
   "outputs": [],
   "source": [
    "noise1 <- as.factor(rep(1:5,each =5))\n",
    "noise2 <- as.factor(rep(1:5,times = 5))\n",
    "treat <- as.factor(c(\"A\",\"B\",\"C\",\"D\",\"E\",\"B\",\"C\",\"D\",\"E\",\"A\",\n",
    "                     \"C\",\"D\",\"E\",\"A\",\"B\",\"D\",\"E\",\"A\",\"B\",\"C\",\n",
    "                     \"E\",\"A\",\"B\",\"C\",\"D\"))\n",
    "y <- c(24,17,18,26,22,\n",
    "       20,24,38,31,30,\n",
    "       19,30,26,26,20,\n",
    "       24,27,27,23,29,\n",
    "       24,36,21,22,31)\n",
    "latin.data <- data.frame(operator=noise1,batch=noise2,\n",
    "                         formulation=treat,propulsion=y)"
   ]
  },
  {
   "cell_type": "markdown",
   "id": "87a224d8",
   "metadata": {},
   "source": [
    "### Full Model including all noises and factor"
   ]
  },
  {
   "cell_type": "code",
   "execution_count": 80,
   "id": "9a5aaaea",
   "metadata": {},
   "outputs": [
    {
     "data": {
      "text/html": [
       "<table class=\"dataframe\">\n",
       "<caption>A anova: 4 × 5</caption>\n",
       "<thead>\n",
       "\t<tr><th></th><th scope=col>Df</th><th scope=col>Sum Sq</th><th scope=col>Mean Sq</th><th scope=col>F value</th><th scope=col>Pr(&gt;F)</th></tr>\n",
       "\t<tr><th></th><th scope=col>&lt;int&gt;</th><th scope=col>&lt;dbl&gt;</th><th scope=col>&lt;dbl&gt;</th><th scope=col>&lt;dbl&gt;</th><th scope=col>&lt;dbl&gt;</th></tr>\n",
       "</thead>\n",
       "<tbody>\n",
       "\t<tr><th scope=row>formulation</th><td> 4</td><td>330</td><td>82.50000</td><td>7.734375</td><td>0.002536502</td></tr>\n",
       "\t<tr><th scope=row>batch</th><td> 4</td><td> 68</td><td>17.00000</td><td>1.593750</td><td>0.239058537</td></tr>\n",
       "\t<tr><th scope=row>operator</th><td> 4</td><td>150</td><td>37.50000</td><td>3.515625</td><td>0.040373048</td></tr>\n",
       "\t<tr><th scope=row>Residuals</th><td>12</td><td>128</td><td>10.66667</td><td>      NA</td><td>         NA</td></tr>\n",
       "</tbody>\n",
       "</table>\n"
      ],
      "text/latex": [
       "A anova: 4 × 5\n",
       "\\begin{tabular}{r|lllll}\n",
       "  & Df & Sum Sq & Mean Sq & F value & Pr(>F)\\\\\n",
       "  & <int> & <dbl> & <dbl> & <dbl> & <dbl>\\\\\n",
       "\\hline\n",
       "\tformulation &  4 & 330 & 82.50000 & 7.734375 & 0.002536502\\\\\n",
       "\tbatch &  4 &  68 & 17.00000 & 1.593750 & 0.239058537\\\\\n",
       "\toperator &  4 & 150 & 37.50000 & 3.515625 & 0.040373048\\\\\n",
       "\tResiduals & 12 & 128 & 10.66667 &       NA &          NA\\\\\n",
       "\\end{tabular}\n"
      ],
      "text/markdown": [
       "\n",
       "A anova: 4 × 5\n",
       "\n",
       "| <!--/--> | Df &lt;int&gt; | Sum Sq &lt;dbl&gt; | Mean Sq &lt;dbl&gt; | F value &lt;dbl&gt; | Pr(&gt;F) &lt;dbl&gt; |\n",
       "|---|---|---|---|---|---|\n",
       "| formulation |  4 | 330 | 82.50000 | 7.734375 | 0.002536502 |\n",
       "| batch |  4 |  68 | 17.00000 | 1.593750 | 0.239058537 |\n",
       "| operator |  4 | 150 | 37.50000 | 3.515625 | 0.040373048 |\n",
       "| Residuals | 12 | 128 | 10.66667 |       NA |          NA |\n",
       "\n"
      ],
      "text/plain": [
       "            Df Sum Sq Mean Sq  F value  Pr(>F)     \n",
       "formulation  4 330    82.50000 7.734375 0.002536502\n",
       "batch        4  68    17.00000 1.593750 0.239058537\n",
       "operator     4 150    37.50000 3.515625 0.040373048\n",
       "Residuals   12 128    10.66667       NA          NA"
      ]
     },
     "metadata": {},
     "output_type": "display_data"
    }
   ],
   "source": [
    "anova(aov(propulsion~formulation+batch+operator,data=latin.data))\n",
    "\n",
    "# 분석 결과 batch의 p-valuerk 유의수준보다 크므로 오차항에 pooling"
   ]
  },
  {
   "cell_type": "markdown",
   "id": "9601572d",
   "metadata": {},
   "source": [
    "### Reduced Model excluding insignificant noise\n",
    "통계적으로 유의하지 않은 효과를 제외하여 모형의 축소 진행"
   ]
  },
  {
   "cell_type": "code",
   "execution_count": 82,
   "id": "d0e112bf",
   "metadata": {},
   "outputs": [
    {
     "data": {
      "text/html": [
       "<table class=\"dataframe\">\n",
       "<caption>A anova: 3 × 5</caption>\n",
       "<thead>\n",
       "\t<tr><th></th><th scope=col>Df</th><th scope=col>Sum Sq</th><th scope=col>Mean Sq</th><th scope=col>F value</th><th scope=col>Pr(&gt;F)</th></tr>\n",
       "\t<tr><th></th><th scope=col>&lt;int&gt;</th><th scope=col>&lt;dbl&gt;</th><th scope=col>&lt;dbl&gt;</th><th scope=col>&lt;dbl&gt;</th><th scope=col>&lt;dbl&gt;</th></tr>\n",
       "</thead>\n",
       "<tbody>\n",
       "\t<tr><th scope=row>formulation</th><td> 4</td><td>330</td><td>82.50</td><td>6.734694</td><td>0.002237112</td></tr>\n",
       "\t<tr><th scope=row>operator</th><td> 4</td><td>150</td><td>37.50</td><td>3.061224</td><td>0.047377612</td></tr>\n",
       "\t<tr><th scope=row>Residuals</th><td>16</td><td>196</td><td>12.25</td><td>      NA</td><td>         NA</td></tr>\n",
       "</tbody>\n",
       "</table>\n"
      ],
      "text/latex": [
       "A anova: 3 × 5\n",
       "\\begin{tabular}{r|lllll}\n",
       "  & Df & Sum Sq & Mean Sq & F value & Pr(>F)\\\\\n",
       "  & <int> & <dbl> & <dbl> & <dbl> & <dbl>\\\\\n",
       "\\hline\n",
       "\tformulation &  4 & 330 & 82.50 & 6.734694 & 0.002237112\\\\\n",
       "\toperator &  4 & 150 & 37.50 & 3.061224 & 0.047377612\\\\\n",
       "\tResiduals & 16 & 196 & 12.25 &       NA &          NA\\\\\n",
       "\\end{tabular}\n"
      ],
      "text/markdown": [
       "\n",
       "A anova: 3 × 5\n",
       "\n",
       "| <!--/--> | Df &lt;int&gt; | Sum Sq &lt;dbl&gt; | Mean Sq &lt;dbl&gt; | F value &lt;dbl&gt; | Pr(&gt;F) &lt;dbl&gt; |\n",
       "|---|---|---|---|---|---|\n",
       "| formulation |  4 | 330 | 82.50 | 6.734694 | 0.002237112 |\n",
       "| operator |  4 | 150 | 37.50 | 3.061224 | 0.047377612 |\n",
       "| Residuals | 16 | 196 | 12.25 |       NA |          NA |\n",
       "\n"
      ],
      "text/plain": [
       "            Df Sum Sq Mean Sq F value  Pr(>F)     \n",
       "formulation  4 330    82.50   6.734694 0.002237112\n",
       "operator     4 150    37.50   3.061224 0.047377612\n",
       "Residuals   16 196    12.25         NA          NA"
      ]
     },
     "metadata": {},
     "output_type": "display_data"
    }
   ],
   "source": [
    "latin.aov <- aov(propulsion~formulation+operator,\n",
    "                 data=latin.data) \n",
    "anova(latin.aov)"
   ]
  },
  {
   "cell_type": "code",
   "execution_count": 83,
   "id": "6610c9a1",
   "metadata": {},
   "outputs": [
    {
     "data": {
      "text/plain": [
       "\n",
       "\tShapiro-Wilk normality test\n",
       "\n",
       "data:  resid(latin.aov)\n",
       "W = 0.95045, p-value = 0.2567\n"
      ]
     },
     "metadata": {},
     "output_type": "display_data"
    },
    {
     "data": {
      "text/plain": [
       "\n",
       "\tBartlett test of homogeneity of variances\n",
       "\n",
       "data:  propulsion by formulation\n",
       "Bartlett's K-squared = 3.0816, df = 4, p-value = 0.5443\n"
      ]
     },
     "metadata": {},
     "output_type": "display_data"
    }
   ],
   "source": [
    "shapiro.test(resid(latin.aov)) # 정규성 검정\n",
    "bartlett.test(propulsion~formulation,data=latin.data) # 등분산 검정\n",
    "\n",
    "# 검정 결과 두 가정 모두를 만족함을 확인할 수 있다"
   ]
  },
  {
   "cell_type": "markdown",
   "id": "aee2c505",
   "metadata": {},
   "source": [
    "---\n",
    "---"
   ]
  },
  {
   "cell_type": "markdown",
   "id": "42f42b51",
   "metadata": {},
   "source": [
    "## BIBD\n",
    "\n",
    "RIBD(Randomized Incomplete Block Design) : 모든 블록에서 모든 인자의 처리수준에 대해 실험이 불가능한 경우 </br>\n",
    "BIBD(Balanced Incomplete Block Design) : RIBD 실험 중 각 처리수준에 대한 실험의 횟수가 동일한 경우"
   ]
  },
  {
   "cell_type": "code",
   "execution_count": 85,
   "id": "6ea0018f",
   "metadata": {},
   "outputs": [],
   "source": [
    "bibd.data <- data.frame(block = as.factor(rep(1:4,each=4)),\n",
    "                        catalyst = as.factor(rep(1:4,times=4)),\n",
    "                        response = c(73,NA,73,75,74,75,75,NA,\n",
    "                                     NA,67,68,72,71,72,NA,75),\n",
    "                        na.rm=TRUE)"
   ]
  },
  {
   "cell_type": "code",
   "execution_count": 86,
   "id": "25e16c29",
   "metadata": {},
   "outputs": [
    {
     "data": {
      "text/html": [
       "<table class=\"dataframe\">\n",
       "<caption>A anova: 3 × 5</caption>\n",
       "<thead>\n",
       "\t<tr><th></th><th scope=col>Df</th><th scope=col>Sum Sq</th><th scope=col>Mean Sq</th><th scope=col>F value</th><th scope=col>Pr(&gt;F)</th></tr>\n",
       "\t<tr><th></th><th scope=col>&lt;int&gt;</th><th scope=col>&lt;dbl&gt;</th><th scope=col>&lt;dbl&gt;</th><th scope=col>&lt;dbl&gt;</th><th scope=col>&lt;dbl&gt;</th></tr>\n",
       "</thead>\n",
       "<tbody>\n",
       "\t<tr><th scope=row>catalyst</th><td>3</td><td>11.66667</td><td> 3.888889</td><td> 5.982906</td><td>0.0414634354</td></tr>\n",
       "\t<tr><th scope=row>block</th><td>3</td><td>66.08333</td><td>22.027778</td><td>33.888889</td><td>0.0009527577</td></tr>\n",
       "\t<tr><th scope=row>Residuals</th><td>5</td><td> 3.25000</td><td> 0.650000</td><td>       NA</td><td>          NA</td></tr>\n",
       "</tbody>\n",
       "</table>\n"
      ],
      "text/latex": [
       "A anova: 3 × 5\n",
       "\\begin{tabular}{r|lllll}\n",
       "  & Df & Sum Sq & Mean Sq & F value & Pr(>F)\\\\\n",
       "  & <int> & <dbl> & <dbl> & <dbl> & <dbl>\\\\\n",
       "\\hline\n",
       "\tcatalyst & 3 & 11.66667 &  3.888889 &  5.982906 & 0.0414634354\\\\\n",
       "\tblock & 3 & 66.08333 & 22.027778 & 33.888889 & 0.0009527577\\\\\n",
       "\tResiduals & 5 &  3.25000 &  0.650000 &        NA &           NA\\\\\n",
       "\\end{tabular}\n"
      ],
      "text/markdown": [
       "\n",
       "A anova: 3 × 5\n",
       "\n",
       "| <!--/--> | Df &lt;int&gt; | Sum Sq &lt;dbl&gt; | Mean Sq &lt;dbl&gt; | F value &lt;dbl&gt; | Pr(&gt;F) &lt;dbl&gt; |\n",
       "|---|---|---|---|---|---|\n",
       "| catalyst | 3 | 11.66667 |  3.888889 |  5.982906 | 0.0414634354 |\n",
       "| block | 3 | 66.08333 | 22.027778 | 33.888889 | 0.0009527577 |\n",
       "| Residuals | 5 |  3.25000 |  0.650000 |        NA |           NA |\n",
       "\n"
      ],
      "text/plain": [
       "          Df Sum Sq   Mean Sq   F value   Pr(>F)      \n",
       "catalyst  3  11.66667  3.888889  5.982906 0.0414634354\n",
       "block     3  66.08333 22.027778 33.888889 0.0009527577\n",
       "Residuals 5   3.25000  0.650000        NA           NA"
      ]
     },
     "metadata": {},
     "output_type": "display_data"
    }
   ],
   "source": [
    "bibd.aov <- aov(response~catalyst+block,data=bibd.data)\n",
    "anova(bibd.aov)"
   ]
  },
  {
   "cell_type": "code",
   "execution_count": 89,
   "id": "722b1cf4",
   "metadata": {},
   "outputs": [
    {
     "data": {
      "text/plain": [
       "\n",
       "\tShapiro-Wilk normality test\n",
       "\n",
       "data:  bibd.residue\n",
       "W = 0.96945, p-value = 0.905\n"
      ]
     },
     "metadata": {},
     "output_type": "display_data"
    }
   ],
   "source": [
    "bibd.residue <- residuals(bibd.aov);\n",
    "shapiro.test(bibd.residue)"
   ]
  },
  {
   "cell_type": "markdown",
   "id": "302d98a9",
   "metadata": {},
   "source": [
    "---\n",
    "---"
   ]
  },
  {
   "cell_type": "markdown",
   "id": "5e10f8c1",
   "metadata": {},
   "source": [
    "## Example"
   ]
  },
  {
   "cell_type": "markdown",
   "id": "6f760307",
   "metadata": {},
   "source": [
    "### Exercise 4.11: Blocking Experiments"
   ]
  },
  {
   "cell_type": "code",
   "execution_count": 90,
   "id": "fcd4a755",
   "metadata": {},
   "outputs": [],
   "source": [
    "design <- as.factor(c(rep(1:5, each = 6)))\n",
    "velocity <- as.factor(rep(c(11.73,14.37,16.59,20.43,23.46,28.74),times=5))\n",
    "perf <- c(0.78,0.85,0.93,1.14,0.97,0.80,0.85,0.92,0.97,0.86,\n",
    "          0.81,0.92,0.95,0.98,0.78,0.75,0.86,0.89,0.88,0.76,\n",
    "          0.77,0.81,0.89,0.86,0.76,0.78,0.83,0.83,0.83,0.75)\n",
    "nozzle.data <- data.frame(design,velocity,perf)"
   ]
  },
  {
   "cell_type": "code",
   "execution_count": 91,
   "id": "20c1a29a",
   "metadata": {},
   "outputs": [
    {
     "data": {
      "text/html": [
       "<table class=\"dataframe\">\n",
       "<caption>A anova: 3 × 5</caption>\n",
       "<thead>\n",
       "\t<tr><th></th><th scope=col>Df</th><th scope=col>Sum Sq</th><th scope=col>Mean Sq</th><th scope=col>F value</th><th scope=col>Pr(&gt;F)</th></tr>\n",
       "\t<tr><th></th><th scope=col>&lt;int&gt;</th><th scope=col>&lt;dbl&gt;</th><th scope=col>&lt;dbl&gt;</th><th scope=col>&lt;dbl&gt;</th><th scope=col>&lt;dbl&gt;</th></tr>\n",
       "</thead>\n",
       "<tbody>\n",
       "\t<tr><th scope=row>velocity</th><td> 5</td><td>0.004946667</td><td>0.0009893333</td><td>0.1191107</td><td>0.9866094</td></tr>\n",
       "\t<tr><th scope=row>design</th><td> 4</td><td>0.051280000</td><td>0.0128200000</td><td>1.5434626</td><td>0.2279324</td></tr>\n",
       "\t<tr><th scope=row>Residuals</th><td>20</td><td>0.166120000</td><td>0.0083060000</td><td>       NA</td><td>       NA</td></tr>\n",
       "</tbody>\n",
       "</table>\n"
      ],
      "text/latex": [
       "A anova: 3 × 5\n",
       "\\begin{tabular}{r|lllll}\n",
       "  & Df & Sum Sq & Mean Sq & F value & Pr(>F)\\\\\n",
       "  & <int> & <dbl> & <dbl> & <dbl> & <dbl>\\\\\n",
       "\\hline\n",
       "\tvelocity &  5 & 0.004946667 & 0.0009893333 & 0.1191107 & 0.9866094\\\\\n",
       "\tdesign &  4 & 0.051280000 & 0.0128200000 & 1.5434626 & 0.2279324\\\\\n",
       "\tResiduals & 20 & 0.166120000 & 0.0083060000 &        NA &        NA\\\\\n",
       "\\end{tabular}\n"
      ],
      "text/markdown": [
       "\n",
       "A anova: 3 × 5\n",
       "\n",
       "| <!--/--> | Df &lt;int&gt; | Sum Sq &lt;dbl&gt; | Mean Sq &lt;dbl&gt; | F value &lt;dbl&gt; | Pr(&gt;F) &lt;dbl&gt; |\n",
       "|---|---|---|---|---|---|\n",
       "| velocity |  5 | 0.004946667 | 0.0009893333 | 0.1191107 | 0.9866094 |\n",
       "| design |  4 | 0.051280000 | 0.0128200000 | 1.5434626 | 0.2279324 |\n",
       "| Residuals | 20 | 0.166120000 | 0.0083060000 |        NA |        NA |\n",
       "\n"
      ],
      "text/plain": [
       "          Df Sum Sq      Mean Sq      F value   Pr(>F)   \n",
       "velocity   5 0.004946667 0.0009893333 0.1191107 0.9866094\n",
       "design     4 0.051280000 0.0128200000 1.5434626 0.2279324\n",
       "Residuals 20 0.166120000 0.0083060000        NA        NA"
      ]
     },
     "metadata": {},
     "output_type": "display_data"
    },
    {
     "data": {
      "text/html": [
       "<table class=\"dataframe\">\n",
       "<caption>A anova: 3 × 5</caption>\n",
       "<thead>\n",
       "\t<tr><th></th><th scope=col>Df</th><th scope=col>Sum Sq</th><th scope=col>Mean Sq</th><th scope=col>F value</th><th scope=col>Pr(&gt;F)</th></tr>\n",
       "\t<tr><th></th><th scope=col>&lt;int&gt;</th><th scope=col>&lt;dbl&gt;</th><th scope=col>&lt;dbl&gt;</th><th scope=col>&lt;dbl&gt;</th><th scope=col>&lt;dbl&gt;</th></tr>\n",
       "</thead>\n",
       "<tbody>\n",
       "\t<tr><th scope=row>velocity</th><td> 5</td><td>0.004946667</td><td>0.0009893333</td><td>0.1191107</td><td>0.9866094</td></tr>\n",
       "\t<tr><th scope=row>design</th><td> 4</td><td>0.051280000</td><td>0.0128200000</td><td>1.5434626</td><td>0.2279324</td></tr>\n",
       "\t<tr><th scope=row>Residuals</th><td>20</td><td>0.166120000</td><td>0.0083060000</td><td>       NA</td><td>       NA</td></tr>\n",
       "</tbody>\n",
       "</table>\n"
      ],
      "text/latex": [
       "A anova: 3 × 5\n",
       "\\begin{tabular}{r|lllll}\n",
       "  & Df & Sum Sq & Mean Sq & F value & Pr(>F)\\\\\n",
       "  & <int> & <dbl> & <dbl> & <dbl> & <dbl>\\\\\n",
       "\\hline\n",
       "\tvelocity &  5 & 0.004946667 & 0.0009893333 & 0.1191107 & 0.9866094\\\\\n",
       "\tdesign &  4 & 0.051280000 & 0.0128200000 & 1.5434626 & 0.2279324\\\\\n",
       "\tResiduals & 20 & 0.166120000 & 0.0083060000 &        NA &        NA\\\\\n",
       "\\end{tabular}\n"
      ],
      "text/markdown": [
       "\n",
       "A anova: 3 × 5\n",
       "\n",
       "| <!--/--> | Df &lt;int&gt; | Sum Sq &lt;dbl&gt; | Mean Sq &lt;dbl&gt; | F value &lt;dbl&gt; | Pr(&gt;F) &lt;dbl&gt; |\n",
       "|---|---|---|---|---|---|\n",
       "| velocity |  5 | 0.004946667 | 0.0009893333 | 0.1191107 | 0.9866094 |\n",
       "| design |  4 | 0.051280000 | 0.0128200000 | 1.5434626 | 0.2279324 |\n",
       "| Residuals | 20 | 0.166120000 | 0.0083060000 |        NA |        NA |\n",
       "\n"
      ],
      "text/plain": [
       "          Df Sum Sq      Mean Sq      F value   Pr(>F)   \n",
       "velocity   5 0.004946667 0.0009893333 0.1191107 0.9866094\n",
       "design     4 0.051280000 0.0128200000 1.5434626 0.2279324\n",
       "Residuals 20 0.166120000 0.0083060000        NA        NA"
      ]
     },
     "metadata": {},
     "output_type": "display_data"
    }
   ],
   "source": [
    "nozzle.aov <- aov(perf~velocity+design,data=nozzle.data)\n",
    "nozzle.lm <- lm(perf~velocity+design,data=nozzle.data)\n",
    "anova(nozzle.aov); anova(nozzle.lm)"
   ]
  },
  {
   "cell_type": "code",
   "execution_count": 92,
   "id": "95dfed52",
   "metadata": {},
   "outputs": [
    {
     "data": {
      "text/plain": [
       "\n",
       "\tShapiro-Wilk normality test\n",
       "\n",
       "data:  nozzle.res\n",
       "W = 0.97402, p-value = 0.6538\n"
      ]
     },
     "metadata": {},
     "output_type": "display_data"
    },
    {
     "data": {
      "text/plain": [
       "\n",
       "\tBartlett test of homogeneity of variances\n",
       "\n",
       "data:  nozzle.res by design\n",
       "Bartlett's K-squared = 9.5337, df = 4, p-value = 0.04906\n"
      ]
     },
     "metadata": {},
     "output_type": "display_data"
    }
   ],
   "source": [
    "nozzle.res <- resid(nozzle.aov) # 잔차 계산\n",
    "shapiro.test(nozzle.res) # 정규성 검정\n",
    "bartlett.test(nozzle.res~design,data=nozzle.data) # 등분산 검정"
   ]
  },
  {
   "cell_type": "markdown",
   "id": "37362346",
   "metadata": {},
   "source": [
    "---"
   ]
  },
  {
   "cell_type": "markdown",
   "id": "bb1a3e70",
   "metadata": {},
   "source": [
    "### Exercise 4.21: Latin Square Design"
   ]
  },
  {
   "cell_type": "code",
   "execution_count": 94,
   "id": "06897552",
   "metadata": {},
   "outputs": [],
   "source": [
    "batch <- as.factor(c(rep(1:5,times=5)))\n",
    "day <- as.factor(c(rep(1:5,each=5)))\n",
    "ingred <- as.factor(c(\"a\",\"c\",\"b\",\"d\",\"e\",\n",
    "                      \"b\",\"e\",\"a\",\"c\",\"d\",\n",
    "                      \"d\",\"a\",\"c\",\"e\",\"b\",\n",
    "                      \"c\",\"d\",\"e\",\"b\",\"a\",\n",
    "                      \"e\",\"b\",\"d\",\"a\",\"c\"))\n",
    "time <- c(8,11,4,6,4,7,2,9,8,2,1,7,10,6,3,7,3,1,6,8,3,8,5,10,8)\n",
    "reaction.data <- data.frame(batch,day,ingred,time)"
   ]
  },
  {
   "cell_type": "code",
   "execution_count": 96,
   "id": "c50a0530",
   "metadata": {},
   "outputs": [
    {
     "data": {
      "text/plain": [
       "            Df Sum Sq Mean Sq F value   Pr(>F)    \n",
       "batch        4  15.44    3.86   1.235 0.347618    \n",
       "day          4  12.24    3.06   0.979 0.455014    \n",
       "ingred       4 141.44   35.36  11.309 0.000488 ***\n",
       "Residuals   12  37.52    3.13                     \n",
       "---\n",
       "Signif. codes:  0 ‘***’ 0.001 ‘**’ 0.01 ‘*’ 0.05 ‘.’ 0.1 ‘ ’ 1"
      ]
     },
     "metadata": {},
     "output_type": "display_data"
    }
   ],
   "source": [
    "summary(aov(time~batch+day+ingred,data=reaction.data))\n",
    "\n",
    "# batch와 day의 p-value가 유의수준보다 크므로 오차항으로 pooling"
   ]
  },
  {
   "cell_type": "code",
   "execution_count": 97,
   "id": "8caea093",
   "metadata": {},
   "outputs": [
    {
     "data": {
      "text/plain": [
       "            Df Sum Sq Mean Sq F value   Pr(>F)    \n",
       "ingred       4  141.4   35.36   10.85 7.67e-05 ***\n",
       "Residuals   20   65.2    3.26                     \n",
       "---\n",
       "Signif. codes:  0 ‘***’ 0.001 ‘**’ 0.01 ‘*’ 0.05 ‘.’ 0.1 ‘ ’ 1"
      ]
     },
     "metadata": {},
     "output_type": "display_data"
    }
   ],
   "source": [
    "reaction.aov <- aov(time~ingred,data=reaction.data) # Reduced Model\n",
    "summary(reaction.aov)"
   ]
  },
  {
   "cell_type": "code",
   "execution_count": 98,
   "id": "39f144f4",
   "metadata": {},
   "outputs": [
    {
     "data": {
      "text/plain": [
       "\n",
       "\tShapiro-Wilk normality test\n",
       "\n",
       "data:  reaction.res\n",
       "W = 0.95305, p-value = 0.2933\n"
      ]
     },
     "metadata": {},
     "output_type": "display_data"
    },
    {
     "data": {
      "text/plain": [
       "\n",
       "\tBartlett test of homogeneity of variances\n",
       "\n",
       "data:  reaction.res by ingred\n",
       "Bartlett's K-squared = 1.5544, df = 4, p-value = 0.817\n"
      ]
     },
     "metadata": {},
     "output_type": "display_data"
    }
   ],
   "source": [
    "# 모델의 유의성 검정\n",
    "\n",
    "reaction.res <- resid(reaction.aov)\n",
    "shapiro.test(reaction.res)\n",
    "bartlett.test(reaction.res~ingred,data=reaction.data)"
   ]
  },
  {
   "cell_type": "markdown",
   "id": "6a7bd9c1",
   "metadata": {},
   "source": [
    "---\n",
    "---\n",
    "---"
   ]
  },
  {
   "cell_type": "markdown",
   "id": "e53a8973",
   "metadata": {},
   "source": [
    "# Session 5 Factorial Experiments\n",
    "요인 배치 실험"
   ]
  },
  {
   "cell_type": "code",
   "execution_count": 100,
   "id": "f24e99e3",
   "metadata": {},
   "outputs": [],
   "source": [
    "library(dplyr)"
   ]
  },
  {
   "cell_type": "markdown",
   "id": "277eec76",
   "metadata": {},
   "source": [
    "## Two-Factor Experiments 2인자 요인배치실험"
   ]
  },
  {
   "cell_type": "code",
   "execution_count": 102,
   "id": "9b45315a",
   "metadata": {},
   "outputs": [],
   "source": [
    "x1 <- as.factor(rep(c(15,70,125),each=12))\n",
    "x2 <- as.factor(rep((rep((1:3),each=4)),times=3))\n",
    "y <- c(130,155,74,180,150,188,159,126,138,110,168,160,\n",
    "       34,40,80,75,136,122,106,115,174,120,150,139,\n",
    "       20,70,82,58,25,70,58,45,96,104,82,60)\n",
    "battery.data <- data.frame(temp = x1, material = x2, life = y) "
   ]
  },
  {
   "cell_type": "markdown",
   "id": "ebc12e81",
   "metadata": {},
   "source": [
    "### aov(종속변수~독립변수*독립변수) : 독립변수들 사이의 교호작용 분석"
   ]
  },
  {
   "cell_type": "code",
   "execution_count": 107,
   "id": "cae8c61e",
   "metadata": {},
   "outputs": [
    {
     "data": {
      "text/html": [
       "<table class=\"dataframe\">\n",
       "<caption>A anova: 4 × 5</caption>\n",
       "<thead>\n",
       "\t<tr><th></th><th scope=col>Df</th><th scope=col>Sum Sq</th><th scope=col>Mean Sq</th><th scope=col>F value</th><th scope=col>Pr(&gt;F)</th></tr>\n",
       "\t<tr><th></th><th scope=col>&lt;int&gt;</th><th scope=col>&lt;dbl&gt;</th><th scope=col>&lt;dbl&gt;</th><th scope=col>&lt;dbl&gt;</th><th scope=col>&lt;dbl&gt;</th></tr>\n",
       "</thead>\n",
       "<tbody>\n",
       "\t<tr><th scope=row>material</th><td> 2</td><td>10683.722</td><td> 5341.861</td><td> 7.911372</td><td>1.976083e-03</td></tr>\n",
       "\t<tr><th scope=row>temp</th><td> 2</td><td>39118.722</td><td>19559.361</td><td>28.967692</td><td>1.908596e-07</td></tr>\n",
       "\t<tr><th scope=row>material:temp</th><td> 4</td><td> 9613.778</td><td> 2403.444</td><td> 3.559535</td><td>1.861117e-02</td></tr>\n",
       "\t<tr><th scope=row>Residuals</th><td>27</td><td>18230.750</td><td>  675.213</td><td>       NA</td><td>          NA</td></tr>\n",
       "</tbody>\n",
       "</table>\n"
      ],
      "text/latex": [
       "A anova: 4 × 5\n",
       "\\begin{tabular}{r|lllll}\n",
       "  & Df & Sum Sq & Mean Sq & F value & Pr(>F)\\\\\n",
       "  & <int> & <dbl> & <dbl> & <dbl> & <dbl>\\\\\n",
       "\\hline\n",
       "\tmaterial &  2 & 10683.722 &  5341.861 &  7.911372 & 1.976083e-03\\\\\n",
       "\ttemp &  2 & 39118.722 & 19559.361 & 28.967692 & 1.908596e-07\\\\\n",
       "\tmaterial:temp &  4 &  9613.778 &  2403.444 &  3.559535 & 1.861117e-02\\\\\n",
       "\tResiduals & 27 & 18230.750 &   675.213 &        NA &           NA\\\\\n",
       "\\end{tabular}\n"
      ],
      "text/markdown": [
       "\n",
       "A anova: 4 × 5\n",
       "\n",
       "| <!--/--> | Df &lt;int&gt; | Sum Sq &lt;dbl&gt; | Mean Sq &lt;dbl&gt; | F value &lt;dbl&gt; | Pr(&gt;F) &lt;dbl&gt; |\n",
       "|---|---|---|---|---|---|\n",
       "| material |  2 | 10683.722 |  5341.861 |  7.911372 | 1.976083e-03 |\n",
       "| temp |  2 | 39118.722 | 19559.361 | 28.967692 | 1.908596e-07 |\n",
       "| material:temp |  4 |  9613.778 |  2403.444 |  3.559535 | 1.861117e-02 |\n",
       "| Residuals | 27 | 18230.750 |   675.213 |        NA |           NA |\n",
       "\n"
      ],
      "text/plain": [
       "              Df Sum Sq    Mean Sq   F value   Pr(>F)      \n",
       "material       2 10683.722  5341.861  7.911372 1.976083e-03\n",
       "temp           2 39118.722 19559.361 28.967692 1.908596e-07\n",
       "material:temp  4  9613.778  2403.444  3.559535 1.861117e-02\n",
       "Residuals     27 18230.750   675.213        NA           NA"
      ]
     },
     "metadata": {},
     "output_type": "display_data"
    }
   ],
   "source": [
    "battery.aov <- aov(life~material*temp,data=battery.data)\n",
    "anova(battery.aov)"
   ]
  },
  {
   "cell_type": "markdown",
   "id": "e7ec0e53",
   "metadata": {},
   "source": [
    "### 모델 유의성 검정"
   ]
  },
  {
   "cell_type": "code",
   "execution_count": 106,
   "id": "11acd789",
   "metadata": {},
   "outputs": [
    {
     "data": {
      "text/plain": [
       "\n",
       "\tShapiro-Wilk normality test\n",
       "\n",
       "data:  battery.res\n",
       "W = 0.97606, p-value = 0.6117\n"
      ]
     },
     "metadata": {},
     "output_type": "display_data"
    },
    {
     "data": {
      "text/plain": [
       "\n",
       "\tBartlett test of homogeneity of variances\n",
       "\n",
       "data:  battery.res by material\n",
       "Bartlett's K-squared = 3.1737, df = 2, p-value = 0.2046\n"
      ]
     },
     "metadata": {},
     "output_type": "display_data"
    }
   ],
   "source": [
    "battery.res <- resid(battery.aov) # 잔차 계산\n",
    "battery.data.res <- cbind(battery.data,battery.res)\n",
    "\n",
    "shapiro.test(battery.res)\n",
    "bartlett.test(battery.res~material,data=battery.data)"
   ]
  },
  {
   "cell_type": "markdown",
   "id": "29a70507",
   "metadata": {},
   "source": [
    "---"
   ]
  },
  {
   "cell_type": "markdown",
   "id": "6c4fca50",
   "metadata": {},
   "source": [
    "## Drink Bottling Example: General Factorial Experiments"
   ]
  },
  {
   "cell_type": "code",
   "execution_count": null,
   "id": "d64adfd6",
   "metadata": {},
   "outputs": [],
   "source": [
    "# Import Datasets from Excel\n",
    "general.data <- data.frame(percent=as.factor(general_data$Percent),\n",
    "                           speed=as.factor(general_data$Speed),\n",
    "                           pressure=as.factor(general_data$Pressure),\n",
    "                           deviation=general_data$Deviation)"
   ]
  },
  {
   "cell_type": "code",
   "execution_count": null,
   "id": "a5b402b5",
   "metadata": {},
   "outputs": [],
   "source": [
    "anova(aov(deviation~percent*speed*pressure,data=general.data))\n",
    "# 분석 결과 세 처리수준 각각의 교호작용의 p-value 값이 유의수준보다 크므로 오차항으로 pooling\n",
    "\n",
    "general.reduced <- aov(deviation~percent+speed+pressure,data=general.data)\n",
    "anova(general.reduced)"
   ]
  },
  {
   "cell_type": "markdown",
   "id": "728968ec",
   "metadata": {},
   "source": [
    "---\n",
    "---"
   ]
  },
  {
   "cell_type": "markdown",
   "id": "67c10b41",
   "metadata": {},
   "source": [
    "## Example"
   ]
  },
  {
   "cell_type": "markdown",
   "id": "1d8e18cf",
   "metadata": {},
   "source": [
    "### Example 5-5: Fitting Response with Qualitative Factor"
   ]
  },
  {
   "cell_type": "code",
   "execution_count": 113,
   "id": "629d0e45",
   "metadata": {},
   "outputs": [],
   "source": [
    "battery.data$temp.num <- as.numeric(as.character(battery.data$temp))"
   ]
  },
  {
   "cell_type": "code",
   "execution_count": 115,
   "id": "6594797f",
   "metadata": {},
   "outputs": [
    {
     "data": {
      "text/html": [
       "<table class=\"dataframe\">\n",
       "<caption>A anova: 6 × 5</caption>\n",
       "<thead>\n",
       "\t<tr><th></th><th scope=col>Df</th><th scope=col>Sum Sq</th><th scope=col>Mean Sq</th><th scope=col>F value</th><th scope=col>Pr(&gt;F)</th></tr>\n",
       "\t<tr><th></th><th scope=col>&lt;int&gt;</th><th scope=col>&lt;dbl&gt;</th><th scope=col>&lt;dbl&gt;</th><th scope=col>&lt;dbl&gt;</th><th scope=col>&lt;dbl&gt;</th></tr>\n",
       "</thead>\n",
       "<tbody>\n",
       "\t<tr><th scope=row>material</th><td> 2</td><td>10683.72222</td><td> 5341.86111</td><td> 7.9113723</td><td>1.976083e-03</td></tr>\n",
       "\t<tr><th scope=row>temp.num</th><td> 1</td><td>39042.66667</td><td>39042.66667</td><td>57.8227445</td><td>3.525248e-08</td></tr>\n",
       "\t<tr><th scope=row>I(temp.num^2)</th><td> 1</td><td>   76.05556</td><td>   76.05556</td><td> 0.1126394</td><td>7.397530e-01</td></tr>\n",
       "\t<tr><th scope=row>material:temp.num</th><td> 2</td><td> 2315.08333</td><td> 1157.54167</td><td> 1.7143357</td><td>1.991088e-01</td></tr>\n",
       "\t<tr><th scope=row>material:I(temp.num^2)</th><td> 2</td><td> 7298.69444</td><td> 3649.34722</td><td> 5.4047351</td><td>1.061214e-02</td></tr>\n",
       "\t<tr><th scope=row>Residuals</th><td>27</td><td>18230.75000</td><td>  675.21296</td><td>        NA</td><td>          NA</td></tr>\n",
       "</tbody>\n",
       "</table>\n"
      ],
      "text/latex": [
       "A anova: 6 × 5\n",
       "\\begin{tabular}{r|lllll}\n",
       "  & Df & Sum Sq & Mean Sq & F value & Pr(>F)\\\\\n",
       "  & <int> & <dbl> & <dbl> & <dbl> & <dbl>\\\\\n",
       "\\hline\n",
       "\tmaterial &  2 & 10683.72222 &  5341.86111 &  7.9113723 & 1.976083e-03\\\\\n",
       "\ttemp.num &  1 & 39042.66667 & 39042.66667 & 57.8227445 & 3.525248e-08\\\\\n",
       "\tI(temp.num\\textasciicircum{}2) &  1 &    76.05556 &    76.05556 &  0.1126394 & 7.397530e-01\\\\\n",
       "\tmaterial:temp.num &  2 &  2315.08333 &  1157.54167 &  1.7143357 & 1.991088e-01\\\\\n",
       "\tmaterial:I(temp.num\\textasciicircum{}2) &  2 &  7298.69444 &  3649.34722 &  5.4047351 & 1.061214e-02\\\\\n",
       "\tResiduals & 27 & 18230.75000 &   675.21296 &         NA &           NA\\\\\n",
       "\\end{tabular}\n"
      ],
      "text/markdown": [
       "\n",
       "A anova: 6 × 5\n",
       "\n",
       "| <!--/--> | Df &lt;int&gt; | Sum Sq &lt;dbl&gt; | Mean Sq &lt;dbl&gt; | F value &lt;dbl&gt; | Pr(&gt;F) &lt;dbl&gt; |\n",
       "|---|---|---|---|---|---|\n",
       "| material |  2 | 10683.72222 |  5341.86111 |  7.9113723 | 1.976083e-03 |\n",
       "| temp.num |  1 | 39042.66667 | 39042.66667 | 57.8227445 | 3.525248e-08 |\n",
       "| I(temp.num^2) |  1 |    76.05556 |    76.05556 |  0.1126394 | 7.397530e-01 |\n",
       "| material:temp.num |  2 |  2315.08333 |  1157.54167 |  1.7143357 | 1.991088e-01 |\n",
       "| material:I(temp.num^2) |  2 |  7298.69444 |  3649.34722 |  5.4047351 | 1.061214e-02 |\n",
       "| Residuals | 27 | 18230.75000 |   675.21296 |         NA |           NA |\n",
       "\n"
      ],
      "text/plain": [
       "                       Df Sum Sq      Mean Sq     F value    Pr(>F)      \n",
       "material                2 10683.72222  5341.86111  7.9113723 1.976083e-03\n",
       "temp.num                1 39042.66667 39042.66667 57.8227445 3.525248e-08\n",
       "I(temp.num^2)           1    76.05556    76.05556  0.1126394 7.397530e-01\n",
       "material:temp.num       2  2315.08333  1157.54167  1.7143357 1.991088e-01\n",
       "material:I(temp.num^2)  2  7298.69444  3649.34722  5.4047351 1.061214e-02\n",
       "Residuals              27 18230.75000   675.21296         NA           NA"
      ]
     },
     "metadata": {},
     "output_type": "display_data"
    }
   ],
   "source": [
    "battery.aov.quad <- aov(life~material+temp.num+I(temp.num^2)\n",
    "                        +material:temp.num+material:I(temp.num^2),\n",
    "                        data=battery.data)\n",
    "anova(battery.aov.quad)"
   ]
  },
  {
   "cell_type": "markdown",
   "id": "2242c4c1",
   "metadata": {},
   "source": [
    "---"
   ]
  },
  {
   "cell_type": "markdown",
   "id": "6f37b82c",
   "metadata": {},
   "source": [
    "### Example 5-6: Tool Life Experiments"
   ]
  },
  {
   "cell_type": "code",
   "execution_count": 117,
   "id": "e07bb7a0",
   "metadata": {},
   "outputs": [],
   "source": [
    "tool.data <- data.frame(speed=rep(c(125,150,175),each=6),\n",
    "                        angle=rep(rep(c(15,20,25),each=2),times=3),\n",
    "                        life=c(-2,-1,0,2,-1,0,\n",
    "                               -3,0,1,3,5,6,\n",
    "                               2,3,4,6,0,-1))"
   ]
  },
  {
   "cell_type": "code",
   "execution_count": 118,
   "id": "db906a6f",
   "metadata": {},
   "outputs": [
    {
     "data": {
      "text/plain": [
       "\n",
       "Call:\n",
       "lm(formula = life ~ angle * speed + I(angle^2) * I(speed^2) + \n",
       "    angle:I(speed^2) + I(angle^2):speed, data = tool.data)\n",
       "\n",
       "Residuals:\n",
       "   Min     1Q Median     3Q    Max \n",
       "  -1.5   -0.5    0.0    0.5    1.5 \n",
       "\n",
       "Coefficients:\n",
       "                        Estimate Std. Error t value Pr(>|t|)  \n",
       "(Intercept)           -1.068e+03  7.022e+02  -1.521   0.1626  \n",
       "angle                  1.363e+02  7.261e+01   1.877   0.0932 .\n",
       "speed                  1.448e+01  9.503e+00   1.524   0.1619  \n",
       "I(angle^2)            -4.080e+00  1.810e+00  -2.254   0.0507 .\n",
       "I(speed^2)            -4.960e-02  3.164e-02  -1.568   0.1514  \n",
       "angle:speed           -1.864e+00  9.827e-01  -1.897   0.0903 .\n",
       "I(angle^2):I(speed^2) -1.920e-04  8.158e-05  -2.353   0.0431 *\n",
       "angle:I(speed^2)       6.400e-03  3.272e-03   1.956   0.0822 .\n",
       "speed:I(angle^2)       5.600e-02  2.450e-02   2.285   0.0481 *\n",
       "---\n",
       "Signif. codes:  0 ‘***’ 0.001 ‘**’ 0.01 ‘*’ 0.05 ‘.’ 0.1 ‘ ’ 1\n",
       "\n",
       "Residual standard error: 1.202 on 9 degrees of freedom\n",
       "Multiple R-squared:  0.8952,\tAdjusted R-squared:  0.802 \n",
       "F-statistic: 9.606 on 8 and 9 DF,  p-value: 0.001337\n"
      ]
     },
     "metadata": {},
     "output_type": "display_data"
    }
   ],
   "source": [
    "tool.lm <- lm(life~angle*speed+I(angle^2)*I(speed^2)+\n",
    "                angle:I(speed^2)+I(angle^2):speed,tool.data)\n",
    "summary(tool.lm)"
   ]
  },
  {
   "cell_type": "markdown",
   "id": "bcb8caa7",
   "metadata": {},
   "source": [
    "---"
   ]
  },
  {
   "cell_type": "markdown",
   "id": "7a98f1d6",
   "metadata": {},
   "source": [
    "### Exercise 5.9: Qualitative Factors"
   ]
  },
  {
   "cell_type": "code",
   "execution_count": 121,
   "id": "59bb79ed",
   "metadata": {},
   "outputs": [],
   "source": [
    "tube.data <- data.frame(glass=as.factor(rep(rep(1:2,each=3),times=3)),\n",
    "                        phosphor=as.factor(rep(1:3,each=6)),\n",
    "                        brightness=c(280,290,285,240,235,240,\n",
    "                                     300,310,295,260,240,235,\n",
    "                                     290,285,290,220,225,230))"
   ]
  },
  {
   "cell_type": "code",
   "execution_count": 127,
   "id": "015d4959",
   "metadata": {},
   "outputs": [
    {
     "data": {
      "text/html": [
       "<table class=\"dataframe\">\n",
       "<caption>A anova: 4 × 5</caption>\n",
       "<thead>\n",
       "\t<tr><th></th><th scope=col>Df</th><th scope=col>Sum Sq</th><th scope=col>Mean Sq</th><th scope=col>F value</th><th scope=col>Pr(&gt;F)</th></tr>\n",
       "\t<tr><th></th><th scope=col>&lt;int&gt;</th><th scope=col>&lt;dbl&gt;</th><th scope=col>&lt;dbl&gt;</th><th scope=col>&lt;dbl&gt;</th><th scope=col>&lt;dbl&gt;</th></tr>\n",
       "</thead>\n",
       "<tbody>\n",
       "\t<tr><th scope=row>glass</th><td> 1</td><td>13888.8889</td><td>13888.8889</td><td>277.777778</td><td>1.158408e-09</td></tr>\n",
       "\t<tr><th scope=row>phosphor</th><td> 2</td><td>  877.7778</td><td>  438.8889</td><td>  8.777778</td><td>4.479739e-03</td></tr>\n",
       "\t<tr><th scope=row>glass:phosphor</th><td> 2</td><td>  211.1111</td><td>  105.5556</td><td>  2.111111</td><td>1.638421e-01</td></tr>\n",
       "\t<tr><th scope=row>Residuals</th><td>12</td><td>  600.0000</td><td>   50.0000</td><td>        NA</td><td>          NA</td></tr>\n",
       "</tbody>\n",
       "</table>\n"
      ],
      "text/latex": [
       "A anova: 4 × 5\n",
       "\\begin{tabular}{r|lllll}\n",
       "  & Df & Sum Sq & Mean Sq & F value & Pr(>F)\\\\\n",
       "  & <int> & <dbl> & <dbl> & <dbl> & <dbl>\\\\\n",
       "\\hline\n",
       "\tglass &  1 & 13888.8889 & 13888.8889 & 277.777778 & 1.158408e-09\\\\\n",
       "\tphosphor &  2 &   877.7778 &   438.8889 &   8.777778 & 4.479739e-03\\\\\n",
       "\tglass:phosphor &  2 &   211.1111 &   105.5556 &   2.111111 & 1.638421e-01\\\\\n",
       "\tResiduals & 12 &   600.0000 &    50.0000 &         NA &           NA\\\\\n",
       "\\end{tabular}\n"
      ],
      "text/markdown": [
       "\n",
       "A anova: 4 × 5\n",
       "\n",
       "| <!--/--> | Df &lt;int&gt; | Sum Sq &lt;dbl&gt; | Mean Sq &lt;dbl&gt; | F value &lt;dbl&gt; | Pr(&gt;F) &lt;dbl&gt; |\n",
       "|---|---|---|---|---|---|\n",
       "| glass |  1 | 13888.8889 | 13888.8889 | 277.777778 | 1.158408e-09 |\n",
       "| phosphor |  2 |   877.7778 |   438.8889 |   8.777778 | 4.479739e-03 |\n",
       "| glass:phosphor |  2 |   211.1111 |   105.5556 |   2.111111 | 1.638421e-01 |\n",
       "| Residuals | 12 |   600.0000 |    50.0000 |         NA |           NA |\n",
       "\n"
      ],
      "text/plain": [
       "               Df Sum Sq     Mean Sq    F value    Pr(>F)      \n",
       "glass           1 13888.8889 13888.8889 277.777778 1.158408e-09\n",
       "phosphor        2   877.7778   438.8889   8.777778 4.479739e-03\n",
       "glass:phosphor  2   211.1111   105.5556   2.111111 1.638421e-01\n",
       "Residuals      12   600.0000    50.0000         NA           NA"
      ]
     },
     "metadata": {},
     "output_type": "display_data"
    }
   ],
   "source": [
    "anova(lm(brightness~glass*phosphor,data=tube.data))\n",
    "\n",
    "# glass와 phosphor의 교호작용이 1.638421e-01=0.2로 유의수준보다 크므로 오차항으로 pooling"
   ]
  },
  {
   "cell_type": "code",
   "execution_count": 126,
   "id": "96829ceb",
   "metadata": {},
   "outputs": [
    {
     "data": {
      "text/html": [
       "<table class=\"dataframe\">\n",
       "<caption>A anova: 3 × 5</caption>\n",
       "<thead>\n",
       "\t<tr><th></th><th scope=col>Df</th><th scope=col>Sum Sq</th><th scope=col>Mean Sq</th><th scope=col>F value</th><th scope=col>Pr(&gt;F)</th></tr>\n",
       "\t<tr><th></th><th scope=col>&lt;int&gt;</th><th scope=col>&lt;dbl&gt;</th><th scope=col>&lt;dbl&gt;</th><th scope=col>&lt;dbl&gt;</th><th scope=col>&lt;dbl&gt;</th></tr>\n",
       "</thead>\n",
       "<tbody>\n",
       "\t<tr><th scope=row>glass</th><td> 1</td><td>13888.8889</td><td>13888.88889</td><td>239.726027</td><td>3.343648e-10</td></tr>\n",
       "\t<tr><th scope=row>phosphor</th><td> 2</td><td>  877.7778</td><td>  438.88889</td><td>  7.575342</td><td>5.893251e-03</td></tr>\n",
       "\t<tr><th scope=row>Residuals</th><td>14</td><td>  811.1111</td><td>   57.93651</td><td>        NA</td><td>          NA</td></tr>\n",
       "</tbody>\n",
       "</table>\n"
      ],
      "text/latex": [
       "A anova: 3 × 5\n",
       "\\begin{tabular}{r|lllll}\n",
       "  & Df & Sum Sq & Mean Sq & F value & Pr(>F)\\\\\n",
       "  & <int> & <dbl> & <dbl> & <dbl> & <dbl>\\\\\n",
       "\\hline\n",
       "\tglass &  1 & 13888.8889 & 13888.88889 & 239.726027 & 3.343648e-10\\\\\n",
       "\tphosphor &  2 &   877.7778 &   438.88889 &   7.575342 & 5.893251e-03\\\\\n",
       "\tResiduals & 14 &   811.1111 &    57.93651 &         NA &           NA\\\\\n",
       "\\end{tabular}\n"
      ],
      "text/markdown": [
       "\n",
       "A anova: 3 × 5\n",
       "\n",
       "| <!--/--> | Df &lt;int&gt; | Sum Sq &lt;dbl&gt; | Mean Sq &lt;dbl&gt; | F value &lt;dbl&gt; | Pr(&gt;F) &lt;dbl&gt; |\n",
       "|---|---|---|---|---|---|\n",
       "| glass |  1 | 13888.8889 | 13888.88889 | 239.726027 | 3.343648e-10 |\n",
       "| phosphor |  2 |   877.7778 |   438.88889 |   7.575342 | 5.893251e-03 |\n",
       "| Residuals | 14 |   811.1111 |    57.93651 |         NA |           NA |\n",
       "\n"
      ],
      "text/plain": [
       "          Df Sum Sq     Mean Sq     F value    Pr(>F)      \n",
       "glass      1 13888.8889 13888.88889 239.726027 3.343648e-10\n",
       "phosphor   2   877.7778   438.88889   7.575342 5.893251e-03\n",
       "Residuals 14   811.1111    57.93651         NA           NA"
      ]
     },
     "metadata": {},
     "output_type": "display_data"
    }
   ],
   "source": [
    "tube.lm <- lm(brightness~glass+phosphor,data=tube.data) # Reduced Model\n",
    "anova(tube.lm);"
   ]
  },
  {
   "cell_type": "code",
   "execution_count": 124,
   "id": "dd9fb970",
   "metadata": {},
   "outputs": [
    {
     "data": {
      "text/plain": [
       "\n",
       "\tShapiro-Wilk normality test\n",
       "\n",
       "data:  tube.res\n",
       "W = 0.96474, p-value = 0.6951\n"
      ]
     },
     "metadata": {},
     "output_type": "display_data"
    },
    {
     "data": {
      "text/plain": [
       "\n",
       "\tBartlett test of homogeneity of variances\n",
       "\n",
       "data:  tube.res by tube.data$glass\n",
       "Bartlett's K-squared = 0.65039, df = 1, p-value = 0.42\n"
      ]
     },
     "metadata": {},
     "output_type": "display_data"
    },
    {
     "data": {
      "text/plain": [
       "\n",
       "\tBartlett test of homogeneity of variances\n",
       "\n",
       "data:  tube.res by tube.data$phosphor\n",
       "Bartlett's K-squared = 1.6972, df = 2, p-value = 0.428\n"
      ]
     },
     "metadata": {},
     "output_type": "display_data"
    }
   ],
   "source": [
    "# 모델 적합성 검정\n",
    "\n",
    "tube.res <- resid(tube.lm)\n",
    "shapiro.test(tube.res)\n",
    "bartlett.test(tube.res~tube.data$glass)\n",
    "bartlett.test(tube.res~tube.data$phosphor)"
   ]
  },
  {
   "cell_type": "markdown",
   "id": "5c8e21d8",
   "metadata": {},
   "source": [
    "---"
   ]
  },
  {
   "cell_type": "markdown",
   "id": "ce05e7d6",
   "metadata": {},
   "source": [
    "### Exercies 5.22: 2-Way ANOVA with a Blocking Factor"
   ]
  },
  {
   "cell_type": "code",
   "execution_count": 128,
   "id": "0c6151cb",
   "metadata": {},
   "outputs": [
    {
     "data": {
      "text/html": [
       "<table class=\"dataframe\">\n",
       "<caption>A data.frame: 18 × 4</caption>\n",
       "<thead>\n",
       "\t<tr><th scope=col>temp</th><th scope=col>pressure</th><th scope=col>block</th><th scope=col>response</th></tr>\n",
       "\t<tr><th scope=col>&lt;fct&gt;</th><th scope=col>&lt;fct&gt;</th><th scope=col>&lt;fct&gt;</th><th scope=col>&lt;dbl&gt;</th></tr>\n",
       "</thead>\n",
       "<tbody>\n",
       "\t<tr><td>low   </td><td>250</td><td>1</td><td>86.3</td></tr>\n",
       "\t<tr><td>medium</td><td>250</td><td>1</td><td>88.5</td></tr>\n",
       "\t<tr><td>high  </td><td>250</td><td>1</td><td>89.1</td></tr>\n",
       "\t<tr><td>low   </td><td>260</td><td>1</td><td>84.0</td></tr>\n",
       "\t<tr><td>medium</td><td>260</td><td>1</td><td>87.3</td></tr>\n",
       "\t<tr><td>high  </td><td>260</td><td>1</td><td>90.2</td></tr>\n",
       "\t<tr><td>low   </td><td>270</td><td>1</td><td>85.8</td></tr>\n",
       "\t<tr><td>medium</td><td>270</td><td>1</td><td>89.0</td></tr>\n",
       "\t<tr><td>high  </td><td>270</td><td>1</td><td>91.3</td></tr>\n",
       "\t<tr><td>low   </td><td>250</td><td>2</td><td>86.1</td></tr>\n",
       "\t<tr><td>medium</td><td>250</td><td>2</td><td>89.4</td></tr>\n",
       "\t<tr><td>high  </td><td>250</td><td>2</td><td>91.7</td></tr>\n",
       "\t<tr><td>low   </td><td>260</td><td>2</td><td>85.2</td></tr>\n",
       "\t<tr><td>medium</td><td>260</td><td>2</td><td>89.9</td></tr>\n",
       "\t<tr><td>high  </td><td>260</td><td>2</td><td>93.2</td></tr>\n",
       "\t<tr><td>low   </td><td>270</td><td>2</td><td>89.3</td></tr>\n",
       "\t<tr><td>medium</td><td>270</td><td>2</td><td>90.3</td></tr>\n",
       "\t<tr><td>high  </td><td>270</td><td>2</td><td>93.7</td></tr>\n",
       "</tbody>\n",
       "</table>\n"
      ],
      "text/latex": [
       "A data.frame: 18 × 4\n",
       "\\begin{tabular}{llll}\n",
       " temp & pressure & block & response\\\\\n",
       " <fct> & <fct> & <fct> & <dbl>\\\\\n",
       "\\hline\n",
       "\t low    & 250 & 1 & 86.3\\\\\n",
       "\t medium & 250 & 1 & 88.5\\\\\n",
       "\t high   & 250 & 1 & 89.1\\\\\n",
       "\t low    & 260 & 1 & 84.0\\\\\n",
       "\t medium & 260 & 1 & 87.3\\\\\n",
       "\t high   & 260 & 1 & 90.2\\\\\n",
       "\t low    & 270 & 1 & 85.8\\\\\n",
       "\t medium & 270 & 1 & 89.0\\\\\n",
       "\t high   & 270 & 1 & 91.3\\\\\n",
       "\t low    & 250 & 2 & 86.1\\\\\n",
       "\t medium & 250 & 2 & 89.4\\\\\n",
       "\t high   & 250 & 2 & 91.7\\\\\n",
       "\t low    & 260 & 2 & 85.2\\\\\n",
       "\t medium & 260 & 2 & 89.9\\\\\n",
       "\t high   & 260 & 2 & 93.2\\\\\n",
       "\t low    & 270 & 2 & 89.3\\\\\n",
       "\t medium & 270 & 2 & 90.3\\\\\n",
       "\t high   & 270 & 2 & 93.7\\\\\n",
       "\\end{tabular}\n"
      ],
      "text/markdown": [
       "\n",
       "A data.frame: 18 × 4\n",
       "\n",
       "| temp &lt;fct&gt; | pressure &lt;fct&gt; | block &lt;fct&gt; | response &lt;dbl&gt; |\n",
       "|---|---|---|---|\n",
       "| low    | 250 | 1 | 86.3 |\n",
       "| medium | 250 | 1 | 88.5 |\n",
       "| high   | 250 | 1 | 89.1 |\n",
       "| low    | 260 | 1 | 84.0 |\n",
       "| medium | 260 | 1 | 87.3 |\n",
       "| high   | 260 | 1 | 90.2 |\n",
       "| low    | 270 | 1 | 85.8 |\n",
       "| medium | 270 | 1 | 89.0 |\n",
       "| high   | 270 | 1 | 91.3 |\n",
       "| low    | 250 | 2 | 86.1 |\n",
       "| medium | 250 | 2 | 89.4 |\n",
       "| high   | 250 | 2 | 91.7 |\n",
       "| low    | 260 | 2 | 85.2 |\n",
       "| medium | 260 | 2 | 89.9 |\n",
       "| high   | 260 | 2 | 93.2 |\n",
       "| low    | 270 | 2 | 89.3 |\n",
       "| medium | 270 | 2 | 90.3 |\n",
       "| high   | 270 | 2 | 93.7 |\n",
       "\n"
      ],
      "text/plain": [
       "   temp   pressure block response\n",
       "1  low    250      1     86.3    \n",
       "2  medium 250      1     88.5    \n",
       "3  high   250      1     89.1    \n",
       "4  low    260      1     84.0    \n",
       "5  medium 260      1     87.3    \n",
       "6  high   260      1     90.2    \n",
       "7  low    270      1     85.8    \n",
       "8  medium 270      1     89.0    \n",
       "9  high   270      1     91.3    \n",
       "10 low    250      2     86.1    \n",
       "11 medium 250      2     89.4    \n",
       "12 high   250      2     91.7    \n",
       "13 low    260      2     85.2    \n",
       "14 medium 260      2     89.9    \n",
       "15 high   260      2     93.2    \n",
       "16 low    270      2     89.3    \n",
       "17 medium 270      2     90.3    \n",
       "18 high   270      2     93.7    "
      ]
     },
     "metadata": {},
     "output_type": "display_data"
    }
   ],
   "source": [
    "temp <- as.factor(rep(c(\"low\",\"medium\",\"high\"),times=6))\n",
    "pressure <- as.factor(rep(seq(250,270,by=10),each=3,times=2))\n",
    "block <- as.factor(rep(c(1,2),each=9))\n",
    "response <- c(86.3,88.5,89.1,84.0,87.3,90.2,85.8,89.0,91.3,\n",
    "              86.1,89.4,91.7,85.2,89.9,93.2,89.3,90.3,93.7)\n",
    "chem.data <- data.frame(temp,pressure,block,response)\n",
    "chem.data"
   ]
  },
  {
   "cell_type": "code",
   "execution_count": 130,
   "id": "7521057e",
   "metadata": {},
   "outputs": [
    {
     "data": {
      "text/html": [
       "<table class=\"dataframe\">\n",
       "<caption>A anova: 5 × 5</caption>\n",
       "<thead>\n",
       "\t<tr><th></th><th scope=col>Df</th><th scope=col>Sum Sq</th><th scope=col>Mean Sq</th><th scope=col>F value</th><th scope=col>Pr(&gt;F)</th></tr>\n",
       "\t<tr><th></th><th scope=col>&lt;int&gt;</th><th scope=col>&lt;dbl&gt;</th><th scope=col>&lt;dbl&gt;</th><th scope=col>&lt;dbl&gt;</th><th scope=col>&lt;dbl&gt;</th></tr>\n",
       "</thead>\n",
       "<tbody>\n",
       "\t<tr><th scope=row>block</th><td>1</td><td>16.627222</td><td>16.6272222</td><td>23.635933</td><td>1.253128e-03</td></tr>\n",
       "\t<tr><th scope=row>temp</th><td>2</td><td>88.254444</td><td>44.1272222</td><td>62.727739</td><td>1.291262e-05</td></tr>\n",
       "\t<tr><th scope=row>pressure</th><td>2</td><td> 9.041111</td><td> 4.5205556</td><td> 6.426061</td><td>2.166501e-02</td></tr>\n",
       "\t<tr><th scope=row>temp:pressure</th><td>4</td><td> 5.318889</td><td> 1.3297222</td><td> 1.890227</td><td>2.056335e-01</td></tr>\n",
       "\t<tr><th scope=row>Residuals</th><td>8</td><td> 5.627778</td><td> 0.7034722</td><td>       NA</td><td>          NA</td></tr>\n",
       "</tbody>\n",
       "</table>\n"
      ],
      "text/latex": [
       "A anova: 5 × 5\n",
       "\\begin{tabular}{r|lllll}\n",
       "  & Df & Sum Sq & Mean Sq & F value & Pr(>F)\\\\\n",
       "  & <int> & <dbl> & <dbl> & <dbl> & <dbl>\\\\\n",
       "\\hline\n",
       "\tblock & 1 & 16.627222 & 16.6272222 & 23.635933 & 1.253128e-03\\\\\n",
       "\ttemp & 2 & 88.254444 & 44.1272222 & 62.727739 & 1.291262e-05\\\\\n",
       "\tpressure & 2 &  9.041111 &  4.5205556 &  6.426061 & 2.166501e-02\\\\\n",
       "\ttemp:pressure & 4 &  5.318889 &  1.3297222 &  1.890227 & 2.056335e-01\\\\\n",
       "\tResiduals & 8 &  5.627778 &  0.7034722 &        NA &           NA\\\\\n",
       "\\end{tabular}\n"
      ],
      "text/markdown": [
       "\n",
       "A anova: 5 × 5\n",
       "\n",
       "| <!--/--> | Df &lt;int&gt; | Sum Sq &lt;dbl&gt; | Mean Sq &lt;dbl&gt; | F value &lt;dbl&gt; | Pr(&gt;F) &lt;dbl&gt; |\n",
       "|---|---|---|---|---|---|\n",
       "| block | 1 | 16.627222 | 16.6272222 | 23.635933 | 1.253128e-03 |\n",
       "| temp | 2 | 88.254444 | 44.1272222 | 62.727739 | 1.291262e-05 |\n",
       "| pressure | 2 |  9.041111 |  4.5205556 |  6.426061 | 2.166501e-02 |\n",
       "| temp:pressure | 4 |  5.318889 |  1.3297222 |  1.890227 | 2.056335e-01 |\n",
       "| Residuals | 8 |  5.627778 |  0.7034722 |        NA |           NA |\n",
       "\n"
      ],
      "text/plain": [
       "              Df Sum Sq    Mean Sq    F value   Pr(>F)      \n",
       "block         1  16.627222 16.6272222 23.635933 1.253128e-03\n",
       "temp          2  88.254444 44.1272222 62.727739 1.291262e-05\n",
       "pressure      2   9.041111  4.5205556  6.426061 2.166501e-02\n",
       "temp:pressure 4   5.318889  1.3297222  1.890227 2.056335e-01\n",
       "Residuals     8   5.627778  0.7034722        NA           NA"
      ]
     },
     "metadata": {},
     "output_type": "display_data"
    }
   ],
   "source": [
    "anova(lm(response~block+temp*pressure,data=chem.data))\n",
    "\n",
    "# temp와 pressure의 교호작용의 p-value가 2.056335e-01=0.2로 유의수준보다 크므로 오차항으로 pooling"
   ]
  },
  {
   "cell_type": "code",
   "execution_count": 131,
   "id": "8ab418ce",
   "metadata": {},
   "outputs": [
    {
     "data": {
      "text/html": [
       "<table class=\"dataframe\">\n",
       "<caption>A anova: 4 × 5</caption>\n",
       "<thead>\n",
       "\t<tr><th></th><th scope=col>Df</th><th scope=col>Sum Sq</th><th scope=col>Mean Sq</th><th scope=col>F value</th><th scope=col>Pr(&gt;F)</th></tr>\n",
       "\t<tr><th></th><th scope=col>&lt;int&gt;</th><th scope=col>&lt;dbl&gt;</th><th scope=col>&lt;dbl&gt;</th><th scope=col>&lt;dbl&gt;</th><th scope=col>&lt;dbl&gt;</th></tr>\n",
       "</thead>\n",
       "<tbody>\n",
       "\t<tr><th scope=row>block</th><td> 1</td><td>16.627222</td><td>16.6272222</td><td>18.227162</td><td>1.089381e-03</td></tr>\n",
       "\t<tr><th scope=row>temp</th><td> 2</td><td>88.254444</td><td>44.1272222</td><td>48.373325</td><td>1.805478e-06</td></tr>\n",
       "\t<tr><th scope=row>pressure</th><td> 2</td><td> 9.041111</td><td> 4.5205556</td><td> 4.955542</td><td>2.698387e-02</td></tr>\n",
       "\t<tr><th scope=row>Residuals</th><td>12</td><td>10.946667</td><td> 0.9122222</td><td>       NA</td><td>          NA</td></tr>\n",
       "</tbody>\n",
       "</table>\n"
      ],
      "text/latex": [
       "A anova: 4 × 5\n",
       "\\begin{tabular}{r|lllll}\n",
       "  & Df & Sum Sq & Mean Sq & F value & Pr(>F)\\\\\n",
       "  & <int> & <dbl> & <dbl> & <dbl> & <dbl>\\\\\n",
       "\\hline\n",
       "\tblock &  1 & 16.627222 & 16.6272222 & 18.227162 & 1.089381e-03\\\\\n",
       "\ttemp &  2 & 88.254444 & 44.1272222 & 48.373325 & 1.805478e-06\\\\\n",
       "\tpressure &  2 &  9.041111 &  4.5205556 &  4.955542 & 2.698387e-02\\\\\n",
       "\tResiduals & 12 & 10.946667 &  0.9122222 &        NA &           NA\\\\\n",
       "\\end{tabular}\n"
      ],
      "text/markdown": [
       "\n",
       "A anova: 4 × 5\n",
       "\n",
       "| <!--/--> | Df &lt;int&gt; | Sum Sq &lt;dbl&gt; | Mean Sq &lt;dbl&gt; | F value &lt;dbl&gt; | Pr(&gt;F) &lt;dbl&gt; |\n",
       "|---|---|---|---|---|---|\n",
       "| block |  1 | 16.627222 | 16.6272222 | 18.227162 | 1.089381e-03 |\n",
       "| temp |  2 | 88.254444 | 44.1272222 | 48.373325 | 1.805478e-06 |\n",
       "| pressure |  2 |  9.041111 |  4.5205556 |  4.955542 | 2.698387e-02 |\n",
       "| Residuals | 12 | 10.946667 |  0.9122222 |        NA |           NA |\n",
       "\n"
      ],
      "text/plain": [
       "          Df Sum Sq    Mean Sq    F value   Pr(>F)      \n",
       "block      1 16.627222 16.6272222 18.227162 1.089381e-03\n",
       "temp       2 88.254444 44.1272222 48.373325 1.805478e-06\n",
       "pressure   2  9.041111  4.5205556  4.955542 2.698387e-02\n",
       "Residuals 12 10.946667  0.9122222        NA           NA"
      ]
     },
     "metadata": {},
     "output_type": "display_data"
    }
   ],
   "source": [
    "chem.lm <- lm(response~block+temp+pressure,data=chem.data)\n",
    "anova(chem.lm)"
   ]
  },
  {
   "cell_type": "code",
   "execution_count": 132,
   "id": "5af8aaf8",
   "metadata": {},
   "outputs": [
    {
     "data": {
      "text/plain": [
       "\n",
       "\tShapiro-Wilk normality test\n",
       "\n",
       "data:  chem.res\n",
       "W = 0.94766, p-value = 0.3895\n"
      ]
     },
     "metadata": {},
     "output_type": "display_data"
    },
    {
     "data": {
      "text/plain": [
       "\n",
       "\tBartlett test of homogeneity of variances\n",
       "\n",
       "data:  chem.res by chem.data$block\n",
       "Bartlett's K-squared = 0.13681, df = 1, p-value = 0.7115\n"
      ]
     },
     "metadata": {},
     "output_type": "display_data"
    },
    {
     "data": {
      "text/plain": [
       "\n",
       "\tBartlett test of homogeneity of variances\n",
       "\n",
       "data:  chem.res by chem.data$temp\n",
       "Bartlett's K-squared = 2.2665, df = 2, p-value = 0.322\n"
      ]
     },
     "metadata": {},
     "output_type": "display_data"
    },
    {
     "data": {
      "text/plain": [
       "\n",
       "\tBartlett test of homogeneity of variances\n",
       "\n",
       "data:  chem.res by chem.data$pressure\n",
       "Bartlett's K-squared = 0.61708, df = 2, p-value = 0.7345\n"
      ]
     },
     "metadata": {},
     "output_type": "display_data"
    }
   ],
   "source": [
    "# 모델 적합성 검정\n",
    "chem.res <- resid(chem.lm)\n",
    "shapiro.test(chem.res)\n",
    "bartlett.test(chem.res~chem.data$block)\n",
    "bartlett.test(chem.res~chem.data$temp)\n",
    "bartlett.test(chem.res~chem.data$pressure)"
   ]
  },
  {
   "cell_type": "markdown",
   "id": "22fd117b",
   "metadata": {},
   "source": [
    "---\n",
    "---\n",
    "---"
   ]
  }
 ],
 "metadata": {
  "kernelspec": {
   "display_name": "R",
   "language": "R",
   "name": "ir"
  }
 },
 "nbformat": 4,
 "nbformat_minor": 5
}
